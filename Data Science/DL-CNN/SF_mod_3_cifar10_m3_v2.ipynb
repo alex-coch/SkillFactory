{
  "nbformat": 4,
  "nbformat_minor": 0,
  "metadata": {
    "colab": {
      "provenance": []
    },
    "kernelspec": {
      "name": "python3",
      "display_name": "Python 3"
    },
    "accelerator": "GPU"
  },
  "cells": [
    {
      "cell_type": "markdown",
      "metadata": {
        "ExecuteTime": {
          "end_time": "2017-09-03T21:05:26.096298Z",
          "start_time": "2017-09-03T21:05:26.092498Z"
        },
        "id": "QqUJpyiXeS6R"
      },
      "source": [
        "# CIFAR-10 с трюками\n",
        "\n",
        "В этом задании мы продолжим работать с CIFAR-10, опробовав трюки, про которые мы узнали в 4 модуле.\n",
        "\n",
        "Датасет CIFAR-10 состоит из цветных картинок 32x32, разделенных на 10 классов: \n",
        "\n",
        "__airplane, automobile, bird, cat, deer, dog, frog, horse, ship, truck__"
      ]
    },
    {
      "cell_type": "markdown",
      "metadata": {
        "id": "2J7GNImieS6S"
      },
      "source": [
        "# Импорты"
      ]
    },
    {
      "cell_type": "code",
      "metadata": {
        "id": "eRPloRJDGBZA",
        "colab": {
          "base_uri": "https://localhost:8080/"
        },
        "outputId": "8ae1977d-712f-458b-e7d5-f859e4ada16b"
      },
      "source": [
        "!pip install -q tensorflow==2.1"
      ],
      "execution_count": 1,
      "outputs": [
        {
          "output_type": "stream",
          "name": "stdout",
          "text": [
            "\u001b[31mERROR: Could not find a version that satisfies the requirement tensorflow==2.1 (from versions: 2.5.0, 2.5.1, 2.5.2, 2.5.3, 2.6.0rc0, 2.6.0rc1, 2.6.0rc2, 2.6.0, 2.6.1, 2.6.2, 2.6.3, 2.6.4, 2.6.5, 2.7.0rc0, 2.7.0rc1, 2.7.0, 2.7.1, 2.7.2, 2.7.3, 2.7.4, 2.8.0rc0, 2.8.0rc1, 2.8.0, 2.8.1, 2.8.2, 2.8.3, 2.8.4, 2.9.0rc0, 2.9.0rc1, 2.9.0rc2, 2.9.0, 2.9.1, 2.9.2, 2.9.3, 2.10.0rc0, 2.10.0rc1, 2.10.0rc2, 2.10.0rc3, 2.10.0, 2.10.1, 2.11.0rc0, 2.11.0rc1, 2.11.0rc2, 2.11.0, 2.11.1, 2.12.0rc0, 2.12.0rc1, 2.12.0)\u001b[0m\u001b[31m\n",
            "\u001b[0m\u001b[31mERROR: No matching distribution found for tensorflow==2.1\u001b[0m\u001b[31m\n",
            "\u001b[0m"
          ]
        }
      ]
    },
    {
      "cell_type": "code",
      "metadata": {
        "ExecuteTime": {
          "end_time": "2017-10-29T18:51:58.907479Z",
          "start_time": "2017-10-29T18:51:42.206537Z"
        },
        "scrolled": true,
        "id": "LQIUU8LdeS6d",
        "colab": {
          "base_uri": "https://localhost:8080/"
        },
        "outputId": "8037789e-c8c4-4df5-9678-7098d39cafe2"
      },
      "source": [
        "import tensorflow as tf\n",
        "import tensorflow.keras as keras\n",
        "import tensorflow.keras.models as M\n",
        "import tensorflow.keras.layers as L\n",
        "import tensorflow.keras.backend as K\n",
        "import numpy as np\n",
        "%matplotlib inline\n",
        "import matplotlib.pyplot as plt\n",
        "print(tf.__version__)\n",
        "print(keras.__version__)"
      ],
      "execution_count": 6,
      "outputs": [
        {
          "output_type": "stream",
          "name": "stdout",
          "text": [
            "2.12.0\n",
            "2.12.0\n"
          ]
        }
      ]
    },
    {
      "cell_type": "markdown",
      "metadata": {
        "id": "sGYhZCO9eS6m"
      },
      "source": [
        "# Загружаем данные"
      ]
    },
    {
      "cell_type": "code",
      "metadata": {
        "ExecuteTime": {
          "end_time": "2017-09-03T23:44:40.870302Z",
          "start_time": "2017-09-03T23:44:39.221603Z"
        },
        "id": "PGXgRLxxeS6n",
        "colab": {
          "base_uri": "https://localhost:8080/"
        },
        "outputId": "0f6e9fc3-6b64-4ecc-bbbd-025d432035fe"
      },
      "source": [
        "from tensorflow.keras.datasets import cifar10\n",
        "(x_train, y_train), (x_test, y_test) = cifar10.load_data()"
      ],
      "execution_count": 2,
      "outputs": [
        {
          "output_type": "stream",
          "name": "stdout",
          "text": [
            "Downloading data from https://www.cs.toronto.edu/~kriz/cifar-10-python.tar.gz\n",
            "170498071/170498071 [==============================] - 4s 0us/step\n"
          ]
        }
      ]
    },
    {
      "cell_type": "code",
      "metadata": {
        "ExecuteTime": {
          "end_time": "2017-09-04T00:27:41.648291Z",
          "start_time": "2017-09-04T00:27:41.644322Z"
        },
        "id": "x7J3FtvBeS6r",
        "colab": {
          "base_uri": "https://localhost:8080/"
        },
        "outputId": "98bdb240-4f78-452f-aac4-f521171f3a96"
      },
      "source": [
        "print(\"Трейн:\", x_train.shape, y_train.shape)\n",
        "print(\"Тест:\", x_test.shape, y_test.shape)"
      ],
      "execution_count": 3,
      "outputs": [
        {
          "output_type": "stream",
          "name": "stdout",
          "text": [
            "Трейн: (50000, 32, 32, 3) (50000, 1)\n",
            "Тест: (10000, 32, 32, 3) (10000, 1)\n"
          ]
        }
      ]
    },
    {
      "cell_type": "code",
      "metadata": {
        "ExecuteTime": {
          "end_time": "2017-09-03T23:44:41.009639Z",
          "start_time": "2017-09-03T23:44:40.877013Z"
        },
        "id": "kA2RHYeveS6u"
      },
      "source": [
        "NUM_CLASSES = 10\n",
        "cifar10_classes = [\"airplane\", \"automobile\", \"bird\", \"cat\", \"deer\", \n",
        "                   \"dog\", \"frog\", \"horse\", \"ship\", \"truck\"]"
      ],
      "execution_count": 4,
      "outputs": []
    },
    {
      "cell_type": "code",
      "metadata": {
        "ExecuteTime": {
          "end_time": "2017-09-03T23:44:42.285830Z",
          "start_time": "2017-09-03T23:44:41.011216Z"
        },
        "id": "yfavHnQyeS6x",
        "colab": {
          "base_uri": "https://localhost:8080/",
          "height": 351
        },
        "outputId": "c2995c3f-090b-4400-83cd-317be0045978"
      },
      "source": [
        "# посмотрим на примеры картинок\n",
        "cols = 8\n",
        "rows = 2\n",
        "fig = plt.figure(figsize=(2 * cols - 1, 2.5 * rows - 1))\n",
        "for i in range(cols):\n",
        "    for j in range(rows):\n",
        "        random_index = np.random.randint(0, len(y_train))\n",
        "        ax = fig.add_subplot(rows, cols, i * rows + j + 1)\n",
        "        ax.grid('off')\n",
        "        ax.axis('off')\n",
        "        ax.imshow(x_train[random_index, :])\n",
        "        ax.set_title(cifar10_classes[y_train[random_index, 0]])\n",
        "plt.show()"
      ],
      "execution_count": 7,
      "outputs": [
        {
          "output_type": "display_data",
          "data": {
            "text/plain": [
              "<Figure size 1500x400 with 16 Axes>"
            ],
            "image/png": "[encoded data removed]"
          },
          "metadata": {}
        }
      ]
    },
    {
      "cell_type": "markdown",
      "metadata": {
        "id": "nKv-XBsneS61"
      },
      "source": [
        "# Готовим данные"
      ]
    },
    {
      "cell_type": "markdown",
      "metadata": {
        "id": "baNUrgH_eS61"
      },
      "source": [
        "Не забудьте нормализовать картинки: $$x_{norm} = \\frac{x}{255} - 0.5$$\n",
        "\n",
        "А еще нужно превратить метки в one-hot вектора при помощи __keras.utils.to_categorical__."
      ]
    },
    {
      "cell_type": "code",
      "metadata": {
        "ExecuteTime": {
          "end_time": "2017-09-04T00:25:55.504781Z",
          "start_time": "2017-09-04T00:25:55.500823Z"
        },
        "id": "ibxYQzBNeS62"
      },
      "source": [
        "# нормализуем входы\n",
        "x_train2 = x_train.astype('float32') / 255 - 0.5\n",
        "x_test2 = x_test.astype('float32') / 255 - 0.5\n",
        "\n",
        "# конвертируем метки в np.array (?, NUM_CLASSES)\n",
        "y_train2 = keras.utils.to_categorical(y_train, NUM_CLASSES)\n",
        "y_test2 = keras.utils.to_categorical(y_test, NUM_CLASSES)"
      ],
      "execution_count": 8,
      "outputs": []
    },
    {
      "cell_type": "markdown",
      "metadata": {
        "id": "-HfEuXTOeS65"
      },
      "source": [
        "# Задаем *дефолтную* архитектуру сети"
      ]
    },
    {
      "cell_type": "code",
      "metadata": {
        "ExecuteTime": {
          "end_time": "2017-08-24T11:39:23.631230Z",
          "start_time": "2017-08-24T11:39:23.627975Z"
        },
        "id": "UbVJNxDweS66"
      },
      "source": [
        "# слои, которые нам пригодятся\n",
        "from tensorflow.keras.models import Sequential\n",
        "from tensorflow.keras.layers import Conv2D, MaxPooling2D, Flatten, Dense, Dropout, BatchNormalization"
      ],
      "execution_count": 9,
      "outputs": []
    },
    {
      "cell_type": "markdown",
      "metadata": {
        "id": "z-aSooUceS69"
      },
      "source": [
        "Нам понадобятся такие слои:\n",
        "- [Conv2D](https://keras.io/layers/convolutional/#conv2d) - сверточный слой:\n",
        "    - **filters**: количество фильтров на выходе; \n",
        "    - **kernel_size**: размер скользящего окна;\n",
        "    - **padding**: padding=\"same\" добивает нулями, чтобы ширина и высота на выходе не изменились, padding='valid' берет только окна, которые полностью помещаются в картинке;\n",
        "    - **activation**: \"relu\", \"tanh\", итд;\n",
        "    - **input_shape**: размер входа вида (W, H, C_in).\n",
        "- [MaxPooling2D](https://keras.io/layers/pooling/#maxpooling2d) - пулинг\n",
        "- [Flatten](https://keras.io/layers/core/#flatten) - все оси, кроме батча (первой) вытягиваются в один вектор.\n",
        "- [Dense](https://keras.io/layers/core/#dense) - плотный, активацию можно задать через activation=\"elu\" или activation=\"softmax\".\n",
        "- [Dropout](https://keras.io/layers/core/#dropout) - дропаут регуляризация (без нее сеть сильно переобучается), позже узнаем какой у нее смысл."
      ]
    },
    {
      "cell_type": "markdown",
      "metadata": {
        "ExecuteTime": {
          "end_time": "2017-09-03T23:48:59.567910Z",
          "start_time": "2017-09-03T23:48:59.564449Z"
        },
        "id": "ZArk-HgHeS69"
      },
      "source": [
        "Ваша модель должна принимать на вход цветную картинку __(None, 32, 32, 3)__ и предсказывать вероятности 10 классов __(None, 10)__.\n",
        "\n",
        "Добавьте __4__ сверточных слоя с окном __(3, 3)__ с нарастающим количеством фильтров: __(16, 32, 32, 64)__, используйте \"same\" паддинг.\n",
        "\n",
        "Добавьте __2x2__ макс пулинг после каждых 2 сверточных слоев (conv-conv-pool схема).\n",
        "\n",
        "Используйте __activation='relu'__ для всех слоев, где это нужно.\n",
        "\n",
        "Добавьте плотный слой из __256__ нейронов и еще один из __10__ нейронов для предсказания выходов. Не забудьте применить __Flatten__ перед первым плотным слоем!\n",
        "\n",
        "Для регуляризации сети вставьте Dropout после каждого пулинг слоя (с параметром** 0.25**) и между плотными слоями на выходе (с параметром **0.5**).\n",
        "\n",
        "В дальнейшем будем называть эту архитектуру **дефолтной** и будем исследовать небольшие изменения в ней!"
      ]
    },
    {
      "cell_type": "code",
      "metadata": {
        "ExecuteTime": {
          "end_time": "2017-08-24T11:39:23.739649Z",
          "start_time": "2017-08-24T11:39:23.632558Z"
        },
        "id": "KBdc7NJgeS6-"
      },
      "source": [
        "img_shape = (32, 32, 3)\n",
        "# num_classes = 10\n",
        "def make_default_model():\n",
        "    model = Sequential([\n",
        "        keras.Input(shape = img_shape),\n",
        "        keras.layers.Conv2D(16, (3, 3), activation = 'relu', padding='same'),\n",
        "        keras.layers.Conv2D(32, (3, 3), activation = 'relu', padding='same'),\n",
        "        keras.layers.MaxPooling2D(),\n",
        "        keras.layers.Dropout(0.25),\n",
        "        keras.layers.Conv2D(32, (3, 3), activation = 'relu', padding='same'),\n",
        "        keras.layers.Conv2D(64, (3, 3), activation = 'relu', padding='same'),\n",
        "        keras.layers.MaxPooling2D(),\n",
        "        keras.layers.Dropout(0.25),\n",
        "        keras.layers.Flatten(),\n",
        "        keras.layers.Dense(256, activation = 'relu'),\n",
        "        keras.layers.Dropout(0.5),\n",
        "        keras.layers.Dense(num_classes, activation = 'softmax')\n",
        "    ])\n",
        "    \n",
        "    return model"
      ],
      "execution_count": 11,
      "outputs": []
    },
    {
      "cell_type": "code",
      "metadata": {
        "ExecuteTime": {
          "end_time": "2017-08-24T11:39:23.948546Z",
          "start_time": "2017-08-24T11:39:23.741012Z"
        },
        "id": "Ho-m53kLeS7A",
        "outputId": "b77440e3-da5b-486e-9933-81d49ce5277c",
        "colab": {
          "base_uri": "https://localhost:8080/"
        }
      },
      "source": [
        "K.clear_session()\n",
        "model = make_default_model()\n",
        "model.summary()"
      ],
      "execution_count": 12,
      "outputs": [
        {
          "output_type": "stream",
          "name": "stdout",
          "text": [
            "Model: \"sequential\"\n",
            "_________________________________________________________________\n",
            " Layer (type)                Output Shape              Param #   \n",
            "=================================================================\n",
            " conv2d (Conv2D)             (None, 32, 32, 16)        448       \n",
            "                                                                 \n",
            " conv2d_1 (Conv2D)           (None, 32, 32, 32)        4640      \n",
            "                                                                 \n",
            " max_pooling2d (MaxPooling2D  (None, 16, 16, 32)       0         \n",
            " )                                                               \n",
            "                                                                 \n",
            " dropout (Dropout)           (None, 16, 16, 32)        0         \n",
            "                                                                 \n",
            " conv2d_2 (Conv2D)           (None, 16, 16, 32)        9248      \n",
            "                                                                 \n",
            " conv2d_3 (Conv2D)           (None, 16, 16, 64)        18496     \n",
            "                                                                 \n",
            " max_pooling2d_1 (MaxPooling  (None, 8, 8, 64)         0         \n",
            " 2D)                                                             \n",
            "                                                                 \n",
            " dropout_1 (Dropout)         (None, 8, 8, 64)          0         \n",
            "                                                                 \n",
            " flatten (Flatten)           (None, 4096)              0         \n",
            "                                                                 \n",
            " dense (Dense)               (None, 256)               1048832   \n",
            "                                                                 \n",
            " dropout_2 (Dropout)         (None, 256)               0         \n",
            "                                                                 \n",
            " dense_1 (Dense)             (None, 10)                2570      \n",
            "                                                                 \n",
            "=================================================================\n",
            "Total params: 1,084,234\n",
            "Trainable params: 1,084,234\n",
            "Non-trainable params: 0\n",
            "_________________________________________________________________\n"
          ]
        }
      ]
    },
    {
      "cell_type": "markdown",
      "metadata": {
        "id": "H8IHeJHzeS7P"
      },
      "source": [
        "# Тренируем модель"
      ]
    },
    {
      "cell_type": "code",
      "metadata": {
        "ExecuteTime": {
          "end_time": "2017-08-24T12:18:39.059726Z",
          "start_time": "2017-08-24T11:39:23.949926Z"
        },
        "id": "Ko6qjH2HeS7Q"
      },
      "source": [
        "def train_model(make_model_func=make_default_model, optimizer=\"adam\"):\n",
        "  BATCH_SIZE = 32\n",
        "  EPOCHS = 10\n",
        "\n",
        "  K.clear_session()\n",
        "  model = make_model_func()\n",
        "\n",
        "  model.compile(\n",
        "      loss='categorical_crossentropy',\n",
        "      optimizer=optimizer,\n",
        "      metrics=['accuracy']\n",
        "  )\n",
        "\n",
        "  model.fit(\n",
        "      x_train2, y_train2,  # нормализованные данные\n",
        "      batch_size=BATCH_SIZE,\n",
        "      epochs=EPOCHS,\n",
        "      validation_data=(x_test2, y_test2),\n",
        "      shuffle=False\n",
        "  )\n",
        "  \n",
        "  return model"
      ],
      "execution_count": 13,
      "outputs": []
    },
    {
      "cell_type": "markdown",
      "metadata": {
        "id": "1AkfrVmdA6AP"
      },
      "source": [
        "Давайте посмотрим, что будет с дефолтной моделью (модель = make_default_model, оптимайзер = \"adam\"), если ее немного поменять:\n",
        "\n",
        "\n",
        "Часть 1 :\n",
        "1.   Какое качество (accuracy) на валидации дает **дефолтная архитектура**?\n",
        "\n",
        "Часть 2:\n",
        "2.   Измените в дефолтной архитектуре **relu активацию на sigmoid**, какое качество на валидации получили?\n",
        "3.   Измените в дефолтной архитектуре **adam оптимайзер на sgd**, какое качество на валидации получили?\n",
        "4.   Добавьте к дефолтной архитектуре **батч нормализацию** после каждого сверточного слоя и после перового полносвязного (model.add(BatchNormalization())), какое качество на валидации получили?\n",
        "5.   Добавьте к дефолтной архитектуре **батч нормализацию** и смените **relu активацию на sigmoid**,  какое качество на валидации получили?\n",
        "  \n",
        "*Рекомендуется завести свою функцию для каждого изменения архитектуры!*\n"
      ]
    },
    {
      "cell_type": "code",
      "metadata": {
        "id": "2zS3rW7S_D6j",
        "outputId": "86bb4857-68ce-4294-83b0-986961ad7f9b",
        "colab": {
          "base_uri": "https://localhost:8080/"
        }
      },
      "source": [
        "# учим дефолтную архитектуру\n",
        "train_model()"
      ],
      "execution_count": 14,
      "outputs": [
        {
          "output_type": "stream",
          "name": "stdout",
          "text": [
            "Epoch 1/10\n",
            "1563/1563 [==============================] - 21s 6ms/step - loss: 1.4951 - accuracy: 0.4555 - val_loss: 1.0953 - val_accuracy: 0.6110\n",
            "Epoch 2/10\n",
            "1563/1563 [==============================] - 9s 6ms/step - loss: 1.1109 - accuracy: 0.6035 - val_loss: 0.8861 - val_accuracy: 0.6831\n",
            "Epoch 3/10\n",
            "1563/1563 [==============================] - 9s 6ms/step - loss: 0.9595 - accuracy: 0.6601 - val_loss: 0.8268 - val_accuracy: 0.7065\n",
            "Epoch 4/10\n",
            "1563/1563 [==============================] - 9s 6ms/step - loss: 0.8719 - accuracy: 0.6933 - val_loss: 0.7690 - val_accuracy: 0.7297\n",
            "Epoch 5/10\n",
            "1563/1563 [==============================] - 9s 6ms/step - loss: 0.8038 - accuracy: 0.7163 - val_loss: 0.7449 - val_accuracy: 0.7382\n",
            "Epoch 6/10\n",
            "1563/1563 [==============================] - 9s 6ms/step - loss: 0.7557 - accuracy: 0.7341 - val_loss: 0.7654 - val_accuracy: 0.7326\n",
            "Epoch 7/10\n",
            "1563/1563 [==============================] - 9s 6ms/step - loss: 0.7131 - accuracy: 0.7480 - val_loss: 0.7333 - val_accuracy: 0.7494\n",
            "Epoch 8/10\n",
            "1563/1563 [==============================] - 9s 5ms/step - loss: 0.6813 - accuracy: 0.7589 - val_loss: 0.7276 - val_accuracy: 0.7534\n",
            "Epoch 9/10\n",
            "1563/1563 [==============================] - 9s 6ms/step - loss: 0.6501 - accuracy: 0.7692 - val_loss: 0.7168 - val_accuracy: 0.7586\n",
            "Epoch 10/10\n",
            "1563/1563 [==============================] - 9s 6ms/step - loss: 0.6196 - accuracy: 0.7803 - val_loss: 0.7005 - val_accuracy: 0.7593\n"
          ]
        },
        {
          "output_type": "execute_result",
          "data": {
            "text/plain": [
              "<keras.engine.sequential.Sequential at 0x7f68481183a0>"
            ]
          },
          "metadata": {},
          "execution_count": 14
        }
      ]
    },
    {
      "cell_type": "code",
      "metadata": {
        "id": "Ys7J_92qHYVN"
      },
      "source": [
        "def make_sigmoid_model():\n",
        "        model = Sequential([\n",
        "        keras.Input(shape = img_shape),\n",
        "        keras.layers.Conv2D(16, (3, 3), activation = 'sigmoid', padding='same'),\n",
        "        keras.layers.Conv2D(32, (3, 3), activation = 'sigmoid', padding='same'),\n",
        "        keras.layers.MaxPooling2D(),\n",
        "        keras.layers.Dropout(0.25),\n",
        "        keras.layers.Conv2D(32, (3, 3), activation = 'sigmoid', padding='same'),\n",
        "        keras.layers.Conv2D(64, (3, 3), activation = 'sigmoid', padding='same'),\n",
        "        keras.layers.MaxPooling2D(),\n",
        "        keras.layers.Dropout(0.25),\n",
        "        keras.layers.Flatten(),\n",
        "        keras.layers.Dense(256, activation = 'sigmoid'),\n",
        "        keras.layers.Dropout(0.5),\n",
        "        keras.layers.Dense(num_classes, activation = 'softmax')\n",
        "        ])\n",
        "    \n",
        "        return model"
      ],
      "execution_count": 17,
      "outputs": []
    },
    {
      "cell_type": "code",
      "metadata": {
        "id": "W9lWbYckHwnU",
        "outputId": "82cef3cc-a596-44d5-ffca-4d0fc070d7cf",
        "colab": {
          "base_uri": "https://localhost:8080/"
        }
      },
      "source": [
        "# учим sigmoid\n",
        "train_model(make_sigmoid_model)"
      ],
      "execution_count": 18,
      "outputs": [
        {
          "output_type": "stream",
          "name": "stdout",
          "text": [
            "Epoch 1/10\n",
            "1563/1563 [==============================] - 12s 6ms/step - loss: 2.3163 - accuracy: 0.0972 - val_loss: 2.3026 - val_accuracy: 0.1000\n",
            "Epoch 2/10\n",
            "1563/1563 [==============================] - 8s 5ms/step - loss: 2.3030 - accuracy: 0.0957 - val_loss: 2.3038 - val_accuracy: 0.1000\n",
            "Epoch 3/10\n",
            "1563/1563 [==============================] - 9s 6ms/step - loss: 2.3065 - accuracy: 0.0978 - val_loss: 2.3059 - val_accuracy: 0.1000\n",
            "Epoch 4/10\n",
            "1563/1563 [==============================] - 9s 6ms/step - loss: 2.3049 - accuracy: 0.0994 - val_loss: 2.3037 - val_accuracy: 0.1000\n",
            "Epoch 5/10\n",
            "1563/1563 [==============================] - 9s 6ms/step - loss: 2.3048 - accuracy: 0.0974 - val_loss: 2.3036 - val_accuracy: 0.1000\n",
            "Epoch 6/10\n",
            "1563/1563 [==============================] - 9s 6ms/step - loss: 2.3046 - accuracy: 0.0975 - val_loss: 2.3033 - val_accuracy: 0.1000\n",
            "Epoch 7/10\n",
            "1563/1563 [==============================] - 9s 6ms/step - loss: 2.3045 - accuracy: 0.0984 - val_loss: 2.3035 - val_accuracy: 0.1000\n",
            "Epoch 8/10\n",
            "1563/1563 [==============================] - 9s 6ms/step - loss: 2.3044 - accuracy: 0.1009 - val_loss: 2.3041 - val_accuracy: 0.1000\n",
            "Epoch 9/10\n",
            "1563/1563 [==============================] - 9s 6ms/step - loss: 2.3046 - accuracy: 0.0990 - val_loss: 2.3035 - val_accuracy: 0.1000\n",
            "Epoch 10/10\n",
            "1563/1563 [==============================] - 9s 6ms/step - loss: 2.3046 - accuracy: 0.0992 - val_loss: 2.3036 - val_accuracy: 0.1000\n"
          ]
        },
        {
          "output_type": "execute_result",
          "data": {
            "text/plain": [
              "<keras.engine.sequential.Sequential at 0x7f683063dee0>"
            ]
          },
          "metadata": {},
          "execution_count": 18
        }
      ]
    },
    {
      "cell_type": "code",
      "metadata": {
        "id": "aIlCmlnNH7d1",
        "outputId": "d12194ec-2cf5-447c-dd38-0ca7aef90af6",
        "colab": {
          "base_uri": "https://localhost:8080/"
        }
      },
      "source": [
        "# учим sgd\n",
        "train_model(optimizer=\"sgd\")"
      ],
      "execution_count": 19,
      "outputs": [
        {
          "output_type": "stream",
          "name": "stdout",
          "text": [
            "Epoch 1/10\n",
            "1563/1563 [==============================] - 11s 6ms/step - loss: 2.0421 - accuracy: 0.2520 - val_loss: 1.7151 - val_accuracy: 0.3937\n",
            "Epoch 2/10\n",
            "1563/1563 [==============================] - 9s 6ms/step - loss: 1.6682 - accuracy: 0.3927 - val_loss: 1.5064 - val_accuracy: 0.4538\n",
            "Epoch 3/10\n",
            "1563/1563 [==============================] - 9s 6ms/step - loss: 1.4999 - accuracy: 0.4559 - val_loss: 1.3300 - val_accuracy: 0.5180\n",
            "Epoch 4/10\n",
            "1563/1563 [==============================] - 10s 6ms/step - loss: 1.3806 - accuracy: 0.5022 - val_loss: 1.2510 - val_accuracy: 0.5515\n",
            "Epoch 5/10\n",
            "1563/1563 [==============================] - 9s 6ms/step - loss: 1.2917 - accuracy: 0.5377 - val_loss: 1.1787 - val_accuracy: 0.5773\n",
            "Epoch 6/10\n",
            "1563/1563 [==============================] - 8s 5ms/step - loss: 1.2225 - accuracy: 0.5609 - val_loss: 1.0949 - val_accuracy: 0.6082\n",
            "Epoch 7/10\n",
            "1563/1563 [==============================] - 8s 5ms/step - loss: 1.1579 - accuracy: 0.5881 - val_loss: 1.0582 - val_accuracy: 0.6209\n",
            "Epoch 8/10\n",
            "1563/1563 [==============================] - 9s 6ms/step - loss: 1.1059 - accuracy: 0.6082 - val_loss: 1.0040 - val_accuracy: 0.6402\n",
            "Epoch 9/10\n",
            "1563/1563 [==============================] - 9s 6ms/step - loss: 1.0611 - accuracy: 0.6224 - val_loss: 0.9538 - val_accuracy: 0.6626\n",
            "Epoch 10/10\n",
            "1563/1563 [==============================] - 8s 5ms/step - loss: 1.0192 - accuracy: 0.6391 - val_loss: 0.9318 - val_accuracy: 0.6703\n"
          ]
        },
        {
          "output_type": "execute_result",
          "data": {
            "text/plain": [
              "<keras.engine.sequential.Sequential at 0x7f68303066d0>"
            ]
          },
          "metadata": {},
          "execution_count": 19
        }
      ]
    },
    {
      "cell_type": "code",
      "metadata": {
        "id": "2VFLuNi4ILXN"
      },
      "source": [
        "def make_bn_model():\n",
        "    model = Sequential([\n",
        "        keras.Input(shape = img_shape),\n",
        "        keras.layers.Conv2D(16, (3, 3), activation = 'relu', padding='same'),\n",
        "        keras.layers.BatchNormalization(),\n",
        "        keras.layers.Conv2D(32, (3, 3), activation = 'relu', padding='same'),\n",
        "        keras.layers.BatchNormalization(),\n",
        "        keras.layers.MaxPooling2D(),\n",
        "        keras.layers.Dropout(0.25),\n",
        "        keras.layers.Conv2D(32, (3, 3), activation = 'relu', padding='same'),\n",
        "        keras.layers.BatchNormalization(),\n",
        "        keras.layers.Conv2D(64, (3, 3), activation = 'relu', padding='same'),\n",
        "        keras.layers.BatchNormalization(),\n",
        "        keras.layers.MaxPooling2D(),\n",
        "        keras.layers.Dropout(0.25),\n",
        "        keras.layers.Flatten(),\n",
        "        keras.layers.Dense(256, activation = 'relu'),\n",
        "        keras.layers.BatchNormalization(),\n",
        "        keras.layers.Dropout(0.5),\n",
        "        keras.layers.Dense(num_classes, activation = 'softmax')\n",
        "    ])\n",
        "    \n",
        "    return model"
      ],
      "execution_count": 20,
      "outputs": []
    },
    {
      "cell_type": "code",
      "metadata": {
        "id": "8xX0p3Z0IiA3",
        "outputId": "ecbc8ec7-cfa7-40b1-930e-e03684d5f5fd",
        "colab": {
          "base_uri": "https://localhost:8080/"
        }
      },
      "source": [
        "# учим bn\n",
        "train_model(make_bn_model)"
      ],
      "execution_count": 21,
      "outputs": [
        {
          "output_type": "stream",
          "name": "stdout",
          "text": [
            "Epoch 1/10\n",
            "1563/1563 [==============================] - 16s 8ms/step - loss: 1.4547 - accuracy: 0.4980 - val_loss: 1.0123 - val_accuracy: 0.6390\n",
            "Epoch 2/10\n",
            "1563/1563 [==============================] - 11s 7ms/step - loss: 1.0216 - accuracy: 0.6403 - val_loss: 0.8493 - val_accuracy: 0.7048\n",
            "Epoch 3/10\n",
            "1563/1563 [==============================] - 12s 7ms/step - loss: 0.8959 - accuracy: 0.6846 - val_loss: 0.7612 - val_accuracy: 0.7301\n",
            "Epoch 4/10\n",
            "1563/1563 [==============================] - 14s 9ms/step - loss: 0.8025 - accuracy: 0.7207 - val_loss: 0.6977 - val_accuracy: 0.7559\n",
            "Epoch 5/10\n",
            "1563/1563 [==============================] - 13s 8ms/step - loss: 0.7353 - accuracy: 0.7442 - val_loss: 0.6736 - val_accuracy: 0.7616\n",
            "Epoch 6/10\n",
            "1563/1563 [==============================] - 13s 8ms/step - loss: 0.6711 - accuracy: 0.7655 - val_loss: 0.6359 - val_accuracy: 0.7783\n",
            "Epoch 7/10\n",
            "1563/1563 [==============================] - 12s 8ms/step - loss: 0.6275 - accuracy: 0.7788 - val_loss: 0.6102 - val_accuracy: 0.7899\n",
            "Epoch 8/10\n",
            "1563/1563 [==============================] - 11s 7ms/step - loss: 0.5830 - accuracy: 0.7943 - val_loss: 0.6095 - val_accuracy: 0.7907\n",
            "Epoch 9/10\n",
            "1563/1563 [==============================] - 12s 8ms/step - loss: 0.5467 - accuracy: 0.8059 - val_loss: 0.6014 - val_accuracy: 0.7940\n",
            "Epoch 10/10\n",
            "1563/1563 [==============================] - 12s 8ms/step - loss: 0.5149 - accuracy: 0.8175 - val_loss: 0.5995 - val_accuracy: 0.7962\n"
          ]
        },
        {
          "output_type": "execute_result",
          "data": {
            "text/plain": [
              "<keras.engine.sequential.Sequential at 0x7f68380fe040>"
            ]
          },
          "metadata": {},
          "execution_count": 21
        }
      ]
    },
    {
      "cell_type": "code",
      "metadata": {
        "id": "eXaGmu8XIkhk"
      },
      "source": [
        "def make_sigmoid_bn_model():\n",
        "    model = Sequential([\n",
        "        keras.Input(shape = img_shape),\n",
        "        keras.layers.Conv2D(16, (3, 3), activation = 'sigmoid', padding='same'),\n",
        "        keras.layers.BatchNormalization(),\n",
        "        keras.layers.Conv2D(32, (3, 3), activation = 'sigmoid', padding='same'),\n",
        "        keras.layers.BatchNormalization(),\n",
        "        keras.layers.MaxPooling2D(),\n",
        "        keras.layers.Dropout(0.25),\n",
        "        keras.layers.Conv2D(32, (3, 3), activation = 'sigmoid', padding='same'),\n",
        "        keras.layers.BatchNormalization(),\n",
        "        keras.layers.Conv2D(64, (3, 3), activation = 'sigmoid', padding='same'),\n",
        "        keras.layers.BatchNormalization(),\n",
        "        keras.layers.MaxPooling2D(),\n",
        "        keras.layers.Dropout(0.25),\n",
        "        keras.layers.Flatten(),\n",
        "        keras.layers.Dense(256, activation = 'sigmoid'),\n",
        "        keras.layers.BatchNormalization(),\n",
        "        keras.layers.Dropout(0.5),\n",
        "        keras.layers.Dense(num_classes, activation = 'softmax')\n",
        "    ])\n",
        "    \n",
        "    return model"
      ],
      "execution_count": 22,
      "outputs": []
    },
    {
      "cell_type": "code",
      "metadata": {
        "id": "9sp7EOkvLAkR",
        "outputId": "4d8a08b1-ea38-4840-9bed-675ecc9402ae",
        "colab": {
          "base_uri": "https://localhost:8080/"
        }
      },
      "source": [
        "# учим sigmoid + bn\n",
        "train_model(make_sigmoid_bn_model)"
      ],
      "execution_count": 23,
      "outputs": [
        {
          "output_type": "stream",
          "name": "stdout",
          "text": [
            "Epoch 1/10\n",
            "1563/1563 [==============================] - 17s 8ms/step - loss: 1.6052 - accuracy: 0.4350 - val_loss: 1.2797 - val_accuracy: 0.5460\n",
            "Epoch 2/10\n",
            "1563/1563 [==============================] - 12s 7ms/step - loss: 1.2248 - accuracy: 0.5677 - val_loss: 1.1060 - val_accuracy: 0.6112\n",
            "Epoch 3/10\n",
            "1563/1563 [==============================] - 11s 7ms/step - loss: 1.1045 - accuracy: 0.6104 - val_loss: 1.0149 - val_accuracy: 0.6495\n",
            "Epoch 4/10\n",
            "1563/1563 [==============================] - 12s 7ms/step - loss: 1.0161 - accuracy: 0.6442 - val_loss: 0.9517 - val_accuracy: 0.6706\n",
            "Epoch 5/10\n",
            "1563/1563 [==============================] - 12s 7ms/step - loss: 0.9418 - accuracy: 0.6704 - val_loss: 0.8900 - val_accuracy: 0.6917\n",
            "Epoch 6/10\n",
            "1563/1563 [==============================] - 12s 7ms/step - loss: 0.8949 - accuracy: 0.6869 - val_loss: 0.8537 - val_accuracy: 0.7065\n",
            "Epoch 7/10\n",
            "1563/1563 [==============================] - 12s 8ms/step - loss: 0.8565 - accuracy: 0.7003 - val_loss: 0.8317 - val_accuracy: 0.7162\n",
            "Epoch 8/10\n",
            "1563/1563 [==============================] - 11s 7ms/step - loss: 0.8175 - accuracy: 0.7123 - val_loss: 0.8249 - val_accuracy: 0.7209\n",
            "Epoch 9/10\n",
            "1563/1563 [==============================] - 12s 8ms/step - loss: 0.7879 - accuracy: 0.7247 - val_loss: 0.7491 - val_accuracy: 0.7428\n",
            "Epoch 10/10\n",
            "1563/1563 [==============================] - 12s 8ms/step - loss: 0.7649 - accuracy: 0.7331 - val_loss: 0.8455 - val_accuracy: 0.7187\n"
          ]
        },
        {
          "output_type": "execute_result",
          "data": {
            "text/plain": [
              "<keras.engine.sequential.Sequential at 0x7f67bab368b0>"
            ]
          },
          "metadata": {},
          "execution_count": 23
        }
      ]
    }
  ]
}