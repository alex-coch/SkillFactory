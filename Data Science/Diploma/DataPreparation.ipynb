{
 "cells": [
  {
   "cell_type": "code",
   "execution_count": 1,
   "id": "74aa2d65",
   "metadata": {},
   "outputs": [],
   "source": [
    "# Подключаем необходимые библиотеки и делаем общие настройки\n",
    "import warnings\n",
    "warnings.filterwarnings(\"ignore\")\n",
    "\n",
    "import pandas as pd\n",
    "pd.options.mode.copy_on_write = True\n",
    "\n",
    "from tqdm import tqdm\n",
    "from datetime import datetime\n",
    "from external_functions import new_feature_by_user, new_feature_by_item, get_model_input \n",
    "import json"
   ]
  },
  {
   "cell_type": "code",
   "execution_count": 2,
   "id": "676d24d1",
   "metadata": {},
   "outputs": [],
   "source": [
    "# Загрузим данные из events.csv \n",
    "df_events = pd.read_csv('events.csv')"
   ]
  },
  {
   "cell_type": "code",
   "execution_count": 3,
   "id": "b45612bd",
   "metadata": {},
   "outputs": [],
   "source": [
    "# (1) Удалим дубликаты, если они есть\n",
    "df_events.drop_duplicates(inplace=True)"
   ]
  },
  {
   "cell_type": "code",
   "execution_count": 4,
   "id": "e16d0d59",
   "metadata": {
    "scrolled": false
   },
   "outputs": [
    {
     "name": "stdout",
     "output_type": "stream",
     "text": [
      "Записей в рабочем датасете: 2755641\n",
      "Уникальных пользователей: 1407580\n",
      "Уникальных товаров: 235061\n"
     ]
    }
   ],
   "source": [
    "# Статистика по датасету\n",
    "print('Записей в рабочем датасете:', df_events.shape[0])\n",
    "print('Уникальных пользователей:', df_events['visitorid'].nunique())\n",
    "print('Уникальных товаров:', df_events['itemid'].nunique())"
   ]
  },
  {
   "cell_type": "code",
   "execution_count": 5,
   "id": "ec8a8bec",
   "metadata": {},
   "outputs": [],
   "source": [
    "# (2) Преобразуем временной признак в долее удобный для дальнейшей обработки формат\n",
    "df_events['timestamp'] = pd.to_datetime(df_events['timestamp'], unit='ms')"
   ]
  },
  {
   "cell_type": "code",
   "execution_count": 6,
   "id": "b3c678d5",
   "metadata": {},
   "outputs": [],
   "source": [
    "# (3) Удалим признак transactionid, как не информативный в нашем случае\n",
    "df_events.drop(['transactionid'], axis=1, inplace=True)"
   ]
  },
  {
   "cell_type": "code",
   "execution_count": 7,
   "id": "ae4e20c8",
   "metadata": {},
   "outputs": [
    {
     "data": {
      "text/plain": [
       "0    2664218\n",
       "1      91423\n",
       "Name: event, dtype: int64"
      ]
     },
     "execution_count": 7,
     "metadata": {},
     "output_type": "execute_result"
    }
   ],
   "source": [
    "# (4) В признаке event сделаем продажи и корзину как 1\n",
    "event_dic = {'view':0, 'addtocart':1, 'transaction':1}\n",
    "df_events['event'] = df_events['event'].apply(lambda x: event_dic[x])\n",
    "df_events['event'].value_counts()"
   ]
  },
  {
   "cell_type": "code",
   "execution_count": 8,
   "id": "5a16748b",
   "metadata": {},
   "outputs": [],
   "source": [
    "# (5) Подготовим части датасета на основе временного признака, для дальнейшего формирования из них выбороки для модели\n",
    "start = min(df_events['timestamp'])\n",
    "end = max(df_events['timestamp'])\n",
    "interval = end - start\n",
    "\n",
    "df_1 = df_events[df_events['timestamp'] < (end - interval/2)]\n",
    "df_2 = df_events[df_events['timestamp'] >= (end - interval/2)]\n",
    "\n",
    "df_target_user = set(df_1['visitorid']) & set(df_2['visitorid'])"
   ]
  },
  {
   "cell_type": "code",
   "execution_count": 9,
   "id": "0ff55d94",
   "metadata": {},
   "outputs": [
    {
     "name": "stderr",
     "output_type": "stream",
     "text": [
      "100%|█████████████████████████████████████████████████████████████████████████| 712466/712466 [52:42<00:00, 225.30it/s]\n",
      "100%|█████████████████████████████████████████████████████████████████████████| 176735/176735 [12:49<00:00, 229.78it/s]\n"
     ]
    }
   ],
   "source": [
    "# (6) Формируем выборки с новыми признаками для частей датасета раздельно по пользователям и товарам (1 ч. 5 мин)\n",
    "df_1_u = new_feature_by_user(df_1)\n",
    "df_1_i = new_feature_by_item(df_1)"
   ]
  },
  {
   "cell_type": "code",
   "execution_count": 10,
   "id": "449c69f0",
   "metadata": {},
   "outputs": [],
   "source": [
    "# (7) Сформируем выборки, необходимые для передачи модели\n",
    "X_df, y_df, query_list_df = get_model_input(df_1_u, df_1_i, df_2, df_target_user)"
   ]
  },
  {
   "cell_type": "code",
   "execution_count": 11,
   "id": "ceb92961",
   "metadata": {},
   "outputs": [],
   "source": [
    "# Сохраним входные данные для предсказаний во внешний файл\n",
    "X_df.to_csv('data_to_predict.csv')"
   ]
  },
  {
   "cell_type": "code",
   "execution_count": 12,
   "id": "ae0a6861",
   "metadata": {},
   "outputs": [],
   "source": [
    "# Сохраним данные c реальными действиями пользователей во внешний файл\n",
    "y_df.to_csv('data_to_metric.csv')"
   ]
  },
  {
   "cell_type": "code",
   "execution_count": 13,
   "id": "11e27813",
   "metadata": {},
   "outputs": [],
   "source": [
    "# Выделим Топ-3 товаров для добавки в итог рекомендаций, при недостаке значений в предсказании\n",
    "top3_items = list(df_events[df_events['event'] == 1]['itemid'].value_counts().index[:3])"
   ]
  },
  {
   "cell_type": "code",
   "execution_count": 14,
   "id": "bda8dd3b",
   "metadata": {},
   "outputs": [],
   "source": [
    "with open('top3_items.ini','w') as f:\n",
    "    json.dump(top3_items, f)"
   ]
  },
  {
   "cell_type": "code",
   "execution_count": null,
   "id": "430d0019",
   "metadata": {},
   "outputs": [],
   "source": []
  }
 ],
 "metadata": {
  "kernelspec": {
   "display_name": "Python 3 (ipykernel)",
   "language": "python",
   "name": "python3"
  },
  "language_info": {
   "codemirror_mode": {
    "name": "ipython",
    "version": 3
   },
   "file_extension": ".py",
   "mimetype": "text/x-python",
   "name": "python",
   "nbconvert_exporter": "python",
   "pygments_lexer": "ipython3",
   "version": "3.9.7"
  }
 },
 "nbformat": 4,
 "nbformat_minor": 5
}
