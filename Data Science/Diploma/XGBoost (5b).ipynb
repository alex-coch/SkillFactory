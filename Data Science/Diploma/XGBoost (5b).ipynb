{
 "cells": [
  {
   "cell_type": "code",
   "execution_count": 1,
   "id": "a209dd7f",
   "metadata": {},
   "outputs": [],
   "source": [
    "# Подключаем необходимые библиотеки и делаем общие настройки\n",
    "from tqdm import tqdm\n",
    "import warnings\n",
    "warnings.filterwarnings(\"ignore\")\n",
    "\n",
    "import numpy as np\n",
    "import pandas as pd\n",
    "pd.options.mode.copy_on_write = True\n",
    "\n",
    "from sklearn.model_selection import train_test_split\n",
    "from datetime import datetime\n",
    "\n",
    "import matplotlib.pyplot as plt\n",
    "import seaborn as sns\n",
    "\n",
    "from external_functions import * \n",
    "from xgboost import XGBRanker"
   ]
  },
  {
   "cell_type": "markdown",
   "id": "67fdc3ab",
   "metadata": {},
   "source": [
    "**1. Подготовка данных**\n",
    "\n",
    "**1.1. Загрузка датасета по событиям**"
   ]
  },
  {
   "cell_type": "code",
   "execution_count": 2,
   "id": "34962234",
   "metadata": {},
   "outputs": [
    {
     "data": {
      "text/html": [
       "<div>\n",
       "<style scoped>\n",
       "    .dataframe tbody tr th:only-of-type {\n",
       "        vertical-align: middle;\n",
       "    }\n",
       "\n",
       "    .dataframe tbody tr th {\n",
       "        vertical-align: top;\n",
       "    }\n",
       "\n",
       "    .dataframe thead th {\n",
       "        text-align: right;\n",
       "    }\n",
       "</style>\n",
       "<table border=\"1\" class=\"dataframe\">\n",
       "  <thead>\n",
       "    <tr style=\"text-align: right;\">\n",
       "      <th></th>\n",
       "      <th>timestamp</th>\n",
       "      <th>visitorid</th>\n",
       "      <th>event</th>\n",
       "      <th>itemid</th>\n",
       "      <th>transactionid</th>\n",
       "    </tr>\n",
       "  </thead>\n",
       "  <tbody>\n",
       "    <tr>\n",
       "      <th>0</th>\n",
       "      <td>1433221332117</td>\n",
       "      <td>257597</td>\n",
       "      <td>view</td>\n",
       "      <td>355908</td>\n",
       "      <td>NaN</td>\n",
       "    </tr>\n",
       "    <tr>\n",
       "      <th>1</th>\n",
       "      <td>1433224214164</td>\n",
       "      <td>992329</td>\n",
       "      <td>view</td>\n",
       "      <td>248676</td>\n",
       "      <td>NaN</td>\n",
       "    </tr>\n",
       "    <tr>\n",
       "      <th>2</th>\n",
       "      <td>1433221999827</td>\n",
       "      <td>111016</td>\n",
       "      <td>view</td>\n",
       "      <td>318965</td>\n",
       "      <td>NaN</td>\n",
       "    </tr>\n",
       "    <tr>\n",
       "      <th>3</th>\n",
       "      <td>1433221955914</td>\n",
       "      <td>483717</td>\n",
       "      <td>view</td>\n",
       "      <td>253185</td>\n",
       "      <td>NaN</td>\n",
       "    </tr>\n",
       "    <tr>\n",
       "      <th>4</th>\n",
       "      <td>1433221337106</td>\n",
       "      <td>951259</td>\n",
       "      <td>view</td>\n",
       "      <td>367447</td>\n",
       "      <td>NaN</td>\n",
       "    </tr>\n",
       "  </tbody>\n",
       "</table>\n",
       "</div>"
      ],
      "text/plain": [
       "       timestamp  visitorid event  itemid  transactionid\n",
       "0  1433221332117     257597  view  355908            NaN\n",
       "1  1433224214164     992329  view  248676            NaN\n",
       "2  1433221999827     111016  view  318965            NaN\n",
       "3  1433221955914     483717  view  253185            NaN\n",
       "4  1433221337106     951259  view  367447            NaN"
      ]
     },
     "execution_count": 2,
     "metadata": {},
     "output_type": "execute_result"
    }
   ],
   "source": [
    "# Загрузим данные из events.csv \n",
    "df_events = pd.read_csv('events.csv')\n",
    "df_events.head()"
   ]
  },
  {
   "cell_type": "code",
   "execution_count": 3,
   "id": "0880f5ab",
   "metadata": {},
   "outputs": [
    {
     "name": "stdout",
     "output_type": "stream",
     "text": [
      "<class 'pandas.core.frame.DataFrame'>\n",
      "RangeIndex: 2756101 entries, 0 to 2756100\n",
      "Data columns (total 5 columns):\n",
      " #   Column         Dtype  \n",
      "---  ------         -----  \n",
      " 0   timestamp      int64  \n",
      " 1   visitorid      int64  \n",
      " 2   event          object \n",
      " 3   itemid         int64  \n",
      " 4   transactionid  float64\n",
      "dtypes: float64(1), int64(3), object(1)\n",
      "memory usage: 105.1+ MB\n"
     ]
    }
   ],
   "source": [
    "df_events.info()"
   ]
  },
  {
   "cell_type": "markdown",
   "id": "a2eadc6d",
   "metadata": {},
   "source": [
    "**1.2. Выделение валидационного датасета**"
   ]
  },
  {
   "cell_type": "code",
   "execution_count": 4,
   "id": "39065de9",
   "metadata": {},
   "outputs": [],
   "source": [
    "# Упорядочим датасет по времени возникновения событий\n",
    "df_events.sort_values(by='timestamp', inplace=True)"
   ]
  },
  {
   "cell_type": "code",
   "execution_count": 5,
   "id": "b88e32bf",
   "metadata": {},
   "outputs": [
    {
     "name": "stdout",
     "output_type": "stream",
     "text": [
      "Размер рабочего датасета: (1929270, 5)\n",
      "Размер валидационного датасета: (826831, 5)\n"
     ]
    }
   ],
   "source": [
    "# Выделим последние 30% содытий, как валидационный датасет\n",
    "df_work, df_valid = train_test_split(df_events, test_size=0.3, shuffle=False)\n",
    "print('Размер рабочего датасета:', df_work.shape)\n",
    "print('Размер валидационного датасета:', df_valid.shape)"
   ]
  },
  {
   "cell_type": "markdown",
   "id": "5d3d8b62",
   "metadata": {},
   "source": [
    "**1.3. Предобработка данных и генерация новых признаков**"
   ]
  },
  {
   "cell_type": "code",
   "execution_count": 6,
   "id": "3b286171",
   "metadata": {},
   "outputs": [],
   "source": [
    "# (1) Удалим дубликаты, если они есть\n",
    "df_work.drop_duplicates(inplace=True)"
   ]
  },
  {
   "cell_type": "code",
   "execution_count": 7,
   "id": "30443cfc",
   "metadata": {},
   "outputs": [
    {
     "name": "stdout",
     "output_type": "stream",
     "text": [
      "Записей в рабочем датасете: 1928979\n",
      "Уникальных пользователей: 978921\n",
      "Уникальных товаров: 200975\n"
     ]
    }
   ],
   "source": [
    "# Статистика по датасету\n",
    "print('Записей в рабочем датасете:', df_work.shape[0])\n",
    "print('Уникальных пользователей:', df_work['visitorid'].nunique())\n",
    "print('Уникальных товаров:', df_work['itemid'].nunique())"
   ]
  },
  {
   "cell_type": "code",
   "execution_count": 8,
   "id": "07bd236e",
   "metadata": {},
   "outputs": [],
   "source": [
    "# (2) Преобразуем временной признак в долее удобный для дальнейшей обработки формат\n",
    "df_work['timestamp'] = pd.to_datetime(df_work['timestamp'], unit='ms')"
   ]
  },
  {
   "cell_type": "code",
   "execution_count": 9,
   "id": "b68d0eda",
   "metadata": {},
   "outputs": [],
   "source": [
    "# (3) Удалим признак transactionid, как не информативный в нашем случае\n",
    "df_work.drop(['transactionid'], axis=1, inplace=True)"
   ]
  },
  {
   "cell_type": "code",
   "execution_count": 10,
   "id": "31ddc717",
   "metadata": {},
   "outputs": [
    {
     "data": {
      "text/plain": [
       "view           1866026\n",
       "addtocart        47316\n",
       "transaction      15637\n",
       "Name: event, dtype: int64"
      ]
     },
     "execution_count": 10,
     "metadata": {},
     "output_type": "execute_result"
    }
   ],
   "source": [
    "# Обработаем признак events\n",
    "df_work['event'].value_counts()"
   ]
  },
  {
   "cell_type": "code",
   "execution_count": 11,
   "id": "80feb385",
   "metadata": {},
   "outputs": [
    {
     "data": {
      "text/plain": [
       "0    1866026\n",
       "1      62953\n",
       "Name: event, dtype: int64"
      ]
     },
     "execution_count": 11,
     "metadata": {},
     "output_type": "execute_result"
    }
   ],
   "source": [
    "# (4) Признак event сделаем бинарным: продажи и корзину - 1, просмотр - 0\n",
    "event_dic = {'view':0, 'addtocart':1, 'transaction':1}\n",
    "df_work['event'] = df_work['event'].apply(lambda x: event_dic[x])\n",
    "df_work['event'].value_counts()"
   ]
  },
  {
   "cell_type": "code",
   "execution_count": 12,
   "id": "694b80d9",
   "metadata": {},
   "outputs": [
    {
     "data": {
      "text/html": [
       "<div>\n",
       "<style scoped>\n",
       "    .dataframe tbody tr th:only-of-type {\n",
       "        vertical-align: middle;\n",
       "    }\n",
       "\n",
       "    .dataframe tbody tr th {\n",
       "        vertical-align: top;\n",
       "    }\n",
       "\n",
       "    .dataframe thead th {\n",
       "        text-align: right;\n",
       "    }\n",
       "</style>\n",
       "<table border=\"1\" class=\"dataframe\">\n",
       "  <thead>\n",
       "    <tr style=\"text-align: right;\">\n",
       "      <th></th>\n",
       "      <th>timestamp</th>\n",
       "      <th>visitorid</th>\n",
       "      <th>event</th>\n",
       "      <th>itemid</th>\n",
       "    </tr>\n",
       "  </thead>\n",
       "  <tbody>\n",
       "    <tr>\n",
       "      <th>1462974</th>\n",
       "      <td>2015-05-03 03:00:04.384</td>\n",
       "      <td>693516</td>\n",
       "      <td>1</td>\n",
       "      <td>297662</td>\n",
       "    </tr>\n",
       "    <tr>\n",
       "      <th>1464806</th>\n",
       "      <td>2015-05-03 03:00:11.289</td>\n",
       "      <td>829044</td>\n",
       "      <td>0</td>\n",
       "      <td>60987</td>\n",
       "    </tr>\n",
       "    <tr>\n",
       "      <th>1463000</th>\n",
       "      <td>2015-05-03 03:00:13.048</td>\n",
       "      <td>652699</td>\n",
       "      <td>0</td>\n",
       "      <td>252860</td>\n",
       "    </tr>\n",
       "    <tr>\n",
       "      <th>1465287</th>\n",
       "      <td>2015-05-03 03:00:24.154</td>\n",
       "      <td>1125936</td>\n",
       "      <td>0</td>\n",
       "      <td>33661</td>\n",
       "    </tr>\n",
       "    <tr>\n",
       "      <th>1462955</th>\n",
       "      <td>2015-05-03 03:00:26.228</td>\n",
       "      <td>693516</td>\n",
       "      <td>0</td>\n",
       "      <td>297662</td>\n",
       "    </tr>\n",
       "  </tbody>\n",
       "</table>\n",
       "</div>"
      ],
      "text/plain": [
       "                      timestamp  visitorid  event  itemid\n",
       "1462974 2015-05-03 03:00:04.384     693516      1  297662\n",
       "1464806 2015-05-03 03:00:11.289     829044      0   60987\n",
       "1463000 2015-05-03 03:00:13.048     652699      0  252860\n",
       "1465287 2015-05-03 03:00:24.154    1125936      0   33661\n",
       "1462955 2015-05-03 03:00:26.228     693516      0  297662"
      ]
     },
     "execution_count": 12,
     "metadata": {},
     "output_type": "execute_result"
    }
   ],
   "source": [
    "df_work.head()"
   ]
  },
  {
   "cell_type": "code",
   "execution_count": 13,
   "id": "42c45f83",
   "metadata": {},
   "outputs": [
    {
     "data": {
      "image/png": "[encoded data removed]",
      "text/plain": [
       "<Figure size 1000x600 with 1 Axes>"
      ]
     },
     "metadata": {},
     "output_type": "display_data"
    }
   ],
   "source": [
    "# Смотрим распределение событий-покупок в рабочем датасете\n",
    "df_work['event'].value_counts().plot.bar(figsize=(10,6))\n",
    "plt.title('Распределение по событиям покупки', fontweight='bold')\n",
    "plt.xlabel('Покупки')\n",
    "plt.ylabel('Количество записей')\n",
    "plt.show()"
   ]
  },
  {
   "cell_type": "markdown",
   "id": "635fdf1f",
   "metadata": {},
   "source": [
    "Количество событий-покупок незначительно в общем количестве событий датасета. Это плохо, т.к. возможно сделать осмысленные рекомендации только для активных пользователей. Но будем исходить из того, что есть."
   ]
  },
  {
   "cell_type": "code",
   "execution_count": 14,
   "id": "4d9d75b8",
   "metadata": {},
   "outputs": [
    {
     "data": {
      "image/png": "[encoded data removed]",
      "text/plain": [
       "<Figure size 1000x600 with 1 Axes>"
      ]
     },
     "metadata": {},
     "output_type": "display_data"
    }
   ],
   "source": [
    "# Смотрим распределдение записей датасета по дням недели\n",
    "df_work['timestamp'].dt.dayofweek.value_counts().plot.bar(figsize=(10,6))\n",
    "plt.title('Количество событий по дням недели', fontweight='bold')\n",
    "plt.xlabel('День недели')\n",
    "plt.ylabel('Количество записей')\n",
    "plt.show()"
   ]
  },
  {
   "cell_type": "markdown",
   "id": "7c1c16ab",
   "metadata": {},
   "source": [
    "Из графика видно, что наибольшая активность пользователей проявляется в начале недели и незначительно падает к ее концу (Здесь, 0 - это понедельник)."
   ]
  },
  {
   "cell_type": "code",
   "execution_count": 15,
   "id": "46d2da23",
   "metadata": {},
   "outputs": [
    {
     "data": {
      "image/png": "[encoded data removed]",
      "text/plain": [
       "<Figure size 1000x600 with 1 Axes>"
      ]
     },
     "metadata": {},
     "output_type": "display_data"
    }
   ],
   "source": [
    "df_work['timestamp'].dt.hour.value_counts().plot.bar(figsize=(10,6))\n",
    "plt.title('Количество событий по часам', fontweight='bold')\n",
    "plt.xlabel('Часы')\n",
    "plt.ylabel('Количество записей')\n",
    "plt.show()"
   ]
  },
  {
   "cell_type": "markdown",
   "id": "dc2d987b",
   "metadata": {},
   "source": [
    "Наибольшая активность пользователей наблюдается с 15 часов и до 5 утра следующего дня. \n",
    "\n",
    "Используя выводы полученные из графиков приведенных выше сформируем новые временные признаки раздельно для пользователей и товаров."
   ]
  },
  {
   "cell_type": "code",
   "execution_count": 16,
   "id": "d7a83f0d",
   "metadata": {},
   "outputs": [
    {
     "name": "stdout",
     "output_type": "stream",
     "text": [
      "train: 2015-05-03 03:00:04.384000 - 2015-07-03 08:40:14.732000\n",
      "test: 2015-06-02 17:50:23.990000 - 2015-08-02 23:30:53.300000\n"
     ]
    }
   ],
   "source": [
    "# (5) Подготовим части датасета на основе временного штампа, для дальнейшего формирования из них train и test выборок для модели\n",
    "start = min(df_work['timestamp'])\n",
    "end = max(df_work['timestamp'])\n",
    "interval = end - start\n",
    "\n",
    "train = df_work[df_work['timestamp'] <= (end - interval/3)]\n",
    "test = df_work[df_work['timestamp'] >= (start + interval/3)]\n",
    "\n",
    "train_1 = train[train['timestamp'] < (start + interval/3)]\n",
    "train_2 = train[train['timestamp'] >= (start + interval/3)]\n",
    "test_1 = test[test['timestamp'] < (end - interval/3)]\n",
    "test_2 = test[test['timestamp'] >= (end - interval/3)]\n",
    "\n",
    "# Таргетированные группы пользователей для train и test выборок\n",
    "train_target_user = set(train_1['visitorid']) & set(train_2['visitorid'])\n",
    "test_target_user = set(test_1['visitorid']) & set(test_2['visitorid'])\n",
    "\n",
    "print('train:', train['timestamp'].min(), '-', train['timestamp'].max())\n",
    "print('test:', test['timestamp'].min(), '-', test['timestamp'].max())"
   ]
  },
  {
   "cell_type": "code",
   "execution_count": 17,
   "id": "02109159",
   "metadata": {},
   "outputs": [
    {
     "name": "stderr",
     "output_type": "stream",
     "text": [
      "100%|█████████████████████████████████████████████████████████████████████████| 326227/326227 [27:26<00:00, 198.11it/s]\n",
      "100%|█████████████████████████████████████████████████████████████████████████| 320265/320265 [24:53<00:00, 214.51it/s]\n",
      "100%|█████████████████████████████████████████████████████████████████████████| 118396/118396 [09:24<00:00, 209.56it/s]\n",
      "100%|█████████████████████████████████████████████████████████████████████████| 118940/118940 [09:56<00:00, 199.35it/s]\n"
     ]
    }
   ],
   "source": [
    "# (6) Формируем выборки с новыми признаками для частей датасета раздельно по пользователям и товарам (1 час 15 мин)\n",
    "train_1_u = new_feature_by_user(train_1)\n",
    "test_1_u = new_feature_by_user(test_1)\n",
    "\n",
    "train_1_i = new_feature_by_item(train_1)\n",
    "test_1_i = new_feature_by_item(test_1)"
   ]
  },
  {
   "cell_type": "code",
   "execution_count": 18,
   "id": "fec671d3",
   "metadata": {},
   "outputs": [],
   "source": [
    "# (7) Сформируем train и test выборки и таргетированные группы пользователей необходимые для передачи на вход модели\n",
    "X_train, y_train, query_list_train = get_model_input(train_1_u, train_1_i, train_2, train_target_user)\n",
    "X_test, y_test, query_list_test = get_model_input(test_1_u, test_1_i, test_2, test_target_user)"
   ]
  },
  {
   "cell_type": "code",
   "execution_count": 19,
   "id": "36f60594",
   "metadata": {
    "scrolled": true
   },
   "outputs": [
    {
     "data": {
      "text/html": [
       "<div>\n",
       "<style scoped>\n",
       "    .dataframe tbody tr th:only-of-type {\n",
       "        vertical-align: middle;\n",
       "    }\n",
       "\n",
       "    .dataframe tbody tr th {\n",
       "        vertical-align: top;\n",
       "    }\n",
       "\n",
       "    .dataframe thead th {\n",
       "        text-align: right;\n",
       "    }\n",
       "</style>\n",
       "<table border=\"1\" class=\"dataframe\">\n",
       "  <thead>\n",
       "    <tr style=\"text-align: right;\">\n",
       "      <th></th>\n",
       "      <th></th>\n",
       "      <th>user_count</th>\n",
       "      <th>purchased_by_item</th>\n",
       "      <th>not_purchased_by_item</th>\n",
       "      <th>monday_by_item</th>\n",
       "      <th>tuesday_by_item</th>\n",
       "      <th>wednesday_by_item</th>\n",
       "      <th>thursday_by_item</th>\n",
       "      <th>friday_by_item</th>\n",
       "      <th>saturday_by_item</th>\n",
       "      <th>sunday_by_item</th>\n",
       "      <th>...</th>\n",
       "      <th>not_purchased_by_user</th>\n",
       "      <th>monday_by_user</th>\n",
       "      <th>tuesday_by_user</th>\n",
       "      <th>wednesday_by_user</th>\n",
       "      <th>thursday_by_user</th>\n",
       "      <th>friday_by_user</th>\n",
       "      <th>saturday_by_user</th>\n",
       "      <th>sunday_by_user</th>\n",
       "      <th>evening_by_user</th>\n",
       "      <th>night_by_user</th>\n",
       "    </tr>\n",
       "    <tr>\n",
       "      <th>visitorid</th>\n",
       "      <th>itemid</th>\n",
       "      <th></th>\n",
       "      <th></th>\n",
       "      <th></th>\n",
       "      <th></th>\n",
       "      <th></th>\n",
       "      <th></th>\n",
       "      <th></th>\n",
       "      <th></th>\n",
       "      <th></th>\n",
       "      <th></th>\n",
       "      <th></th>\n",
       "      <th></th>\n",
       "      <th></th>\n",
       "      <th></th>\n",
       "      <th></th>\n",
       "      <th></th>\n",
       "      <th></th>\n",
       "      <th></th>\n",
       "      <th></th>\n",
       "      <th></th>\n",
       "      <th></th>\n",
       "    </tr>\n",
       "  </thead>\n",
       "  <tbody>\n",
       "    <tr>\n",
       "      <th>74.0</th>\n",
       "      <th>262125</th>\n",
       "      <td>103.0</td>\n",
       "      <td>0.0</td>\n",
       "      <td>103.0</td>\n",
       "      <td>18.0</td>\n",
       "      <td>25.0</td>\n",
       "      <td>14.0</td>\n",
       "      <td>12.0</td>\n",
       "      <td>17.0</td>\n",
       "      <td>7.0</td>\n",
       "      <td>10.0</td>\n",
       "      <td>...</td>\n",
       "      <td>5.0</td>\n",
       "      <td>0.0</td>\n",
       "      <td>5.0</td>\n",
       "      <td>0.0</td>\n",
       "      <td>0.0</td>\n",
       "      <td>0.0</td>\n",
       "      <td>0.0</td>\n",
       "      <td>0.0</td>\n",
       "      <td>0.0</td>\n",
       "      <td>0.0</td>\n",
       "    </tr>\n",
       "    <tr>\n",
       "      <th>197.0</th>\n",
       "      <th>144066</th>\n",
       "      <td>5.0</td>\n",
       "      <td>0.0</td>\n",
       "      <td>5.0</td>\n",
       "      <td>0.0</td>\n",
       "      <td>2.0</td>\n",
       "      <td>0.0</td>\n",
       "      <td>0.0</td>\n",
       "      <td>1.0</td>\n",
       "      <td>1.0</td>\n",
       "      <td>1.0</td>\n",
       "      <td>...</td>\n",
       "      <td>1.0</td>\n",
       "      <td>0.0</td>\n",
       "      <td>0.0</td>\n",
       "      <td>0.0</td>\n",
       "      <td>0.0</td>\n",
       "      <td>1.0</td>\n",
       "      <td>0.0</td>\n",
       "      <td>0.0</td>\n",
       "      <td>0.0</td>\n",
       "      <td>1.0</td>\n",
       "    </tr>\n",
       "    <tr>\n",
       "      <th rowspan=\"3\" valign=\"top\">299.0</th>\n",
       "      <th>149253</th>\n",
       "      <td>64.0</td>\n",
       "      <td>4.0</td>\n",
       "      <td>60.0</td>\n",
       "      <td>16.0</td>\n",
       "      <td>5.0</td>\n",
       "      <td>2.0</td>\n",
       "      <td>4.0</td>\n",
       "      <td>6.0</td>\n",
       "      <td>8.0</td>\n",
       "      <td>23.0</td>\n",
       "      <td>...</td>\n",
       "      <td>1.0</td>\n",
       "      <td>0.0</td>\n",
       "      <td>1.0</td>\n",
       "      <td>0.0</td>\n",
       "      <td>0.0</td>\n",
       "      <td>0.0</td>\n",
       "      <td>0.0</td>\n",
       "      <td>0.0</td>\n",
       "      <td>1.0</td>\n",
       "      <td>0.0</td>\n",
       "    </tr>\n",
       "    <tr>\n",
       "      <th>149253</th>\n",
       "      <td>64.0</td>\n",
       "      <td>4.0</td>\n",
       "      <td>60.0</td>\n",
       "      <td>16.0</td>\n",
       "      <td>5.0</td>\n",
       "      <td>2.0</td>\n",
       "      <td>4.0</td>\n",
       "      <td>6.0</td>\n",
       "      <td>8.0</td>\n",
       "      <td>23.0</td>\n",
       "      <td>...</td>\n",
       "      <td>1.0</td>\n",
       "      <td>0.0</td>\n",
       "      <td>1.0</td>\n",
       "      <td>0.0</td>\n",
       "      <td>0.0</td>\n",
       "      <td>0.0</td>\n",
       "      <td>0.0</td>\n",
       "      <td>0.0</td>\n",
       "      <td>1.0</td>\n",
       "      <td>0.0</td>\n",
       "    </tr>\n",
       "    <tr>\n",
       "      <th>322067</th>\n",
       "      <td>0.0</td>\n",
       "      <td>0.0</td>\n",
       "      <td>0.0</td>\n",
       "      <td>0.0</td>\n",
       "      <td>0.0</td>\n",
       "      <td>0.0</td>\n",
       "      <td>0.0</td>\n",
       "      <td>0.0</td>\n",
       "      <td>0.0</td>\n",
       "      <td>0.0</td>\n",
       "      <td>...</td>\n",
       "      <td>1.0</td>\n",
       "      <td>0.0</td>\n",
       "      <td>1.0</td>\n",
       "      <td>0.0</td>\n",
       "      <td>0.0</td>\n",
       "      <td>0.0</td>\n",
       "      <td>0.0</td>\n",
       "      <td>0.0</td>\n",
       "      <td>1.0</td>\n",
       "      <td>0.0</td>\n",
       "    </tr>\n",
       "    <tr>\n",
       "      <th>...</th>\n",
       "      <th>...</th>\n",
       "      <td>...</td>\n",
       "      <td>...</td>\n",
       "      <td>...</td>\n",
       "      <td>...</td>\n",
       "      <td>...</td>\n",
       "      <td>...</td>\n",
       "      <td>...</td>\n",
       "      <td>...</td>\n",
       "      <td>...</td>\n",
       "      <td>...</td>\n",
       "      <td>...</td>\n",
       "      <td>...</td>\n",
       "      <td>...</td>\n",
       "      <td>...</td>\n",
       "      <td>...</td>\n",
       "      <td>...</td>\n",
       "      <td>...</td>\n",
       "      <td>...</td>\n",
       "      <td>...</td>\n",
       "      <td>...</td>\n",
       "      <td>...</td>\n",
       "    </tr>\n",
       "    <tr>\n",
       "      <th rowspan=\"2\" valign=\"top\">1407374.0</th>\n",
       "      <th>444955</th>\n",
       "      <td>3.0</td>\n",
       "      <td>0.0</td>\n",
       "      <td>3.0</td>\n",
       "      <td>0.0</td>\n",
       "      <td>0.0</td>\n",
       "      <td>0.0</td>\n",
       "      <td>1.0</td>\n",
       "      <td>0.0</td>\n",
       "      <td>0.0</td>\n",
       "      <td>2.0</td>\n",
       "      <td>...</td>\n",
       "      <td>6.0</td>\n",
       "      <td>0.0</td>\n",
       "      <td>0.0</td>\n",
       "      <td>0.0</td>\n",
       "      <td>0.0</td>\n",
       "      <td>4.0</td>\n",
       "      <td>2.0</td>\n",
       "      <td>0.0</td>\n",
       "      <td>4.0</td>\n",
       "      <td>2.0</td>\n",
       "    </tr>\n",
       "    <tr>\n",
       "      <th>459841</th>\n",
       "      <td>0.0</td>\n",
       "      <td>0.0</td>\n",
       "      <td>0.0</td>\n",
       "      <td>0.0</td>\n",
       "      <td>0.0</td>\n",
       "      <td>0.0</td>\n",
       "      <td>0.0</td>\n",
       "      <td>0.0</td>\n",
       "      <td>0.0</td>\n",
       "      <td>0.0</td>\n",
       "      <td>...</td>\n",
       "      <td>6.0</td>\n",
       "      <td>0.0</td>\n",
       "      <td>0.0</td>\n",
       "      <td>0.0</td>\n",
       "      <td>0.0</td>\n",
       "      <td>4.0</td>\n",
       "      <td>2.0</td>\n",
       "      <td>0.0</td>\n",
       "      <td>4.0</td>\n",
       "      <td>2.0</td>\n",
       "    </tr>\n",
       "    <tr>\n",
       "      <th rowspan=\"3\" valign=\"top\">1407383.0</th>\n",
       "      <th>92637</th>\n",
       "      <td>17.0</td>\n",
       "      <td>0.0</td>\n",
       "      <td>17.0</td>\n",
       "      <td>5.0</td>\n",
       "      <td>2.0</td>\n",
       "      <td>0.0</td>\n",
       "      <td>1.0</td>\n",
       "      <td>1.0</td>\n",
       "      <td>3.0</td>\n",
       "      <td>5.0</td>\n",
       "      <td>...</td>\n",
       "      <td>1.0</td>\n",
       "      <td>0.0</td>\n",
       "      <td>0.0</td>\n",
       "      <td>0.0</td>\n",
       "      <td>0.0</td>\n",
       "      <td>0.0</td>\n",
       "      <td>0.0</td>\n",
       "      <td>1.0</td>\n",
       "      <td>1.0</td>\n",
       "      <td>0.0</td>\n",
       "    </tr>\n",
       "    <tr>\n",
       "      <th>92637</th>\n",
       "      <td>17.0</td>\n",
       "      <td>0.0</td>\n",
       "      <td>17.0</td>\n",
       "      <td>5.0</td>\n",
       "      <td>2.0</td>\n",
       "      <td>0.0</td>\n",
       "      <td>1.0</td>\n",
       "      <td>1.0</td>\n",
       "      <td>3.0</td>\n",
       "      <td>5.0</td>\n",
       "      <td>...</td>\n",
       "      <td>1.0</td>\n",
       "      <td>0.0</td>\n",
       "      <td>0.0</td>\n",
       "      <td>0.0</td>\n",
       "      <td>0.0</td>\n",
       "      <td>0.0</td>\n",
       "      <td>0.0</td>\n",
       "      <td>1.0</td>\n",
       "      <td>1.0</td>\n",
       "      <td>0.0</td>\n",
       "    </tr>\n",
       "    <tr>\n",
       "      <th>413556</th>\n",
       "      <td>21.0</td>\n",
       "      <td>0.0</td>\n",
       "      <td>21.0</td>\n",
       "      <td>2.0</td>\n",
       "      <td>2.0</td>\n",
       "      <td>4.0</td>\n",
       "      <td>4.0</td>\n",
       "      <td>2.0</td>\n",
       "      <td>3.0</td>\n",
       "      <td>4.0</td>\n",
       "      <td>...</td>\n",
       "      <td>1.0</td>\n",
       "      <td>0.0</td>\n",
       "      <td>0.0</td>\n",
       "      <td>0.0</td>\n",
       "      <td>0.0</td>\n",
       "      <td>0.0</td>\n",
       "      <td>0.0</td>\n",
       "      <td>1.0</td>\n",
       "      <td>1.0</td>\n",
       "      <td>0.0</td>\n",
       "    </tr>\n",
       "  </tbody>\n",
       "</table>\n",
       "<p>65916 rows × 24 columns</p>\n",
       "</div>"
      ],
      "text/plain": [
       "                  user_count  purchased_by_item  not_purchased_by_item  \\\n",
       "visitorid itemid                                                         \n",
       "74.0      262125       103.0                0.0                  103.0   \n",
       "197.0     144066         5.0                0.0                    5.0   \n",
       "299.0     149253        64.0                4.0                   60.0   \n",
       "          149253        64.0                4.0                   60.0   \n",
       "          322067         0.0                0.0                    0.0   \n",
       "...                      ...                ...                    ...   \n",
       "1407374.0 444955         3.0                0.0                    3.0   \n",
       "          459841         0.0                0.0                    0.0   \n",
       "1407383.0 92637         17.0                0.0                   17.0   \n",
       "          92637         17.0                0.0                   17.0   \n",
       "          413556        21.0                0.0                   21.0   \n",
       "\n",
       "                  monday_by_item  tuesday_by_item  wednesday_by_item  \\\n",
       "visitorid itemid                                                       \n",
       "74.0      262125            18.0             25.0               14.0   \n",
       "197.0     144066             0.0              2.0                0.0   \n",
       "299.0     149253            16.0              5.0                2.0   \n",
       "          149253            16.0              5.0                2.0   \n",
       "          322067             0.0              0.0                0.0   \n",
       "...                          ...              ...                ...   \n",
       "1407374.0 444955             0.0              0.0                0.0   \n",
       "          459841             0.0              0.0                0.0   \n",
       "1407383.0 92637              5.0              2.0                0.0   \n",
       "          92637              5.0              2.0                0.0   \n",
       "          413556             2.0              2.0                4.0   \n",
       "\n",
       "                  thursday_by_item  friday_by_item  saturday_by_item  \\\n",
       "visitorid itemid                                                       \n",
       "74.0      262125              12.0            17.0               7.0   \n",
       "197.0     144066               0.0             1.0               1.0   \n",
       "299.0     149253               4.0             6.0               8.0   \n",
       "          149253               4.0             6.0               8.0   \n",
       "          322067               0.0             0.0               0.0   \n",
       "...                            ...             ...               ...   \n",
       "1407374.0 444955               1.0             0.0               0.0   \n",
       "          459841               0.0             0.0               0.0   \n",
       "1407383.0 92637                1.0             1.0               3.0   \n",
       "          92637                1.0             1.0               3.0   \n",
       "          413556               4.0             2.0               3.0   \n",
       "\n",
       "                  sunday_by_item  ...  not_purchased_by_user  monday_by_user  \\\n",
       "visitorid itemid                  ...                                          \n",
       "74.0      262125            10.0  ...                    5.0             0.0   \n",
       "197.0     144066             1.0  ...                    1.0             0.0   \n",
       "299.0     149253            23.0  ...                    1.0             0.0   \n",
       "          149253            23.0  ...                    1.0             0.0   \n",
       "          322067             0.0  ...                    1.0             0.0   \n",
       "...                          ...  ...                    ...             ...   \n",
       "1407374.0 444955             2.0  ...                    6.0             0.0   \n",
       "          459841             0.0  ...                    6.0             0.0   \n",
       "1407383.0 92637              5.0  ...                    1.0             0.0   \n",
       "          92637              5.0  ...                    1.0             0.0   \n",
       "          413556             4.0  ...                    1.0             0.0   \n",
       "\n",
       "                  tuesday_by_user  wednesday_by_user  thursday_by_user  \\\n",
       "visitorid itemid                                                         \n",
       "74.0      262125              5.0                0.0               0.0   \n",
       "197.0     144066              0.0                0.0               0.0   \n",
       "299.0     149253              1.0                0.0               0.0   \n",
       "          149253              1.0                0.0               0.0   \n",
       "          322067              1.0                0.0               0.0   \n",
       "...                           ...                ...               ...   \n",
       "1407374.0 444955              0.0                0.0               0.0   \n",
       "          459841              0.0                0.0               0.0   \n",
       "1407383.0 92637               0.0                0.0               0.0   \n",
       "          92637               0.0                0.0               0.0   \n",
       "          413556              0.0                0.0               0.0   \n",
       "\n",
       "                  friday_by_user  saturday_by_user  sunday_by_user  \\\n",
       "visitorid itemid                                                     \n",
       "74.0      262125             0.0               0.0             0.0   \n",
       "197.0     144066             1.0               0.0             0.0   \n",
       "299.0     149253             0.0               0.0             0.0   \n",
       "          149253             0.0               0.0             0.0   \n",
       "          322067             0.0               0.0             0.0   \n",
       "...                          ...               ...             ...   \n",
       "1407374.0 444955             4.0               2.0             0.0   \n",
       "          459841             4.0               2.0             0.0   \n",
       "1407383.0 92637              0.0               0.0             1.0   \n",
       "          92637              0.0               0.0             1.0   \n",
       "          413556             0.0               0.0             1.0   \n",
       "\n",
       "                  evening_by_user  night_by_user  \n",
       "visitorid itemid                                  \n",
       "74.0      262125              0.0            0.0  \n",
       "197.0     144066              0.0            1.0  \n",
       "299.0     149253              1.0            0.0  \n",
       "          149253              1.0            0.0  \n",
       "          322067              1.0            0.0  \n",
       "...                           ...            ...  \n",
       "1407374.0 444955              4.0            2.0  \n",
       "          459841              4.0            2.0  \n",
       "1407383.0 92637               1.0            0.0  \n",
       "          92637               1.0            0.0  \n",
       "          413556              1.0            0.0  \n",
       "\n",
       "[65916 rows x 24 columns]"
      ]
     },
     "execution_count": 19,
     "metadata": {},
     "output_type": "execute_result"
    }
   ],
   "source": [
    "X_train"
   ]
  },
  {
   "cell_type": "code",
   "execution_count": 20,
   "id": "b70d5993",
   "metadata": {
    "scrolled": true
   },
   "outputs": [
    {
     "data": {
      "text/plain": [
       "visitorid  itemid\n",
       "74.0       262125    0.0\n",
       "197.0      144066    0.0\n",
       "299.0      149253    0.0\n",
       "           149253    1.0\n",
       "           322067    0.0\n",
       "                    ... \n",
       "1407374.0  444955    0.0\n",
       "           459841    0.0\n",
       "1407383.0  92637     0.0\n",
       "           92637     0.0\n",
       "           413556    0.0\n",
       "Name: event, Length: 65916, dtype: float64"
      ]
     },
     "execution_count": 20,
     "metadata": {},
     "output_type": "execute_result"
    }
   ],
   "source": [
    "y_train"
   ]
  },
  {
   "cell_type": "code",
   "execution_count": 21,
   "id": "e8483583",
   "metadata": {
    "scrolled": true
   },
   "outputs": [
    {
     "data": {
      "text/plain": [
       "74.0          1\n",
       "197.0         1\n",
       "299.0         4\n",
       "341.0         1\n",
       "502.0         1\n",
       "             ..\n",
       "1407072.0     2\n",
       "1407134.0     1\n",
       "1407340.0    21\n",
       "1407374.0     7\n",
       "1407383.0     3\n",
       "Name: visitorid, Length: 15315, dtype: int64"
      ]
     },
     "execution_count": 21,
     "metadata": {},
     "output_type": "execute_result"
    }
   ],
   "source": [
    "query_list_train"
   ]
  },
  {
   "cell_type": "markdown",
   "id": "68ddfdae",
   "metadata": {},
   "source": [
    "**1.4. Работа с моделью XGBRanker**"
   ]
  },
  {
   "cell_type": "code",
   "execution_count": 22,
   "id": "63d7de84",
   "metadata": {},
   "outputs": [
    {
     "name": "stdout",
     "output_type": "stream",
     "text": [
      "[0]\tvalidation_0-ndcg:0.98034\n",
      "[10]\tvalidation_0-ndcg:0.98055\n",
      "[20]\tvalidation_0-ndcg:0.98060\n",
      "[30]\tvalidation_0-ndcg:0.98060\n",
      "[40]\tvalidation_0-ndcg:0.98057\n",
      "[50]\tvalidation_0-ndcg:0.98052\n",
      "[60]\tvalidation_0-ndcg:0.98057\n",
      "[70]\tvalidation_0-ndcg:0.98058\n",
      "[80]\tvalidation_0-ndcg:0.98055\n",
      "[90]\tvalidation_0-ndcg:0.98054\n",
      "[100]\tvalidation_0-ndcg:0.98051\n",
      "[110]\tvalidation_0-ndcg:0.98042\n",
      "[120]\tvalidation_0-ndcg:0.98037\n",
      "[130]\tvalidation_0-ndcg:0.98047\n",
      "[140]\tvalidation_0-ndcg:0.98036\n",
      "[150]\tvalidation_0-ndcg:0.98049\n",
      "[160]\tvalidation_0-ndcg:0.98051\n",
      "[170]\tvalidation_0-ndcg:0.98050\n",
      "[180]\tvalidation_0-ndcg:0.98048\n",
      "[190]\tvalidation_0-ndcg:0.98051\n",
      "[199]\tvalidation_0-ndcg:0.98046\n"
     ]
    },
    {
     "data": {
      "text/plain": [
       "XGBRanker(base_score=0.5, booster='gbtree', callbacks=None, colsample_bylevel=1,\n",
       "          colsample_bynode=1, colsample_bytree=1, early_stopping_rounds=None,\n",
       "          enable_categorical=False, eval_metric=None, gamma=0, gpu_id=-1,\n",
       "          grow_policy='depthwise', importance_type=None,\n",
       "          interaction_constraints='', learning_rate=0.1, max_bin=256,\n",
       "          max_cat_to_onehot=4, max_delta_step=0, max_depth=6, max_leaves=0,\n",
       "          min_child_weight=1, missing=nan, monotone_constraints='()',\n",
       "          n_estimators=200, n_jobs=0, num_parallel_tree=1,\n",
       "          objective='rank:ndcg', predictor='auto', random_state=42, reg_alpha=0, ...)"
      ]
     },
     "execution_count": 22,
     "metadata": {},
     "output_type": "execute_result"
    }
   ],
   "source": [
    "# Создадим объект модели и обучим его экземпляр\n",
    "model = XGBRanker(objective='rank:ndcg', n_estimators=200, random_state=42, learning_rate=0.1)\n",
    "model.fit(\n",
    "    X_train,\n",
    "    y_train,\n",
    "    group=query_list_train,\n",
    "    eval_metric='ndcg',\n",
    "    eval_set=[(X_test, y_test)],\n",
    "    eval_group=[list(query_list_test)],\n",
    "    verbose=10\n",
    ")"
   ]
  },
  {
   "cell_type": "code",
   "execution_count": 23,
   "id": "c1009d1b",
   "metadata": {},
   "outputs": [
    {
     "data": {
      "image/png": "[encoded data removed]",
      "text/plain": [
       "<Figure size 1200x600 with 1 Axes>"
      ]
     },
     "metadata": {},
     "output_type": "display_data"
    }
   ],
   "source": [
    "# Рассмотрим уровень важности признаков датасета полученной модели\n",
    "plt.figure(figsize=(12, 6))\n",
    "df_plt = pd.DataFrame({'feature_name': X_train.columns, 'feature_importance': model.feature_importances_})\n",
    "df_plt.sort_values('feature_importance', ascending=False, inplace=True)\n",
    "sns.barplot(x='feature_importance', y='feature_name', data=df_plt)\n",
    "plt.title('Важность признаков')\n",
    "plt.xlabel('Уровень важности признака')\n",
    "plt.ylabel('Признак')\n",
    "plt.show()"
   ]
  },
  {
   "cell_type": "code",
   "execution_count": 24,
   "id": "da2410cb",
   "metadata": {},
   "outputs": [],
   "source": [
    "# Сохраним модель в файл, для использования в приложении\n",
    "model.save_model('XGBRanker_model.json')"
   ]
  },
  {
   "cell_type": "markdown",
   "id": "828eb21b",
   "metadata": {},
   "source": [
    "**1.5. Получение рекомендаций товаров и расчет технической метрики для тестовой выборки**"
   ]
  },
  {
   "cell_type": "code",
   "execution_count": 25,
   "id": "fcff2564",
   "metadata": {},
   "outputs": [
    {
     "data": {
      "text/plain": [
       "[461686, 312728, 409804]"
      ]
     },
     "execution_count": 25,
     "metadata": {},
     "output_type": "execute_result"
    }
   ],
   "source": [
    "# Выделим Топ-3 товаров для добавления в итог рекомендаций, при недостаке значений в предсказании\n",
    "top3_items = list(df_work[df_work['event'] == 1]['itemid'].value_counts().index[:3])\n",
    "top3_items"
   ]
  },
  {
   "cell_type": "code",
   "execution_count": 26,
   "id": "02389787",
   "metadata": {},
   "outputs": [
    {
     "name": "stderr",
     "output_type": "stream",
     "text": [
      "100%|███████████████████████████████████████████████████████████████████████████| 15042/15042 [01:59<00:00, 125.55it/s]\n"
     ]
    },
    {
     "data": {
      "text/html": [
       "<div>\n",
       "<style scoped>\n",
       "    .dataframe tbody tr th:only-of-type {\n",
       "        vertical-align: middle;\n",
       "    }\n",
       "\n",
       "    .dataframe tbody tr th {\n",
       "        vertical-align: top;\n",
       "    }\n",
       "\n",
       "    .dataframe thead th {\n",
       "        text-align: right;\n",
       "    }\n",
       "</style>\n",
       "<table border=\"1\" class=\"dataframe\">\n",
       "  <thead>\n",
       "    <tr style=\"text-align: right;\">\n",
       "      <th></th>\n",
       "      <th>visitorid</th>\n",
       "      <th>itemid</th>\n",
       "      <th>rank</th>\n",
       "    </tr>\n",
       "  </thead>\n",
       "  <tbody>\n",
       "    <tr>\n",
       "      <th>0</th>\n",
       "      <td>75.0</td>\n",
       "      <td>257575</td>\n",
       "      <td>1</td>\n",
       "    </tr>\n",
       "    <tr>\n",
       "      <th>1</th>\n",
       "      <td>75.0</td>\n",
       "      <td>257575</td>\n",
       "      <td>2</td>\n",
       "    </tr>\n",
       "    <tr>\n",
       "      <th>2</th>\n",
       "      <td>75.0</td>\n",
       "      <td>257575</td>\n",
       "      <td>3</td>\n",
       "    </tr>\n",
       "    <tr>\n",
       "      <th>3</th>\n",
       "      <td>124.0</td>\n",
       "      <td>354724</td>\n",
       "      <td>1</td>\n",
       "    </tr>\n",
       "    <tr>\n",
       "      <th>4</th>\n",
       "      <td>124.0</td>\n",
       "      <td>461686</td>\n",
       "      <td>2</td>\n",
       "    </tr>\n",
       "    <tr>\n",
       "      <th>...</th>\n",
       "      <td>...</td>\n",
       "      <td>...</td>\n",
       "      <td>...</td>\n",
       "    </tr>\n",
       "    <tr>\n",
       "      <th>45121</th>\n",
       "      <td>1407304.0</td>\n",
       "      <td>461686</td>\n",
       "      <td>2</td>\n",
       "    </tr>\n",
       "    <tr>\n",
       "      <th>45122</th>\n",
       "      <td>1407304.0</td>\n",
       "      <td>312728</td>\n",
       "      <td>3</td>\n",
       "    </tr>\n",
       "    <tr>\n",
       "      <th>45123</th>\n",
       "      <td>1407374.0</td>\n",
       "      <td>241201</td>\n",
       "      <td>1</td>\n",
       "    </tr>\n",
       "    <tr>\n",
       "      <th>45124</th>\n",
       "      <td>1407374.0</td>\n",
       "      <td>184173</td>\n",
       "      <td>2</td>\n",
       "    </tr>\n",
       "    <tr>\n",
       "      <th>45125</th>\n",
       "      <td>1407374.0</td>\n",
       "      <td>461686</td>\n",
       "      <td>3</td>\n",
       "    </tr>\n",
       "  </tbody>\n",
       "</table>\n",
       "<p>45126 rows × 3 columns</p>\n",
       "</div>"
      ],
      "text/plain": [
       "       visitorid  itemid  rank\n",
       "0           75.0  257575     1\n",
       "1           75.0  257575     2\n",
       "2           75.0  257575     3\n",
       "3          124.0  354724     1\n",
       "4          124.0  461686     2\n",
       "...          ...     ...   ...\n",
       "45121  1407304.0  461686     2\n",
       "45122  1407304.0  312728     3\n",
       "45123  1407374.0  241201     1\n",
       "45124  1407374.0  184173     2\n",
       "45125  1407374.0  461686     3\n",
       "\n",
       "[45126 rows x 3 columns]"
      ]
     },
     "execution_count": 26,
     "metadata": {},
     "output_type": "execute_result"
    }
   ],
   "source": [
    "# Рекомендации для всех доступных модели пользователей трех товаров + расчет технической метрики (2 мин)\n",
    "predicted, p_at_3_test = predict_at_3(model, X_test, y_test, top3_items)\n",
    "predicted"
   ]
  },
  {
   "cell_type": "code",
   "execution_count": 27,
   "id": "10cfbbd3",
   "metadata": {},
   "outputs": [
    {
     "name": "stdout",
     "output_type": "stream",
     "text": [
      "Товары, предложенные пользователю 1407374.0\n",
      "       itemid  rank\n",
      "45123  241201     1\n",
      "45124  184173     2\n",
      "45125  461686     3\n"
     ]
    }
   ],
   "source": [
    "# Пример предсказания для одиночного пользователя\n",
    "userid = 1407374.0\n",
    "print('Товары, предложенные пользователю', userid)\n",
    "print(predicted[predicted['visitorid'] == userid][['itemid', 'rank']])"
   ]
  },
  {
   "cell_type": "code",
   "execution_count": 28,
   "id": "43877cc1",
   "metadata": {},
   "outputs": [
    {
     "name": "stdout",
     "output_type": "stream",
     "text": [
      "Реальные действия пользователя 1407374.0\n",
      "itemid\n",
      "184173    0.0\n",
      "241201    0.0\n",
      "Name: event, dtype: float64\n"
     ]
    }
   ],
   "source": [
    "print('Реальные действия пользователя', userid)\n",
    "print(y_test[userid])"
   ]
  },
  {
   "cell_type": "markdown",
   "id": "b4344abe",
   "metadata": {},
   "source": [
    "Видно, что из предложенного моделью списка номенклатуры, пользователь реально просматривал товары с ID 184173, 241201, но, к сожалению, не приобрел их.\n",
    "\n",
    "Функция для рекомендации трех товаров, одновременно производит расчет усредненной метрики Precision@3:"
   ]
  },
  {
   "cell_type": "code",
   "execution_count": 31,
   "id": "6888dd26",
   "metadata": {},
   "outputs": [
    {
     "name": "stdout",
     "output_type": "stream",
     "text": [
      "Precision@3 (test): 0.0184815848956256\n"
     ]
    }
   ],
   "source": [
    "print('Precision@3 (test):', p_at_3_test)"
   ]
  },
  {
   "cell_type": "markdown",
   "id": "be1a05fe",
   "metadata": {},
   "source": [
    "Итоговое значение метрики Precision@3 для тестовой части рабочей выборки - 1,85%."
   ]
  },
  {
   "cell_type": "markdown",
   "id": "bd6d11a6",
   "metadata": {},
   "source": [
    "**1.6. Расчет метрики Precision@3 на валидационном датасете**"
   ]
  },
  {
   "cell_type": "markdown",
   "id": "9e967dbf",
   "metadata": {},
   "source": [
    "Выполним те же действия по продготовке валидационного датасета, что мы делали с рабочим датасетом при подготовке к работе с моделью."
   ]
  },
  {
   "cell_type": "code",
   "execution_count": 32,
   "id": "087d2c80",
   "metadata": {},
   "outputs": [],
   "source": [
    "# (1) Удалим дубликаты, если они есть\n",
    "df_valid.drop_duplicates(inplace=True)"
   ]
  },
  {
   "cell_type": "code",
   "execution_count": 33,
   "id": "1498f55c",
   "metadata": {},
   "outputs": [
    {
     "name": "stdout",
     "output_type": "stream",
     "text": [
      "Записей в рабочем датасете: 826662\n",
      "Уникальных пользователей: 458523\n",
      "Уникальных товаров: 140405\n"
     ]
    }
   ],
   "source": [
    "# Статистика по датасету\n",
    "print('Записей в рабочем датасете:', df_valid.shape[0])\n",
    "print('Уникальных пользователей:', df_valid['visitorid'].nunique())\n",
    "print('Уникальных товаров:', df_valid['itemid'].nunique())"
   ]
  },
  {
   "cell_type": "code",
   "execution_count": 34,
   "id": "0203e2f8",
   "metadata": {},
   "outputs": [],
   "source": [
    "# (2) Преобразуем временной признак в долее удобный для дальнейшей обработки формат\n",
    "df_valid['timestamp'] = pd.to_datetime(df_valid['timestamp'], unit='ms')"
   ]
  },
  {
   "cell_type": "code",
   "execution_count": 35,
   "id": "36e1f95c",
   "metadata": {},
   "outputs": [],
   "source": [
    "# (3) Удалим признак transactionid, как не информативный в нашем случае\n",
    "df_valid.drop(['transactionid'], axis=1, inplace=True)"
   ]
  },
  {
   "cell_type": "code",
   "execution_count": 36,
   "id": "d1120180",
   "metadata": {},
   "outputs": [
    {
     "data": {
      "text/plain": [
       "0    798192\n",
       "1     28470\n",
       "Name: event, dtype: int64"
      ]
     },
     "execution_count": 36,
     "metadata": {},
     "output_type": "execute_result"
    }
   ],
   "source": [
    "# (4) Обработаем признак events\n",
    "event_dic = {'view':0, 'addtocart':1, 'transaction':1}\n",
    "df_valid['event'] = df_valid['event'].apply(lambda x: event_dic[x])\n",
    "df_valid['event'].value_counts()"
   ]
  },
  {
   "cell_type": "code",
   "execution_count": 37,
   "id": "82058b59",
   "metadata": {},
   "outputs": [
    {
     "data": {
      "text/html": [
       "<div>\n",
       "<style scoped>\n",
       "    .dataframe tbody tr th:only-of-type {\n",
       "        vertical-align: middle;\n",
       "    }\n",
       "\n",
       "    .dataframe tbody tr th {\n",
       "        vertical-align: top;\n",
       "    }\n",
       "\n",
       "    .dataframe thead th {\n",
       "        text-align: right;\n",
       "    }\n",
       "</style>\n",
       "<table border=\"1\" class=\"dataframe\">\n",
       "  <thead>\n",
       "    <tr style=\"text-align: right;\">\n",
       "      <th></th>\n",
       "      <th>timestamp</th>\n",
       "      <th>visitorid</th>\n",
       "      <th>event</th>\n",
       "      <th>itemid</th>\n",
       "    </tr>\n",
       "  </thead>\n",
       "  <tbody>\n",
       "    <tr>\n",
       "      <th>640597</th>\n",
       "      <td>2015-08-02 23:30:55.147</td>\n",
       "      <td>171351</td>\n",
       "      <td>0</td>\n",
       "      <td>219512</td>\n",
       "    </tr>\n",
       "    <tr>\n",
       "      <th>638818</th>\n",
       "      <td>2015-08-02 23:31:03.263</td>\n",
       "      <td>706829</td>\n",
       "      <td>0</td>\n",
       "      <td>213319</td>\n",
       "    </tr>\n",
       "    <tr>\n",
       "      <th>635437</th>\n",
       "      <td>2015-08-02 23:31:06.365</td>\n",
       "      <td>245823</td>\n",
       "      <td>1</td>\n",
       "      <td>413476</td>\n",
       "    </tr>\n",
       "    <tr>\n",
       "      <th>638995</th>\n",
       "      <td>2015-08-02 23:31:07.160</td>\n",
       "      <td>275399</td>\n",
       "      <td>0</td>\n",
       "      <td>277746</td>\n",
       "    </tr>\n",
       "    <tr>\n",
       "      <th>626922</th>\n",
       "      <td>2015-08-02 23:31:10.918</td>\n",
       "      <td>886927</td>\n",
       "      <td>0</td>\n",
       "      <td>276545</td>\n",
       "    </tr>\n",
       "  </tbody>\n",
       "</table>\n",
       "</div>"
      ],
      "text/plain": [
       "                     timestamp  visitorid  event  itemid\n",
       "640597 2015-08-02 23:30:55.147     171351      0  219512\n",
       "638818 2015-08-02 23:31:03.263     706829      0  213319\n",
       "635437 2015-08-02 23:31:06.365     245823      1  413476\n",
       "638995 2015-08-02 23:31:07.160     275399      0  277746\n",
       "626922 2015-08-02 23:31:10.918     886927      0  276545"
      ]
     },
     "execution_count": 37,
     "metadata": {},
     "output_type": "execute_result"
    }
   ],
   "source": [
    "df_valid.head()"
   ]
  },
  {
   "cell_type": "code",
   "execution_count": 38,
   "id": "b3bdca76",
   "metadata": {},
   "outputs": [],
   "source": [
    "# (5) Подготовим части датасета на основе временного признака, для дальнейшего формирования из них valid выборок для модели\n",
    "start = min(df_valid['timestamp'])\n",
    "end = max(df_valid['timestamp'])\n",
    "interval = end - start\n",
    "\n",
    "valid_1 = df_valid[df_valid['timestamp'] < (end - interval/2)]\n",
    "valid_2 = df_valid[df_valid['timestamp'] >= (end - interval/2)]\n",
    "\n",
    "valid_target_user = set(valid_1['visitorid']) & set(valid_2['visitorid'])"
   ]
  },
  {
   "cell_type": "code",
   "execution_count": 39,
   "id": "3c7c18e8",
   "metadata": {},
   "outputs": [
    {
     "name": "stderr",
     "output_type": "stream",
     "text": [
      "100%|██████████████████████████████████████████████████████████████████████████| 236175/236175 [59:19<00:00, 66.36it/s]\n",
      "100%|████████████████████████████████████████████████████████████████████████████| 98007/98007 [19:15<00:00, 84.83it/s]\n"
     ]
    }
   ],
   "source": [
    "# (6) Формируем выборки с новыми признаками для частей датасета раздельно по пользователям и товарам (1 ч 19 мин)\n",
    "valid_1_u = new_feature_by_user(valid_1)\n",
    "valid_1_i = new_feature_by_item(valid_1)"
   ]
  },
  {
   "cell_type": "code",
   "execution_count": 40,
   "id": "725b3115",
   "metadata": {},
   "outputs": [],
   "source": [
    "# (7) Сформируем valid выборки, необходимые для передачи на вход модели\n",
    "X_valid, y_valid, query_list_valid = get_model_input(valid_1_u, valid_1_i, valid_2, valid_target_user)"
   ]
  },
  {
   "cell_type": "code",
   "execution_count": 41,
   "id": "6c788df9",
   "metadata": {},
   "outputs": [
    {
     "name": "stderr",
     "output_type": "stream",
     "text": [
      "100%|██████████████████████████████████████████████████████████████████████████████| 9894/9894 [03:20<00:00, 49.38it/s]\n"
     ]
    },
    {
     "data": {
      "text/html": [
       "<div>\n",
       "<style scoped>\n",
       "    .dataframe tbody tr th:only-of-type {\n",
       "        vertical-align: middle;\n",
       "    }\n",
       "\n",
       "    .dataframe tbody tr th {\n",
       "        vertical-align: top;\n",
       "    }\n",
       "\n",
       "    .dataframe thead th {\n",
       "        text-align: right;\n",
       "    }\n",
       "</style>\n",
       "<table border=\"1\" class=\"dataframe\">\n",
       "  <thead>\n",
       "    <tr style=\"text-align: right;\">\n",
       "      <th></th>\n",
       "      <th>visitorid</th>\n",
       "      <th>itemid</th>\n",
       "      <th>rank</th>\n",
       "    </tr>\n",
       "  </thead>\n",
       "  <tbody>\n",
       "    <tr>\n",
       "      <th>0</th>\n",
       "      <td>155.0</td>\n",
       "      <td>452082</td>\n",
       "      <td>1</td>\n",
       "    </tr>\n",
       "    <tr>\n",
       "      <th>1</th>\n",
       "      <td>155.0</td>\n",
       "      <td>442601</td>\n",
       "      <td>2</td>\n",
       "    </tr>\n",
       "    <tr>\n",
       "      <th>2</th>\n",
       "      <td>155.0</td>\n",
       "      <td>389974</td>\n",
       "      <td>3</td>\n",
       "    </tr>\n",
       "    <tr>\n",
       "      <th>3</th>\n",
       "      <td>425.0</td>\n",
       "      <td>87074</td>\n",
       "      <td>1</td>\n",
       "    </tr>\n",
       "    <tr>\n",
       "      <th>4</th>\n",
       "      <td>425.0</td>\n",
       "      <td>461686</td>\n",
       "      <td>2</td>\n",
       "    </tr>\n",
       "    <tr>\n",
       "      <th>...</th>\n",
       "      <td>...</td>\n",
       "      <td>...</td>\n",
       "      <td>...</td>\n",
       "    </tr>\n",
       "    <tr>\n",
       "      <th>29677</th>\n",
       "      <td>1407460.0</td>\n",
       "      <td>461686</td>\n",
       "      <td>2</td>\n",
       "    </tr>\n",
       "    <tr>\n",
       "      <th>29678</th>\n",
       "      <td>1407460.0</td>\n",
       "      <td>312728</td>\n",
       "      <td>3</td>\n",
       "    </tr>\n",
       "    <tr>\n",
       "      <th>29679</th>\n",
       "      <td>1407492.0</td>\n",
       "      <td>34251</td>\n",
       "      <td>1</td>\n",
       "    </tr>\n",
       "    <tr>\n",
       "      <th>29680</th>\n",
       "      <td>1407492.0</td>\n",
       "      <td>461686</td>\n",
       "      <td>2</td>\n",
       "    </tr>\n",
       "    <tr>\n",
       "      <th>29681</th>\n",
       "      <td>1407492.0</td>\n",
       "      <td>312728</td>\n",
       "      <td>3</td>\n",
       "    </tr>\n",
       "  </tbody>\n",
       "</table>\n",
       "<p>29682 rows × 3 columns</p>\n",
       "</div>"
      ],
      "text/plain": [
       "       visitorid  itemid  rank\n",
       "0          155.0  452082     1\n",
       "1          155.0  442601     2\n",
       "2          155.0  389974     3\n",
       "3          425.0   87074     1\n",
       "4          425.0  461686     2\n",
       "...          ...     ...   ...\n",
       "29677  1407460.0  461686     2\n",
       "29678  1407460.0  312728     3\n",
       "29679  1407492.0   34251     1\n",
       "29680  1407492.0  461686     2\n",
       "29681  1407492.0  312728     3\n",
       "\n",
       "[29682 rows x 3 columns]"
      ]
     },
     "execution_count": 41,
     "metadata": {},
     "output_type": "execute_result"
    }
   ],
   "source": [
    "# Сформируем рекомендации и расчитаем техническую метрику (~3 мин)\n",
    "predicted, p_at_3_valid = predict_at_3(model, X_valid, y_valid, top3_items)\n",
    "predicted"
   ]
  },
  {
   "cell_type": "code",
   "execution_count": 44,
   "id": "6d7df1f3",
   "metadata": {},
   "outputs": [
    {
     "name": "stdout",
     "output_type": "stream",
     "text": [
      "Товары, предложенные пользователю 1407460.0\n",
      "       itemid  rank\n",
      "29676   91093     1\n",
      "29677  461686     2\n",
      "29678  312728     3\n"
     ]
    }
   ],
   "source": [
    "# Пример предсказания для одиночного пользователя из валидационной выборки\n",
    "userid = 1407460.0\n",
    "print('Товары, предложенные пользователю', userid)\n",
    "print(predicted[predicted['visitorid'] == userid][['itemid', 'rank']])"
   ]
  },
  {
   "cell_type": "code",
   "execution_count": 46,
   "id": "9db28568",
   "metadata": {},
   "outputs": [
    {
     "name": "stdout",
     "output_type": "stream",
     "text": [
      "Реальные действия пользователя 1407460.0\n",
      "itemid\n",
      "91093    0.0\n",
      "Name: event, dtype: float64\n"
     ]
    }
   ],
   "source": [
    "print('Реальные действия пользователя', userid)\n",
    "print(y_valid[userid])"
   ]
  },
  {
   "cell_type": "code",
   "execution_count": 47,
   "id": "ea94a069",
   "metadata": {},
   "outputs": [
    {
     "name": "stdout",
     "output_type": "stream",
     "text": [
      "Precision@3 (valid): 0.015430227073647313\n"
     ]
    }
   ],
   "source": [
    "# Вывод итогового значения технической выборки\n",
    "print('Precision@3 (valid):', p_at_3_valid)"
   ]
  },
  {
   "cell_type": "markdown",
   "id": "8dc02f50",
   "metadata": {},
   "source": [
    "Итоговое значение метрики Precision@3 для валидационной выборки - 1,54%."
   ]
  },
  {
   "cell_type": "code",
   "execution_count": null,
   "id": "1f71192e",
   "metadata": {},
   "outputs": [],
   "source": []
  }
 ],
 "metadata": {
  "kernelspec": {
   "display_name": "Python 3 (ipykernel)",
   "language": "python",
   "name": "python3"
  },
  "language_info": {
   "codemirror_mode": {
    "name": "ipython",
    "version": 3
   },
   "file_extension": ".py",
   "mimetype": "text/x-python",
   "name": "python",
   "nbconvert_exporter": "python",
   "pygments_lexer": "ipython3",
   "version": "3.9.7"
  }
 },
 "nbformat": 4,
 "nbformat_minor": 5
}
