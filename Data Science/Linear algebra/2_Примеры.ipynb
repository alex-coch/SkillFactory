{
  "nbformat": 4,
  "nbformat_minor": 0,
  "metadata": {
    "colab": {
      "name": "Примеры",
      "provenance": [],
      "collapsed_sections": []
    },
    "kernelspec": {
      "name": "python3",
      "display_name": "Python 3"
    },
    "language_info": {
      "name": "python"
    }
  },
  "cells": [
    {
      "cell_type": "markdown",
      "metadata": {
        "id": "iftwt2bHBXYi"
      },
      "source": [
        "индексация"
      ]
    },
    {
      "cell_type": "code",
      "metadata": {
        "colab": {
          "base_uri": "https://localhost:8080/"
        },
        "id": "fZu6f6mUnwX-",
        "outputId": "f5a47232-45cc-4491-a48c-62c46eb04bb7"
      },
      "source": [
        "import numpy as np\n",
        "x = np.arange(10, 20)\n",
        "x"
      ],
      "execution_count": null,
      "outputs": [
        {
          "output_type": "execute_result",
          "data": {
            "text/plain": [
              "array([10, 11, 12, 13, 14, 15, 16, 17, 18, 19])"
            ]
          },
          "metadata": {
            "tags": []
          },
          "execution_count": 14
        }
      ]
    },
    {
      "cell_type": "code",
      "metadata": {
        "colab": {
          "base_uri": "https://localhost:8080/"
        },
        "id": "nQ-YeHrYpUDD",
        "outputId": "2406845c-d31f-416c-9c2c-1f7f3d4f4d5d"
      },
      "source": [
        "mask = [True, False] * 5\n",
        "mask"
      ],
      "execution_count": null,
      "outputs": [
        {
          "output_type": "execute_result",
          "data": {
            "text/plain": [
              "[True, False, True, False, True, False, True, False, True, False]"
            ]
          },
          "metadata": {
            "tags": []
          },
          "execution_count": 26
        }
      ]
    },
    {
      "cell_type": "code",
      "metadata": {
        "id": "lcZu2t9ApddQ"
      },
      "source": [
        "x = list(x)"
      ],
      "execution_count": null,
      "outputs": []
    },
    {
      "cell_type": "code",
      "metadata": {
        "id": "N8hL56YnrBTA"
      },
      "source": [
        "x = np.random.rand(3, 4, 5)"
      ],
      "execution_count": null,
      "outputs": []
    },
    {
      "cell_type": "code",
      "metadata": {
        "colab": {
          "base_uri": "https://localhost:8080/"
        },
        "id": "UeP-ImsNryjR",
        "outputId": "9d1d7aea-6d0a-41e2-e331-69794b5b3237"
      },
      "source": [
        "x.shape"
      ],
      "execution_count": null,
      "outputs": [
        {
          "output_type": "execute_result",
          "data": {
            "text/plain": [
              "(3, 4, 5)"
            ]
          },
          "metadata": {
            "tags": []
          },
          "execution_count": 50
        }
      ]
    },
    {
      "cell_type": "code",
      "metadata": {
        "colab": {
          "base_uri": "https://localhost:8080/"
        },
        "id": "CXyPoFjsrWuF",
        "outputId": "0198e94d-7e9b-4aa0-8cbb-6f7534d25a84"
      },
      "source": [
        "x[..., 0, None].shape"
      ],
      "execution_count": null,
      "outputs": [
        {
          "output_type": "execute_result",
          "data": {
            "text/plain": [
              "(3, 4, 1)"
            ]
          },
          "metadata": {
            "tags": []
          },
          "execution_count": 65
        }
      ]
    },
    {
      "cell_type": "markdown",
      "metadata": {
        "id": "N-pss23xBVf-"
      },
      "source": [
        "mean, max, min"
      ]
    },
    {
      "cell_type": "code",
      "metadata": {
        "colab": {
          "base_uri": "https://localhost:8080/"
        },
        "id": "NHaVqottslSJ",
        "outputId": "db9157b6-7805-4b0b-9867-50b471146891"
      },
      "source": [
        "x = np.arange(10)\n",
        "x"
      ],
      "execution_count": null,
      "outputs": [
        {
          "output_type": "execute_result",
          "data": {
            "text/plain": [
              "array([0, 1, 2, 3, 4, 5, 6, 7, 8, 9])"
            ]
          },
          "metadata": {
            "tags": []
          },
          "execution_count": 66
        }
      ]
    },
    {
      "cell_type": "code",
      "metadata": {
        "id": "r_6XPVP7sq3F"
      },
      "source": [
        "x = np.random.rand(4, 5, 6)"
      ],
      "execution_count": null,
      "outputs": []
    },
    {
      "cell_type": "markdown",
      "metadata": {
        "id": "H62gngxVBcz4"
      },
      "source": [
        "arange"
      ]
    },
    {
      "cell_type": "code",
      "metadata": {
        "colab": {
          "base_uri": "https://localhost:8080/"
        },
        "id": "Ej2VDbHSuK_4",
        "outputId": "79055737-300e-442a-c855-0f4da85035f2"
      },
      "source": [
        "np.arange(1, 10, 2)"
      ],
      "execution_count": null,
      "outputs": [
        {
          "output_type": "execute_result",
          "data": {
            "text/plain": [
              "array([1, 3, 5, 7, 9])"
            ]
          },
          "metadata": {
            "tags": []
          },
          "execution_count": 88
        }
      ]
    },
    {
      "cell_type": "markdown",
      "metadata": {
        "id": "KK2OdhZvBfSU"
      },
      "source": [
        "np.random.shuffle"
      ]
    },
    {
      "cell_type": "code",
      "metadata": {
        "id": "G_8nKWCyBTbD"
      },
      "source": [
        "np.zeros(30)[:, None]"
      ],
      "execution_count": null,
      "outputs": []
    },
    {
      "cell_type": "code",
      "metadata": {
        "id": "ouTzpAffBg5E",
        "colab": {
          "base_uri": "https://localhost:8080/"
        },
        "outputId": "36f1d605-f67f-4cbb-cfdb-aaf245f37d9d"
      },
      "source": [
        "x = np.arange(10)\n",
        "np.random.seed(0)\n",
        "np.random.shuffle(x)\n",
        "x"
      ],
      "execution_count": null,
      "outputs": [
        {
          "output_type": "execute_result",
          "data": {
            "text/plain": [
              "array([2, 8, 4, 9, 1, 6, 7, 3, 0, 5])"
            ]
          },
          "metadata": {
            "tags": []
          },
          "execution_count": 104
        }
      ]
    },
    {
      "cell_type": "code",
      "metadata": {
        "colab": {
          "base_uri": "https://localhost:8080/"
        },
        "id": "h3_Ale3RvAfZ",
        "outputId": "a961631d-7d6c-43f5-d8ce-8a720c9ea750"
      },
      "source": [
        "10 % 3"
      ],
      "execution_count": null,
      "outputs": [
        {
          "output_type": "execute_result",
          "data": {
            "text/plain": [
              "1"
            ]
          },
          "metadata": {
            "tags": []
          },
          "execution_count": 107
        }
      ]
    },
    {
      "cell_type": "code",
      "metadata": {
        "id": "6Z4Hl1NYvENM"
      },
      "source": [
        ""
      ],
      "execution_count": null,
      "outputs": []
    }
  ]
}