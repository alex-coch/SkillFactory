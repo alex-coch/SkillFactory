{
 "cells": [
  {
   "cell_type": "markdown",
   "metadata": {},
   "source": [
    "В данном блоке сделаем предобработку данных для дальнейшего анализа.  \n",
    "Добавим спарсенные новые данные, заполним пропуски.  \n",
    "Приведем в удобный для работы вид данных и т.д."
   ]
  },
  {
   "cell_type": "code",
   "execution_count": 460,
   "metadata": {},
   "outputs": [
    {
     "name": "stderr",
     "output_type": "stream",
     "text": [
      "[nltk_data] Downloading package vader_lexicon to\n",
      "[nltk_data]     C:\\Users\\skins\\AppData\\Roaming\\nltk_data...\n"
     ]
    }
   ],
   "source": [
    "import pandas as pd\n",
    "import numpy as np\n",
    "import re\n",
    "import time\n",
    "import datetime\n",
    "\n",
    "\n",
    "\n",
    "import nltk\n",
    "nltk.download('vader_lexicon')\n",
    "from nltk.sentiment.vader import SentimentIntensityAnalyzer\n",
    "sid = SentimentIntensityAnalyzer()\n",
    "\n",
    "import warnings\n",
    "warnings.filterwarnings(\"ignore\")"
   ]
  },
  {
   "cell_type": "code",
   "execution_count": 431,
   "metadata": {},
   "outputs": [],
   "source": [
    "# Сделаем сразу единую таблицу, для работы (чтобы с ней работать над пропусками, новыми фичами и т.д.)\n",
    "\n",
    "# вот так можно бороться с тем, что просто скачивание из Google Drive по обычной ссылке не получается\n",
    "url_main='https://drive.google.com/file/d/1bfGQ_OVPj1N3TKdW4l6a78CQFihEyYhp/view?usp=sharing'\n",
    "url_kaggle= 'https://drive.google.com/file/d/1xU6EZs5BeMRfyt8hp1uNpZBy2JCKn7w7/view?usp=sharing'\n",
    "\n",
    "url_main='https://drive.google.com/uc?id=' + url_main.split('/')[-2]\n",
    "url_kaggle='https://drive.google.com/uc?id=' + url_kaggle.split('/')[-2]\n",
    "\n",
    "data_main = pd.read_csv(url_main)\n",
    "data_kaggle = pd.read_csv(url_kaggle)\n",
    "\n",
    "# Добавим признак 'Main' для отделения основной выборки от валидационной\n",
    "data_main['Main'] = True\n",
    "data_kaggle['Main'] = False\n",
    "\n",
    "# объединим в одну табличку\n",
    "data = pd.concat([data_main, data_kaggle])\n",
    "\n",
    "# добавим столбец с полной ссылкой на ресторан\n",
    "data['URL_TA_full'] = 'https://www.tripadvisor.com' + data['URL_TA']\n",
    "\n",
    "parsed_data = pd.read_csv(r'parsed.csv')"
   ]
  },
  {
   "cell_type": "code",
   "execution_count": 432,
   "metadata": {},
   "outputs": [
    {
     "data": {
      "text/plain": [
       "(50000, 12)"
      ]
     },
     "execution_count": 432,
     "metadata": {},
     "output_type": "execute_result"
    }
   ],
   "source": [
    "# Посмотрим размер данных\n",
    "data.shape"
   ]
  },
  {
   "cell_type": "code",
   "execution_count": 433,
   "metadata": {},
   "outputs": [
    {
     "data": {
      "text/plain": [
       "(49963, 14)"
      ]
     },
     "execution_count": 433,
     "metadata": {},
     "output_type": "execute_result"
    }
   ],
   "source": [
    "# Посмотрим размер спарсенных данных\n",
    "parsed_data.shape"
   ]
  },
  {
   "cell_type": "markdown",
   "metadata": {},
   "source": [
    "37 ресторанов в исходных данных являются дубликатами, как правило, незначительно отличается ranking.\n",
    "Причем они перемешаны, некоторые находятся только в основных данных, некоторые в данных для теста\n"
   ]
  },
  {
   "cell_type": "code",
   "execution_count": 434,
   "metadata": {},
   "outputs": [
    {
     "data": {
      "text/plain": [
       "Index(['Restaurant_id', 'City', 'Cuisine Style', 'Ranking', 'Rating',\n",
       "       'Price Range', 'Number of Reviews', 'Reviews', 'URL_TA', 'ID_TA',\n",
       "       'Main', 'URL_TA_full'],\n",
       "      dtype='object')"
      ]
     },
     "execution_count": 434,
     "metadata": {},
     "output_type": "execute_result"
    }
   ],
   "source": [
    "data.columns"
   ]
  },
  {
   "cell_type": "code",
   "execution_count": 435,
   "metadata": {},
   "outputs": [
    {
     "data": {
      "text/plain": [
       "Index(['Unnamed: 0', 'alive', 'price_range', 'cuisines', 'reviews', 'rating',\n",
       "       'mean_check', 'excelent', 'very_good', 'average', 'poor', 'terrible',\n",
       "       'ranking', 'URL_TA_full'],\n",
       "      dtype='object')"
      ]
     },
     "execution_count": 435,
     "metadata": {},
     "output_type": "execute_result"
    }
   ],
   "source": [
    "parsed_data.columns"
   ]
  },
  {
   "cell_type": "code",
   "execution_count": 436,
   "metadata": {},
   "outputs": [],
   "source": [
    "df = data.merge(parsed_data, on=['URL_TA_full'])"
   ]
  },
  {
   "cell_type": "code",
   "execution_count": 437,
   "metadata": {},
   "outputs": [
    {
     "data": {
      "text/plain": [
       "(50000, 25)"
      ]
     },
     "execution_count": 437,
     "metadata": {},
     "output_type": "execute_result"
    }
   ],
   "source": [
    "df.shape"
   ]
  },
  {
   "cell_type": "code",
   "execution_count": 438,
   "metadata": {},
   "outputs": [
    {
     "name": "stdout",
     "output_type": "stream",
     "text": [
      "<class 'pandas.core.frame.DataFrame'>\n",
      "Int64Index: 50000 entries, 0 to 49999\n",
      "Data columns (total 25 columns):\n",
      " #   Column             Non-Null Count  Dtype  \n",
      "---  ------             --------------  -----  \n",
      " 0   Restaurant_id      50000 non-null  object \n",
      " 1   City               50000 non-null  object \n",
      " 2   Cuisine Style      38410 non-null  object \n",
      " 3   Ranking            50000 non-null  float64\n",
      " 4   Rating             40000 non-null  float64\n",
      " 5   Price Range        32639 non-null  object \n",
      " 6   Number of Reviews  46800 non-null  float64\n",
      " 7   Reviews            49998 non-null  object \n",
      " 8   URL_TA             50000 non-null  object \n",
      " 9   ID_TA              50000 non-null  object \n",
      " 10  Main               50000 non-null  bool   \n",
      " 11  URL_TA_full        50000 non-null  object \n",
      " 12  Unnamed: 0         50000 non-null  int64  \n",
      " 13  alive              50000 non-null  int64  \n",
      " 14  price_range        34133 non-null  object \n",
      " 15  cuisines           36647 non-null  object \n",
      " 16  reviews            36569 non-null  object \n",
      " 17  rating             36620 non-null  object \n",
      " 18  mean_check         33908 non-null  object \n",
      " 19  excelent           36620 non-null  object \n",
      " 20  very_good          36620 non-null  object \n",
      " 21  average            36620 non-null  object \n",
      " 22  poor               36620 non-null  object \n",
      " 23  terrible           36620 non-null  float64\n",
      " 24  ranking            36647 non-null  object \n",
      "dtypes: bool(1), float64(4), int64(2), object(18)\n",
      "memory usage: 9.6+ MB\n"
     ]
    }
   ],
   "source": [
    "df.info()"
   ]
  },
  {
   "cell_type": "code",
   "execution_count": 439,
   "metadata": {},
   "outputs": [],
   "source": [
    "# Поработаем с пропусками. Для начала заполним пропуски данными, которые получилось спарсить с сайта Трипэдвайзер\n",
    "def fill_nan(row_base, row_parsed):\n",
    "    for i in range(len(row_base)):\n",
    "        try:\n",
    "            if np.isnan(row_base.iloc[i]):\n",
    "                row_base.iloc[i] = row_parsed.iloc[i]\n",
    "        except:\n",
    "            if row_base.iloc[i] == '[]':\n",
    "                row_base.iloc[i] = row_parsed.iloc[i]\n",
    "            else:\n",
    "                continue\n"
   ]
  },
  {
   "cell_type": "code",
   "execution_count": 440,
   "metadata": {},
   "outputs": [],
   "source": [
    "fill_nan(df['Cuisine Style'], df['cuisines'])\n",
    "fill_nan(df['Price Range'], df['price_range'])\n",
    "fill_nan(df['Number of Reviews'], df['reviews'])"
   ]
  },
  {
   "cell_type": "code",
   "execution_count": 441,
   "metadata": {},
   "outputs": [
    {
     "name": "stdout",
     "output_type": "stream",
     "text": [
      "<class 'pandas.core.frame.DataFrame'>\n",
      "Int64Index: 50000 entries, 0 to 49999\n",
      "Data columns (total 25 columns):\n",
      " #   Column             Non-Null Count  Dtype  \n",
      "---  ------             --------------  -----  \n",
      " 0   Restaurant_id      50000 non-null  object \n",
      " 1   City               50000 non-null  object \n",
      " 2   Cuisine Style      46803 non-null  object \n",
      " 3   Ranking            50000 non-null  float64\n",
      " 4   Rating             40000 non-null  float64\n",
      " 5   Price Range        43160 non-null  object \n",
      " 6   Number of Reviews  49157 non-null  object \n",
      " 7   Reviews            49998 non-null  object \n",
      " 8   URL_TA             50000 non-null  object \n",
      " 9   ID_TA              50000 non-null  object \n",
      " 10  Main               50000 non-null  bool   \n",
      " 11  URL_TA_full        50000 non-null  object \n",
      " 12  Unnamed: 0         50000 non-null  int64  \n",
      " 13  alive              50000 non-null  int64  \n",
      " 14  price_range        34133 non-null  object \n",
      " 15  cuisines           36647 non-null  object \n",
      " 16  reviews            36569 non-null  object \n",
      " 17  rating             36620 non-null  object \n",
      " 18  mean_check         33908 non-null  object \n",
      " 19  excelent           36620 non-null  object \n",
      " 20  very_good          36620 non-null  object \n",
      " 21  average            36620 non-null  object \n",
      " 22  poor               36620 non-null  object \n",
      " 23  terrible           36620 non-null  float64\n",
      " 24  ranking            36647 non-null  object \n",
      "dtypes: bool(1), float64(3), int64(2), object(19)\n",
      "memory usage: 9.6+ MB\n"
     ]
    }
   ],
   "source": [
    "# Картина с пропусками существенно улучшилась\n",
    "df.info()"
   ]
  },
  {
   "cell_type": "code",
   "execution_count": 442,
   "metadata": {},
   "outputs": [
    {
     "name": "stdout",
     "output_type": "stream",
     "text": [
      "<class 'pandas.core.series.Series'>\n",
      "Int64Index: 10000 entries, 3441 to 49999\n",
      "Series name: rating\n",
      "Non-Null Count  Dtype \n",
      "--------------  ----- \n",
      "7373 non-null   object\n",
      "dtypes: object(1)\n",
      "memory usage: 156.2+ KB\n"
     ]
    }
   ],
   "source": [
    "# кстати ради интереса можно посмотреть, сколько рейтингов, которые нужно предсказать, мы спарсили с сайта Трипэдвайзера )))\n",
    "df[df['Main'] == False]['rating'].info()"
   ]
  },
  {
   "cell_type": "code",
   "execution_count": 443,
   "metadata": {},
   "outputs": [],
   "source": [
    "# сохраним себе отдельно спарсенный рейтинг\n",
    "parsed_raiting = df[df['Main'] == False][['Restaurant_id', 'rating']]\n",
    "parsed_raiting.to_csv(r'parsed_raiting.csv')"
   ]
  },
  {
   "cell_type": "markdown",
   "metadata": {},
   "source": [
    "как видим по 7373 ресторанам можно не делать предсказание рейтинга, так как он у нас уже есть )))"
   ]
  },
  {
   "cell_type": "code",
   "execution_count": 444,
   "metadata": {},
   "outputs": [],
   "source": [
    "# остатки пропусков в колонке Cuisine Style заполним каким-нибудь одним стилем - типа 'usual'\n",
    "# так же переведем формат данных в удобный список\n",
    "df['Cuisine Style'] = df['Cuisine Style'].fillna(\"['usual']\")\n",
    "df['Cuisine Style'] = df['Cuisine Style'].apply(lambda x: \"['usual']\" if x == '[]' else x)\n",
    "df['Cuisine Style'] = df['Cuisine Style'].apply(lambda x: x[2:-2].split(\"', '\"))"
   ]
  },
  {
   "cell_type": "code",
   "execution_count": 445,
   "metadata": {},
   "outputs": [
    {
     "data": {
      "text/plain": [
       "array(['$$ - $$$', '$$$$', '$*', '$'], dtype=object)"
      ]
     },
     "execution_count": 445,
     "metadata": {},
     "output_type": "execute_result"
    }
   ],
   "source": [
    "# В Price Range много пропусков, обусловленно тем, что либо ресторан уже неживой, либо на сайте Трипэдвайзера этих данных нет.\n",
    "# выведем все пропуски в отдельную категорию '$*'\n",
    "df['Price Range'] = df['Price Range'].apply(lambda x: x if x in ['$$ - $$$', '$$$$', '$'] else '$*')\n",
    "df['Price Range'].unique()"
   ]
  },
  {
   "cell_type": "code",
   "execution_count": 446,
   "metadata": {},
   "outputs": [],
   "source": [
    "# Number Reviews - кол-во отзывов. Логично Nan заменить на 0.\n",
    "df['Number of Reviews'].fillna(0, inplace=True)"
   ]
  },
  {
   "cell_type": "code",
   "execution_count": 447,
   "metadata": {},
   "outputs": [],
   "source": [
    "# спарсенный рейтинг приведем к float, пропуски заменим (0, средним или медианой...) - медианой\n",
    "rating_median = df[df['Main'] == True]['Rating'].median()\n",
    "df['rating'] = df['rating'].apply(lambda x: float(x) if type(x) == str else rating_median)"
   ]
  },
  {
   "cell_type": "code",
   "execution_count": 448,
   "metadata": {},
   "outputs": [],
   "source": [
    "# Reviews Содержит как текст отзыва, так и даты когда были опубликованы эти отзывы\n",
    "# Выдернем отдельно даты, отдельно текст отзыва\n",
    "\n",
    "# добавим разницу в днях между отзывами и время в днях с последнего отзыва \n",
    "#сначала новые столбцы с датами отзывов\n",
    "pattern = re.compile('\\d{2}/\\d{2}/\\d{4}')\n",
    "reviews=[]\n",
    "for i in df['Reviews']:\n",
    "    try:\n",
    "        reviews.append(re.findall(pattern, i))\n",
    "    except:\n",
    "        reviews.append(['01/01/1970', '01/01/1970'])\n",
    "\n",
    "date=pd.DataFrame(reviews)  #отдельный датафрейм для удобства\n",
    "date = date.fillna(0)  # заполним пропуски нулями\n",
    "date.columns=['date1', 'date2']\n",
    "date['date1'] = pd.to_datetime(date['date1'])\n",
    "date['date2'] = pd.to_datetime(date['date2']) \n",
    "\n",
    "df['time_between'] = (date['date1'] - date['date2']).apply(lambda x : abs(float(x.days)))  \n",
    "# время от последнего отзыва\n",
    "\n",
    "last_time_review = []\n",
    "for i in date['date1']:\n",
    "    last_time_review.append(float((datetime.datetime.today() - i).days))\n",
    "    \n",
    "df['last_time_review'] = last_time_review\n",
    "\n",
    "# Текст отзыва вынесем в отдельный столбец, после чего сам Reviews нам будет не нужен\n",
    "df['text_reviews'] = df['Reviews'].str.slice(start = 2)\n",
    "df['text_reviews'] = df['text_reviews'].str.split('],').str[0]\n",
    "# пропуски заменим на ''\n",
    "df['text_reviews'].fillna('', inplace=True)"
   ]
  },
  {
   "cell_type": "code",
   "execution_count": 449,
   "metadata": {},
   "outputs": [],
   "source": [
    "# Оценки отзывов (excelent, very_good, average, poor, terrible). Пропуски заполним нулями, цифры приведем к float\n",
    "for i in ['excelent', 'very_good', 'average', 'poor', 'terrible']:\n",
    "    df[i].fillna('0', inplace=True)\n",
    "    df[i] = df[i].apply(lambda x: x.replace(',', '') if type(x)==str else x)\n",
    "    df[i] = df[i].apply(lambda x: float(x))"
   ]
  },
  {
   "cell_type": "code",
   "execution_count": 450,
   "metadata": {},
   "outputs": [],
   "source": [
    "# ranking указано место среди ресторанов города (по определенному виду кухни, либо в целом)\n",
    "# уберем запятые внутри цифр\n",
    "df['ranking'] = df['ranking'].apply(lambda x: x.replace(',', '') if type(x)==str else x)\n",
    "# выдернем цифры из ячеек\n",
    "pattern = re.compile(r'\\d+')\n",
    "ranks=[]\n",
    "for i in df['ranking']:\n",
    "    try:\n",
    "        ranks.append(re.findall(pattern, i))\n",
    "    except:\n",
    "        ranks.append([0,0])\n",
    "df['ranking'] = ranks\n",
    "df['ranking'] = df['ranking'].apply(lambda x: [0,0] if x == [] else x)\n",
    "\n",
    "#добавим кол-во ресторанов в городе\n",
    "df['rest_number'] = df['ranking'].apply(lambda x: float(x[-1]))\n",
    "\n",
    "# Заполним кол-во ресторанов их макс значением по городу\n",
    "data_grouped = df.groupby('City').max()\n",
    "for i in range(df.shape[0]):\n",
    "    df['rest_number'].iloc[i] = data_grouped[data_grouped.index == df['City'].iloc[i]]['rest_number']\n"
   ]
  },
  {
   "cell_type": "code",
   "execution_count": 451,
   "metadata": {},
   "outputs": [],
   "source": [
    "# уберем ненужные теперь столбцы\n",
    "df.drop(['cuisines', 'price_range', 'reviews', 'Unnamed: 0', 'URL_TA', 'URL_TA_full', 'mean_check', 'Reviews', 'ranking'], axis = 1, inplace=True)"
   ]
  },
  {
   "cell_type": "code",
   "execution_count": 452,
   "metadata": {},
   "outputs": [
    {
     "data": {
      "text/html": [
       "<div>\n",
       "<style scoped>\n",
       "    .dataframe tbody tr th:only-of-type {\n",
       "        vertical-align: middle;\n",
       "    }\n",
       "\n",
       "    .dataframe tbody tr th {\n",
       "        vertical-align: top;\n",
       "    }\n",
       "\n",
       "    .dataframe thead th {\n",
       "        text-align: right;\n",
       "    }\n",
       "</style>\n",
       "<table border=\"1\" class=\"dataframe\">\n",
       "  <thead>\n",
       "    <tr style=\"text-align: right;\">\n",
       "      <th></th>\n",
       "      <th>Restaurant_id</th>\n",
       "      <th>City</th>\n",
       "      <th>Cuisine Style</th>\n",
       "      <th>Ranking</th>\n",
       "      <th>Rating</th>\n",
       "      <th>Price Range</th>\n",
       "      <th>Number of Reviews</th>\n",
       "      <th>ID_TA</th>\n",
       "      <th>Main</th>\n",
       "      <th>alive</th>\n",
       "      <th>rating</th>\n",
       "      <th>excelent</th>\n",
       "      <th>very_good</th>\n",
       "      <th>average</th>\n",
       "      <th>poor</th>\n",
       "      <th>terrible</th>\n",
       "      <th>time_between</th>\n",
       "      <th>last_time_review</th>\n",
       "      <th>text_reviews</th>\n",
       "      <th>rest_number</th>\n",
       "    </tr>\n",
       "  </thead>\n",
       "  <tbody>\n",
       "    <tr>\n",
       "      <th>38177</th>\n",
       "      <td>id_1738</td>\n",
       "      <td>Athens</td>\n",
       "      <td>[Greek]</td>\n",
       "      <td>1740.0</td>\n",
       "      <td>4.0</td>\n",
       "      <td>$*</td>\n",
       "      <td>6.0</td>\n",
       "      <td>d3371337</td>\n",
       "      <td>True</td>\n",
       "      <td>1</td>\n",
       "      <td>4.0</td>\n",
       "      <td>4.0</td>\n",
       "      <td>0.0</td>\n",
       "      <td>0.0</td>\n",
       "      <td>0.0</td>\n",
       "      <td>0.0</td>\n",
       "      <td>28.0</td>\n",
       "      <td>2597.0</td>\n",
       "      <td>'Very nice', 'Still a favourite!!!'</td>\n",
       "      <td>2460.0</td>\n",
       "    </tr>\n",
       "    <tr>\n",
       "      <th>29569</th>\n",
       "      <td>id_1164</td>\n",
       "      <td>Edinburgh</td>\n",
       "      <td>[usual]</td>\n",
       "      <td>1165.0</td>\n",
       "      <td>4.5</td>\n",
       "      <td>$*</td>\n",
       "      <td>5.0</td>\n",
       "      <td>d11948944</td>\n",
       "      <td>True</td>\n",
       "      <td>1</td>\n",
       "      <td>4.5</td>\n",
       "      <td>3.0</td>\n",
       "      <td>3.0</td>\n",
       "      <td>0.0</td>\n",
       "      <td>0.0</td>\n",
       "      <td>0.0</td>\n",
       "      <td>51.0</td>\n",
       "      <td>1723.0</td>\n",
       "      <td>'Small but good', 'Top value'</td>\n",
       "      <td>1785.0</td>\n",
       "    </tr>\n",
       "  </tbody>\n",
       "</table>\n",
       "</div>"
      ],
      "text/plain": [
       "      Restaurant_id       City Cuisine Style  Ranking  Rating Price Range  \\\n",
       "38177       id_1738     Athens       [Greek]   1740.0     4.0          $*   \n",
       "29569       id_1164  Edinburgh       [usual]   1165.0     4.5          $*   \n",
       "\n",
       "      Number of Reviews      ID_TA  Main  alive  rating  excelent  very_good  \\\n",
       "38177               6.0   d3371337  True      1     4.0       4.0        0.0   \n",
       "29569               5.0  d11948944  True      1     4.5       3.0        3.0   \n",
       "\n",
       "       average  poor  terrible  time_between  last_time_review  \\\n",
       "38177      0.0   0.0       0.0          28.0            2597.0   \n",
       "29569      0.0   0.0       0.0          51.0            1723.0   \n",
       "\n",
       "                              text_reviews  rest_number  \n",
       "38177  'Very nice', 'Still a favourite!!!'       2460.0  \n",
       "29569        'Small but good', 'Top value'       1785.0  "
      ]
     },
     "execution_count": 452,
     "metadata": {},
     "output_type": "execute_result"
    }
   ],
   "source": [
    "# Посмотрим что получилось\n",
    "df.sample(2)"
   ]
  },
  {
   "cell_type": "code",
   "execution_count": 453,
   "metadata": {},
   "outputs": [
    {
     "name": "stdout",
     "output_type": "stream",
     "text": [
      "<class 'pandas.core.frame.DataFrame'>\n",
      "Int64Index: 50000 entries, 0 to 49999\n",
      "Data columns (total 20 columns):\n",
      " #   Column             Non-Null Count  Dtype  \n",
      "---  ------             --------------  -----  \n",
      " 0   Restaurant_id      50000 non-null  object \n",
      " 1   City               50000 non-null  object \n",
      " 2   Cuisine Style      50000 non-null  object \n",
      " 3   Ranking            50000 non-null  float64\n",
      " 4   Rating             40000 non-null  float64\n",
      " 5   Price Range        50000 non-null  object \n",
      " 6   Number of Reviews  50000 non-null  object \n",
      " 7   ID_TA              50000 non-null  object \n",
      " 8   Main               50000 non-null  bool   \n",
      " 9   alive              50000 non-null  int64  \n",
      " 10  rating             50000 non-null  float64\n",
      " 11  excelent           50000 non-null  float64\n",
      " 12  very_good          50000 non-null  float64\n",
      " 13  average            50000 non-null  float64\n",
      " 14  poor               50000 non-null  float64\n",
      " 15  terrible           50000 non-null  float64\n",
      " 16  time_between       50000 non-null  float64\n",
      " 17  last_time_review   50000 non-null  float64\n",
      " 18  text_reviews       50000 non-null  object \n",
      " 19  rest_number        50000 non-null  float64\n",
      "dtypes: bool(1), float64(11), int64(1), object(7)\n",
      "memory usage: 7.7+ MB\n"
     ]
    }
   ],
   "source": [
    "df.info()"
   ]
  },
  {
   "cell_type": "markdown",
   "metadata": {},
   "source": [
    "### добавим признаки"
   ]
  },
  {
   "cell_type": "code",
   "execution_count": 457,
   "metadata": {},
   "outputs": [],
   "source": [
    "# обработаем Restaurant_id (является сетевым или нет) сделаем из него бинарный признак\n",
    "rest_id = df['Restaurant_id'].value_counts()\n",
    "df['net_rest'] = df['Restaurant_id'].apply(lambda x: 1 if rest_id[rest_id.index == x][0] > 1 else 0)\n",
    "\n",
    "# Добавим столбец, относится город к столице или нет\n",
    "capitals = ['Paris', 'Stockholm', 'London', 'Berlin', 'Bratislava', 'Vienna', 'Rome', 'Madrid', 'Dublin', 'Brussels',\n",
    "            'Warsaw', 'Budapest', 'Copenhagen', 'Amsterdam', 'Lisbon', 'Prague', 'Oslo','Helsinki', 'Edinburgh', \n",
    "            'Ljubljana', 'Athens','Luxembourg']\n",
    "df['is_capital'] = df['City'].apply(lambda x: 1 if x in capitals else 0)\n",
    "\n",
    "# добавим столбец с кол-вом кухонь\n",
    "df['cuisines_number'] = df['Cuisine Style'].apply(lambda x: len(x))\n",
    "\n",
    "# Добавим население из Google (честно заимствовано у коллег)\n",
    "population = {\n",
    "    'London': 8908081,\n",
    "    'Paris': 2240621,\n",
    "    'Madrid': 3155360,\n",
    "    'Barcelona': 1593075,\n",
    "    'Berlin': 3326002,\n",
    "    'Milan': 1331586,\n",
    "    'Rome': 2870493,\n",
    "    'Prague': 1272690,\n",
    "    'Lisbon': 547733,\n",
    "    'Vienna': 1765649,\n",
    "    'Amsterdam': 825080,\n",
    "    'Brussels': 144784,\n",
    "    'Hamburg': 1718187,\n",
    "    'Munich': 1364920,\n",
    "    'Lyon': 496343,\n",
    "    'Stockholm': 1981263,\n",
    "    'Budapest': 1744665,\n",
    "    'Warsaw': 1720398,\n",
    "    'Dublin': 506211 ,\n",
    "    'Copenhagen': 1246611,\n",
    "    'Athens': 3168846,\n",
    "    'Edinburgh': 476100,\n",
    "    'Zurich': 402275,\n",
    "    'Oporto': 221800,\n",
    "    'Geneva': 196150,\n",
    "    'Krakow': 756183,\n",
    "    'Oslo': 673469,\n",
    "    'Helsinki': 574579,\n",
    "    'Bratislava': 413192,\n",
    "    'Luxembourg': 576249,\n",
    "    'Ljubljana': 277554\n",
    "}\n",
    "df['population'] = df['City'].map(population)\n",
    "\n",
    "# площадь города, квадратных километров \n",
    "square = {\n",
    "    'London': 1572,\n",
    "    'Paris': 105.4,\n",
    "    'Madrid': 607,\n",
    "    'Barcelona': 100.4,\n",
    "    'Berlin': 891.68,\n",
    "    'Milan': 181.67,\n",
    "    'Rome': 1287.36,\n",
    "    'Prague': 500,\n",
    "    'Lisbon': 100.05,\n",
    "    'Vienna': 414.75,\n",
    "    'Amsterdam': 219.4,\n",
    "    'Brussels': 32.61,\n",
    "    'Hamburg': 755.09,\n",
    "    'Munich': 310.71,\n",
    "    'Lyon': 47.87,\n",
    "    'Stockholm': 188,\n",
    "    'Budapest': 525.14,\n",
    "    'Warsaw': 517,\n",
    "    'Dublin':  318,\n",
    "    'Copenhagen': 86.4,\n",
    "    'Athens': 412,\n",
    "    'Edinburgh': 118,\n",
    "    'Zurich': 91.88,\n",
    "    'Oporto': 41.66,\n",
    "    'Geneva': 15.93,\n",
    "    'Krakow': 327,\n",
    "    'Oslo': 454,\n",
    "    'Helsinki': 715.48,\n",
    "    'Bratislava': 368,\n",
    "    'Luxembourg': 2586.4,\n",
    "    'Ljubljana': 163.8\n",
    "}\n",
    "df['city_square'] = df['City'].map(square)"
   ]
  },
  {
   "cell_type": "code",
   "execution_count": 461,
   "metadata": {},
   "outputs": [],
   "source": [
    "# С помощью библиотеки SentimentIntensityAnalyzer добавим признаки - с какой вероятностью к какому отзыву относится сам отзыв\n",
    "# Определение тональности отзывов. По стуи вероятность отнесения к позитивному, негативному или нейтральному отзыву\n",
    "\n",
    "df['negative'] = df['text_reviews'].apply(lambda x: sid.polarity_scores(str(x))['neg']) \n",
    "\n",
    "df['neutra'] = df['text_reviews'].apply(lambda x: sid.polarity_scores(str(x))['neu'])\n",
    "\n",
    "df['positive'] = df['text_reviews'].apply(lambda x: sid.polarity_scores(str(x))['pos'])\n",
    "\n",
    "df['compound'] = df['text_reviews'].apply(lambda x: sid.polarity_scores(str(x))['compound'])"
   ]
  },
  {
   "cell_type": "markdown",
   "metadata": {},
   "source": [
    "### на этом пока остановимся. Дальнейшая генерация признаков, при более тщательном рассмотрениии каждого в EDA"
   ]
  },
  {
   "cell_type": "code",
   "execution_count": 465,
   "metadata": {},
   "outputs": [
    {
     "name": "stdout",
     "output_type": "stream",
     "text": [
      "<class 'pandas.core.frame.DataFrame'>\n",
      "Int64Index: 50000 entries, 0 to 49999\n",
      "Data columns (total 29 columns):\n",
      " #   Column             Non-Null Count  Dtype  \n",
      "---  ------             --------------  -----  \n",
      " 0   Restaurant_id      50000 non-null  object \n",
      " 1   City               50000 non-null  object \n",
      " 2   Cuisine Style      50000 non-null  object \n",
      " 3   Ranking            50000 non-null  float64\n",
      " 4   Rating             40000 non-null  float64\n",
      " 5   Price Range        50000 non-null  object \n",
      " 6   Number of Reviews  50000 non-null  object \n",
      " 7   ID_TA              50000 non-null  object \n",
      " 8   Main               50000 non-null  bool   \n",
      " 9   alive              50000 non-null  int64  \n",
      " 10  rating             50000 non-null  float64\n",
      " 11  excelent           50000 non-null  float64\n",
      " 12  very_good          50000 non-null  float64\n",
      " 13  average            50000 non-null  float64\n",
      " 14  poor               50000 non-null  float64\n",
      " 15  terrible           50000 non-null  float64\n",
      " 16  time_between       50000 non-null  float64\n",
      " 17  last_time_review   50000 non-null  float64\n",
      " 18  text_reviews       50000 non-null  object \n",
      " 19  rest_number        50000 non-null  float64\n",
      " 20  is_capital         50000 non-null  int64  \n",
      " 21  cuisines_number    50000 non-null  int64  \n",
      " 22  population         50000 non-null  int64  \n",
      " 23  city_square        50000 non-null  float64\n",
      " 24  net_rest           50000 non-null  int64  \n",
      " 25  negative           50000 non-null  float64\n",
      " 26  neutra             50000 non-null  float64\n",
      " 27  positive           50000 non-null  float64\n",
      " 28  compound           50000 non-null  float64\n",
      "dtypes: bool(1), float64(16), int64(5), object(7)\n",
      "memory usage: 11.1+ MB\n"
     ]
    }
   ],
   "source": [
    "df.to_csv(r'all_in.csv', index=False)\n",
    "df.info()"
   ]
  },
  {
   "cell_type": "code",
   "execution_count": null,
   "metadata": {},
   "outputs": [],
   "source": []
  }
 ],
 "metadata": {
  "kernelspec": {
   "display_name": "Python 3.10.4 64-bit",
   "language": "python",
   "name": "python3"
  },
  "language_info": {
   "codemirror_mode": {
    "name": "ipython",
    "version": 3
   },
   "file_extension": ".py",
   "mimetype": "text/x-python",
   "name": "python",
   "nbconvert_exporter": "python",
   "pygments_lexer": "ipython3",
   "version": "3.10.4"
  },
  "orig_nbformat": 4,
  "vscode": {
   "interpreter": {
    "hash": "26de051ba29f2982a8de78e945f0abaf191376122a1563185a90213a26c5da77"
   }
  }
 },
 "nbformat": 4,
 "nbformat_minor": 2
}
