{
 "cells": [
  {
   "cell_type": "markdown",
   "metadata": {},
   "source": [
    "В этом соревновании предложен датасет, содержащий сведения о ресторанах. С помощью имеющего кода, необходимо создать модель, использующую алгоритм RandomForestRegression, которая будет прогнозировать рейтинг ресторана по версии TripAdvidor.\n",
    "\n",
    "Для победы в конкурсе необходимо качественно очистить датасет, подобрать подходящие значения для заполнения пропусков и создать новые признаки на основе той информации, которую вы сможете извлечь из имеющихся в вашем распоряжении данных."
   ]
  },
  {
   "cell_type": "markdown",
   "metadata": {},
   "source": [
    "Перед финальной подготовкой признаков для ml была проделана следующая работа:\n",
    "- По всем ресторанам были \"спарсены\" данные (и те которые есть, и дополнительные)  \n",
    "Парсер вынесен в отдельный файл (parser.py), запускался на нескольких удаленных серверах для увеличения скорости парсинга. \n",
    "Сервера на дебиан. Парсер был запущен в фоновом режиме (nohup python3 parser.py &)  \n",
    "Далее все данные были объеденены в один файл (parsed.csv)\n",
    "- На втором этапе была проведена предвариельная подготовка данных (preprocessing.ipynb).\n",
    "Здесь дополнял пропуски спарсенными данными. Если не хватало данных производил иную обработку пропусков. Также были добавлены новые признаки."
   ]
  },
  {
   "cell_type": "code",
   "execution_count": 1,
   "metadata": {
    "execution": {
     "iopub.execute_input": "2022-07-01T08:07:53.497753Z",
     "iopub.status.busy": "2022-07-01T08:07:53.497024Z",
     "iopub.status.idle": "2022-07-01T08:07:53.503589Z",
     "shell.execute_reply": "2022-07-01T08:07:53.502661Z",
     "shell.execute_reply.started": "2022-07-01T08:07:53.497693Z"
    }
   },
   "outputs": [],
   "source": [
    "import pandas as pd\n",
    "import numpy as np\n",
    "import seaborn as sns\n",
    "import matplotlib.pyplot as plt\n",
    "\n",
    "from sklearn.ensemble import RandomForestRegressor \n",
    "from sklearn import metrics \n",
    "from sklearn.model_selection import train_test_split\n",
    "from sklearn.preprocessing import MinMaxScaler\n",
    "\n",
    "\n",
    "\n",
    "import warnings\n",
    "warnings.filterwarnings('ignore')"
   ]
  },
  {
   "cell_type": "code",
   "execution_count": 2,
   "metadata": {
    "execution": {
     "iopub.execute_input": "2022-07-01T08:07:53.505649Z",
     "iopub.status.busy": "2022-07-01T08:07:53.505298Z",
     "iopub.status.idle": "2022-07-01T08:07:53.528907Z",
     "shell.execute_reply": "2022-07-01T08:07:53.527960Z",
     "shell.execute_reply.started": "2022-07-01T08:07:53.505591Z"
    }
   },
   "outputs": [
    {
     "name": "stdout",
     "output_type": "stream",
     "text": [
      "/kaggle/input/data-for-prediction-restaurant-rating/parsed.csv\n",
      "/kaggle/input/data-for-prediction-restaurant-rating/all_in.csv\n",
      "/kaggle/input/data-for-prediction-restaurant-rating/parser.py\n",
      "/kaggle/input/data-for-prediction-restaurant-rating/preprocessing.ipynb\n",
      "/kaggle/input/sf-dst-restaurant-rating/sample_submission.csv\n",
      "/kaggle/input/sf-dst-restaurant-rating/main_task.csv\n",
      "/kaggle/input/sf-dst-restaurant-rating/kaggle_task.csv\n"
     ]
    }
   ],
   "source": [
    "import os\n",
    "for dirname, _, filenames in os.walk('/kaggle/input'):\n",
    "    for filename in filenames:\n",
    "        print(os.path.join(dirname, filename))"
   ]
  },
  {
   "cell_type": "code",
   "execution_count": 3,
   "metadata": {
    "execution": {
     "iopub.execute_input": "2022-07-01T08:07:53.530823Z",
     "iopub.status.busy": "2022-07-01T08:07:53.530285Z",
     "iopub.status.idle": "2022-07-01T08:07:53.537657Z",
     "shell.execute_reply": "2022-07-01T08:07:53.536641Z",
     "shell.execute_reply.started": "2022-07-01T08:07:53.530775Z"
    }
   },
   "outputs": [],
   "source": [
    "# Зафиксируем будущие эксперименты\n",
    "RANDOM_SEED = 42"
   ]
  },
  {
   "cell_type": "code",
   "execution_count": 4,
   "metadata": {
    "execution": {
     "iopub.execute_input": "2022-07-01T08:07:53.539846Z",
     "iopub.status.busy": "2022-07-01T08:07:53.539381Z",
     "iopub.status.idle": "2022-07-01T08:07:53.895538Z",
     "shell.execute_reply": "2022-07-01T08:07:53.894117Z",
     "shell.execute_reply.started": "2022-07-01T08:07:53.539784Z"
    }
   },
   "outputs": [
    {
     "data": {
      "text/html": [
       "<div>\n",
       "<style scoped>\n",
       "    .dataframe tbody tr th:only-of-type {\n",
       "        vertical-align: middle;\n",
       "    }\n",
       "\n",
       "    .dataframe tbody tr th {\n",
       "        vertical-align: top;\n",
       "    }\n",
       "\n",
       "    .dataframe thead th {\n",
       "        text-align: right;\n",
       "    }\n",
       "</style>\n",
       "<table border=\"1\" class=\"dataframe\">\n",
       "  <thead>\n",
       "    <tr style=\"text-align: right;\">\n",
       "      <th></th>\n",
       "      <th>Restaurant_id</th>\n",
       "      <th>City</th>\n",
       "      <th>Cuisine Style</th>\n",
       "      <th>Ranking</th>\n",
       "      <th>Rating</th>\n",
       "      <th>Price Range</th>\n",
       "      <th>Number of Reviews</th>\n",
       "      <th>ID_TA</th>\n",
       "      <th>Main</th>\n",
       "      <th>alive</th>\n",
       "      <th>...</th>\n",
       "      <th>rest_number</th>\n",
       "      <th>is_capital</th>\n",
       "      <th>cuisines_number</th>\n",
       "      <th>population</th>\n",
       "      <th>city_square</th>\n",
       "      <th>net_rest</th>\n",
       "      <th>negative</th>\n",
       "      <th>neutra</th>\n",
       "      <th>positive</th>\n",
       "      <th>compound</th>\n",
       "    </tr>\n",
       "  </thead>\n",
       "  <tbody>\n",
       "    <tr>\n",
       "      <th>43509</th>\n",
       "      <td>id_3497</td>\n",
       "      <td>Paris</td>\n",
       "      <td>['South American', 'Mexican', 'Central American']</td>\n",
       "      <td>4224.0</td>\n",
       "      <td>NaN</td>\n",
       "      <td>$$ - $$$</td>\n",
       "      <td>84.0</td>\n",
       "      <td>d7035511</td>\n",
       "      <td>False</td>\n",
       "      <td>0</td>\n",
       "      <td>...</td>\n",
       "      <td>15921.0</td>\n",
       "      <td>1</td>\n",
       "      <td>3</td>\n",
       "      <td>2240621</td>\n",
       "      <td>105.40</td>\n",
       "      <td>1</td>\n",
       "      <td>0.178</td>\n",
       "      <td>0.612</td>\n",
       "      <td>0.210</td>\n",
       "      <td>0.1205</td>\n",
       "    </tr>\n",
       "    <tr>\n",
       "      <th>47847</th>\n",
       "      <td>id_7843</td>\n",
       "      <td>Lyon</td>\n",
       "      <td>['Vegetarian Friendly', 'Vegan Options', 'Glut...</td>\n",
       "      <td>371.0</td>\n",
       "      <td>NaN</td>\n",
       "      <td>$$ - $$$</td>\n",
       "      <td>97.0</td>\n",
       "      <td>d8719996</td>\n",
       "      <td>False</td>\n",
       "      <td>1</td>\n",
       "      <td>...</td>\n",
       "      <td>2657.0</td>\n",
       "      <td>0</td>\n",
       "      <td>3</td>\n",
       "      <td>496343</td>\n",
       "      <td>47.87</td>\n",
       "      <td>1</td>\n",
       "      <td>0.000</td>\n",
       "      <td>0.325</td>\n",
       "      <td>0.675</td>\n",
       "      <td>0.8860</td>\n",
       "    </tr>\n",
       "  </tbody>\n",
       "</table>\n",
       "<p>2 rows × 29 columns</p>\n",
       "</div>"
      ],
      "text/plain": [
       "      Restaurant_id   City                                      Cuisine Style  \\\n",
       "43509       id_3497  Paris  ['South American', 'Mexican', 'Central American']   \n",
       "47847       id_7843   Lyon  ['Vegetarian Friendly', 'Vegan Options', 'Glut...   \n",
       "\n",
       "       Ranking  Rating Price Range  Number of Reviews     ID_TA   Main  alive  \\\n",
       "43509   4224.0     NaN    $$ - $$$               84.0  d7035511  False      0   \n",
       "47847    371.0     NaN    $$ - $$$               97.0  d8719996  False      1   \n",
       "\n",
       "       ...  rest_number  is_capital  cuisines_number  population  city_square  \\\n",
       "43509  ...      15921.0           1                3     2240621       105.40   \n",
       "47847  ...       2657.0           0                3      496343        47.87   \n",
       "\n",
       "       net_rest  negative  neutra positive  compound  \n",
       "43509         1     0.178   0.612    0.210    0.1205  \n",
       "47847         1     0.000   0.325    0.675    0.8860  \n",
       "\n",
       "[2 rows x 29 columns]"
      ]
     },
     "execution_count": 4,
     "metadata": {},
     "output_type": "execute_result"
    }
   ],
   "source": [
    "# Загрузим итоговые данные и проведем EDA (Разведочный анализ данных)\n",
    "df = pd.read_csv('/kaggle/input/data-for-prediction-restaurant-rating/all_in.csv')\n",
    "df.sample(2)"
   ]
  },
  {
   "cell_type": "code",
   "execution_count": 5,
   "metadata": {
    "execution": {
     "iopub.execute_input": "2022-07-01T08:07:53.899909Z",
     "iopub.status.busy": "2022-07-01T08:07:53.899480Z",
     "iopub.status.idle": "2022-07-01T08:07:53.929317Z",
     "shell.execute_reply": "2022-07-01T08:07:53.927927Z",
     "shell.execute_reply.started": "2022-07-01T08:07:53.899850Z"
    }
   },
   "outputs": [
    {
     "name": "stdout",
     "output_type": "stream",
     "text": [
      "<class 'pandas.core.frame.DataFrame'>\n",
      "RangeIndex: 50000 entries, 0 to 49999\n",
      "Data columns (total 29 columns):\n",
      "Restaurant_id        50000 non-null object\n",
      "City                 50000 non-null object\n",
      "Cuisine Style        50000 non-null object\n",
      "Ranking              50000 non-null float64\n",
      "Rating               40000 non-null float64\n",
      "Price Range          50000 non-null object\n",
      "Number of Reviews    50000 non-null float64\n",
      "ID_TA                50000 non-null object\n",
      "Main                 50000 non-null bool\n",
      "alive                50000 non-null int64\n",
      "rating               50000 non-null float64\n",
      "excelent             50000 non-null float64\n",
      "very_good            50000 non-null float64\n",
      "average              50000 non-null float64\n",
      "poor                 50000 non-null float64\n",
      "terrible             50000 non-null float64\n",
      "time_between         50000 non-null float64\n",
      "last_time_review     50000 non-null float64\n",
      "text_reviews         41886 non-null object\n",
      "rest_number          50000 non-null float64\n",
      "is_capital           50000 non-null int64\n",
      "cuisines_number      50000 non-null int64\n",
      "population           50000 non-null int64\n",
      "city_square          50000 non-null float64\n",
      "net_rest             50000 non-null int64\n",
      "negative             50000 non-null float64\n",
      "neutra               50000 non-null float64\n",
      "positive             50000 non-null float64\n",
      "compound             50000 non-null float64\n",
      "dtypes: bool(1), float64(17), int64(5), object(6)\n",
      "memory usage: 10.7+ MB\n"
     ]
    }
   ],
   "source": [
    "df.info()"
   ]
  },
  {
   "cell_type": "markdown",
   "metadata": {},
   "source": [
    "Restaurant_id - ID ресторана  \n",
    "City - город, в котором расположен ресторан  \n",
    "Cuisine Style - типы кухонь, которые подаются в ресторане  \n",
    "Ranking - абсолютная позиция ресторана среди прочих ресторанов города  \n",
    "Rating - рейтниг ресторана (наша целевая переменная)  \n",
    "Price Range - уровень цен в ресторане  \n",
    "Number of Reviews - кол-во отзывов о ресторане  \n",
    "ID_TA - ID ресторана на сайте Tripadviser  \n",
    "Main - признак, к какому датасету относятся данные (1 - основная выборка, 0 - валидационная  \n",
    "alive - живой\\неживой ресторан (есть на текущий момент инфа на Трипэдвайзер или нет  \n",
    "rating - спарсенный рейтинг ресторанов  \n",
    "'excelent', 'very_good', 'average', 'poor', 'terrible' - кол-во отзывов разного качества  \n",
    "time_between - время между последними двумя отзывами  \n",
    "last_time_review - время с последнего отзыва  \n",
    "text_reviews - текст отзывов\n",
    "is_capital - является ли город столицей или нет  \n",
    "cuisines_number - кол-во кухонь в ресторане  \n",
    "population - население в городе  \n",
    "city_square - площадь в городе  \n",
    "rest_number - кол-во ресторанов в городе  \n",
    "net_rest - является ресторан уникальным (сетевым) или нет\n",
    "negative, neutra, positive, compound - вероятность отнесения отзыва к положительному или негативному (или нейтральному)"
   ]
  },
  {
   "cell_type": "code",
   "execution_count": 6,
   "metadata": {
    "execution": {
     "iopub.execute_input": "2022-07-01T08:07:53.933366Z",
     "iopub.status.busy": "2022-07-01T08:07:53.932882Z",
     "iopub.status.idle": "2022-07-01T08:07:53.939537Z",
     "shell.execute_reply": "2022-07-01T08:07:53.938295Z",
     "shell.execute_reply.started": "2022-07-01T08:07:53.933304Z"
    }
   },
   "outputs": [],
   "source": [
    "# Разобьем признаки на категориальные, числовые и бинарные. (некоторые - условно, их нужно еще доработать)\n",
    "num_features = ['Number of Reviews', 'time_between', 'last_time_review', \\\n",
    "                'cuisines_number', 'population', 'city_square', 'Ranking', 'rating', 'rest_number',\\\n",
    "                'excelent', 'very_good', 'average', 'poor', 'terrible', \\\n",
    "                'negative', 'neutra', 'positive', 'compound']\n",
    "\n",
    "cat_features = ['City', 'Cuisine Style', 'Price Range', 'text_reviews']\n",
    "bin_features = ['alive', 'is_capital', 'net_rest']\n",
    "\n",
    "other_features = ['Restaurant_id', 'ID_TA', 'Main', ]"
   ]
  },
  {
   "cell_type": "markdown",
   "metadata": {},
   "source": [
    " ### Числовые признаки\n",
    " ##### 'Number of Reviews'"
   ]
  },
  {
   "cell_type": "code",
   "execution_count": 7,
   "metadata": {
    "execution": {
     "iopub.execute_input": "2022-07-01T08:07:53.941689Z",
     "iopub.status.busy": "2022-07-01T08:07:53.941045Z",
     "iopub.status.idle": "2022-07-01T08:07:54.354745Z",
     "shell.execute_reply": "2022-07-01T08:07:54.353268Z",
     "shell.execute_reply.started": "2022-07-01T08:07:53.941605Z"
    }
   },
   "outputs": [
    {
     "name": "stdout",
     "output_type": "stream",
     "text": [
      "count    50000.000000\n",
      "mean       116.720620\n",
      "std        286.112464\n",
      "min          0.000000\n",
      "25%          7.000000\n",
      "50%         28.000000\n",
      "75%        105.000000\n",
      "max       9660.000000\n",
      "Name: Number of Reviews, dtype: float64\n"
     ]
    },
    {
     "data": {
      "text/plain": [
       "<matplotlib.axes._subplots.AxesSubplot at 0x7f4bcd7eb2b0>"
      ]
     },
     "execution_count": 7,
     "metadata": {},
     "output_type": "execute_result"
    },
    {
     "data": {
      "image/png": "[encoded data removed]",
      "text/plain": [
       "<Figure size 432x288 with 1 Axes>"
      ]
     },
     "metadata": {
      "needs_background": "light"
     },
     "output_type": "display_data"
    }
   ],
   "source": [
    "# Кол-во отзывов о ресторане\n",
    "print(df['Number of Reviews'].describe())\n",
    "df[(df['Number of Reviews'] > 100) & (df['Number of Reviews'] < 1000)]['Number of Reviews'].hist(bins=50)"
   ]
  },
  {
   "cell_type": "code",
   "execution_count": 8,
   "metadata": {
    "execution": {
     "iopub.execute_input": "2022-07-01T08:07:54.358234Z",
     "iopub.status.busy": "2022-07-01T08:07:54.357523Z",
     "iopub.status.idle": "2022-07-01T08:07:54.745566Z",
     "shell.execute_reply": "2022-07-01T08:07:54.744399Z",
     "shell.execute_reply.started": "2022-07-01T08:07:54.358165Z"
    }
   },
   "outputs": [
    {
     "data": {
      "text/plain": [
       "<matplotlib.axes._subplots.AxesSubplot at 0x7f4bcd36eac8>"
      ]
     },
     "execution_count": 8,
     "metadata": {},
     "output_type": "execute_result"
    },
    {
     "data": {
      "image/png": "[encoded data removed]",
      "text/plain": [
       "<Figure size 432x288 with 1 Axes>"
      ]
     },
     "metadata": {
      "needs_background": "light"
     },
     "output_type": "display_data"
    }
   ],
   "source": [
    "# Много ресторанов с маленьким количеством отзывов и наоборот мало с большим.\n",
    "# Чтобы сгладить применим log\n",
    "df['Number of Reviews'] = df['Number of Reviews'].apply(lambda x: np.log(x) if x != 0 else x)\n",
    "df['Number of Reviews'].hist(bins=20)\n",
    "# стало намного симпатичнее и ближе к норм распределению"
   ]
  },
  {
   "cell_type": "markdown",
   "metadata": {},
   "source": [
    "##### 'time_between'"
   ]
  },
  {
   "cell_type": "code",
   "execution_count": 9,
   "metadata": {
    "execution": {
     "iopub.execute_input": "2022-07-01T08:07:54.748004Z",
     "iopub.status.busy": "2022-07-01T08:07:54.747360Z",
     "iopub.status.idle": "2022-07-01T08:07:55.100746Z",
     "shell.execute_reply": "2022-07-01T08:07:55.099464Z",
     "shell.execute_reply.started": "2022-07-01T08:07:54.747940Z"
    }
   },
   "outputs": [
    {
     "name": "stdout",
     "output_type": "stream",
     "text": [
      "count    50000.000000\n",
      "mean      2027.352160\n",
      "std       5345.107678\n",
      "min          0.000000\n",
      "25%          7.000000\n",
      "50%         59.000000\n",
      "75%        223.000000\n",
      "max      17585.000000\n",
      "Name: time_between, dtype: float64\n"
     ]
    },
    {
     "data": {
      "text/plain": [
       "<matplotlib.axes._subplots.AxesSubplot at 0x7f4bccaf8dd8>"
      ]
     },
     "execution_count": 9,
     "metadata": {},
     "output_type": "execute_result"
    },
    {
     "data": {
      "image/png": "[encoded data removed]",
      "text/plain": [
       "<Figure size 432x288 with 1 Axes>"
      ]
     },
     "metadata": {
      "needs_background": "light"
     },
     "output_type": "display_data"
    }
   ],
   "source": [
    "# время между отзывами\n",
    "print(df['time_between'].describe())\n",
    "#df[df['time_between'] < 0]['time_between'].hist(bins=20)\n",
    "df['time_between'].hist(bins=20)\n"
   ]
  },
  {
   "cell_type": "code",
   "execution_count": 10,
   "metadata": {
    "execution": {
     "iopub.execute_input": "2022-07-01T08:07:55.103334Z",
     "iopub.status.busy": "2022-07-01T08:07:55.102610Z",
     "iopub.status.idle": "2022-07-01T08:07:55.538790Z",
     "shell.execute_reply": "2022-07-01T08:07:55.537556Z",
     "shell.execute_reply.started": "2022-07-01T08:07:55.103265Z"
    }
   },
   "outputs": [
    {
     "data": {
      "text/plain": [
       "<matplotlib.axes._subplots.AxesSubplot at 0x7f4bcca04a90>"
      ]
     },
     "execution_count": 10,
     "metadata": {},
     "output_type": "execute_result"
    },
    {
     "data": {
      "image/png": "[encoded data removed]",
      "text/plain": [
       "<Figure size 432x288 with 1 Axes>"
      ]
     },
     "metadata": {
      "needs_background": "light"
     },
     "output_type": "display_data"
    }
   ],
   "source": [
    "# сгладим этот некрасивый график логарифмом\n",
    "df['time_between'] = df['time_between'].apply(lambda x: np.log(x) if x != 0 else x)\n",
    "df['time_between'].hist(bins=20)"
   ]
  },
  {
   "cell_type": "markdown",
   "metadata": {},
   "source": [
    "##### 'last_time_review'"
   ]
  },
  {
   "cell_type": "code",
   "execution_count": 11,
   "metadata": {
    "execution": {
     "iopub.execute_input": "2022-07-01T08:07:55.549566Z",
     "iopub.status.busy": "2022-07-01T08:07:55.545848Z",
     "iopub.status.idle": "2022-07-01T08:07:55.936867Z",
     "shell.execute_reply": "2022-07-01T08:07:55.935506Z",
     "shell.execute_reply.started": "2022-07-01T08:07:55.549458Z"
    }
   },
   "outputs": [
    {
     "name": "stdout",
     "output_type": "stream",
     "text": [
      "count    50000.000000\n",
      "mean      4687.608640\n",
      "std       6383.689645\n",
      "min       1584.000000\n",
      "25%       1681.000000\n",
      "50%       1809.000000\n",
      "75%       2263.000000\n",
      "max      19172.000000\n",
      "Name: last_time_review, dtype: float64\n"
     ]
    },
    {
     "data": {
      "text/plain": [
       "<matplotlib.axes._subplots.AxesSubplot at 0x7f4bca9852e8>"
      ]
     },
     "execution_count": 11,
     "metadata": {},
     "output_type": "execute_result"
    },
    {
     "data": {
      "image/png": "[encoded data removed]",
      "text/plain": [
       "<Figure size 432x288 with 1 Axes>"
      ]
     },
     "metadata": {
      "needs_background": "light"
     },
     "output_type": "display_data"
    }
   ],
   "source": [
    "# время после последнего отзыва\n",
    "print(df['last_time_review'].describe())\n",
    "df['last_time_review'].hist(bins=20)"
   ]
  },
  {
   "cell_type": "code",
   "execution_count": 12,
   "metadata": {
    "execution": {
     "iopub.execute_input": "2022-07-01T08:07:55.944473Z",
     "iopub.status.busy": "2022-07-01T08:07:55.943680Z",
     "iopub.status.idle": "2022-07-01T08:07:56.334889Z",
     "shell.execute_reply": "2022-07-01T08:07:56.333624Z",
     "shell.execute_reply.started": "2022-07-01T08:07:55.944407Z"
    }
   },
   "outputs": [
    {
     "data": {
      "text/plain": [
       "<matplotlib.axes._subplots.AxesSubplot at 0x7f4bca914940>"
      ]
     },
     "execution_count": 12,
     "metadata": {},
     "output_type": "execute_result"
    },
    {
     "data": {
      "image/png": "[encoded data removed]",
      "text/plain": [
       "<Figure size 432x288 with 1 Axes>"
      ]
     },
     "metadata": {
      "needs_background": "light"
     },
     "output_type": "display_data"
    }
   ],
   "source": [
    "perc25 = df['last_time_review'].quantile(0.25)\n",
    "perc75 = df['last_time_review'].quantile(0.75)\n",
    "IQR = perc75 - perc25\n",
    "\n",
    "df['last_time_review'] = df['last_time_review'].apply(lambda x : x if x < perc75 + 1.5*IQR else perc75 + 1.5*IQR)\n",
    "df['last_time_review'].hist(bins=20)"
   ]
  },
  {
   "cell_type": "code",
   "execution_count": 13,
   "metadata": {
    "execution": {
     "iopub.execute_input": "2022-07-01T08:07:56.344912Z",
     "iopub.status.busy": "2022-07-01T08:07:56.341493Z",
     "iopub.status.idle": "2022-07-01T08:07:56.748761Z",
     "shell.execute_reply": "2022-07-01T08:07:56.747511Z",
     "shell.execute_reply.started": "2022-07-01T08:07:56.344797Z"
    }
   },
   "outputs": [
    {
     "data": {
      "text/plain": [
       "<matplotlib.axes._subplots.AxesSubplot at 0x7f4bca8347f0>"
      ]
     },
     "execution_count": 13,
     "metadata": {},
     "output_type": "execute_result"
    },
    {
     "data": {
      "image/png": "[encoded data removed]",
      "text/plain": [
       "<Figure size 432x288 with 1 Axes>"
      ]
     },
     "metadata": {
      "needs_background": "light"
     },
     "output_type": "display_data"
    }
   ],
   "source": [
    "# сгладим этот некрасивый график логарифмом\n",
    "df['last_time_review'] = df['last_time_review'].apply(lambda x: np.log(x) if x != 0 else x)\n",
    "df['last_time_review'].hist(bins=20)\n",
    "# распределение далеко от нормального. Посмотрим, возможно, в дальнейшем избавимся от данного столбца."
   ]
  },
  {
   "cell_type": "markdown",
   "metadata": {},
   "source": [
    "##### 'cuisines_number'"
   ]
  },
  {
   "cell_type": "code",
   "execution_count": 14,
   "metadata": {
    "execution": {
     "iopub.execute_input": "2022-07-01T08:07:56.751764Z",
     "iopub.status.busy": "2022-07-01T08:07:56.750910Z",
     "iopub.status.idle": "2022-07-01T08:07:57.118838Z",
     "shell.execute_reply": "2022-07-01T08:07:57.117794Z",
     "shell.execute_reply.started": "2022-07-01T08:07:56.751673Z"
    }
   },
   "outputs": [
    {
     "name": "stdout",
     "output_type": "stream",
     "text": [
      "count    50000.000000\n",
      "mean         2.709720\n",
      "std          1.785744\n",
      "min          1.000000\n",
      "25%          1.000000\n",
      "50%          2.000000\n",
      "75%          4.000000\n",
      "max         21.000000\n",
      "Name: cuisines_number, dtype: float64\n"
     ]
    },
    {
     "data": {
      "text/plain": [
       "<matplotlib.axes._subplots.AxesSubplot at 0x7f4bca7c22b0>"
      ]
     },
     "execution_count": 14,
     "metadata": {},
     "output_type": "execute_result"
    },
    {
     "data": {
      "image/png": "[encoded data removed]",
      "text/plain": [
       "<Figure size 432x288 with 1 Axes>"
      ]
     },
     "metadata": {
      "needs_background": "light"
     },
     "output_type": "display_data"
    }
   ],
   "source": [
    "# количество кухонь в ресторане\n",
    "print(df['cuisines_number'].describe())\n",
    "df['cuisines_number'].hist(bins=20)"
   ]
  },
  {
   "cell_type": "code",
   "execution_count": 15,
   "metadata": {
    "execution": {
     "iopub.execute_input": "2022-07-01T08:07:57.121299Z",
     "iopub.status.busy": "2022-07-01T08:07:57.120584Z",
     "iopub.status.idle": "2022-07-01T08:07:57.561279Z",
     "shell.execute_reply": "2022-07-01T08:07:57.560072Z",
     "shell.execute_reply.started": "2022-07-01T08:07:57.121232Z"
    }
   },
   "outputs": [
    {
     "data": {
      "text/plain": [
       "<matplotlib.axes._subplots.AxesSubplot at 0x7f4bca74fa58>"
      ]
     },
     "execution_count": 15,
     "metadata": {},
     "output_type": "execute_result"
    },
    {
     "data": {
      "image/png": "[encoded data removed]",
      "text/plain": [
       "<Figure size 432x288 with 1 Axes>"
      ]
     },
     "metadata": {
      "needs_background": "light"
     },
     "output_type": "display_data"
    }
   ],
   "source": [
    "# сгладим этот некрасивый график логарифмом\n",
    "df['cuisines_number'] = df['cuisines_number'].apply(lambda x: np.log(x) if x != 0 else x)\n",
    "df['cuisines_number'].hist(bins=20)"
   ]
  },
  {
   "cell_type": "markdown",
   "metadata": {},
   "source": [
    "Нерассмотренными остались 'population', 'city_square', Ranking, rest_number и rating.  \n",
    "Логика подсказывает, что сами по себе population и squre не являются числовыми признаками, а в некотором роде являтся категорильными, как и город - City. но мы можем получить из них относительные признаки типа, Rankig/population, Ranking/square  Ranking/rest_number  \n",
    "Сам Ranking - тоже условный показатель. Одно дело находится на 1000 месте среди 10 000 ресторанов и другое быть 10 из 10.  \n",
    "rating - в свою очередь немного читовый признак, так как он по сути является целевой переменной.  "
   ]
  },
  {
   "cell_type": "code",
   "execution_count": 16,
   "metadata": {
    "execution": {
     "iopub.execute_input": "2022-07-01T08:07:57.563743Z",
     "iopub.status.busy": "2022-07-01T08:07:57.563040Z",
     "iopub.status.idle": "2022-07-01T08:07:57.917863Z",
     "shell.execute_reply": "2022-07-01T08:07:57.916710Z",
     "shell.execute_reply.started": "2022-07-01T08:07:57.563670Z"
    }
   },
   "outputs": [
    {
     "data": {
      "text/plain": [
       "<matplotlib.axes._subplots.AxesSubplot at 0x7f4bcd93b1d0>"
      ]
     },
     "execution_count": 16,
     "metadata": {},
     "output_type": "execute_result"
    },
    {
     "data": {
      "image/png": "[encoded data removed]",
      "text/plain": [
       "<Figure size 432x288 with 1 Axes>"
      ]
     },
     "metadata": {
      "needs_background": "light"
     },
     "output_type": "display_data"
    }
   ],
   "source": [
    "# добавим несколько признаков\n",
    "# место ресторана в общем кол-ве ресторанов города\n",
    "df['rest_in_rests'] = df['Ranking']/df['rest_number']\n",
    "df['rest_in_rests'].hist(bins=20)"
   ]
  },
  {
   "cell_type": "code",
   "execution_count": 17,
   "metadata": {
    "execution": {
     "iopub.execute_input": "2022-07-01T08:07:57.921002Z",
     "iopub.status.busy": "2022-07-01T08:07:57.920088Z",
     "iopub.status.idle": "2022-07-01T08:07:58.258808Z",
     "shell.execute_reply": "2022-07-01T08:07:58.257612Z",
     "shell.execute_reply.started": "2022-07-01T08:07:57.920926Z"
    }
   },
   "outputs": [
    {
     "data": {
      "text/plain": [
       "<matplotlib.axes._subplots.AxesSubplot at 0x7f4bcd8aaf98>"
      ]
     },
     "execution_count": 17,
     "metadata": {},
     "output_type": "execute_result"
    },
    {
     "data": {
      "image/png": "[encoded data removed]",
      "text/plain": [
       "<Figure size 432x288 with 1 Axes>"
      ]
     },
     "metadata": {
      "needs_background": "light"
     },
     "output_type": "display_data"
    }
   ],
   "source": [
    "# место ресторана в населении города\n",
    "df['rest_in_pop'] = df['Ranking']/df['population']\n",
    "df['rest_in_pop'].hist(bins=20)"
   ]
  },
  {
   "cell_type": "code",
   "execution_count": 18,
   "metadata": {
    "execution": {
     "iopub.execute_input": "2022-07-01T08:07:58.262003Z",
     "iopub.status.busy": "2022-07-01T08:07:58.261104Z",
     "iopub.status.idle": "2022-07-01T08:07:58.599773Z",
     "shell.execute_reply": "2022-07-01T08:07:58.598202Z",
     "shell.execute_reply.started": "2022-07-01T08:07:58.261929Z"
    }
   },
   "outputs": [
    {
     "data": {
      "text/plain": [
       "<matplotlib.axes._subplots.AxesSubplot at 0x7f4bc0c2be10>"
      ]
     },
     "execution_count": 18,
     "metadata": {},
     "output_type": "execute_result"
    },
    {
     "data": {
      "image/png": "[encoded data removed]",
      "text/plain": [
       "<Figure size 432x288 with 1 Axes>"
      ]
     },
     "metadata": {
      "needs_background": "light"
     },
     "output_type": "display_data"
    }
   ],
   "source": [
    "# место ресторана в площади города\n",
    "df['rest_in_sq'] = df['Ranking']/df['city_square']\n",
    "df['rest_in_sq'].hist(bins=20)"
   ]
  },
  {
   "cell_type": "markdown",
   "metadata": {},
   "source": [
    "##### 'city_square'"
   ]
  },
  {
   "cell_type": "code",
   "execution_count": 19,
   "metadata": {
    "execution": {
     "iopub.execute_input": "2022-07-01T08:07:58.606490Z",
     "iopub.status.busy": "2022-07-01T08:07:58.605881Z",
     "iopub.status.idle": "2022-07-01T08:07:58.950977Z",
     "shell.execute_reply": "2022-07-01T08:07:58.949905Z",
     "shell.execute_reply.started": "2022-07-01T08:07:58.606406Z"
    }
   },
   "outputs": [
    {
     "name": "stdout",
     "output_type": "stream",
     "text": [
      "count    50000.000000\n",
      "mean       556.243029\n",
      "std        546.678679\n",
      "min         15.930000\n",
      "25%        105.400000\n",
      "50%        368.000000\n",
      "75%        891.680000\n",
      "max       2586.400000\n",
      "Name: city_square, dtype: float64\n"
     ]
    },
    {
     "data": {
      "text/plain": [
       "<matplotlib.axes._subplots.AxesSubplot at 0x7f4bc0b98d30>"
      ]
     },
     "execution_count": 19,
     "metadata": {},
     "output_type": "execute_result"
    },
    {
     "data": {
      "image/png": "[encoded data removed]",
      "text/plain": [
       "<Figure size 432x288 with 1 Axes>"
      ]
     },
     "metadata": {
      "needs_background": "light"
     },
     "output_type": "display_data"
    }
   ],
   "source": [
    "# площадь города\n",
    "print(df['city_square'].describe())\n",
    "df['city_square'].hist(bins=20)"
   ]
  },
  {
   "cell_type": "markdown",
   "metadata": {},
   "source": [
    "##### rating"
   ]
  },
  {
   "cell_type": "code",
   "execution_count": 20,
   "metadata": {
    "execution": {
     "iopub.execute_input": "2022-07-01T08:07:58.953104Z",
     "iopub.status.busy": "2022-07-01T08:07:58.952683Z",
     "iopub.status.idle": "2022-07-01T08:07:59.330243Z",
     "shell.execute_reply": "2022-07-01T08:07:59.329335Z",
     "shell.execute_reply.started": "2022-07-01T08:07:58.953042Z"
    }
   },
   "outputs": [
    {
     "name": "stdout",
     "output_type": "stream",
     "text": [
      "count    50000.00000\n",
      "mean         3.96267\n",
      "std          0.54709\n",
      "min          1.00000\n",
      "25%          4.00000\n",
      "50%          4.00000\n",
      "75%          4.00000\n",
      "max          5.00000\n",
      "Name: rating, dtype: float64\n"
     ]
    },
    {
     "data": {
      "text/plain": [
       "<matplotlib.axes._subplots.AxesSubplot at 0x7f4bc0b5b278>"
      ]
     },
     "execution_count": 20,
     "metadata": {},
     "output_type": "execute_result"
    },
    {
     "data": {
      "image/png": "[encoded data removed]",
      "text/plain": [
       "<Figure size 432x288 with 1 Axes>"
      ]
     },
     "metadata": {
      "needs_background": "light"
     },
     "output_type": "display_data"
    }
   ],
   "source": [
    "# rating - спарсенный рейтинг ресторанов (Nan были заменены медианой)\n",
    "print(df['rating'].describe())\n",
    "df['rating'].hist(bins=20)\n"
   ]
  },
  {
   "cell_type": "code",
   "execution_count": 21,
   "metadata": {
    "execution": {
     "iopub.execute_input": "2022-07-01T08:07:59.333929Z",
     "iopub.status.busy": "2022-07-01T08:07:59.333581Z",
     "iopub.status.idle": "2022-07-01T08:08:00.777037Z",
     "shell.execute_reply": "2022-07-01T08:08:00.775824Z",
     "shell.execute_reply.started": "2022-07-01T08:07:59.333871Z"
    }
   },
   "outputs": [
    {
     "data": {
      "text/plain": [
       "<matplotlib.axes._subplots.AxesSubplot at 0x7f4bc0a39048>"
      ]
     },
     "execution_count": 21,
     "metadata": {},
     "output_type": "execute_result"
    },
    {
     "data": {
      "image/png": "[encoded data removed]",
      "text/plain": [
       "<Figure size 1296x864 with 2 Axes>"
      ]
     },
     "metadata": {
      "needs_background": "light"
     },
     "output_type": "display_data"
    }
   ],
   "source": [
    "# итак числовые признаки:\n",
    "num_features = ['Number of Reviews', 'time_between', 'last_time_review', \\\n",
    "                'cuisines_number', 'population', 'city_square', 'Ranking', 'rating', 'rest_number', \\\n",
    "                'rest_in_rests', 'rest_in_pop', 'rest_in_sq', 'excelent', 'very_good', 'average', 'poor', 'terrible']\n",
    "\n",
    "# Посмотрим матрицу корреляций\n",
    "correlation_matrix = df[num_features].corr()\n",
    "\n",
    "# выведем на тепловую карту\n",
    "plt.figure(figsize=(18,12))\n",
    "sns.heatmap(correlation_matrix, annot=True)"
   ]
  },
  {
   "cell_type": "markdown",
   "metadata": {},
   "source": [
    "Как видим, наличие высокой корреляции между собой признаков Population, City_square, rest_number.  \n",
    "При этом у данных признаков низкая корреляция с rating\n"
   ]
  },
  {
   "cell_type": "markdown",
   "metadata": {},
   "source": [
    "#### Теперь перейдем к категориальным признакам"
   ]
  },
  {
   "cell_type": "markdown",
   "metadata": {},
   "source": [
    "К категориальным признакам относим следующие:  \n",
    "- 'City' город, в котором находится ресторан  \n",
    "- 'Cuisine Style' - тип кухни  \n",
    "- 'Price Range' - Уровень цен  \n",
    " \n",
    "в т.ч.\n",
    "бинарные\n",
    "- 'alive' - живой/неживой (есть или нет на Трипэдвайзере)  \n",
    "- 'is_capital' ресторан в столице или нет  \n",
    "- 'net_rest' - уникальность ресторана (сетевой или нет)\n"
   ]
  },
  {
   "cell_type": "code",
   "execution_count": 22,
   "metadata": {
    "execution": {
     "iopub.execute_input": "2022-07-01T08:08:00.779899Z",
     "iopub.status.busy": "2022-07-01T08:08:00.779119Z",
     "iopub.status.idle": "2022-07-01T08:08:00.785617Z",
     "shell.execute_reply": "2022-07-01T08:08:00.784382Z",
     "shell.execute_reply.started": "2022-07-01T08:08:00.779813Z"
    }
   },
   "outputs": [],
   "source": [
    "cat_features = ['City', 'Cuisine Style', 'Price Range']\n",
    "bin_features = ['alive', 'is_capital', 'net_rest']"
   ]
  },
  {
   "cell_type": "code",
   "execution_count": 23,
   "metadata": {
    "execution": {
     "iopub.execute_input": "2022-07-01T08:08:00.788197Z",
     "iopub.status.busy": "2022-07-01T08:08:00.787439Z",
     "iopub.status.idle": "2022-07-01T08:08:01.806295Z",
     "shell.execute_reply": "2022-07-01T08:08:01.804965Z",
     "shell.execute_reply.started": "2022-07-01T08:08:00.788087Z"
    }
   },
   "outputs": [
    {
     "data": {
      "image/png": "[encoded data removed]",
      "text/plain": [
       "<Figure size 1008x288 with 1 Axes>"
      ]
     },
     "metadata": {
      "needs_background": "light"
     },
     "output_type": "display_data"
    },
    {
     "data": {
      "image/png": "[encoded data removed]",
      "text/plain": [
       "<Figure size 1008x288 with 1 Axes>"
      ]
     },
     "metadata": {
      "needs_background": "light"
     },
     "output_type": "display_data"
    },
    {
     "data": {
      "image/png": "[encoded data removed]",
      "text/plain": [
       "<Figure size 1008x288 with 1 Axes>"
      ]
     },
     "metadata": {
      "needs_background": "light"
     },
     "output_type": "display_data"
    }
   ],
   "source": [
    "#Посмотрим боксплоты у бинарных признаков\n",
    "def get_boxplot(column):\n",
    "    fig, ax = plt.subplots(figsize = (14, 4))\n",
    "    sns.boxplot(x=column, y='rating', \n",
    "                data=df[df[column].isin(df[column].value_counts().index[:])],\n",
    "               ax=ax)\n",
    "    plt.xticks(rotation=45)\n",
    "    ax.set_title('Boxplot for ' + column)\n",
    "    plt.show()\n",
    "\n",
    "for col in bin_features:\n",
    "    get_boxplot(col)"
   ]
  },
  {
   "cell_type": "markdown",
   "metadata": {},
   "source": [
    "#### Теперь посмотрим на категориальные признаки (с несколькими категориями)\n"
   ]
  },
  {
   "cell_type": "code",
   "execution_count": 24,
   "metadata": {
    "execution": {
     "iopub.execute_input": "2022-07-01T08:08:01.809388Z",
     "iopub.status.busy": "2022-07-01T08:08:01.808476Z",
     "iopub.status.idle": "2022-07-01T08:08:01.864781Z",
     "shell.execute_reply": "2022-07-01T08:08:01.863839Z",
     "shell.execute_reply.started": "2022-07-01T08:08:01.809304Z"
    }
   },
   "outputs": [],
   "source": [
    "# Сделаем столбцы из категориальных признаков\n",
    "df = pd.get_dummies(df, columns=['City', 'Price Range'])"
   ]
  },
  {
   "cell_type": "code",
   "execution_count": 25,
   "metadata": {
    "execution": {
     "iopub.execute_input": "2022-07-01T08:08:01.866975Z",
     "iopub.status.busy": "2022-07-01T08:08:01.866340Z",
     "iopub.status.idle": "2022-07-01T08:08:13.010456Z",
     "shell.execute_reply": "2022-07-01T08:08:13.009427Z",
     "shell.execute_reply.started": "2022-07-01T08:08:01.866920Z"
    }
   },
   "outputs": [],
   "source": [
    "# С Cuisine Style чуть сложнее. Переведем в списки, добавим столбцы, заполним по наличию кухни в списке\n",
    "df['Cuisine Style'] = df['Cuisine Style'].apply(lambda x: x[2:-2].split(\"', '\"))\n",
    "cuisines_list = []\n",
    "for cuisines in df['Cuisine Style']:\n",
    "    for cuisine in cuisines: \n",
    "        if cuisine not in cuisines_list:\n",
    "            cuisines_list.append(cuisine)\n",
    "\n",
    "for cuisine in cuisines_list:\n",
    "    df = df.reindex(columns = np.append(df.columns.values, [cuisine]))\n",
    "\n",
    "\n",
    "for cuisine in cuisines_list:    \n",
    "    df[cuisine] = df['Cuisine Style'].apply(lambda x: 1 if cuisine in x else 0)"
   ]
  },
  {
   "cell_type": "code",
   "execution_count": 26,
   "metadata": {
    "execution": {
     "iopub.execute_input": "2022-07-01T08:08:13.012207Z",
     "iopub.status.busy": "2022-07-01T08:08:13.011830Z",
     "iopub.status.idle": "2022-07-01T08:08:13.154683Z",
     "shell.execute_reply": "2022-07-01T08:08:13.153356Z",
     "shell.execute_reply.started": "2022-07-01T08:08:13.012121Z"
    }
   },
   "outputs": [
    {
     "data": {
      "text/html": [
       "<div>\n",
       "<style scoped>\n",
       "    .dataframe tbody tr th:only-of-type {\n",
       "        vertical-align: middle;\n",
       "    }\n",
       "\n",
       "    .dataframe tbody tr th {\n",
       "        vertical-align: top;\n",
       "    }\n",
       "\n",
       "    .dataframe thead th {\n",
       "        text-align: right;\n",
       "    }\n",
       "</style>\n",
       "<table border=\"1\" class=\"dataframe\">\n",
       "  <thead>\n",
       "    <tr style=\"text-align: right;\">\n",
       "      <th></th>\n",
       "      <th>Restaurant_id</th>\n",
       "      <th>Cuisine Style</th>\n",
       "      <th>Ranking</th>\n",
       "      <th>Rating</th>\n",
       "      <th>Number of Reviews</th>\n",
       "      <th>ID_TA</th>\n",
       "      <th>Main</th>\n",
       "      <th>alive</th>\n",
       "      <th>rating</th>\n",
       "      <th>excelent</th>\n",
       "      <th>very_good</th>\n",
       "      <th>average</th>\n",
       "      <th>poor</th>\n",
       "      <th>terrible</th>\n",
       "      <th>time_between</th>\n",
       "      <th>last_time_review</th>\n",
       "      <th>text_reviews</th>\n",
       "      <th>rest_number</th>\n",
       "      <th>is_capital</th>\n",
       "      <th>cuisines_number</th>\n",
       "      <th>population</th>\n",
       "      <th>city_square</th>\n",
       "      <th>net_rest</th>\n",
       "      <th>negative</th>\n",
       "      <th>neutra</th>\n",
       "      <th>positive</th>\n",
       "      <th>compound</th>\n",
       "      <th>rest_in_rests</th>\n",
       "      <th>rest_in_pop</th>\n",
       "      <th>rest_in_sq</th>\n",
       "      <th>City_Amsterdam</th>\n",
       "      <th>City_Athens</th>\n",
       "      <th>City_Barcelona</th>\n",
       "      <th>City_Berlin</th>\n",
       "      <th>City_Bratislava</th>\n",
       "      <th>City_Brussels</th>\n",
       "      <th>City_Budapest</th>\n",
       "      <th>City_Copenhagen</th>\n",
       "      <th>City_Dublin</th>\n",
       "      <th>City_Edinburgh</th>\n",
       "      <th>City_Geneva</th>\n",
       "      <th>City_Hamburg</th>\n",
       "      <th>City_Helsinki</th>\n",
       "      <th>City_Krakow</th>\n",
       "      <th>City_Lisbon</th>\n",
       "      <th>City_Ljubljana</th>\n",
       "      <th>City_London</th>\n",
       "      <th>City_Luxembourg</th>\n",
       "      <th>City_Lyon</th>\n",
       "      <th>City_Madrid</th>\n",
       "      <th>City_Milan</th>\n",
       "      <th>City_Munich</th>\n",
       "      <th>City_Oporto</th>\n",
       "      <th>City_Oslo</th>\n",
       "      <th>City_Paris</th>\n",
       "      <th>City_Prague</th>\n",
       "      <th>City_Rome</th>\n",
       "      <th>City_Stockholm</th>\n",
       "      <th>City_Vienna</th>\n",
       "      <th>City_Warsaw</th>\n",
       "      <th>City_Zurich</th>\n",
       "      <th>Price Range_$</th>\n",
       "      <th>Price Range_$$ - $$$</th>\n",
       "      <th>Price Range_$$$$</th>\n",
       "      <th>Price Range_$*</th>\n",
       "      <th>European</th>\n",
       "      <th>French</th>\n",
       "      <th>International</th>\n",
       "      <th>Asian</th>\n",
       "      <th>Nepali</th>\n",
       "      <th>Japanese</th>\n",
       "      <th>Sushi</th>\n",
       "      <th>Grill</th>\n",
       "      <th>Vegetarian Friendly</th>\n",
       "      <th>Vegan Options</th>\n",
       "      <th>Gluten Free Options</th>\n",
       "      <th>usual</th>\n",
       "      <th>German</th>\n",
       "      <th>Central European</th>\n",
       "      <th>Bar</th>\n",
       "      <th>Portuguese</th>\n",
       "      <th>Wine Bar</th>\n",
       "      <th>Italian</th>\n",
       "      <th>Pizza</th>\n",
       "      <th>Fast Food</th>\n",
       "      <th>Mediterranean</th>\n",
       "      <th>Spanish</th>\n",
       "      <th>Healthy</th>\n",
       "      <th>Cafe</th>\n",
       "      <th>Thai</th>\n",
       "      <th>Vietnamese</th>\n",
       "      <th>Pub</th>\n",
       "      <th>Chinese</th>\n",
       "      <th>British</th>\n",
       "      <th>Polish</th>\n",
       "      <th>Fusion</th>\n",
       "      <th>American</th>\n",
       "      <th>Diner</th>\n",
       "      <th>Dutch</th>\n",
       "      <th>Mexican</th>\n",
       "      <th>Venezuelan</th>\n",
       "      <th>South American</th>\n",
       "      <th>Soups</th>\n",
       "      <th>Belgian</th>\n",
       "      <th>Steakhouse</th>\n",
       "      <th>Latin</th>\n",
       "      <th>Barbecue</th>\n",
       "      <th>Argentinean</th>\n",
       "      <th>Irish</th>\n",
       "      <th>Seafood</th>\n",
       "      <th>Hungarian</th>\n",
       "      <th>Swiss</th>\n",
       "      <th>Contemporary</th>\n",
       "      <th>Greek</th>\n",
       "      <th>Central American</th>\n",
       "      <th>Indian</th>\n",
       "      <th>Middle Eastern</th>\n",
       "      <th>Turkish</th>\n",
       "      <th>Eastern European</th>\n",
       "      <th>Pakistani</th>\n",
       "      <th>Peruvian</th>\n",
       "      <th>Delicatessen</th>\n",
       "      <th>Swedish</th>\n",
       "      <th>Scandinavian</th>\n",
       "      <th>Tibetan</th>\n",
       "      <th>Korean</th>\n",
       "      <th>Southwestern</th>\n",
       "      <th>Czech</th>\n",
       "      <th>Slovenian</th>\n",
       "      <th>Balti</th>\n",
       "      <th>Street Food</th>\n",
       "      <th>Quick Bites</th>\n",
       "      <th>Basque</th>\n",
       "      <th>Brew Pub</th>\n",
       "      <th>Caribbean</th>\n",
       "      <th>Austrian</th>\n",
       "      <th>Moroccan</th>\n",
       "      <th>Halal</th>\n",
       "      <th>Lebanese</th>\n",
       "      <th>Russian</th>\n",
       "      <th>African</th>\n",
       "      <th>Ethiopian</th>\n",
       "      <th>Egyptian</th>\n",
       "      <th>Danish</th>\n",
       "      <th>Brazilian</th>\n",
       "      <th>Ecuadorean</th>\n",
       "      <th>Israeli</th>\n",
       "      <th>Kosher</th>\n",
       "      <th>Gastropub</th>\n",
       "      <th>Australian</th>\n",
       "      <th>Singaporean</th>\n",
       "      <th>Malaysian</th>\n",
       "      <th>Minority Chinese</th>\n",
       "      <th>Scottish</th>\n",
       "      <th>Arabic</th>\n",
       "      <th>Ukrainian</th>\n",
       "      <th>Chilean</th>\n",
       "      <th>Mongolian</th>\n",
       "      <th>Emilian</th>\n",
       "      <th>Cuban</th>\n",
       "      <th>Dessert</th>\n",
       "      <th>Persian</th>\n",
       "      <th>Croatian</th>\n",
       "      <th>Filipino</th>\n",
       "      <th>Indonesian</th>\n",
       "      <th>Colombian</th>\n",
       "      <th>Jamaican</th>\n",
       "      <th>Norwegian</th>\n",
       "      <th>Hawaiian</th>\n",
       "      <th>Bakeries</th>\n",
       "      <th>Deli</th>\n",
       "      <th>Armenian</th>\n",
       "      <th>Taiwanese</th>\n",
       "      <th>Bangladeshi</th>\n",
       "      <th>Cajun &amp; Creole</th>\n",
       "      <th>Sri Lankan</th>\n",
       "      <th>Cambodian</th>\n",
       "      <th>Albanian</th>\n",
       "      <th>New Zealand</th>\n",
       "      <th>Central Asian</th>\n",
       "      <th>Specialty Food Market</th>\n",
       "      <th>Tunisian</th>\n",
       "      <th>Romanian</th>\n",
       "      <th>Georgian</th>\n",
       "      <th>Romagna</th>\n",
       "      <th>Polynesian</th>\n",
       "      <th>Catalan</th>\n",
       "      <th>Azerbaijani</th>\n",
       "      <th>Caucasian</th>\n",
       "      <th>Afghani</th>\n",
       "      <th>Uzbek</th>\n",
       "      <th>Canadian</th>\n",
       "      <th>Romana</th>\n",
       "      <th>Beer restaurants</th>\n",
       "      <th>Salvadoran</th>\n",
       "      <th>Yunnan</th>\n",
       "      <th>Native American</th>\n",
       "      <th>Dining bars</th>\n",
       "      <th>Xinjiang</th>\n",
       "      <th>Burmese</th>\n",
       "      <th>Lombard</th>\n",
       "      <th>Northern-Italian</th>\n",
       "      <th>Fujian</th>\n",
       "      <th>Neapolitan</th>\n",
       "      <th>Campania</th>\n",
       "      <th>Welsh</th>\n",
       "      <th>Lazio</th>\n",
       "      <th>Cantonese</th>\n",
       "      <th>Beijing Specialties</th>\n",
       "      <th>Latvian</th>\n",
       "      <th>Japanese Fusion</th>\n",
       "      <th>Sardinian</th>\n",
       "      <th>Southern-Italian</th>\n",
       "    </tr>\n",
       "  </thead>\n",
       "  <tbody>\n",
       "    <tr>\n",
       "      <th>49208</th>\n",
       "      <td>id_9207</td>\n",
       "      <td>[Spanish]</td>\n",
       "      <td>6948.0</td>\n",
       "      <td>NaN</td>\n",
       "      <td>5.087596</td>\n",
       "      <td>d7714816</td>\n",
       "      <td>False</td>\n",
       "      <td>1</td>\n",
       "      <td>3.0</td>\n",
       "      <td>2.0</td>\n",
       "      <td>1.0</td>\n",
       "      <td>1.0</td>\n",
       "      <td>0.0</td>\n",
       "      <td>1.0</td>\n",
       "      <td>5.308268</td>\n",
       "      <td>7.765993</td>\n",
       "      <td>'Lunch set menu convenience', 'Trendy tapas bar'</td>\n",
       "      <td>10598.0</td>\n",
       "      <td>1</td>\n",
       "      <td>0.0</td>\n",
       "      <td>3155360</td>\n",
       "      <td>607.00</td>\n",
       "      <td>1</td>\n",
       "      <td>0.0</td>\n",
       "      <td>1.000</td>\n",
       "      <td>0.000</td>\n",
       "      <td>0.0000</td>\n",
       "      <td>0.655595</td>\n",
       "      <td>0.002202</td>\n",
       "      <td>11.446458</td>\n",
       "      <td>0</td>\n",
       "      <td>0</td>\n",
       "      <td>0</td>\n",
       "      <td>0</td>\n",
       "      <td>0</td>\n",
       "      <td>0</td>\n",
       "      <td>0</td>\n",
       "      <td>0</td>\n",
       "      <td>0</td>\n",
       "      <td>0</td>\n",
       "      <td>0</td>\n",
       "      <td>0</td>\n",
       "      <td>0</td>\n",
       "      <td>0</td>\n",
       "      <td>0</td>\n",
       "      <td>0</td>\n",
       "      <td>0</td>\n",
       "      <td>0</td>\n",
       "      <td>0</td>\n",
       "      <td>1</td>\n",
       "      <td>0</td>\n",
       "      <td>0</td>\n",
       "      <td>0</td>\n",
       "      <td>0</td>\n",
       "      <td>0</td>\n",
       "      <td>0</td>\n",
       "      <td>0</td>\n",
       "      <td>0</td>\n",
       "      <td>0</td>\n",
       "      <td>0</td>\n",
       "      <td>0</td>\n",
       "      <td>0</td>\n",
       "      <td>1</td>\n",
       "      <td>0</td>\n",
       "      <td>0</td>\n",
       "      <td>0</td>\n",
       "      <td>0</td>\n",
       "      <td>0</td>\n",
       "      <td>0</td>\n",
       "      <td>0</td>\n",
       "      <td>0</td>\n",
       "      <td>0</td>\n",
       "      <td>0</td>\n",
       "      <td>0</td>\n",
       "      <td>0</td>\n",
       "      <td>0</td>\n",
       "      <td>0</td>\n",
       "      <td>0</td>\n",
       "      <td>0</td>\n",
       "      <td>0</td>\n",
       "      <td>0</td>\n",
       "      <td>0</td>\n",
       "      <td>0</td>\n",
       "      <td>0</td>\n",
       "      <td>0</td>\n",
       "      <td>0</td>\n",
       "      <td>1</td>\n",
       "      <td>0</td>\n",
       "      <td>0</td>\n",
       "      <td>0</td>\n",
       "      <td>0</td>\n",
       "      <td>0</td>\n",
       "      <td>0</td>\n",
       "      <td>0</td>\n",
       "      <td>0</td>\n",
       "      <td>0</td>\n",
       "      <td>0</td>\n",
       "      <td>0</td>\n",
       "      <td>0</td>\n",
       "      <td>0</td>\n",
       "      <td>0</td>\n",
       "      <td>0</td>\n",
       "      <td>0</td>\n",
       "      <td>0</td>\n",
       "      <td>0</td>\n",
       "      <td>0</td>\n",
       "      <td>0</td>\n",
       "      <td>0</td>\n",
       "      <td>0</td>\n",
       "      <td>0</td>\n",
       "      <td>0</td>\n",
       "      <td>0</td>\n",
       "      <td>0</td>\n",
       "      <td>0</td>\n",
       "      <td>0</td>\n",
       "      <td>0</td>\n",
       "      <td>0</td>\n",
       "      <td>0</td>\n",
       "      <td>0</td>\n",
       "      <td>0</td>\n",
       "      <td>0</td>\n",
       "      <td>0</td>\n",
       "      <td>0</td>\n",
       "      <td>0</td>\n",
       "      <td>0</td>\n",
       "      <td>0</td>\n",
       "      <td>0</td>\n",
       "      <td>0</td>\n",
       "      <td>0</td>\n",
       "      <td>0</td>\n",
       "      <td>0</td>\n",
       "      <td>0</td>\n",
       "      <td>0</td>\n",
       "      <td>0</td>\n",
       "      <td>0</td>\n",
       "      <td>0</td>\n",
       "      <td>0</td>\n",
       "      <td>0</td>\n",
       "      <td>0</td>\n",
       "      <td>0</td>\n",
       "      <td>0</td>\n",
       "      <td>0</td>\n",
       "      <td>0</td>\n",
       "      <td>0</td>\n",
       "      <td>0</td>\n",
       "      <td>0</td>\n",
       "      <td>0</td>\n",
       "      <td>0</td>\n",
       "      <td>0</td>\n",
       "      <td>0</td>\n",
       "      <td>0</td>\n",
       "      <td>0</td>\n",
       "      <td>0</td>\n",
       "      <td>0</td>\n",
       "      <td>0</td>\n",
       "      <td>0</td>\n",
       "      <td>0</td>\n",
       "      <td>0</td>\n",
       "      <td>0</td>\n",
       "      <td>0</td>\n",
       "      <td>0</td>\n",
       "      <td>0</td>\n",
       "      <td>0</td>\n",
       "      <td>0</td>\n",
       "      <td>0</td>\n",
       "      <td>0</td>\n",
       "      <td>0</td>\n",
       "      <td>0</td>\n",
       "      <td>0</td>\n",
       "      <td>0</td>\n",
       "      <td>0</td>\n",
       "      <td>0</td>\n",
       "      <td>0</td>\n",
       "      <td>0</td>\n",
       "      <td>0</td>\n",
       "      <td>0</td>\n",
       "      <td>0</td>\n",
       "      <td>0</td>\n",
       "      <td>0</td>\n",
       "      <td>0</td>\n",
       "      <td>0</td>\n",
       "      <td>0</td>\n",
       "      <td>0</td>\n",
       "      <td>0</td>\n",
       "      <td>0</td>\n",
       "      <td>0</td>\n",
       "      <td>0</td>\n",
       "      <td>0</td>\n",
       "      <td>0</td>\n",
       "      <td>0</td>\n",
       "      <td>0</td>\n",
       "      <td>0</td>\n",
       "      <td>0</td>\n",
       "      <td>0</td>\n",
       "      <td>0</td>\n",
       "      <td>0</td>\n",
       "      <td>0</td>\n",
       "      <td>0</td>\n",
       "      <td>0</td>\n",
       "      <td>0</td>\n",
       "      <td>0</td>\n",
       "      <td>0</td>\n",
       "      <td>0</td>\n",
       "      <td>0</td>\n",
       "      <td>0</td>\n",
       "      <td>0</td>\n",
       "      <td>0</td>\n",
       "      <td>0</td>\n",
       "      <td>0</td>\n",
       "      <td>0</td>\n",
       "      <td>0</td>\n",
       "      <td>0</td>\n",
       "      <td>0</td>\n",
       "    </tr>\n",
       "    <tr>\n",
       "      <th>25836</th>\n",
       "      <td>id_2640</td>\n",
       "      <td>[Greek]</td>\n",
       "      <td>2642.0</td>\n",
       "      <td>4.5</td>\n",
       "      <td>2.995732</td>\n",
       "      <td>d7938214</td>\n",
       "      <td>True</td>\n",
       "      <td>1</td>\n",
       "      <td>4.5</td>\n",
       "      <td>5.0</td>\n",
       "      <td>0.0</td>\n",
       "      <td>0.0</td>\n",
       "      <td>0.0</td>\n",
       "      <td>1.0</td>\n",
       "      <td>5.017280</td>\n",
       "      <td>7.403061</td>\n",
       "      <td>'Wonderful Appetizers', 'Owerpriced and tastel...</td>\n",
       "      <td>5735.0</td>\n",
       "      <td>1</td>\n",
       "      <td>0.0</td>\n",
       "      <td>3326002</td>\n",
       "      <td>891.68</td>\n",
       "      <td>1</td>\n",
       "      <td>0.0</td>\n",
       "      <td>0.575</td>\n",
       "      <td>0.425</td>\n",
       "      <td>0.5719</td>\n",
       "      <td>0.460680</td>\n",
       "      <td>0.000794</td>\n",
       "      <td>2.962946</td>\n",
       "      <td>0</td>\n",
       "      <td>0</td>\n",
       "      <td>0</td>\n",
       "      <td>1</td>\n",
       "      <td>0</td>\n",
       "      <td>0</td>\n",
       "      <td>0</td>\n",
       "      <td>0</td>\n",
       "      <td>0</td>\n",
       "      <td>0</td>\n",
       "      <td>0</td>\n",
       "      <td>0</td>\n",
       "      <td>0</td>\n",
       "      <td>0</td>\n",
       "      <td>0</td>\n",
       "      <td>0</td>\n",
       "      <td>0</td>\n",
       "      <td>0</td>\n",
       "      <td>0</td>\n",
       "      <td>0</td>\n",
       "      <td>0</td>\n",
       "      <td>0</td>\n",
       "      <td>0</td>\n",
       "      <td>0</td>\n",
       "      <td>0</td>\n",
       "      <td>0</td>\n",
       "      <td>0</td>\n",
       "      <td>0</td>\n",
       "      <td>0</td>\n",
       "      <td>0</td>\n",
       "      <td>0</td>\n",
       "      <td>0</td>\n",
       "      <td>1</td>\n",
       "      <td>0</td>\n",
       "      <td>0</td>\n",
       "      <td>0</td>\n",
       "      <td>0</td>\n",
       "      <td>0</td>\n",
       "      <td>0</td>\n",
       "      <td>0</td>\n",
       "      <td>0</td>\n",
       "      <td>0</td>\n",
       "      <td>0</td>\n",
       "      <td>0</td>\n",
       "      <td>0</td>\n",
       "      <td>0</td>\n",
       "      <td>0</td>\n",
       "      <td>0</td>\n",
       "      <td>0</td>\n",
       "      <td>0</td>\n",
       "      <td>0</td>\n",
       "      <td>0</td>\n",
       "      <td>0</td>\n",
       "      <td>0</td>\n",
       "      <td>0</td>\n",
       "      <td>0</td>\n",
       "      <td>0</td>\n",
       "      <td>0</td>\n",
       "      <td>0</td>\n",
       "      <td>0</td>\n",
       "      <td>0</td>\n",
       "      <td>0</td>\n",
       "      <td>0</td>\n",
       "      <td>0</td>\n",
       "      <td>0</td>\n",
       "      <td>0</td>\n",
       "      <td>0</td>\n",
       "      <td>0</td>\n",
       "      <td>0</td>\n",
       "      <td>0</td>\n",
       "      <td>0</td>\n",
       "      <td>0</td>\n",
       "      <td>0</td>\n",
       "      <td>0</td>\n",
       "      <td>0</td>\n",
       "      <td>0</td>\n",
       "      <td>0</td>\n",
       "      <td>0</td>\n",
       "      <td>0</td>\n",
       "      <td>0</td>\n",
       "      <td>0</td>\n",
       "      <td>0</td>\n",
       "      <td>0</td>\n",
       "      <td>1</td>\n",
       "      <td>0</td>\n",
       "      <td>0</td>\n",
       "      <td>0</td>\n",
       "      <td>0</td>\n",
       "      <td>0</td>\n",
       "      <td>0</td>\n",
       "      <td>0</td>\n",
       "      <td>0</td>\n",
       "      <td>0</td>\n",
       "      <td>0</td>\n",
       "      <td>0</td>\n",
       "      <td>0</td>\n",
       "      <td>0</td>\n",
       "      <td>0</td>\n",
       "      <td>0</td>\n",
       "      <td>0</td>\n",
       "      <td>0</td>\n",
       "      <td>0</td>\n",
       "      <td>0</td>\n",
       "      <td>0</td>\n",
       "      <td>0</td>\n",
       "      <td>0</td>\n",
       "      <td>0</td>\n",
       "      <td>0</td>\n",
       "      <td>0</td>\n",
       "      <td>0</td>\n",
       "      <td>0</td>\n",
       "      <td>0</td>\n",
       "      <td>0</td>\n",
       "      <td>0</td>\n",
       "      <td>0</td>\n",
       "      <td>0</td>\n",
       "      <td>0</td>\n",
       "      <td>0</td>\n",
       "      <td>0</td>\n",
       "      <td>0</td>\n",
       "      <td>0</td>\n",
       "      <td>0</td>\n",
       "      <td>0</td>\n",
       "      <td>0</td>\n",
       "      <td>0</td>\n",
       "      <td>0</td>\n",
       "      <td>0</td>\n",
       "      <td>0</td>\n",
       "      <td>0</td>\n",
       "      <td>0</td>\n",
       "      <td>0</td>\n",
       "      <td>0</td>\n",
       "      <td>0</td>\n",
       "      <td>0</td>\n",
       "      <td>0</td>\n",
       "      <td>0</td>\n",
       "      <td>0</td>\n",
       "      <td>0</td>\n",
       "      <td>0</td>\n",
       "      <td>0</td>\n",
       "      <td>0</td>\n",
       "      <td>0</td>\n",
       "      <td>0</td>\n",
       "      <td>0</td>\n",
       "      <td>0</td>\n",
       "      <td>0</td>\n",
       "      <td>0</td>\n",
       "      <td>0</td>\n",
       "      <td>0</td>\n",
       "      <td>0</td>\n",
       "      <td>0</td>\n",
       "      <td>0</td>\n",
       "      <td>0</td>\n",
       "      <td>0</td>\n",
       "      <td>0</td>\n",
       "      <td>0</td>\n",
       "      <td>0</td>\n",
       "      <td>0</td>\n",
       "      <td>0</td>\n",
       "      <td>0</td>\n",
       "      <td>0</td>\n",
       "      <td>0</td>\n",
       "      <td>0</td>\n",
       "      <td>0</td>\n",
       "      <td>0</td>\n",
       "      <td>0</td>\n",
       "      <td>0</td>\n",
       "      <td>0</td>\n",
       "      <td>0</td>\n",
       "      <td>0</td>\n",
       "      <td>0</td>\n",
       "      <td>0</td>\n",
       "      <td>0</td>\n",
       "      <td>0</td>\n",
       "      <td>0</td>\n",
       "      <td>0</td>\n",
       "      <td>0</td>\n",
       "      <td>0</td>\n",
       "      <td>0</td>\n",
       "      <td>0</td>\n",
       "      <td>0</td>\n",
       "      <td>0</td>\n",
       "      <td>0</td>\n",
       "    </tr>\n",
       "  </tbody>\n",
       "</table>\n",
       "</div>"
      ],
      "text/plain": [
       "      Restaurant_id Cuisine Style  Ranking  Rating  Number of Reviews  \\\n",
       "49208       id_9207     [Spanish]   6948.0     NaN           5.087596   \n",
       "25836       id_2640       [Greek]   2642.0     4.5           2.995732   \n",
       "\n",
       "          ID_TA   Main  alive  rating  excelent  very_good  average  poor  \\\n",
       "49208  d7714816  False      1     3.0       2.0        1.0      1.0   0.0   \n",
       "25836  d7938214   True      1     4.5       5.0        0.0      0.0   0.0   \n",
       "\n",
       "       terrible  time_between  last_time_review  \\\n",
       "49208       1.0      5.308268          7.765993   \n",
       "25836       1.0      5.017280          7.403061   \n",
       "\n",
       "                                            text_reviews  rest_number  \\\n",
       "49208   'Lunch set menu convenience', 'Trendy tapas bar'      10598.0   \n",
       "25836  'Wonderful Appetizers', 'Owerpriced and tastel...       5735.0   \n",
       "\n",
       "       is_capital  cuisines_number  population  city_square  net_rest  \\\n",
       "49208           1              0.0     3155360       607.00         1   \n",
       "25836           1              0.0     3326002       891.68         1   \n",
       "\n",
       "       negative  neutra  positive  compound  rest_in_rests  rest_in_pop  \\\n",
       "49208       0.0   1.000     0.000    0.0000       0.655595     0.002202   \n",
       "25836       0.0   0.575     0.425    0.5719       0.460680     0.000794   \n",
       "\n",
       "       rest_in_sq  City_Amsterdam  City_Athens  City_Barcelona  City_Berlin  \\\n",
       "49208   11.446458               0            0               0            0   \n",
       "25836    2.962946               0            0               0            1   \n",
       "\n",
       "       City_Bratislava  City_Brussels  City_Budapest  City_Copenhagen  \\\n",
       "49208                0              0              0                0   \n",
       "25836                0              0              0                0   \n",
       "\n",
       "       City_Dublin  City_Edinburgh  City_Geneva  City_Hamburg  City_Helsinki  \\\n",
       "49208            0               0            0             0              0   \n",
       "25836            0               0            0             0              0   \n",
       "\n",
       "       City_Krakow  City_Lisbon  City_Ljubljana  City_London  City_Luxembourg  \\\n",
       "49208            0            0               0            0                0   \n",
       "25836            0            0               0            0                0   \n",
       "\n",
       "       City_Lyon  City_Madrid  City_Milan  City_Munich  City_Oporto  \\\n",
       "49208          0            1           0            0            0   \n",
       "25836          0            0           0            0            0   \n",
       "\n",
       "       City_Oslo  City_Paris  City_Prague  City_Rome  City_Stockholm  \\\n",
       "49208          0           0            0          0               0   \n",
       "25836          0           0            0          0               0   \n",
       "\n",
       "       City_Vienna  City_Warsaw  City_Zurich  Price Range_$  \\\n",
       "49208            0            0            0              0   \n",
       "25836            0            0            0              0   \n",
       "\n",
       "       Price Range_$$ - $$$  Price Range_$$$$  Price Range_$*  European  \\\n",
       "49208                     1                 0               0         0   \n",
       "25836                     1                 0               0         0   \n",
       "\n",
       "       French  International  Asian  Nepali  Japanese  Sushi  Grill  \\\n",
       "49208       0              0      0       0         0      0      0   \n",
       "25836       0              0      0       0         0      0      0   \n",
       "\n",
       "       Vegetarian Friendly  Vegan Options  Gluten Free Options  usual  German  \\\n",
       "49208                    0              0                    0      0       0   \n",
       "25836                    0              0                    0      0       0   \n",
       "\n",
       "       Central European  Bar  Portuguese  Wine Bar  Italian  Pizza  Fast Food  \\\n",
       "49208                 0    0           0         0        0      0          0   \n",
       "25836                 0    0           0         0        0      0          0   \n",
       "\n",
       "       Mediterranean  Spanish  Healthy  Cafe  Thai  Vietnamese  Pub  Chinese  \\\n",
       "49208              0        1        0     0     0           0    0        0   \n",
       "25836              0        0        0     0     0           0    0        0   \n",
       "\n",
       "       British  Polish  Fusion  American  Diner  Dutch  Mexican  Venezuelan  \\\n",
       "49208        0       0       0         0      0      0        0           0   \n",
       "25836        0       0       0         0      0      0        0           0   \n",
       "\n",
       "       South American  Soups  Belgian  Steakhouse  Latin  Barbecue  \\\n",
       "49208               0      0        0           0      0         0   \n",
       "25836               0      0        0           0      0         0   \n",
       "\n",
       "       Argentinean  Irish  Seafood  Hungarian  Swiss  Contemporary  Greek  \\\n",
       "49208            0      0        0          0      0             0      0   \n",
       "25836            0      0        0          0      0             0      1   \n",
       "\n",
       "       Central American  Indian  Middle Eastern  Turkish  Eastern European  \\\n",
       "49208                 0       0               0        0                 0   \n",
       "25836                 0       0               0        0                 0   \n",
       "\n",
       "       Pakistani  Peruvian  Delicatessen  Swedish  Scandinavian  Tibetan  \\\n",
       "49208          0         0             0        0             0        0   \n",
       "25836          0         0             0        0             0        0   \n",
       "\n",
       "       Korean  Southwestern  Czech  Slovenian  Balti  Street Food  \\\n",
       "49208       0             0      0          0      0            0   \n",
       "25836       0             0      0          0      0            0   \n",
       "\n",
       "       Quick Bites  Basque  Brew Pub  Caribbean  Austrian  Moroccan  Halal  \\\n",
       "49208            0       0         0          0         0         0      0   \n",
       "25836            0       0         0          0         0         0      0   \n",
       "\n",
       "       Lebanese  Russian  African  Ethiopian  Egyptian  Danish  Brazilian  \\\n",
       "49208         0        0        0          0         0       0          0   \n",
       "25836         0        0        0          0         0       0          0   \n",
       "\n",
       "       Ecuadorean  Israeli  Kosher  Gastropub  Australian  Singaporean  \\\n",
       "49208           0        0       0          0           0            0   \n",
       "25836           0        0       0          0           0            0   \n",
       "\n",
       "       Malaysian  Minority Chinese  Scottish  Arabic  Ukrainian  Chilean  \\\n",
       "49208          0                 0         0       0          0        0   \n",
       "25836          0                 0         0       0          0        0   \n",
       "\n",
       "       Mongolian  Emilian  Cuban  Dessert  Persian  Croatian  Filipino  \\\n",
       "49208          0        0      0        0        0         0         0   \n",
       "25836          0        0      0        0        0         0         0   \n",
       "\n",
       "       Indonesian  Colombian  Jamaican  Norwegian  Hawaiian  Bakeries  Deli  \\\n",
       "49208           0          0         0          0         0         0     0   \n",
       "25836           0          0         0          0         0         0     0   \n",
       "\n",
       "       Armenian  Taiwanese  Bangladeshi  Cajun & Creole  Sri Lankan  \\\n",
       "49208         0          0            0               0           0   \n",
       "25836         0          0            0               0           0   \n",
       "\n",
       "       Cambodian  Albanian  New Zealand  Central Asian  Specialty Food Market  \\\n",
       "49208          0         0            0              0                      0   \n",
       "25836          0         0            0              0                      0   \n",
       "\n",
       "       Tunisian  Romanian  Georgian  Romagna  Polynesian  Catalan  \\\n",
       "49208         0         0         0        0           0        0   \n",
       "25836         0         0         0        0           0        0   \n",
       "\n",
       "       Azerbaijani  Caucasian  Afghani  Uzbek  Canadian  Romana  \\\n",
       "49208            0          0        0      0         0       0   \n",
       "25836            0          0        0      0         0       0   \n",
       "\n",
       "       Beer restaurants  Salvadoran  Yunnan  Native American  Dining bars  \\\n",
       "49208                 0           0       0                0            0   \n",
       "25836                 0           0       0                0            0   \n",
       "\n",
       "       Xinjiang  Burmese  Lombard  Northern-Italian  Fujian  Neapolitan  \\\n",
       "49208         0        0        0                 0       0           0   \n",
       "25836         0        0        0                 0       0           0   \n",
       "\n",
       "       Campania  Welsh  Lazio  Cantonese  Beijing Specialties  Latvian  \\\n",
       "49208         0      0      0          0                    0        0   \n",
       "25836         0      0      0          0                    0        0   \n",
       "\n",
       "       Japanese Fusion  Sardinian  Southern-Italian  \n",
       "49208                0          0                 0  \n",
       "25836                0          0                 0  "
      ]
     },
     "metadata": {},
     "output_type": "display_data"
    }
   ],
   "source": [
    "with pd.option_context('display.max_columns', None):\n",
    "    display(df.sample(2))"
   ]
  },
  {
   "cell_type": "markdown",
   "metadata": {},
   "source": [
    "#### Подготовка данных для модели"
   ]
  },
  {
   "cell_type": "code",
   "execution_count": 27,
   "metadata": {
    "execution": {
     "iopub.execute_input": "2022-07-01T08:08:13.156707Z",
     "iopub.status.busy": "2022-07-01T08:08:13.156323Z",
     "iopub.status.idle": "2022-07-01T08:08:13.413205Z",
     "shell.execute_reply": "2022-07-01T08:08:13.412303Z",
     "shell.execute_reply.started": "2022-07-01T08:08:13.156655Z"
    }
   },
   "outputs": [],
   "source": [
    "# оставляем в табличке для теста только рабочие столбцы \n",
    "df_for_test = df.drop(['Restaurant_id', 'Cuisine Style', 'ID_TA', 'text_reviews', 'Rating'], axis = 1)\n",
    "scaler = MinMaxScaler()\n",
    "df_for_test[num_features] = scaler.fit_transform(df_for_test[num_features])\n",
    "\n",
    "\n",
    "# Готовим данные\n",
    "X = df_for_test[df_for_test['Main']]\n",
    "y = df[df['Main']]['Rating']\n",
    "\n",
    "# Наборы данных с меткой \"train\" будут использоваться для обучения модели, \"test\" - для тестирования.\n",
    "# Для тестирования мы будем использовать 20% от исходного датасета.\n",
    "X_train, X_test, y_train, y_test = train_test_split(X, y, test_size=0.2, random_state=RANDOM_SEED)"
   ]
  },
  {
   "cell_type": "markdown",
   "metadata": {},
   "source": [
    "#### Model"
   ]
  },
  {
   "cell_type": "code",
   "execution_count": 28,
   "metadata": {
    "execution": {
     "iopub.execute_input": "2022-07-01T08:08:13.414619Z",
     "iopub.status.busy": "2022-07-01T08:08:13.414347Z",
     "iopub.status.idle": "2022-07-01T08:08:44.374080Z",
     "shell.execute_reply": "2022-07-01T08:08:44.373282Z",
     "shell.execute_reply.started": "2022-07-01T08:08:13.414585Z"
    }
   },
   "outputs": [
    {
     "name": "stderr",
     "output_type": "stream",
     "text": [
      "[Parallel(n_jobs=-1)]: Using backend ThreadingBackend with 4 concurrent workers.\n",
      "[Parallel(n_jobs=-1)]: Done  42 tasks      | elapsed:   12.9s\n",
      "[Parallel(n_jobs=-1)]: Done 100 out of 100 | elapsed:   30.0s finished\n",
      "[Parallel(n_jobs=4)]: Using backend ThreadingBackend with 4 concurrent workers.\n",
      "[Parallel(n_jobs=4)]: Done  42 tasks      | elapsed:    0.0s\n",
      "[Parallel(n_jobs=4)]: Done 100 out of 100 | elapsed:    0.1s finished\n"
     ]
    }
   ],
   "source": [
    "model = RandomForestRegressor(n_estimators=100, verbose=1, n_jobs=-1, random_state=RANDOM_SEED)\n",
    "\n",
    "# Обучаем модель на тестовом наборе данных\n",
    "model.fit(X_train, y_train)\n",
    "\n",
    "# Используем обученную модель для предсказания рейтинга ресторанов в тестовой выборке.\n",
    "# Предсказанные значения записываем в переменную y_pred\n",
    "y_pred = model.predict(X_test)"
   ]
  },
  {
   "cell_type": "code",
   "execution_count": 29,
   "metadata": {
    "execution": {
     "iopub.execute_input": "2022-07-01T08:08:44.375405Z",
     "iopub.status.busy": "2022-07-01T08:08:44.375040Z",
     "iopub.status.idle": "2022-07-01T08:08:44.381691Z",
     "shell.execute_reply": "2022-07-01T08:08:44.380473Z",
     "shell.execute_reply.started": "2022-07-01T08:08:44.375349Z"
    }
   },
   "outputs": [
    {
     "name": "stdout",
     "output_type": "stream",
     "text": [
      "MAE: 0.17276249999999999\n"
     ]
    }
   ],
   "source": [
    "# Сравниваем предсказанные значения (y_pred) с реальными (y_test), и смотрим насколько они в среднем отличаются\n",
    "# Метрика называется Mean Absolute Error (MAE) и показывает среднее отклонение предсказанных значений от фактических.\n",
    "print('MAE:', metrics.mean_absolute_error(y_test, y_pred))"
   ]
  },
  {
   "cell_type": "code",
   "execution_count": 30,
   "metadata": {
    "execution": {
     "iopub.execute_input": "2022-07-01T08:08:44.383484Z",
     "iopub.status.busy": "2022-07-01T08:08:44.383044Z",
     "iopub.status.idle": "2022-07-01T08:08:44.582499Z",
     "shell.execute_reply": "2022-07-01T08:08:44.581360Z",
     "shell.execute_reply.started": "2022-07-01T08:08:44.383431Z"
    }
   },
   "outputs": [
    {
     "name": "stdout",
     "output_type": "stream",
     "text": [
      "MAE: 0.1393125\n"
     ]
    },
    {
     "name": "stderr",
     "output_type": "stream",
     "text": [
      "[Parallel(n_jobs=4)]: Using backend ThreadingBackend with 4 concurrent workers.\n",
      "[Parallel(n_jobs=4)]: Done  42 tasks      | elapsed:    0.0s\n",
      "[Parallel(n_jobs=4)]: Done 100 out of 100 | elapsed:    0.1s finished\n"
     ]
    }
   ],
   "source": [
    "# Округлим результаты работы модели:\n",
    "def round_to_polovina(row):\n",
    "    return (round(row*2.0)/2)\n",
    "\n",
    "new_round = np.vectorize(round_to_polovina)\n",
    "y_pred_round = new_round(model.predict(X_test))\n",
    "print('MAE:', metrics.mean_absolute_error(y_test, y_pred_round))"
   ]
  },
  {
   "cell_type": "code",
   "execution_count": 31,
   "metadata": {
    "execution": {
     "iopub.execute_input": "2022-07-01T08:08:44.584594Z",
     "iopub.status.busy": "2022-07-01T08:08:44.584128Z",
     "iopub.status.idle": "2022-07-01T08:08:45.027323Z",
     "shell.execute_reply": "2022-07-01T08:08:45.026087Z",
     "shell.execute_reply.started": "2022-07-01T08:08:44.584523Z"
    }
   },
   "outputs": [
    {
     "data": {
      "text/plain": [
       "<matplotlib.axes._subplots.AxesSubplot at 0x7f4bcdaf7cc0>"
      ]
     },
     "execution_count": 31,
     "metadata": {},
     "output_type": "execute_result"
    },
    {
     "data": {
      "image/png": "[encoded data removed]",
      "text/plain": [
       "<Figure size 720x720 with 1 Axes>"
      ]
     },
     "metadata": {
      "needs_background": "light"
     },
     "output_type": "display_data"
    }
   ],
   "source": [
    "# в RandomForestRegressor есть возможность вывести самые важные признаки для модели\n",
    "plt.rcParams['figure.figsize'] = (10,10)\n",
    "feat_importances = pd.Series(model.feature_importances_, index=X.columns)\n",
    "feat_importances.nlargest(15).plot(kind='barh')"
   ]
  },
  {
   "cell_type": "markdown",
   "metadata": {},
   "source": [
    "#### Результаты для  Kaggle"
   ]
  },
  {
   "cell_type": "code",
   "execution_count": 32,
   "metadata": {
    "execution": {
     "iopub.execute_input": "2022-07-01T08:08:45.032477Z",
     "iopub.status.busy": "2022-07-01T08:08:45.031730Z",
     "iopub.status.idle": "2022-07-01T08:08:45.382973Z",
     "shell.execute_reply": "2022-07-01T08:08:45.381913Z",
     "shell.execute_reply.started": "2022-07-01T08:08:45.032409Z"
    }
   },
   "outputs": [
    {
     "name": "stderr",
     "output_type": "stream",
     "text": [
      "[Parallel(n_jobs=4)]: Using backend ThreadingBackend with 4 concurrent workers.\n",
      "[Parallel(n_jobs=4)]: Done  42 tasks      | elapsed:    0.0s\n",
      "[Parallel(n_jobs=4)]: Done 100 out of 100 | elapsed:    0.1s finished\n"
     ]
    },
    {
     "data": {
      "text/html": [
       "<div>\n",
       "<style scoped>\n",
       "    .dataframe tbody tr th:only-of-type {\n",
       "        vertical-align: middle;\n",
       "    }\n",
       "\n",
       "    .dataframe tbody tr th {\n",
       "        vertical-align: top;\n",
       "    }\n",
       "\n",
       "    .dataframe thead th {\n",
       "        text-align: right;\n",
       "    }\n",
       "</style>\n",
       "<table border=\"1\" class=\"dataframe\">\n",
       "  <thead>\n",
       "    <tr style=\"text-align: right;\">\n",
       "      <th></th>\n",
       "      <th>Restaurant_id</th>\n",
       "      <th>Rating</th>\n",
       "    </tr>\n",
       "  </thead>\n",
       "  <tbody>\n",
       "    <tr>\n",
       "      <th>3441</th>\n",
       "      <td>id_1423</td>\n",
       "      <td>4.0</td>\n",
       "    </tr>\n",
       "    <tr>\n",
       "      <th>5093</th>\n",
       "      <td>id_4337</td>\n",
       "      <td>3.5</td>\n",
       "    </tr>\n",
       "    <tr>\n",
       "      <th>5553</th>\n",
       "      <td>id_4323</td>\n",
       "      <td>4.0</td>\n",
       "    </tr>\n",
       "    <tr>\n",
       "      <th>6034</th>\n",
       "      <td>id_7376</td>\n",
       "      <td>5.0</td>\n",
       "    </tr>\n",
       "    <tr>\n",
       "      <th>11346</th>\n",
       "      <td>id_704</td>\n",
       "      <td>3.5</td>\n",
       "    </tr>\n",
       "    <tr>\n",
       "      <th>...</th>\n",
       "      <td>...</td>\n",
       "      <td>...</td>\n",
       "    </tr>\n",
       "    <tr>\n",
       "      <th>49995</th>\n",
       "      <td>id_9995</td>\n",
       "      <td>4.5</td>\n",
       "    </tr>\n",
       "    <tr>\n",
       "      <th>49996</th>\n",
       "      <td>id_9996</td>\n",
       "      <td>4.0</td>\n",
       "    </tr>\n",
       "    <tr>\n",
       "      <th>49997</th>\n",
       "      <td>id_9997</td>\n",
       "      <td>3.0</td>\n",
       "    </tr>\n",
       "    <tr>\n",
       "      <th>49998</th>\n",
       "      <td>id_9998</td>\n",
       "      <td>4.5</td>\n",
       "    </tr>\n",
       "    <tr>\n",
       "      <th>49999</th>\n",
       "      <td>id_9999</td>\n",
       "      <td>4.0</td>\n",
       "    </tr>\n",
       "  </tbody>\n",
       "</table>\n",
       "<p>10000 rows × 2 columns</p>\n",
       "</div>"
      ],
      "text/plain": [
       "      Restaurant_id  Rating\n",
       "3441        id_1423     4.0\n",
       "5093        id_4337     3.5\n",
       "5553        id_4323     4.0\n",
       "6034        id_7376     5.0\n",
       "11346        id_704     3.5\n",
       "...             ...     ...\n",
       "49995       id_9995     4.5\n",
       "49996       id_9996     4.0\n",
       "49997       id_9997     3.0\n",
       "49998       id_9998     4.5\n",
       "49999       id_9999     4.0\n",
       "\n",
       "[10000 rows x 2 columns]"
      ]
     },
     "execution_count": 32,
     "metadata": {},
     "output_type": "execute_result"
    }
   ],
   "source": [
    "# Используем обученную модель для предсказания рейтинга ресторанов в тестовой выборке.\n",
    "# Предсказанные значения записываем в переменную y_pred\n",
    "kaggle_df = df_for_test[~df_for_test['Main']]\n",
    "y_pred = model.predict(kaggle_df)\n",
    "\n",
    "submission = pd.DataFrame({\n",
    "        \"Restaurant_id\": df[~df['Main']]['Restaurant_id'],\n",
    "        \"Rating\": y_pred\n",
    "    })\n",
    "#submission['Restaurant_id']=submission['Restaurant_id'].astype('str')\n",
    "\n",
    "submission['Rating'] = submission['Rating'].apply(round_to_polovina)\n",
    "submission.to_csv('/kaggle/working/submission.csv', index=False)\n",
    "submission"
   ]
  }
 ],
 "metadata": {
  "kernelspec": {
   "display_name": "Python 3",
   "language": "python",
   "name": "python3"
  },
  "language_info": {
   "codemirror_mode": {
    "name": "ipython",
    "version": 3
   },
   "file_extension": ".py",
   "mimetype": "text/x-python",
   "name": "python",
   "nbconvert_exporter": "python",
   "pygments_lexer": "ipython3",
   "version": "3.6.6"
  }
 },
 "nbformat": 4,
 "nbformat_minor": 4
}
