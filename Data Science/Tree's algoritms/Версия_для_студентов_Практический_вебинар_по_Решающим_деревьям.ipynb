{
  "nbformat": 4,
  "nbformat_minor": 0,
  "metadata": {
    "colab": {
      "provenance": []
    },
    "kernelspec": {
      "name": "python3",
      "display_name": "Python 3"
    },
    "language_info": {
      "name": "python"
    }
  },
  "cells": [
    {
      "cell_type": "markdown",
      "metadata": {
        "id": "Wd6-Hp4tOMA4"
      },
      "source": [
        "# Imports"
      ]
    },
    {
      "cell_type": "markdown",
      "metadata": {
        "id": "zY0zUsyoSTf2"
      },
      "source": [
        "Для того, чтобы ноутбук получился структурированным давайте вынесем все imports вверх. Это хорошая DS практика, которая поможет написать читаемый и легко интерпретируемый код. Поверьте, ваши коллеги будут вам благодарны."
      ]
    },
    {
      "cell_type": "code",
      "metadata": {
        "id": "-o_xbcTSl-KD"
      },
      "source": [
        "# отключим warnings, чтобы они нам не мешали\n",
        "import warnings\n",
        "warnings.filterwarnings('ignore')"
      ],
      "execution_count": null,
      "outputs": []
    },
    {
      "cell_type": "code",
      "metadata": {
        "id": "b070jFNZONNS"
      },
      "source": [
        "# подгрузим стандартные библиотеки\n",
        "import os\n",
        "import pandas as pd\n",
        "import numpy as np\n",
        "import matplotlib.pyplot as plt"
      ],
      "execution_count": null,
      "outputs": []
    },
    {
      "cell_type": "code",
      "metadata": {
        "id": "i-ONRtlJcjtC"
      },
      "source": [
        "# подгрузим много разных ML инструментов\n",
        "from sklearn.model_selection import train_test_split, RandomizedSearchCV\n",
        "from sklearn.preprocessing import OrdinalEncoder\n",
        "from sklearn.metrics import accuracy_score, confusion_matrix, ConfusionMatrixDisplay\n",
        "from sklearn.linear_model import LogisticRegression\n",
        "from sklearn.utils import compute_class_weight\n",
        "from sklearn.preprocessing import StandardScaler\n",
        "from sklearn.tree import DecisionTreeClassifier\n",
        "from sklearn.ensemble import RandomForestClassifier"
      ],
      "execution_count": null,
      "outputs": []
    },
    {
      "cell_type": "markdown",
      "metadata": {
        "id": "055iMiodOP_w"
      },
      "source": [
        "# Downloading the dataset"
      ]
    },
    {
      "cell_type": "markdown",
      "metadata": {
        "id": "GE3J653HSpXO"
      },
      "source": [
        "В этом вебинаре мы будем использовать Kaggle [датасет](https://www.kaggle.com/elikplim/car-evaluation-data-set), посвященный оценке безопасности того или иного автомобиля.\n",
        "\n",
        "Давайте подгрузим данные с Kaggle прямо в Colab, используя API Kaggle."
      ]
    },
    {
      "cell_type": "code",
      "metadata": {
        "id": "UATLZ4C-OPRE"
      },
      "source": [
        "os.environ['KAGGLE_USERNAME'] = \"soncaajp\"\n",
        "os.environ['KAGGLE_KEY'] = \"d3783c48119342658b6e9b4a4a190ce6\""
      ],
      "execution_count": null,
      "outputs": []
    },
    {
      "cell_type": "markdown",
      "metadata": {
        "id": "RnMuxnMUT4P_"
      },
      "source": [
        "Подгружаем датасет."
      ]
    },
    {
      "cell_type": "code",
      "metadata": {
        "colab": {
          "base_uri": "https://localhost:8080/"
        },
        "id": "bs6In400OZJ1",
        "outputId": "9362a2ca-635a-4fdf-efbc-5118c20577bf"
      },
      "source": [
        "! kaggle datasets download -d elikplim/car-evaluation-data-set"
      ],
      "execution_count": null,
      "outputs": [
        {
          "output_type": "stream",
          "text": [
            "Downloading car-evaluation-data-set.zip to /content\n",
            "\r  0% 0.00/4.66k [00:00<?, ?B/s]\n",
            "\r100% 4.66k/4.66k [00:00<00:00, 8.86MB/s]\n"
          ],
          "name": "stdout"
        }
      ]
    },
    {
      "cell_type": "markdown",
      "metadata": {
        "id": "Dpa8Yu6HT8QA"
      },
      "source": [
        "Распаковываем подгруженные данные."
      ]
    },
    {
      "cell_type": "code",
      "metadata": {
        "id": "V1OPjT3BPn1Z",
        "colab": {
          "base_uri": "https://localhost:8080/"
        },
        "outputId": "77464c65-d684-4d74-dd20-a1d9e3deead1"
      },
      "source": [
        "! unzip /content/car-evaluation-data-set.zip"
      ],
      "execution_count": null,
      "outputs": [
        {
          "output_type": "stream",
          "text": [
            "Archive:  /content/car-evaluation-data-set.zip\n",
            "  inflating: car_evaluation.csv      \n"
          ],
          "name": "stdout"
        }
      ]
    },
    {
      "cell_type": "markdown",
      "metadata": {
        "id": "swp9_IkpSLjX"
      },
      "source": [
        "# Exploratory data analysis (EDA)"
      ]
    },
    {
      "cell_type": "markdown",
      "metadata": {
        "id": "L5y7TBo6TCq8"
      },
      "source": [
        "Подгрузим распакованные данные."
      ]
    },
    {
      "cell_type": "code",
      "metadata": {
        "colab": {
          "base_uri": "https://localhost:8080/",
          "height": 204
        },
        "id": "wt1OGE_OSIKx",
        "outputId": "cc008bcc-d84c-4a53-ae9b-40d1ff1f12f4"
      },
      "source": [
        "data = pd.read_csv('car_evaluation.csv', header = None)\n",
        "data.head()"
      ],
      "execution_count": null,
      "outputs": [
        {
          "output_type": "execute_result",
          "data": {
            "text/html": [
              "<div>\n",
              "<style scoped>\n",
              "    .dataframe tbody tr th:only-of-type {\n",
              "        vertical-align: middle;\n",
              "    }\n",
              "\n",
              "    .dataframe tbody tr th {\n",
              "        vertical-align: top;\n",
              "    }\n",
              "\n",
              "    .dataframe thead th {\n",
              "        text-align: right;\n",
              "    }\n",
              "</style>\n",
              "<table border=\"1\" class=\"dataframe\">\n",
              "  <thead>\n",
              "    <tr style=\"text-align: right;\">\n",
              "      <th></th>\n",
              "      <th>0</th>\n",
              "      <th>1</th>\n",
              "      <th>2</th>\n",
              "      <th>3</th>\n",
              "      <th>4</th>\n",
              "      <th>5</th>\n",
              "      <th>6</th>\n",
              "    </tr>\n",
              "  </thead>\n",
              "  <tbody>\n",
              "    <tr>\n",
              "      <th>0</th>\n",
              "      <td>vhigh</td>\n",
              "      <td>vhigh</td>\n",
              "      <td>2</td>\n",
              "      <td>2</td>\n",
              "      <td>small</td>\n",
              "      <td>low</td>\n",
              "      <td>unacc</td>\n",
              "    </tr>\n",
              "    <tr>\n",
              "      <th>1</th>\n",
              "      <td>vhigh</td>\n",
              "      <td>vhigh</td>\n",
              "      <td>2</td>\n",
              "      <td>2</td>\n",
              "      <td>small</td>\n",
              "      <td>med</td>\n",
              "      <td>unacc</td>\n",
              "    </tr>\n",
              "    <tr>\n",
              "      <th>2</th>\n",
              "      <td>vhigh</td>\n",
              "      <td>vhigh</td>\n",
              "      <td>2</td>\n",
              "      <td>2</td>\n",
              "      <td>small</td>\n",
              "      <td>high</td>\n",
              "      <td>unacc</td>\n",
              "    </tr>\n",
              "    <tr>\n",
              "      <th>3</th>\n",
              "      <td>vhigh</td>\n",
              "      <td>vhigh</td>\n",
              "      <td>2</td>\n",
              "      <td>2</td>\n",
              "      <td>med</td>\n",
              "      <td>low</td>\n",
              "      <td>unacc</td>\n",
              "    </tr>\n",
              "    <tr>\n",
              "      <th>4</th>\n",
              "      <td>vhigh</td>\n",
              "      <td>vhigh</td>\n",
              "      <td>2</td>\n",
              "      <td>2</td>\n",
              "      <td>med</td>\n",
              "      <td>med</td>\n",
              "      <td>unacc</td>\n",
              "    </tr>\n",
              "  </tbody>\n",
              "</table>\n",
              "</div>"
            ],
            "text/plain": [
              "       0      1  2  3      4     5      6\n",
              "0  vhigh  vhigh  2  2  small   low  unacc\n",
              "1  vhigh  vhigh  2  2  small   med  unacc\n",
              "2  vhigh  vhigh  2  2  small  high  unacc\n",
              "3  vhigh  vhigh  2  2    med   low  unacc\n",
              "4  vhigh  vhigh  2  2    med   med  unacc"
            ]
          },
          "metadata": {
            "tags": []
          },
          "execution_count": 7
        }
      ]
    },
    {
      "cell_type": "markdown",
      "metadata": {
        "id": "ay0cvrAkTq-a"
      },
      "source": [
        "Выглядит очень странно. Непонятно за что отвечает тот или иной столбец. Давайте переименуем столбцы так, как указано на страничке датасета на Kaggle."
      ]
    },
    {
      "cell_type": "code",
      "metadata": {
        "colab": {
          "base_uri": "https://localhost:8080/",
          "height": 204
        },
        "id": "pIYDmWYITOOo",
        "outputId": "2b7d6343-effa-4c08-bc0e-6ee6ac66c9a6"
      },
      "source": [
        "col_names = ['Buying_price', 'Maintenance_cost', 'Number_of_doors', 'Number_of_persons', 'Luggage_boot', 'Safety', 'Class']\n",
        "data.columns = col_names\n",
        "data.head()"
      ],
      "execution_count": null,
      "outputs": [
        {
          "output_type": "execute_result",
          "data": {
            "text/html": [
              "<div>\n",
              "<style scoped>\n",
              "    .dataframe tbody tr th:only-of-type {\n",
              "        vertical-align: middle;\n",
              "    }\n",
              "\n",
              "    .dataframe tbody tr th {\n",
              "        vertical-align: top;\n",
              "    }\n",
              "\n",
              "    .dataframe thead th {\n",
              "        text-align: right;\n",
              "    }\n",
              "</style>\n",
              "<table border=\"1\" class=\"dataframe\">\n",
              "  <thead>\n",
              "    <tr style=\"text-align: right;\">\n",
              "      <th></th>\n",
              "      <th>Buying_price</th>\n",
              "      <th>Maintenance_cost</th>\n",
              "      <th>Number_of_doors</th>\n",
              "      <th>Number_of_persons</th>\n",
              "      <th>Luggage_boot</th>\n",
              "      <th>Safety</th>\n",
              "      <th>Class</th>\n",
              "    </tr>\n",
              "  </thead>\n",
              "  <tbody>\n",
              "    <tr>\n",
              "      <th>0</th>\n",
              "      <td>vhigh</td>\n",
              "      <td>vhigh</td>\n",
              "      <td>2</td>\n",
              "      <td>2</td>\n",
              "      <td>small</td>\n",
              "      <td>low</td>\n",
              "      <td>unacc</td>\n",
              "    </tr>\n",
              "    <tr>\n",
              "      <th>1</th>\n",
              "      <td>vhigh</td>\n",
              "      <td>vhigh</td>\n",
              "      <td>2</td>\n",
              "      <td>2</td>\n",
              "      <td>small</td>\n",
              "      <td>med</td>\n",
              "      <td>unacc</td>\n",
              "    </tr>\n",
              "    <tr>\n",
              "      <th>2</th>\n",
              "      <td>vhigh</td>\n",
              "      <td>vhigh</td>\n",
              "      <td>2</td>\n",
              "      <td>2</td>\n",
              "      <td>small</td>\n",
              "      <td>high</td>\n",
              "      <td>unacc</td>\n",
              "    </tr>\n",
              "    <tr>\n",
              "      <th>3</th>\n",
              "      <td>vhigh</td>\n",
              "      <td>vhigh</td>\n",
              "      <td>2</td>\n",
              "      <td>2</td>\n",
              "      <td>med</td>\n",
              "      <td>low</td>\n",
              "      <td>unacc</td>\n",
              "    </tr>\n",
              "    <tr>\n",
              "      <th>4</th>\n",
              "      <td>vhigh</td>\n",
              "      <td>vhigh</td>\n",
              "      <td>2</td>\n",
              "      <td>2</td>\n",
              "      <td>med</td>\n",
              "      <td>med</td>\n",
              "      <td>unacc</td>\n",
              "    </tr>\n",
              "  </tbody>\n",
              "</table>\n",
              "</div>"
            ],
            "text/plain": [
              "  Buying_price Maintenance_cost Number_of_doors  ... Luggage_boot Safety  Class\n",
              "0        vhigh            vhigh               2  ...        small    low  unacc\n",
              "1        vhigh            vhigh               2  ...        small    med  unacc\n",
              "2        vhigh            vhigh               2  ...        small   high  unacc\n",
              "3        vhigh            vhigh               2  ...          med    low  unacc\n",
              "4        vhigh            vhigh               2  ...          med    med  unacc\n",
              "\n",
              "[5 rows x 7 columns]"
            ]
          },
          "metadata": {
            "tags": []
          },
          "execution_count": 8
        }
      ]
    },
    {
      "cell_type": "markdown",
      "metadata": {
        "id": "mBE6LRbfVKxX"
      },
      "source": [
        "Давайте проведем EDA.\n",
        "\n",
        "На что стоит обратить внимание:\n",
        "\n",
        "1.   Размер датасета\n",
        "2.   Типы переменных в датасете\n",
        "3.   Наличие пропусков\n",
        "4.   Распределение признаков и их \"смысл\"\n",
        "5.   Тип задачи Машинного обучения"
      ]
    },
    {
      "cell_type": "code",
      "metadata": {
        "id": "ONmduXIMlGJt"
      },
      "source": [
        "# какого размера наш датасет?"
      ],
      "execution_count": null,
      "outputs": []
    },
    {
      "cell_type": "code",
      "metadata": {
        "colab": {
          "base_uri": "https://localhost:8080/"
        },
        "id": "ll3ndmIZXA5S",
        "outputId": "73285987-bf58-4f57-eae4-51f2de359af6"
      },
      "source": [
        "for column in data.columns:\n",
        "    print(data[column].value_counts())  # какой вывод можно сделать по выводу этой ячейки?\n",
        "    print()                             # что можно сказать про признаки? а про задачу машинного обучения? а про баланс классов?"
      ],
      "execution_count": null,
      "outputs": [
        {
          "output_type": "stream",
          "text": [
            "low      432\n",
            "high     432\n",
            "vhigh    432\n",
            "med      432\n",
            "Name: Buying_price, dtype: int64\n",
            "\n",
            "low      432\n",
            "high     432\n",
            "vhigh    432\n",
            "med      432\n",
            "Name: Maintenance_cost, dtype: int64\n",
            "\n",
            "2        432\n",
            "5more    432\n",
            "3        432\n",
            "4        432\n",
            "Name: Number_of_doors, dtype: int64\n",
            "\n",
            "2       576\n",
            "more    576\n",
            "4       576\n",
            "Name: Number_of_persons, dtype: int64\n",
            "\n",
            "big      576\n",
            "small    576\n",
            "med      576\n",
            "Name: Luggage_boot, dtype: int64\n",
            "\n",
            "low     576\n",
            "high    576\n",
            "med     576\n",
            "Name: Safety, dtype: int64\n",
            "\n",
            "unacc    1210\n",
            "acc       384\n",
            "good       69\n",
            "vgood      65\n",
            "Name: Class, dtype: int64\n",
            "\n"
          ],
          "name": "stdout"
        }
      ]
    },
    {
      "cell_type": "code",
      "metadata": {
        "id": "KtMNqe-flD_9"
      },
      "source": [
        "# сколько пропусков в нашем датасете"
      ],
      "execution_count": null,
      "outputs": []
    },
    {
      "cell_type": "code",
      "metadata": {
        "id": "oLsS-IJUlhdF"
      },
      "source": [
        "# с какой задачей машинного обучения мы столкнулись?"
      ],
      "execution_count": null,
      "outputs": []
    },
    {
      "cell_type": "markdown",
      "metadata": {
        "id": "o9FttHbVbXi4"
      },
      "source": [
        "\n",
        "\n",
        "Давайте разобьем нашу выборку на train и test в соотношении 70 на 30, используя стратификацию."
      ]
    },
    {
      "cell_type": "code",
      "metadata": {
        "id": "fqsDmMOHbWS8"
      },
      "source": [
        "X = data.drop(['Class'], axis = 1)\n",
        "y = data['Class']"
      ],
      "execution_count": null,
      "outputs": []
    },
    {
      "cell_type": "code",
      "metadata": {
        "id": "PUXpa4BBdOMM"
      },
      "source": [
        "X_train, X_test, y_train, y_test = train_test_split(X, y, test_size = 0.3, random_state = 42, stratify = y)"
      ],
      "execution_count": null,
      "outputs": []
    },
    {
      "cell_type": "markdown",
      "metadata": {
        "id": "Q7Udv5O_gILL"
      },
      "source": [
        "Посмотрим на баланс классов в тренировочной и валидационной выборке."
      ]
    },
    {
      "cell_type": "code",
      "metadata": {
        "colab": {
          "base_uri": "https://localhost:8080/"
        },
        "id": "RLwT6A8qfy2V",
        "outputId": "f54867b4-9fc8-4d2d-954c-8f6f97739d6a"
      },
      "source": [
        "print(y_train.shape)\n",
        "print(y_train.value_counts())"
      ],
      "execution_count": null,
      "outputs": [
        {
          "output_type": "stream",
          "text": [
            "(1209,)\n",
            "unacc    847\n",
            "acc      269\n",
            "good      48\n",
            "vgood     45\n",
            "Name: Class, dtype: int64\n"
          ],
          "name": "stdout"
        }
      ]
    },
    {
      "cell_type": "code",
      "metadata": {
        "colab": {
          "base_uri": "https://localhost:8080/"
        },
        "id": "t_9hThZvf1bi",
        "outputId": "a3afd8f8-222c-40b7-d000-8b6a9913f32c"
      },
      "source": [
        "print(y_test.shape)\n",
        "print(y_test.value_counts())"
      ],
      "execution_count": null,
      "outputs": [
        {
          "output_type": "stream",
          "text": [
            "(519,)\n",
            "unacc    363\n",
            "acc      115\n",
            "good      21\n",
            "vgood     20\n",
            "Name: Class, dtype: int64\n"
          ],
          "name": "stdout"
        }
      ]
    },
    {
      "cell_type": "markdown",
      "metadata": {
        "id": "_yYEu_85dqTb"
      },
      "source": [
        "Признаки будем кодировать с помощью Ordinal Encoder из sklearn.preprocessing. Мы могли бы сделать это вручную, как в случае с кодированием признака ecology в ML-2, но это заняло бы какое-то время."
      ]
    },
    {
      "cell_type": "code",
      "metadata": {
        "colab": {
          "base_uri": "https://localhost:8080/",
          "height": 204
        },
        "id": "dSdbdPkPe3uX",
        "outputId": "7465a338-e5ed-432e-c97b-2d94afdd8a00"
      },
      "source": [
        "X_train.head()"
      ],
      "execution_count": null,
      "outputs": [
        {
          "output_type": "execute_result",
          "data": {
            "text/html": [
              "<div>\n",
              "<style scoped>\n",
              "    .dataframe tbody tr th:only-of-type {\n",
              "        vertical-align: middle;\n",
              "    }\n",
              "\n",
              "    .dataframe tbody tr th {\n",
              "        vertical-align: top;\n",
              "    }\n",
              "\n",
              "    .dataframe thead th {\n",
              "        text-align: right;\n",
              "    }\n",
              "</style>\n",
              "<table border=\"1\" class=\"dataframe\">\n",
              "  <thead>\n",
              "    <tr style=\"text-align: right;\">\n",
              "      <th></th>\n",
              "      <th>Buying_price</th>\n",
              "      <th>Maintenance_cost</th>\n",
              "      <th>Number_of_doors</th>\n",
              "      <th>Number_of_persons</th>\n",
              "      <th>Luggage_boot</th>\n",
              "      <th>Safety</th>\n",
              "    </tr>\n",
              "  </thead>\n",
              "  <tbody>\n",
              "    <tr>\n",
              "      <th>101</th>\n",
              "      <td>vhigh</td>\n",
              "      <td>vhigh</td>\n",
              "      <td>5more</td>\n",
              "      <td>more</td>\n",
              "      <td>small</td>\n",
              "      <td>high</td>\n",
              "    </tr>\n",
              "    <tr>\n",
              "      <th>844</th>\n",
              "      <td>high</td>\n",
              "      <td>low</td>\n",
              "      <td>5more</td>\n",
              "      <td>2</td>\n",
              "      <td>big</td>\n",
              "      <td>med</td>\n",
              "    </tr>\n",
              "    <tr>\n",
              "      <th>1361</th>\n",
              "      <td>low</td>\n",
              "      <td>vhigh</td>\n",
              "      <td>4</td>\n",
              "      <td>4</td>\n",
              "      <td>small</td>\n",
              "      <td>high</td>\n",
              "    </tr>\n",
              "    <tr>\n",
              "      <th>1584</th>\n",
              "      <td>low</td>\n",
              "      <td>med</td>\n",
              "      <td>4</td>\n",
              "      <td>more</td>\n",
              "      <td>small</td>\n",
              "      <td>low</td>\n",
              "    </tr>\n",
              "    <tr>\n",
              "      <th>566</th>\n",
              "      <td>high</td>\n",
              "      <td>high</td>\n",
              "      <td>2</td>\n",
              "      <td>more</td>\n",
              "      <td>big</td>\n",
              "      <td>high</td>\n",
              "    </tr>\n",
              "  </tbody>\n",
              "</table>\n",
              "</div>"
            ],
            "text/plain": [
              "     Buying_price Maintenance_cost  ... Luggage_boot Safety\n",
              "101         vhigh            vhigh  ...        small   high\n",
              "844          high              low  ...          big    med\n",
              "1361          low            vhigh  ...        small   high\n",
              "1584          low              med  ...        small    low\n",
              "566          high             high  ...          big   high\n",
              "\n",
              "[5 rows x 6 columns]"
            ]
          },
          "metadata": {
            "tags": []
          },
          "execution_count": 134
        }
      ]
    },
    {
      "cell_type": "code",
      "metadata": {
        "id": "bmUInurwdZH-"
      },
      "source": [
        "encoder = OrdinalEncoder()\n",
        "X_train = encoder.fit_transform(X_train)\n",
        "X_test = encoder.transform(X_test)"
      ],
      "execution_count": null,
      "outputs": []
    },
    {
      "cell_type": "code",
      "metadata": {
        "colab": {
          "base_uri": "https://localhost:8080/"
        },
        "id": "1e6H6K5AfGor",
        "outputId": "c1221e1c-d798-4c6b-bf28-9e1a01ad2d19"
      },
      "source": [
        "encoder.categories_"
      ],
      "execution_count": null,
      "outputs": [
        {
          "output_type": "execute_result",
          "data": {
            "text/plain": [
              "[array(['high', 'low', 'med', 'vhigh'], dtype=object),\n",
              " array(['high', 'low', 'med', 'vhigh'], dtype=object),\n",
              " array(['2', '3', '4', '5more'], dtype=object),\n",
              " array(['2', '4', 'more'], dtype=object),\n",
              " array(['big', 'med', 'small'], dtype=object),\n",
              " array(['high', 'low', 'med'], dtype=object)]"
            ]
          },
          "metadata": {
            "tags": []
          },
          "execution_count": 136
        }
      ]
    },
    {
      "cell_type": "code",
      "metadata": {
        "id": "ok1c-tiTeR1L"
      },
      "source": [
        "X_train = pd.DataFrame(data = X_train, columns = ['Buying_price', 'Maintenance_cost', 'Number_of_doors', 'Number_of_persons', 'Luggage_boot', 'Safety'])\n",
        "X_test = pd.DataFrame(data = X_test, columns = ['Buying_price', 'Maintenance_cost', 'Number_of_doors', 'Number_of_persons', 'Luggage_boot', 'Safety'])"
      ],
      "execution_count": null,
      "outputs": []
    },
    {
      "cell_type": "code",
      "metadata": {
        "colab": {
          "base_uri": "https://localhost:8080/",
          "height": 204
        },
        "id": "kJEe8oRNeqSU",
        "outputId": "3fdbb05b-2a02-446e-88d1-97adcb54e6b3"
      },
      "source": [
        "X_train.head()"
      ],
      "execution_count": null,
      "outputs": [
        {
          "output_type": "execute_result",
          "data": {
            "text/html": [
              "<div>\n",
              "<style scoped>\n",
              "    .dataframe tbody tr th:only-of-type {\n",
              "        vertical-align: middle;\n",
              "    }\n",
              "\n",
              "    .dataframe tbody tr th {\n",
              "        vertical-align: top;\n",
              "    }\n",
              "\n",
              "    .dataframe thead th {\n",
              "        text-align: right;\n",
              "    }\n",
              "</style>\n",
              "<table border=\"1\" class=\"dataframe\">\n",
              "  <thead>\n",
              "    <tr style=\"text-align: right;\">\n",
              "      <th></th>\n",
              "      <th>Buying_price</th>\n",
              "      <th>Maintenance_cost</th>\n",
              "      <th>Number_of_doors</th>\n",
              "      <th>Number_of_persons</th>\n",
              "      <th>Luggage_boot</th>\n",
              "      <th>Safety</th>\n",
              "    </tr>\n",
              "  </thead>\n",
              "  <tbody>\n",
              "    <tr>\n",
              "      <th>0</th>\n",
              "      <td>3.0</td>\n",
              "      <td>3.0</td>\n",
              "      <td>3.0</td>\n",
              "      <td>2.0</td>\n",
              "      <td>2.0</td>\n",
              "      <td>0.0</td>\n",
              "    </tr>\n",
              "    <tr>\n",
              "      <th>1</th>\n",
              "      <td>0.0</td>\n",
              "      <td>1.0</td>\n",
              "      <td>3.0</td>\n",
              "      <td>0.0</td>\n",
              "      <td>0.0</td>\n",
              "      <td>2.0</td>\n",
              "    </tr>\n",
              "    <tr>\n",
              "      <th>2</th>\n",
              "      <td>1.0</td>\n",
              "      <td>3.0</td>\n",
              "      <td>2.0</td>\n",
              "      <td>1.0</td>\n",
              "      <td>2.0</td>\n",
              "      <td>0.0</td>\n",
              "    </tr>\n",
              "    <tr>\n",
              "      <th>3</th>\n",
              "      <td>1.0</td>\n",
              "      <td>2.0</td>\n",
              "      <td>2.0</td>\n",
              "      <td>2.0</td>\n",
              "      <td>2.0</td>\n",
              "      <td>1.0</td>\n",
              "    </tr>\n",
              "    <tr>\n",
              "      <th>4</th>\n",
              "      <td>0.0</td>\n",
              "      <td>0.0</td>\n",
              "      <td>0.0</td>\n",
              "      <td>2.0</td>\n",
              "      <td>0.0</td>\n",
              "      <td>0.0</td>\n",
              "    </tr>\n",
              "  </tbody>\n",
              "</table>\n",
              "</div>"
            ],
            "text/plain": [
              "   Buying_price  Maintenance_cost  ...  Luggage_boot  Safety\n",
              "0           3.0               3.0  ...           2.0     0.0\n",
              "1           0.0               1.0  ...           0.0     2.0\n",
              "2           1.0               3.0  ...           2.0     0.0\n",
              "3           1.0               2.0  ...           2.0     1.0\n",
              "4           0.0               0.0  ...           0.0     0.0\n",
              "\n",
              "[5 rows x 6 columns]"
            ]
          },
          "metadata": {
            "tags": []
          },
          "execution_count": 138
        }
      ]
    },
    {
      "cell_type": "code",
      "metadata": {
        "colab": {
          "base_uri": "https://localhost:8080/"
        },
        "id": "0vAslx9UerIA",
        "outputId": "330909b6-f67a-4a3f-953f-801a33240945"
      },
      "source": [
        "X_train['Buying_price'].value_counts()"
      ],
      "execution_count": null,
      "outputs": [
        {
          "output_type": "execute_result",
          "data": {
            "text/plain": [
              "0.0    325\n",
              "3.0    307\n",
              "1.0    293\n",
              "2.0    284\n",
              "Name: Buying_price, dtype: int64"
            ]
          },
          "metadata": {
            "tags": []
          },
          "execution_count": 139
        }
      ]
    },
    {
      "cell_type": "markdown",
      "metadata": {
        "id": "5Us6ifpzfdGL"
      },
      "source": [
        "Таким образом, мы успешно закодировали все ординальные признаки в нашем датасете. Целевую переменную можно оставить как есть. Почему?\n",
        "\n",
        "\n",
        "Итак, наши данные готовы для обучения. Мы работаем с задачей многоклассовой Классификации, причем имеем достаточно сильный перекос в целевой переменной в сторону класса **unacc**. Работать будем по следующему алгоритму:\n",
        "\n",
        "\n",
        "\n",
        "1.   Наивная модель\n",
        "2.   Logistic Regression\n",
        "3.   Decision Tree\n",
        "4.   Random Forest\n",
        "5.   СatBoost\n",
        "\n",
        "Попробуем выбить максимальный возможный **accuracy**.\n",
        "\n"
      ]
    },
    {
      "cell_type": "markdown",
      "metadata": {
        "id": "aMQDQ_e-hOdO"
      },
      "source": [
        "# Наивная модель"
      ]
    },
    {
      "cell_type": "markdown",
      "metadata": {
        "id": "q6rHegmYiZ_H"
      },
      "source": [
        "Давайте всегда предсказывать только класс-большинство, а именно **unacc**. Accuracy, полученный таким способом, будет нашим **baseline** - значением метрики, которую нужно побить, используя более сложные подходы."
      ]
    },
    {
      "cell_type": "code",
      "metadata": {
        "id": "VQToWr3ki-rE"
      },
      "source": [
        "predict = # cформируйте массив, содержащий строку 'unacc' y_test.shape[0] раз"
      ],
      "execution_count": null,
      "outputs": []
    },
    {
      "cell_type": "code",
      "metadata": {
        "colab": {
          "base_uri": "https://localhost:8080/"
        },
        "id": "K5K1vq4tjSTz",
        "outputId": "a52815a9-2102-4dae-bc37-9e01ce471dfc"
      },
      "source": [
        "len(predict) # проверьте, что размерность сформированного массива совпадает с нужной (должна быть 519)"
      ],
      "execution_count": null,
      "outputs": [
        {
          "output_type": "execute_result",
          "data": {
            "text/plain": [
              "519"
            ]
          },
          "metadata": {
            "tags": []
          },
          "execution_count": 141
        }
      ]
    },
    {
      "cell_type": "code",
      "metadata": {
        "id": "1wyw85iMmehE"
      },
      "source": [
        "print('Accuracy наивной модели: ') # посчитайте accuracy между сформированным массивом и y_test"
      ],
      "execution_count": null,
      "outputs": []
    },
    {
      "cell_type": "markdown",
      "metadata": {
        "id": "E_WI15bfkEo4"
      },
      "source": [
        "Мы получили baseline. Понятно, что ценности в таком решении нет и нужно работать дальше."
      ]
    },
    {
      "cell_type": "markdown",
      "metadata": {
        "id": "RYIEWp2HkaWF"
      },
      "source": [
        "# Logistic Regression"
      ]
    },
    {
      "cell_type": "code",
      "metadata": {
        "id": "DqaoD2ZJPz_o"
      },
      "source": [
        "scaler = StandardScaler()\n",
        "X_train = scaler.fit_transform(X_train)\n",
        "X_test = scaler.transform(X_test)"
      ],
      "execution_count": null,
      "outputs": []
    },
    {
      "cell_type": "code",
      "metadata": {
        "id": "RoZ5VEsOm4pg"
      },
      "source": [
        "lr = # инициализируйте модель LogisticRegression\n",
        "lr.# обучите модель, которую вы инициализировали выше на X_train, y_train\n",
        "predict = # получите предсказания модели на X_test\n",
        "print('Accuracy out-of-the-box Logistic Regression: ') # посчитайте accuracy модели на predict (то есть X_test)"
      ],
      "execution_count": null,
      "outputs": []
    },
    {
      "cell_type": "markdown",
      "metadata": {
        "id": "U8UVqkG8__gG"
      },
      "source": [
        "Несмотря на то, что **accuracy** получилась меньше, чем при наивном решении, стоит дополнительно оценить модель с помощью **confusion_matrix**."
      ]
    },
    {
      "cell_type": "code",
      "metadata": {
        "id": "gK4Ey1ZfmlwE"
      },
      "source": [
        "cm = confusion_matrix(y_test, predict, labels = list(y.unique()))\n",
        "disp = ConfusionMatrixDisplay(confusion_matrix = cm, display_labels = list(y.unique()))\n",
        "disp.plot()"
      ],
      "execution_count": null,
      "outputs": []
    },
    {
      "cell_type": "markdown",
      "metadata": {
        "id": "STynptIxSbQH"
      },
      "source": [
        "# Decision Tree"
      ]
    },
    {
      "cell_type": "markdown",
      "metadata": {
        "id": "RmwOlDJ8SgJN"
      },
      "source": [
        "Давайте отойдем от линейных моделей и попробуем применить к нашей задаче алгоритм **Решающего дерева**. К сожалению, даже если мы получим хорошую метрику **accuracy**, мы не сможем использовать данную модель, поскольку, как вы знаете, **Decision Tree** склонен сильно переобучаться. Однако, такой проверкой мы сможем подтвердить, что Решающие деревья в целом применимы для решения нашего кейса."
      ]
    },
    {
      "cell_type": "code",
      "metadata": {
        "id": "7l3wvMofTHxa"
      },
      "source": [
        "X_train, X_test, y_train, y_test = train_test_split(X, y, test_size = 0.3, random_state = 42, stratify = y)"
      ],
      "execution_count": null,
      "outputs": []
    },
    {
      "cell_type": "code",
      "metadata": {
        "id": "hUhsnJacTPvp"
      },
      "source": [
        "# используйте OrdinalEncoder, чтобы преобразовать признаки (код перекодировки смотрите выше в части EDA)"
      ],
      "execution_count": null,
      "outputs": []
    },
    {
      "cell_type": "code",
      "metadata": {
        "id": "gmvG53-dmcAe"
      },
      "source": [
        "dtc = # инициализируйте модель DecisionTreeClassifier с random_state 42\n",
        "dtc.# обучите модель, которую вы инициализировали выше на X_train, y_train\n",
        "predict = # получите предсказания модели на X_test\n",
        "print('Accuracy DecisionTreeClassifier на train: ') # посчитайте accuracy модели на X_train\n",
        "print('Accuracy DecisionTreeClassifier на test: ') # посчитайте accuracy модели на predict (то есть X_test)"
      ],
      "execution_count": null,
      "outputs": []
    },
    {
      "cell_type": "code",
      "metadata": {
        "id": "HKGJcpVvmZOu"
      },
      "source": [
        "cm = confusion_matrix(y_test, predict, labels = list(y.unique()))\n",
        "disp = ConfusionMatrixDisplay(confusion_matrix = cm, display_labels = list(y.unique()))\n",
        "disp.plot()"
      ],
      "execution_count": null,
      "outputs": []
    },
    {
      "cell_type": "markdown",
      "metadata": {
        "id": "WRUXORKCZ0e2"
      },
      "source": [
        "Почему мы вообще могли пропустить шаг с Decision Tree?"
      ]
    },
    {
      "cell_type": "markdown",
      "metadata": {
        "id": "ReI8TWh6SeMF"
      },
      "source": [
        "# Random Forest"
      ]
    },
    {
      "cell_type": "markdown",
      "metadata": {
        "id": "e5Yq8yVoVKDh"
      },
      "source": [
        "Применим RandomForestClassifier."
      ]
    },
    {
      "cell_type": "code",
      "metadata": {
        "id": "VcojPm8cmW3V"
      },
      "source": [
        "rfc = # инициализируйте модель RandomForestClassifier с random_state 42\n",
        "rfc.# обучите модель, которую вы инициализировали выше на X_train, y_train\n",
        "predict = # получите предсказания модели на X_test\n",
        "print('Accuracy RandomForestClassifier на train: ')) # посчитайте accuracy модели на X_train\n",
        "print('Accuracy RandomForestClassifier на test: ') # посчитайте accuracy модели на predict (то есть X_test)"
      ],
      "execution_count": null,
      "outputs": []
    },
    {
      "cell_type": "code",
      "metadata": {
        "id": "1OhB8b-amUqU"
      },
      "source": [
        "cm = confusion_matrix(y_test, predict, labels = list(y.unique()))\n",
        "disp = ConfusionMatrixDisplay(confusion_matrix = cm, display_labels = list(y.unique()))\n",
        "disp.plot()"
      ],
      "execution_count": null,
      "outputs": []
    }
  ]
}