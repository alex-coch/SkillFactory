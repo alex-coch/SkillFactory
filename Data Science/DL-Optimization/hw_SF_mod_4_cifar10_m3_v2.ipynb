{
  "nbformat": 4,
  "nbformat_minor": 0,
  "metadata": {
    "colab": {
      "provenance": []
    },
    "kernelspec": {
      "name": "python3",
      "display_name": "Python 3"
    },
    "accelerator": "GPU"
  },
  "cells": [
    {
      "cell_type": "markdown",
      "metadata": {
        "ExecuteTime": {
          "end_time": "2017-09-03T21:05:26.096298Z",
          "start_time": "2017-09-03T21:05:26.092498Z"
        },
        "id": "QqUJpyiXeS6R"
      },
      "source": [
        "# CIFAR-10 с трюками\n",
        "\n",
        "В этом задании мы продолжим работать с CIFAR-10, опробовав трюки, про которые мы узнали в 4 модуле.\n",
        "\n",
        "Датасет CIFAR-10 состоит из цветных картинок 32x32, разделенных на 10 классов: \n",
        "\n",
        "__airplane, automobile, bird, cat, deer, dog, frog, horse, ship, truck__"
      ]
    },
    {
      "cell_type": "markdown",
      "metadata": {
        "id": "2J7GNImieS6S"
      },
      "source": [
        "# Импорты"
      ]
    },
    {
      "cell_type": "code",
      "source": [
        "!pip3 install --upgrade pip"
      ],
      "metadata": {
        "colab": {
          "base_uri": "https://localhost:8080/"
        },
        "id": "43AaGsvKZZ48",
        "outputId": "75aff90f-ab3b-418c-a714-ecd2f1554c9c"
      },
      "execution_count": 6,
      "outputs": [
        {
          "output_type": "stream",
          "name": "stdout",
          "text": [
            "Looking in indexes: https://pypi.org/simple, https://us-python.pkg.dev/colab-wheels/public/simple/\n",
            "Requirement already satisfied: pip in /usr/local/lib/python3.9/dist-packages (23.0.1)\n",
            "\u001b[33mWARNING: Running pip as the 'root' user can result in broken permissions and conflicting behaviour with the system package manager. It is recommended to use a virtual environment instead: https://pip.pypa.io/warnings/venv\u001b[0m\u001b[33m\n",
            "\u001b[0m"
          ]
        }
      ]
    },
    {
      "cell_type": "code",
      "source": [
        "!pip install https://storage.googleapis.com/tensorflow/linux/gpu/tensorflow-2.12.0-cp39-cp39-manylinux_2_17_x86_64.manylinux2014_x86_64.whl"
      ],
      "metadata": {
        "colab": {
          "base_uri": "https://localhost:8080/"
        },
        "id": "XKsaTV9eanRF",
        "outputId": "208e79dd-953a-4e2a-f923-c2496c2eebbc"
      },
      "execution_count": 11,
      "outputs": [
        {
          "output_type": "stream",
          "name": "stdout",
          "text": [
            "Looking in indexes: https://pypi.org/simple, https://us-python.pkg.dev/colab-wheels/public/simple/\n",
            "Collecting tensorflow==2.12.0\n",
            "  Downloading https://storage.googleapis.com/tensorflow/linux/gpu/tensorflow-2.12.0-cp39-cp39-manylinux_2_17_x86_64.manylinux2014_x86_64.whl (585.9 MB)\n",
            "\u001b[2K     \u001b[90m━━━━━━━━━━━━━━━━━━━━━━━━━━━━━━━━━━━━━━━\u001b[0m \u001b[32m585.9/585.9 MB\u001b[0m \u001b[31m2.6 MB/s\u001b[0m eta \u001b[36m0:00:00\u001b[0m\n",
            "\u001b[?25hRequirement already satisfied: tensorflow-estimator<2.13,>=2.12.0 in /usr/local/lib/python3.9/dist-packages (from tensorflow==2.12.0) (2.12.0)\n",
            "Requirement already satisfied: wrapt<1.15,>=1.11.0 in /usr/local/lib/python3.9/dist-packages (from tensorflow==2.12.0) (1.14.1)\n",
            "Requirement already satisfied: tensorflow-io-gcs-filesystem>=0.23.1 in /usr/local/lib/python3.9/dist-packages (from tensorflow==2.12.0) (0.32.0)\n",
            "Requirement already satisfied: six>=1.12.0 in /usr/local/lib/python3.9/dist-packages (from tensorflow==2.12.0) (1.16.0)\n",
            "Requirement already satisfied: opt-einsum>=2.3.2 in /usr/local/lib/python3.9/dist-packages (from tensorflow==2.12.0) (3.3.0)\n",
            "Requirement already satisfied: absl-py>=1.0.0 in /usr/local/lib/python3.9/dist-packages (from tensorflow==2.12.0) (1.4.0)\n",
            "Requirement already satisfied: numpy<1.24,>=1.22 in /usr/local/lib/python3.9/dist-packages (from tensorflow==2.12.0) (1.22.4)\n",
            "Requirement already satisfied: setuptools in /usr/local/lib/python3.9/dist-packages (from tensorflow==2.12.0) (67.6.1)\n",
            "Requirement already satisfied: flatbuffers>=2.0 in /usr/local/lib/python3.9/dist-packages (from tensorflow==2.12.0) (23.3.3)\n",
            "Requirement already satisfied: grpcio<2.0,>=1.24.3 in /usr/local/lib/python3.9/dist-packages (from tensorflow==2.12.0) (1.53.0)\n",
            "Requirement already satisfied: packaging in /usr/local/lib/python3.9/dist-packages (from tensorflow==2.12.0) (23.0)\n",
            "Requirement already satisfied: libclang>=13.0.0 in /usr/local/lib/python3.9/dist-packages (from tensorflow==2.12.0) (16.0.0)\n",
            "Requirement already satisfied: jax>=0.3.15 in /usr/local/lib/python3.9/dist-packages (from tensorflow==2.12.0) (0.4.7)\n",
            "Requirement already satisfied: keras<2.13,>=2.12.0 in /usr/local/lib/python3.9/dist-packages (from tensorflow==2.12.0) (2.12.0)\n",
            "Requirement already satisfied: protobuf!=4.21.0,!=4.21.1,!=4.21.2,!=4.21.3,!=4.21.4,!=4.21.5,<5.0.0dev,>=3.20.3 in /usr/local/lib/python3.9/dist-packages (from tensorflow==2.12.0) (3.20.3)\n",
            "Requirement already satisfied: typing-extensions>=3.6.6 in /usr/local/lib/python3.9/dist-packages (from tensorflow==2.12.0) (4.5.0)\n",
            "Requirement already satisfied: astunparse>=1.6.0 in /usr/local/lib/python3.9/dist-packages (from tensorflow==2.12.0) (1.6.3)\n",
            "Requirement already satisfied: tensorboard<2.13,>=2.12 in /usr/local/lib/python3.9/dist-packages (from tensorflow==2.12.0) (2.12.1)\n",
            "Requirement already satisfied: h5py>=2.9.0 in /usr/local/lib/python3.9/dist-packages (from tensorflow==2.12.0) (3.8.0)\n",
            "Requirement already satisfied: termcolor>=1.1.0 in /usr/local/lib/python3.9/dist-packages (from tensorflow==2.12.0) (2.2.0)\n",
            "Requirement already satisfied: gast<=0.4.0,>=0.2.1 in /usr/local/lib/python3.9/dist-packages (from tensorflow==2.12.0) (0.4.0)\n",
            "Requirement already satisfied: google-pasta>=0.1.1 in /usr/local/lib/python3.9/dist-packages (from tensorflow==2.12.0) (0.2.0)\n",
            "Requirement already satisfied: wheel<1.0,>=0.23.0 in /usr/local/lib/python3.9/dist-packages (from astunparse>=1.6.0->tensorflow==2.12.0) (0.40.0)\n",
            "Requirement already satisfied: scipy>=1.7 in /usr/local/lib/python3.9/dist-packages (from jax>=0.3.15->tensorflow==2.12.0) (1.10.1)\n",
            "Requirement already satisfied: ml-dtypes>=0.0.3 in /usr/local/lib/python3.9/dist-packages (from jax>=0.3.15->tensorflow==2.12.0) (0.0.4)\n",
            "Requirement already satisfied: google-auth-oauthlib<1.1,>=0.5 in /usr/local/lib/python3.9/dist-packages (from tensorboard<2.13,>=2.12->tensorflow==2.12.0) (1.0.0)\n",
            "Requirement already satisfied: tensorboard-plugin-wit>=1.6.0 in /usr/local/lib/python3.9/dist-packages (from tensorboard<2.13,>=2.12->tensorflow==2.12.0) (1.8.1)\n",
            "Requirement already satisfied: google-auth<3,>=1.6.3 in /usr/local/lib/python3.9/dist-packages (from tensorboard<2.13,>=2.12->tensorflow==2.12.0) (2.17.1)\n",
            "Requirement already satisfied: tensorboard-data-server<0.8.0,>=0.7.0 in /usr/local/lib/python3.9/dist-packages (from tensorboard<2.13,>=2.12->tensorflow==2.12.0) (0.7.0)\n",
            "Requirement already satisfied: requests<3,>=2.21.0 in /usr/local/lib/python3.9/dist-packages (from tensorboard<2.13,>=2.12->tensorflow==2.12.0) (2.27.1)\n",
            "Requirement already satisfied: markdown>=2.6.8 in /usr/local/lib/python3.9/dist-packages (from tensorboard<2.13,>=2.12->tensorflow==2.12.0) (3.4.3)\n",
            "Requirement already satisfied: werkzeug>=1.0.1 in /usr/local/lib/python3.9/dist-packages (from tensorboard<2.13,>=2.12->tensorflow==2.12.0) (2.2.3)\n",
            "Requirement already satisfied: pyasn1-modules>=0.2.1 in /usr/local/lib/python3.9/dist-packages (from google-auth<3,>=1.6.3->tensorboard<2.13,>=2.12->tensorflow==2.12.0) (0.2.8)\n",
            "Requirement already satisfied: rsa<5,>=3.1.4 in /usr/local/lib/python3.9/dist-packages (from google-auth<3,>=1.6.3->tensorboard<2.13,>=2.12->tensorflow==2.12.0) (4.9)\n",
            "Requirement already satisfied: cachetools<6.0,>=2.0.0 in /usr/local/lib/python3.9/dist-packages (from google-auth<3,>=1.6.3->tensorboard<2.13,>=2.12->tensorflow==2.12.0) (5.3.0)\n",
            "Requirement already satisfied: requests-oauthlib>=0.7.0 in /usr/local/lib/python3.9/dist-packages (from google-auth-oauthlib<1.1,>=0.5->tensorboard<2.13,>=2.12->tensorflow==2.12.0) (1.3.1)\n",
            "Requirement already satisfied: importlib-metadata>=4.4 in /usr/local/lib/python3.9/dist-packages (from markdown>=2.6.8->tensorboard<2.13,>=2.12->tensorflow==2.12.0) (6.1.0)\n",
            "Requirement already satisfied: charset-normalizer~=2.0.0 in /usr/local/lib/python3.9/dist-packages (from requests<3,>=2.21.0->tensorboard<2.13,>=2.12->tensorflow==2.12.0) (2.0.12)\n",
            "Requirement already satisfied: certifi>=2017.4.17 in /usr/local/lib/python3.9/dist-packages (from requests<3,>=2.21.0->tensorboard<2.13,>=2.12->tensorflow==2.12.0) (2022.12.7)\n",
            "Requirement already satisfied: urllib3<1.27,>=1.21.1 in /usr/local/lib/python3.9/dist-packages (from requests<3,>=2.21.0->tensorboard<2.13,>=2.12->tensorflow==2.12.0) (1.26.15)\n",
            "Requirement already satisfied: idna<4,>=2.5 in /usr/local/lib/python3.9/dist-packages (from requests<3,>=2.21.0->tensorboard<2.13,>=2.12->tensorflow==2.12.0) (3.4)\n",
            "Requirement already satisfied: MarkupSafe>=2.1.1 in /usr/local/lib/python3.9/dist-packages (from werkzeug>=1.0.1->tensorboard<2.13,>=2.12->tensorflow==2.12.0) (2.1.2)\n",
            "Requirement already satisfied: zipp>=0.5 in /usr/local/lib/python3.9/dist-packages (from importlib-metadata>=4.4->markdown>=2.6.8->tensorboard<2.13,>=2.12->tensorflow==2.12.0) (3.15.0)\n",
            "Requirement already satisfied: pyasn1<0.5.0,>=0.4.6 in /usr/local/lib/python3.9/dist-packages (from pyasn1-modules>=0.2.1->google-auth<3,>=1.6.3->tensorboard<2.13,>=2.12->tensorflow==2.12.0) (0.4.8)\n",
            "Requirement already satisfied: oauthlib>=3.0.0 in /usr/local/lib/python3.9/dist-packages (from requests-oauthlib>=0.7.0->google-auth-oauthlib<1.1,>=0.5->tensorboard<2.13,>=2.12->tensorflow==2.12.0) (3.2.2)\n",
            "\u001b[33mWARNING: Running pip as the 'root' user can result in broken permissions and conflicting behaviour with the system package manager. It is recommended to use a virtual environment instead: https://pip.pypa.io/warnings/venv\u001b[0m\u001b[33m\n",
            "\u001b[0m"
          ]
        }
      ]
    },
    {
      "cell_type": "code",
      "metadata": {
        "id": "eRPloRJDGBZA"
      },
      "source": [
        "# !pip3 install -q tensorflow==2.1.0"
      ],
      "execution_count": 12,
      "outputs": []
    },
    {
      "cell_type": "code",
      "metadata": {
        "ExecuteTime": {
          "end_time": "2017-10-29T18:51:58.907479Z",
          "start_time": "2017-10-29T18:51:42.206537Z"
        },
        "scrolled": true,
        "id": "LQIUU8LdeS6d",
        "outputId": "5598d596-6eb6-4372-df0c-640ee1be77b7",
        "colab": {
          "base_uri": "https://localhost:8080/"
        }
      },
      "source": [
        "import tensorflow as tf\n",
        "import tensorflow.keras as keras\n",
        "import tensorflow.keras.models as M\n",
        "import tensorflow.keras.layers as L\n",
        "import tensorflow.keras.backend as K\n",
        "import numpy as np\n",
        "%matplotlib inline\n",
        "import matplotlib.pyplot as plt\n",
        "print(tf.__version__)\n",
        "print(keras.__version__)"
      ],
      "execution_count": 13,
      "outputs": [
        {
          "output_type": "stream",
          "name": "stdout",
          "text": [
            "2.12.0\n",
            "2.12.0\n"
          ]
        }
      ]
    },
    {
      "cell_type": "markdown",
      "metadata": {
        "id": "sGYhZCO9eS6m"
      },
      "source": [
        "# Загружаем данные"
      ]
    },
    {
      "cell_type": "code",
      "metadata": {
        "ExecuteTime": {
          "end_time": "2017-09-03T23:44:40.870302Z",
          "start_time": "2017-09-03T23:44:39.221603Z"
        },
        "id": "PGXgRLxxeS6n",
        "outputId": "86c44a87-ea38-4954-8f29-34b16c9ff9a8",
        "colab": {
          "base_uri": "https://localhost:8080/"
        }
      },
      "source": [
        "from tensorflow.keras.datasets import cifar10\n",
        "(x_train, y_train), (x_test, y_test) = cifar10.load_data()"
      ],
      "execution_count": 14,
      "outputs": [
        {
          "output_type": "stream",
          "name": "stdout",
          "text": [
            "Downloading data from https://www.cs.toronto.edu/~kriz/cifar-10-python.tar.gz\n",
            "170498071/170498071 [==============================] - 13s 0us/step\n"
          ]
        }
      ]
    },
    {
      "cell_type": "code",
      "metadata": {
        "ExecuteTime": {
          "end_time": "2017-09-04T00:27:41.648291Z",
          "start_time": "2017-09-04T00:27:41.644322Z"
        },
        "id": "x7J3FtvBeS6r",
        "outputId": "c23a3321-cf74-4609-a412-9278f51a75b0",
        "colab": {
          "base_uri": "https://localhost:8080/"
        }
      },
      "source": [
        "print(\"Трейн:\", x_train.shape, y_train.shape)\n",
        "print(\"Тест:\", x_test.shape, y_test.shape)"
      ],
      "execution_count": 15,
      "outputs": [
        {
          "output_type": "stream",
          "name": "stdout",
          "text": [
            "Трейн: (50000, 32, 32, 3) (50000, 1)\n",
            "Тест: (10000, 32, 32, 3) (10000, 1)\n"
          ]
        }
      ]
    },
    {
      "cell_type": "code",
      "metadata": {
        "ExecuteTime": {
          "end_time": "2017-09-03T23:44:41.009639Z",
          "start_time": "2017-09-03T23:44:40.877013Z"
        },
        "id": "kA2RHYeveS6u"
      },
      "source": [
        "NUM_CLASSES = 10\n",
        "cifar10_classes = [\"airplane\", \"automobile\", \"bird\", \"cat\", \"deer\", \n",
        "                   \"dog\", \"frog\", \"horse\", \"ship\", \"truck\"]"
      ],
      "execution_count": 16,
      "outputs": []
    },
    {
      "cell_type": "code",
      "metadata": {
        "ExecuteTime": {
          "end_time": "2017-09-03T23:44:42.285830Z",
          "start_time": "2017-09-03T23:44:41.011216Z"
        },
        "id": "yfavHnQyeS6x",
        "outputId": "3c961efa-f5d5-4632-a68a-d0350575f294",
        "colab": {
          "base_uri": "https://localhost:8080/",
          "height": 351
        }
      },
      "source": [
        "# посмотрим на примеры картинок\n",
        "cols = 8\n",
        "rows = 2\n",
        "fig = plt.figure(figsize=(2 * cols - 1, 2.5 * rows - 1))\n",
        "for i in range(cols):\n",
        "    for j in range(rows):\n",
        "        random_index = np.random.randint(0, len(y_train))\n",
        "        ax = fig.add_subplot(rows, cols, i * rows + j + 1)\n",
        "        ax.grid('off')\n",
        "        ax.axis('off')\n",
        "        ax.imshow(x_train[random_index, :])\n",
        "        ax.set_title(cifar10_classes[y_train[random_index, 0]])\n",
        "plt.show()"
      ],
      "execution_count": 17,
      "outputs": [
        {
          "output_type": "display_data",
          "data": {
            "text/plain": [
              "<Figure size 1500x400 with 16 Axes>"
            ],
            "image/png": "[encoded data removed]"
          },
          "metadata": {}
        }
      ]
    },
    {
      "cell_type": "markdown",
      "metadata": {
        "id": "nKv-XBsneS61"
      },
      "source": [
        "# Готовим данные"
      ]
    },
    {
      "cell_type": "markdown",
      "metadata": {
        "id": "baNUrgH_eS61"
      },
      "source": [
        "Не забудьте нормализовать картинки: $$x_{norm} = \\frac{x}{255} - 0.5$$\n",
        "\n",
        "А еще нужно превратить метки в one-hot вектора при помощи __keras.utils.to_categorical__."
      ]
    },
    {
      "cell_type": "code",
      "metadata": {
        "ExecuteTime": {
          "end_time": "2017-09-04T00:25:55.504781Z",
          "start_time": "2017-09-04T00:25:55.500823Z"
        },
        "id": "ibxYQzBNeS62"
      },
      "source": [
        "# нормализуем входы\n",
        "x_train2 = x_train.astype('float32') / 255 - 0.5\n",
        "x_test2 = x_test.astype('float32') / 255 - 0.5\n",
        "\n",
        "# конвертируем метки в np.array (?, NUM_CLASSES)\n",
        "y_train2 = keras.utils.to_categorical(y_train, NUM_CLASSES)\n",
        "y_test2 = keras.utils.to_categorical(y_test, NUM_CLASSES)"
      ],
      "execution_count": 18,
      "outputs": []
    },
    {
      "cell_type": "markdown",
      "metadata": {
        "id": "-HfEuXTOeS65"
      },
      "source": [
        "# Задаем *дефолтную* архитектуру сети"
      ]
    },
    {
      "cell_type": "code",
      "metadata": {
        "ExecuteTime": {
          "end_time": "2017-08-24T11:39:23.631230Z",
          "start_time": "2017-08-24T11:39:23.627975Z"
        },
        "id": "UbVJNxDweS66"
      },
      "source": [
        "# слои, которые нам пригодятся\n",
        "from tensorflow.keras.models import Sequential\n",
        "from tensorflow.keras.layers import Conv2D, MaxPooling2D, Flatten, Dense, Dropout, BatchNormalization"
      ],
      "execution_count": 19,
      "outputs": []
    },
    {
      "cell_type": "markdown",
      "metadata": {
        "id": "z-aSooUceS69"
      },
      "source": [
        "Нам понадобятся такие слои:\n",
        "- [Conv2D](https://keras.io/layers/convolutional/#conv2d) - сверточный слой:\n",
        "    - **filters**: количество фильтров на выходе; \n",
        "    - **kernel_size**: размер скользящего окна;\n",
        "    - **padding**: padding=\"same\" добивает нулями, чтобы ширина и высота на выходе не изменились, padding='valid' берет только окна, которые полностью помещаются в картинке;\n",
        "    - **activation**: \"relu\", \"tanh\", итд;\n",
        "    - **input_shape**: размер входа вида (W, H, C_in).\n",
        "- [MaxPooling2D](https://keras.io/layers/pooling/#maxpooling2d) - пулинг\n",
        "- [Flatten](https://keras.io/layers/core/#flatten) - все оси, кроме батча (первой) вытягиваются в один вектор.\n",
        "- [Dense](https://keras.io/layers/core/#dense) - плотный, активацию можно задать через activation=\"elu\" или activation=\"softmax\".\n",
        "- [Dropout](https://keras.io/layers/core/#dropout) - дропаут регуляризация (без нее сеть сильно переобучается), позже узнаем какой у нее смысл."
      ]
    },
    {
      "cell_type": "markdown",
      "metadata": {
        "ExecuteTime": {
          "end_time": "2017-09-03T23:48:59.567910Z",
          "start_time": "2017-09-03T23:48:59.564449Z"
        },
        "id": "ZArk-HgHeS69"
      },
      "source": [
        "Ваша модель должна принимать на вход цветную картинку __(None, 32, 32, 3)__ и предсказывать вероятности 10 классов __(None, 10)__.\n",
        "\n",
        "Добавьте __4__ сверточных слоя с окном __(3, 3)__ с нарастающим количеством фильтров: __(16, 32, 32, 64)__, используйте \"same\" паддинг.\n",
        "\n",
        "Добавьте __2x2__ макс пулинг после каждых 2 сверточных слоев (conv-conv-pool схема).\n",
        "\n",
        "Используйте __activation='relu'__ для всех слоев, где это нужно.\n",
        "\n",
        "Добавьте плотный слой из __256__ нейронов и еще один из __10__ нейронов для предсказания выходов. Не забудьте применить __Flatten__ перед первым плотным слоем!\n",
        "\n",
        "Для регуляризации сети вставьте Dropout после каждого пулинг слоя (с параметром** 0.25**) и между плотными слоями на выходе (с параметром **0.5**).\n",
        "\n",
        "В дальнейшем будем называть эту архитектуру **дефолтной** и будем исследовать небольшие изменения в ней!"
      ]
    },
    {
      "cell_type": "code",
      "metadata": {
        "ExecuteTime": {
          "end_time": "2017-08-24T11:39:23.739649Z",
          "start_time": "2017-08-24T11:39:23.632558Z"
        },
        "id": "KBdc7NJgeS6-"
      },
      "source": [
        "def make_default_model():\n",
        "    model = Sequential([\n",
        "            keras.Input(shape = (32, 32, 3)),\n",
        "            Conv2D(16, (3, 3), activation = 'relu', padding=\"same\"),\n",
        "            Conv2D(32, (3, 3), activation = 'relu', padding=\"same\"),\n",
        "            MaxPooling2D(pool_size=(2, 2)),\n",
        "            Dropout(0.25),\n",
        "            Conv2D(32, (3, 3), activation = 'relu', padding=\"same\"),    \n",
        "            Conv2D(64, (3, 3), activation = 'relu', padding=\"same\"),  \n",
        "            MaxPooling2D(pool_size=(2, 2)),  \n",
        "            Dropout(0.25),\n",
        "            Flatten(),\n",
        "            Dense(256, activation = 'relu'),\n",
        "            Dropout(0.5),\n",
        "            Dense(10, activation = 'softmax')\n",
        "    ])\n",
        "    \n",
        "    return model"
      ],
      "execution_count": 28,
      "outputs": []
    },
    {
      "cell_type": "code",
      "metadata": {
        "ExecuteTime": {
          "end_time": "2017-08-24T11:39:23.948546Z",
          "start_time": "2017-08-24T11:39:23.741012Z"
        },
        "id": "Ho-m53kLeS7A",
        "colab": {
          "base_uri": "https://localhost:8080/"
        },
        "outputId": "f39371ab-bbb0-413e-d328-62401b2412e9"
      },
      "source": [
        "K.clear_session()\n",
        "model = make_default_model()\n",
        "model.summary()"
      ],
      "execution_count": 23,
      "outputs": [
        {
          "output_type": "stream",
          "name": "stdout",
          "text": [
            "Model: \"sequential\"\n",
            "_________________________________________________________________\n",
            " Layer (type)                Output Shape              Param #   \n",
            "=================================================================\n",
            " conv2d (Conv2D)             (None, 32, 32, 16)        448       \n",
            "                                                                 \n",
            " conv2d_1 (Conv2D)           (None, 32, 32, 32)        4640      \n",
            "                                                                 \n",
            " max_pooling2d (MaxPooling2D  (None, 16, 16, 32)       0         \n",
            " )                                                               \n",
            "                                                                 \n",
            " dropout (Dropout)           (None, 16, 16, 32)        0         \n",
            "                                                                 \n",
            " conv2d_2 (Conv2D)           (None, 16, 16, 32)        9248      \n",
            "                                                                 \n",
            " conv2d_3 (Conv2D)           (None, 16, 16, 64)        18496     \n",
            "                                                                 \n",
            " max_pooling2d_1 (MaxPooling  (None, 8, 8, 64)         0         \n",
            " 2D)                                                             \n",
            "                                                                 \n",
            " dropout_1 (Dropout)         (None, 8, 8, 64)          0         \n",
            "                                                                 \n",
            " flatten (Flatten)           (None, 4096)              0         \n",
            "                                                                 \n",
            " dense (Dense)               (None, 256)               1048832   \n",
            "                                                                 \n",
            " dropout_2 (Dropout)         (None, 256)               0         \n",
            "                                                                 \n",
            " dense_1 (Dense)             (None, 10)                2570      \n",
            "                                                                 \n",
            "=================================================================\n",
            "Total params: 1,084,234\n",
            "Trainable params: 1,084,234\n",
            "Non-trainable params: 0\n",
            "_________________________________________________________________\n"
          ]
        }
      ]
    },
    {
      "cell_type": "markdown",
      "metadata": {
        "id": "H8IHeJHzeS7P"
      },
      "source": [
        "# Тренируем модель"
      ]
    },
    {
      "cell_type": "code",
      "metadata": {
        "ExecuteTime": {
          "end_time": "2017-08-24T12:18:39.059726Z",
          "start_time": "2017-08-24T11:39:23.949926Z"
        },
        "id": "Ko6qjH2HeS7Q"
      },
      "source": [
        "def train_model(make_model_func=make_default_model, optimizer=\"adam\"):\n",
        "  BATCH_SIZE = 32\n",
        "  EPOCHS = 10\n",
        "\n",
        "  K.clear_session()\n",
        "  model = make_model_func()\n",
        "\n",
        "  model.compile(\n",
        "      loss='categorical_crossentropy',\n",
        "      optimizer=optimizer,\n",
        "      metrics=['accuracy']\n",
        "  )\n",
        "\n",
        "  model.fit(\n",
        "      x_train2, y_train2,  # нормализованные данные\n",
        "      batch_size=BATCH_SIZE,\n",
        "      epochs=EPOCHS,\n",
        "      validation_data=(x_test2, y_test2),\n",
        "      shuffle=False\n",
        "  )\n",
        "  \n",
        "  return model"
      ],
      "execution_count": 24,
      "outputs": []
    },
    {
      "cell_type": "markdown",
      "metadata": {
        "id": "1AkfrVmdA6AP"
      },
      "source": [
        "Давайте посмотрим, что будет с дефолтной моделью (модель = make_default_model, оптимайзер = \"adam\"), если ее немного поменять:\n",
        "\n",
        "\n",
        "Часть 1 :\n",
        "1.   Какое качество (accuracy) на валидации дает **дефолтная архитектура**?\n",
        "\n",
        "Часть 2:\n",
        "2.   Измените в дефолтной архитектуре **relu активацию на sigmoid**, какое качество на валидации получили?\n",
        "3.   Измените в дефолтной архитектуре **adam оптимайзер на sgd**, какое качество на валидации получили?\n",
        "4.   Добавьте к дефолтной архитектуре **батч нормализацию** после каждого сверточного слоя и после перового полносвязного (model.add(BatchNormalization())), какое качество на валидации получили?\n",
        "5.   Добавьте к дефолтной архитектуре **батч нормализацию** и смените **relu активацию на sigmoid**,  какое качество на валидации получили?\n",
        "  \n",
        "*Рекомендуется завести свою функцию для каждого изменения архитектуры!*\n"
      ]
    },
    {
      "cell_type": "code",
      "metadata": {
        "id": "2zS3rW7S_D6j",
        "colab": {
          "base_uri": "https://localhost:8080/"
        },
        "outputId": "83a5c78f-ac1c-434b-8052-0db70bcf885c"
      },
      "source": [
        "# учим дефолтную архитектуру\n",
        "train_model()"
      ],
      "execution_count": 25,
      "outputs": [
        {
          "output_type": "stream",
          "name": "stdout",
          "text": [
            "Epoch 1/10\n",
            "1563/1563 [==============================] - 24s 7ms/step - loss: 1.4668 - accuracy: 0.4678 - val_loss: 1.0716 - val_accuracy: 0.6224\n",
            "Epoch 2/10\n",
            "1563/1563 [==============================] - 10s 6ms/step - loss: 1.0877 - accuracy: 0.6149 - val_loss: 0.8884 - val_accuracy: 0.6893\n",
            "Epoch 3/10\n",
            "1563/1563 [==============================] - 10s 7ms/step - loss: 0.9420 - accuracy: 0.6686 - val_loss: 0.8212 - val_accuracy: 0.7092\n",
            "Epoch 4/10\n",
            "1563/1563 [==============================] - 11s 7ms/step - loss: 0.8499 - accuracy: 0.7015 - val_loss: 0.7649 - val_accuracy: 0.7306\n",
            "Epoch 5/10\n",
            "1563/1563 [==============================] - 10s 6ms/step - loss: 0.7857 - accuracy: 0.7223 - val_loss: 0.7627 - val_accuracy: 0.7336\n",
            "Epoch 6/10\n",
            "1563/1563 [==============================] - 12s 7ms/step - loss: 0.7311 - accuracy: 0.7441 - val_loss: 0.7152 - val_accuracy: 0.7513\n",
            "Epoch 7/10\n",
            "1563/1563 [==============================] - 14s 9ms/step - loss: 0.6920 - accuracy: 0.7537 - val_loss: 0.7479 - val_accuracy: 0.7482\n",
            "Epoch 8/10\n",
            "1563/1563 [==============================] - 10s 7ms/step - loss: 0.6692 - accuracy: 0.7635 - val_loss: 0.7068 - val_accuracy: 0.7643\n",
            "Epoch 9/10\n",
            "1563/1563 [==============================] - 10s 6ms/step - loss: 0.6400 - accuracy: 0.7724 - val_loss: 0.7079 - val_accuracy: 0.7622\n",
            "Epoch 10/10\n",
            "1563/1563 [==============================] - 10s 7ms/step - loss: 0.6159 - accuracy: 0.7826 - val_loss: 0.7124 - val_accuracy: 0.7649\n"
          ]
        },
        {
          "output_type": "execute_result",
          "data": {
            "text/plain": [
              "<keras.engine.sequential.Sequential at 0x7fb084148fd0>"
            ]
          },
          "metadata": {},
          "execution_count": 25
        }
      ]
    },
    {
      "cell_type": "code",
      "metadata": {
        "id": "Ys7J_92qHYVN"
      },
      "source": [
        "def make_sigmoid_model():\n",
        "    model = Sequential([\n",
        "            keras.Input(shape = (32, 32, 3)),\n",
        "            Conv2D(16, (3, 3), activation = 'sigmoid', padding=\"same\"),\n",
        "            Conv2D(32, (3, 3), activation = 'sigmoid', padding=\"same\"),\n",
        "            MaxPooling2D(pool_size=(2, 2)),\n",
        "            Dropout(0.25),\n",
        "            Conv2D(32, (3, 3), activation = 'sigmoid', padding=\"same\"),    \n",
        "            Conv2D(64, (3, 3), activation = 'sigmoid', padding=\"same\"),  \n",
        "            MaxPooling2D(pool_size=(2, 2)),  \n",
        "            Dropout(0.25),\n",
        "            Flatten(),\n",
        "            Dense(256, activation = 'sigmoid'),\n",
        "            Dropout(0.5),\n",
        "            Dense(10, activation = 'softmax')\n",
        "    ])\n",
        "    \n",
        "    return model"
      ],
      "execution_count": 26,
      "outputs": []
    },
    {
      "cell_type": "code",
      "metadata": {
        "id": "W9lWbYckHwnU",
        "colab": {
          "base_uri": "https://localhost:8080/"
        },
        "outputId": "c14bdc08-40c7-4903-a4c5-559e248ee2d5"
      },
      "source": [
        "# учим sigmoid\n",
        "train_model(make_sigmoid_model)"
      ],
      "execution_count": 27,
      "outputs": [
        {
          "output_type": "stream",
          "name": "stdout",
          "text": [
            "Epoch 1/10\n",
            "1563/1563 [==============================] - 13s 7ms/step - loss: 2.3181 - accuracy: 0.0987 - val_loss: 2.3027 - val_accuracy: 0.1000\n",
            "Epoch 2/10\n",
            "1563/1563 [==============================] - 9s 6ms/step - loss: 2.3035 - accuracy: 0.0984 - val_loss: 2.3030 - val_accuracy: 0.1000\n",
            "Epoch 3/10\n",
            "1563/1563 [==============================] - 12s 7ms/step - loss: 2.3044 - accuracy: 0.0979 - val_loss: 2.3031 - val_accuracy: 0.1000\n",
            "Epoch 4/10\n",
            "1563/1563 [==============================] - 11s 7ms/step - loss: 2.3061 - accuracy: 0.0975 - val_loss: 2.3185 - val_accuracy: 0.1000\n",
            "Epoch 5/10\n",
            "1563/1563 [==============================] - 11s 7ms/step - loss: 2.3119 - accuracy: 0.1022 - val_loss: 2.3058 - val_accuracy: 0.1000\n",
            "Epoch 6/10\n",
            "1563/1563 [==============================] - 11s 7ms/step - loss: 2.3077 - accuracy: 0.1001 - val_loss: 2.3048 - val_accuracy: 0.1000\n",
            "Epoch 7/10\n",
            "1563/1563 [==============================] - 10s 6ms/step - loss: 2.3069 - accuracy: 0.0997 - val_loss: 2.3050 - val_accuracy: 0.1000\n",
            "Epoch 8/10\n",
            "1563/1563 [==============================] - 10s 6ms/step - loss: 2.3076 - accuracy: 0.0990 - val_loss: 2.3055 - val_accuracy: 0.1000\n",
            "Epoch 9/10\n",
            "1563/1563 [==============================] - 10s 6ms/step - loss: 2.3076 - accuracy: 0.0978 - val_loss: 2.3059 - val_accuracy: 0.1000\n",
            "Epoch 10/10\n",
            "1563/1563 [==============================] - 10s 6ms/step - loss: 2.3069 - accuracy: 0.1009 - val_loss: 2.3055 - val_accuracy: 0.1000\n"
          ]
        },
        {
          "output_type": "execute_result",
          "data": {
            "text/plain": [
              "<keras.engine.sequential.Sequential at 0x7fb0700eb760>"
            ]
          },
          "metadata": {},
          "execution_count": 27
        }
      ]
    },
    {
      "cell_type": "code",
      "metadata": {
        "id": "aIlCmlnNH7d1",
        "colab": {
          "base_uri": "https://localhost:8080/"
        },
        "outputId": "af96f969-22c0-48b2-bb9e-16ff8827bf1b"
      },
      "source": [
        "# учим sgd\n",
        "train_model(optimizer=\"sgd\")"
      ],
      "execution_count": 29,
      "outputs": [
        {
          "output_type": "stream",
          "name": "stdout",
          "text": [
            "Epoch 1/10\n",
            "1563/1563 [==============================] - 12s 6ms/step - loss: 2.0345 - accuracy: 0.2540 - val_loss: 1.7557 - val_accuracy: 0.3839\n",
            "Epoch 2/10\n",
            "1563/1563 [==============================] - 10s 6ms/step - loss: 1.7037 - accuracy: 0.3853 - val_loss: 1.4968 - val_accuracy: 0.4620\n",
            "Epoch 3/10\n",
            "1563/1563 [==============================] - 9s 6ms/step - loss: 1.5311 - accuracy: 0.4449 - val_loss: 1.3668 - val_accuracy: 0.5100\n",
            "Epoch 4/10\n",
            "1563/1563 [==============================] - 9s 6ms/step - loss: 1.4146 - accuracy: 0.4895 - val_loss: 1.2709 - val_accuracy: 0.5416\n",
            "Epoch 5/10\n",
            "1563/1563 [==============================] - 10s 6ms/step - loss: 1.3311 - accuracy: 0.5240 - val_loss: 1.1940 - val_accuracy: 0.5695\n",
            "Epoch 6/10\n",
            "1563/1563 [==============================] - 10s 6ms/step - loss: 1.2527 - accuracy: 0.5511 - val_loss: 1.1411 - val_accuracy: 0.5938\n",
            "Epoch 7/10\n",
            "1563/1563 [==============================] - 10s 6ms/step - loss: 1.1967 - accuracy: 0.5715 - val_loss: 1.1131 - val_accuracy: 0.6025\n",
            "Epoch 8/10\n",
            "1563/1563 [==============================] - 9s 6ms/step - loss: 1.1426 - accuracy: 0.5899 - val_loss: 1.0234 - val_accuracy: 0.6365\n",
            "Epoch 9/10\n",
            "1563/1563 [==============================] - 10s 6ms/step - loss: 1.0986 - accuracy: 0.6087 - val_loss: 1.0028 - val_accuracy: 0.6472\n",
            "Epoch 10/10\n",
            "1563/1563 [==============================] - 10s 6ms/step - loss: 1.0562 - accuracy: 0.6237 - val_loss: 0.9561 - val_accuracy: 0.6587\n"
          ]
        },
        {
          "output_type": "execute_result",
          "data": {
            "text/plain": [
              "<keras.engine.sequential.Sequential at 0x7faff94bb880>"
            ]
          },
          "metadata": {},
          "execution_count": 29
        }
      ]
    },
    {
      "cell_type": "code",
      "metadata": {
        "id": "2VFLuNi4ILXN"
      },
      "source": [
        "def make_bn_model():\n",
        "    model = Sequential([\n",
        "            keras.Input(shape = (32, 32, 3)),\n",
        "            Conv2D(16, (3, 3), activation = 'relu', padding=\"same\"),\n",
        "            BatchNormalization(),\n",
        "            Conv2D(32, (3, 3), activation = 'relu', padding=\"same\"),\n",
        "            BatchNormalization(),\n",
        "            MaxPooling2D(pool_size=(2, 2)),\n",
        "            Dropout(0.25),\n",
        "            Conv2D(32, (3, 3), activation = 'relu', padding=\"same\"),    \n",
        "            BatchNormalization(),\n",
        "            Conv2D(64, (3, 3), activation = 'relu', padding=\"same\"),  \n",
        "            BatchNormalization(),\n",
        "            MaxPooling2D(pool_size=(2, 2)),  \n",
        "            Dropout(0.25),\n",
        "            Flatten(),\n",
        "            Dense(256, activation = 'relu'),\n",
        "            BatchNormalization(),\n",
        "            Dropout(0.5),\n",
        "            Dense(10, activation = 'softmax')\n",
        "    ])\n",
        "    \n",
        "    return model"
      ],
      "execution_count": 30,
      "outputs": []
    },
    {
      "cell_type": "code",
      "metadata": {
        "id": "8xX0p3Z0IiA3",
        "colab": {
          "base_uri": "https://localhost:8080/"
        },
        "outputId": "d3a00aac-f9b5-488d-cc6d-489ee2340be9"
      },
      "source": [
        "# учим bn\n",
        "train_model(make_bn_model)"
      ],
      "execution_count": 31,
      "outputs": [
        {
          "output_type": "stream",
          "name": "stdout",
          "text": [
            "Epoch 1/10\n",
            "1563/1563 [==============================] - 18s 9ms/step - loss: 1.5031 - accuracy: 0.4830 - val_loss: 0.9954 - val_accuracy: 0.6472\n",
            "Epoch 2/10\n",
            "1563/1563 [==============================] - 13s 9ms/step - loss: 1.0403 - accuracy: 0.6345 - val_loss: 0.8510 - val_accuracy: 0.6992\n",
            "Epoch 3/10\n",
            "1563/1563 [==============================] - 14s 9ms/step - loss: 0.8955 - accuracy: 0.6856 - val_loss: 0.9101 - val_accuracy: 0.6851\n",
            "Epoch 4/10\n",
            "1563/1563 [==============================] - 15s 9ms/step - loss: 0.8072 - accuracy: 0.7177 - val_loss: 0.6977 - val_accuracy: 0.7550\n",
            "Epoch 5/10\n",
            "1563/1563 [==============================] - 15s 10ms/step - loss: 0.7357 - accuracy: 0.7437 - val_loss: 0.6495 - val_accuracy: 0.7744\n",
            "Epoch 6/10\n",
            "1563/1563 [==============================] - 17s 11ms/step - loss: 0.6778 - accuracy: 0.7637 - val_loss: 0.6546 - val_accuracy: 0.7737\n",
            "Epoch 7/10\n",
            "1563/1563 [==============================] - 17s 11ms/step - loss: 0.6328 - accuracy: 0.7792 - val_loss: 0.6177 - val_accuracy: 0.7885\n",
            "Epoch 8/10\n",
            "1563/1563 [==============================] - 14s 9ms/step - loss: 0.5831 - accuracy: 0.7958 - val_loss: 0.6121 - val_accuracy: 0.7905\n",
            "Epoch 9/10\n",
            "1563/1563 [==============================] - 14s 9ms/step - loss: 0.5474 - accuracy: 0.8091 - val_loss: 0.6030 - val_accuracy: 0.7959\n",
            "Epoch 10/10\n",
            "1563/1563 [==============================] - 14s 9ms/step - loss: 0.5196 - accuracy: 0.8183 - val_loss: 0.6126 - val_accuracy: 0.7963\n"
          ]
        },
        {
          "output_type": "execute_result",
          "data": {
            "text/plain": [
              "<keras.engine.sequential.Sequential at 0x7faff9b8f4f0>"
            ]
          },
          "metadata": {},
          "execution_count": 31
        }
      ]
    },
    {
      "cell_type": "code",
      "metadata": {
        "id": "eXaGmu8XIkhk"
      },
      "source": [
        "def make_sigmoid_bn_model():\n",
        "    model = Sequential([\n",
        "            keras.Input(shape = (32, 32, 3)),\n",
        "            Conv2D(16, (3, 3), activation = 'sigmoid', padding=\"same\"),\n",
        "            BatchNormalization(),\n",
        "            Conv2D(32, (3, 3), activation = 'sigmoid', padding=\"same\"),\n",
        "            BatchNormalization(),\n",
        "            MaxPooling2D(pool_size=(2, 2)),\n",
        "            Dropout(0.25),\n",
        "            Conv2D(32, (3, 3), activation = 'sigmoid', padding=\"same\"),    \n",
        "            BatchNormalization(),\n",
        "            Conv2D(64, (3, 3), activation = 'sigmoid', padding=\"same\"),  \n",
        "            BatchNormalization(),\n",
        "            MaxPooling2D(pool_size=(2, 2)),  \n",
        "            Dropout(0.25),\n",
        "            Flatten(),\n",
        "            Dense(256, activation = 'sigmoid'),\n",
        "            BatchNormalization(),\n",
        "            Dropout(0.5),\n",
        "            Dense(10, activation = 'softmax')\n",
        "    ])\n",
        "    \n",
        "    return model"
      ],
      "execution_count": 32,
      "outputs": []
    },
    {
      "cell_type": "code",
      "metadata": {
        "id": "9sp7EOkvLAkR",
        "colab": {
          "base_uri": "https://localhost:8080/"
        },
        "outputId": "2a488206-ea78-4734-805f-54a17d85b2cf"
      },
      "source": [
        "# учим sigmoid + bn\n",
        "train_model(make_sigmoid_bn_model)"
      ],
      "execution_count": 33,
      "outputs": [
        {
          "output_type": "stream",
          "name": "stdout",
          "text": [
            "Epoch 1/10\n",
            "1563/1563 [==============================] - 18s 9ms/step - loss: 1.5709 - accuracy: 0.4440 - val_loss: 1.3196 - val_accuracy: 0.5553\n",
            "Epoch 2/10\n",
            "1563/1563 [==============================] - 14s 9ms/step - loss: 1.2044 - accuracy: 0.5733 - val_loss: 1.0294 - val_accuracy: 0.6378\n",
            "Epoch 3/10\n",
            "1563/1563 [==============================] - 14s 9ms/step - loss: 1.0667 - accuracy: 0.6276 - val_loss: 1.0295 - val_accuracy: 0.6362\n",
            "Epoch 4/10\n",
            "1563/1563 [==============================] - 14s 9ms/step - loss: 0.9839 - accuracy: 0.6565 - val_loss: 0.8675 - val_accuracy: 0.6981\n",
            "Epoch 5/10\n",
            "1563/1563 [==============================] - 14s 9ms/step - loss: 0.9240 - accuracy: 0.6751 - val_loss: 0.8127 - val_accuracy: 0.7149\n",
            "Epoch 6/10\n",
            "1563/1563 [==============================] - 13s 8ms/step - loss: 0.8786 - accuracy: 0.6934 - val_loss: 0.8037 - val_accuracy: 0.7203\n",
            "Epoch 7/10\n",
            "1563/1563 [==============================] - 13s 9ms/step - loss: 0.8396 - accuracy: 0.7082 - val_loss: 0.8035 - val_accuracy: 0.7221\n",
            "Epoch 8/10\n",
            "1563/1563 [==============================] - 13s 9ms/step - loss: 0.8060 - accuracy: 0.7216 - val_loss: 0.7815 - val_accuracy: 0.7283\n",
            "Epoch 9/10\n",
            "1563/1563 [==============================] - 13s 9ms/step - loss: 0.7786 - accuracy: 0.7314 - val_loss: 0.8574 - val_accuracy: 0.7079\n",
            "Epoch 10/10\n",
            "1563/1563 [==============================] - 14s 9ms/step - loss: 0.7602 - accuracy: 0.7339 - val_loss: 0.7211 - val_accuracy: 0.7517\n"
          ]
        },
        {
          "output_type": "execute_result",
          "data": {
            "text/plain": [
              "<keras.engine.sequential.Sequential at 0x7faff96f4a30>"
            ]
          },
          "metadata": {},
          "execution_count": 33
        }
      ]
    }
  ]
}