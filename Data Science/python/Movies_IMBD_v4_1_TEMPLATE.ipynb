{
  "cells": [
    {
      "cell_type": "code",
      "execution_count": 2,
      "metadata": {
        "_cell_guid": "b1076dfc-b9ad-4769-8c92-a6c4dae69d19",
        "_uuid": "8f2839f25d086af736a60e9eeb907d3b93b6e0e5",
        "id": "U2D2gTdJVp90"
      },
      "outputs": [],
      "source": [
        "import numpy as np\n",
        "import pandas as pd\n",
        "import seaborn as sns\n",
        "import matplotlib.pyplot as plt\n",
        "from collections import Counter"
      ]
    },
    {
      "cell_type": "code",
      "source": [
        "from google.colab import drive\n",
        "drive.mount('/content/drive')"
      ],
      "metadata": {
        "colab": {
          "base_uri": "https://localhost:8080/"
        },
        "id": "CGcjpiMGqyaH",
        "outputId": "7fe64311-679d-49a7-b58c-9754af29e775"
      },
      "execution_count": 3,
      "outputs": [
        {
          "output_type": "stream",
          "name": "stdout",
          "text": [
            "Mounted at /content/drive\n"
          ]
        }
      ]
    },
    {
      "cell_type": "code",
      "execution_count": 4,
      "metadata": {
        "_cell_guid": "79c7e3d0-c299-4dcb-8224-4455121ee9b0",
        "_uuid": "d629ff2d2480ee46fbb7e2d37f6b5fab8052498a",
        "colab": {
          "base_uri": "https://localhost:8080/",
          "height": 493
        },
        "id": "oyGfxL3eVp9-",
        "outputId": "a1958aae-c817-4bdc-830a-7341abe721bd"
      },
      "outputs": [
        {
          "output_type": "execute_result",
          "data": {
            "text/plain": [
              "        imdb_id    budget    revenue           original_title  \\\n",
              "1693  tt0952640  60000000  361366633  Alvin and the Chipmunks   \n",
              "1268  tt2132285  15000000   19145732           The Bling Ring   \n",
              "1550  tt0452637  75000000   42285169        Lady in the Water   \n",
              "1706  tt0463854  15000000   64238440           28 Weeks Later   \n",
              "1649  tt0356618  42000000  117575636            The Forgotten   \n",
              "\n",
              "                                                   cast  \\\n",
              "1693  Jason Lee|David Cross|Cameron Richardson|Jane ...   \n",
              "1268  Emma Watson|Israel Broussard|Taissa Farmiga|Ka...   \n",
              "1550  Paul Giamatti|Jeffrey Wright|Bob Balaban|Sarit...   \n",
              "1706  Imogen Poots|Robert Carlyle|Rose Byrne|Jeremy ...   \n",
              "1649  Julianne Moore|Anthony Edwards|Jessica Hecht|C...   \n",
              "\n",
              "                     director                                         tagline  \\\n",
              "1693                 Tim Hill                             Get your squeak on!   \n",
              "1268            Sofia Coppola           Living the Dream, One Heist at a Time   \n",
              "1550       M. Night Shyamalan         Time is running out for a happy ending.   \n",
              "1706  Juan Carlos Fresnadillo  When days turn to weeks... the horror returns.   \n",
              "1649             Joseph Ruben           You'll Never Forget The Ones You Love   \n",
              "\n",
              "                                               overview  runtime  \\\n",
              "1693  A struggling songwriter named Dave Seville fin...       92   \n",
              "1268  Inspired by actual events, a group of fame-obs...       90   \n",
              "1550  Apartment building superintendent Cleveland He...      110   \n",
              "1706  In this chilling sequel to 28 Days Later, the ...      100   \n",
              "1649  Telly Paretta is a grieving mother struggling ...       91   \n",
              "\n",
              "                                          genres  \\\n",
              "1693       Comedy|Music|Family|Fantasy|Animation   \n",
              "1268                                 Drama|Crime   \n",
              "1550              Drama|Thriller|Fantasy|Mystery   \n",
              "1706             Horror|Thriller|Science Fiction   \n",
              "1649  Crime|Drama|Horror|Mystery|Science Fiction   \n",
              "\n",
              "                                   production_companies release_date  \\\n",
              "1693  Dune Entertainment|Regency Enterprises|Fox 200...   12/13/2007   \n",
              "1268                            PathÃ© Distribution|A24    6/12/2013   \n",
              "1550  Legendary Pictures|Warner Bros.|Blinding Edge ...    7/21/2006   \n",
              "1706  DNA Films|Figment Films|Sociedad General de Ci...    4/26/2007   \n",
              "1649  Revolution Studios|Jinks/Cohen Company|Visual ...    9/24/2004   \n",
              "\n",
              "      vote_average  release_year  \n",
              "1693           5.6          2007  \n",
              "1268           5.3          2013  \n",
              "1550           5.2          2006  \n",
              "1706           6.3          2007  \n",
              "1649           5.4          2004  "
            ],
            "text/html": [
              "\n",
              "  <div id=\"df-0b3515c3-9c52-4a64-8732-b017c23d4d84\">\n",
              "    <div class=\"colab-df-container\">\n",
              "      <div>\n",
              "<style scoped>\n",
              "    .dataframe tbody tr th:only-of-type {\n",
              "        vertical-align: middle;\n",
              "    }\n",
              "\n",
              "    .dataframe tbody tr th {\n",
              "        vertical-align: top;\n",
              "    }\n",
              "\n",
              "    .dataframe thead th {\n",
              "        text-align: right;\n",
              "    }\n",
              "</style>\n",
              "<table border=\"1\" class=\"dataframe\">\n",
              "  <thead>\n",
              "    <tr style=\"text-align: right;\">\n",
              "      <th></th>\n",
              "      <th>imdb_id</th>\n",
              "      <th>budget</th>\n",
              "      <th>revenue</th>\n",
              "      <th>original_title</th>\n",
              "      <th>cast</th>\n",
              "      <th>director</th>\n",
              "      <th>tagline</th>\n",
              "      <th>overview</th>\n",
              "      <th>runtime</th>\n",
              "      <th>genres</th>\n",
              "      <th>production_companies</th>\n",
              "      <th>release_date</th>\n",
              "      <th>vote_average</th>\n",
              "      <th>release_year</th>\n",
              "    </tr>\n",
              "  </thead>\n",
              "  <tbody>\n",
              "    <tr>\n",
              "      <th>1693</th>\n",
              "      <td>tt0952640</td>\n",
              "      <td>60000000</td>\n",
              "      <td>361366633</td>\n",
              "      <td>Alvin and the Chipmunks</td>\n",
              "      <td>Jason Lee|David Cross|Cameron Richardson|Jane ...</td>\n",
              "      <td>Tim Hill</td>\n",
              "      <td>Get your squeak on!</td>\n",
              "      <td>A struggling songwriter named Dave Seville fin...</td>\n",
              "      <td>92</td>\n",
              "      <td>Comedy|Music|Family|Fantasy|Animation</td>\n",
              "      <td>Dune Entertainment|Regency Enterprises|Fox 200...</td>\n",
              "      <td>12/13/2007</td>\n",
              "      <td>5.6</td>\n",
              "      <td>2007</td>\n",
              "    </tr>\n",
              "    <tr>\n",
              "      <th>1268</th>\n",
              "      <td>tt2132285</td>\n",
              "      <td>15000000</td>\n",
              "      <td>19145732</td>\n",
              "      <td>The Bling Ring</td>\n",
              "      <td>Emma Watson|Israel Broussard|Taissa Farmiga|Ka...</td>\n",
              "      <td>Sofia Coppola</td>\n",
              "      <td>Living the Dream, One Heist at a Time</td>\n",
              "      <td>Inspired by actual events, a group of fame-obs...</td>\n",
              "      <td>90</td>\n",
              "      <td>Drama|Crime</td>\n",
              "      <td>PathÃ© Distribution|A24</td>\n",
              "      <td>6/12/2013</td>\n",
              "      <td>5.3</td>\n",
              "      <td>2013</td>\n",
              "    </tr>\n",
              "    <tr>\n",
              "      <th>1550</th>\n",
              "      <td>tt0452637</td>\n",
              "      <td>75000000</td>\n",
              "      <td>42285169</td>\n",
              "      <td>Lady in the Water</td>\n",
              "      <td>Paul Giamatti|Jeffrey Wright|Bob Balaban|Sarit...</td>\n",
              "      <td>M. Night Shyamalan</td>\n",
              "      <td>Time is running out for a happy ending.</td>\n",
              "      <td>Apartment building superintendent Cleveland He...</td>\n",
              "      <td>110</td>\n",
              "      <td>Drama|Thriller|Fantasy|Mystery</td>\n",
              "      <td>Legendary Pictures|Warner Bros.|Blinding Edge ...</td>\n",
              "      <td>7/21/2006</td>\n",
              "      <td>5.2</td>\n",
              "      <td>2006</td>\n",
              "    </tr>\n",
              "    <tr>\n",
              "      <th>1706</th>\n",
              "      <td>tt0463854</td>\n",
              "      <td>15000000</td>\n",
              "      <td>64238440</td>\n",
              "      <td>28 Weeks Later</td>\n",
              "      <td>Imogen Poots|Robert Carlyle|Rose Byrne|Jeremy ...</td>\n",
              "      <td>Juan Carlos Fresnadillo</td>\n",
              "      <td>When days turn to weeks... the horror returns.</td>\n",
              "      <td>In this chilling sequel to 28 Days Later, the ...</td>\n",
              "      <td>100</td>\n",
              "      <td>Horror|Thriller|Science Fiction</td>\n",
              "      <td>DNA Films|Figment Films|Sociedad General de Ci...</td>\n",
              "      <td>4/26/2007</td>\n",
              "      <td>6.3</td>\n",
              "      <td>2007</td>\n",
              "    </tr>\n",
              "    <tr>\n",
              "      <th>1649</th>\n",
              "      <td>tt0356618</td>\n",
              "      <td>42000000</td>\n",
              "      <td>117575636</td>\n",
              "      <td>The Forgotten</td>\n",
              "      <td>Julianne Moore|Anthony Edwards|Jessica Hecht|C...</td>\n",
              "      <td>Joseph Ruben</td>\n",
              "      <td>You'll Never Forget The Ones You Love</td>\n",
              "      <td>Telly Paretta is a grieving mother struggling ...</td>\n",
              "      <td>91</td>\n",
              "      <td>Crime|Drama|Horror|Mystery|Science Fiction</td>\n",
              "      <td>Revolution Studios|Jinks/Cohen Company|Visual ...</td>\n",
              "      <td>9/24/2004</td>\n",
              "      <td>5.4</td>\n",
              "      <td>2004</td>\n",
              "    </tr>\n",
              "  </tbody>\n",
              "</table>\n",
              "</div>\n",
              "      <button class=\"colab-df-convert\" onclick=\"convertToInteractive('df-0b3515c3-9c52-4a64-8732-b017c23d4d84')\"\n",
              "              title=\"Convert this dataframe to an interactive table.\"\n",
              "              style=\"display:none;\">\n",
              "        \n",
              "  <svg xmlns=\"http://www.w3.org/2000/svg\" height=\"24px\"viewBox=\"0 0 24 24\"\n",
              "       width=\"24px\">\n",
              "    <path d=\"M0 0h24v24H0V0z\" fill=\"none\"/>\n",
              "    <path d=\"M18.56 5.44l.94 2.06.94-2.06 2.06-.94-2.06-.94-.94-2.06-.94 2.06-2.06.94zm-11 1L8.5 8.5l.94-2.06 2.06-.94-2.06-.94L8.5 2.5l-.94 2.06-2.06.94zm10 10l.94 2.06.94-2.06 2.06-.94-2.06-.94-.94-2.06-.94 2.06-2.06.94z\"/><path d=\"M17.41 7.96l-1.37-1.37c-.4-.4-.92-.59-1.43-.59-.52 0-1.04.2-1.43.59L10.3 9.45l-7.72 7.72c-.78.78-.78 2.05 0 2.83L4 21.41c.39.39.9.59 1.41.59.51 0 1.02-.2 1.41-.59l7.78-7.78 2.81-2.81c.8-.78.8-2.07 0-2.86zM5.41 20L4 18.59l7.72-7.72 1.47 1.35L5.41 20z\"/>\n",
              "  </svg>\n",
              "      </button>\n",
              "      \n",
              "  <style>\n",
              "    .colab-df-container {\n",
              "      display:flex;\n",
              "      flex-wrap:wrap;\n",
              "      gap: 12px;\n",
              "    }\n",
              "\n",
              "    .colab-df-convert {\n",
              "      background-color: #E8F0FE;\n",
              "      border: none;\n",
              "      border-radius: 50%;\n",
              "      cursor: pointer;\n",
              "      display: none;\n",
              "      fill: #1967D2;\n",
              "      height: 32px;\n",
              "      padding: 0 0 0 0;\n",
              "      width: 32px;\n",
              "    }\n",
              "\n",
              "    .colab-df-convert:hover {\n",
              "      background-color: #E2EBFA;\n",
              "      box-shadow: 0px 1px 2px rgba(60, 64, 67, 0.3), 0px 1px 3px 1px rgba(60, 64, 67, 0.15);\n",
              "      fill: #174EA6;\n",
              "    }\n",
              "\n",
              "    [theme=dark] .colab-df-convert {\n",
              "      background-color: #3B4455;\n",
              "      fill: #D2E3FC;\n",
              "    }\n",
              "\n",
              "    [theme=dark] .colab-df-convert:hover {\n",
              "      background-color: #434B5C;\n",
              "      box-shadow: 0px 1px 3px 1px rgba(0, 0, 0, 0.15);\n",
              "      filter: drop-shadow(0px 1px 2px rgba(0, 0, 0, 0.3));\n",
              "      fill: #FFFFFF;\n",
              "    }\n",
              "  </style>\n",
              "\n",
              "      <script>\n",
              "        const buttonEl =\n",
              "          document.querySelector('#df-0b3515c3-9c52-4a64-8732-b017c23d4d84 button.colab-df-convert');\n",
              "        buttonEl.style.display =\n",
              "          google.colab.kernel.accessAllowed ? 'block' : 'none';\n",
              "\n",
              "        async function convertToInteractive(key) {\n",
              "          const element = document.querySelector('#df-0b3515c3-9c52-4a64-8732-b017c23d4d84');\n",
              "          const dataTable =\n",
              "            await google.colab.kernel.invokeFunction('convertToInteractive',\n",
              "                                                     [key], {});\n",
              "          if (!dataTable) return;\n",
              "\n",
              "          const docLinkHtml = 'Like what you see? Visit the ' +\n",
              "            '<a target=\"_blank\" href=https://colab.research.google.com/notebooks/data_table.ipynb>data table notebook</a>'\n",
              "            + ' to learn more about interactive tables.';\n",
              "          element.innerHTML = '';\n",
              "          dataTable['output_type'] = 'display_data';\n",
              "          await google.colab.output.renderOutput(dataTable, element);\n",
              "          const docLink = document.createElement('div');\n",
              "          docLink.innerHTML = docLinkHtml;\n",
              "          element.appendChild(docLink);\n",
              "        }\n",
              "      </script>\n",
              "    </div>\n",
              "  </div>\n",
              "  "
            ]
          },
          "metadata": {},
          "execution_count": 4
        }
      ],
      "source": [
        "data = pd.read_csv('/content/drive/MyDrive/Colab Notebooks/SF-DS/movie_bd_v5.csv')\n",
        "data.sample(5)"
      ]
    },
    {
      "cell_type": "code",
      "execution_count": 5,
      "metadata": {
        "colab": {
          "base_uri": "https://localhost:8080/",
          "height": 300
        },
        "id": "CoYUnagMVp-C",
        "outputId": "5179c0b5-ee9b-4248-8be1-ea52fbe285b4"
      },
      "outputs": [
        {
          "output_type": "execute_result",
          "data": {
            "text/plain": [
              "             budget       revenue      runtime  vote_average  release_year\n",
              "count  1.889000e+03  1.889000e+03  1889.000000   1889.000000   1889.000000\n",
              "mean   5.431083e+07  1.553653e+08   109.658549      6.140762   2007.860773\n",
              "std    4.858721e+07  2.146698e+08    18.017041      0.764763      4.468841\n",
              "min    5.000000e+06  2.033165e+06    63.000000      3.300000   2000.000000\n",
              "25%    2.000000e+07  3.456058e+07    97.000000      5.600000   2004.000000\n",
              "50%    3.800000e+07  8.361541e+07   107.000000      6.100000   2008.000000\n",
              "75%    7.200000e+07  1.782626e+08   120.000000      6.600000   2012.000000\n",
              "max    3.800000e+08  2.781506e+09   214.000000      8.100000   2015.000000"
            ],
            "text/html": [
              "\n",
              "  <div id=\"df-b85e8a62-5745-42f5-9115-cbc9898eb403\">\n",
              "    <div class=\"colab-df-container\">\n",
              "      <div>\n",
              "<style scoped>\n",
              "    .dataframe tbody tr th:only-of-type {\n",
              "        vertical-align: middle;\n",
              "    }\n",
              "\n",
              "    .dataframe tbody tr th {\n",
              "        vertical-align: top;\n",
              "    }\n",
              "\n",
              "    .dataframe thead th {\n",
              "        text-align: right;\n",
              "    }\n",
              "</style>\n",
              "<table border=\"1\" class=\"dataframe\">\n",
              "  <thead>\n",
              "    <tr style=\"text-align: right;\">\n",
              "      <th></th>\n",
              "      <th>budget</th>\n",
              "      <th>revenue</th>\n",
              "      <th>runtime</th>\n",
              "      <th>vote_average</th>\n",
              "      <th>release_year</th>\n",
              "    </tr>\n",
              "  </thead>\n",
              "  <tbody>\n",
              "    <tr>\n",
              "      <th>count</th>\n",
              "      <td>1.889000e+03</td>\n",
              "      <td>1.889000e+03</td>\n",
              "      <td>1889.000000</td>\n",
              "      <td>1889.000000</td>\n",
              "      <td>1889.000000</td>\n",
              "    </tr>\n",
              "    <tr>\n",
              "      <th>mean</th>\n",
              "      <td>5.431083e+07</td>\n",
              "      <td>1.553653e+08</td>\n",
              "      <td>109.658549</td>\n",
              "      <td>6.140762</td>\n",
              "      <td>2007.860773</td>\n",
              "    </tr>\n",
              "    <tr>\n",
              "      <th>std</th>\n",
              "      <td>4.858721e+07</td>\n",
              "      <td>2.146698e+08</td>\n",
              "      <td>18.017041</td>\n",
              "      <td>0.764763</td>\n",
              "      <td>4.468841</td>\n",
              "    </tr>\n",
              "    <tr>\n",
              "      <th>min</th>\n",
              "      <td>5.000000e+06</td>\n",
              "      <td>2.033165e+06</td>\n",
              "      <td>63.000000</td>\n",
              "      <td>3.300000</td>\n",
              "      <td>2000.000000</td>\n",
              "    </tr>\n",
              "    <tr>\n",
              "      <th>25%</th>\n",
              "      <td>2.000000e+07</td>\n",
              "      <td>3.456058e+07</td>\n",
              "      <td>97.000000</td>\n",
              "      <td>5.600000</td>\n",
              "      <td>2004.000000</td>\n",
              "    </tr>\n",
              "    <tr>\n",
              "      <th>50%</th>\n",
              "      <td>3.800000e+07</td>\n",
              "      <td>8.361541e+07</td>\n",
              "      <td>107.000000</td>\n",
              "      <td>6.100000</td>\n",
              "      <td>2008.000000</td>\n",
              "    </tr>\n",
              "    <tr>\n",
              "      <th>75%</th>\n",
              "      <td>7.200000e+07</td>\n",
              "      <td>1.782626e+08</td>\n",
              "      <td>120.000000</td>\n",
              "      <td>6.600000</td>\n",
              "      <td>2012.000000</td>\n",
              "    </tr>\n",
              "    <tr>\n",
              "      <th>max</th>\n",
              "      <td>3.800000e+08</td>\n",
              "      <td>2.781506e+09</td>\n",
              "      <td>214.000000</td>\n",
              "      <td>8.100000</td>\n",
              "      <td>2015.000000</td>\n",
              "    </tr>\n",
              "  </tbody>\n",
              "</table>\n",
              "</div>\n",
              "      <button class=\"colab-df-convert\" onclick=\"convertToInteractive('df-b85e8a62-5745-42f5-9115-cbc9898eb403')\"\n",
              "              title=\"Convert this dataframe to an interactive table.\"\n",
              "              style=\"display:none;\">\n",
              "        \n",
              "  <svg xmlns=\"http://www.w3.org/2000/svg\" height=\"24px\"viewBox=\"0 0 24 24\"\n",
              "       width=\"24px\">\n",
              "    <path d=\"M0 0h24v24H0V0z\" fill=\"none\"/>\n",
              "    <path d=\"M18.56 5.44l.94 2.06.94-2.06 2.06-.94-2.06-.94-.94-2.06-.94 2.06-2.06.94zm-11 1L8.5 8.5l.94-2.06 2.06-.94-2.06-.94L8.5 2.5l-.94 2.06-2.06.94zm10 10l.94 2.06.94-2.06 2.06-.94-2.06-.94-.94-2.06-.94 2.06-2.06.94z\"/><path d=\"M17.41 7.96l-1.37-1.37c-.4-.4-.92-.59-1.43-.59-.52 0-1.04.2-1.43.59L10.3 9.45l-7.72 7.72c-.78.78-.78 2.05 0 2.83L4 21.41c.39.39.9.59 1.41.59.51 0 1.02-.2 1.41-.59l7.78-7.78 2.81-2.81c.8-.78.8-2.07 0-2.86zM5.41 20L4 18.59l7.72-7.72 1.47 1.35L5.41 20z\"/>\n",
              "  </svg>\n",
              "      </button>\n",
              "      \n",
              "  <style>\n",
              "    .colab-df-container {\n",
              "      display:flex;\n",
              "      flex-wrap:wrap;\n",
              "      gap: 12px;\n",
              "    }\n",
              "\n",
              "    .colab-df-convert {\n",
              "      background-color: #E8F0FE;\n",
              "      border: none;\n",
              "      border-radius: 50%;\n",
              "      cursor: pointer;\n",
              "      display: none;\n",
              "      fill: #1967D2;\n",
              "      height: 32px;\n",
              "      padding: 0 0 0 0;\n",
              "      width: 32px;\n",
              "    }\n",
              "\n",
              "    .colab-df-convert:hover {\n",
              "      background-color: #E2EBFA;\n",
              "      box-shadow: 0px 1px 2px rgba(60, 64, 67, 0.3), 0px 1px 3px 1px rgba(60, 64, 67, 0.15);\n",
              "      fill: #174EA6;\n",
              "    }\n",
              "\n",
              "    [theme=dark] .colab-df-convert {\n",
              "      background-color: #3B4455;\n",
              "      fill: #D2E3FC;\n",
              "    }\n",
              "\n",
              "    [theme=dark] .colab-df-convert:hover {\n",
              "      background-color: #434B5C;\n",
              "      box-shadow: 0px 1px 3px 1px rgba(0, 0, 0, 0.15);\n",
              "      filter: drop-shadow(0px 1px 2px rgba(0, 0, 0, 0.3));\n",
              "      fill: #FFFFFF;\n",
              "    }\n",
              "  </style>\n",
              "\n",
              "      <script>\n",
              "        const buttonEl =\n",
              "          document.querySelector('#df-b85e8a62-5745-42f5-9115-cbc9898eb403 button.colab-df-convert');\n",
              "        buttonEl.style.display =\n",
              "          google.colab.kernel.accessAllowed ? 'block' : 'none';\n",
              "\n",
              "        async function convertToInteractive(key) {\n",
              "          const element = document.querySelector('#df-b85e8a62-5745-42f5-9115-cbc9898eb403');\n",
              "          const dataTable =\n",
              "            await google.colab.kernel.invokeFunction('convertToInteractive',\n",
              "                                                     [key], {});\n",
              "          if (!dataTable) return;\n",
              "\n",
              "          const docLinkHtml = 'Like what you see? Visit the ' +\n",
              "            '<a target=\"_blank\" href=https://colab.research.google.com/notebooks/data_table.ipynb>data table notebook</a>'\n",
              "            + ' to learn more about interactive tables.';\n",
              "          element.innerHTML = '';\n",
              "          dataTable['output_type'] = 'display_data';\n",
              "          await google.colab.output.renderOutput(dataTable, element);\n",
              "          const docLink = document.createElement('div');\n",
              "          docLink.innerHTML = docLinkHtml;\n",
              "          element.appendChild(docLink);\n",
              "        }\n",
              "      </script>\n",
              "    </div>\n",
              "  </div>\n",
              "  "
            ]
          },
          "metadata": {},
          "execution_count": 5
        }
      ],
      "source": [
        "data.describe()"
      ]
    },
    {
      "cell_type": "markdown",
      "metadata": {
        "id": "DTIt7ezGVp-G"
      },
      "source": [
        "# Предобработка"
      ]
    },
    {
      "cell_type": "code",
      "execution_count": 6,
      "metadata": {
        "id": "jNb40DwKVp-H"
      },
      "outputs": [],
      "source": [
        "answers = {} # создадим словарь для ответов\n",
        "\n",
        "# тут другие ваши предобработки колонок например:\n",
        "\n",
        "#the time given in the dataset is in string format.\n",
        "#So we need to change this in datetime format\n",
        "# ..."
      ]
    },
    {
      "cell_type": "markdown",
      "metadata": {
        "id": "YxZaH-nPVp-L"
      },
      "source": [
        "# 1. У какого фильма из списка самый большой бюджет?"
      ]
    },
    {
      "cell_type": "markdown",
      "metadata": {
        "id": "Nd-G5gX6Vp-M"
      },
      "source": [
        "Использовать варианты ответов в коде решения запрещено.    \n",
        "Вы думаете и в жизни у вас будут варианты ответов?)"
      ]
    },
    {
      "cell_type": "code",
      "execution_count": 7,
      "metadata": {
        "id": "uVnXAY5RVp-O"
      },
      "outputs": [],
      "source": [
        "# в словарь вставляем номер вопроса и ваш ответ на него\n",
        "# Пример: \n",
        "answers['1'] = ''\n",
        "# запишите свой вариант ответа\n",
        "answers['1'] = 'Pirates of the Caribbean: On Stranger Tides'\n",
        "# если ответили верно, можете добавить комментарий со значком \"+\""
      ]
    },
    {
      "cell_type": "code",
      "execution_count": 8,
      "metadata": {
        "colab": {
          "base_uri": "https://localhost:8080/"
        },
        "id": "dZwb3m28Vp-S",
        "outputId": "469db3a7-b252-484e-8515-5ef1f2b04fa7"
      },
      "outputs": [
        {
          "output_type": "execute_result",
          "data": {
            "text/plain": [
              "723    Pirates of the Caribbean: On Stranger Tides\n",
              "Name: original_title, dtype: object"
            ]
          },
          "metadata": {},
          "execution_count": 8
        }
      ],
      "source": [
        "# тут пишем ваш код для решения данного вопроса:\n",
        "answers['1'] = data[data.budget == data.budget.max()].original_title\n",
        "answers['1']"
      ]
    },
    {
      "cell_type": "markdown",
      "metadata": {
        "id": "K7L3nbRXVp-X"
      },
      "source": [
        "ВАРИАНТ 2"
      ]
    },
    {
      "cell_type": "code",
      "execution_count": 9,
      "metadata": {
        "id": "OGaoQI7rVp-X"
      },
      "outputs": [],
      "source": [
        "# можно добавлять разные варианты решения"
      ]
    },
    {
      "cell_type": "markdown",
      "metadata": {
        "id": "FNRbbI3vVp-c"
      },
      "source": [
        "# 2. Какой из фильмов самый длительный (в минутах)?"
      ]
    },
    {
      "cell_type": "code",
      "execution_count": 10,
      "metadata": {
        "colab": {
          "base_uri": "https://localhost:8080/"
        },
        "id": "vHAoEXNTVp-d",
        "outputId": "09b7e896-e3ba-420c-efa7-c64704309bd1"
      },
      "outputs": [
        {
          "output_type": "execute_result",
          "data": {
            "text/plain": [
              "1157    Gods and Generals\n",
              "Name: original_title, dtype: object"
            ]
          },
          "metadata": {},
          "execution_count": 10
        }
      ],
      "source": [
        "# думаю логику работы с этим словарем вы уже поняли, \n",
        "# по этому не буду больше его дублировать\n",
        "answers['2'] = data[data.runtime == data.runtime.max()].original_title\n",
        "answers['2']"
      ]
    },
    {
      "cell_type": "markdown",
      "metadata": {
        "id": "bapLlpW8Vp-k"
      },
      "source": [
        "# 3. Какой из фильмов самый короткий (в минутах)?\n",
        "\n",
        "\n",
        "\n"
      ]
    },
    {
      "cell_type": "code",
      "execution_count": 11,
      "metadata": {
        "colab": {
          "base_uri": "https://localhost:8080/"
        },
        "id": "YBxaSHuAVp-l",
        "outputId": "8df93a47-ed6b-4dad-f49b-c5c3bdecf166"
      },
      "outputs": [
        {
          "output_type": "execute_result",
          "data": {
            "text/plain": [
              "768    Winnie the Pooh\n",
              "Name: original_title, dtype: object"
            ]
          },
          "metadata": {},
          "execution_count": 11
        }
      ],
      "source": [
        "answers['3'] = data[data.runtime == data.runtime.min()].original_title\n",
        "answers['3']"
      ]
    },
    {
      "cell_type": "markdown",
      "metadata": {
        "id": "TfQbxbfNVp-p"
      },
      "source": [
        "# 4. Какова средняя длительность фильмов?\n"
      ]
    },
    {
      "cell_type": "code",
      "execution_count": 12,
      "metadata": {
        "colab": {
          "base_uri": "https://localhost:8080/"
        },
        "id": "5K6dKZYVVp-q",
        "outputId": "ad6ec8a3-2b7c-4de0-9ed7-7c57f6de5456"
      },
      "outputs": [
        {
          "output_type": "execute_result",
          "data": {
            "text/plain": [
              "110"
            ]
          },
          "metadata": {},
          "execution_count": 12
        }
      ],
      "source": [
        "answers['4'] = round(data.runtime.mean())\n",
        "answers['4']"
      ]
    },
    {
      "cell_type": "markdown",
      "metadata": {
        "id": "r5TvbnT_Vp-u"
      },
      "source": [
        "# 5. Каково медианное значение длительности фильмов? "
      ]
    },
    {
      "cell_type": "code",
      "execution_count": 13,
      "metadata": {
        "colab": {
          "base_uri": "https://localhost:8080/"
        },
        "id": "iBROplKnVp-v",
        "outputId": "4061ba83-a03c-4db7-b841-7be645a31829"
      },
      "outputs": [
        {
          "output_type": "execute_result",
          "data": {
            "text/plain": [
              "107"
            ]
          },
          "metadata": {},
          "execution_count": 13
        }
      ],
      "source": [
        "answers['5'] = round(data.runtime.median())\n",
        "answers['5']"
      ]
    },
    {
      "cell_type": "markdown",
      "metadata": {
        "id": "39P-deDSVp-y"
      },
      "source": [
        "# 6. Какой самый прибыльный фильм?\n",
        "#### Внимание! Здесь и далее под «прибылью» или «убытками» понимается разность между сборами и бюджетом фильма. (прибыль = сборы - бюджет) в нашем датасете это будет (profit = revenue - budget) "
      ]
    },
    {
      "cell_type": "code",
      "execution_count": 14,
      "metadata": {
        "colab": {
          "base_uri": "https://localhost:8080/"
        },
        "id": "UYZh4T9WVp-y",
        "outputId": "85c1a1bd-fef6-4e35-b6d8-3b27c6fd2bc3"
      },
      "outputs": [
        {
          "output_type": "execute_result",
          "data": {
            "text/plain": [
              "239    Avatar\n",
              "Name: original_title, dtype: object"
            ]
          },
          "metadata": {},
          "execution_count": 14
        }
      ],
      "source": [
        "# лучше код получения столбца profit вынести в Предобработку что в начале\n",
        "data['profit'] = data['revenue'] - data['budget']\n",
        "answers['6'] = data[data.profit == data['profit'].max()].original_title\n",
        "answers['6']\n"
      ]
    },
    {
      "cell_type": "markdown",
      "metadata": {
        "id": "M99JmIX4Vp-2"
      },
      "source": [
        "# 7. Какой фильм самый убыточный? "
      ]
    },
    {
      "cell_type": "code",
      "execution_count": 15,
      "metadata": {
        "colab": {
          "base_uri": "https://localhost:8080/"
        },
        "id": "w-D2m4XPVp-3",
        "outputId": "b8e68c22-cd4a-41be-e3c0-3b1845b9763e"
      },
      "outputs": [
        {
          "output_type": "execute_result",
          "data": {
            "text/plain": [
              "1245    The Lone Ranger\n",
              "Name: original_title, dtype: object"
            ]
          },
          "metadata": {},
          "execution_count": 15
        }
      ],
      "source": [
        "answers['7'] = data[data.profit == data['profit'].min()].original_title\n",
        "answers['7']"
      ]
    },
    {
      "cell_type": "markdown",
      "metadata": {
        "id": "wEOM5ERVVp-6"
      },
      "source": [
        "# 8. У скольких фильмов из датасета объем сборов оказался выше бюджета?"
      ]
    },
    {
      "cell_type": "code",
      "execution_count": 16,
      "metadata": {
        "colab": {
          "base_uri": "https://localhost:8080/"
        },
        "id": "y00_7HD6Vp-7",
        "outputId": "c9eb51e9-dd67-4aa2-d8f6-f33bcd7cc0f2"
      },
      "outputs": [
        {
          "output_type": "execute_result",
          "data": {
            "text/plain": [
              "1478"
            ]
          },
          "metadata": {},
          "execution_count": 16
        }
      ],
      "source": [
        "answers['8'] = data[data.profit > 0].count()[0]\n",
        "answers['8']"
      ]
    },
    {
      "cell_type": "markdown",
      "metadata": {
        "id": "xhpspA9KVp_A"
      },
      "source": [
        "# 9. Какой фильм оказался самым кассовым в 2008 году?"
      ]
    },
    {
      "cell_type": "code",
      "execution_count": 17,
      "metadata": {
        "colab": {
          "base_uri": "https://localhost:8080/"
        },
        "id": "MoUyQr9RVp_B",
        "outputId": "a969651a-c714-4932-9d0c-e6d54b913684"
      },
      "outputs": [
        {
          "output_type": "execute_result",
          "data": {
            "text/plain": [
              "599    The Dark Knight\n",
              "Name: original_title, dtype: object"
            ]
          },
          "metadata": {},
          "execution_count": 17
        }
      ],
      "source": [
        "answers['9'] = data[data[data.release_year == 2008].profit.max() == data.profit].original_title\n",
        "answers['9']"
      ]
    },
    {
      "cell_type": "markdown",
      "metadata": {
        "id": "Zi4hDKidVp_F"
      },
      "source": [
        "# 10. Самый убыточный фильм за период с 2012 по 2014 г. (включительно)?\n"
      ]
    },
    {
      "cell_type": "code",
      "execution_count": 18,
      "metadata": {
        "id": "XqyRmufJVp_F",
        "colab": {
          "base_uri": "https://localhost:8080/"
        },
        "outputId": "32d7b1de-c899-4a3f-b039-6ef776d09818"
      },
      "outputs": [
        {
          "output_type": "execute_result",
          "data": {
            "text/plain": [
              "1245    The Lone Ranger\n",
              "Name: original_title, dtype: object"
            ]
          },
          "metadata": {},
          "execution_count": 18
        }
      ],
      "source": [
        "answers['10'] = data[data[(data.release_year >= 2012) & (data.release_year <= 2014)].profit.min() == data.profit].original_title\n",
        "answers['10']"
      ]
    },
    {
      "cell_type": "markdown",
      "metadata": {
        "id": "EA7Sa9dkVp_I"
      },
      "source": [
        "# 11. Какого жанра фильмов больше всего?"
      ]
    },
    {
      "cell_type": "code",
      "execution_count": 19,
      "metadata": {
        "id": "zsJAwJ8QVp_J"
      },
      "outputs": [],
      "source": [
        "# эту задачу тоже можно решать разными подходами, попробуй реализовать разные варианты\n",
        "# если будешь добавлять функцию - выноси ее в предобработку что в начале"
      ]
    },
    {
      "cell_type": "markdown",
      "metadata": {
        "id": "Ax6g2C8SVp_M"
      },
      "source": [
        "ВАРИАНТ 2"
      ]
    },
    {
      "cell_type": "code",
      "execution_count": 20,
      "metadata": {
        "colab": {
          "base_uri": "https://localhost:8080/",
          "height": 36
        },
        "id": "otO3SbrSVp_N",
        "outputId": "4dbf8bfe-23b5-4af7-ba83-ac60b97880f5"
      },
      "outputs": [
        {
          "output_type": "execute_result",
          "data": {
            "text/plain": [
              "'Comedy'"
            ],
            "application/vnd.google.colaboratory.intrinsic+json": {
              "type": "string"
            }
          },
          "metadata": {},
          "execution_count": 20
        }
      ],
      "source": [
        "answers['11'] = data.genres.value_counts().index[0]\n",
        "answers['11'] "
      ]
    },
    {
      "cell_type": "markdown",
      "metadata": {
        "id": "T9_bPWpkVp_Q"
      },
      "source": [
        "# 12. Фильмы какого жанра чаще всего становятся прибыльными? "
      ]
    },
    {
      "cell_type": "code",
      "execution_count": 21,
      "metadata": {
        "colab": {
          "base_uri": "https://localhost:8080/",
          "height": 0
        },
        "id": "Tmt8MaK1Vp_R",
        "outputId": "b4a15ab6-12f8-4c8c-e412-d210b6e09360"
      },
      "outputs": [
        {
          "output_type": "execute_result",
          "data": {
            "text/plain": [
              "'Comedy'"
            ],
            "application/vnd.google.colaboratory.intrinsic+json": {
              "type": "string"
            }
          },
          "metadata": {},
          "execution_count": 21
        }
      ],
      "source": [
        "answers['12'] = data[data.profit > 0].genres.value_counts().index[0]\n",
        "answers['12'] "
      ]
    },
    {
      "cell_type": "markdown",
      "metadata": {
        "id": "0F23bgsDVp_U"
      },
      "source": [
        "# 13. У какого режиссера самые большие суммарные кассовые сборы?"
      ]
    },
    {
      "cell_type": "code",
      "execution_count": 22,
      "metadata": {
        "colab": {
          "base_uri": "https://localhost:8080/",
          "height": 0
        },
        "id": "K6Z3J8ygVp_X",
        "outputId": "4b1ba2b4-ae6a-4f50-8cf5-424f9bf86572"
      },
      "outputs": [
        {
          "output_type": "execute_result",
          "data": {
            "text/plain": [
              "'James Cameron'"
            ],
            "application/vnd.google.colaboratory.intrinsic+json": {
              "type": "string"
            }
          },
          "metadata": {},
          "execution_count": 22
        }
      ],
      "source": [
        "answers['13'] = data.groupby(['director']).revenue.max().sort_values(ascending=False).index[0]\n",
        "answers['13']"
      ]
    },
    {
      "cell_type": "markdown",
      "metadata": {
        "id": "PsYC9FgRVp_a"
      },
      "source": [
        "# 14. Какой режисер снял больше всего фильмов в стиле Action?"
      ]
    },
    {
      "cell_type": "code",
      "execution_count": 23,
      "metadata": {
        "colab": {
          "base_uri": "https://localhost:8080/"
        },
        "id": "wd2M-wHeVp_b",
        "outputId": "63623304-1bba-45b5-b13e-72ca9a174feb"
      },
      "outputs": [
        {
          "output_type": "execute_result",
          "data": {
            "text/plain": [
              "Rob Cohen                2\n",
              "Christopher McQuarrie    1\n",
              "Kevin Macdonald          1\n",
              "Paul McGuigan            1\n",
              "Ridley Scott             1\n",
              "Andy Tennant             1\n",
              "Renny Harlin             1\n",
              "John Moore               1\n",
              "Robert Rodriguez         1\n",
              "Harald Zwart             1\n",
              "Rob Bowman               1\n",
              "Sydney Pollack           1\n",
              "Andrew Davis             1\n",
              "Joseph Kahn              1\n",
              "Marcus Nispel            1\n",
              "Name: director, dtype: int64"
            ]
          },
          "metadata": {},
          "execution_count": 23
        }
      ],
      "source": [
        "answers['14'] = data[data.genres == 'Action'].director.value_counts()\n",
        "answers['14']"
      ]
    },
    {
      "cell_type": "markdown",
      "metadata": {
        "id": "PQ0KciD7Vp_f"
      },
      "source": [
        "# 15. Фильмы с каким актером принесли самые высокие кассовые сборы в 2012 году? "
      ]
    },
    {
      "cell_type": "code",
      "execution_count": 24,
      "metadata": {
        "colab": {
          "base_uri": "https://localhost:8080/",
          "height": 0
        },
        "id": "aga62oeKVp_g",
        "outputId": "73e6b23d-9d44-4eff-fbed-0f0131b44ff4"
      },
      "outputs": [
        {
          "output_type": "execute_result",
          "data": {
            "text/plain": [
              "'Robert Downey Jr.|Chris Evans|Mark Ruffalo|Chris Hemsworth|Scarlett Johansson'"
            ],
            "application/vnd.google.colaboratory.intrinsic+json": {
              "type": "string"
            }
          },
          "metadata": {},
          "execution_count": 24
        }
      ],
      "source": [
        "answers['15'] = data[data.release_year == 2012]\n",
        "answers['15'] = ''.join(answers['15'][answers['15'].revenue == answers['15'].revenue.max()].cast.values)\n",
        "answers['15']"
      ]
    },
    {
      "cell_type": "markdown",
      "metadata": {
        "id": "mWHyyL7QVp_j"
      },
      "source": [
        "# 16. Какой актер снялся в большем количестве высокобюджетных фильмов?"
      ]
    },
    {
      "cell_type": "code",
      "execution_count": 25,
      "metadata": {
        "colab": {
          "base_uri": "https://localhost:8080/"
        },
        "id": "qQtmHKTFVp_k",
        "outputId": "2e9ccaae-697e-437d-b7b9-1d154847122c"
      },
      "outputs": [
        {
          "output_type": "stream",
          "name": "stdout",
          "text": [
            "15\n",
            "14\n",
            "18\n",
            "16\n",
            "17\n"
          ]
        }
      ],
      "source": [
        "# data[data.budget > data.budget.mean()].groupby('cast').imdb_id.count().sort_values(ascending=False)\n",
        "data16 = data[data.budget > data.budget.mean()]\n",
        "print(data16[data16.cast.str.contains('Tom Cruise', regex=False)].count()[0])\n",
        "print(data16[data16.cast.str.contains('Mark Wahlberg', regex=False)].count()[0])\n",
        "print(data16[data16.cast.str.contains('Matt Damon', regex=False)].count()[0])\n",
        "print(data16[data16.cast.str.contains('Angelina Jolie', regex=False)].count()[0])\n",
        "print(data16[data16.cast.str.contains('Adam Sandler', regex=False)].count()[0])"
      ]
    },
    {
      "cell_type": "markdown",
      "metadata": {
        "id": "NIh6AaW5Vp_n"
      },
      "source": [
        "# 17. В фильмах какого жанра больше всего снимался Nicolas Cage? "
      ]
    },
    {
      "cell_type": "code",
      "execution_count": 26,
      "metadata": {
        "colab": {
          "base_uri": "https://localhost:8080/"
        },
        "id": "H74SJDIBVp_n",
        "outputId": "af9cab37-58a7-4aea-88b6-385b341c35e2"
      },
      "outputs": [
        {
          "output_type": "stream",
          "name": "stdout",
          "text": [
            "12\n",
            "17\n",
            "15\n",
            "7\n",
            "10\n"
          ]
        }
      ],
      "source": [
        "data17 = data[data.cast.str.contains('Nicolas Cage', regex=False)]\n",
        "print(data17[data17.genres.str.contains('Drama', regex=False)].count()[0])\n",
        "print(data17[data17.genres.str.contains('Action', regex=False)].count()[0])\n",
        "print(data17[data17.genres.str.contains('Thriller', regex=False)].count()[0])\n",
        "print(data17[data17.genres.str.contains('Adventure', regex=False)].count()[0])\n",
        "print(data17[data17.genres.str.contains('Crime', regex=False)].count()[0])"
      ]
    },
    {
      "cell_type": "markdown",
      "metadata": {
        "id": "RqOmPRfWVp_q"
      },
      "source": [
        "# 18. Самый убыточный фильм от Paramount Pictures"
      ]
    },
    {
      "cell_type": "code",
      "execution_count": 44,
      "metadata": {
        "id": "9E_B0Y96Vp_r",
        "colab": {
          "base_uri": "https://localhost:8080/",
          "height": 196
        },
        "outputId": "aa086579-322d-4bc6-d55c-eedcdc9576f3"
      },
      "outputs": [
        {
          "output_type": "stream",
          "name": "stderr",
          "text": [
            "/usr/local/lib/python3.7/dist-packages/ipykernel_launcher.py:3: UserWarning: Boolean Series key will be reindexed to match DataFrame index.\n",
            "  This is separate from the ipykernel package so we can avoid doing imports until\n"
          ]
        },
        {
          "output_type": "execute_result",
          "data": {
            "text/plain": [
              "       imdb_id     budget   revenue        original_title  \\\n",
              "925  tt0267626  100000000  35168966  K-19: The Widowmaker   \n",
              "\n",
              "                                                  cast         director  \\\n",
              "925  Harrison Ford|Liam Neeson|Peter Sarsgaard|Joss...  Kathryn Bigelow   \n",
              "\n",
              "                      tagline  \\\n",
              "925  Fate has found its hero.   \n",
              "\n",
              "                                              overview  runtime  \\\n",
              "925  When Russia's first nuclear submarine malfunct...      138   \n",
              "\n",
              "                     genres  \\\n",
              "925  Thriller|Drama|History   \n",
              "\n",
              "                                  production_companies release_date  \\\n",
              "925  Paramount Pictures|Intermedia Films|National G...    7/19/2002   \n",
              "\n",
              "     vote_average  release_year    profit  \n",
              "925           6.0          2002 -64831034  "
            ],
            "text/html": [
              "\n",
              "  <div id=\"df-086483e5-4d4b-41d4-ac4f-43f00857fd32\">\n",
              "    <div class=\"colab-df-container\">\n",
              "      <div>\n",
              "<style scoped>\n",
              "    .dataframe tbody tr th:only-of-type {\n",
              "        vertical-align: middle;\n",
              "    }\n",
              "\n",
              "    .dataframe tbody tr th {\n",
              "        vertical-align: top;\n",
              "    }\n",
              "\n",
              "    .dataframe thead th {\n",
              "        text-align: right;\n",
              "    }\n",
              "</style>\n",
              "<table border=\"1\" class=\"dataframe\">\n",
              "  <thead>\n",
              "    <tr style=\"text-align: right;\">\n",
              "      <th></th>\n",
              "      <th>imdb_id</th>\n",
              "      <th>budget</th>\n",
              "      <th>revenue</th>\n",
              "      <th>original_title</th>\n",
              "      <th>cast</th>\n",
              "      <th>director</th>\n",
              "      <th>tagline</th>\n",
              "      <th>overview</th>\n",
              "      <th>runtime</th>\n",
              "      <th>genres</th>\n",
              "      <th>production_companies</th>\n",
              "      <th>release_date</th>\n",
              "      <th>vote_average</th>\n",
              "      <th>release_year</th>\n",
              "      <th>profit</th>\n",
              "    </tr>\n",
              "  </thead>\n",
              "  <tbody>\n",
              "    <tr>\n",
              "      <th>925</th>\n",
              "      <td>tt0267626</td>\n",
              "      <td>100000000</td>\n",
              "      <td>35168966</td>\n",
              "      <td>K-19: The Widowmaker</td>\n",
              "      <td>Harrison Ford|Liam Neeson|Peter Sarsgaard|Joss...</td>\n",
              "      <td>Kathryn Bigelow</td>\n",
              "      <td>Fate has found its hero.</td>\n",
              "      <td>When Russia's first nuclear submarine malfunct...</td>\n",
              "      <td>138</td>\n",
              "      <td>Thriller|Drama|History</td>\n",
              "      <td>Paramount Pictures|Intermedia Films|National G...</td>\n",
              "      <td>7/19/2002</td>\n",
              "      <td>6.0</td>\n",
              "      <td>2002</td>\n",
              "      <td>-64831034</td>\n",
              "    </tr>\n",
              "  </tbody>\n",
              "</table>\n",
              "</div>\n",
              "      <button class=\"colab-df-convert\" onclick=\"convertToInteractive('df-086483e5-4d4b-41d4-ac4f-43f00857fd32')\"\n",
              "              title=\"Convert this dataframe to an interactive table.\"\n",
              "              style=\"display:none;\">\n",
              "        \n",
              "  <svg xmlns=\"http://www.w3.org/2000/svg\" height=\"24px\"viewBox=\"0 0 24 24\"\n",
              "       width=\"24px\">\n",
              "    <path d=\"M0 0h24v24H0V0z\" fill=\"none\"/>\n",
              "    <path d=\"M18.56 5.44l.94 2.06.94-2.06 2.06-.94-2.06-.94-.94-2.06-.94 2.06-2.06.94zm-11 1L8.5 8.5l.94-2.06 2.06-.94-2.06-.94L8.5 2.5l-.94 2.06-2.06.94zm10 10l.94 2.06.94-2.06 2.06-.94-2.06-.94-.94-2.06-.94 2.06-2.06.94z\"/><path d=\"M17.41 7.96l-1.37-1.37c-.4-.4-.92-.59-1.43-.59-.52 0-1.04.2-1.43.59L10.3 9.45l-7.72 7.72c-.78.78-.78 2.05 0 2.83L4 21.41c.39.39.9.59 1.41.59.51 0 1.02-.2 1.41-.59l7.78-7.78 2.81-2.81c.8-.78.8-2.07 0-2.86zM5.41 20L4 18.59l7.72-7.72 1.47 1.35L5.41 20z\"/>\n",
              "  </svg>\n",
              "      </button>\n",
              "      \n",
              "  <style>\n",
              "    .colab-df-container {\n",
              "      display:flex;\n",
              "      flex-wrap:wrap;\n",
              "      gap: 12px;\n",
              "    }\n",
              "\n",
              "    .colab-df-convert {\n",
              "      background-color: #E8F0FE;\n",
              "      border: none;\n",
              "      border-radius: 50%;\n",
              "      cursor: pointer;\n",
              "      display: none;\n",
              "      fill: #1967D2;\n",
              "      height: 32px;\n",
              "      padding: 0 0 0 0;\n",
              "      width: 32px;\n",
              "    }\n",
              "\n",
              "    .colab-df-convert:hover {\n",
              "      background-color: #E2EBFA;\n",
              "      box-shadow: 0px 1px 2px rgba(60, 64, 67, 0.3), 0px 1px 3px 1px rgba(60, 64, 67, 0.15);\n",
              "      fill: #174EA6;\n",
              "    }\n",
              "\n",
              "    [theme=dark] .colab-df-convert {\n",
              "      background-color: #3B4455;\n",
              "      fill: #D2E3FC;\n",
              "    }\n",
              "\n",
              "    [theme=dark] .colab-df-convert:hover {\n",
              "      background-color: #434B5C;\n",
              "      box-shadow: 0px 1px 3px 1px rgba(0, 0, 0, 0.15);\n",
              "      filter: drop-shadow(0px 1px 2px rgba(0, 0, 0, 0.3));\n",
              "      fill: #FFFFFF;\n",
              "    }\n",
              "  </style>\n",
              "\n",
              "      <script>\n",
              "        const buttonEl =\n",
              "          document.querySelector('#df-086483e5-4d4b-41d4-ac4f-43f00857fd32 button.colab-df-convert');\n",
              "        buttonEl.style.display =\n",
              "          google.colab.kernel.accessAllowed ? 'block' : 'none';\n",
              "\n",
              "        async function convertToInteractive(key) {\n",
              "          const element = document.querySelector('#df-086483e5-4d4b-41d4-ac4f-43f00857fd32');\n",
              "          const dataTable =\n",
              "            await google.colab.kernel.invokeFunction('convertToInteractive',\n",
              "                                                     [key], {});\n",
              "          if (!dataTable) return;\n",
              "\n",
              "          const docLinkHtml = 'Like what you see? Visit the ' +\n",
              "            '<a target=\"_blank\" href=https://colab.research.google.com/notebooks/data_table.ipynb>data table notebook</a>'\n",
              "            + ' to learn more about interactive tables.';\n",
              "          element.innerHTML = '';\n",
              "          dataTable['output_type'] = 'display_data';\n",
              "          await google.colab.output.renderOutput(dataTable, element);\n",
              "          const docLink = document.createElement('div');\n",
              "          docLink.innerHTML = docLinkHtml;\n",
              "          element.appendChild(docLink);\n",
              "        }\n",
              "      </script>\n",
              "    </div>\n",
              "  </div>\n",
              "  "
            ]
          },
          "metadata": {},
          "execution_count": 44
        }
      ],
      "source": [
        "data18 = data[data.production_companies.str.contains('Paramount Pictures', regex=False)]\n",
        "# data18['income'] = data18['revenue'] - data18['budget']\n",
        "data18[data['profit'] == data18['profit'].min()]"
      ]
    },
    {
      "cell_type": "markdown",
      "metadata": {
        "id": "vS8Ur6ddVp_u"
      },
      "source": [
        "# 19. Какой год стал самым успешным по суммарным кассовым сборам?"
      ]
    },
    {
      "cell_type": "code",
      "execution_count": 49,
      "metadata": {
        "id": "Dnbt4GdIVp_v",
        "colab": {
          "base_uri": "https://localhost:8080/"
        },
        "outputId": "3f92cfe5-5d0f-418b-e5a6-8eeb39005acc"
      },
      "outputs": [
        {
          "output_type": "execute_result",
          "data": {
            "text/plain": [
              "release_year\n",
              "2015    25449202382\n",
              "2014    23405862953\n",
              "2013    23213799791\n",
              "2012    23079001687\n",
              "2011    22676791872\n",
              "2010    21071204961\n",
              "2009    20261791024\n",
              "2008    18252781990\n",
              "2007    18162406801\n",
              "2004    15663430720\n",
              "2005    15309425558\n",
              "2006    14775042320\n",
              "2003    14346123312\n",
              "2002    14136361487\n",
              "2001    13017764865\n",
              "2000    10664099805\n",
              "Name: revenue, dtype: int64"
            ]
          },
          "metadata": {},
          "execution_count": 49
        }
      ],
      "source": [
        "data.groupby('release_year').revenue.sum().sort_values(ascending=False)"
      ]
    },
    {
      "cell_type": "markdown",
      "metadata": {
        "id": "JAzJh4QAVp_z"
      },
      "source": [
        "# 20. Какой самый прибыльный год для студии Warner Bros?"
      ]
    },
    {
      "cell_type": "code",
      "execution_count": 52,
      "metadata": {
        "id": "wgVu02DEVp_0",
        "colab": {
          "base_uri": "https://localhost:8080/"
        },
        "outputId": "c1dae0f2-8e9a-4bba-9bc1-8734e071e2e4"
      },
      "outputs": [
        {
          "output_type": "execute_result",
          "data": {
            "text/plain": [
              "release_date\n",
              "7/7/2011      1327817822\n",
              "7/16/2012     1081041287\n",
              "7/16/2008     1001921825\n",
              "11/16/2001     976475550\n",
              "10/17/2010     954305868\n",
              "                 ...    \n",
              "1/30/2004        6808550\n",
              "12/8/2006        5914908\n",
              "7/19/2000        5217498\n",
              "4/21/2000        5108820\n",
              "3/13/2014        3485127\n",
              "Name: revenue, Length: 181, dtype: int64"
            ]
          },
          "metadata": {},
          "execution_count": 52
        }
      ],
      "source": [
        "data20 = data[data.production_companies.str.contains('Warner Bros', regex=False)]\n",
        "data20.groupby('release_date').revenue.sum().sort_values(ascending=False)"
      ]
    },
    {
      "cell_type": "markdown",
      "metadata": {
        "id": "8Im1S2HRVp_4"
      },
      "source": [
        "# 21. В каком месяце за все годы суммарно вышло больше всего фильмов?"
      ]
    },
    {
      "cell_type": "code",
      "execution_count": 66,
      "metadata": {
        "id": "lev6TH7gVp_4",
        "colab": {
          "base_uri": "https://localhost:8080/"
        },
        "outputId": "b9995efa-e638-4b7c-fda3-abbb3e42c109"
      },
      "outputs": [
        {
          "output_type": "execute_result",
          "data": {
            "text/plain": [
              "month\n",
              "9/    227\n",
              "12    190\n",
              "10    186\n",
              "8/    161\n",
              "3/    156\n",
              "4/    149\n",
              "6/    147\n",
              "11    146\n",
              "7/    142\n",
              "5/    140\n",
              "2/    135\n",
              "1/    110\n",
              "Name: original_title, dtype: int64"
            ]
          },
          "metadata": {},
          "execution_count": 66
        }
      ],
      "source": [
        "data['month'] = data['release_date'].str[0:2]\n",
        "# data.month\n",
        "data.groupby('month').original_title.count().sort_values(ascending=False)\n"
      ]
    },
    {
      "cell_type": "markdown",
      "metadata": {
        "id": "uAJsZ_NeVp_7"
      },
      "source": [
        "# 22. Сколько суммарно вышло фильмов летом? (за июнь, июль, август)"
      ]
    },
    {
      "cell_type": "code",
      "execution_count": 67,
      "metadata": {
        "id": "Aa-hEREoVp_8",
        "colab": {
          "base_uri": "https://localhost:8080/"
        },
        "outputId": "d84b8110-8cfa-4c20-e049-5da8e6353a92"
      },
      "outputs": [
        {
          "output_type": "execute_result",
          "data": {
            "text/plain": [
              "450"
            ]
          },
          "metadata": {},
          "execution_count": 67
        }
      ],
      "source": [
        "data[(data['month'] == '6/') | (data['month'] == '7/') | (data['month'] == '8/')].count()[0]"
      ]
    },
    {
      "cell_type": "markdown",
      "metadata": {
        "id": "G94ppOY1VqAA"
      },
      "source": [
        "# 23. Для какого режиссера зима – самое продуктивное время года? "
      ]
    },
    {
      "cell_type": "code",
      "execution_count": 71,
      "metadata": {
        "id": "RhNTsamuVqAB",
        "colab": {
          "base_uri": "https://localhost:8080/"
        },
        "outputId": "eba93798-4dd4-4297-c9fb-b4e637a8fe48"
      },
      "outputs": [
        {
          "output_type": "execute_result",
          "data": {
            "text/plain": [
              "director\n",
              "Peter Jackson        7\n",
              "Steven Soderbergh    6\n",
              "Clint Eastwood       6\n",
              "Adam Shankman        4\n",
              "Martin Scorsese      4\n",
              "                    ..\n",
              "GÃ¡bor CsupÃ³        1\n",
              "Guy Ritchie          1\n",
              "Guy Ferland          1\n",
              "Gus Van Sant         1\n",
              "Will Gluck           1\n",
              "Name: original_title, Length: 332, dtype: int64"
            ]
          },
          "metadata": {},
          "execution_count": 71
        }
      ],
      "source": [
        "data[(data['month'] == '1/') | (data['month'] == '2/') | (data['month'] == '12')].groupby('director').original_title.count().sort_values(ascending=False)"
      ]
    },
    {
      "cell_type": "markdown",
      "metadata": {
        "id": "RBo0JVjVVqAF"
      },
      "source": [
        "# 24. Какая студия дает самые длинные названия своим фильмам по количеству символов?"
      ]
    },
    {
      "cell_type": "code",
      "execution_count": 77,
      "metadata": {
        "id": "QRGS8L0iVqAG",
        "colab": {
          "base_uri": "https://localhost:8080/",
          "height": 1000
        },
        "outputId": "13ce96e7-5efa-4f1f-b740-c91b3b75659c"
      },
      "outputs": [
        {
          "output_type": "execute_result",
          "data": {
            "text/plain": [
              "      imdb_id     budget    revenue           original_title  \\\n",
              "83  tt0884732   23000000   79799880       The Wedding Ringer   \n",
              "62  tt2057392   13000000   32848185           Eye in the Sky   \n",
              "59  tt1390411  100000000   93820758  In the Heart of the Sea   \n",
              "58  tt2679042   35000000   82347656         Hitman: Agent 47   \n",
              "56  tt3079380   65000000  235666219                      Spy   \n",
              "..        ...        ...        ...                      ...   \n",
              "2   tt2908446  110000000  295238201                Insurgent   \n",
              "2   tt2908446  110000000  295238201                Insurgent   \n",
              "2   tt2908446  110000000  295238201                Insurgent   \n",
              "2   tt2908446  110000000  295238201                Insurgent   \n",
              "1   tt1392190  150000000  378436354       Mad Max: Fury Road   \n",
              "\n",
              "                                                 cast          director  \\\n",
              "83  Kevin Hart|Josh Gad|Kaley Cuoco|Affion Crocket...   Jeremy Garelick   \n",
              "62  Helen Mirren|Aaron Paul|Alan Rickman|Iain Glen...        Gavin Hood   \n",
              "59  Chris Hemsworth|Benjamin Walker|Cillian Murphy...        Ron Howard   \n",
              "58  Rupert Friend|Zachary Quinto|Hannah Ware|Emili...   Aleksander Bach   \n",
              "56  Melissa McCarthy|Jason Statham|Rose Byrne|Mira...         Paul Feig   \n",
              "..                                                ...               ...   \n",
              "2   Shailene Woodley|Theo James|Kate Winslet|Ansel...  Robert Schwentke   \n",
              "2   Shailene Woodley|Theo James|Kate Winslet|Ansel...  Robert Schwentke   \n",
              "2   Shailene Woodley|Theo James|Kate Winslet|Ansel...  Robert Schwentke   \n",
              "2   Shailene Woodley|Theo James|Kate Winslet|Ansel...  Robert Schwentke   \n",
              "1   Tom Hardy|Charlize Theron|Hugh Keays-Byrne|Nic...     George Miller   \n",
              "\n",
              "                                              tagline  \\\n",
              "83                He's the best man... money can buy.   \n",
              "62                      Welcome to the new front line   \n",
              "59  Based on the incredible true story that inspir...   \n",
              "58                                 Your Number is Up.   \n",
              "56                 One of the guys. One of the Spies.   \n",
              "..                                                ...   \n",
              "2                          One Choice Can Destroy You   \n",
              "2                          One Choice Can Destroy You   \n",
              "2                          One Choice Can Destroy You   \n",
              "2                          One Choice Can Destroy You   \n",
              "1                                  What a Lovely Day.   \n",
              "\n",
              "                                             overview  runtime  \\\n",
              "83  Doug Harris is a loveable but socially awkward...      101   \n",
              "62  A military officer in command of a drone opera...      102   \n",
              "59  In the winter of 1820, the New England whaling...      122   \n",
              "58  An assassin teams up with a woman to help her ...       96   \n",
              "56  A desk-bound CIA analyst volunteers to go unde...      120   \n",
              "..                                                ...      ...   \n",
              "2   Beatrice Prior must confront her inner demons ...      119   \n",
              "2   Beatrice Prior must confront her inner demons ...      119   \n",
              "2   Beatrice Prior must confront her inner demons ...      119   \n",
              "2   Beatrice Prior must confront her inner demons ...      119   \n",
              "1   An apocalyptic story set in the furthest reach...      120   \n",
              "\n",
              "                                       genres  \\\n",
              "83                                     Comedy   \n",
              "62                         Drama|Thriller|War   \n",
              "59    Thriller|Drama|Adventure|Action|History   \n",
              "58                      Action|Crime|Thriller   \n",
              "56                        Action|Comedy|Crime   \n",
              "..                                        ...   \n",
              "2          Adventure|Science Fiction|Thriller   \n",
              "2          Adventure|Science Fiction|Thriller   \n",
              "2          Adventure|Science Fiction|Thriller   \n",
              "2          Adventure|Science Fiction|Thriller   \n",
              "1   Action|Adventure|Science Fiction|Thriller   \n",
              "\n",
              "                                 production_companies release_date  \\\n",
              "83            Miramax Films|Screen Gems|LStar Capital    1/16/2015   \n",
              "62  Entertainment One|Moonlighting Films|Raindog F...    9/11/2015   \n",
              "59  Imagine Entertainment|Spring Creek Productions...   11/20/2015   \n",
              "58  Twentieth Century Fox Film Corporation|Fox Int...    8/20/2015   \n",
              "56  Twentieth Century Fox Film Corporation|Chernin...     5/6/2015   \n",
              "..                                                ...          ...   \n",
              "2   Summit Entertainment|Mandeville Films|Red Wago...    3/18/2015   \n",
              "2   Summit Entertainment|Mandeville Films|Red Wago...    3/18/2015   \n",
              "2   Summit Entertainment|Mandeville Films|Red Wago...    3/18/2015   \n",
              "2   Summit Entertainment|Mandeville Films|Red Wago...    3/18/2015   \n",
              "1   Village Roadshow Pictures|Kennedy Miller Produ...    5/13/2015   \n",
              "\n",
              "    vote_average  release_year     profit month  len  \n",
              "83           6.5          2015   56799880    1/   18  \n",
              "62           7.2          2015   19848185    9/   14  \n",
              "59           6.4          2015   -6179242    11   23  \n",
              "58           5.5          2015   47347656    8/   16  \n",
              "56           6.9          2015  170666219    5/    3  \n",
              "..           ...           ...        ...   ...  ...  \n",
              "2            6.3          2015  185238201    3/    9  \n",
              "2            6.3          2015  185238201    3/    9  \n",
              "2            6.3          2015  185238201    3/    9  \n",
              "2            6.3          2015  185238201    3/    9  \n",
              "1            7.1          2015  228436354    5/   18  \n",
              "\n",
              "[1889 rows x 17 columns]"
            ],
            "text/html": [
              "\n",
              "  <div id=\"df-ee762158-a681-4fee-9ca1-09dce4c8c6b7\">\n",
              "    <div class=\"colab-df-container\">\n",
              "      <div>\n",
              "<style scoped>\n",
              "    .dataframe tbody tr th:only-of-type {\n",
              "        vertical-align: middle;\n",
              "    }\n",
              "\n",
              "    .dataframe tbody tr th {\n",
              "        vertical-align: top;\n",
              "    }\n",
              "\n",
              "    .dataframe thead th {\n",
              "        text-align: right;\n",
              "    }\n",
              "</style>\n",
              "<table border=\"1\" class=\"dataframe\">\n",
              "  <thead>\n",
              "    <tr style=\"text-align: right;\">\n",
              "      <th></th>\n",
              "      <th>imdb_id</th>\n",
              "      <th>budget</th>\n",
              "      <th>revenue</th>\n",
              "      <th>original_title</th>\n",
              "      <th>cast</th>\n",
              "      <th>director</th>\n",
              "      <th>tagline</th>\n",
              "      <th>overview</th>\n",
              "      <th>runtime</th>\n",
              "      <th>genres</th>\n",
              "      <th>production_companies</th>\n",
              "      <th>release_date</th>\n",
              "      <th>vote_average</th>\n",
              "      <th>release_year</th>\n",
              "      <th>profit</th>\n",
              "      <th>month</th>\n",
              "      <th>len</th>\n",
              "    </tr>\n",
              "  </thead>\n",
              "  <tbody>\n",
              "    <tr>\n",
              "      <th>83</th>\n",
              "      <td>tt0884732</td>\n",
              "      <td>23000000</td>\n",
              "      <td>79799880</td>\n",
              "      <td>The Wedding Ringer</td>\n",
              "      <td>Kevin Hart|Josh Gad|Kaley Cuoco|Affion Crocket...</td>\n",
              "      <td>Jeremy Garelick</td>\n",
              "      <td>He's the best man... money can buy.</td>\n",
              "      <td>Doug Harris is a loveable but socially awkward...</td>\n",
              "      <td>101</td>\n",
              "      <td>Comedy</td>\n",
              "      <td>Miramax Films|Screen Gems|LStar Capital</td>\n",
              "      <td>1/16/2015</td>\n",
              "      <td>6.5</td>\n",
              "      <td>2015</td>\n",
              "      <td>56799880</td>\n",
              "      <td>1/</td>\n",
              "      <td>18</td>\n",
              "    </tr>\n",
              "    <tr>\n",
              "      <th>62</th>\n",
              "      <td>tt2057392</td>\n",
              "      <td>13000000</td>\n",
              "      <td>32848185</td>\n",
              "      <td>Eye in the Sky</td>\n",
              "      <td>Helen Mirren|Aaron Paul|Alan Rickman|Iain Glen...</td>\n",
              "      <td>Gavin Hood</td>\n",
              "      <td>Welcome to the new front line</td>\n",
              "      <td>A military officer in command of a drone opera...</td>\n",
              "      <td>102</td>\n",
              "      <td>Drama|Thriller|War</td>\n",
              "      <td>Entertainment One|Moonlighting Films|Raindog F...</td>\n",
              "      <td>9/11/2015</td>\n",
              "      <td>7.2</td>\n",
              "      <td>2015</td>\n",
              "      <td>19848185</td>\n",
              "      <td>9/</td>\n",
              "      <td>14</td>\n",
              "    </tr>\n",
              "    <tr>\n",
              "      <th>59</th>\n",
              "      <td>tt1390411</td>\n",
              "      <td>100000000</td>\n",
              "      <td>93820758</td>\n",
              "      <td>In the Heart of the Sea</td>\n",
              "      <td>Chris Hemsworth|Benjamin Walker|Cillian Murphy...</td>\n",
              "      <td>Ron Howard</td>\n",
              "      <td>Based on the incredible true story that inspir...</td>\n",
              "      <td>In the winter of 1820, the New England whaling...</td>\n",
              "      <td>122</td>\n",
              "      <td>Thriller|Drama|Adventure|Action|History</td>\n",
              "      <td>Imagine Entertainment|Spring Creek Productions...</td>\n",
              "      <td>11/20/2015</td>\n",
              "      <td>6.4</td>\n",
              "      <td>2015</td>\n",
              "      <td>-6179242</td>\n",
              "      <td>11</td>\n",
              "      <td>23</td>\n",
              "    </tr>\n",
              "    <tr>\n",
              "      <th>58</th>\n",
              "      <td>tt2679042</td>\n",
              "      <td>35000000</td>\n",
              "      <td>82347656</td>\n",
              "      <td>Hitman: Agent 47</td>\n",
              "      <td>Rupert Friend|Zachary Quinto|Hannah Ware|Emili...</td>\n",
              "      <td>Aleksander Bach</td>\n",
              "      <td>Your Number is Up.</td>\n",
              "      <td>An assassin teams up with a woman to help her ...</td>\n",
              "      <td>96</td>\n",
              "      <td>Action|Crime|Thriller</td>\n",
              "      <td>Twentieth Century Fox Film Corporation|Fox Int...</td>\n",
              "      <td>8/20/2015</td>\n",
              "      <td>5.5</td>\n",
              "      <td>2015</td>\n",
              "      <td>47347656</td>\n",
              "      <td>8/</td>\n",
              "      <td>16</td>\n",
              "    </tr>\n",
              "    <tr>\n",
              "      <th>56</th>\n",
              "      <td>tt3079380</td>\n",
              "      <td>65000000</td>\n",
              "      <td>235666219</td>\n",
              "      <td>Spy</td>\n",
              "      <td>Melissa McCarthy|Jason Statham|Rose Byrne|Mira...</td>\n",
              "      <td>Paul Feig</td>\n",
              "      <td>One of the guys. One of the Spies.</td>\n",
              "      <td>A desk-bound CIA analyst volunteers to go unde...</td>\n",
              "      <td>120</td>\n",
              "      <td>Action|Comedy|Crime</td>\n",
              "      <td>Twentieth Century Fox Film Corporation|Chernin...</td>\n",
              "      <td>5/6/2015</td>\n",
              "      <td>6.9</td>\n",
              "      <td>2015</td>\n",
              "      <td>170666219</td>\n",
              "      <td>5/</td>\n",
              "      <td>3</td>\n",
              "    </tr>\n",
              "    <tr>\n",
              "      <th>...</th>\n",
              "      <td>...</td>\n",
              "      <td>...</td>\n",
              "      <td>...</td>\n",
              "      <td>...</td>\n",
              "      <td>...</td>\n",
              "      <td>...</td>\n",
              "      <td>...</td>\n",
              "      <td>...</td>\n",
              "      <td>...</td>\n",
              "      <td>...</td>\n",
              "      <td>...</td>\n",
              "      <td>...</td>\n",
              "      <td>...</td>\n",
              "      <td>...</td>\n",
              "      <td>...</td>\n",
              "      <td>...</td>\n",
              "      <td>...</td>\n",
              "    </tr>\n",
              "    <tr>\n",
              "      <th>2</th>\n",
              "      <td>tt2908446</td>\n",
              "      <td>110000000</td>\n",
              "      <td>295238201</td>\n",
              "      <td>Insurgent</td>\n",
              "      <td>Shailene Woodley|Theo James|Kate Winslet|Ansel...</td>\n",
              "      <td>Robert Schwentke</td>\n",
              "      <td>One Choice Can Destroy You</td>\n",
              "      <td>Beatrice Prior must confront her inner demons ...</td>\n",
              "      <td>119</td>\n",
              "      <td>Adventure|Science Fiction|Thriller</td>\n",
              "      <td>Summit Entertainment|Mandeville Films|Red Wago...</td>\n",
              "      <td>3/18/2015</td>\n",
              "      <td>6.3</td>\n",
              "      <td>2015</td>\n",
              "      <td>185238201</td>\n",
              "      <td>3/</td>\n",
              "      <td>9</td>\n",
              "    </tr>\n",
              "    <tr>\n",
              "      <th>2</th>\n",
              "      <td>tt2908446</td>\n",
              "      <td>110000000</td>\n",
              "      <td>295238201</td>\n",
              "      <td>Insurgent</td>\n",
              "      <td>Shailene Woodley|Theo James|Kate Winslet|Ansel...</td>\n",
              "      <td>Robert Schwentke</td>\n",
              "      <td>One Choice Can Destroy You</td>\n",
              "      <td>Beatrice Prior must confront her inner demons ...</td>\n",
              "      <td>119</td>\n",
              "      <td>Adventure|Science Fiction|Thriller</td>\n",
              "      <td>Summit Entertainment|Mandeville Films|Red Wago...</td>\n",
              "      <td>3/18/2015</td>\n",
              "      <td>6.3</td>\n",
              "      <td>2015</td>\n",
              "      <td>185238201</td>\n",
              "      <td>3/</td>\n",
              "      <td>9</td>\n",
              "    </tr>\n",
              "    <tr>\n",
              "      <th>2</th>\n",
              "      <td>tt2908446</td>\n",
              "      <td>110000000</td>\n",
              "      <td>295238201</td>\n",
              "      <td>Insurgent</td>\n",
              "      <td>Shailene Woodley|Theo James|Kate Winslet|Ansel...</td>\n",
              "      <td>Robert Schwentke</td>\n",
              "      <td>One Choice Can Destroy You</td>\n",
              "      <td>Beatrice Prior must confront her inner demons ...</td>\n",
              "      <td>119</td>\n",
              "      <td>Adventure|Science Fiction|Thriller</td>\n",
              "      <td>Summit Entertainment|Mandeville Films|Red Wago...</td>\n",
              "      <td>3/18/2015</td>\n",
              "      <td>6.3</td>\n",
              "      <td>2015</td>\n",
              "      <td>185238201</td>\n",
              "      <td>3/</td>\n",
              "      <td>9</td>\n",
              "    </tr>\n",
              "    <tr>\n",
              "      <th>2</th>\n",
              "      <td>tt2908446</td>\n",
              "      <td>110000000</td>\n",
              "      <td>295238201</td>\n",
              "      <td>Insurgent</td>\n",
              "      <td>Shailene Woodley|Theo James|Kate Winslet|Ansel...</td>\n",
              "      <td>Robert Schwentke</td>\n",
              "      <td>One Choice Can Destroy You</td>\n",
              "      <td>Beatrice Prior must confront her inner demons ...</td>\n",
              "      <td>119</td>\n",
              "      <td>Adventure|Science Fiction|Thriller</td>\n",
              "      <td>Summit Entertainment|Mandeville Films|Red Wago...</td>\n",
              "      <td>3/18/2015</td>\n",
              "      <td>6.3</td>\n",
              "      <td>2015</td>\n",
              "      <td>185238201</td>\n",
              "      <td>3/</td>\n",
              "      <td>9</td>\n",
              "    </tr>\n",
              "    <tr>\n",
              "      <th>1</th>\n",
              "      <td>tt1392190</td>\n",
              "      <td>150000000</td>\n",
              "      <td>378436354</td>\n",
              "      <td>Mad Max: Fury Road</td>\n",
              "      <td>Tom Hardy|Charlize Theron|Hugh Keays-Byrne|Nic...</td>\n",
              "      <td>George Miller</td>\n",
              "      <td>What a Lovely Day.</td>\n",
              "      <td>An apocalyptic story set in the furthest reach...</td>\n",
              "      <td>120</td>\n",
              "      <td>Action|Adventure|Science Fiction|Thriller</td>\n",
              "      <td>Village Roadshow Pictures|Kennedy Miller Produ...</td>\n",
              "      <td>5/13/2015</td>\n",
              "      <td>7.1</td>\n",
              "      <td>2015</td>\n",
              "      <td>228436354</td>\n",
              "      <td>5/</td>\n",
              "      <td>18</td>\n",
              "    </tr>\n",
              "  </tbody>\n",
              "</table>\n",
              "<p>1889 rows × 17 columns</p>\n",
              "</div>\n",
              "      <button class=\"colab-df-convert\" onclick=\"convertToInteractive('df-ee762158-a681-4fee-9ca1-09dce4c8c6b7')\"\n",
              "              title=\"Convert this dataframe to an interactive table.\"\n",
              "              style=\"display:none;\">\n",
              "        \n",
              "  <svg xmlns=\"http://www.w3.org/2000/svg\" height=\"24px\"viewBox=\"0 0 24 24\"\n",
              "       width=\"24px\">\n",
              "    <path d=\"M0 0h24v24H0V0z\" fill=\"none\"/>\n",
              "    <path d=\"M18.56 5.44l.94 2.06.94-2.06 2.06-.94-2.06-.94-.94-2.06-.94 2.06-2.06.94zm-11 1L8.5 8.5l.94-2.06 2.06-.94-2.06-.94L8.5 2.5l-.94 2.06-2.06.94zm10 10l.94 2.06.94-2.06 2.06-.94-2.06-.94-.94-2.06-.94 2.06-2.06.94z\"/><path d=\"M17.41 7.96l-1.37-1.37c-.4-.4-.92-.59-1.43-.59-.52 0-1.04.2-1.43.59L10.3 9.45l-7.72 7.72c-.78.78-.78 2.05 0 2.83L4 21.41c.39.39.9.59 1.41.59.51 0 1.02-.2 1.41-.59l7.78-7.78 2.81-2.81c.8-.78.8-2.07 0-2.86zM5.41 20L4 18.59l7.72-7.72 1.47 1.35L5.41 20z\"/>\n",
              "  </svg>\n",
              "      </button>\n",
              "      \n",
              "  <style>\n",
              "    .colab-df-container {\n",
              "      display:flex;\n",
              "      flex-wrap:wrap;\n",
              "      gap: 12px;\n",
              "    }\n",
              "\n",
              "    .colab-df-convert {\n",
              "      background-color: #E8F0FE;\n",
              "      border: none;\n",
              "      border-radius: 50%;\n",
              "      cursor: pointer;\n",
              "      display: none;\n",
              "      fill: #1967D2;\n",
              "      height: 32px;\n",
              "      padding: 0 0 0 0;\n",
              "      width: 32px;\n",
              "    }\n",
              "\n",
              "    .colab-df-convert:hover {\n",
              "      background-color: #E2EBFA;\n",
              "      box-shadow: 0px 1px 2px rgba(60, 64, 67, 0.3), 0px 1px 3px 1px rgba(60, 64, 67, 0.15);\n",
              "      fill: #174EA6;\n",
              "    }\n",
              "\n",
              "    [theme=dark] .colab-df-convert {\n",
              "      background-color: #3B4455;\n",
              "      fill: #D2E3FC;\n",
              "    }\n",
              "\n",
              "    [theme=dark] .colab-df-convert:hover {\n",
              "      background-color: #434B5C;\n",
              "      box-shadow: 0px 1px 3px 1px rgba(0, 0, 0, 0.15);\n",
              "      filter: drop-shadow(0px 1px 2px rgba(0, 0, 0, 0.3));\n",
              "      fill: #FFFFFF;\n",
              "    }\n",
              "  </style>\n",
              "\n",
              "      <script>\n",
              "        const buttonEl =\n",
              "          document.querySelector('#df-ee762158-a681-4fee-9ca1-09dce4c8c6b7 button.colab-df-convert');\n",
              "        buttonEl.style.display =\n",
              "          google.colab.kernel.accessAllowed ? 'block' : 'none';\n",
              "\n",
              "        async function convertToInteractive(key) {\n",
              "          const element = document.querySelector('#df-ee762158-a681-4fee-9ca1-09dce4c8c6b7');\n",
              "          const dataTable =\n",
              "            await google.colab.kernel.invokeFunction('convertToInteractive',\n",
              "                                                     [key], {});\n",
              "          if (!dataTable) return;\n",
              "\n",
              "          const docLinkHtml = 'Like what you see? Visit the ' +\n",
              "            '<a target=\"_blank\" href=https://colab.research.google.com/notebooks/data_table.ipynb>data table notebook</a>'\n",
              "            + ' to learn more about interactive tables.';\n",
              "          element.innerHTML = '';\n",
              "          dataTable['output_type'] = 'display_data';\n",
              "          await google.colab.output.renderOutput(dataTable, element);\n",
              "          const docLink = document.createElement('div');\n",
              "          docLink.innerHTML = docLinkHtml;\n",
              "          element.appendChild(docLink);\n",
              "        }\n",
              "      </script>\n",
              "    </div>\n",
              "  </div>\n",
              "  "
            ]
          },
          "metadata": {},
          "execution_count": 77
        }
      ],
      "source": [
        "data['len'] = data.original_title.str.len()\n",
        "data.iloc[data.original_title.str.len().sort_values(ascending=False)]\n",
        "# .groupby('director').original_title.count()"
      ]
    },
    {
      "cell_type": "markdown",
      "metadata": {
        "id": "9G0hbvR7VqAK"
      },
      "source": [
        "# 25. Описание фильмов какой студии в среднем самые длинные по количеству слов?"
      ]
    },
    {
      "cell_type": "code",
      "execution_count": null,
      "metadata": {
        "id": "Ge2GsLNxVqAK"
      },
      "outputs": [],
      "source": [
        ""
      ]
    },
    {
      "cell_type": "markdown",
      "metadata": {
        "id": "FJ1AFt90VqAP"
      },
      "source": [
        "# 26. Какие фильмы входят в 1 процент лучших по рейтингу? \n",
        "по vote_average"
      ]
    },
    {
      "cell_type": "code",
      "execution_count": null,
      "metadata": {
        "id": "8qmJVq4CVqAQ"
      },
      "outputs": [],
      "source": [
        ""
      ]
    },
    {
      "cell_type": "markdown",
      "metadata": {
        "id": "MdXsUXbCVqAV"
      },
      "source": [
        "# 27. Какие актеры чаще всего снимаются в одном фильме вместе?\n"
      ]
    },
    {
      "cell_type": "markdown",
      "metadata": {
        "id": "4ymnxEVoVqAW"
      },
      "source": [
        "ВАРИАНТ 2"
      ]
    },
    {
      "cell_type": "markdown",
      "metadata": {
        "id": "U0nONFnGVqAX"
      },
      "source": [
        "# Submission"
      ]
    },
    {
      "cell_type": "code",
      "execution_count": null,
      "metadata": {
        "id": "IfcaRO9-VqAX",
        "outputId": "0f132912-32bb-4196-c98c-abfbc4ad5a5f"
      },
      "outputs": [
        {
          "data": {
            "text/plain": [
              "{'1': '...', '2': '...'}"
            ]
          },
          "execution_count": 8,
          "metadata": {
            "tags": []
          },
          "output_type": "execute_result"
        }
      ],
      "source": [
        "# в конце можно посмотреть свои ответы к каждому вопросу\n",
        "answers"
      ]
    },
    {
      "cell_type": "code",
      "execution_count": null,
      "metadata": {
        "id": "SiRmHPl8VqAd"
      },
      "outputs": [],
      "source": [
        "# и убедиться что ни чего не пропустил)\n",
        "len(answers)"
      ]
    },
    {
      "cell_type": "code",
      "execution_count": null,
      "metadata": {
        "id": "uCfuTkRbVqAg"
      },
      "outputs": [],
      "source": [
        ""
      ]
    },
    {
      "cell_type": "code",
      "execution_count": null,
      "metadata": {
        "id": "Vwx3NrkSVqAl"
      },
      "outputs": [],
      "source": [
        ""
      ]
    }
  ],
  "metadata": {
    "colab": {
      "name": "Movies_IMBD_v4.1_TEMPLATE.ipynb",
      "provenance": []
    },
    "kernelspec": {
      "display_name": "Python 3",
      "language": "python",
      "name": "python3"
    },
    "language_info": {
      "codemirror_mode": {
        "name": "ipython",
        "version": 3
      },
      "file_extension": ".py",
      "mimetype": "text/x-python",
      "name": "python",
      "nbconvert_exporter": "python",
      "pygments_lexer": "ipython3",
      "version": "3.7.4"
    }
  },
  "nbformat": 4,
  "nbformat_minor": 0
}