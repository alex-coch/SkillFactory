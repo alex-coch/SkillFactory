{
  "cells": [
    {
      "cell_type": "code",
      "execution_count": 2,
      "metadata": {
        "_cell_guid": "b1076dfc-b9ad-4769-8c92-a6c4dae69d19",
        "_uuid": "8f2839f25d086af736a60e9eeb907d3b93b6e0e5",
        "id": "U2D2gTdJVp90"
      },
      "outputs": [],
      "source": [
        "import numpy as np\n",
        "import pandas as pd\n",
        "import seaborn as sns\n",
        "import matplotlib.pyplot as plt\n",
        "from collections import Counter"
      ]
    },
    {
      "cell_type": "code",
      "source": [
        "from google.colab import drive\n",
        "drive.mount('/content/drive')"
      ],
      "metadata": {
        "colab": {
          "base_uri": "https://localhost:8080/"
        },
        "id": "CGcjpiMGqyaH",
        "outputId": "0a75a4b6-cd67-406e-e23f-c751eaf2b0ab"
      },
      "execution_count": 3,
      "outputs": [
        {
          "output_type": "stream",
          "name": "stdout",
          "text": [
            "Mounted at /content/drive\n"
          ]
        }
      ]
    },
    {
      "cell_type": "code",
      "execution_count": 4,
      "metadata": {
        "_cell_guid": "79c7e3d0-c299-4dcb-8224-4455121ee9b0",
        "_uuid": "d629ff2d2480ee46fbb7e2d37f6b5fab8052498a",
        "colab": {
          "base_uri": "https://localhost:8080/",
          "height": 441
        },
        "id": "oyGfxL3eVp9-",
        "outputId": "673b053a-f41d-4ff6-b1eb-e3a9c6fd2306"
      },
      "outputs": [
        {
          "output_type": "execute_result",
          "data": {
            "text/plain": [
              "        imdb_id    budget    revenue       original_title  \\\n",
              "1802  tt0162222  90000000  429632142            Cast Away   \n",
              "1501  tt0463034  54000000  130431368   You, Me and Dupree   \n",
              "1295  tt1413495  35000000   13785015             Paranoia   \n",
              "1794  tt0367959  50000000   82169884      Hannibal Rising   \n",
              "866   tt0258463  60000000  214034224  The Bourne Identity   \n",
              "\n",
              "                                                   cast  \\\n",
              "1802  Tom Hanks|Helen Hunt|Chris Noth|Paul Sanchez|L...   \n",
              "1501  Kate Hudson|Owen Wilson|Matt Dillon|Michael Do...   \n",
              "1295  Liam Hemsworth|Harrison Ford|Gary Oldman|Amber...   \n",
              "1794  Gaspard Ulliel|Aaran Thomas|Gong Li|Dominic We...   \n",
              "866   Matt Damon|Franka Potente|Chris Cooper|Clive O...   \n",
              "\n",
              "                     director  \\\n",
              "1802          Robert Zemeckis   \n",
              "1501  Anthony Russo|Joe Russo   \n",
              "1295           Robert Luketic   \n",
              "1794             Peter Webber   \n",
              "866                Doug Liman   \n",
              "\n",
              "                                                tagline  \\\n",
              "1802      At the edge of the world, his journey begins.   \n",
              "1501                   Two's company. Dupree's a crowd.   \n",
              "1295  In a war between kings even a pawn can change ...   \n",
              "1794                           It started with revenge.   \n",
              "866   He was the perfect weapon until he became the ...   \n",
              "\n",
              "                                               overview  runtime  \\\n",
              "1802  Chuck, a top international manager for FedEx, ...      143   \n",
              "1501  After standing in as best man for his longtime...      108   \n",
              "1295  An entry-level employee at a powerful corporat...      106   \n",
              "1794  The story of the early, murderous roots of the...      121   \n",
              "866   Wounded to the brink of death and suffering fr...      119   \n",
              "\n",
              "                             genres  \\\n",
              "1802                Adventure|Drama   \n",
              "1501                 Comedy|Romance   \n",
              "1295                 Drama|Thriller   \n",
              "1794           Crime|Drama|Thriller   \n",
              "866   Action|Drama|Mystery|Thriller   \n",
              "\n",
              "                                   production_companies release_date  \\\n",
              "1802  DreamWorks SKG|Twentieth Century Fox Film Corp...   12/22/2000   \n",
              "1501  Universal Pictures|Kaplan/Perrone Entertainmen...    7/14/2006   \n",
              "1295  Gaumont|Kintop Pictures|Reliance Entertainment...    8/14/2013   \n",
              "1794  Ingenious Film Partners|ETIC Films|Quinta Comm...     2/6/2007   \n",
              "866   Universal Pictures|Kennedy/Marshall Company, T...    6/14/2002   \n",
              "\n",
              "      vote_average  release_year  \n",
              "1802           7.3          2000  \n",
              "1501           5.3          2006  \n",
              "1295           5.6          2013  \n",
              "1794           6.0          2007  \n",
              "866            7.1          2002  "
            ],
            "text/html": [
              "\n",
              "  <div id=\"df-c8cd9eac-778a-40dd-8c6c-5093a811bc1b\">\n",
              "    <div class=\"colab-df-container\">\n",
              "      <div>\n",
              "<style scoped>\n",
              "    .dataframe tbody tr th:only-of-type {\n",
              "        vertical-align: middle;\n",
              "    }\n",
              "\n",
              "    .dataframe tbody tr th {\n",
              "        vertical-align: top;\n",
              "    }\n",
              "\n",
              "    .dataframe thead th {\n",
              "        text-align: right;\n",
              "    }\n",
              "</style>\n",
              "<table border=\"1\" class=\"dataframe\">\n",
              "  <thead>\n",
              "    <tr style=\"text-align: right;\">\n",
              "      <th></th>\n",
              "      <th>imdb_id</th>\n",
              "      <th>budget</th>\n",
              "      <th>revenue</th>\n",
              "      <th>original_title</th>\n",
              "      <th>cast</th>\n",
              "      <th>director</th>\n",
              "      <th>tagline</th>\n",
              "      <th>overview</th>\n",
              "      <th>runtime</th>\n",
              "      <th>genres</th>\n",
              "      <th>production_companies</th>\n",
              "      <th>release_date</th>\n",
              "      <th>vote_average</th>\n",
              "      <th>release_year</th>\n",
              "    </tr>\n",
              "  </thead>\n",
              "  <tbody>\n",
              "    <tr>\n",
              "      <th>1802</th>\n",
              "      <td>tt0162222</td>\n",
              "      <td>90000000</td>\n",
              "      <td>429632142</td>\n",
              "      <td>Cast Away</td>\n",
              "      <td>Tom Hanks|Helen Hunt|Chris Noth|Paul Sanchez|L...</td>\n",
              "      <td>Robert Zemeckis</td>\n",
              "      <td>At the edge of the world, his journey begins.</td>\n",
              "      <td>Chuck, a top international manager for FedEx, ...</td>\n",
              "      <td>143</td>\n",
              "      <td>Adventure|Drama</td>\n",
              "      <td>DreamWorks SKG|Twentieth Century Fox Film Corp...</td>\n",
              "      <td>12/22/2000</td>\n",
              "      <td>7.3</td>\n",
              "      <td>2000</td>\n",
              "    </tr>\n",
              "    <tr>\n",
              "      <th>1501</th>\n",
              "      <td>tt0463034</td>\n",
              "      <td>54000000</td>\n",
              "      <td>130431368</td>\n",
              "      <td>You, Me and Dupree</td>\n",
              "      <td>Kate Hudson|Owen Wilson|Matt Dillon|Michael Do...</td>\n",
              "      <td>Anthony Russo|Joe Russo</td>\n",
              "      <td>Two's company. Dupree's a crowd.</td>\n",
              "      <td>After standing in as best man for his longtime...</td>\n",
              "      <td>108</td>\n",
              "      <td>Comedy|Romance</td>\n",
              "      <td>Universal Pictures|Kaplan/Perrone Entertainmen...</td>\n",
              "      <td>7/14/2006</td>\n",
              "      <td>5.3</td>\n",
              "      <td>2006</td>\n",
              "    </tr>\n",
              "    <tr>\n",
              "      <th>1295</th>\n",
              "      <td>tt1413495</td>\n",
              "      <td>35000000</td>\n",
              "      <td>13785015</td>\n",
              "      <td>Paranoia</td>\n",
              "      <td>Liam Hemsworth|Harrison Ford|Gary Oldman|Amber...</td>\n",
              "      <td>Robert Luketic</td>\n",
              "      <td>In a war between kings even a pawn can change ...</td>\n",
              "      <td>An entry-level employee at a powerful corporat...</td>\n",
              "      <td>106</td>\n",
              "      <td>Drama|Thriller</td>\n",
              "      <td>Gaumont|Kintop Pictures|Reliance Entertainment...</td>\n",
              "      <td>8/14/2013</td>\n",
              "      <td>5.6</td>\n",
              "      <td>2013</td>\n",
              "    </tr>\n",
              "    <tr>\n",
              "      <th>1794</th>\n",
              "      <td>tt0367959</td>\n",
              "      <td>50000000</td>\n",
              "      <td>82169884</td>\n",
              "      <td>Hannibal Rising</td>\n",
              "      <td>Gaspard Ulliel|Aaran Thomas|Gong Li|Dominic We...</td>\n",
              "      <td>Peter Webber</td>\n",
              "      <td>It started with revenge.</td>\n",
              "      <td>The story of the early, murderous roots of the...</td>\n",
              "      <td>121</td>\n",
              "      <td>Crime|Drama|Thriller</td>\n",
              "      <td>Ingenious Film Partners|ETIC Films|Quinta Comm...</td>\n",
              "      <td>2/6/2007</td>\n",
              "      <td>6.0</td>\n",
              "      <td>2007</td>\n",
              "    </tr>\n",
              "    <tr>\n",
              "      <th>866</th>\n",
              "      <td>tt0258463</td>\n",
              "      <td>60000000</td>\n",
              "      <td>214034224</td>\n",
              "      <td>The Bourne Identity</td>\n",
              "      <td>Matt Damon|Franka Potente|Chris Cooper|Clive O...</td>\n",
              "      <td>Doug Liman</td>\n",
              "      <td>He was the perfect weapon until he became the ...</td>\n",
              "      <td>Wounded to the brink of death and suffering fr...</td>\n",
              "      <td>119</td>\n",
              "      <td>Action|Drama|Mystery|Thriller</td>\n",
              "      <td>Universal Pictures|Kennedy/Marshall Company, T...</td>\n",
              "      <td>6/14/2002</td>\n",
              "      <td>7.1</td>\n",
              "      <td>2002</td>\n",
              "    </tr>\n",
              "  </tbody>\n",
              "</table>\n",
              "</div>\n",
              "      <button class=\"colab-df-convert\" onclick=\"convertToInteractive('df-c8cd9eac-778a-40dd-8c6c-5093a811bc1b')\"\n",
              "              title=\"Convert this dataframe to an interactive table.\"\n",
              "              style=\"display:none;\">\n",
              "        \n",
              "  <svg xmlns=\"http://www.w3.org/2000/svg\" height=\"24px\"viewBox=\"0 0 24 24\"\n",
              "       width=\"24px\">\n",
              "    <path d=\"M0 0h24v24H0V0z\" fill=\"none\"/>\n",
              "    <path d=\"M18.56 5.44l.94 2.06.94-2.06 2.06-.94-2.06-.94-.94-2.06-.94 2.06-2.06.94zm-11 1L8.5 8.5l.94-2.06 2.06-.94-2.06-.94L8.5 2.5l-.94 2.06-2.06.94zm10 10l.94 2.06.94-2.06 2.06-.94-2.06-.94-.94-2.06-.94 2.06-2.06.94z\"/><path d=\"M17.41 7.96l-1.37-1.37c-.4-.4-.92-.59-1.43-.59-.52 0-1.04.2-1.43.59L10.3 9.45l-7.72 7.72c-.78.78-.78 2.05 0 2.83L4 21.41c.39.39.9.59 1.41.59.51 0 1.02-.2 1.41-.59l7.78-7.78 2.81-2.81c.8-.78.8-2.07 0-2.86zM5.41 20L4 18.59l7.72-7.72 1.47 1.35L5.41 20z\"/>\n",
              "  </svg>\n",
              "      </button>\n",
              "      \n",
              "  <style>\n",
              "    .colab-df-container {\n",
              "      display:flex;\n",
              "      flex-wrap:wrap;\n",
              "      gap: 12px;\n",
              "    }\n",
              "\n",
              "    .colab-df-convert {\n",
              "      background-color: #E8F0FE;\n",
              "      border: none;\n",
              "      border-radius: 50%;\n",
              "      cursor: pointer;\n",
              "      display: none;\n",
              "      fill: #1967D2;\n",
              "      height: 32px;\n",
              "      padding: 0 0 0 0;\n",
              "      width: 32px;\n",
              "    }\n",
              "\n",
              "    .colab-df-convert:hover {\n",
              "      background-color: #E2EBFA;\n",
              "      box-shadow: 0px 1px 2px rgba(60, 64, 67, 0.3), 0px 1px 3px 1px rgba(60, 64, 67, 0.15);\n",
              "      fill: #174EA6;\n",
              "    }\n",
              "\n",
              "    [theme=dark] .colab-df-convert {\n",
              "      background-color: #3B4455;\n",
              "      fill: #D2E3FC;\n",
              "    }\n",
              "\n",
              "    [theme=dark] .colab-df-convert:hover {\n",
              "      background-color: #434B5C;\n",
              "      box-shadow: 0px 1px 3px 1px rgba(0, 0, 0, 0.15);\n",
              "      filter: drop-shadow(0px 1px 2px rgba(0, 0, 0, 0.3));\n",
              "      fill: #FFFFFF;\n",
              "    }\n",
              "  </style>\n",
              "\n",
              "      <script>\n",
              "        const buttonEl =\n",
              "          document.querySelector('#df-c8cd9eac-778a-40dd-8c6c-5093a811bc1b button.colab-df-convert');\n",
              "        buttonEl.style.display =\n",
              "          google.colab.kernel.accessAllowed ? 'block' : 'none';\n",
              "\n",
              "        async function convertToInteractive(key) {\n",
              "          const element = document.querySelector('#df-c8cd9eac-778a-40dd-8c6c-5093a811bc1b');\n",
              "          const dataTable =\n",
              "            await google.colab.kernel.invokeFunction('convertToInteractive',\n",
              "                                                     [key], {});\n",
              "          if (!dataTable) return;\n",
              "\n",
              "          const docLinkHtml = 'Like what you see? Visit the ' +\n",
              "            '<a target=\"_blank\" href=https://colab.research.google.com/notebooks/data_table.ipynb>data table notebook</a>'\n",
              "            + ' to learn more about interactive tables.';\n",
              "          element.innerHTML = '';\n",
              "          dataTable['output_type'] = 'display_data';\n",
              "          await google.colab.output.renderOutput(dataTable, element);\n",
              "          const docLink = document.createElement('div');\n",
              "          docLink.innerHTML = docLinkHtml;\n",
              "          element.appendChild(docLink);\n",
              "        }\n",
              "      </script>\n",
              "    </div>\n",
              "  </div>\n",
              "  "
            ]
          },
          "metadata": {},
          "execution_count": 4
        }
      ],
      "source": [
        "data = pd.read_csv('/content/drive/MyDrive/Colab Notebooks/SF-DS/movie_bd_v5.csv')\n",
        "data.sample(5)"
      ]
    },
    {
      "cell_type": "code",
      "execution_count": 5,
      "metadata": {
        "colab": {
          "base_uri": "https://localhost:8080/",
          "height": 300
        },
        "id": "CoYUnagMVp-C",
        "outputId": "9a41cbec-aed6-4b41-c468-62cbe06ab6c7"
      },
      "outputs": [
        {
          "output_type": "execute_result",
          "data": {
            "text/plain": [
              "             budget       revenue      runtime  vote_average  release_year\n",
              "count  1.889000e+03  1.889000e+03  1889.000000   1889.000000   1889.000000\n",
              "mean   5.431083e+07  1.553653e+08   109.658549      6.140762   2007.860773\n",
              "std    4.858721e+07  2.146698e+08    18.017041      0.764763      4.468841\n",
              "min    5.000000e+06  2.033165e+06    63.000000      3.300000   2000.000000\n",
              "25%    2.000000e+07  3.456058e+07    97.000000      5.600000   2004.000000\n",
              "50%    3.800000e+07  8.361541e+07   107.000000      6.100000   2008.000000\n",
              "75%    7.200000e+07  1.782626e+08   120.000000      6.600000   2012.000000\n",
              "max    3.800000e+08  2.781506e+09   214.000000      8.100000   2015.000000"
            ],
            "text/html": [
              "\n",
              "  <div id=\"df-a63e3980-611b-484c-b4b4-0a402b134988\">\n",
              "    <div class=\"colab-df-container\">\n",
              "      <div>\n",
              "<style scoped>\n",
              "    .dataframe tbody tr th:only-of-type {\n",
              "        vertical-align: middle;\n",
              "    }\n",
              "\n",
              "    .dataframe tbody tr th {\n",
              "        vertical-align: top;\n",
              "    }\n",
              "\n",
              "    .dataframe thead th {\n",
              "        text-align: right;\n",
              "    }\n",
              "</style>\n",
              "<table border=\"1\" class=\"dataframe\">\n",
              "  <thead>\n",
              "    <tr style=\"text-align: right;\">\n",
              "      <th></th>\n",
              "      <th>budget</th>\n",
              "      <th>revenue</th>\n",
              "      <th>runtime</th>\n",
              "      <th>vote_average</th>\n",
              "      <th>release_year</th>\n",
              "    </tr>\n",
              "  </thead>\n",
              "  <tbody>\n",
              "    <tr>\n",
              "      <th>count</th>\n",
              "      <td>1.889000e+03</td>\n",
              "      <td>1.889000e+03</td>\n",
              "      <td>1889.000000</td>\n",
              "      <td>1889.000000</td>\n",
              "      <td>1889.000000</td>\n",
              "    </tr>\n",
              "    <tr>\n",
              "      <th>mean</th>\n",
              "      <td>5.431083e+07</td>\n",
              "      <td>1.553653e+08</td>\n",
              "      <td>109.658549</td>\n",
              "      <td>6.140762</td>\n",
              "      <td>2007.860773</td>\n",
              "    </tr>\n",
              "    <tr>\n",
              "      <th>std</th>\n",
              "      <td>4.858721e+07</td>\n",
              "      <td>2.146698e+08</td>\n",
              "      <td>18.017041</td>\n",
              "      <td>0.764763</td>\n",
              "      <td>4.468841</td>\n",
              "    </tr>\n",
              "    <tr>\n",
              "      <th>min</th>\n",
              "      <td>5.000000e+06</td>\n",
              "      <td>2.033165e+06</td>\n",
              "      <td>63.000000</td>\n",
              "      <td>3.300000</td>\n",
              "      <td>2000.000000</td>\n",
              "    </tr>\n",
              "    <tr>\n",
              "      <th>25%</th>\n",
              "      <td>2.000000e+07</td>\n",
              "      <td>3.456058e+07</td>\n",
              "      <td>97.000000</td>\n",
              "      <td>5.600000</td>\n",
              "      <td>2004.000000</td>\n",
              "    </tr>\n",
              "    <tr>\n",
              "      <th>50%</th>\n",
              "      <td>3.800000e+07</td>\n",
              "      <td>8.361541e+07</td>\n",
              "      <td>107.000000</td>\n",
              "      <td>6.100000</td>\n",
              "      <td>2008.000000</td>\n",
              "    </tr>\n",
              "    <tr>\n",
              "      <th>75%</th>\n",
              "      <td>7.200000e+07</td>\n",
              "      <td>1.782626e+08</td>\n",
              "      <td>120.000000</td>\n",
              "      <td>6.600000</td>\n",
              "      <td>2012.000000</td>\n",
              "    </tr>\n",
              "    <tr>\n",
              "      <th>max</th>\n",
              "      <td>3.800000e+08</td>\n",
              "      <td>2.781506e+09</td>\n",
              "      <td>214.000000</td>\n",
              "      <td>8.100000</td>\n",
              "      <td>2015.000000</td>\n",
              "    </tr>\n",
              "  </tbody>\n",
              "</table>\n",
              "</div>\n",
              "      <button class=\"colab-df-convert\" onclick=\"convertToInteractive('df-a63e3980-611b-484c-b4b4-0a402b134988')\"\n",
              "              title=\"Convert this dataframe to an interactive table.\"\n",
              "              style=\"display:none;\">\n",
              "        \n",
              "  <svg xmlns=\"http://www.w3.org/2000/svg\" height=\"24px\"viewBox=\"0 0 24 24\"\n",
              "       width=\"24px\">\n",
              "    <path d=\"M0 0h24v24H0V0z\" fill=\"none\"/>\n",
              "    <path d=\"M18.56 5.44l.94 2.06.94-2.06 2.06-.94-2.06-.94-.94-2.06-.94 2.06-2.06.94zm-11 1L8.5 8.5l.94-2.06 2.06-.94-2.06-.94L8.5 2.5l-.94 2.06-2.06.94zm10 10l.94 2.06.94-2.06 2.06-.94-2.06-.94-.94-2.06-.94 2.06-2.06.94z\"/><path d=\"M17.41 7.96l-1.37-1.37c-.4-.4-.92-.59-1.43-.59-.52 0-1.04.2-1.43.59L10.3 9.45l-7.72 7.72c-.78.78-.78 2.05 0 2.83L4 21.41c.39.39.9.59 1.41.59.51 0 1.02-.2 1.41-.59l7.78-7.78 2.81-2.81c.8-.78.8-2.07 0-2.86zM5.41 20L4 18.59l7.72-7.72 1.47 1.35L5.41 20z\"/>\n",
              "  </svg>\n",
              "      </button>\n",
              "      \n",
              "  <style>\n",
              "    .colab-df-container {\n",
              "      display:flex;\n",
              "      flex-wrap:wrap;\n",
              "      gap: 12px;\n",
              "    }\n",
              "\n",
              "    .colab-df-convert {\n",
              "      background-color: #E8F0FE;\n",
              "      border: none;\n",
              "      border-radius: 50%;\n",
              "      cursor: pointer;\n",
              "      display: none;\n",
              "      fill: #1967D2;\n",
              "      height: 32px;\n",
              "      padding: 0 0 0 0;\n",
              "      width: 32px;\n",
              "    }\n",
              "\n",
              "    .colab-df-convert:hover {\n",
              "      background-color: #E2EBFA;\n",
              "      box-shadow: 0px 1px 2px rgba(60, 64, 67, 0.3), 0px 1px 3px 1px rgba(60, 64, 67, 0.15);\n",
              "      fill: #174EA6;\n",
              "    }\n",
              "\n",
              "    [theme=dark] .colab-df-convert {\n",
              "      background-color: #3B4455;\n",
              "      fill: #D2E3FC;\n",
              "    }\n",
              "\n",
              "    [theme=dark] .colab-df-convert:hover {\n",
              "      background-color: #434B5C;\n",
              "      box-shadow: 0px 1px 3px 1px rgba(0, 0, 0, 0.15);\n",
              "      filter: drop-shadow(0px 1px 2px rgba(0, 0, 0, 0.3));\n",
              "      fill: #FFFFFF;\n",
              "    }\n",
              "  </style>\n",
              "\n",
              "      <script>\n",
              "        const buttonEl =\n",
              "          document.querySelector('#df-a63e3980-611b-484c-b4b4-0a402b134988 button.colab-df-convert');\n",
              "        buttonEl.style.display =\n",
              "          google.colab.kernel.accessAllowed ? 'block' : 'none';\n",
              "\n",
              "        async function convertToInteractive(key) {\n",
              "          const element = document.querySelector('#df-a63e3980-611b-484c-b4b4-0a402b134988');\n",
              "          const dataTable =\n",
              "            await google.colab.kernel.invokeFunction('convertToInteractive',\n",
              "                                                     [key], {});\n",
              "          if (!dataTable) return;\n",
              "\n",
              "          const docLinkHtml = 'Like what you see? Visit the ' +\n",
              "            '<a target=\"_blank\" href=https://colab.research.google.com/notebooks/data_table.ipynb>data table notebook</a>'\n",
              "            + ' to learn more about interactive tables.';\n",
              "          element.innerHTML = '';\n",
              "          dataTable['output_type'] = 'display_data';\n",
              "          await google.colab.output.renderOutput(dataTable, element);\n",
              "          const docLink = document.createElement('div');\n",
              "          docLink.innerHTML = docLinkHtml;\n",
              "          element.appendChild(docLink);\n",
              "        }\n",
              "      </script>\n",
              "    </div>\n",
              "  </div>\n",
              "  "
            ]
          },
          "metadata": {},
          "execution_count": 5
        }
      ],
      "source": [
        "data.describe()"
      ]
    },
    {
      "cell_type": "markdown",
      "metadata": {
        "id": "DTIt7ezGVp-G"
      },
      "source": [
        "# Предобработка"
      ]
    },
    {
      "cell_type": "code",
      "execution_count": 6,
      "metadata": {
        "id": "jNb40DwKVp-H"
      },
      "outputs": [],
      "source": [
        "answers = {} # создадим словарь для ответов\n",
        "\n",
        "# тут другие ваши предобработки колонок например:\n",
        "\n",
        "#the time given in the dataset is in string format.\n",
        "#So we need to change this in datetime format\n",
        "# ..."
      ]
    },
    {
      "cell_type": "markdown",
      "metadata": {
        "id": "YxZaH-nPVp-L"
      },
      "source": [
        "# 1. У какого фильма из списка самый большой бюджет?"
      ]
    },
    {
      "cell_type": "markdown",
      "metadata": {
        "id": "Nd-G5gX6Vp-M"
      },
      "source": [
        "Использовать варианты ответов в коде решения запрещено.    \n",
        "Вы думаете и в жизни у вас будут варианты ответов?)"
      ]
    },
    {
      "cell_type": "code",
      "execution_count": 7,
      "metadata": {
        "id": "uVnXAY5RVp-O"
      },
      "outputs": [],
      "source": [
        "# в словарь вставляем номер вопроса и ваш ответ на него\n",
        "# Пример: \n",
        "answers['1'] = ''\n",
        "# запишите свой вариант ответа\n",
        "answers['1'] = 'Pirates of the Caribbean: On Stranger Tides'\n",
        "# если ответили верно, можете добавить комментарий со значком \"+\""
      ]
    },
    {
      "cell_type": "code",
      "execution_count": 8,
      "metadata": {
        "colab": {
          "base_uri": "https://localhost:8080/"
        },
        "id": "dZwb3m28Vp-S",
        "outputId": "ab7b0bd0-ab50-421a-af1d-f993f5560124"
      },
      "outputs": [
        {
          "output_type": "execute_result",
          "data": {
            "text/plain": [
              "723    Pirates of the Caribbean: On Stranger Tides\n",
              "Name: original_title, dtype: object"
            ]
          },
          "metadata": {},
          "execution_count": 8
        }
      ],
      "source": [
        "# тут пишем ваш код для решения данного вопроса:\n",
        "answers['1'] = data[data.budget == data.budget.max()].original_title\n",
        "answers['1']"
      ]
    },
    {
      "cell_type": "markdown",
      "metadata": {
        "id": "K7L3nbRXVp-X"
      },
      "source": [
        "ВАРИАНТ 2"
      ]
    },
    {
      "cell_type": "code",
      "execution_count": 9,
      "metadata": {
        "id": "OGaoQI7rVp-X"
      },
      "outputs": [],
      "source": [
        "# можно добавлять разные варианты решения"
      ]
    },
    {
      "cell_type": "markdown",
      "metadata": {
        "id": "FNRbbI3vVp-c"
      },
      "source": [
        "# 2. Какой из фильмов самый длительный (в минутах)?"
      ]
    },
    {
      "cell_type": "code",
      "execution_count": 10,
      "metadata": {
        "colab": {
          "base_uri": "https://localhost:8080/"
        },
        "id": "vHAoEXNTVp-d",
        "outputId": "0393765c-b0bd-48f5-e2c8-4fac9593e159"
      },
      "outputs": [
        {
          "output_type": "execute_result",
          "data": {
            "text/plain": [
              "1157    Gods and Generals\n",
              "Name: original_title, dtype: object"
            ]
          },
          "metadata": {},
          "execution_count": 10
        }
      ],
      "source": [
        "# думаю логику работы с этим словарем вы уже поняли, \n",
        "# по этому не буду больше его дублировать\n",
        "answers['2'] = data[data.runtime == data.runtime.max()].original_title\n",
        "answers['2']"
      ]
    },
    {
      "cell_type": "markdown",
      "metadata": {
        "id": "bapLlpW8Vp-k"
      },
      "source": [
        "# 3. Какой из фильмов самый короткий (в минутах)?\n",
        "\n",
        "\n",
        "\n"
      ]
    },
    {
      "cell_type": "code",
      "execution_count": 11,
      "metadata": {
        "colab": {
          "base_uri": "https://localhost:8080/"
        },
        "id": "YBxaSHuAVp-l",
        "outputId": "5523ca5b-699f-4014-c9bb-2ba3b202f7f5"
      },
      "outputs": [
        {
          "output_type": "execute_result",
          "data": {
            "text/plain": [
              "768    Winnie the Pooh\n",
              "Name: original_title, dtype: object"
            ]
          },
          "metadata": {},
          "execution_count": 11
        }
      ],
      "source": [
        "answers['3'] = data[data.runtime == data.runtime.min()].original_title\n",
        "answers['3']"
      ]
    },
    {
      "cell_type": "markdown",
      "metadata": {
        "id": "TfQbxbfNVp-p"
      },
      "source": [
        "# 4. Какова средняя длительность фильмов?\n"
      ]
    },
    {
      "cell_type": "code",
      "execution_count": 12,
      "metadata": {
        "colab": {
          "base_uri": "https://localhost:8080/"
        },
        "id": "5K6dKZYVVp-q",
        "outputId": "68f8cb58-bb89-4be5-91c0-a255bb81c625"
      },
      "outputs": [
        {
          "output_type": "execute_result",
          "data": {
            "text/plain": [
              "110"
            ]
          },
          "metadata": {},
          "execution_count": 12
        }
      ],
      "source": [
        "answers['4'] = round(data.runtime.mean())\n",
        "answers['4']"
      ]
    },
    {
      "cell_type": "markdown",
      "metadata": {
        "id": "r5TvbnT_Vp-u"
      },
      "source": [
        "# 5. Каково медианное значение длительности фильмов? "
      ]
    },
    {
      "cell_type": "code",
      "execution_count": 13,
      "metadata": {
        "colab": {
          "base_uri": "https://localhost:8080/"
        },
        "id": "iBROplKnVp-v",
        "outputId": "004e3ccd-d7f4-4429-8453-3c81a6ebb75f"
      },
      "outputs": [
        {
          "output_type": "execute_result",
          "data": {
            "text/plain": [
              "107"
            ]
          },
          "metadata": {},
          "execution_count": 13
        }
      ],
      "source": [
        "answers['5'] = round(data.runtime.median())\n",
        "answers['5']"
      ]
    },
    {
      "cell_type": "markdown",
      "metadata": {
        "id": "39P-deDSVp-y"
      },
      "source": [
        "# 6. Какой самый прибыльный фильм?\n",
        "#### Внимание! Здесь и далее под «прибылью» или «убытками» понимается разность между сборами и бюджетом фильма. (прибыль = сборы - бюджет) в нашем датасете это будет (profit = revenue - budget) "
      ]
    },
    {
      "cell_type": "code",
      "execution_count": 14,
      "metadata": {
        "colab": {
          "base_uri": "https://localhost:8080/"
        },
        "id": "UYZh4T9WVp-y",
        "outputId": "094ca148-7708-4374-8420-6ea74887d9e1"
      },
      "outputs": [
        {
          "output_type": "execute_result",
          "data": {
            "text/plain": [
              "239    Avatar\n",
              "Name: original_title, dtype: object"
            ]
          },
          "metadata": {},
          "execution_count": 14
        }
      ],
      "source": [
        "# лучше код получения столбца profit вынести в Предобработку что в начале\n",
        "data['profit'] = data['revenue'] - data['budget']\n",
        "answers['6'] = data[data.profit == data['profit'].max()].original_title\n",
        "answers['6']\n"
      ]
    },
    {
      "cell_type": "markdown",
      "metadata": {
        "id": "M99JmIX4Vp-2"
      },
      "source": [
        "# 7. Какой фильм самый убыточный? "
      ]
    },
    {
      "cell_type": "code",
      "execution_count": 15,
      "metadata": {
        "colab": {
          "base_uri": "https://localhost:8080/"
        },
        "id": "w-D2m4XPVp-3",
        "outputId": "f1ebc49f-5205-4eae-f8b8-8fcfb2a8143a"
      },
      "outputs": [
        {
          "output_type": "execute_result",
          "data": {
            "text/plain": [
              "1245    The Lone Ranger\n",
              "Name: original_title, dtype: object"
            ]
          },
          "metadata": {},
          "execution_count": 15
        }
      ],
      "source": [
        "answers['7'] = data[data.profit == data['profit'].min()].original_title\n",
        "answers['7']"
      ]
    },
    {
      "cell_type": "markdown",
      "metadata": {
        "id": "wEOM5ERVVp-6"
      },
      "source": [
        "# 8. У скольких фильмов из датасета объем сборов оказался выше бюджета?"
      ]
    },
    {
      "cell_type": "code",
      "execution_count": 16,
      "metadata": {
        "colab": {
          "base_uri": "https://localhost:8080/"
        },
        "id": "y00_7HD6Vp-7",
        "outputId": "c98ca7a0-1342-414c-bcd9-b0d81e27d391"
      },
      "outputs": [
        {
          "output_type": "execute_result",
          "data": {
            "text/plain": [
              "1478"
            ]
          },
          "metadata": {},
          "execution_count": 16
        }
      ],
      "source": [
        "answers['8'] = data[data.profit > 0].count()[0]\n",
        "answers['8']"
      ]
    },
    {
      "cell_type": "markdown",
      "metadata": {
        "id": "xhpspA9KVp_A"
      },
      "source": [
        "# 9. Какой фильм оказался самым кассовым в 2008 году?"
      ]
    },
    {
      "cell_type": "code",
      "execution_count": 17,
      "metadata": {
        "colab": {
          "base_uri": "https://localhost:8080/"
        },
        "id": "MoUyQr9RVp_B",
        "outputId": "4f4c5fa9-bb46-4c1c-e135-2b1a3be80689"
      },
      "outputs": [
        {
          "output_type": "execute_result",
          "data": {
            "text/plain": [
              "599    The Dark Knight\n",
              "Name: original_title, dtype: object"
            ]
          },
          "metadata": {},
          "execution_count": 17
        }
      ],
      "source": [
        "answers['9'] = data[data[data.release_year == 2008].profit.max() == data.profit].original_title\n",
        "answers['9']"
      ]
    },
    {
      "cell_type": "markdown",
      "metadata": {
        "id": "Zi4hDKidVp_F"
      },
      "source": [
        "# 10. Самый убыточный фильм за период с 2012 по 2014 г. (включительно)?\n"
      ]
    },
    {
      "cell_type": "code",
      "execution_count": 18,
      "metadata": {
        "id": "XqyRmufJVp_F",
        "colab": {
          "base_uri": "https://localhost:8080/"
        },
        "outputId": "bfcfa6a7-0faa-423b-cd8a-b0a8dcd5f777"
      },
      "outputs": [
        {
          "output_type": "execute_result",
          "data": {
            "text/plain": [
              "1245    The Lone Ranger\n",
              "Name: original_title, dtype: object"
            ]
          },
          "metadata": {},
          "execution_count": 18
        }
      ],
      "source": [
        "answers['10'] = data[data[(data.release_year >= 2012) & (data.release_year <= 2014)].profit.min() == data.profit].original_title\n",
        "answers['10']"
      ]
    },
    {
      "cell_type": "markdown",
      "metadata": {
        "id": "EA7Sa9dkVp_I"
      },
      "source": [
        "# 11. Какого жанра фильмов больше всего?"
      ]
    },
    {
      "cell_type": "code",
      "execution_count": 19,
      "metadata": {
        "id": "zsJAwJ8QVp_J"
      },
      "outputs": [],
      "source": [
        "# эту задачу тоже можно решать разными подходами, попробуй реализовать разные варианты\n",
        "# если будешь добавлять функцию - выноси ее в предобработку что в начале"
      ]
    },
    {
      "cell_type": "markdown",
      "metadata": {
        "id": "Ax6g2C8SVp_M"
      },
      "source": [
        "ВАРИАНТ 2"
      ]
    },
    {
      "cell_type": "code",
      "execution_count": 20,
      "metadata": {
        "colab": {
          "base_uri": "https://localhost:8080/",
          "height": 36
        },
        "id": "otO3SbrSVp_N",
        "outputId": "a47bde62-7a62-4546-e025-65368ab42933"
      },
      "outputs": [
        {
          "output_type": "execute_result",
          "data": {
            "text/plain": [
              "'Comedy'"
            ],
            "application/vnd.google.colaboratory.intrinsic+json": {
              "type": "string"
            }
          },
          "metadata": {},
          "execution_count": 20
        }
      ],
      "source": [
        "answers['11'] = data.genres.value_counts().index[0]\n",
        "answers['11'] "
      ]
    },
    {
      "cell_type": "markdown",
      "metadata": {
        "id": "T9_bPWpkVp_Q"
      },
      "source": [
        "# 12. Фильмы какого жанра чаще всего становятся прибыльными? "
      ]
    },
    {
      "cell_type": "code",
      "execution_count": 21,
      "metadata": {
        "colab": {
          "base_uri": "https://localhost:8080/",
          "height": 0
        },
        "id": "Tmt8MaK1Vp_R",
        "outputId": "c90d1d47-6db8-4e10-b961-18b6f38592b8"
      },
      "outputs": [
        {
          "output_type": "execute_result",
          "data": {
            "text/plain": [
              "'Comedy'"
            ],
            "application/vnd.google.colaboratory.intrinsic+json": {
              "type": "string"
            }
          },
          "metadata": {},
          "execution_count": 21
        }
      ],
      "source": [
        "answers['12'] = data[data.profit > 0].genres.value_counts().index[0]\n",
        "answers['12'] "
      ]
    },
    {
      "cell_type": "markdown",
      "metadata": {
        "id": "0F23bgsDVp_U"
      },
      "source": [
        "# 13. У какого режиссера самые большие суммарные кассовые сборы?"
      ]
    },
    {
      "cell_type": "code",
      "execution_count": 22,
      "metadata": {
        "colab": {
          "base_uri": "https://localhost:8080/",
          "height": 0
        },
        "id": "K6Z3J8ygVp_X",
        "outputId": "3baf1620-b4c7-4a2d-d20b-d7b212cf9043"
      },
      "outputs": [
        {
          "output_type": "execute_result",
          "data": {
            "text/plain": [
              "'James Cameron'"
            ],
            "application/vnd.google.colaboratory.intrinsic+json": {
              "type": "string"
            }
          },
          "metadata": {},
          "execution_count": 22
        }
      ],
      "source": [
        "answers['13'] = data.groupby(['director']).revenue.max().sort_values(ascending=False).index[0]\n",
        "answers['13']"
      ]
    },
    {
      "cell_type": "markdown",
      "metadata": {
        "id": "PsYC9FgRVp_a"
      },
      "source": [
        "# 14. Какой режисер снял больше всего фильмов в стиле Action?"
      ]
    },
    {
      "cell_type": "code",
      "execution_count": 23,
      "metadata": {
        "colab": {
          "base_uri": "https://localhost:8080/"
        },
        "id": "wd2M-wHeVp_b",
        "outputId": "f0817c56-7f10-4ed2-bbb9-8ec69e30fc6f"
      },
      "outputs": [
        {
          "output_type": "execute_result",
          "data": {
            "text/plain": [
              "Rob Cohen                2\n",
              "Christopher McQuarrie    1\n",
              "Kevin Macdonald          1\n",
              "Paul McGuigan            1\n",
              "Ridley Scott             1\n",
              "Andy Tennant             1\n",
              "Renny Harlin             1\n",
              "John Moore               1\n",
              "Robert Rodriguez         1\n",
              "Harald Zwart             1\n",
              "Rob Bowman               1\n",
              "Sydney Pollack           1\n",
              "Andrew Davis             1\n",
              "Joseph Kahn              1\n",
              "Marcus Nispel            1\n",
              "Name: director, dtype: int64"
            ]
          },
          "metadata": {},
          "execution_count": 23
        }
      ],
      "source": [
        "answers['14'] = data[data.genres == 'Action'].director.value_counts()\n",
        "answers['14']"
      ]
    },
    {
      "cell_type": "markdown",
      "metadata": {
        "id": "PQ0KciD7Vp_f"
      },
      "source": [
        "# 15. Фильмы с каким актером принесли самые высокие кассовые сборы в 2012 году? "
      ]
    },
    {
      "cell_type": "code",
      "execution_count": 24,
      "metadata": {
        "colab": {
          "base_uri": "https://localhost:8080/",
          "height": 36
        },
        "id": "aga62oeKVp_g",
        "outputId": "342d98f4-4b28-42b9-d9f0-069f36fa78f8"
      },
      "outputs": [
        {
          "output_type": "execute_result",
          "data": {
            "text/plain": [
              "'Robert Downey Jr.|Chris Evans|Mark Ruffalo|Chris Hemsworth|Scarlett Johansson'"
            ],
            "application/vnd.google.colaboratory.intrinsic+json": {
              "type": "string"
            }
          },
          "metadata": {},
          "execution_count": 24
        }
      ],
      "source": [
        "answers['15'] = data[data.release_year == 2012]\n",
        "answers['15'] = ''.join(answers['15'][answers['15'].revenue == answers['15'].revenue.max()].cast.values)\n",
        "answers['15']"
      ]
    },
    {
      "cell_type": "markdown",
      "metadata": {
        "id": "mWHyyL7QVp_j"
      },
      "source": [
        "# 16. Какой актер снялся в большем количестве высокобюджетных фильмов?"
      ]
    },
    {
      "cell_type": "code",
      "execution_count": 61,
      "metadata": {
        "colab": {
          "base_uri": "https://localhost:8080/"
        },
        "id": "qQtmHKTFVp_k",
        "outputId": "91aa67b3-ea62-4902-9943-ea8bd17178fb"
      },
      "outputs": [
        {
          "output_type": "stream",
          "name": "stdout",
          "text": [
            "15\n",
            "14\n",
            "18\n",
            "16\n",
            "17\n"
          ]
        }
      ],
      "source": [
        "# data[data.budget > data.budget.mean()].groupby('cast').imdb_id.count().sort_values(ascending=False)\n",
        "data16 = data[data.budget > data.budget.mean()]\n",
        "print(data16[data16.cast.str.contains('Tom Cruise', regex=False)].count()[0])\n",
        "print(data16[data16.cast.str.contains('Mark Wahlberg', regex=False)].count()[0])\n",
        "print(data16[data16.cast.str.contains('Matt Damon', regex=False)].count()[0])\n",
        "print(data16[data16.cast.str.contains('Angelina Jolie', regex=False)].count()[0])\n",
        "print(data16[data16.cast.str.contains('Adam Sandler', regex=False)].count()[0])\n",
        "answers['16'] = 'Adam Sandler'"
      ]
    },
    {
      "cell_type": "markdown",
      "metadata": {
        "id": "NIh6AaW5Vp_n"
      },
      "source": [
        "# 17. В фильмах какого жанра больше всего снимался Nicolas Cage? "
      ]
    },
    {
      "cell_type": "code",
      "execution_count": 26,
      "metadata": {
        "colab": {
          "base_uri": "https://localhost:8080/"
        },
        "id": "H74SJDIBVp_n",
        "outputId": "3240f557-7093-4c51-d89c-f2318e8682e7"
      },
      "outputs": [
        {
          "output_type": "stream",
          "name": "stdout",
          "text": [
            "12\n",
            "17\n",
            "15\n",
            "7\n",
            "10\n"
          ]
        }
      ],
      "source": [
        "data17 = data[data.cast.str.contains('Nicolas Cage', regex=False)]\n",
        "print(data17[data17.genres.str.contains('Drama', regex=False)].count()[0])\n",
        "print(data17[data17.genres.str.contains('Action', regex=False)].count()[0])\n",
        "print(data17[data17.genres.str.contains('Thriller', regex=False)].count()[0])\n",
        "print(data17[data17.genres.str.contains('Adventure', regex=False)].count()[0])\n",
        "print(data17[data17.genres.str.contains('Crime', regex=False)].count()[0])\n",
        "answers['17'] = 'Action'"
      ]
    },
    {
      "cell_type": "markdown",
      "metadata": {
        "id": "RqOmPRfWVp_q"
      },
      "source": [
        "# 18. Самый убыточный фильм от Paramount Pictures"
      ]
    },
    {
      "cell_type": "code",
      "execution_count": 86,
      "metadata": {
        "id": "9E_B0Y96Vp_r",
        "colab": {
          "base_uri": "https://localhost:8080/"
        },
        "outputId": "0ad70405-926c-4267-90c5-558642972971"
      },
      "outputs": [
        {
          "output_type": "stream",
          "name": "stderr",
          "text": [
            "/usr/local/lib/python3.7/dist-packages/ipykernel_launcher.py:3: UserWarning: Boolean Series key will be reindexed to match DataFrame index.\n",
            "  This is separate from the ipykernel package so we can avoid doing imports until\n"
          ]
        },
        {
          "output_type": "execute_result",
          "data": {
            "text/plain": [
              "925    K-19: The Widowmaker\n",
              "Name: original_title, dtype: object"
            ]
          },
          "metadata": {},
          "execution_count": 86
        }
      ],
      "source": [
        "data18 = data[data.production_companies.str.contains('Paramount Pictures', regex=False)]\n",
        "# data18['income'] = data18['revenue'] - data18['budget']\n",
        "answers['18'] = data18[data['profit'] == data18['profit'].min()].original_title\n",
        "answers['18']"
      ]
    },
    {
      "cell_type": "markdown",
      "metadata": {
        "id": "vS8Ur6ddVp_u"
      },
      "source": [
        "# 19. Какой год стал самым успешным по суммарным кассовым сборам?"
      ]
    },
    {
      "cell_type": "code",
      "execution_count": 70,
      "metadata": {
        "id": "Dnbt4GdIVp_v",
        "colab": {
          "base_uri": "https://localhost:8080/"
        },
        "outputId": "3509f046-f990-47bd-fc41-81cd44322138"
      },
      "outputs": [
        {
          "output_type": "execute_result",
          "data": {
            "text/plain": [
              "2015"
            ]
          },
          "metadata": {},
          "execution_count": 70
        }
      ],
      "source": [
        "answers['19'] = data.groupby('release_year').revenue.sum().sort_values(ascending=False).index[0]\n",
        "answers['19']"
      ]
    },
    {
      "cell_type": "markdown",
      "metadata": {
        "id": "JAzJh4QAVp_z"
      },
      "source": [
        "# 20. Какой самый прибыльный год для студии Warner Bros?"
      ]
    },
    {
      "cell_type": "code",
      "execution_count": 73,
      "metadata": {
        "id": "wgVu02DEVp_0",
        "colab": {
          "base_uri": "https://localhost:8080/",
          "height": 36
        },
        "outputId": "32558070-fc6a-4b5a-ff51-bb0a1df88a1b"
      },
      "outputs": [
        {
          "output_type": "execute_result",
          "data": {
            "text/plain": [
              "'2011'"
            ],
            "application/vnd.google.colaboratory.intrinsic+json": {
              "type": "string"
            }
          },
          "metadata": {},
          "execution_count": 73
        }
      ],
      "source": [
        "data20 = data[data.production_companies.str.contains('Warner Bros', regex=False)]\n",
        "answers['20'] = data20.groupby('release_date').revenue.sum().sort_values(ascending=False).index[0][-4:]\n",
        "answers['20']"
      ]
    },
    {
      "cell_type": "markdown",
      "metadata": {
        "id": "8Im1S2HRVp_4"
      },
      "source": [
        "# 21. В каком месяце за все годы суммарно вышло больше всего фильмов?"
      ]
    },
    {
      "cell_type": "code",
      "execution_count": 76,
      "metadata": {
        "id": "lev6TH7gVp_4",
        "colab": {
          "base_uri": "https://localhost:8080/",
          "height": 36
        },
        "outputId": "d5c1ba36-dabb-462f-e151-1131dcf8d16b"
      },
      "outputs": [
        {
          "output_type": "execute_result",
          "data": {
            "text/plain": [
              "'9'"
            ],
            "application/vnd.google.colaboratory.intrinsic+json": {
              "type": "string"
            }
          },
          "metadata": {},
          "execution_count": 76
        }
      ],
      "source": [
        "data['month'] = data['release_date'].str[0:2]\n",
        "# data.month\n",
        "answers['21'] = data.groupby('month').original_title.count().sort_values(ascending=False).index[0][0:1]\n",
        "answers['21']"
      ]
    },
    {
      "cell_type": "markdown",
      "metadata": {
        "id": "uAJsZ_NeVp_7"
      },
      "source": [
        "# 22. Сколько суммарно вышло фильмов летом? (за июнь, июль, август)"
      ]
    },
    {
      "cell_type": "code",
      "execution_count": 78,
      "metadata": {
        "id": "Aa-hEREoVp_8",
        "colab": {
          "base_uri": "https://localhost:8080/"
        },
        "outputId": "e3170108-2e01-413a-cbd5-6e08b19582a2"
      },
      "outputs": [
        {
          "output_type": "execute_result",
          "data": {
            "text/plain": [
              "450"
            ]
          },
          "metadata": {},
          "execution_count": 78
        }
      ],
      "source": [
        "answers['22'] = data[(data['month'] == '6/') | (data['month'] == '7/') | (data['month'] == '8/')].count()[0]\n",
        "answers['22'] "
      ]
    },
    {
      "cell_type": "markdown",
      "metadata": {
        "id": "G94ppOY1VqAA"
      },
      "source": [
        "# 23. Для какого режиссера зима – самое продуктивное время года? "
      ]
    },
    {
      "cell_type": "code",
      "execution_count": 80,
      "metadata": {
        "id": "RhNTsamuVqAB",
        "colab": {
          "base_uri": "https://localhost:8080/",
          "height": 36
        },
        "outputId": "404307cc-7c9a-4980-f519-ad218061eed6"
      },
      "outputs": [
        {
          "output_type": "execute_result",
          "data": {
            "text/plain": [
              "'Peter Jackson'"
            ],
            "application/vnd.google.colaboratory.intrinsic+json": {
              "type": "string"
            }
          },
          "metadata": {},
          "execution_count": 80
        }
      ],
      "source": [
        "answers['23'] = data[(data['month'] == '1/') | (data['month'] == '2/') | (data['month'] == '12')].groupby('director').original_title.count().sort_values(ascending=False).index[0]\n",
        "answers['23']"
      ]
    },
    {
      "cell_type": "markdown",
      "metadata": {
        "id": "RBo0JVjVVqAF"
      },
      "source": [
        "# 24. Какая студия дает самые длинные названия своим фильмам по количеству символов?"
      ]
    },
    {
      "cell_type": "code",
      "execution_count": 81,
      "metadata": {
        "id": "QRGS8L0iVqAG",
        "colab": {
          "base_uri": "https://localhost:8080/"
        },
        "outputId": "0b853a79-f903-4a1a-be4e-04871e395723"
      },
      "outputs": [
        {
          "output_type": "execute_result",
          "data": {
            "text/plain": [
              "1448    Twentieth Century Fox Film Corporation|Four By...\n",
              "Name: production_companies, dtype: object"
            ]
          },
          "metadata": {},
          "execution_count": 81
        }
      ],
      "source": [
        "data['len'] = data.original_title.str.len()\n",
        "# data.iloc[data.original_title.str.len().sort_values(ascending=False)]\n",
        "# .groupby('director').original_title.count()\n",
        "answers['24'] = data[data.len == data.len.max()].production_companies\n",
        "answers['24']  "
      ]
    },
    {
      "cell_type": "markdown",
      "metadata": {
        "id": "9G0hbvR7VqAK"
      },
      "source": [
        "# 25. Описание фильмов какой студии в среднем самые длинные по количеству слов?"
      ]
    },
    {
      "cell_type": "code",
      "execution_count": 82,
      "metadata": {
        "id": "Ge2GsLNxVqAK",
        "colab": {
          "base_uri": "https://localhost:8080/"
        },
        "outputId": "531e188e-b3d0-4e7c-c10f-6f303a774c8a"
      },
      "outputs": [
        {
          "output_type": "execute_result",
          "data": {
            "text/plain": [
              "production_companies\n",
              "Twentieth Century Fox Film Corporation|Four By Two Productions                                                          83.0\n",
              "Walt Disney|Walden Media                                                                                                62.0\n",
              "Walt Disney Pictures|21 Laps Entertainment|Jim Henson Company, The                                                      59.0\n",
              "Plan B Entertainment|Virtual Studios|Scott Free Productions|Alberta Film Entertainment|Warner Bros.                     58.0\n",
              "Dune Entertainment|Fox 2000 Pictures|Walden Media                                                                       56.0\n",
              "                                                                                                                        ... \n",
              "FilmNation Entertainment|Everest Entertainment                                                                           3.0\n",
              "Ixtlan Productions|Emperor Motion Pictures|Global Entertainment Group                                                    2.0\n",
              "Columbia Pictures|Relativity Media                                                                                       2.0\n",
              "Twentieth Century Fox Film Corporation|Donners' Company|Bad Hat Harry Productions|Marvel Enterprises|XM2 Productions     2.0\n",
              "Focus Films|Starz Animation|Relativity Media|Tim Burton Productions|Arc Productions                                      1.0\n",
              "Name: len, Length: 1624, dtype: float64"
            ]
          },
          "metadata": {},
          "execution_count": 82
        }
      ],
      "source": [
        "answers['25'] = data.groupby('production_companies').len.mean().sort_values(ascending=False)\n",
        "answers['25']"
      ]
    },
    {
      "cell_type": "markdown",
      "metadata": {
        "id": "FJ1AFt90VqAP"
      },
      "source": [
        "# 26. Какие фильмы входят в 1 процент лучших по рейтингу? \n",
        "по vote_average"
      ]
    },
    {
      "cell_type": "code",
      "execution_count": 83,
      "metadata": {
        "id": "8qmJVq4CVqAQ",
        "colab": {
          "base_uri": "https://localhost:8080/"
        },
        "outputId": "fb9939ff-6da6-4313-84c7-421743ef4a20"
      },
      "outputs": [
        {
          "output_type": "execute_result",
          "data": {
            "text/plain": [
              "599                                   The Dark Knight\n",
              "118                                      Interstellar\n",
              "125                                The Imitation Game\n",
              "9                                          Inside Out\n",
              "34                                               Room\n",
              "1183                          The Wolf of Wall Street\n",
              "128                                         Gone Girl\n",
              "1191                                 12 Years a Slave\n",
              "119                           Guardians of the Galaxy\n",
              "1081    The Lord of the Rings: The Return of the King\n",
              "Name: original_title, dtype: object"
            ]
          },
          "metadata": {},
          "execution_count": 83
        }
      ],
      "source": [
        "# data[data == data.vote_average.sort_values(ascending=False)]\n",
        "data26 = data.sort_values(by=['vote_average'], ascending=False)\n",
        "# data.vote_average.describe()\n",
        "# data[data.vote_average > 8]\n",
        "answers['26'] = data26.original_title.head(10)\n",
        "answers['26']\n"
      ]
    },
    {
      "cell_type": "markdown",
      "metadata": {
        "id": "MdXsUXbCVqAV"
      },
      "source": [
        "# 27. Какие актеры чаще всего снимаются в одном фильме вместе?\n"
      ]
    },
    {
      "cell_type": "markdown",
      "metadata": {
        "id": "4ymnxEVoVqAW"
      },
      "source": [
        "ВАРИАНТ 2"
      ]
    },
    {
      "cell_type": "code",
      "source": [
        "data['cast']"
      ],
      "metadata": {
        "colab": {
          "base_uri": "https://localhost:8080/"
        },
        "id": "vMU8gbyz6769",
        "outputId": "4b7570c2-2253-402a-e611-cc7a3ef43d67"
      },
      "execution_count": 89,
      "outputs": [
        {
          "output_type": "execute_result",
          "data": {
            "text/plain": [
              "0       Chris Pratt|Bryce Dallas Howard|Irrfan Khan|Vi...\n",
              "1       Tom Hardy|Charlize Theron|Hugh Keays-Byrne|Nic...\n",
              "2       Shailene Woodley|Theo James|Kate Winslet|Ansel...\n",
              "3       Harrison Ford|Mark Hamill|Carrie Fisher|Adam D...\n",
              "4       Vin Diesel|Paul Walker|Jason Statham|Michelle ...\n",
              "                              ...                        \n",
              "1884    Patrick Stewart|Hugh Jackman|Ian McKellen|Hall...\n",
              "1885    Richard E. Grant|Jonathan Lipnicki|Jim Carter|...\n",
              "1886    Rene Russo|Jason Alexander|Piper Perabo|Randy ...\n",
              "1887    Meg Ryan|Diane Keaton|Lisa Kudrow|Walter Matth...\n",
              "1888    Susan Ward|Lori Heuring|Matthew Settle|Nathan ...\n",
              "Name: cast, Length: 1889, dtype: object"
            ]
          },
          "metadata": {},
          "execution_count": 89
        }
      ]
    },
    {
      "cell_type": "markdown",
      "metadata": {
        "id": "U0nONFnGVqAX"
      },
      "source": [
        "# Submission"
      ]
    },
    {
      "cell_type": "code",
      "execution_count": 84,
      "metadata": {
        "id": "IfcaRO9-VqAX",
        "outputId": "b0182f28-e72c-407f-f176-31a6a37d001d",
        "colab": {
          "base_uri": "https://localhost:8080/"
        }
      },
      "outputs": [
        {
          "output_type": "execute_result",
          "data": {
            "text/plain": [
              "{'1': 723    Pirates of the Caribbean: On Stranger Tides\n",
              " Name: original_title, dtype: object, '10': 1245    The Lone Ranger\n",
              " Name: original_title, dtype: object, '11': 'Comedy', '12': 'Comedy', '13': 'James Cameron', '14': Rob Cohen                2\n",
              " Christopher McQuarrie    1\n",
              " Kevin Macdonald          1\n",
              " Paul McGuigan            1\n",
              " Ridley Scott             1\n",
              " Andy Tennant             1\n",
              " Renny Harlin             1\n",
              " John Moore               1\n",
              " Robert Rodriguez         1\n",
              " Harald Zwart             1\n",
              " Rob Bowman               1\n",
              " Sydney Pollack           1\n",
              " Andrew Davis             1\n",
              " Joseph Kahn              1\n",
              " Marcus Nispel            1\n",
              " Name: director, dtype: int64, '15': 'Robert Downey Jr.|Chris Evans|Mark Ruffalo|Chris Hemsworth|Scarlett Johansson', '16': 'Adam Sandler', '17': 925    K-19: The Widowmaker\n",
              " Name: original_title, dtype: object, '19': 2015, '2': 1157    Gods and Generals\n",
              " Name: original_title, dtype: object, '20': '2011', '21': '9', '22': 450, '23': 'Peter Jackson', '24': 1448    Twentieth Century Fox Film Corporation|Four By...\n",
              " Name: production_companies, dtype: object, '25': production_companies\n",
              " Twentieth Century Fox Film Corporation|Four By Two Productions                                                          83.0\n",
              " Walt Disney|Walden Media                                                                                                62.0\n",
              " Walt Disney Pictures|21 Laps Entertainment|Jim Henson Company, The                                                      59.0\n",
              " Plan B Entertainment|Virtual Studios|Scott Free Productions|Alberta Film Entertainment|Warner Bros.                     58.0\n",
              " Dune Entertainment|Fox 2000 Pictures|Walden Media                                                                       56.0\n",
              "                                                                                                                         ... \n",
              " FilmNation Entertainment|Everest Entertainment                                                                           3.0\n",
              " Ixtlan Productions|Emperor Motion Pictures|Global Entertainment Group                                                    2.0\n",
              " Columbia Pictures|Relativity Media                                                                                       2.0\n",
              " Twentieth Century Fox Film Corporation|Donners' Company|Bad Hat Harry Productions|Marvel Enterprises|XM2 Productions     2.0\n",
              " Focus Films|Starz Animation|Relativity Media|Tim Burton Productions|Arc Productions                                      1.0\n",
              " Name: len, Length: 1624, dtype: float64, '26': 599                                   The Dark Knight\n",
              " 118                                      Interstellar\n",
              " 125                                The Imitation Game\n",
              " 9                                          Inside Out\n",
              " 34                                               Room\n",
              " 1183                          The Wolf of Wall Street\n",
              " 128                                         Gone Girl\n",
              " 1191                                 12 Years a Slave\n",
              " 119                           Guardians of the Galaxy\n",
              " 1081    The Lord of the Rings: The Return of the King\n",
              " Name: original_title, dtype: object, '3': 768    Winnie the Pooh\n",
              " Name: original_title, dtype: object, '4': 110, '5': 107, '6': 239    Avatar\n",
              " Name: original_title, dtype: object, '7': 1245    The Lone Ranger\n",
              " Name: original_title, dtype: object, '8': 1478, '9': 599    The Dark Knight\n",
              " Name: original_title, dtype: object}"
            ]
          },
          "metadata": {},
          "execution_count": 84
        }
      ],
      "source": [
        "# в конце можно посмотреть свои ответы к каждому вопросу\n",
        "answers"
      ]
    },
    {
      "cell_type": "code",
      "execution_count": 87,
      "metadata": {
        "id": "SiRmHPl8VqAd",
        "colab": {
          "base_uri": "https://localhost:8080/"
        },
        "outputId": "a7bf93b2-efaf-41c6-e648-ab39d2f3ede6"
      },
      "outputs": [
        {
          "output_type": "execute_result",
          "data": {
            "text/plain": [
              "26"
            ]
          },
          "metadata": {},
          "execution_count": 87
        }
      ],
      "source": [
        "# и убедиться что ни чего не пропустил)\n",
        "len(answers)"
      ]
    },
    {
      "cell_type": "code",
      "execution_count": null,
      "metadata": {
        "id": "uCfuTkRbVqAg"
      },
      "outputs": [],
      "source": [
        ""
      ]
    },
    {
      "cell_type": "code",
      "execution_count": null,
      "metadata": {
        "id": "Vwx3NrkSVqAl"
      },
      "outputs": [],
      "source": [
        ""
      ]
    }
  ],
  "metadata": {
    "colab": {
      "name": "Movies_IMBD_v4.1_TEMPLATE.ipynb",
      "provenance": []
    },
    "kernelspec": {
      "display_name": "Python 3",
      "language": "python",
      "name": "python3"
    },
    "language_info": {
      "codemirror_mode": {
        "name": "ipython",
        "version": 3
      },
      "file_extension": ".py",
      "mimetype": "text/x-python",
      "name": "python",
      "nbconvert_exporter": "python",
      "pygments_lexer": "ipython3",
      "version": "3.7.4"
    }
  },
  "nbformat": 4,
  "nbformat_minor": 0
}