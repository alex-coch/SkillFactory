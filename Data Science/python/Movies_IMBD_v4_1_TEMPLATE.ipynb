{
  "cells": [
    {
      "cell_type": "code",
      "execution_count": 1,
      "metadata": {
        "_cell_guid": "b1076dfc-b9ad-4769-8c92-a6c4dae69d19",
        "_uuid": "8f2839f25d086af736a60e9eeb907d3b93b6e0e5",
        "id": "U2D2gTdJVp90"
      },
      "outputs": [],
      "source": [
        "import numpy as np\n",
        "import pandas as pd\n",
        "import seaborn as sns\n",
        "import matplotlib.pyplot as plt\n",
        "from collections import Counter"
      ]
    },
    {
      "cell_type": "code",
      "source": [
        "from google.colab import drive\n",
        "drive.mount('/content/drive')"
      ],
      "metadata": {
        "colab": {
          "base_uri": "https://localhost:8080/"
        },
        "id": "CGcjpiMGqyaH",
        "outputId": "16cef3a2-598f-4b15-f251-e5d99b0f2196"
      },
      "execution_count": 2,
      "outputs": [
        {
          "output_type": "stream",
          "name": "stdout",
          "text": [
            "Mounted at /content/drive\n"
          ]
        }
      ]
    },
    {
      "cell_type": "code",
      "execution_count": 3,
      "metadata": {
        "_cell_guid": "79c7e3d0-c299-4dcb-8224-4455121ee9b0",
        "_uuid": "d629ff2d2480ee46fbb7e2d37f6b5fab8052498a",
        "colab": {
          "base_uri": "https://localhost:8080/",
          "height": 528
        },
        "id": "oyGfxL3eVp9-",
        "outputId": "75d69f6f-2bf4-4312-a28c-473d08889bbc"
      },
      "outputs": [
        {
          "output_type": "execute_result",
          "data": {
            "text/plain": [
              "        imdb_id     budget    revenue                      original_title  \\\n",
              "1179  tt1981115  170000000  479765000                Thor: The Dark World   \n",
              "1876  tt0144964   25000000   15843608                 Highlander: Endgame   \n",
              "195   tt1823664   65000000  133821816                               Annie   \n",
              "720   tt0458339  140000000  370569774  Captain America: The First Avenger   \n",
              "877   tt0133240  140000000  109578115                     Treasure Planet   \n",
              "\n",
              "                                                   cast  \\\n",
              "1179  Chris Hemsworth|Natalie Portman|Tom Hiddleston...   \n",
              "1876  Christopher Lambert|Bruce Payne|Adrian Paul|Do...   \n",
              "195   QuvenzhanÃ© Wallis|Jamie Foxx|Rose Byrne|Camer...   \n",
              "720   Chris Evans|Hugo Weaving|Tommy Lee Jones|Hayle...   \n",
              "877   Joseph Gordon-Levitt|David Hyde Pierce|Emma Th...   \n",
              "\n",
              "                      director  \\\n",
              "1179               Alan Taylor   \n",
              "1876       Douglas Aarniokoski   \n",
              "195                 Will Gluck   \n",
              "720               Joe Johnston   \n",
              "877   Ron Clements|John Musker   \n",
              "\n",
              "                                                tagline  \\\n",
              "1179                            Delve into the darkness   \n",
              "1876  It will take two immortals to defeat the ultim...   \n",
              "195                              It's a Hard Knock Life   \n",
              "720                         When patriots become heroes   \n",
              "877                    Find your place in the universe.   \n",
              "\n",
              "                                               overview  runtime  \\\n",
              "1179  Thor fights to restore order across the cosmos...      112   \n",
              "1876  Immortals Connor and Duncan Macleod join force...       87   \n",
              "195   Ever since her parents left her as a baby, lit...      119   \n",
              "720   Predominantly set during World War II, Steve R...      124   \n",
              "877   When space galleon cabin boy Jim Hawkins disco...       95   \n",
              "\n",
              "                                                 genres  \\\n",
              "1179                           Action|Adventure|Fantasy   \n",
              "1876                     Action|Fantasy|Science Fiction   \n",
              "195                           Music|Comedy|Drama|Family   \n",
              "720                    Action|Adventure|Science Fiction   \n",
              "877   Adventure|Animation|Family|Fantasy|Science Fic...   \n",
              "\n",
              "                                   production_companies release_date  \\\n",
              "1179                                     Marvel Studios   10/29/2013   \n",
              "1876           Davis-Panzer Productions|Dimension Films     9/1/2000   \n",
              "195   Columbia Pictures|Sony Pictures Entertainment ...   12/19/2014   \n",
              "720                                      Marvel Studios    7/22/2011   \n",
              "877   Walt Disney Pictures|Walt Disney Feature Anima...   11/26/2002   \n",
              "\n",
              "      vote_average  release_year  \n",
              "1179           6.8          2013  \n",
              "1876           4.3          2000  \n",
              "195            6.1          2014  \n",
              "720            6.5          2011  \n",
              "877            7.0          2002  "
            ],
            "text/html": [
              "\n",
              "  <div id=\"df-057d61c1-bd08-488b-9e2c-0cb2e51ca4a8\">\n",
              "    <div class=\"colab-df-container\">\n",
              "      <div>\n",
              "<style scoped>\n",
              "    .dataframe tbody tr th:only-of-type {\n",
              "        vertical-align: middle;\n",
              "    }\n",
              "\n",
              "    .dataframe tbody tr th {\n",
              "        vertical-align: top;\n",
              "    }\n",
              "\n",
              "    .dataframe thead th {\n",
              "        text-align: right;\n",
              "    }\n",
              "</style>\n",
              "<table border=\"1\" class=\"dataframe\">\n",
              "  <thead>\n",
              "    <tr style=\"text-align: right;\">\n",
              "      <th></th>\n",
              "      <th>imdb_id</th>\n",
              "      <th>budget</th>\n",
              "      <th>revenue</th>\n",
              "      <th>original_title</th>\n",
              "      <th>cast</th>\n",
              "      <th>director</th>\n",
              "      <th>tagline</th>\n",
              "      <th>overview</th>\n",
              "      <th>runtime</th>\n",
              "      <th>genres</th>\n",
              "      <th>production_companies</th>\n",
              "      <th>release_date</th>\n",
              "      <th>vote_average</th>\n",
              "      <th>release_year</th>\n",
              "    </tr>\n",
              "  </thead>\n",
              "  <tbody>\n",
              "    <tr>\n",
              "      <th>1179</th>\n",
              "      <td>tt1981115</td>\n",
              "      <td>170000000</td>\n",
              "      <td>479765000</td>\n",
              "      <td>Thor: The Dark World</td>\n",
              "      <td>Chris Hemsworth|Natalie Portman|Tom Hiddleston...</td>\n",
              "      <td>Alan Taylor</td>\n",
              "      <td>Delve into the darkness</td>\n",
              "      <td>Thor fights to restore order across the cosmos...</td>\n",
              "      <td>112</td>\n",
              "      <td>Action|Adventure|Fantasy</td>\n",
              "      <td>Marvel Studios</td>\n",
              "      <td>10/29/2013</td>\n",
              "      <td>6.8</td>\n",
              "      <td>2013</td>\n",
              "    </tr>\n",
              "    <tr>\n",
              "      <th>1876</th>\n",
              "      <td>tt0144964</td>\n",
              "      <td>25000000</td>\n",
              "      <td>15843608</td>\n",
              "      <td>Highlander: Endgame</td>\n",
              "      <td>Christopher Lambert|Bruce Payne|Adrian Paul|Do...</td>\n",
              "      <td>Douglas Aarniokoski</td>\n",
              "      <td>It will take two immortals to defeat the ultim...</td>\n",
              "      <td>Immortals Connor and Duncan Macleod join force...</td>\n",
              "      <td>87</td>\n",
              "      <td>Action|Fantasy|Science Fiction</td>\n",
              "      <td>Davis-Panzer Productions|Dimension Films</td>\n",
              "      <td>9/1/2000</td>\n",
              "      <td>4.3</td>\n",
              "      <td>2000</td>\n",
              "    </tr>\n",
              "    <tr>\n",
              "      <th>195</th>\n",
              "      <td>tt1823664</td>\n",
              "      <td>65000000</td>\n",
              "      <td>133821816</td>\n",
              "      <td>Annie</td>\n",
              "      <td>QuvenzhanÃ© Wallis|Jamie Foxx|Rose Byrne|Camer...</td>\n",
              "      <td>Will Gluck</td>\n",
              "      <td>It's a Hard Knock Life</td>\n",
              "      <td>Ever since her parents left her as a baby, lit...</td>\n",
              "      <td>119</td>\n",
              "      <td>Music|Comedy|Drama|Family</td>\n",
              "      <td>Columbia Pictures|Sony Pictures Entertainment ...</td>\n",
              "      <td>12/19/2014</td>\n",
              "      <td>6.1</td>\n",
              "      <td>2014</td>\n",
              "    </tr>\n",
              "    <tr>\n",
              "      <th>720</th>\n",
              "      <td>tt0458339</td>\n",
              "      <td>140000000</td>\n",
              "      <td>370569774</td>\n",
              "      <td>Captain America: The First Avenger</td>\n",
              "      <td>Chris Evans|Hugo Weaving|Tommy Lee Jones|Hayle...</td>\n",
              "      <td>Joe Johnston</td>\n",
              "      <td>When patriots become heroes</td>\n",
              "      <td>Predominantly set during World War II, Steve R...</td>\n",
              "      <td>124</td>\n",
              "      <td>Action|Adventure|Science Fiction</td>\n",
              "      <td>Marvel Studios</td>\n",
              "      <td>7/22/2011</td>\n",
              "      <td>6.5</td>\n",
              "      <td>2011</td>\n",
              "    </tr>\n",
              "    <tr>\n",
              "      <th>877</th>\n",
              "      <td>tt0133240</td>\n",
              "      <td>140000000</td>\n",
              "      <td>109578115</td>\n",
              "      <td>Treasure Planet</td>\n",
              "      <td>Joseph Gordon-Levitt|David Hyde Pierce|Emma Th...</td>\n",
              "      <td>Ron Clements|John Musker</td>\n",
              "      <td>Find your place in the universe.</td>\n",
              "      <td>When space galleon cabin boy Jim Hawkins disco...</td>\n",
              "      <td>95</td>\n",
              "      <td>Adventure|Animation|Family|Fantasy|Science Fic...</td>\n",
              "      <td>Walt Disney Pictures|Walt Disney Feature Anima...</td>\n",
              "      <td>11/26/2002</td>\n",
              "      <td>7.0</td>\n",
              "      <td>2002</td>\n",
              "    </tr>\n",
              "  </tbody>\n",
              "</table>\n",
              "</div>\n",
              "      <button class=\"colab-df-convert\" onclick=\"convertToInteractive('df-057d61c1-bd08-488b-9e2c-0cb2e51ca4a8')\"\n",
              "              title=\"Convert this dataframe to an interactive table.\"\n",
              "              style=\"display:none;\">\n",
              "        \n",
              "  <svg xmlns=\"http://www.w3.org/2000/svg\" height=\"24px\"viewBox=\"0 0 24 24\"\n",
              "       width=\"24px\">\n",
              "    <path d=\"M0 0h24v24H0V0z\" fill=\"none\"/>\n",
              "    <path d=\"M18.56 5.44l.94 2.06.94-2.06 2.06-.94-2.06-.94-.94-2.06-.94 2.06-2.06.94zm-11 1L8.5 8.5l.94-2.06 2.06-.94-2.06-.94L8.5 2.5l-.94 2.06-2.06.94zm10 10l.94 2.06.94-2.06 2.06-.94-2.06-.94-.94-2.06-.94 2.06-2.06.94z\"/><path d=\"M17.41 7.96l-1.37-1.37c-.4-.4-.92-.59-1.43-.59-.52 0-1.04.2-1.43.59L10.3 9.45l-7.72 7.72c-.78.78-.78 2.05 0 2.83L4 21.41c.39.39.9.59 1.41.59.51 0 1.02-.2 1.41-.59l7.78-7.78 2.81-2.81c.8-.78.8-2.07 0-2.86zM5.41 20L4 18.59l7.72-7.72 1.47 1.35L5.41 20z\"/>\n",
              "  </svg>\n",
              "      </button>\n",
              "      \n",
              "  <style>\n",
              "    .colab-df-container {\n",
              "      display:flex;\n",
              "      flex-wrap:wrap;\n",
              "      gap: 12px;\n",
              "    }\n",
              "\n",
              "    .colab-df-convert {\n",
              "      background-color: #E8F0FE;\n",
              "      border: none;\n",
              "      border-radius: 50%;\n",
              "      cursor: pointer;\n",
              "      display: none;\n",
              "      fill: #1967D2;\n",
              "      height: 32px;\n",
              "      padding: 0 0 0 0;\n",
              "      width: 32px;\n",
              "    }\n",
              "\n",
              "    .colab-df-convert:hover {\n",
              "      background-color: #E2EBFA;\n",
              "      box-shadow: 0px 1px 2px rgba(60, 64, 67, 0.3), 0px 1px 3px 1px rgba(60, 64, 67, 0.15);\n",
              "      fill: #174EA6;\n",
              "    }\n",
              "\n",
              "    [theme=dark] .colab-df-convert {\n",
              "      background-color: #3B4455;\n",
              "      fill: #D2E3FC;\n",
              "    }\n",
              "\n",
              "    [theme=dark] .colab-df-convert:hover {\n",
              "      background-color: #434B5C;\n",
              "      box-shadow: 0px 1px 3px 1px rgba(0, 0, 0, 0.15);\n",
              "      filter: drop-shadow(0px 1px 2px rgba(0, 0, 0, 0.3));\n",
              "      fill: #FFFFFF;\n",
              "    }\n",
              "  </style>\n",
              "\n",
              "      <script>\n",
              "        const buttonEl =\n",
              "          document.querySelector('#df-057d61c1-bd08-488b-9e2c-0cb2e51ca4a8 button.colab-df-convert');\n",
              "        buttonEl.style.display =\n",
              "          google.colab.kernel.accessAllowed ? 'block' : 'none';\n",
              "\n",
              "        async function convertToInteractive(key) {\n",
              "          const element = document.querySelector('#df-057d61c1-bd08-488b-9e2c-0cb2e51ca4a8');\n",
              "          const dataTable =\n",
              "            await google.colab.kernel.invokeFunction('convertToInteractive',\n",
              "                                                     [key], {});\n",
              "          if (!dataTable) return;\n",
              "\n",
              "          const docLinkHtml = 'Like what you see? Visit the ' +\n",
              "            '<a target=\"_blank\" href=https://colab.research.google.com/notebooks/data_table.ipynb>data table notebook</a>'\n",
              "            + ' to learn more about interactive tables.';\n",
              "          element.innerHTML = '';\n",
              "          dataTable['output_type'] = 'display_data';\n",
              "          await google.colab.output.renderOutput(dataTable, element);\n",
              "          const docLink = document.createElement('div');\n",
              "          docLink.innerHTML = docLinkHtml;\n",
              "          element.appendChild(docLink);\n",
              "        }\n",
              "      </script>\n",
              "    </div>\n",
              "  </div>\n",
              "  "
            ]
          },
          "metadata": {},
          "execution_count": 3
        }
      ],
      "source": [
        "data = pd.read_csv('/content/drive/MyDrive/Colab Notebooks/SF-DS/movie_bd_v5.csv')\n",
        "data.sample(5)"
      ]
    },
    {
      "cell_type": "code",
      "execution_count": 4,
      "metadata": {
        "colab": {
          "base_uri": "https://localhost:8080/",
          "height": 300
        },
        "id": "CoYUnagMVp-C",
        "outputId": "ef1eeba5-8272-4dd0-aec4-f06a9242694b"
      },
      "outputs": [
        {
          "output_type": "execute_result",
          "data": {
            "text/plain": [
              "             budget       revenue      runtime  vote_average  release_year\n",
              "count  1.889000e+03  1.889000e+03  1889.000000   1889.000000   1889.000000\n",
              "mean   5.431083e+07  1.553653e+08   109.658549      6.140762   2007.860773\n",
              "std    4.858721e+07  2.146698e+08    18.017041      0.764763      4.468841\n",
              "min    5.000000e+06  2.033165e+06    63.000000      3.300000   2000.000000\n",
              "25%    2.000000e+07  3.456058e+07    97.000000      5.600000   2004.000000\n",
              "50%    3.800000e+07  8.361541e+07   107.000000      6.100000   2008.000000\n",
              "75%    7.200000e+07  1.782626e+08   120.000000      6.600000   2012.000000\n",
              "max    3.800000e+08  2.781506e+09   214.000000      8.100000   2015.000000"
            ],
            "text/html": [
              "\n",
              "  <div id=\"df-39e57c5c-2c30-4094-bcb0-83f7b57dd12c\">\n",
              "    <div class=\"colab-df-container\">\n",
              "      <div>\n",
              "<style scoped>\n",
              "    .dataframe tbody tr th:only-of-type {\n",
              "        vertical-align: middle;\n",
              "    }\n",
              "\n",
              "    .dataframe tbody tr th {\n",
              "        vertical-align: top;\n",
              "    }\n",
              "\n",
              "    .dataframe thead th {\n",
              "        text-align: right;\n",
              "    }\n",
              "</style>\n",
              "<table border=\"1\" class=\"dataframe\">\n",
              "  <thead>\n",
              "    <tr style=\"text-align: right;\">\n",
              "      <th></th>\n",
              "      <th>budget</th>\n",
              "      <th>revenue</th>\n",
              "      <th>runtime</th>\n",
              "      <th>vote_average</th>\n",
              "      <th>release_year</th>\n",
              "    </tr>\n",
              "  </thead>\n",
              "  <tbody>\n",
              "    <tr>\n",
              "      <th>count</th>\n",
              "      <td>1.889000e+03</td>\n",
              "      <td>1.889000e+03</td>\n",
              "      <td>1889.000000</td>\n",
              "      <td>1889.000000</td>\n",
              "      <td>1889.000000</td>\n",
              "    </tr>\n",
              "    <tr>\n",
              "      <th>mean</th>\n",
              "      <td>5.431083e+07</td>\n",
              "      <td>1.553653e+08</td>\n",
              "      <td>109.658549</td>\n",
              "      <td>6.140762</td>\n",
              "      <td>2007.860773</td>\n",
              "    </tr>\n",
              "    <tr>\n",
              "      <th>std</th>\n",
              "      <td>4.858721e+07</td>\n",
              "      <td>2.146698e+08</td>\n",
              "      <td>18.017041</td>\n",
              "      <td>0.764763</td>\n",
              "      <td>4.468841</td>\n",
              "    </tr>\n",
              "    <tr>\n",
              "      <th>min</th>\n",
              "      <td>5.000000e+06</td>\n",
              "      <td>2.033165e+06</td>\n",
              "      <td>63.000000</td>\n",
              "      <td>3.300000</td>\n",
              "      <td>2000.000000</td>\n",
              "    </tr>\n",
              "    <tr>\n",
              "      <th>25%</th>\n",
              "      <td>2.000000e+07</td>\n",
              "      <td>3.456058e+07</td>\n",
              "      <td>97.000000</td>\n",
              "      <td>5.600000</td>\n",
              "      <td>2004.000000</td>\n",
              "    </tr>\n",
              "    <tr>\n",
              "      <th>50%</th>\n",
              "      <td>3.800000e+07</td>\n",
              "      <td>8.361541e+07</td>\n",
              "      <td>107.000000</td>\n",
              "      <td>6.100000</td>\n",
              "      <td>2008.000000</td>\n",
              "    </tr>\n",
              "    <tr>\n",
              "      <th>75%</th>\n",
              "      <td>7.200000e+07</td>\n",
              "      <td>1.782626e+08</td>\n",
              "      <td>120.000000</td>\n",
              "      <td>6.600000</td>\n",
              "      <td>2012.000000</td>\n",
              "    </tr>\n",
              "    <tr>\n",
              "      <th>max</th>\n",
              "      <td>3.800000e+08</td>\n",
              "      <td>2.781506e+09</td>\n",
              "      <td>214.000000</td>\n",
              "      <td>8.100000</td>\n",
              "      <td>2015.000000</td>\n",
              "    </tr>\n",
              "  </tbody>\n",
              "</table>\n",
              "</div>\n",
              "      <button class=\"colab-df-convert\" onclick=\"convertToInteractive('df-39e57c5c-2c30-4094-bcb0-83f7b57dd12c')\"\n",
              "              title=\"Convert this dataframe to an interactive table.\"\n",
              "              style=\"display:none;\">\n",
              "        \n",
              "  <svg xmlns=\"http://www.w3.org/2000/svg\" height=\"24px\"viewBox=\"0 0 24 24\"\n",
              "       width=\"24px\">\n",
              "    <path d=\"M0 0h24v24H0V0z\" fill=\"none\"/>\n",
              "    <path d=\"M18.56 5.44l.94 2.06.94-2.06 2.06-.94-2.06-.94-.94-2.06-.94 2.06-2.06.94zm-11 1L8.5 8.5l.94-2.06 2.06-.94-2.06-.94L8.5 2.5l-.94 2.06-2.06.94zm10 10l.94 2.06.94-2.06 2.06-.94-2.06-.94-.94-2.06-.94 2.06-2.06.94z\"/><path d=\"M17.41 7.96l-1.37-1.37c-.4-.4-.92-.59-1.43-.59-.52 0-1.04.2-1.43.59L10.3 9.45l-7.72 7.72c-.78.78-.78 2.05 0 2.83L4 21.41c.39.39.9.59 1.41.59.51 0 1.02-.2 1.41-.59l7.78-7.78 2.81-2.81c.8-.78.8-2.07 0-2.86zM5.41 20L4 18.59l7.72-7.72 1.47 1.35L5.41 20z\"/>\n",
              "  </svg>\n",
              "      </button>\n",
              "      \n",
              "  <style>\n",
              "    .colab-df-container {\n",
              "      display:flex;\n",
              "      flex-wrap:wrap;\n",
              "      gap: 12px;\n",
              "    }\n",
              "\n",
              "    .colab-df-convert {\n",
              "      background-color: #E8F0FE;\n",
              "      border: none;\n",
              "      border-radius: 50%;\n",
              "      cursor: pointer;\n",
              "      display: none;\n",
              "      fill: #1967D2;\n",
              "      height: 32px;\n",
              "      padding: 0 0 0 0;\n",
              "      width: 32px;\n",
              "    }\n",
              "\n",
              "    .colab-df-convert:hover {\n",
              "      background-color: #E2EBFA;\n",
              "      box-shadow: 0px 1px 2px rgba(60, 64, 67, 0.3), 0px 1px 3px 1px rgba(60, 64, 67, 0.15);\n",
              "      fill: #174EA6;\n",
              "    }\n",
              "\n",
              "    [theme=dark] .colab-df-convert {\n",
              "      background-color: #3B4455;\n",
              "      fill: #D2E3FC;\n",
              "    }\n",
              "\n",
              "    [theme=dark] .colab-df-convert:hover {\n",
              "      background-color: #434B5C;\n",
              "      box-shadow: 0px 1px 3px 1px rgba(0, 0, 0, 0.15);\n",
              "      filter: drop-shadow(0px 1px 2px rgba(0, 0, 0, 0.3));\n",
              "      fill: #FFFFFF;\n",
              "    }\n",
              "  </style>\n",
              "\n",
              "      <script>\n",
              "        const buttonEl =\n",
              "          document.querySelector('#df-39e57c5c-2c30-4094-bcb0-83f7b57dd12c button.colab-df-convert');\n",
              "        buttonEl.style.display =\n",
              "          google.colab.kernel.accessAllowed ? 'block' : 'none';\n",
              "\n",
              "        async function convertToInteractive(key) {\n",
              "          const element = document.querySelector('#df-39e57c5c-2c30-4094-bcb0-83f7b57dd12c');\n",
              "          const dataTable =\n",
              "            await google.colab.kernel.invokeFunction('convertToInteractive',\n",
              "                                                     [key], {});\n",
              "          if (!dataTable) return;\n",
              "\n",
              "          const docLinkHtml = 'Like what you see? Visit the ' +\n",
              "            '<a target=\"_blank\" href=https://colab.research.google.com/notebooks/data_table.ipynb>data table notebook</a>'\n",
              "            + ' to learn more about interactive tables.';\n",
              "          element.innerHTML = '';\n",
              "          dataTable['output_type'] = 'display_data';\n",
              "          await google.colab.output.renderOutput(dataTable, element);\n",
              "          const docLink = document.createElement('div');\n",
              "          docLink.innerHTML = docLinkHtml;\n",
              "          element.appendChild(docLink);\n",
              "        }\n",
              "      </script>\n",
              "    </div>\n",
              "  </div>\n",
              "  "
            ]
          },
          "metadata": {},
          "execution_count": 4
        }
      ],
      "source": [
        "data.describe()"
      ]
    },
    {
      "cell_type": "markdown",
      "metadata": {
        "id": "DTIt7ezGVp-G"
      },
      "source": [
        "# Предобработка"
      ]
    },
    {
      "cell_type": "code",
      "execution_count": 5,
      "metadata": {
        "id": "jNb40DwKVp-H"
      },
      "outputs": [],
      "source": [
        "answers = {} # создадим словарь для ответов\n",
        "\n",
        "# тут другие ваши предобработки колонок например:\n",
        "\n",
        "#the time given in the dataset is in string format.\n",
        "#So we need to change this in datetime format\n",
        "# ..."
      ]
    },
    {
      "cell_type": "markdown",
      "metadata": {
        "id": "YxZaH-nPVp-L"
      },
      "source": [
        "# 1. У какого фильма из списка самый большой бюджет?"
      ]
    },
    {
      "cell_type": "markdown",
      "metadata": {
        "id": "Nd-G5gX6Vp-M"
      },
      "source": [
        "Использовать варианты ответов в коде решения запрещено.    \n",
        "Вы думаете и в жизни у вас будут варианты ответов?)"
      ]
    },
    {
      "cell_type": "code",
      "execution_count": 6,
      "metadata": {
        "id": "uVnXAY5RVp-O"
      },
      "outputs": [],
      "source": [
        "# в словарь вставляем номер вопроса и ваш ответ на него\n",
        "# Пример: \n",
        "answers['1'] = ''\n",
        "# запишите свой вариант ответа\n",
        "answers['1'] = 'Pirates of the Caribbean: On Stranger Tides'\n",
        "# если ответили верно, можете добавить комментарий со значком \"+\""
      ]
    },
    {
      "cell_type": "code",
      "execution_count": 7,
      "metadata": {
        "colab": {
          "base_uri": "https://localhost:8080/"
        },
        "id": "dZwb3m28Vp-S",
        "outputId": "129a33d9-a885-40aa-f96b-fd8ed7025dc5"
      },
      "outputs": [
        {
          "output_type": "execute_result",
          "data": {
            "text/plain": [
              "723    Pirates of the Caribbean: On Stranger Tides\n",
              "Name: original_title, dtype: object"
            ]
          },
          "metadata": {},
          "execution_count": 7
        }
      ],
      "source": [
        "# тут пишем ваш код для решения данного вопроса:\n",
        "answers['1'] = data[data.budget == data.budget.max()].original_title\n",
        "answers['1']"
      ]
    },
    {
      "cell_type": "markdown",
      "metadata": {
        "id": "K7L3nbRXVp-X"
      },
      "source": [
        "ВАРИАНТ 2"
      ]
    },
    {
      "cell_type": "code",
      "execution_count": 8,
      "metadata": {
        "id": "OGaoQI7rVp-X"
      },
      "outputs": [],
      "source": [
        "# можно добавлять разные варианты решения"
      ]
    },
    {
      "cell_type": "markdown",
      "metadata": {
        "id": "FNRbbI3vVp-c"
      },
      "source": [
        "# 2. Какой из фильмов самый длительный (в минутах)?"
      ]
    },
    {
      "cell_type": "code",
      "execution_count": 9,
      "metadata": {
        "colab": {
          "base_uri": "https://localhost:8080/"
        },
        "id": "vHAoEXNTVp-d",
        "outputId": "e1683642-67e4-47ca-dd33-a415fc247801"
      },
      "outputs": [
        {
          "output_type": "execute_result",
          "data": {
            "text/plain": [
              "1157    Gods and Generals\n",
              "Name: original_title, dtype: object"
            ]
          },
          "metadata": {},
          "execution_count": 9
        }
      ],
      "source": [
        "# думаю логику работы с этим словарем вы уже поняли, \n",
        "# по этому не буду больше его дублировать\n",
        "answers['2'] = data[data.runtime == data.runtime.max()].original_title\n",
        "answers['2']"
      ]
    },
    {
      "cell_type": "markdown",
      "metadata": {
        "id": "bapLlpW8Vp-k"
      },
      "source": [
        "# 3. Какой из фильмов самый короткий (в минутах)?\n",
        "\n",
        "\n",
        "\n"
      ]
    },
    {
      "cell_type": "code",
      "execution_count": 10,
      "metadata": {
        "colab": {
          "base_uri": "https://localhost:8080/"
        },
        "id": "YBxaSHuAVp-l",
        "outputId": "7476c7a3-9c7a-4122-b74c-460635c8f939"
      },
      "outputs": [
        {
          "output_type": "execute_result",
          "data": {
            "text/plain": [
              "768    Winnie the Pooh\n",
              "Name: original_title, dtype: object"
            ]
          },
          "metadata": {},
          "execution_count": 10
        }
      ],
      "source": [
        "answers['3'] = data[data.runtime == data.runtime.min()].original_title\n",
        "answers['3']"
      ]
    },
    {
      "cell_type": "markdown",
      "metadata": {
        "id": "TfQbxbfNVp-p"
      },
      "source": [
        "# 4. Какова средняя длительность фильмов?\n"
      ]
    },
    {
      "cell_type": "code",
      "execution_count": 11,
      "metadata": {
        "colab": {
          "base_uri": "https://localhost:8080/"
        },
        "id": "5K6dKZYVVp-q",
        "outputId": "8c3af053-e8f9-4bbc-9373-994703f3ecad"
      },
      "outputs": [
        {
          "output_type": "execute_result",
          "data": {
            "text/plain": [
              "110"
            ]
          },
          "metadata": {},
          "execution_count": 11
        }
      ],
      "source": [
        "answers['4'] = round(data.runtime.mean())\n",
        "answers['4']"
      ]
    },
    {
      "cell_type": "markdown",
      "metadata": {
        "id": "r5TvbnT_Vp-u"
      },
      "source": [
        "# 5. Каково медианное значение длительности фильмов? "
      ]
    },
    {
      "cell_type": "code",
      "execution_count": 12,
      "metadata": {
        "colab": {
          "base_uri": "https://localhost:8080/"
        },
        "id": "iBROplKnVp-v",
        "outputId": "a12d1f0f-3d32-4b1d-c81a-c6a7033ebf29"
      },
      "outputs": [
        {
          "output_type": "execute_result",
          "data": {
            "text/plain": [
              "107"
            ]
          },
          "metadata": {},
          "execution_count": 12
        }
      ],
      "source": [
        "answers['5'] = round(data.runtime.median())\n",
        "answers['5']"
      ]
    },
    {
      "cell_type": "markdown",
      "metadata": {
        "id": "39P-deDSVp-y"
      },
      "source": [
        "# 6. Какой самый прибыльный фильм?\n",
        "#### Внимание! Здесь и далее под «прибылью» или «убытками» понимается разность между сборами и бюджетом фильма. (прибыль = сборы - бюджет) в нашем датасете это будет (profit = revenue - budget) "
      ]
    },
    {
      "cell_type": "code",
      "execution_count": 13,
      "metadata": {
        "colab": {
          "base_uri": "https://localhost:8080/"
        },
        "id": "UYZh4T9WVp-y",
        "outputId": "cfaba4e9-4a39-4e44-b3e7-190c8a926bfe"
      },
      "outputs": [
        {
          "output_type": "execute_result",
          "data": {
            "text/plain": [
              "239    Avatar\n",
              "Name: original_title, dtype: object"
            ]
          },
          "metadata": {},
          "execution_count": 13
        }
      ],
      "source": [
        "# лучше код получения столбца profit вынести в Предобработку что в начале\n",
        "data['profit'] = data['revenue'] - data['budget']\n",
        "answers['6'] = data[data.profit == data['profit'].max()].original_title\n",
        "answers['6']\n"
      ]
    },
    {
      "cell_type": "markdown",
      "metadata": {
        "id": "M99JmIX4Vp-2"
      },
      "source": [
        "# 7. Какой фильм самый убыточный? "
      ]
    },
    {
      "cell_type": "code",
      "execution_count": 14,
      "metadata": {
        "colab": {
          "base_uri": "https://localhost:8080/"
        },
        "id": "w-D2m4XPVp-3",
        "outputId": "999409f1-2790-42f6-b6f9-c93cf3179662"
      },
      "outputs": [
        {
          "output_type": "execute_result",
          "data": {
            "text/plain": [
              "1245    The Lone Ranger\n",
              "Name: original_title, dtype: object"
            ]
          },
          "metadata": {},
          "execution_count": 14
        }
      ],
      "source": [
        "answers['7'] = data[data.profit == data['profit'].min()].original_title\n",
        "answers['7']"
      ]
    },
    {
      "cell_type": "markdown",
      "metadata": {
        "id": "wEOM5ERVVp-6"
      },
      "source": [
        "# 8. У скольких фильмов из датасета объем сборов оказался выше бюджета?"
      ]
    },
    {
      "cell_type": "code",
      "execution_count": 15,
      "metadata": {
        "colab": {
          "base_uri": "https://localhost:8080/"
        },
        "id": "y00_7HD6Vp-7",
        "outputId": "3fc31cbb-3b4e-419f-d1f4-65047419b209"
      },
      "outputs": [
        {
          "output_type": "execute_result",
          "data": {
            "text/plain": [
              "1478"
            ]
          },
          "metadata": {},
          "execution_count": 15
        }
      ],
      "source": [
        "answers['8'] = data[data.profit > 0].count()[0]\n",
        "answers['8']"
      ]
    },
    {
      "cell_type": "markdown",
      "metadata": {
        "id": "xhpspA9KVp_A"
      },
      "source": [
        "# 9. Какой фильм оказался самым кассовым в 2008 году?"
      ]
    },
    {
      "cell_type": "code",
      "execution_count": 16,
      "metadata": {
        "colab": {
          "base_uri": "https://localhost:8080/"
        },
        "id": "MoUyQr9RVp_B",
        "outputId": "dd54f473-e579-438b-b264-4aa563b3bc8e"
      },
      "outputs": [
        {
          "output_type": "execute_result",
          "data": {
            "text/plain": [
              "599    The Dark Knight\n",
              "Name: original_title, dtype: object"
            ]
          },
          "metadata": {},
          "execution_count": 16
        }
      ],
      "source": [
        "answers['9'] = data[data[data.release_year == 2008].profit.max() == data.profit].original_title\n",
        "answers['9']"
      ]
    },
    {
      "cell_type": "markdown",
      "metadata": {
        "id": "Zi4hDKidVp_F"
      },
      "source": [
        "# 10. Самый убыточный фильм за период с 2012 по 2014 г. (включительно)?\n"
      ]
    },
    {
      "cell_type": "code",
      "execution_count": 17,
      "metadata": {
        "id": "XqyRmufJVp_F",
        "colab": {
          "base_uri": "https://localhost:8080/"
        },
        "outputId": "ebd4e7d5-5e37-4a5b-9279-b8f02424099b"
      },
      "outputs": [
        {
          "output_type": "execute_result",
          "data": {
            "text/plain": [
              "1245    The Lone Ranger\n",
              "Name: original_title, dtype: object"
            ]
          },
          "metadata": {},
          "execution_count": 17
        }
      ],
      "source": [
        "answers['10'] = data[data[(data.release_year >= 2012) & (data.release_year <= 2014)].profit.min() == data.profit].original_title\n",
        "answers['10']"
      ]
    },
    {
      "cell_type": "markdown",
      "metadata": {
        "id": "EA7Sa9dkVp_I"
      },
      "source": [
        "# 11. Какого жанра фильмов больше всего?"
      ]
    },
    {
      "cell_type": "code",
      "execution_count": 18,
      "metadata": {
        "id": "zsJAwJ8QVp_J"
      },
      "outputs": [],
      "source": [
        "# эту задачу тоже можно решать разными подходами, попробуй реализовать разные варианты\n",
        "# если будешь добавлять функцию - выноси ее в предобработку что в начале"
      ]
    },
    {
      "cell_type": "markdown",
      "metadata": {
        "id": "Ax6g2C8SVp_M"
      },
      "source": [
        "ВАРИАНТ 2"
      ]
    },
    {
      "cell_type": "code",
      "execution_count": 19,
      "metadata": {
        "colab": {
          "base_uri": "https://localhost:8080/",
          "height": 36
        },
        "id": "otO3SbrSVp_N",
        "outputId": "d54aa5da-0a57-4efd-fe75-e662e44a9c51"
      },
      "outputs": [
        {
          "output_type": "execute_result",
          "data": {
            "text/plain": [
              "'Comedy'"
            ],
            "application/vnd.google.colaboratory.intrinsic+json": {
              "type": "string"
            }
          },
          "metadata": {},
          "execution_count": 19
        }
      ],
      "source": [
        "answers['11'] = data.genres.value_counts().index[0]\n",
        "answers['11'] "
      ]
    },
    {
      "cell_type": "markdown",
      "metadata": {
        "id": "T9_bPWpkVp_Q"
      },
      "source": [
        "# 12. Фильмы какого жанра чаще всего становятся прибыльными? "
      ]
    },
    {
      "cell_type": "code",
      "execution_count": 20,
      "metadata": {
        "colab": {
          "base_uri": "https://localhost:8080/",
          "height": 0
        },
        "id": "Tmt8MaK1Vp_R",
        "outputId": "3b6753d7-f2ba-4fcf-c4cd-38dc06b13bb3"
      },
      "outputs": [
        {
          "output_type": "execute_result",
          "data": {
            "text/plain": [
              "'Comedy'"
            ],
            "application/vnd.google.colaboratory.intrinsic+json": {
              "type": "string"
            }
          },
          "metadata": {},
          "execution_count": 20
        }
      ],
      "source": [
        "answers['12'] = data[data.profit > 0].genres.value_counts().index[0]\n",
        "answers['12'] "
      ]
    },
    {
      "cell_type": "markdown",
      "metadata": {
        "id": "0F23bgsDVp_U"
      },
      "source": [
        "# 13. У какого режиссера самые большие суммарные кассовые сборы?"
      ]
    },
    {
      "cell_type": "code",
      "execution_count": 21,
      "metadata": {
        "colab": {
          "base_uri": "https://localhost:8080/",
          "height": 36
        },
        "id": "K6Z3J8ygVp_X",
        "outputId": "75282f4a-95bf-4533-dee3-b42dfa83b9b5"
      },
      "outputs": [
        {
          "output_type": "execute_result",
          "data": {
            "text/plain": [
              "'James Cameron'"
            ],
            "application/vnd.google.colaboratory.intrinsic+json": {
              "type": "string"
            }
          },
          "metadata": {},
          "execution_count": 21
        }
      ],
      "source": [
        "answers['13'] = data.groupby(['director']).revenue.max().sort_values(ascending=False).index[0]\n",
        "answers['13']"
      ]
    },
    {
      "cell_type": "markdown",
      "metadata": {
        "id": "PsYC9FgRVp_a"
      },
      "source": [
        "# 14. Какой режисер снял больше всего фильмов в стиле Action?"
      ]
    },
    {
      "cell_type": "code",
      "execution_count": 22,
      "metadata": {
        "colab": {
          "base_uri": "https://localhost:8080/"
        },
        "id": "wd2M-wHeVp_b",
        "outputId": "be3696c9-f2b9-43e4-b6ab-561a3b43b129"
      },
      "outputs": [
        {
          "output_type": "execute_result",
          "data": {
            "text/plain": [
              "Rob Cohen                2\n",
              "Christopher McQuarrie    1\n",
              "Kevin Macdonald          1\n",
              "Paul McGuigan            1\n",
              "Ridley Scott             1\n",
              "Andy Tennant             1\n",
              "Renny Harlin             1\n",
              "John Moore               1\n",
              "Robert Rodriguez         1\n",
              "Harald Zwart             1\n",
              "Rob Bowman               1\n",
              "Sydney Pollack           1\n",
              "Andrew Davis             1\n",
              "Joseph Kahn              1\n",
              "Marcus Nispel            1\n",
              "Name: director, dtype: int64"
            ]
          },
          "metadata": {},
          "execution_count": 22
        }
      ],
      "source": [
        "answers['14'] = data[data.genres == 'Action'].director.value_counts()\n",
        "answers['14']"
      ]
    },
    {
      "cell_type": "markdown",
      "metadata": {
        "id": "PQ0KciD7Vp_f"
      },
      "source": [
        "# 15. Фильмы с каким актером принесли самые высокие кассовые сборы в 2012 году? "
      ]
    },
    {
      "cell_type": "code",
      "execution_count": 23,
      "metadata": {
        "colab": {
          "base_uri": "https://localhost:8080/",
          "height": 36
        },
        "id": "aga62oeKVp_g",
        "outputId": "90270a78-141f-46ec-e8a8-8dee366be099"
      },
      "outputs": [
        {
          "output_type": "execute_result",
          "data": {
            "text/plain": [
              "'Robert Downey Jr.|Chris Evans|Mark Ruffalo|Chris Hemsworth|Scarlett Johansson'"
            ],
            "application/vnd.google.colaboratory.intrinsic+json": {
              "type": "string"
            }
          },
          "metadata": {},
          "execution_count": 23
        }
      ],
      "source": [
        "answers['15'] = data[data.release_year == 2012]\n",
        "answers['15'] = ''.join(answers['15'][answers['15'].revenue == answers['15'].revenue.max()].cast.values)\n",
        "answers['15']"
      ]
    },
    {
      "cell_type": "markdown",
      "metadata": {
        "id": "mWHyyL7QVp_j"
      },
      "source": [
        "# 16. Какой актер снялся в большем количестве высокобюджетных фильмов?"
      ]
    },
    {
      "cell_type": "code",
      "execution_count": 24,
      "metadata": {
        "colab": {
          "base_uri": "https://localhost:8080/"
        },
        "id": "qQtmHKTFVp_k",
        "outputId": "d0339bea-425e-456c-efc3-e3bf40fc6d62"
      },
      "outputs": [
        {
          "output_type": "stream",
          "name": "stdout",
          "text": [
            "15\n",
            "14\n",
            "18\n",
            "16\n",
            "17\n"
          ]
        }
      ],
      "source": [
        "# data[data.budget > data.budget.mean()].groupby('cast').imdb_id.count().sort_values(ascending=False)\n",
        "data16 = data[data.budget > data.budget.mean()]\n",
        "print(data16[data16.cast.str.contains('Tom Cruise', regex=False)].count()[0])\n",
        "print(data16[data16.cast.str.contains('Mark Wahlberg', regex=False)].count()[0])\n",
        "print(data16[data16.cast.str.contains('Matt Damon', regex=False)].count()[0])\n",
        "print(data16[data16.cast.str.contains('Angelina Jolie', regex=False)].count()[0])\n",
        "print(data16[data16.cast.str.contains('Adam Sandler', regex=False)].count()[0])\n",
        "answers['16'] = 'Adam Sandler'"
      ]
    },
    {
      "cell_type": "markdown",
      "metadata": {
        "id": "NIh6AaW5Vp_n"
      },
      "source": [
        "# 17. В фильмах какого жанра больше всего снимался Nicolas Cage? "
      ]
    },
    {
      "cell_type": "code",
      "execution_count": 25,
      "metadata": {
        "colab": {
          "base_uri": "https://localhost:8080/"
        },
        "id": "H74SJDIBVp_n",
        "outputId": "287b183f-f92c-4818-961a-f0c826788305"
      },
      "outputs": [
        {
          "output_type": "stream",
          "name": "stdout",
          "text": [
            "12\n",
            "17\n",
            "15\n",
            "7\n",
            "10\n"
          ]
        }
      ],
      "source": [
        "data17 = data[data.cast.str.contains('Nicolas Cage', regex=False)]\n",
        "print(data17[data17.genres.str.contains('Drama', regex=False)].count()[0])\n",
        "print(data17[data17.genres.str.contains('Action', regex=False)].count()[0])\n",
        "print(data17[data17.genres.str.contains('Thriller', regex=False)].count()[0])\n",
        "print(data17[data17.genres.str.contains('Adventure', regex=False)].count()[0])\n",
        "print(data17[data17.genres.str.contains('Crime', regex=False)].count()[0])\n",
        "answers['17'] = 'Action'"
      ]
    },
    {
      "cell_type": "markdown",
      "metadata": {
        "id": "RqOmPRfWVp_q"
      },
      "source": [
        "# 18. Самый убыточный фильм от Paramount Pictures"
      ]
    },
    {
      "cell_type": "code",
      "execution_count": 26,
      "metadata": {
        "id": "9E_B0Y96Vp_r",
        "colab": {
          "base_uri": "https://localhost:8080/"
        },
        "outputId": "77e91d77-fcc9-46c2-ff12-9874b38ab206"
      },
      "outputs": [
        {
          "output_type": "stream",
          "name": "stderr",
          "text": [
            "/usr/local/lib/python3.7/dist-packages/ipykernel_launcher.py:3: UserWarning: Boolean Series key will be reindexed to match DataFrame index.\n",
            "  This is separate from the ipykernel package so we can avoid doing imports until\n"
          ]
        },
        {
          "output_type": "execute_result",
          "data": {
            "text/plain": [
              "925    K-19: The Widowmaker\n",
              "Name: original_title, dtype: object"
            ]
          },
          "metadata": {},
          "execution_count": 26
        }
      ],
      "source": [
        "data18 = data[data.production_companies.str.contains('Paramount Pictures', regex=False)]\n",
        "# data18['income'] = data18['revenue'] - data18['budget']\n",
        "answers['18'] = data18[data['profit'] == data18['profit'].min()].original_title\n",
        "answers['18']"
      ]
    },
    {
      "cell_type": "markdown",
      "metadata": {
        "id": "vS8Ur6ddVp_u"
      },
      "source": [
        "# 19. Какой год стал самым успешным по суммарным кассовым сборам?"
      ]
    },
    {
      "cell_type": "code",
      "execution_count": 27,
      "metadata": {
        "id": "Dnbt4GdIVp_v",
        "colab": {
          "base_uri": "https://localhost:8080/"
        },
        "outputId": "8eafeeb6-c10e-4d75-b205-32e394c8cba5"
      },
      "outputs": [
        {
          "output_type": "execute_result",
          "data": {
            "text/plain": [
              "2015"
            ]
          },
          "metadata": {},
          "execution_count": 27
        }
      ],
      "source": [
        "answers['19'] = data.groupby('release_year').revenue.sum().sort_values(ascending=False).index[0]\n",
        "answers['19']"
      ]
    },
    {
      "cell_type": "markdown",
      "metadata": {
        "id": "JAzJh4QAVp_z"
      },
      "source": [
        "# 20. Какой самый прибыльный год для студии Warner Bros?"
      ]
    },
    {
      "cell_type": "code",
      "execution_count": 28,
      "metadata": {
        "id": "wgVu02DEVp_0",
        "colab": {
          "base_uri": "https://localhost:8080/",
          "height": 36
        },
        "outputId": "98cec024-a47b-470a-ff2a-0d6cd5b69bad"
      },
      "outputs": [
        {
          "output_type": "execute_result",
          "data": {
            "text/plain": [
              "'2011'"
            ],
            "application/vnd.google.colaboratory.intrinsic+json": {
              "type": "string"
            }
          },
          "metadata": {},
          "execution_count": 28
        }
      ],
      "source": [
        "data20 = data[data.production_companies.str.contains('Warner Bros', regex=False)]\n",
        "answers['20'] = data20.groupby('release_date').revenue.sum().sort_values(ascending=False).index[0][-4:]\n",
        "answers['20']"
      ]
    },
    {
      "cell_type": "markdown",
      "metadata": {
        "id": "8Im1S2HRVp_4"
      },
      "source": [
        "# 21. В каком месяце за все годы суммарно вышло больше всего фильмов?"
      ]
    },
    {
      "cell_type": "code",
      "execution_count": 29,
      "metadata": {
        "id": "lev6TH7gVp_4",
        "colab": {
          "base_uri": "https://localhost:8080/",
          "height": 36
        },
        "outputId": "2f7e9b4f-2b55-46bb-fb94-e483e7e1dfb1"
      },
      "outputs": [
        {
          "output_type": "execute_result",
          "data": {
            "text/plain": [
              "'9'"
            ],
            "application/vnd.google.colaboratory.intrinsic+json": {
              "type": "string"
            }
          },
          "metadata": {},
          "execution_count": 29
        }
      ],
      "source": [
        "data['month'] = data['release_date'].str[0:2]\n",
        "# data.month\n",
        "answers['21'] = data.groupby('month').original_title.count().sort_values(ascending=False).index[0][0:1]\n",
        "answers['21']"
      ]
    },
    {
      "cell_type": "markdown",
      "metadata": {
        "id": "uAJsZ_NeVp_7"
      },
      "source": [
        "# 22. Сколько суммарно вышло фильмов летом? (за июнь, июль, август)"
      ]
    },
    {
      "cell_type": "code",
      "execution_count": 30,
      "metadata": {
        "id": "Aa-hEREoVp_8",
        "colab": {
          "base_uri": "https://localhost:8080/"
        },
        "outputId": "560ba0b2-b9a7-4ca1-fc06-58f4a324ca1a"
      },
      "outputs": [
        {
          "output_type": "execute_result",
          "data": {
            "text/plain": [
              "450"
            ]
          },
          "metadata": {},
          "execution_count": 30
        }
      ],
      "source": [
        "answers['22'] = data[(data['month'] == '6/') | (data['month'] == '7/') | (data['month'] == '8/')].count()[0]\n",
        "answers['22'] "
      ]
    },
    {
      "cell_type": "markdown",
      "metadata": {
        "id": "G94ppOY1VqAA"
      },
      "source": [
        "# 23. Для какого режиссера зима – самое продуктивное время года? "
      ]
    },
    {
      "cell_type": "code",
      "execution_count": 31,
      "metadata": {
        "id": "RhNTsamuVqAB",
        "colab": {
          "base_uri": "https://localhost:8080/",
          "height": 36
        },
        "outputId": "5f746822-76a1-4551-b14e-a5bf43784198"
      },
      "outputs": [
        {
          "output_type": "execute_result",
          "data": {
            "text/plain": [
              "'Peter Jackson'"
            ],
            "application/vnd.google.colaboratory.intrinsic+json": {
              "type": "string"
            }
          },
          "metadata": {},
          "execution_count": 31
        }
      ],
      "source": [
        "answers['23'] = data[(data['month'] == '1/') | (data['month'] == '2/') | (data['month'] == '12')].groupby('director').original_title.count().sort_values(ascending=False).index[0]\n",
        "answers['23']"
      ]
    },
    {
      "cell_type": "markdown",
      "metadata": {
        "id": "RBo0JVjVVqAF"
      },
      "source": [
        "# 24. Какая студия дает самые длинные названия своим фильмам по количеству символов?"
      ]
    },
    {
      "cell_type": "code",
      "execution_count": 32,
      "metadata": {
        "id": "QRGS8L0iVqAG",
        "colab": {
          "base_uri": "https://localhost:8080/"
        },
        "outputId": "e0360d8d-0700-4754-fe91-78add1f7d6c4"
      },
      "outputs": [
        {
          "output_type": "execute_result",
          "data": {
            "text/plain": [
              "1448    Twentieth Century Fox Film Corporation|Four By...\n",
              "Name: production_companies, dtype: object"
            ]
          },
          "metadata": {},
          "execution_count": 32
        }
      ],
      "source": [
        "data['len'] = data.original_title.str.len()\n",
        "# data.iloc[data.original_title.str.len().sort_values(ascending=False)]\n",
        "# .groupby('director').original_title.count()\n",
        "answers['24'] = data[data.len == data.len.max()].production_companies\n",
        "answers['24']  "
      ]
    },
    {
      "cell_type": "code",
      "source": [
        ""
      ],
      "metadata": {
        "id": "y-9sxQOtyTHZ"
      },
      "execution_count": 32,
      "outputs": []
    },
    {
      "cell_type": "markdown",
      "metadata": {
        "id": "9G0hbvR7VqAK"
      },
      "source": [
        "# 25. Описание фильмов какой студии в среднем самые длинные по количеству слов?"
      ]
    },
    {
      "cell_type": "code",
      "source": [
        "# data.overview.str.len()\n",
        "data['len_o'] = data.overview.str.len()\n",
        "answers['25'] = data.groupby('production_companies').len_o.mean().sort_values(ascending=False)[0:1]\n",
        "answers['25']"
      ],
      "metadata": {
        "colab": {
          "base_uri": "https://localhost:8080/"
        },
        "id": "q_5y_Q-8OL_J",
        "outputId": "76e8eeb4-cbae-47c3-c871-f37b9104ac31"
      },
      "execution_count": 49,
      "outputs": [
        {
          "output_type": "execute_result",
          "data": {
            "text/plain": [
              "production_companies\n",
              "Lions Gate Films|Lakeshore Entertainment|GreeneStreet Films|Midnight Picture Show    1000.0\n",
              "Name: len_o, dtype: float64"
            ]
          },
          "metadata": {},
          "execution_count": 49
        }
      ]
    },
    {
      "cell_type": "markdown",
      "metadata": {
        "id": "FJ1AFt90VqAP"
      },
      "source": [
        "# 26. Какие фильмы входят в 1 процент лучших по рейтингу? \n",
        "по vote_average"
      ]
    },
    {
      "cell_type": "code",
      "execution_count": 50,
      "metadata": {
        "id": "8qmJVq4CVqAQ",
        "colab": {
          "base_uri": "https://localhost:8080/"
        },
        "outputId": "27794950-73e0-4e95-e42f-27ae673e50e3"
      },
      "outputs": [
        {
          "output_type": "execute_result",
          "data": {
            "text/plain": [
              "599                                   The Dark Knight\n",
              "118                                      Interstellar\n",
              "125                                The Imitation Game\n",
              "9                                          Inside Out\n",
              "34                                               Room\n",
              "1183                          The Wolf of Wall Street\n",
              "128                                         Gone Girl\n",
              "1191                                 12 Years a Slave\n",
              "119                           Guardians of the Galaxy\n",
              "1081    The Lord of the Rings: The Return of the King\n",
              "Name: original_title, dtype: object"
            ]
          },
          "metadata": {},
          "execution_count": 50
        }
      ],
      "source": [
        "# data[data == data.vote_average.sort_values(ascending=False)]\n",
        "data26 = data.sort_values(by=['vote_average'], ascending=False)\n",
        "# data.vote_average.describe()\n",
        "# data[data.vote_average > 8]\n",
        "answers['26'] = data26.original_title.head(10)\n",
        "answers['26']\n"
      ]
    },
    {
      "cell_type": "markdown",
      "metadata": {
        "id": "MdXsUXbCVqAV"
      },
      "source": [
        "# 27. Какие актеры чаще всего снимаются в одном фильме вместе?\n"
      ]
    },
    {
      "cell_type": "markdown",
      "metadata": {
        "id": "4ymnxEVoVqAW"
      },
      "source": [
        "ВАРИАНТ 2"
      ]
    },
    {
      "cell_type": "code",
      "source": [
        "print(data[data.cast.str.contains('Johnny Depp', regex=False) & data.cast.str.contains('Helena Bonham Carter', regex=False)].cast.count())\n",
        "print(data[data.cast.str.contains('Ben Stiller', regex=False) & data.cast.str.contains('Owen Wilson', regex=False)].cast.count())\n",
        "print(data[data.cast.str.contains('Vin Diesel', regex=False) & data.cast.str.contains('Paul Walker', regex=False)].cast.count())\n",
        "print(data[data.cast.str.contains('Adam Sandler', regex=False) & data.cast.str.contains('Kevin James', regex=False)].cast.count())\n",
        "print(data[data.cast.str.contains('Daniel Radcliffe', regex=False) & data.cast.str.contains('Rupert Grint', regex=False)].cast.count())\n",
        "answers['27'] = 'Daniel Radcliffe & Rupert Grint'"
      ],
      "metadata": {
        "colab": {
          "base_uri": "https://localhost:8080/"
        },
        "id": "vMU8gbyz6769",
        "outputId": "675a75a4-57d1-4d70-8e55-57f6bd259309"
      },
      "execution_count": 51,
      "outputs": [
        {
          "output_type": "stream",
          "name": "stdout",
          "text": [
            "6\n",
            "6\n",
            "5\n",
            "5\n",
            "8\n"
          ]
        }
      ]
    },
    {
      "cell_type": "markdown",
      "metadata": {
        "id": "U0nONFnGVqAX"
      },
      "source": [
        "# Submission"
      ]
    },
    {
      "cell_type": "code",
      "execution_count": 52,
      "metadata": {
        "id": "IfcaRO9-VqAX",
        "outputId": "df6be41a-d703-4a98-98c7-7ea337015609",
        "colab": {
          "base_uri": "https://localhost:8080/"
        }
      },
      "outputs": [
        {
          "output_type": "execute_result",
          "data": {
            "text/plain": [
              "{'1': 723    Pirates of the Caribbean: On Stranger Tides\n",
              " Name: original_title, dtype: object, '10': 1245    The Lone Ranger\n",
              " Name: original_title, dtype: object, '11': 'Comedy', '12': 'Comedy', '13': 'James Cameron', '14': Rob Cohen                2\n",
              " Christopher McQuarrie    1\n",
              " Kevin Macdonald          1\n",
              " Paul McGuigan            1\n",
              " Ridley Scott             1\n",
              " Andy Tennant             1\n",
              " Renny Harlin             1\n",
              " John Moore               1\n",
              " Robert Rodriguez         1\n",
              " Harald Zwart             1\n",
              " Rob Bowman               1\n",
              " Sydney Pollack           1\n",
              " Andrew Davis             1\n",
              " Joseph Kahn              1\n",
              " Marcus Nispel            1\n",
              " Name: director, dtype: int64, '15': 'Robert Downey Jr.|Chris Evans|Mark Ruffalo|Chris Hemsworth|Scarlett Johansson', '16': 'Adam Sandler', '17': 'Action', '18': 925    K-19: The Widowmaker\n",
              " Name: original_title, dtype: object, '19': 2015, '2': 1157    Gods and Generals\n",
              " Name: original_title, dtype: object, '20': '2011', '21': '9', '22': 450, '23': 'Peter Jackson', '24': 1448    Twentieth Century Fox Film Corporation|Four By...\n",
              " Name: production_companies, dtype: object, '25': production_companies\n",
              " Lions Gate Films|Lakeshore Entertainment|GreeneStreet Films|Midnight Picture Show    1000.0\n",
              " Name: len_o, dtype: float64, '26': 599                                   The Dark Knight\n",
              " 118                                      Interstellar\n",
              " 125                                The Imitation Game\n",
              " 9                                          Inside Out\n",
              " 34                                               Room\n",
              " 1183                          The Wolf of Wall Street\n",
              " 128                                         Gone Girl\n",
              " 1191                                 12 Years a Slave\n",
              " 119                           Guardians of the Galaxy\n",
              " 1081    The Lord of the Rings: The Return of the King\n",
              " Name: original_title, dtype: object, '27': 'Daniel Radcliffe & Rupert Grint', '3': 768    Winnie the Pooh\n",
              " Name: original_title, dtype: object, '4': 110, '5': 107, '6': 239    Avatar\n",
              " Name: original_title, dtype: object, '7': 1245    The Lone Ranger\n",
              " Name: original_title, dtype: object, '8': 1478, '9': 599    The Dark Knight\n",
              " Name: original_title, dtype: object}"
            ]
          },
          "metadata": {},
          "execution_count": 52
        }
      ],
      "source": [
        "# в конце можно посмотреть свои ответы к каждому вопросу\n",
        "answers"
      ]
    },
    {
      "cell_type": "code",
      "execution_count": 53,
      "metadata": {
        "id": "SiRmHPl8VqAd",
        "colab": {
          "base_uri": "https://localhost:8080/"
        },
        "outputId": "0c9b55d4-6982-4428-ace6-fe88c0c3b0cc"
      },
      "outputs": [
        {
          "output_type": "execute_result",
          "data": {
            "text/plain": [
              "27"
            ]
          },
          "metadata": {},
          "execution_count": 53
        }
      ],
      "source": [
        "# и убедиться что ни чего не пропустил)\n",
        "len(answers)"
      ]
    }
  ],
  "metadata": {
    "colab": {
      "name": "Movies_IMBD_v4.1_TEMPLATE.ipynb",
      "provenance": []
    },
    "kernelspec": {
      "display_name": "Python 3",
      "language": "python",
      "name": "python3"
    },
    "language_info": {
      "codemirror_mode": {
        "name": "ipython",
        "version": 3
      },
      "file_extension": ".py",
      "mimetype": "text/x-python",
      "name": "python",
      "nbconvert_exporter": "python",
      "pygments_lexer": "ipython3",
      "version": "3.7.4"
    }
  },
  "nbformat": 4,
  "nbformat_minor": 0
}