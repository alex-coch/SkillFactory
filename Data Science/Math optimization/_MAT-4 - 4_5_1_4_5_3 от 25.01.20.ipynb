{
 "cells": [
  {
   "cell_type": "code",
   "execution_count": 1,
   "metadata": {
    "colab": {},
    "colab_type": "code",
    "id": "C4sjo2NvFc_h"
   },
   "outputs": [],
   "source": [
    "from scipy.optimize import linprog\n",
    "import numpy as np"
   ]
  },
  {
   "cell_type": "markdown",
   "metadata": {
    "colab_type": "text",
    "id": "k3U55Q26Fc_k"
   },
   "source": [
    "# 4.5.1"
   ]
  },
  {
   "cell_type": "code",
   "execution_count": 2,
   "metadata": {
    "colab": {},
    "colab_type": "code",
    "id": "_TKxWbxvFc_l"
   },
   "outputs": [],
   "source": [
    "cost = np.array([\n",
    "    [2, 5, 3],\n",
    "    [7, 7, 6]\n",
    "])\n",
    "stock = np.array([180, 220])\n",
    "demand = np.array([110, 150, 140])\n",
    "num_warehouse = 2\n",
    "num_clients = 3\n"
   ]
  },
  {
   "cell_type": "markdown",
   "metadata": {
    "colab_type": "text",
    "id": "dB1QsDWHFc_n"
   },
   "source": [
    "$x_{ij}$ - how many items are taken from warehouse i to client j  \n",
    "$$f = \\sum_{i,j} cost_{ij} * x_{ij}$$"
   ]
  },
  {
   "cell_type": "code",
   "execution_count": 3,
   "metadata": {
    "colab": {
     "base_uri": "https://localhost:8080/",
     "height": 34
    },
    "colab_type": "code",
    "id": "j3XwUBwTFc_o",
    "outputId": "c00160e2-4c26-4ac4-9594-0fbe0de6c923"
   },
   "outputs": [
    {
     "name": "stdout",
     "output_type": "stream",
     "text": [
      "[2 5 3 7 7 6]\n"
     ]
    }
   ],
   "source": [
    "\n",
    "c = cost.flatten()\n",
    "print(c) "
   ]
  },
  {
   "cell_type": "markdown",
   "metadata": {
    "colab_type": "text",
    "id": "ev8Os8aoFc_s"
   },
   "source": [
    "For each warehouse number of taken items must be less than stock:\n",
    "$$\\forall i: \\sum_j x_{ij} \\leq stock_i$$"
   ]
  },
  {
   "cell_type": "code",
   "execution_count": 4,
   "metadata": {
    "colab": {
     "base_uri": "https://localhost:8080/",
     "height": 68
    },
    "colab_type": "code",
    "id": "SOeELA4tFc_s",
    "outputId": "4834a19a-1bfb-4d8a-b932-586bb9de37a3"
   },
   "outputs": [
    {
     "name": "stdout",
     "output_type": "stream",
     "text": [
      "[[1 1 1 0 0 0]\n",
      " [0 0 0 1 1 1]]\n",
      "[180 220]\n"
     ]
    }
   ],
   "source": [
    "A = []\n",
    "b = []\n",
    "for i in range(0, num_warehouse):\n",
    "    A.append([0] * (num_clients * i) + [1] * num_clients + [0] * (num_clients * (num_warehouse - i - 1)))\n",
    "    b.append(stock[i])\n",
    "A = np.asarray(A)\n",
    "b = np.asarray(b)\n",
    "print(A)\n",
    "print(b)"
   ]
  },
  {
   "cell_type": "markdown",
   "metadata": {
    "colab_type": "text",
    "id": "NGjTpw0yFc_w"
   },
   "source": [
    "For each client number of got items must be greater on equal than demand:\n",
    "$$\\forall j: \\sum_i x_{ij} \\geq demand_j$$\n",
    "Which is the same as:\n",
    "$$\\forall j: - \\sum_i x_{ij} \\leq -demand_j$$"
   ]
  },
  {
   "cell_type": "code",
   "execution_count": 5,
   "metadata": {
    "colab": {
     "base_uri": "https://localhost:8080/",
     "height": 119
    },
    "colab_type": "code",
    "id": "yn3XHKXKFc_x",
    "outputId": "568ce9c8-0ca8-4742-d3a3-0a87f49a9092"
   },
   "outputs": [
    {
     "name": "stdout",
     "output_type": "stream",
     "text": [
      "[[ 1  1  1  0  0  0]\n",
      " [ 0  0  0  1  1  1]\n",
      " [-1  0  0 -1  0  0]\n",
      " [ 0 -1  0  0 -1  0]\n",
      " [ 0  0 -1  0  0 -1]]\n",
      "[ 180  220 -110 -150 -140]\n"
     ]
    }
   ],
   "source": [
    "A = A.tolist()\n",
    "b = b.tolist()\n",
    "for j in range(0, num_clients):\n",
    "    A.append(([0] * j + [-1] + [0] * (num_clients - j - 1)) * num_warehouse)\n",
    "    b.append(-demand[j])\n",
    "A = np.asarray(A)\n",
    "b = np.asarray(b)\n",
    "print(A)\n",
    "print(b)"
   ]
  },
  {
   "cell_type": "code",
   "execution_count": 6,
   "metadata": {
    "colab": {
     "base_uri": "https://localhost:8080/",
     "height": 187
    },
    "colab_type": "code",
    "id": "CMn06RkFFc_0",
    "outputId": "a17542b6-c0dd-444e-a412-4f2d179f379d"
   },
   "outputs": [
    {
     "data": {
      "text/plain": [
       "     con: array([], dtype=float64)\n",
       "     fun: 1900.0\n",
       " message: 'Optimization terminated successfully.'\n",
       "     nit: 9\n",
       "   slack: array([0., 0., 0., 0., 0.])\n",
       "  status: 0\n",
       " success: True\n",
       "       x: array([110.,   0.,  70.,   0., 150.,  70.])"
      ]
     },
     "execution_count": 6,
     "metadata": {},
     "output_type": "execute_result"
    }
   ],
   "source": [
    "linprog(c=c, A_ub=A, b_ub=b)"
   ]
  },
  {
   "cell_type": "markdown",
   "metadata": {
    "colab_type": "text",
    "id": "cnUlJnFgFc_3"
   },
   "source": [
    "Answer: 110 items from warehouse 1 to client 1, 110 items from warehouse 1 to client 3,  70 items from warehouse 1 to client 3, \n",
    "150 items from warehouse 2 to client 2, 70 items from warehouse 2 to client 3, "
   ]
  },
  {
   "cell_type": "markdown",
   "metadata": {
    "colab_type": "text",
    "id": "kx8AqfurFc_4"
   },
   "source": [
    "# 4.5.2"
   ]
  },
  {
   "cell_type": "code",
   "execution_count": 7,
   "metadata": {
    "colab": {},
    "colab_type": "code",
    "id": "hhCg5xr4Fc_5"
   },
   "outputs": [],
   "source": [
    "import cvxpy as cvx"
   ]
  },
  {
   "cell_type": "markdown",
   "metadata": {
    "colab_type": "text",
    "id": "ve8kvbp3Fc_7"
   },
   "source": [
    "#### Матрица стоимостей $C$"
   ]
  },
  {
   "cell_type": "code",
   "execution_count": 8,
   "metadata": {
    "colab": {},
    "colab_type": "code",
    "id": "cneKD5wHFc_8"
   },
   "outputs": [],
   "source": [
    "c = np.array([[1000, 12, 10, 19, 8],\n",
    "    [12, 1000, 3, 7, 2], \n",
    "    [10, 3, 1000, 6, 20], \n",
    "    [19, 7, 6, 1000, 4], \n",
    "    [8, 2, 20, 4, 1000]])\n",
    "\n"
   ]
  },
  {
   "cell_type": "markdown",
   "metadata": {
    "colab_type": "text",
    "id": "UwD5zNQUFc_-"
   },
   "source": [
    "#### Матрица переменных $X$"
   ]
  },
  {
   "cell_type": "code",
   "execution_count": 9,
   "metadata": {
    "colab": {},
    "colab_type": "code",
    "id": "vlZ6amgBFc__"
   },
   "outputs": [],
   "source": [
    "x = cvx.Variable(shape=(5,5), boolean=True)"
   ]
  },
  {
   "cell_type": "markdown",
   "metadata": {
    "colab_type": "text",
    "id": "70zbMCPuFdAB"
   },
   "source": [
    "#### Ограничения (сумма $X$ по строкам и столбцам равна 1)"
   ]
  },
  {
   "cell_type": "code",
   "execution_count": 10,
   "metadata": {
    "colab": {},
    "colab_type": "code",
    "id": "GSDUt5mfFdAB"
   },
   "outputs": [],
   "source": [
    "constraints = [\n",
    "    cvx.sum(x, axis=0) == np.ones(5),\n",
    "    cvx.sum(x, axis=1) == np.ones(5)\n",
    "]\n",
    "    "
   ]
  },
  {
   "cell_type": "markdown",
   "metadata": {
    "colab_type": "text",
    "id": "44fgYK_pFdAE"
   },
   "source": [
    "#### Целевая функция (сумма $CX$)"
   ]
  },
  {
   "cell_type": "code",
   "execution_count": 11,
   "metadata": {
    "colab": {},
    "colab_type": "code",
    "id": "IHe9F6Q7FdAF"
   },
   "outputs": [],
   "source": [
    "func = cvx.sum(cvx.multiply(x, c))"
   ]
  },
  {
   "cell_type": "code",
   "execution_count": 12,
   "metadata": {
    "colab": {},
    "colab_type": "code",
    "id": "kg-ceJm5FdAI"
   },
   "outputs": [],
   "source": [
    "problem = cvx.Problem(cvx.Minimize(func), constraints=constraints)"
   ]
  },
  {
   "cell_type": "markdown",
   "metadata": {
    "colab_type": "text",
    "id": "B6ErVQVNFdAK"
   },
   "source": [
    "#### Ответ"
   ]
  },
  {
   "cell_type": "code",
   "execution_count": 13,
   "metadata": {
    "colab": {
     "base_uri": "https://localhost:8080/",
     "height": 34
    },
    "colab_type": "code",
    "id": "G3s6BBjbFdAL",
    "outputId": "9fa735af-7e08-4edf-a37b-dd21104e969e"
   },
   "outputs": [
    {
     "data": {
      "text/plain": [
       "31.999999999961364"
      ]
     },
     "execution_count": 13,
     "metadata": {},
     "output_type": "execute_result"
    }
   ],
   "source": [
    "problem.solve()"
   ]
  },
  {
   "cell_type": "markdown",
   "metadata": {
    "colab_type": "text",
    "id": "ZlgrYcndFdAO"
   },
   "source": [
    "#### Выбранные ячейки матрицы"
   ]
  },
  {
   "cell_type": "code",
   "execution_count": 14,
   "metadata": {
    "colab": {
     "base_uri": "https://localhost:8080/",
     "height": 102
    },
    "colab_type": "code",
    "id": "BGNvs2GgFdAO",
    "outputId": "d6fd9329-34eb-427e-db0d-8eead3894448"
   },
   "outputs": [
    {
     "data": {
      "text/plain": [
       "array([[ 0.,  0., -0., -0.,  1.],\n",
       "       [ 0., -0.,  0.,  1.,  0.],\n",
       "       [-0.,  1.,  0., -0., -0.],\n",
       "       [-0.,  0.,  1.,  0., -0.],\n",
       "       [ 1.,  0., -0., -0.,  0.]])"
      ]
     },
     "execution_count": 14,
     "metadata": {},
     "output_type": "execute_result"
    }
   ],
   "source": [
    "np.round(x.value)"
   ]
  },
  {
   "cell_type": "markdown",
   "metadata": {
    "colab_type": "text",
    "id": "e_6sKU1AFdAS"
   },
   "source": [
    "# 4.5.3"
   ]
  },
  {
   "cell_type": "code",
   "execution_count": 15,
   "metadata": {
    "colab": {},
    "colab_type": "code",
    "id": "fK_CjQL_FdAS"
   },
   "outputs": [],
   "source": [
    "x = cvx.Variable(shape=(5,5), boolean=True)\n",
    "u = cvx.Variable(shape=5, integer=True)"
   ]
  },
  {
   "cell_type": "code",
   "execution_count": 16,
   "metadata": {
    "colab": {},
    "colab_type": "code",
    "id": "JY1FvXpOFdAW"
   },
   "outputs": [],
   "source": [
    "from itertools import product"
   ]
  },
  {
   "cell_type": "code",
   "execution_count": 17,
   "metadata": {
    "colab": {},
    "colab_type": "code",
    "id": "SMKyDDNhFdAZ"
   },
   "outputs": [],
   "source": [
    "constraints = [\n",
    "    cvx.sum(x, axis=0) == np.ones(5),\n",
    "    cvx.sum(x, axis=1) == np.ones(5),\n",
    "    u >= 1,\n",
    "    u <= 4\n",
    "]\n",
    "\n",
    "for i, j in product(range(5), range(5)):\n",
    "    if i >= 1 and j >= 2 and i != j:\n",
    "        constraints.append(u[i] - u[j] + 5 * x[i,j] <= 4)\n"
   ]
  },
  {
   "cell_type": "code",
   "execution_count": 18,
   "metadata": {
    "colab": {},
    "colab_type": "code",
    "id": "w1Me0vF2FdAc"
   },
   "outputs": [],
   "source": [
    "func = cvx.sum(cvx.multiply(x, c))"
   ]
  },
  {
   "cell_type": "code",
   "execution_count": 19,
   "metadata": {
    "colab": {},
    "colab_type": "code",
    "id": "1sHRP0lhFdAd"
   },
   "outputs": [],
   "source": [
    "problem = cvx.Problem(cvx.Minimize(func), constraints=constraints)"
   ]
  },
  {
   "cell_type": "markdown",
   "metadata": {
    "colab_type": "text",
    "id": "9esVh5x0FdAh"
   },
   "source": [
    "### Ответ"
   ]
  },
  {
   "cell_type": "code",
   "execution_count": 20,
   "metadata": {
    "colab": {
     "base_uri": "https://localhost:8080/",
     "height": 34
    },
    "colab_type": "code",
    "id": "NGdwT3FXFdAh",
    "outputId": "39b3a50a-9f13-43ea-ae03-344a5acd675e"
   },
   "outputs": [
    {
     "data": {
      "text/plain": [
       "31.99999999996332"
      ]
     },
     "execution_count": 20,
     "metadata": {},
     "output_type": "execute_result"
    }
   ],
   "source": [
    "problem.solve()"
   ]
  },
  {
   "cell_type": "markdown",
   "metadata": {
    "colab_type": "text",
    "id": "o5HdNH8YFdAk"
   },
   "source": [
    "### Выбранные пути"
   ]
  },
  {
   "cell_type": "code",
   "execution_count": 21,
   "metadata": {
    "colab": {
     "base_uri": "https://localhost:8080/",
     "height": 102
    },
    "colab_type": "code",
    "id": "3PPI6ZqKFdAk",
    "outputId": "8ef3f533-0088-49d9-a8c6-2c6194efa384"
   },
   "outputs": [
    {
     "data": {
      "text/plain": [
       "array([[ 0.,  0.,  1., -0., -0.],\n",
       "       [-0., -0.,  0.,  1.,  0.],\n",
       "       [-0.,  1., -0.,  0.,  0.],\n",
       "       [-0., -0.,  0., -0.,  1.],\n",
       "       [ 1., -0.,  0.,  0., -0.]])"
      ]
     },
     "execution_count": 21,
     "metadata": {},
     "output_type": "execute_result"
    }
   ],
   "source": [
    "np.round(x.value)"
   ]
  },
  {
   "cell_type": "markdown",
   "metadata": {
    "colab_type": "text",
    "id": "SMmKkmQQFdAm"
   },
   "source": [
    "### Значения $u$\n",
    "$u[0]$ ничего не значит, она не фигурирует ни в ограничениях, ни в целевой функции"
   ]
  },
  {
   "cell_type": "code",
   "execution_count": 22,
   "metadata": {
    "colab": {
     "base_uri": "https://localhost:8080/",
     "height": 34
    },
    "colab_type": "code",
    "id": "Zk5NAEgvFdAn",
    "outputId": "2e6be73c-d160-46ab-9281-64d1c1f2b73d"
   },
   "outputs": [
    {
     "data": {
      "text/plain": [
       "array([3., 1., 3., 2., 4.])"
      ]
     },
     "execution_count": 22,
     "metadata": {},
     "output_type": "execute_result"
    }
   ],
   "source": [
    "np.round(u.value)"
   ]
  },
  {
   "cell_type": "markdown",
   "metadata": {
    "colab_type": "text",
    "id": "rcyDjb_CFdAp"
   },
   "source": [
    "Это означает, что вершина A - первая в маршруте, B - третья, C - вторая, D - четвёртая. Эту же информацию можно достать из матрицы $X$.  \n",
    "Искомое решение.\n",
    "\n",
    "![alt text](https://i.ibb.co/qJzt4LW/image.png)"
   ]
  },
  {
   "cell_type": "code",
   "execution_count": 0,
   "metadata": {
    "colab": {},
    "colab_type": "code",
    "id": "xpi7id6XFnow"
   },
   "outputs": [],
   "source": []
  }
 ],
 "metadata": {
  "colab": {
   "name": "4.5.1-4.5.3.ipynb",
   "provenance": []
  },
  "kernelspec": {
   "display_name": "Python 3",
   "language": "python",
   "name": "python3"
  },
  "language_info": {
   "codemirror_mode": {
    "name": "ipython",
    "version": 3
   },
   "file_extension": ".py",
   "mimetype": "text/x-python",
   "name": "python",
   "nbconvert_exporter": "python",
   "pygments_lexer": "ipython3",
   "version": "3.7.3"
  }
 },
 "nbformat": 4,
 "nbformat_minor": 1
}
