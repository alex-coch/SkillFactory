{
  "cells": [
    {
      "cell_type": "markdown",
      "id": "deb8c502",
      "metadata": {
        "id": "deb8c502"
      },
      "source": [
        "# Модуль 25. A/B-тестирование: подготовка и проведение"
      ]
    },
    {
      "cell_type": "markdown",
      "id": "b8b26a4d",
      "metadata": {
        "id": "b8b26a4d"
      },
      "source": [
        "## Мини-проект"
      ]
    },
    {
      "cell_type": "markdown",
      "id": "ebde0a08",
      "metadata": {
        "id": "ebde0a08"
      },
      "source": [
        "**ПОСТАНОВКА ЗАДАЧИ**\n",
        "\n",
        "К вам попали результаты A/A/B-тестирования от одного известного маркетплейса.\n",
        "\n",
        "* *sample_a*, *sample_c* — АА-группы;\n",
        "* *sample_b* — отдельная группа.\n",
        "\n",
        "В каждом датасете есть три типа действий пользователей: 0 — клик, 1 — просмотр и 2 — покупка (пользователь просматривает выдачу товаров, кликает на понравившийся товар и совершает покупку).\n",
        "\n",
        "Маркетплейс ориентируется на следующие метрики:\n",
        "\n",
        "* *ctr* (отношение кликов к просмотрам товаров);\n",
        "* *purchase rate* (отношение покупок к просмотрам товаров);\n",
        "* *gmv* (оборот, сумма произведений количества покупок на стоимость покупки), где считаем 1 сессию за 1 точку (1 сессия на 1 пользователя)."
      ]
    },
    {
      "cell_type": "markdown",
      "id": "6aaead62",
      "metadata": {
        "id": "6aaead62"
      },
      "source": [
        "Данные уже почищены по сессиям, вы можете использовать их в агрегированном виде. Ваша задача — понять, нет ли проблемы с разъезжанием сплитов и улучшает ли алгоритм B работу маркетплейса.\n",
        "\n",
        "Тест Шапиро-Уилка проведите на *alpha* = 0,01."
      ]
    },
    {
      "cell_type": "markdown",
      "id": "b0018afd",
      "metadata": {
        "id": "b0018afd"
      },
      "source": [
        "**Исходные данные:** Датасеты:\n",
        "1. *sample_a.csv*;\n",
        "2. *sample_b.csv*;\n",
        "3. *sample_c.csv*;\n",
        "4. *item_prices.csv*."
      ]
    },
    {
      "cell_type": "markdown",
      "id": "7ed9ebd4",
      "metadata": {
        "id": "7ed9ebd4"
      },
      "source": [
        "**1. Загрузка, анализ и предобработка данных. Расчет метрик**"
      ]
    },
    {
      "cell_type": "code",
      "execution_count": null,
      "id": "d63bc5ba",
      "metadata": {
        "id": "d63bc5ba"
      },
      "outputs": [],
      "source": [
        "# Импорт требуемых модулей и библиотек\n",
        "import warnings\n",
        "warnings.filterwarnings(\"ignore\")\n",
        "\n",
        "import pandas as pd\n",
        "import math\n",
        "from scipy import stats\n",
        "from scipy.stats import shapiro\n",
        "from statsmodels.stats.proportion import proportions_ztest\n",
        "from scipy.stats import mannwhitneyu"
      ]
    },
    {
      "cell_type": "markdown",
      "id": "82fd6401",
      "metadata": {
        "id": "82fd6401"
      },
      "source": [
        "**1.1. Анализ и обработка датасета *item_prices***"
      ]
    },
    {
      "cell_type": "markdown",
      "id": "456a93fa",
      "metadata": {
        "id": "456a93fa"
      },
      "source": [
        "Начнем рассмотрение датасетов с последнего, т.к. из перевода его названия - \"Цены товаров\" - получается, что он должен содержать справочник цен товаров с которыми работает маркетплейс."
      ]
    },
    {
      "cell_type": "code",
      "source": [
        "!unzip"
      ],
      "metadata": {
        "id": "YFB9L242Bfg3"
      },
      "id": "YFB9L242Bfg3",
      "execution_count": null,
      "outputs": []
    },
    {
      "cell_type": "code",
      "execution_count": 4,
      "id": "a3955944",
      "metadata": {
        "id": "a3955944",
        "outputId": "f807fed6-28d8-4b1b-919f-0bea4c3acf11",
        "colab": {
          "base_uri": "https://localhost:8080/",
          "height": 112
        }
      },
      "outputs": [
        {
          "output_type": "execute_result",
          "data": {
            "text/plain": [
              "     item_id  item_price\n",
              "576     3078        1555\n",
              "820     9604        1788"
            ],
            "text/html": [
              "\n",
              "\n",
              "  <div id=\"df-9bdbbb9f-4adf-4a1c-8c09-9b49dc6ecce3\">\n",
              "    <div class=\"colab-df-container\">\n",
              "      <div>\n",
              "<style scoped>\n",
              "    .dataframe tbody tr th:only-of-type {\n",
              "        vertical-align: middle;\n",
              "    }\n",
              "\n",
              "    .dataframe tbody tr th {\n",
              "        vertical-align: top;\n",
              "    }\n",
              "\n",
              "    .dataframe thead th {\n",
              "        text-align: right;\n",
              "    }\n",
              "</style>\n",
              "<table border=\"1\" class=\"dataframe\">\n",
              "  <thead>\n",
              "    <tr style=\"text-align: right;\">\n",
              "      <th></th>\n",
              "      <th>item_id</th>\n",
              "      <th>item_price</th>\n",
              "    </tr>\n",
              "  </thead>\n",
              "  <tbody>\n",
              "    <tr>\n",
              "      <th>576</th>\n",
              "      <td>3078</td>\n",
              "      <td>1555</td>\n",
              "    </tr>\n",
              "    <tr>\n",
              "      <th>820</th>\n",
              "      <td>9604</td>\n",
              "      <td>1788</td>\n",
              "    </tr>\n",
              "  </tbody>\n",
              "</table>\n",
              "</div>\n",
              "      <button class=\"colab-df-convert\" onclick=\"convertToInteractive('df-9bdbbb9f-4adf-4a1c-8c09-9b49dc6ecce3')\"\n",
              "              title=\"Convert this dataframe to an interactive table.\"\n",
              "              style=\"display:none;\">\n",
              "\n",
              "  <svg xmlns=\"http://www.w3.org/2000/svg\" height=\"24px\"viewBox=\"0 0 24 24\"\n",
              "       width=\"24px\">\n",
              "    <path d=\"M0 0h24v24H0V0z\" fill=\"none\"/>\n",
              "    <path d=\"M18.56 5.44l.94 2.06.94-2.06 2.06-.94-2.06-.94-.94-2.06-.94 2.06-2.06.94zm-11 1L8.5 8.5l.94-2.06 2.06-.94-2.06-.94L8.5 2.5l-.94 2.06-2.06.94zm10 10l.94 2.06.94-2.06 2.06-.94-2.06-.94-.94-2.06-.94 2.06-2.06.94z\"/><path d=\"M17.41 7.96l-1.37-1.37c-.4-.4-.92-.59-1.43-.59-.52 0-1.04.2-1.43.59L10.3 9.45l-7.72 7.72c-.78.78-.78 2.05 0 2.83L4 21.41c.39.39.9.59 1.41.59.51 0 1.02-.2 1.41-.59l7.78-7.78 2.81-2.81c.8-.78.8-2.07 0-2.86zM5.41 20L4 18.59l7.72-7.72 1.47 1.35L5.41 20z\"/>\n",
              "  </svg>\n",
              "      </button>\n",
              "\n",
              "\n",
              "\n",
              "    <div id=\"df-d8ba2775-78a8-4562-b49f-982f7026a3b4\">\n",
              "      <button class=\"colab-df-quickchart\" onclick=\"quickchart('df-d8ba2775-78a8-4562-b49f-982f7026a3b4')\"\n",
              "              title=\"Suggest charts.\"\n",
              "              style=\"display:none;\">\n",
              "\n",
              "<svg xmlns=\"http://www.w3.org/2000/svg\" height=\"24px\"viewBox=\"0 0 24 24\"\n",
              "     width=\"24px\">\n",
              "    <g>\n",
              "        <path d=\"M19 3H5c-1.1 0-2 .9-2 2v14c0 1.1.9 2 2 2h14c1.1 0 2-.9 2-2V5c0-1.1-.9-2-2-2zM9 17H7v-7h2v7zm4 0h-2V7h2v10zm4 0h-2v-4h2v4z\"/>\n",
              "    </g>\n",
              "</svg>\n",
              "      </button>\n",
              "    </div>\n",
              "\n",
              "<style>\n",
              "  .colab-df-quickchart {\n",
              "    background-color: #E8F0FE;\n",
              "    border: none;\n",
              "    border-radius: 50%;\n",
              "    cursor: pointer;\n",
              "    display: none;\n",
              "    fill: #1967D2;\n",
              "    height: 32px;\n",
              "    padding: 0 0 0 0;\n",
              "    width: 32px;\n",
              "  }\n",
              "\n",
              "  .colab-df-quickchart:hover {\n",
              "    background-color: #E2EBFA;\n",
              "    box-shadow: 0px 1px 2px rgba(60, 64, 67, 0.3), 0px 1px 3px 1px rgba(60, 64, 67, 0.15);\n",
              "    fill: #174EA6;\n",
              "  }\n",
              "\n",
              "  [theme=dark] .colab-df-quickchart {\n",
              "    background-color: #3B4455;\n",
              "    fill: #D2E3FC;\n",
              "  }\n",
              "\n",
              "  [theme=dark] .colab-df-quickchart:hover {\n",
              "    background-color: #434B5C;\n",
              "    box-shadow: 0px 1px 3px 1px rgba(0, 0, 0, 0.15);\n",
              "    filter: drop-shadow(0px 1px 2px rgba(0, 0, 0, 0.3));\n",
              "    fill: #FFFFFF;\n",
              "  }\n",
              "</style>\n",
              "\n",
              "    <script>\n",
              "      async function quickchart(key) {\n",
              "        const containerElement = document.querySelector('#' + key);\n",
              "        const charts = await google.colab.kernel.invokeFunction(\n",
              "            'suggestCharts', [key], {});\n",
              "      }\n",
              "    </script>\n",
              "\n",
              "      <script>\n",
              "\n",
              "function displayQuickchartButton(domScope) {\n",
              "  let quickchartButtonEl =\n",
              "    domScope.querySelector('#df-d8ba2775-78a8-4562-b49f-982f7026a3b4 button.colab-df-quickchart');\n",
              "  quickchartButtonEl.style.display =\n",
              "    google.colab.kernel.accessAllowed ? 'block' : 'none';\n",
              "}\n",
              "\n",
              "        displayQuickchartButton(document);\n",
              "      </script>\n",
              "      <style>\n",
              "    .colab-df-container {\n",
              "      display:flex;\n",
              "      flex-wrap:wrap;\n",
              "      gap: 12px;\n",
              "    }\n",
              "\n",
              "    .colab-df-convert {\n",
              "      background-color: #E8F0FE;\n",
              "      border: none;\n",
              "      border-radius: 50%;\n",
              "      cursor: pointer;\n",
              "      display: none;\n",
              "      fill: #1967D2;\n",
              "      height: 32px;\n",
              "      padding: 0 0 0 0;\n",
              "      width: 32px;\n",
              "    }\n",
              "\n",
              "    .colab-df-convert:hover {\n",
              "      background-color: #E2EBFA;\n",
              "      box-shadow: 0px 1px 2px rgba(60, 64, 67, 0.3), 0px 1px 3px 1px rgba(60, 64, 67, 0.15);\n",
              "      fill: #174EA6;\n",
              "    }\n",
              "\n",
              "    [theme=dark] .colab-df-convert {\n",
              "      background-color: #3B4455;\n",
              "      fill: #D2E3FC;\n",
              "    }\n",
              "\n",
              "    [theme=dark] .colab-df-convert:hover {\n",
              "      background-color: #434B5C;\n",
              "      box-shadow: 0px 1px 3px 1px rgba(0, 0, 0, 0.15);\n",
              "      filter: drop-shadow(0px 1px 2px rgba(0, 0, 0, 0.3));\n",
              "      fill: #FFFFFF;\n",
              "    }\n",
              "  </style>\n",
              "\n",
              "      <script>\n",
              "        const buttonEl =\n",
              "          document.querySelector('#df-9bdbbb9f-4adf-4a1c-8c09-9b49dc6ecce3 button.colab-df-convert');\n",
              "        buttonEl.style.display =\n",
              "          google.colab.kernel.accessAllowed ? 'block' : 'none';\n",
              "\n",
              "        async function convertToInteractive(key) {\n",
              "          const element = document.querySelector('#df-9bdbbb9f-4adf-4a1c-8c09-9b49dc6ecce3');\n",
              "          const dataTable =\n",
              "            await google.colab.kernel.invokeFunction('convertToInteractive',\n",
              "                                                     [key], {});\n",
              "          if (!dataTable) return;\n",
              "\n",
              "          const docLinkHtml = 'Like what you see? Visit the ' +\n",
              "            '<a target=\"_blank\" href=https://colab.research.google.com/notebooks/data_table.ipynb>data table notebook</a>'\n",
              "            + ' to learn more about interactive tables.';\n",
              "          element.innerHTML = '';\n",
              "          dataTable['output_type'] = 'display_data';\n",
              "          await google.colab.output.renderOutput(dataTable, element);\n",
              "          const docLink = document.createElement('div');\n",
              "          docLink.innerHTML = docLinkHtml;\n",
              "          element.appendChild(docLink);\n",
              "        }\n",
              "      </script>\n",
              "    </div>\n",
              "  </div>\n"
            ]
          },
          "metadata": {},
          "execution_count": 4
        }
      ],
      "source": [
        "data = pd.read_csv(\"item_prices.csv\")\n",
        "data.sample(2)"
      ]
    },
    {
      "cell_type": "code",
      "execution_count": 5,
      "id": "ec3729ce",
      "metadata": {
        "id": "ec3729ce",
        "outputId": "6157fb4e-aa3a-4f2f-ce7e-651104ea66bc",
        "colab": {
          "base_uri": "https://localhost:8080/"
        }
      },
      "outputs": [
        {
          "output_type": "stream",
          "name": "stdout",
          "text": [
            "<class 'pandas.core.frame.DataFrame'>\n",
            "RangeIndex: 1000 entries, 0 to 999\n",
            "Data columns (total 2 columns):\n",
            " #   Column      Non-Null Count  Dtype\n",
            "---  ------      --------------  -----\n",
            " 0   item_id     1000 non-null   int64\n",
            " 1   item_price  1000 non-null   int64\n",
            "dtypes: int64(2)\n",
            "memory usage: 15.8 KB\n"
          ]
        }
      ],
      "source": [
        "data.info()"
      ]
    },
    {
      "cell_type": "markdown",
      "id": "1c8e2852",
      "metadata": {
        "id": "1c8e2852"
      },
      "source": [
        "Как и предполагалось из названия, это датасет-справочник, в котором два признака:\n",
        "\n",
        "* *item_id* - идентификатор товара;\n",
        "* *item_price* - цена товара.\n",
        "\n",
        "Проверим этот датасет на наличие полных дубликатов:"
      ]
    },
    {
      "cell_type": "code",
      "execution_count": 6,
      "id": "6039aafe",
      "metadata": {
        "id": "6039aafe",
        "outputId": "7e986f91-4b2b-46f9-e754-5734cc3b8bfe",
        "colab": {
          "base_uri": "https://localhost:8080/"
        }
      },
      "outputs": [
        {
          "output_type": "execute_result",
          "data": {
            "text/plain": [
              "1000"
            ]
          },
          "metadata": {},
          "execution_count": 6
        }
      ],
      "source": [
        "data.drop_duplicates(inplace=True)\n",
        "data.shape[0]"
      ]
    },
    {
      "cell_type": "markdown",
      "id": "10c01c21",
      "metadata": {
        "id": "10c01c21"
      },
      "source": [
        "Видно, что количество строк в датасете после удаления дубликатов не изменилось, значит полных дубликатов в данных нет. Но, т.к. один и тот же товар в разное время может иметь разную цену, то нам для дальнейшей привязки этого справочника к другим датасетам, необходимо обеспечить уникальность записей в этом датасете по каждому товару. Проверим, обеспечивается ли это утверждение в предложенном датасете."
      ]
    },
    {
      "cell_type": "code",
      "execution_count": 7,
      "id": "e1258271",
      "metadata": {
        "id": "e1258271",
        "outputId": "fd283211-b8d2-4091-e56b-65fd4c1e4a74",
        "colab": {
          "base_uri": "https://localhost:8080/"
        }
      },
      "outputs": [
        {
          "output_type": "execute_result",
          "data": {
            "text/plain": [
              "955"
            ]
          },
          "metadata": {},
          "execution_count": 7
        }
      ],
      "source": [
        "price = set(data['item_id'])\n",
        "len(price)"
      ]
    },
    {
      "cell_type": "markdown",
      "id": "6de125b9",
      "metadata": {
        "id": "6de125b9"
      },
      "source": [
        "Результаты получения количества уникальных значений идентификатора товаров показали, что количество строк в датасете больше, чем это количество. Это говорит о том, что в предложенном датасете есть одинаковые товары с несколькими разными ценами. Рассмотрим эти значения."
      ]
    },
    {
      "cell_type": "code",
      "execution_count": 8,
      "id": "702194fa",
      "metadata": {
        "id": "702194fa",
        "outputId": "c54067c4-5351-462e-f435-203094189f8b",
        "colab": {
          "base_uri": "https://localhost:8080/"
        }
      },
      "outputs": [
        {
          "output_type": "execute_result",
          "data": {
            "text/plain": [
              "338     3\n",
              "8581    3\n",
              "5258    2\n",
              "7204    2\n",
              "8111    2\n",
              "2945    2\n",
              "6328    2\n",
              "2761    2\n",
              "4796    2\n",
              "2675    2\n",
              "533     2\n",
              "3890    2\n",
              "3006    2\n",
              "5121    2\n",
              "7963    2\n",
              "7580    2\n",
              "8604    2\n",
              "3521    2\n",
              "3387    2\n",
              "1915    2\n",
              "3375    2\n",
              "1555    2\n",
              "8871    2\n",
              "8669    2\n",
              "4220    2\n",
              "4104    2\n",
              "4359    2\n",
              "7688    2\n",
              "8589    2\n",
              "8010    2\n",
              "4440    2\n",
              "9068    2\n",
              "5556    2\n",
              "8165    2\n",
              "1173    2\n",
              "5891    2\n",
              "2622    2\n",
              "5941    2\n",
              "5037    2\n",
              "8382    2\n",
              "1883    2\n",
              "8679    2\n",
              "1462    2\n",
              "Name: item_id, dtype: int64"
            ]
          },
          "metadata": {},
          "execution_count": 8
        }
      ],
      "source": [
        "vc = data['item_id'].value_counts()\n",
        "vc[vc.values > 1]"
      ]
    },
    {
      "cell_type": "markdown",
      "id": "c62a7862",
      "metadata": {
        "id": "c62a7862"
      },
      "source": [
        "Из полученного результата видно, что в данных есть товары, у которых присутствует 2 и 3 цены. Посмотрим некоторые из них:"
      ]
    },
    {
      "cell_type": "code",
      "execution_count": 9,
      "id": "e93e009a",
      "metadata": {
        "id": "e93e009a",
        "outputId": "d42c744f-0cf8-414d-fe5d-9555bc1009d6",
        "colab": {
          "base_uri": "https://localhost:8080/",
          "height": 143
        }
      },
      "outputs": [
        {
          "output_type": "execute_result",
          "data": {
            "text/plain": [
              "     item_id  item_price\n",
              "0        338        1501\n",
              "797      338        1151\n",
              "977      338        1047"
            ],
            "text/html": [
              "\n",
              "\n",
              "  <div id=\"df-cc421f51-a142-483b-94b4-4ed297f705a4\">\n",
              "    <div class=\"colab-df-container\">\n",
              "      <div>\n",
              "<style scoped>\n",
              "    .dataframe tbody tr th:only-of-type {\n",
              "        vertical-align: middle;\n",
              "    }\n",
              "\n",
              "    .dataframe tbody tr th {\n",
              "        vertical-align: top;\n",
              "    }\n",
              "\n",
              "    .dataframe thead th {\n",
              "        text-align: right;\n",
              "    }\n",
              "</style>\n",
              "<table border=\"1\" class=\"dataframe\">\n",
              "  <thead>\n",
              "    <tr style=\"text-align: right;\">\n",
              "      <th></th>\n",
              "      <th>item_id</th>\n",
              "      <th>item_price</th>\n",
              "    </tr>\n",
              "  </thead>\n",
              "  <tbody>\n",
              "    <tr>\n",
              "      <th>0</th>\n",
              "      <td>338</td>\n",
              "      <td>1501</td>\n",
              "    </tr>\n",
              "    <tr>\n",
              "      <th>797</th>\n",
              "      <td>338</td>\n",
              "      <td>1151</td>\n",
              "    </tr>\n",
              "    <tr>\n",
              "      <th>977</th>\n",
              "      <td>338</td>\n",
              "      <td>1047</td>\n",
              "    </tr>\n",
              "  </tbody>\n",
              "</table>\n",
              "</div>\n",
              "      <button class=\"colab-df-convert\" onclick=\"convertToInteractive('df-cc421f51-a142-483b-94b4-4ed297f705a4')\"\n",
              "              title=\"Convert this dataframe to an interactive table.\"\n",
              "              style=\"display:none;\">\n",
              "\n",
              "  <svg xmlns=\"http://www.w3.org/2000/svg\" height=\"24px\"viewBox=\"0 0 24 24\"\n",
              "       width=\"24px\">\n",
              "    <path d=\"M0 0h24v24H0V0z\" fill=\"none\"/>\n",
              "    <path d=\"M18.56 5.44l.94 2.06.94-2.06 2.06-.94-2.06-.94-.94-2.06-.94 2.06-2.06.94zm-11 1L8.5 8.5l.94-2.06 2.06-.94-2.06-.94L8.5 2.5l-.94 2.06-2.06.94zm10 10l.94 2.06.94-2.06 2.06-.94-2.06-.94-.94-2.06-.94 2.06-2.06.94z\"/><path d=\"M17.41 7.96l-1.37-1.37c-.4-.4-.92-.59-1.43-.59-.52 0-1.04.2-1.43.59L10.3 9.45l-7.72 7.72c-.78.78-.78 2.05 0 2.83L4 21.41c.39.39.9.59 1.41.59.51 0 1.02-.2 1.41-.59l7.78-7.78 2.81-2.81c.8-.78.8-2.07 0-2.86zM5.41 20L4 18.59l7.72-7.72 1.47 1.35L5.41 20z\"/>\n",
              "  </svg>\n",
              "      </button>\n",
              "\n",
              "\n",
              "\n",
              "    <div id=\"df-7d4f2c81-b4de-423c-813b-e28399a80e35\">\n",
              "      <button class=\"colab-df-quickchart\" onclick=\"quickchart('df-7d4f2c81-b4de-423c-813b-e28399a80e35')\"\n",
              "              title=\"Suggest charts.\"\n",
              "              style=\"display:none;\">\n",
              "\n",
              "<svg xmlns=\"http://www.w3.org/2000/svg\" height=\"24px\"viewBox=\"0 0 24 24\"\n",
              "     width=\"24px\">\n",
              "    <g>\n",
              "        <path d=\"M19 3H5c-1.1 0-2 .9-2 2v14c0 1.1.9 2 2 2h14c1.1 0 2-.9 2-2V5c0-1.1-.9-2-2-2zM9 17H7v-7h2v7zm4 0h-2V7h2v10zm4 0h-2v-4h2v4z\"/>\n",
              "    </g>\n",
              "</svg>\n",
              "      </button>\n",
              "    </div>\n",
              "\n",
              "<style>\n",
              "  .colab-df-quickchart {\n",
              "    background-color: #E8F0FE;\n",
              "    border: none;\n",
              "    border-radius: 50%;\n",
              "    cursor: pointer;\n",
              "    display: none;\n",
              "    fill: #1967D2;\n",
              "    height: 32px;\n",
              "    padding: 0 0 0 0;\n",
              "    width: 32px;\n",
              "  }\n",
              "\n",
              "  .colab-df-quickchart:hover {\n",
              "    background-color: #E2EBFA;\n",
              "    box-shadow: 0px 1px 2px rgba(60, 64, 67, 0.3), 0px 1px 3px 1px rgba(60, 64, 67, 0.15);\n",
              "    fill: #174EA6;\n",
              "  }\n",
              "\n",
              "  [theme=dark] .colab-df-quickchart {\n",
              "    background-color: #3B4455;\n",
              "    fill: #D2E3FC;\n",
              "  }\n",
              "\n",
              "  [theme=dark] .colab-df-quickchart:hover {\n",
              "    background-color: #434B5C;\n",
              "    box-shadow: 0px 1px 3px 1px rgba(0, 0, 0, 0.15);\n",
              "    filter: drop-shadow(0px 1px 2px rgba(0, 0, 0, 0.3));\n",
              "    fill: #FFFFFF;\n",
              "  }\n",
              "</style>\n",
              "\n",
              "    <script>\n",
              "      async function quickchart(key) {\n",
              "        const containerElement = document.querySelector('#' + key);\n",
              "        const charts = await google.colab.kernel.invokeFunction(\n",
              "            'suggestCharts', [key], {});\n",
              "      }\n",
              "    </script>\n",
              "\n",
              "      <script>\n",
              "\n",
              "function displayQuickchartButton(domScope) {\n",
              "  let quickchartButtonEl =\n",
              "    domScope.querySelector('#df-7d4f2c81-b4de-423c-813b-e28399a80e35 button.colab-df-quickchart');\n",
              "  quickchartButtonEl.style.display =\n",
              "    google.colab.kernel.accessAllowed ? 'block' : 'none';\n",
              "}\n",
              "\n",
              "        displayQuickchartButton(document);\n",
              "      </script>\n",
              "      <style>\n",
              "    .colab-df-container {\n",
              "      display:flex;\n",
              "      flex-wrap:wrap;\n",
              "      gap: 12px;\n",
              "    }\n",
              "\n",
              "    .colab-df-convert {\n",
              "      background-color: #E8F0FE;\n",
              "      border: none;\n",
              "      border-radius: 50%;\n",
              "      cursor: pointer;\n",
              "      display: none;\n",
              "      fill: #1967D2;\n",
              "      height: 32px;\n",
              "      padding: 0 0 0 0;\n",
              "      width: 32px;\n",
              "    }\n",
              "\n",
              "    .colab-df-convert:hover {\n",
              "      background-color: #E2EBFA;\n",
              "      box-shadow: 0px 1px 2px rgba(60, 64, 67, 0.3), 0px 1px 3px 1px rgba(60, 64, 67, 0.15);\n",
              "      fill: #174EA6;\n",
              "    }\n",
              "\n",
              "    [theme=dark] .colab-df-convert {\n",
              "      background-color: #3B4455;\n",
              "      fill: #D2E3FC;\n",
              "    }\n",
              "\n",
              "    [theme=dark] .colab-df-convert:hover {\n",
              "      background-color: #434B5C;\n",
              "      box-shadow: 0px 1px 3px 1px rgba(0, 0, 0, 0.15);\n",
              "      filter: drop-shadow(0px 1px 2px rgba(0, 0, 0, 0.3));\n",
              "      fill: #FFFFFF;\n",
              "    }\n",
              "  </style>\n",
              "\n",
              "      <script>\n",
              "        const buttonEl =\n",
              "          document.querySelector('#df-cc421f51-a142-483b-94b4-4ed297f705a4 button.colab-df-convert');\n",
              "        buttonEl.style.display =\n",
              "          google.colab.kernel.accessAllowed ? 'block' : 'none';\n",
              "\n",
              "        async function convertToInteractive(key) {\n",
              "          const element = document.querySelector('#df-cc421f51-a142-483b-94b4-4ed297f705a4');\n",
              "          const dataTable =\n",
              "            await google.colab.kernel.invokeFunction('convertToInteractive',\n",
              "                                                     [key], {});\n",
              "          if (!dataTable) return;\n",
              "\n",
              "          const docLinkHtml = 'Like what you see? Visit the ' +\n",
              "            '<a target=\"_blank\" href=https://colab.research.google.com/notebooks/data_table.ipynb>data table notebook</a>'\n",
              "            + ' to learn more about interactive tables.';\n",
              "          element.innerHTML = '';\n",
              "          dataTable['output_type'] = 'display_data';\n",
              "          await google.colab.output.renderOutput(dataTable, element);\n",
              "          const docLink = document.createElement('div');\n",
              "          docLink.innerHTML = docLinkHtml;\n",
              "          element.appendChild(docLink);\n",
              "        }\n",
              "      </script>\n",
              "    </div>\n",
              "  </div>\n"
            ]
          },
          "metadata": {},
          "execution_count": 9
        }
      ],
      "source": [
        "data[data['item_id'] == 338]"
      ]
    },
    {
      "cell_type": "code",
      "execution_count": 10,
      "id": "996c2192",
      "metadata": {
        "id": "996c2192",
        "outputId": "0dd3e6e4-a80c-493a-c8cd-34506fc19af6",
        "colab": {
          "base_uri": "https://localhost:8080/",
          "height": 112
        }
      },
      "outputs": [
        {
          "output_type": "execute_result",
          "data": {
            "text/plain": [
              "     item_id  item_price\n",
              "65      3521         563\n",
              "281     3521        1829"
            ],
            "text/html": [
              "\n",
              "\n",
              "  <div id=\"df-9fa63aac-80d8-4b3e-847e-dc8b38f76ae6\">\n",
              "    <div class=\"colab-df-container\">\n",
              "      <div>\n",
              "<style scoped>\n",
              "    .dataframe tbody tr th:only-of-type {\n",
              "        vertical-align: middle;\n",
              "    }\n",
              "\n",
              "    .dataframe tbody tr th {\n",
              "        vertical-align: top;\n",
              "    }\n",
              "\n",
              "    .dataframe thead th {\n",
              "        text-align: right;\n",
              "    }\n",
              "</style>\n",
              "<table border=\"1\" class=\"dataframe\">\n",
              "  <thead>\n",
              "    <tr style=\"text-align: right;\">\n",
              "      <th></th>\n",
              "      <th>item_id</th>\n",
              "      <th>item_price</th>\n",
              "    </tr>\n",
              "  </thead>\n",
              "  <tbody>\n",
              "    <tr>\n",
              "      <th>65</th>\n",
              "      <td>3521</td>\n",
              "      <td>563</td>\n",
              "    </tr>\n",
              "    <tr>\n",
              "      <th>281</th>\n",
              "      <td>3521</td>\n",
              "      <td>1829</td>\n",
              "    </tr>\n",
              "  </tbody>\n",
              "</table>\n",
              "</div>\n",
              "      <button class=\"colab-df-convert\" onclick=\"convertToInteractive('df-9fa63aac-80d8-4b3e-847e-dc8b38f76ae6')\"\n",
              "              title=\"Convert this dataframe to an interactive table.\"\n",
              "              style=\"display:none;\">\n",
              "\n",
              "  <svg xmlns=\"http://www.w3.org/2000/svg\" height=\"24px\"viewBox=\"0 0 24 24\"\n",
              "       width=\"24px\">\n",
              "    <path d=\"M0 0h24v24H0V0z\" fill=\"none\"/>\n",
              "    <path d=\"M18.56 5.44l.94 2.06.94-2.06 2.06-.94-2.06-.94-.94-2.06-.94 2.06-2.06.94zm-11 1L8.5 8.5l.94-2.06 2.06-.94-2.06-.94L8.5 2.5l-.94 2.06-2.06.94zm10 10l.94 2.06.94-2.06 2.06-.94-2.06-.94-.94-2.06-.94 2.06-2.06.94z\"/><path d=\"M17.41 7.96l-1.37-1.37c-.4-.4-.92-.59-1.43-.59-.52 0-1.04.2-1.43.59L10.3 9.45l-7.72 7.72c-.78.78-.78 2.05 0 2.83L4 21.41c.39.39.9.59 1.41.59.51 0 1.02-.2 1.41-.59l7.78-7.78 2.81-2.81c.8-.78.8-2.07 0-2.86zM5.41 20L4 18.59l7.72-7.72 1.47 1.35L5.41 20z\"/>\n",
              "  </svg>\n",
              "      </button>\n",
              "\n",
              "\n",
              "\n",
              "    <div id=\"df-f96aff82-406c-48ea-a450-a9aa03bcafb0\">\n",
              "      <button class=\"colab-df-quickchart\" onclick=\"quickchart('df-f96aff82-406c-48ea-a450-a9aa03bcafb0')\"\n",
              "              title=\"Suggest charts.\"\n",
              "              style=\"display:none;\">\n",
              "\n",
              "<svg xmlns=\"http://www.w3.org/2000/svg\" height=\"24px\"viewBox=\"0 0 24 24\"\n",
              "     width=\"24px\">\n",
              "    <g>\n",
              "        <path d=\"M19 3H5c-1.1 0-2 .9-2 2v14c0 1.1.9 2 2 2h14c1.1 0 2-.9 2-2V5c0-1.1-.9-2-2-2zM9 17H7v-7h2v7zm4 0h-2V7h2v10zm4 0h-2v-4h2v4z\"/>\n",
              "    </g>\n",
              "</svg>\n",
              "      </button>\n",
              "    </div>\n",
              "\n",
              "<style>\n",
              "  .colab-df-quickchart {\n",
              "    background-color: #E8F0FE;\n",
              "    border: none;\n",
              "    border-radius: 50%;\n",
              "    cursor: pointer;\n",
              "    display: none;\n",
              "    fill: #1967D2;\n",
              "    height: 32px;\n",
              "    padding: 0 0 0 0;\n",
              "    width: 32px;\n",
              "  }\n",
              "\n",
              "  .colab-df-quickchart:hover {\n",
              "    background-color: #E2EBFA;\n",
              "    box-shadow: 0px 1px 2px rgba(60, 64, 67, 0.3), 0px 1px 3px 1px rgba(60, 64, 67, 0.15);\n",
              "    fill: #174EA6;\n",
              "  }\n",
              "\n",
              "  [theme=dark] .colab-df-quickchart {\n",
              "    background-color: #3B4455;\n",
              "    fill: #D2E3FC;\n",
              "  }\n",
              "\n",
              "  [theme=dark] .colab-df-quickchart:hover {\n",
              "    background-color: #434B5C;\n",
              "    box-shadow: 0px 1px 3px 1px rgba(0, 0, 0, 0.15);\n",
              "    filter: drop-shadow(0px 1px 2px rgba(0, 0, 0, 0.3));\n",
              "    fill: #FFFFFF;\n",
              "  }\n",
              "</style>\n",
              "\n",
              "    <script>\n",
              "      async function quickchart(key) {\n",
              "        const containerElement = document.querySelector('#' + key);\n",
              "        const charts = await google.colab.kernel.invokeFunction(\n",
              "            'suggestCharts', [key], {});\n",
              "      }\n",
              "    </script>\n",
              "\n",
              "      <script>\n",
              "\n",
              "function displayQuickchartButton(domScope) {\n",
              "  let quickchartButtonEl =\n",
              "    domScope.querySelector('#df-f96aff82-406c-48ea-a450-a9aa03bcafb0 button.colab-df-quickchart');\n",
              "  quickchartButtonEl.style.display =\n",
              "    google.colab.kernel.accessAllowed ? 'block' : 'none';\n",
              "}\n",
              "\n",
              "        displayQuickchartButton(document);\n",
              "      </script>\n",
              "      <style>\n",
              "    .colab-df-container {\n",
              "      display:flex;\n",
              "      flex-wrap:wrap;\n",
              "      gap: 12px;\n",
              "    }\n",
              "\n",
              "    .colab-df-convert {\n",
              "      background-color: #E8F0FE;\n",
              "      border: none;\n",
              "      border-radius: 50%;\n",
              "      cursor: pointer;\n",
              "      display: none;\n",
              "      fill: #1967D2;\n",
              "      height: 32px;\n",
              "      padding: 0 0 0 0;\n",
              "      width: 32px;\n",
              "    }\n",
              "\n",
              "    .colab-df-convert:hover {\n",
              "      background-color: #E2EBFA;\n",
              "      box-shadow: 0px 1px 2px rgba(60, 64, 67, 0.3), 0px 1px 3px 1px rgba(60, 64, 67, 0.15);\n",
              "      fill: #174EA6;\n",
              "    }\n",
              "\n",
              "    [theme=dark] .colab-df-convert {\n",
              "      background-color: #3B4455;\n",
              "      fill: #D2E3FC;\n",
              "    }\n",
              "\n",
              "    [theme=dark] .colab-df-convert:hover {\n",
              "      background-color: #434B5C;\n",
              "      box-shadow: 0px 1px 3px 1px rgba(0, 0, 0, 0.15);\n",
              "      filter: drop-shadow(0px 1px 2px rgba(0, 0, 0, 0.3));\n",
              "      fill: #FFFFFF;\n",
              "    }\n",
              "  </style>\n",
              "\n",
              "      <script>\n",
              "        const buttonEl =\n",
              "          document.querySelector('#df-9fa63aac-80d8-4b3e-847e-dc8b38f76ae6 button.colab-df-convert');\n",
              "        buttonEl.style.display =\n",
              "          google.colab.kernel.accessAllowed ? 'block' : 'none';\n",
              "\n",
              "        async function convertToInteractive(key) {\n",
              "          const element = document.querySelector('#df-9fa63aac-80d8-4b3e-847e-dc8b38f76ae6');\n",
              "          const dataTable =\n",
              "            await google.colab.kernel.invokeFunction('convertToInteractive',\n",
              "                                                     [key], {});\n",
              "          if (!dataTable) return;\n",
              "\n",
              "          const docLinkHtml = 'Like what you see? Visit the ' +\n",
              "            '<a target=\"_blank\" href=https://colab.research.google.com/notebooks/data_table.ipynb>data table notebook</a>'\n",
              "            + ' to learn more about interactive tables.';\n",
              "          element.innerHTML = '';\n",
              "          dataTable['output_type'] = 'display_data';\n",
              "          await google.colab.output.renderOutput(dataTable, element);\n",
              "          const docLink = document.createElement('div');\n",
              "          docLink.innerHTML = docLinkHtml;\n",
              "          element.appendChild(docLink);\n",
              "        }\n",
              "      </script>\n",
              "    </div>\n",
              "  </div>\n"
            ]
          },
          "metadata": {},
          "execution_count": 10
        }
      ],
      "source": [
        "data[data['item_id'] == 3521]"
      ]
    },
    {
      "cell_type": "markdown",
      "id": "b567b74d",
      "metadata": {
        "id": "b567b74d"
      },
      "source": [
        "Как и предполагалось, у одного и того же товара есть несколько различных цен. Причем эти цены могут значительно различаться. Для обеспечения требования уникальности ключевых значений (*item_id*) в справочнике цен товаров будем использовать для полученных товаров усредненную цену."
      ]
    },
    {
      "cell_type": "code",
      "execution_count": 11,
      "id": "da33e897",
      "metadata": {
        "id": "da33e897",
        "outputId": "8e2ca396-3cd0-4ae0-c3ac-65e0999c77ea",
        "colab": {
          "base_uri": "https://localhost:8080/",
          "height": 455
        }
      },
      "outputs": [
        {
          "output_type": "execute_result",
          "data": {
            "text/plain": [
              "         item_price\n",
              "item_id            \n",
              "21            452.0\n",
              "36            282.0\n",
              "39           1746.0\n",
              "50            871.0\n",
              "64           1479.0\n",
              "...             ...\n",
              "9936          379.0\n",
              "9944          810.0\n",
              "9958          265.0\n",
              "9989          479.0\n",
              "9994         1440.0\n",
              "\n",
              "[955 rows x 1 columns]"
            ],
            "text/html": [
              "\n",
              "\n",
              "  <div id=\"df-dab19eab-0a69-4dc6-bcdb-937d089f0d3f\">\n",
              "    <div class=\"colab-df-container\">\n",
              "      <div>\n",
              "<style scoped>\n",
              "    .dataframe tbody tr th:only-of-type {\n",
              "        vertical-align: middle;\n",
              "    }\n",
              "\n",
              "    .dataframe tbody tr th {\n",
              "        vertical-align: top;\n",
              "    }\n",
              "\n",
              "    .dataframe thead th {\n",
              "        text-align: right;\n",
              "    }\n",
              "</style>\n",
              "<table border=\"1\" class=\"dataframe\">\n",
              "  <thead>\n",
              "    <tr style=\"text-align: right;\">\n",
              "      <th></th>\n",
              "      <th>item_price</th>\n",
              "    </tr>\n",
              "    <tr>\n",
              "      <th>item_id</th>\n",
              "      <th></th>\n",
              "    </tr>\n",
              "  </thead>\n",
              "  <tbody>\n",
              "    <tr>\n",
              "      <th>21</th>\n",
              "      <td>452.0</td>\n",
              "    </tr>\n",
              "    <tr>\n",
              "      <th>36</th>\n",
              "      <td>282.0</td>\n",
              "    </tr>\n",
              "    <tr>\n",
              "      <th>39</th>\n",
              "      <td>1746.0</td>\n",
              "    </tr>\n",
              "    <tr>\n",
              "      <th>50</th>\n",
              "      <td>871.0</td>\n",
              "    </tr>\n",
              "    <tr>\n",
              "      <th>64</th>\n",
              "      <td>1479.0</td>\n",
              "    </tr>\n",
              "    <tr>\n",
              "      <th>...</th>\n",
              "      <td>...</td>\n",
              "    </tr>\n",
              "    <tr>\n",
              "      <th>9936</th>\n",
              "      <td>379.0</td>\n",
              "    </tr>\n",
              "    <tr>\n",
              "      <th>9944</th>\n",
              "      <td>810.0</td>\n",
              "    </tr>\n",
              "    <tr>\n",
              "      <th>9958</th>\n",
              "      <td>265.0</td>\n",
              "    </tr>\n",
              "    <tr>\n",
              "      <th>9989</th>\n",
              "      <td>479.0</td>\n",
              "    </tr>\n",
              "    <tr>\n",
              "      <th>9994</th>\n",
              "      <td>1440.0</td>\n",
              "    </tr>\n",
              "  </tbody>\n",
              "</table>\n",
              "<p>955 rows × 1 columns</p>\n",
              "</div>\n",
              "      <button class=\"colab-df-convert\" onclick=\"convertToInteractive('df-dab19eab-0a69-4dc6-bcdb-937d089f0d3f')\"\n",
              "              title=\"Convert this dataframe to an interactive table.\"\n",
              "              style=\"display:none;\">\n",
              "\n",
              "  <svg xmlns=\"http://www.w3.org/2000/svg\" height=\"24px\"viewBox=\"0 0 24 24\"\n",
              "       width=\"24px\">\n",
              "    <path d=\"M0 0h24v24H0V0z\" fill=\"none\"/>\n",
              "    <path d=\"M18.56 5.44l.94 2.06.94-2.06 2.06-.94-2.06-.94-.94-2.06-.94 2.06-2.06.94zm-11 1L8.5 8.5l.94-2.06 2.06-.94-2.06-.94L8.5 2.5l-.94 2.06-2.06.94zm10 10l.94 2.06.94-2.06 2.06-.94-2.06-.94-.94-2.06-.94 2.06-2.06.94z\"/><path d=\"M17.41 7.96l-1.37-1.37c-.4-.4-.92-.59-1.43-.59-.52 0-1.04.2-1.43.59L10.3 9.45l-7.72 7.72c-.78.78-.78 2.05 0 2.83L4 21.41c.39.39.9.59 1.41.59.51 0 1.02-.2 1.41-.59l7.78-7.78 2.81-2.81c.8-.78.8-2.07 0-2.86zM5.41 20L4 18.59l7.72-7.72 1.47 1.35L5.41 20z\"/>\n",
              "  </svg>\n",
              "      </button>\n",
              "\n",
              "\n",
              "\n",
              "    <div id=\"df-b4d04af2-de35-4d92-aad6-0fd3e62d9606\">\n",
              "      <button class=\"colab-df-quickchart\" onclick=\"quickchart('df-b4d04af2-de35-4d92-aad6-0fd3e62d9606')\"\n",
              "              title=\"Suggest charts.\"\n",
              "              style=\"display:none;\">\n",
              "\n",
              "<svg xmlns=\"http://www.w3.org/2000/svg\" height=\"24px\"viewBox=\"0 0 24 24\"\n",
              "     width=\"24px\">\n",
              "    <g>\n",
              "        <path d=\"M19 3H5c-1.1 0-2 .9-2 2v14c0 1.1.9 2 2 2h14c1.1 0 2-.9 2-2V5c0-1.1-.9-2-2-2zM9 17H7v-7h2v7zm4 0h-2V7h2v10zm4 0h-2v-4h2v4z\"/>\n",
              "    </g>\n",
              "</svg>\n",
              "      </button>\n",
              "    </div>\n",
              "\n",
              "<style>\n",
              "  .colab-df-quickchart {\n",
              "    background-color: #E8F0FE;\n",
              "    border: none;\n",
              "    border-radius: 50%;\n",
              "    cursor: pointer;\n",
              "    display: none;\n",
              "    fill: #1967D2;\n",
              "    height: 32px;\n",
              "    padding: 0 0 0 0;\n",
              "    width: 32px;\n",
              "  }\n",
              "\n",
              "  .colab-df-quickchart:hover {\n",
              "    background-color: #E2EBFA;\n",
              "    box-shadow: 0px 1px 2px rgba(60, 64, 67, 0.3), 0px 1px 3px 1px rgba(60, 64, 67, 0.15);\n",
              "    fill: #174EA6;\n",
              "  }\n",
              "\n",
              "  [theme=dark] .colab-df-quickchart {\n",
              "    background-color: #3B4455;\n",
              "    fill: #D2E3FC;\n",
              "  }\n",
              "\n",
              "  [theme=dark] .colab-df-quickchart:hover {\n",
              "    background-color: #434B5C;\n",
              "    box-shadow: 0px 1px 3px 1px rgba(0, 0, 0, 0.15);\n",
              "    filter: drop-shadow(0px 1px 2px rgba(0, 0, 0, 0.3));\n",
              "    fill: #FFFFFF;\n",
              "  }\n",
              "</style>\n",
              "\n",
              "    <script>\n",
              "      async function quickchart(key) {\n",
              "        const containerElement = document.querySelector('#' + key);\n",
              "        const charts = await google.colab.kernel.invokeFunction(\n",
              "            'suggestCharts', [key], {});\n",
              "      }\n",
              "    </script>\n",
              "\n",
              "      <script>\n",
              "\n",
              "function displayQuickchartButton(domScope) {\n",
              "  let quickchartButtonEl =\n",
              "    domScope.querySelector('#df-b4d04af2-de35-4d92-aad6-0fd3e62d9606 button.colab-df-quickchart');\n",
              "  quickchartButtonEl.style.display =\n",
              "    google.colab.kernel.accessAllowed ? 'block' : 'none';\n",
              "}\n",
              "\n",
              "        displayQuickchartButton(document);\n",
              "      </script>\n",
              "      <style>\n",
              "    .colab-df-container {\n",
              "      display:flex;\n",
              "      flex-wrap:wrap;\n",
              "      gap: 12px;\n",
              "    }\n",
              "\n",
              "    .colab-df-convert {\n",
              "      background-color: #E8F0FE;\n",
              "      border: none;\n",
              "      border-radius: 50%;\n",
              "      cursor: pointer;\n",
              "      display: none;\n",
              "      fill: #1967D2;\n",
              "      height: 32px;\n",
              "      padding: 0 0 0 0;\n",
              "      width: 32px;\n",
              "    }\n",
              "\n",
              "    .colab-df-convert:hover {\n",
              "      background-color: #E2EBFA;\n",
              "      box-shadow: 0px 1px 2px rgba(60, 64, 67, 0.3), 0px 1px 3px 1px rgba(60, 64, 67, 0.15);\n",
              "      fill: #174EA6;\n",
              "    }\n",
              "\n",
              "    [theme=dark] .colab-df-convert {\n",
              "      background-color: #3B4455;\n",
              "      fill: #D2E3FC;\n",
              "    }\n",
              "\n",
              "    [theme=dark] .colab-df-convert:hover {\n",
              "      background-color: #434B5C;\n",
              "      box-shadow: 0px 1px 3px 1px rgba(0, 0, 0, 0.15);\n",
              "      filter: drop-shadow(0px 1px 2px rgba(0, 0, 0, 0.3));\n",
              "      fill: #FFFFFF;\n",
              "    }\n",
              "  </style>\n",
              "\n",
              "      <script>\n",
              "        const buttonEl =\n",
              "          document.querySelector('#df-dab19eab-0a69-4dc6-bcdb-937d089f0d3f button.colab-df-convert');\n",
              "        buttonEl.style.display =\n",
              "          google.colab.kernel.accessAllowed ? 'block' : 'none';\n",
              "\n",
              "        async function convertToInteractive(key) {\n",
              "          const element = document.querySelector('#df-dab19eab-0a69-4dc6-bcdb-937d089f0d3f');\n",
              "          const dataTable =\n",
              "            await google.colab.kernel.invokeFunction('convertToInteractive',\n",
              "                                                     [key], {});\n",
              "          if (!dataTable) return;\n",
              "\n",
              "          const docLinkHtml = 'Like what you see? Visit the ' +\n",
              "            '<a target=\"_blank\" href=https://colab.research.google.com/notebooks/data_table.ipynb>data table notebook</a>'\n",
              "            + ' to learn more about interactive tables.';\n",
              "          element.innerHTML = '';\n",
              "          dataTable['output_type'] = 'display_data';\n",
              "          await google.colab.output.renderOutput(dataTable, element);\n",
              "          const docLink = document.createElement('div');\n",
              "          docLink.innerHTML = docLinkHtml;\n",
              "          element.appendChild(docLink);\n",
              "        }\n",
              "      </script>\n",
              "    </div>\n",
              "  </div>\n"
            ]
          },
          "metadata": {},
          "execution_count": 11
        }
      ],
      "source": [
        "data = data.groupby(by='item_id').mean()\n",
        "data"
      ]
    },
    {
      "cell_type": "markdown",
      "id": "dd77e7fb",
      "metadata": {
        "id": "dd77e7fb"
      },
      "source": [
        "Видно, что количество строк в датасете-справочнике уменьшилось, до количества уникальных идентификаторов товаров и *item_id* стало индексом датасета. Наш справочник готов к подключению к другим датасетам."
      ]
    },
    {
      "cell_type": "markdown",
      "id": "d3d260cd",
      "metadata": {
        "id": "d3d260cd"
      },
      "source": [
        "**1.2. Анализ и обработка датасета *simple_a***"
      ]
    },
    {
      "cell_type": "markdown",
      "id": "f69fc888",
      "metadata": {
        "id": "f69fc888"
      },
      "source": [
        "Как следует из постановки задачи, данный датасет предлагает нам выборку данных по *А-группе*. Рассмотрим структуру и данные этого датасета."
      ]
    },
    {
      "cell_type": "code",
      "source": [
        "!unzip -q /content/sample_a.zip"
      ],
      "metadata": {
        "id": "eqPIApWKDOVj"
      },
      "id": "eqPIApWKDOVj",
      "execution_count": 14,
      "outputs": []
    },
    {
      "cell_type": "code",
      "execution_count": 15,
      "id": "8809e158",
      "metadata": {
        "id": "8809e158",
        "outputId": "04daeaf4-52bd-44c5-c25c-231edcc688ec",
        "colab": {
          "base_uri": "https://localhost:8080/",
          "height": 112
        }
      },
      "outputs": [
        {
          "output_type": "execute_result",
          "data": {
            "text/plain": [
              "        user_id  item_id  action_id\n",
              "388976      241     9049          1\n",
              "643814    37989     6335          1"
            ],
            "text/html": [
              "\n",
              "\n",
              "  <div id=\"df-5c24ca9f-0ca4-467d-bcdb-fb7e6c021452\">\n",
              "    <div class=\"colab-df-container\">\n",
              "      <div>\n",
              "<style scoped>\n",
              "    .dataframe tbody tr th:only-of-type {\n",
              "        vertical-align: middle;\n",
              "    }\n",
              "\n",
              "    .dataframe tbody tr th {\n",
              "        vertical-align: top;\n",
              "    }\n",
              "\n",
              "    .dataframe thead th {\n",
              "        text-align: right;\n",
              "    }\n",
              "</style>\n",
              "<table border=\"1\" class=\"dataframe\">\n",
              "  <thead>\n",
              "    <tr style=\"text-align: right;\">\n",
              "      <th></th>\n",
              "      <th>user_id</th>\n",
              "      <th>item_id</th>\n",
              "      <th>action_id</th>\n",
              "    </tr>\n",
              "  </thead>\n",
              "  <tbody>\n",
              "    <tr>\n",
              "      <th>388976</th>\n",
              "      <td>241</td>\n",
              "      <td>9049</td>\n",
              "      <td>1</td>\n",
              "    </tr>\n",
              "    <tr>\n",
              "      <th>643814</th>\n",
              "      <td>37989</td>\n",
              "      <td>6335</td>\n",
              "      <td>1</td>\n",
              "    </tr>\n",
              "  </tbody>\n",
              "</table>\n",
              "</div>\n",
              "      <button class=\"colab-df-convert\" onclick=\"convertToInteractive('df-5c24ca9f-0ca4-467d-bcdb-fb7e6c021452')\"\n",
              "              title=\"Convert this dataframe to an interactive table.\"\n",
              "              style=\"display:none;\">\n",
              "\n",
              "  <svg xmlns=\"http://www.w3.org/2000/svg\" height=\"24px\"viewBox=\"0 0 24 24\"\n",
              "       width=\"24px\">\n",
              "    <path d=\"M0 0h24v24H0V0z\" fill=\"none\"/>\n",
              "    <path d=\"M18.56 5.44l.94 2.06.94-2.06 2.06-.94-2.06-.94-.94-2.06-.94 2.06-2.06.94zm-11 1L8.5 8.5l.94-2.06 2.06-.94-2.06-.94L8.5 2.5l-.94 2.06-2.06.94zm10 10l.94 2.06.94-2.06 2.06-.94-2.06-.94-.94-2.06-.94 2.06-2.06.94z\"/><path d=\"M17.41 7.96l-1.37-1.37c-.4-.4-.92-.59-1.43-.59-.52 0-1.04.2-1.43.59L10.3 9.45l-7.72 7.72c-.78.78-.78 2.05 0 2.83L4 21.41c.39.39.9.59 1.41.59.51 0 1.02-.2 1.41-.59l7.78-7.78 2.81-2.81c.8-.78.8-2.07 0-2.86zM5.41 20L4 18.59l7.72-7.72 1.47 1.35L5.41 20z\"/>\n",
              "  </svg>\n",
              "      </button>\n",
              "\n",
              "\n",
              "\n",
              "    <div id=\"df-eb86d0cf-4b45-49cb-8821-92e6b5f217c5\">\n",
              "      <button class=\"colab-df-quickchart\" onclick=\"quickchart('df-eb86d0cf-4b45-49cb-8821-92e6b5f217c5')\"\n",
              "              title=\"Suggest charts.\"\n",
              "              style=\"display:none;\">\n",
              "\n",
              "<svg xmlns=\"http://www.w3.org/2000/svg\" height=\"24px\"viewBox=\"0 0 24 24\"\n",
              "     width=\"24px\">\n",
              "    <g>\n",
              "        <path d=\"M19 3H5c-1.1 0-2 .9-2 2v14c0 1.1.9 2 2 2h14c1.1 0 2-.9 2-2V5c0-1.1-.9-2-2-2zM9 17H7v-7h2v7zm4 0h-2V7h2v10zm4 0h-2v-4h2v4z\"/>\n",
              "    </g>\n",
              "</svg>\n",
              "      </button>\n",
              "    </div>\n",
              "\n",
              "<style>\n",
              "  .colab-df-quickchart {\n",
              "    background-color: #E8F0FE;\n",
              "    border: none;\n",
              "    border-radius: 50%;\n",
              "    cursor: pointer;\n",
              "    display: none;\n",
              "    fill: #1967D2;\n",
              "    height: 32px;\n",
              "    padding: 0 0 0 0;\n",
              "    width: 32px;\n",
              "  }\n",
              "\n",
              "  .colab-df-quickchart:hover {\n",
              "    background-color: #E2EBFA;\n",
              "    box-shadow: 0px 1px 2px rgba(60, 64, 67, 0.3), 0px 1px 3px 1px rgba(60, 64, 67, 0.15);\n",
              "    fill: #174EA6;\n",
              "  }\n",
              "\n",
              "  [theme=dark] .colab-df-quickchart {\n",
              "    background-color: #3B4455;\n",
              "    fill: #D2E3FC;\n",
              "  }\n",
              "\n",
              "  [theme=dark] .colab-df-quickchart:hover {\n",
              "    background-color: #434B5C;\n",
              "    box-shadow: 0px 1px 3px 1px rgba(0, 0, 0, 0.15);\n",
              "    filter: drop-shadow(0px 1px 2px rgba(0, 0, 0, 0.3));\n",
              "    fill: #FFFFFF;\n",
              "  }\n",
              "</style>\n",
              "\n",
              "    <script>\n",
              "      async function quickchart(key) {\n",
              "        const containerElement = document.querySelector('#' + key);\n",
              "        const charts = await google.colab.kernel.invokeFunction(\n",
              "            'suggestCharts', [key], {});\n",
              "      }\n",
              "    </script>\n",
              "\n",
              "      <script>\n",
              "\n",
              "function displayQuickchartButton(domScope) {\n",
              "  let quickchartButtonEl =\n",
              "    domScope.querySelector('#df-eb86d0cf-4b45-49cb-8821-92e6b5f217c5 button.colab-df-quickchart');\n",
              "  quickchartButtonEl.style.display =\n",
              "    google.colab.kernel.accessAllowed ? 'block' : 'none';\n",
              "}\n",
              "\n",
              "        displayQuickchartButton(document);\n",
              "      </script>\n",
              "      <style>\n",
              "    .colab-df-container {\n",
              "      display:flex;\n",
              "      flex-wrap:wrap;\n",
              "      gap: 12px;\n",
              "    }\n",
              "\n",
              "    .colab-df-convert {\n",
              "      background-color: #E8F0FE;\n",
              "      border: none;\n",
              "      border-radius: 50%;\n",
              "      cursor: pointer;\n",
              "      display: none;\n",
              "      fill: #1967D2;\n",
              "      height: 32px;\n",
              "      padding: 0 0 0 0;\n",
              "      width: 32px;\n",
              "    }\n",
              "\n",
              "    .colab-df-convert:hover {\n",
              "      background-color: #E2EBFA;\n",
              "      box-shadow: 0px 1px 2px rgba(60, 64, 67, 0.3), 0px 1px 3px 1px rgba(60, 64, 67, 0.15);\n",
              "      fill: #174EA6;\n",
              "    }\n",
              "\n",
              "    [theme=dark] .colab-df-convert {\n",
              "      background-color: #3B4455;\n",
              "      fill: #D2E3FC;\n",
              "    }\n",
              "\n",
              "    [theme=dark] .colab-df-convert:hover {\n",
              "      background-color: #434B5C;\n",
              "      box-shadow: 0px 1px 3px 1px rgba(0, 0, 0, 0.15);\n",
              "      filter: drop-shadow(0px 1px 2px rgba(0, 0, 0, 0.3));\n",
              "      fill: #FFFFFF;\n",
              "    }\n",
              "  </style>\n",
              "\n",
              "      <script>\n",
              "        const buttonEl =\n",
              "          document.querySelector('#df-5c24ca9f-0ca4-467d-bcdb-fb7e6c021452 button.colab-df-convert');\n",
              "        buttonEl.style.display =\n",
              "          google.colab.kernel.accessAllowed ? 'block' : 'none';\n",
              "\n",
              "        async function convertToInteractive(key) {\n",
              "          const element = document.querySelector('#df-5c24ca9f-0ca4-467d-bcdb-fb7e6c021452');\n",
              "          const dataTable =\n",
              "            await google.colab.kernel.invokeFunction('convertToInteractive',\n",
              "                                                     [key], {});\n",
              "          if (!dataTable) return;\n",
              "\n",
              "          const docLinkHtml = 'Like what you see? Visit the ' +\n",
              "            '<a target=\"_blank\" href=https://colab.research.google.com/notebooks/data_table.ipynb>data table notebook</a>'\n",
              "            + ' to learn more about interactive tables.';\n",
              "          element.innerHTML = '';\n",
              "          dataTable['output_type'] = 'display_data';\n",
              "          await google.colab.output.renderOutput(dataTable, element);\n",
              "          const docLink = document.createElement('div');\n",
              "          docLink.innerHTML = docLinkHtml;\n",
              "          element.appendChild(docLink);\n",
              "        }\n",
              "      </script>\n",
              "    </div>\n",
              "  </div>\n"
            ]
          },
          "metadata": {},
          "execution_count": 15
        }
      ],
      "source": [
        "data_a = pd.read_csv(\"sample_a.csv\")\n",
        "data_a.sample(2)"
      ]
    },
    {
      "cell_type": "code",
      "execution_count": 16,
      "id": "739c186c",
      "metadata": {
        "id": "739c186c",
        "outputId": "c102be0b-9d72-40a8-cf45-a7ec05bcc3c9",
        "colab": {
          "base_uri": "https://localhost:8080/"
        }
      },
      "outputs": [
        {
          "output_type": "stream",
          "name": "stdout",
          "text": [
            "<class 'pandas.core.frame.DataFrame'>\n",
            "RangeIndex: 1188912 entries, 0 to 1188911\n",
            "Data columns (total 3 columns):\n",
            " #   Column     Non-Null Count    Dtype\n",
            "---  ------     --------------    -----\n",
            " 0   user_id    1188912 non-null  int64\n",
            " 1   item_id    1188912 non-null  int64\n",
            " 2   action_id  1188912 non-null  int64\n",
            "dtypes: int64(3)\n",
            "memory usage: 27.2 MB\n"
          ]
        }
      ],
      "source": [
        "data_a.info()"
      ]
    },
    {
      "cell_type": "markdown",
      "id": "4f3adad1",
      "metadata": {
        "id": "4f3adad1"
      },
      "source": [
        "Из полученных данных видно, что *А-группа* представляет собой датасет со следующими признаками:\n",
        "\n",
        "* *user_id* - идентификатор пользователя;\n",
        "* *item_id* - идентификатор товара;\n",
        "* *action_id* - идентификатор действия (0 — клик, 1 — просмотр и 2 — покупка).\n",
        "\n",
        "В датасете нет не заполненных значений. Проверим наличие полных дубликатов в строках:"
      ]
    },
    {
      "cell_type": "code",
      "execution_count": 17,
      "id": "ab151386",
      "metadata": {
        "id": "ab151386",
        "outputId": "b96fdc9b-d27b-4831-9df2-bc7d0c53791c",
        "colab": {
          "base_uri": "https://localhost:8080/"
        }
      },
      "outputs": [
        {
          "output_type": "execute_result",
          "data": {
            "text/plain": [
              "1188912"
            ]
          },
          "metadata": {},
          "execution_count": 17
        }
      ],
      "source": [
        "data_a.drop_duplicates(inplace=True)\n",
        "data_a.shape[0]"
      ]
    },
    {
      "cell_type": "markdown",
      "id": "df4daa65",
      "metadata": {
        "id": "df4daa65"
      },
      "source": [
        "Видно, что количество строк в датасете не изменилось - дубликатов нет.\n",
        "\n",
        "Для удобства дальнейшего расчета метрик и выполнения других операций по данному датасету, произведем преобразование значения признака *action_id* в отдельные бинарные признаки для каждого типа действий."
      ]
    },
    {
      "cell_type": "code",
      "execution_count": 18,
      "id": "d31fa035",
      "metadata": {
        "id": "d31fa035",
        "outputId": "1173ca8e-dd1b-44d3-935d-e4602e20ed42",
        "colab": {
          "base_uri": "https://localhost:8080/",
          "height": 112
        }
      },
      "outputs": [
        {
          "output_type": "execute_result",
          "data": {
            "text/plain": [
              "        user_id  item_id  viewing  click  purchase\n",
              "65926     88621     4270        1      0         0\n",
              "808573    91809     2855        1      0         0"
            ],
            "text/html": [
              "\n",
              "\n",
              "  <div id=\"df-5d13a73e-7ed2-41a0-965a-11abb42cab38\">\n",
              "    <div class=\"colab-df-container\">\n",
              "      <div>\n",
              "<style scoped>\n",
              "    .dataframe tbody tr th:only-of-type {\n",
              "        vertical-align: middle;\n",
              "    }\n",
              "\n",
              "    .dataframe tbody tr th {\n",
              "        vertical-align: top;\n",
              "    }\n",
              "\n",
              "    .dataframe thead th {\n",
              "        text-align: right;\n",
              "    }\n",
              "</style>\n",
              "<table border=\"1\" class=\"dataframe\">\n",
              "  <thead>\n",
              "    <tr style=\"text-align: right;\">\n",
              "      <th></th>\n",
              "      <th>user_id</th>\n",
              "      <th>item_id</th>\n",
              "      <th>viewing</th>\n",
              "      <th>click</th>\n",
              "      <th>purchase</th>\n",
              "    </tr>\n",
              "  </thead>\n",
              "  <tbody>\n",
              "    <tr>\n",
              "      <th>65926</th>\n",
              "      <td>88621</td>\n",
              "      <td>4270</td>\n",
              "      <td>1</td>\n",
              "      <td>0</td>\n",
              "      <td>0</td>\n",
              "    </tr>\n",
              "    <tr>\n",
              "      <th>808573</th>\n",
              "      <td>91809</td>\n",
              "      <td>2855</td>\n",
              "      <td>1</td>\n",
              "      <td>0</td>\n",
              "      <td>0</td>\n",
              "    </tr>\n",
              "  </tbody>\n",
              "</table>\n",
              "</div>\n",
              "      <button class=\"colab-df-convert\" onclick=\"convertToInteractive('df-5d13a73e-7ed2-41a0-965a-11abb42cab38')\"\n",
              "              title=\"Convert this dataframe to an interactive table.\"\n",
              "              style=\"display:none;\">\n",
              "\n",
              "  <svg xmlns=\"http://www.w3.org/2000/svg\" height=\"24px\"viewBox=\"0 0 24 24\"\n",
              "       width=\"24px\">\n",
              "    <path d=\"M0 0h24v24H0V0z\" fill=\"none\"/>\n",
              "    <path d=\"M18.56 5.44l.94 2.06.94-2.06 2.06-.94-2.06-.94-.94-2.06-.94 2.06-2.06.94zm-11 1L8.5 8.5l.94-2.06 2.06-.94-2.06-.94L8.5 2.5l-.94 2.06-2.06.94zm10 10l.94 2.06.94-2.06 2.06-.94-2.06-.94-.94-2.06-.94 2.06-2.06.94z\"/><path d=\"M17.41 7.96l-1.37-1.37c-.4-.4-.92-.59-1.43-.59-.52 0-1.04.2-1.43.59L10.3 9.45l-7.72 7.72c-.78.78-.78 2.05 0 2.83L4 21.41c.39.39.9.59 1.41.59.51 0 1.02-.2 1.41-.59l7.78-7.78 2.81-2.81c.8-.78.8-2.07 0-2.86zM5.41 20L4 18.59l7.72-7.72 1.47 1.35L5.41 20z\"/>\n",
              "  </svg>\n",
              "      </button>\n",
              "\n",
              "\n",
              "\n",
              "    <div id=\"df-6500a325-e3b9-4bd3-885b-a1bd037835d6\">\n",
              "      <button class=\"colab-df-quickchart\" onclick=\"quickchart('df-6500a325-e3b9-4bd3-885b-a1bd037835d6')\"\n",
              "              title=\"Suggest charts.\"\n",
              "              style=\"display:none;\">\n",
              "\n",
              "<svg xmlns=\"http://www.w3.org/2000/svg\" height=\"24px\"viewBox=\"0 0 24 24\"\n",
              "     width=\"24px\">\n",
              "    <g>\n",
              "        <path d=\"M19 3H5c-1.1 0-2 .9-2 2v14c0 1.1.9 2 2 2h14c1.1 0 2-.9 2-2V5c0-1.1-.9-2-2-2zM9 17H7v-7h2v7zm4 0h-2V7h2v10zm4 0h-2v-4h2v4z\"/>\n",
              "    </g>\n",
              "</svg>\n",
              "      </button>\n",
              "    </div>\n",
              "\n",
              "<style>\n",
              "  .colab-df-quickchart {\n",
              "    background-color: #E8F0FE;\n",
              "    border: none;\n",
              "    border-radius: 50%;\n",
              "    cursor: pointer;\n",
              "    display: none;\n",
              "    fill: #1967D2;\n",
              "    height: 32px;\n",
              "    padding: 0 0 0 0;\n",
              "    width: 32px;\n",
              "  }\n",
              "\n",
              "  .colab-df-quickchart:hover {\n",
              "    background-color: #E2EBFA;\n",
              "    box-shadow: 0px 1px 2px rgba(60, 64, 67, 0.3), 0px 1px 3px 1px rgba(60, 64, 67, 0.15);\n",
              "    fill: #174EA6;\n",
              "  }\n",
              "\n",
              "  [theme=dark] .colab-df-quickchart {\n",
              "    background-color: #3B4455;\n",
              "    fill: #D2E3FC;\n",
              "  }\n",
              "\n",
              "  [theme=dark] .colab-df-quickchart:hover {\n",
              "    background-color: #434B5C;\n",
              "    box-shadow: 0px 1px 3px 1px rgba(0, 0, 0, 0.15);\n",
              "    filter: drop-shadow(0px 1px 2px rgba(0, 0, 0, 0.3));\n",
              "    fill: #FFFFFF;\n",
              "  }\n",
              "</style>\n",
              "\n",
              "    <script>\n",
              "      async function quickchart(key) {\n",
              "        const containerElement = document.querySelector('#' + key);\n",
              "        const charts = await google.colab.kernel.invokeFunction(\n",
              "            'suggestCharts', [key], {});\n",
              "      }\n",
              "    </script>\n",
              "\n",
              "      <script>\n",
              "\n",
              "function displayQuickchartButton(domScope) {\n",
              "  let quickchartButtonEl =\n",
              "    domScope.querySelector('#df-6500a325-e3b9-4bd3-885b-a1bd037835d6 button.colab-df-quickchart');\n",
              "  quickchartButtonEl.style.display =\n",
              "    google.colab.kernel.accessAllowed ? 'block' : 'none';\n",
              "}\n",
              "\n",
              "        displayQuickchartButton(document);\n",
              "      </script>\n",
              "      <style>\n",
              "    .colab-df-container {\n",
              "      display:flex;\n",
              "      flex-wrap:wrap;\n",
              "      gap: 12px;\n",
              "    }\n",
              "\n",
              "    .colab-df-convert {\n",
              "      background-color: #E8F0FE;\n",
              "      border: none;\n",
              "      border-radius: 50%;\n",
              "      cursor: pointer;\n",
              "      display: none;\n",
              "      fill: #1967D2;\n",
              "      height: 32px;\n",
              "      padding: 0 0 0 0;\n",
              "      width: 32px;\n",
              "    }\n",
              "\n",
              "    .colab-df-convert:hover {\n",
              "      background-color: #E2EBFA;\n",
              "      box-shadow: 0px 1px 2px rgba(60, 64, 67, 0.3), 0px 1px 3px 1px rgba(60, 64, 67, 0.15);\n",
              "      fill: #174EA6;\n",
              "    }\n",
              "\n",
              "    [theme=dark] .colab-df-convert {\n",
              "      background-color: #3B4455;\n",
              "      fill: #D2E3FC;\n",
              "    }\n",
              "\n",
              "    [theme=dark] .colab-df-convert:hover {\n",
              "      background-color: #434B5C;\n",
              "      box-shadow: 0px 1px 3px 1px rgba(0, 0, 0, 0.15);\n",
              "      filter: drop-shadow(0px 1px 2px rgba(0, 0, 0, 0.3));\n",
              "      fill: #FFFFFF;\n",
              "    }\n",
              "  </style>\n",
              "\n",
              "      <script>\n",
              "        const buttonEl =\n",
              "          document.querySelector('#df-5d13a73e-7ed2-41a0-965a-11abb42cab38 button.colab-df-convert');\n",
              "        buttonEl.style.display =\n",
              "          google.colab.kernel.accessAllowed ? 'block' : 'none';\n",
              "\n",
              "        async function convertToInteractive(key) {\n",
              "          const element = document.querySelector('#df-5d13a73e-7ed2-41a0-965a-11abb42cab38');\n",
              "          const dataTable =\n",
              "            await google.colab.kernel.invokeFunction('convertToInteractive',\n",
              "                                                     [key], {});\n",
              "          if (!dataTable) return;\n",
              "\n",
              "          const docLinkHtml = 'Like what you see? Visit the ' +\n",
              "            '<a target=\"_blank\" href=https://colab.research.google.com/notebooks/data_table.ipynb>data table notebook</a>'\n",
              "            + ' to learn more about interactive tables.';\n",
              "          element.innerHTML = '';\n",
              "          dataTable['output_type'] = 'display_data';\n",
              "          await google.colab.output.renderOutput(dataTable, element);\n",
              "          const docLink = document.createElement('div');\n",
              "          docLink.innerHTML = docLinkHtml;\n",
              "          element.appendChild(docLink);\n",
              "        }\n",
              "      </script>\n",
              "    </div>\n",
              "  </div>\n"
            ]
          },
          "metadata": {},
          "execution_count": 18
        }
      ],
      "source": [
        "data_a['viewing'] = data_a['action_id'].apply(lambda x: 1 if x==1 else 0)\n",
        "data_a['click'] = data_a['action_id'].apply(lambda x: 1 if x==0 else 0)\n",
        "data_a['purchase'] = data_a['action_id'].apply(lambda x: 1 if x==2 else 0)\n",
        "# Удалим исходный признак action_id за ненадобностью\n",
        "data_a.drop(columns='action_id', axis=1, inplace=True)\n",
        "data_a.sample(2)"
      ]
    },
    {
      "cell_type": "markdown",
      "id": "7226b42d",
      "metadata": {
        "id": "7226b42d"
      },
      "source": [
        "После проведения обработки мы получили обновленный датасет, в котором выполненные пользователем действия выведены как бинарные флаги в одноименных признаках.\n",
        "\n",
        "Т.к. для расчета одной из требуемых по заданию метрик (*gmv*) нам потребуется сумма по купленному товару, то воспользуемся справочником цен товаров, полученным в п. 1.1 и присоединим его к рассматриваемому датасету через ключ *item_id*:"
      ]
    },
    {
      "cell_type": "code",
      "execution_count": 19,
      "id": "a2b2cd9d",
      "metadata": {
        "id": "a2b2cd9d",
        "outputId": "93e00709-c4b0-4ef8-d95a-3abf89161d09",
        "colab": {
          "base_uri": "https://localhost:8080/",
          "height": 112
        }
      },
      "outputs": [
        {
          "output_type": "execute_result",
          "data": {
            "text/plain": [
              "        user_id  item_id  viewing  click  purchase  item_price\n",
              "624856    82631     4000        1      0         0       268.0\n",
              "218489    49344     1596        1      0         0       608.0"
            ],
            "text/html": [
              "\n",
              "\n",
              "  <div id=\"df-5f56f487-a386-4d69-95c9-e77686f60092\">\n",
              "    <div class=\"colab-df-container\">\n",
              "      <div>\n",
              "<style scoped>\n",
              "    .dataframe tbody tr th:only-of-type {\n",
              "        vertical-align: middle;\n",
              "    }\n",
              "\n",
              "    .dataframe tbody tr th {\n",
              "        vertical-align: top;\n",
              "    }\n",
              "\n",
              "    .dataframe thead th {\n",
              "        text-align: right;\n",
              "    }\n",
              "</style>\n",
              "<table border=\"1\" class=\"dataframe\">\n",
              "  <thead>\n",
              "    <tr style=\"text-align: right;\">\n",
              "      <th></th>\n",
              "      <th>user_id</th>\n",
              "      <th>item_id</th>\n",
              "      <th>viewing</th>\n",
              "      <th>click</th>\n",
              "      <th>purchase</th>\n",
              "      <th>item_price</th>\n",
              "    </tr>\n",
              "  </thead>\n",
              "  <tbody>\n",
              "    <tr>\n",
              "      <th>624856</th>\n",
              "      <td>82631</td>\n",
              "      <td>4000</td>\n",
              "      <td>1</td>\n",
              "      <td>0</td>\n",
              "      <td>0</td>\n",
              "      <td>268.0</td>\n",
              "    </tr>\n",
              "    <tr>\n",
              "      <th>218489</th>\n",
              "      <td>49344</td>\n",
              "      <td>1596</td>\n",
              "      <td>1</td>\n",
              "      <td>0</td>\n",
              "      <td>0</td>\n",
              "      <td>608.0</td>\n",
              "    </tr>\n",
              "  </tbody>\n",
              "</table>\n",
              "</div>\n",
              "      <button class=\"colab-df-convert\" onclick=\"convertToInteractive('df-5f56f487-a386-4d69-95c9-e77686f60092')\"\n",
              "              title=\"Convert this dataframe to an interactive table.\"\n",
              "              style=\"display:none;\">\n",
              "\n",
              "  <svg xmlns=\"http://www.w3.org/2000/svg\" height=\"24px\"viewBox=\"0 0 24 24\"\n",
              "       width=\"24px\">\n",
              "    <path d=\"M0 0h24v24H0V0z\" fill=\"none\"/>\n",
              "    <path d=\"M18.56 5.44l.94 2.06.94-2.06 2.06-.94-2.06-.94-.94-2.06-.94 2.06-2.06.94zm-11 1L8.5 8.5l.94-2.06 2.06-.94-2.06-.94L8.5 2.5l-.94 2.06-2.06.94zm10 10l.94 2.06.94-2.06 2.06-.94-2.06-.94-.94-2.06-.94 2.06-2.06.94z\"/><path d=\"M17.41 7.96l-1.37-1.37c-.4-.4-.92-.59-1.43-.59-.52 0-1.04.2-1.43.59L10.3 9.45l-7.72 7.72c-.78.78-.78 2.05 0 2.83L4 21.41c.39.39.9.59 1.41.59.51 0 1.02-.2 1.41-.59l7.78-7.78 2.81-2.81c.8-.78.8-2.07 0-2.86zM5.41 20L4 18.59l7.72-7.72 1.47 1.35L5.41 20z\"/>\n",
              "  </svg>\n",
              "      </button>\n",
              "\n",
              "\n",
              "\n",
              "    <div id=\"df-e2421d57-3ab7-48c9-8805-e72040e0375f\">\n",
              "      <button class=\"colab-df-quickchart\" onclick=\"quickchart('df-e2421d57-3ab7-48c9-8805-e72040e0375f')\"\n",
              "              title=\"Suggest charts.\"\n",
              "              style=\"display:none;\">\n",
              "\n",
              "<svg xmlns=\"http://www.w3.org/2000/svg\" height=\"24px\"viewBox=\"0 0 24 24\"\n",
              "     width=\"24px\">\n",
              "    <g>\n",
              "        <path d=\"M19 3H5c-1.1 0-2 .9-2 2v14c0 1.1.9 2 2 2h14c1.1 0 2-.9 2-2V5c0-1.1-.9-2-2-2zM9 17H7v-7h2v7zm4 0h-2V7h2v10zm4 0h-2v-4h2v4z\"/>\n",
              "    </g>\n",
              "</svg>\n",
              "      </button>\n",
              "    </div>\n",
              "\n",
              "<style>\n",
              "  .colab-df-quickchart {\n",
              "    background-color: #E8F0FE;\n",
              "    border: none;\n",
              "    border-radius: 50%;\n",
              "    cursor: pointer;\n",
              "    display: none;\n",
              "    fill: #1967D2;\n",
              "    height: 32px;\n",
              "    padding: 0 0 0 0;\n",
              "    width: 32px;\n",
              "  }\n",
              "\n",
              "  .colab-df-quickchart:hover {\n",
              "    background-color: #E2EBFA;\n",
              "    box-shadow: 0px 1px 2px rgba(60, 64, 67, 0.3), 0px 1px 3px 1px rgba(60, 64, 67, 0.15);\n",
              "    fill: #174EA6;\n",
              "  }\n",
              "\n",
              "  [theme=dark] .colab-df-quickchart {\n",
              "    background-color: #3B4455;\n",
              "    fill: #D2E3FC;\n",
              "  }\n",
              "\n",
              "  [theme=dark] .colab-df-quickchart:hover {\n",
              "    background-color: #434B5C;\n",
              "    box-shadow: 0px 1px 3px 1px rgba(0, 0, 0, 0.15);\n",
              "    filter: drop-shadow(0px 1px 2px rgba(0, 0, 0, 0.3));\n",
              "    fill: #FFFFFF;\n",
              "  }\n",
              "</style>\n",
              "\n",
              "    <script>\n",
              "      async function quickchart(key) {\n",
              "        const containerElement = document.querySelector('#' + key);\n",
              "        const charts = await google.colab.kernel.invokeFunction(\n",
              "            'suggestCharts', [key], {});\n",
              "      }\n",
              "    </script>\n",
              "\n",
              "      <script>\n",
              "\n",
              "function displayQuickchartButton(domScope) {\n",
              "  let quickchartButtonEl =\n",
              "    domScope.querySelector('#df-e2421d57-3ab7-48c9-8805-e72040e0375f button.colab-df-quickchart');\n",
              "  quickchartButtonEl.style.display =\n",
              "    google.colab.kernel.accessAllowed ? 'block' : 'none';\n",
              "}\n",
              "\n",
              "        displayQuickchartButton(document);\n",
              "      </script>\n",
              "      <style>\n",
              "    .colab-df-container {\n",
              "      display:flex;\n",
              "      flex-wrap:wrap;\n",
              "      gap: 12px;\n",
              "    }\n",
              "\n",
              "    .colab-df-convert {\n",
              "      background-color: #E8F0FE;\n",
              "      border: none;\n",
              "      border-radius: 50%;\n",
              "      cursor: pointer;\n",
              "      display: none;\n",
              "      fill: #1967D2;\n",
              "      height: 32px;\n",
              "      padding: 0 0 0 0;\n",
              "      width: 32px;\n",
              "    }\n",
              "\n",
              "    .colab-df-convert:hover {\n",
              "      background-color: #E2EBFA;\n",
              "      box-shadow: 0px 1px 2px rgba(60, 64, 67, 0.3), 0px 1px 3px 1px rgba(60, 64, 67, 0.15);\n",
              "      fill: #174EA6;\n",
              "    }\n",
              "\n",
              "    [theme=dark] .colab-df-convert {\n",
              "      background-color: #3B4455;\n",
              "      fill: #D2E3FC;\n",
              "    }\n",
              "\n",
              "    [theme=dark] .colab-df-convert:hover {\n",
              "      background-color: #434B5C;\n",
              "      box-shadow: 0px 1px 3px 1px rgba(0, 0, 0, 0.15);\n",
              "      filter: drop-shadow(0px 1px 2px rgba(0, 0, 0, 0.3));\n",
              "      fill: #FFFFFF;\n",
              "    }\n",
              "  </style>\n",
              "\n",
              "      <script>\n",
              "        const buttonEl =\n",
              "          document.querySelector('#df-5f56f487-a386-4d69-95c9-e77686f60092 button.colab-df-convert');\n",
              "        buttonEl.style.display =\n",
              "          google.colab.kernel.accessAllowed ? 'block' : 'none';\n",
              "\n",
              "        async function convertToInteractive(key) {\n",
              "          const element = document.querySelector('#df-5f56f487-a386-4d69-95c9-e77686f60092');\n",
              "          const dataTable =\n",
              "            await google.colab.kernel.invokeFunction('convertToInteractive',\n",
              "                                                     [key], {});\n",
              "          if (!dataTable) return;\n",
              "\n",
              "          const docLinkHtml = 'Like what you see? Visit the ' +\n",
              "            '<a target=\"_blank\" href=https://colab.research.google.com/notebooks/data_table.ipynb>data table notebook</a>'\n",
              "            + ' to learn more about interactive tables.';\n",
              "          element.innerHTML = '';\n",
              "          dataTable['output_type'] = 'display_data';\n",
              "          await google.colab.output.renderOutput(dataTable, element);\n",
              "          const docLink = document.createElement('div');\n",
              "          docLink.innerHTML = docLinkHtml;\n",
              "          element.appendChild(docLink);\n",
              "        }\n",
              "      </script>\n",
              "    </div>\n",
              "  </div>\n"
            ]
          },
          "metadata": {},
          "execution_count": 19
        }
      ],
      "source": [
        "data_a = data_a.join(data, on='item_id', how='left')\n",
        "data_a.sample(2)"
      ]
    },
    {
      "cell_type": "markdown",
      "id": "f18afb3d",
      "metadata": {
        "id": "f18afb3d"
      },
      "source": [
        "Т.к. при расчете метрики *gmv* нужна сумма покупки, а не цена товара, то произведем расчет суммы, как произведения признака *purchase* и *item_price* для каждой строки датасета."
      ]
    },
    {
      "cell_type": "code",
      "execution_count": 20,
      "id": "b9eac8ec",
      "metadata": {
        "id": "b9eac8ec",
        "outputId": "1d846b13-033a-421d-eb6d-5e7e8bced513",
        "colab": {
          "base_uri": "https://localhost:8080/",
          "height": 112
        }
      },
      "outputs": [
        {
          "output_type": "execute_result",
          "data": {
            "text/plain": [
              "        user_id  item_id  viewing  click  purchase  item_sum\n",
              "328840    75529     7041        1      0         0       0.0\n",
              "215587    25105     5229        1      0         0       0.0"
            ],
            "text/html": [
              "\n",
              "\n",
              "  <div id=\"df-faaa80ba-5f7c-49a0-99fe-ba2669467fb0\">\n",
              "    <div class=\"colab-df-container\">\n",
              "      <div>\n",
              "<style scoped>\n",
              "    .dataframe tbody tr th:only-of-type {\n",
              "        vertical-align: middle;\n",
              "    }\n",
              "\n",
              "    .dataframe tbody tr th {\n",
              "        vertical-align: top;\n",
              "    }\n",
              "\n",
              "    .dataframe thead th {\n",
              "        text-align: right;\n",
              "    }\n",
              "</style>\n",
              "<table border=\"1\" class=\"dataframe\">\n",
              "  <thead>\n",
              "    <tr style=\"text-align: right;\">\n",
              "      <th></th>\n",
              "      <th>user_id</th>\n",
              "      <th>item_id</th>\n",
              "      <th>viewing</th>\n",
              "      <th>click</th>\n",
              "      <th>purchase</th>\n",
              "      <th>item_sum</th>\n",
              "    </tr>\n",
              "  </thead>\n",
              "  <tbody>\n",
              "    <tr>\n",
              "      <th>328840</th>\n",
              "      <td>75529</td>\n",
              "      <td>7041</td>\n",
              "      <td>1</td>\n",
              "      <td>0</td>\n",
              "      <td>0</td>\n",
              "      <td>0.0</td>\n",
              "    </tr>\n",
              "    <tr>\n",
              "      <th>215587</th>\n",
              "      <td>25105</td>\n",
              "      <td>5229</td>\n",
              "      <td>1</td>\n",
              "      <td>0</td>\n",
              "      <td>0</td>\n",
              "      <td>0.0</td>\n",
              "    </tr>\n",
              "  </tbody>\n",
              "</table>\n",
              "</div>\n",
              "      <button class=\"colab-df-convert\" onclick=\"convertToInteractive('df-faaa80ba-5f7c-49a0-99fe-ba2669467fb0')\"\n",
              "              title=\"Convert this dataframe to an interactive table.\"\n",
              "              style=\"display:none;\">\n",
              "\n",
              "  <svg xmlns=\"http://www.w3.org/2000/svg\" height=\"24px\"viewBox=\"0 0 24 24\"\n",
              "       width=\"24px\">\n",
              "    <path d=\"M0 0h24v24H0V0z\" fill=\"none\"/>\n",
              "    <path d=\"M18.56 5.44l.94 2.06.94-2.06 2.06-.94-2.06-.94-.94-2.06-.94 2.06-2.06.94zm-11 1L8.5 8.5l.94-2.06 2.06-.94-2.06-.94L8.5 2.5l-.94 2.06-2.06.94zm10 10l.94 2.06.94-2.06 2.06-.94-2.06-.94-.94-2.06-.94 2.06-2.06.94z\"/><path d=\"M17.41 7.96l-1.37-1.37c-.4-.4-.92-.59-1.43-.59-.52 0-1.04.2-1.43.59L10.3 9.45l-7.72 7.72c-.78.78-.78 2.05 0 2.83L4 21.41c.39.39.9.59 1.41.59.51 0 1.02-.2 1.41-.59l7.78-7.78 2.81-2.81c.8-.78.8-2.07 0-2.86zM5.41 20L4 18.59l7.72-7.72 1.47 1.35L5.41 20z\"/>\n",
              "  </svg>\n",
              "      </button>\n",
              "\n",
              "\n",
              "\n",
              "    <div id=\"df-51202110-f713-4254-a089-b1ae4f968b58\">\n",
              "      <button class=\"colab-df-quickchart\" onclick=\"quickchart('df-51202110-f713-4254-a089-b1ae4f968b58')\"\n",
              "              title=\"Suggest charts.\"\n",
              "              style=\"display:none;\">\n",
              "\n",
              "<svg xmlns=\"http://www.w3.org/2000/svg\" height=\"24px\"viewBox=\"0 0 24 24\"\n",
              "     width=\"24px\">\n",
              "    <g>\n",
              "        <path d=\"M19 3H5c-1.1 0-2 .9-2 2v14c0 1.1.9 2 2 2h14c1.1 0 2-.9 2-2V5c0-1.1-.9-2-2-2zM9 17H7v-7h2v7zm4 0h-2V7h2v10zm4 0h-2v-4h2v4z\"/>\n",
              "    </g>\n",
              "</svg>\n",
              "      </button>\n",
              "    </div>\n",
              "\n",
              "<style>\n",
              "  .colab-df-quickchart {\n",
              "    background-color: #E8F0FE;\n",
              "    border: none;\n",
              "    border-radius: 50%;\n",
              "    cursor: pointer;\n",
              "    display: none;\n",
              "    fill: #1967D2;\n",
              "    height: 32px;\n",
              "    padding: 0 0 0 0;\n",
              "    width: 32px;\n",
              "  }\n",
              "\n",
              "  .colab-df-quickchart:hover {\n",
              "    background-color: #E2EBFA;\n",
              "    box-shadow: 0px 1px 2px rgba(60, 64, 67, 0.3), 0px 1px 3px 1px rgba(60, 64, 67, 0.15);\n",
              "    fill: #174EA6;\n",
              "  }\n",
              "\n",
              "  [theme=dark] .colab-df-quickchart {\n",
              "    background-color: #3B4455;\n",
              "    fill: #D2E3FC;\n",
              "  }\n",
              "\n",
              "  [theme=dark] .colab-df-quickchart:hover {\n",
              "    background-color: #434B5C;\n",
              "    box-shadow: 0px 1px 3px 1px rgba(0, 0, 0, 0.15);\n",
              "    filter: drop-shadow(0px 1px 2px rgba(0, 0, 0, 0.3));\n",
              "    fill: #FFFFFF;\n",
              "  }\n",
              "</style>\n",
              "\n",
              "    <script>\n",
              "      async function quickchart(key) {\n",
              "        const containerElement = document.querySelector('#' + key);\n",
              "        const charts = await google.colab.kernel.invokeFunction(\n",
              "            'suggestCharts', [key], {});\n",
              "      }\n",
              "    </script>\n",
              "\n",
              "      <script>\n",
              "\n",
              "function displayQuickchartButton(domScope) {\n",
              "  let quickchartButtonEl =\n",
              "    domScope.querySelector('#df-51202110-f713-4254-a089-b1ae4f968b58 button.colab-df-quickchart');\n",
              "  quickchartButtonEl.style.display =\n",
              "    google.colab.kernel.accessAllowed ? 'block' : 'none';\n",
              "}\n",
              "\n",
              "        displayQuickchartButton(document);\n",
              "      </script>\n",
              "      <style>\n",
              "    .colab-df-container {\n",
              "      display:flex;\n",
              "      flex-wrap:wrap;\n",
              "      gap: 12px;\n",
              "    }\n",
              "\n",
              "    .colab-df-convert {\n",
              "      background-color: #E8F0FE;\n",
              "      border: none;\n",
              "      border-radius: 50%;\n",
              "      cursor: pointer;\n",
              "      display: none;\n",
              "      fill: #1967D2;\n",
              "      height: 32px;\n",
              "      padding: 0 0 0 0;\n",
              "      width: 32px;\n",
              "    }\n",
              "\n",
              "    .colab-df-convert:hover {\n",
              "      background-color: #E2EBFA;\n",
              "      box-shadow: 0px 1px 2px rgba(60, 64, 67, 0.3), 0px 1px 3px 1px rgba(60, 64, 67, 0.15);\n",
              "      fill: #174EA6;\n",
              "    }\n",
              "\n",
              "    [theme=dark] .colab-df-convert {\n",
              "      background-color: #3B4455;\n",
              "      fill: #D2E3FC;\n",
              "    }\n",
              "\n",
              "    [theme=dark] .colab-df-convert:hover {\n",
              "      background-color: #434B5C;\n",
              "      box-shadow: 0px 1px 3px 1px rgba(0, 0, 0, 0.15);\n",
              "      filter: drop-shadow(0px 1px 2px rgba(0, 0, 0, 0.3));\n",
              "      fill: #FFFFFF;\n",
              "    }\n",
              "  </style>\n",
              "\n",
              "      <script>\n",
              "        const buttonEl =\n",
              "          document.querySelector('#df-faaa80ba-5f7c-49a0-99fe-ba2669467fb0 button.colab-df-convert');\n",
              "        buttonEl.style.display =\n",
              "          google.colab.kernel.accessAllowed ? 'block' : 'none';\n",
              "\n",
              "        async function convertToInteractive(key) {\n",
              "          const element = document.querySelector('#df-faaa80ba-5f7c-49a0-99fe-ba2669467fb0');\n",
              "          const dataTable =\n",
              "            await google.colab.kernel.invokeFunction('convertToInteractive',\n",
              "                                                     [key], {});\n",
              "          if (!dataTable) return;\n",
              "\n",
              "          const docLinkHtml = 'Like what you see? Visit the ' +\n",
              "            '<a target=\"_blank\" href=https://colab.research.google.com/notebooks/data_table.ipynb>data table notebook</a>'\n",
              "            + ' to learn more about interactive tables.';\n",
              "          element.innerHTML = '';\n",
              "          dataTable['output_type'] = 'display_data';\n",
              "          await google.colab.output.renderOutput(dataTable, element);\n",
              "          const docLink = document.createElement('div');\n",
              "          docLink.innerHTML = docLinkHtml;\n",
              "          element.appendChild(docLink);\n",
              "        }\n",
              "      </script>\n",
              "    </div>\n",
              "  </div>\n"
            ]
          },
          "metadata": {},
          "execution_count": 20
        }
      ],
      "source": [
        "data_a['item_sum'] = data_a['purchase'] * data_a['item_price']\n",
        "# После вычисления суммы, цена товаров - не нужна\n",
        "data_a.drop(columns='item_price', axis=1, inplace=True)\n",
        "data_a.sample(2)"
      ]
    },
    {
      "cell_type": "markdown",
      "id": "94af700a",
      "metadata": {
        "id": "94af700a"
      },
      "source": [
        "Для получения итоговых данных в разрезе отдельного клиента и товара, свернем полученные данные по признакам *user_id* и *item_id*, просуммировав оставшиеся признаки:"
      ]
    },
    {
      "cell_type": "code",
      "execution_count": 21,
      "id": "e6bf3355",
      "metadata": {
        "id": "e6bf3355",
        "outputId": "9639158d-d829-497d-f594-58cfb8f15dd8",
        "colab": {
          "base_uri": "https://localhost:8080/",
          "height": 143
        }
      },
      "outputs": [
        {
          "output_type": "execute_result",
          "data": {
            "text/plain": [
              "                 viewing  click  purchase  item_sum\n",
              "user_id item_id                                    \n",
              "43778   5449           1      0         0       0.0\n",
              "59909   5751           1      0         0       0.0"
            ],
            "text/html": [
              "\n",
              "\n",
              "  <div id=\"df-d06f8618-b38f-4045-a17d-ab9d0e9e9443\">\n",
              "    <div class=\"colab-df-container\">\n",
              "      <div>\n",
              "<style scoped>\n",
              "    .dataframe tbody tr th:only-of-type {\n",
              "        vertical-align: middle;\n",
              "    }\n",
              "\n",
              "    .dataframe tbody tr th {\n",
              "        vertical-align: top;\n",
              "    }\n",
              "\n",
              "    .dataframe thead th {\n",
              "        text-align: right;\n",
              "    }\n",
              "</style>\n",
              "<table border=\"1\" class=\"dataframe\">\n",
              "  <thead>\n",
              "    <tr style=\"text-align: right;\">\n",
              "      <th></th>\n",
              "      <th></th>\n",
              "      <th>viewing</th>\n",
              "      <th>click</th>\n",
              "      <th>purchase</th>\n",
              "      <th>item_sum</th>\n",
              "    </tr>\n",
              "    <tr>\n",
              "      <th>user_id</th>\n",
              "      <th>item_id</th>\n",
              "      <th></th>\n",
              "      <th></th>\n",
              "      <th></th>\n",
              "      <th></th>\n",
              "    </tr>\n",
              "  </thead>\n",
              "  <tbody>\n",
              "    <tr>\n",
              "      <th>43778</th>\n",
              "      <th>5449</th>\n",
              "      <td>1</td>\n",
              "      <td>0</td>\n",
              "      <td>0</td>\n",
              "      <td>0.0</td>\n",
              "    </tr>\n",
              "    <tr>\n",
              "      <th>59909</th>\n",
              "      <th>5751</th>\n",
              "      <td>1</td>\n",
              "      <td>0</td>\n",
              "      <td>0</td>\n",
              "      <td>0.0</td>\n",
              "    </tr>\n",
              "  </tbody>\n",
              "</table>\n",
              "</div>\n",
              "      <button class=\"colab-df-convert\" onclick=\"convertToInteractive('df-d06f8618-b38f-4045-a17d-ab9d0e9e9443')\"\n",
              "              title=\"Convert this dataframe to an interactive table.\"\n",
              "              style=\"display:none;\">\n",
              "\n",
              "  <svg xmlns=\"http://www.w3.org/2000/svg\" height=\"24px\"viewBox=\"0 0 24 24\"\n",
              "       width=\"24px\">\n",
              "    <path d=\"M0 0h24v24H0V0z\" fill=\"none\"/>\n",
              "    <path d=\"M18.56 5.44l.94 2.06.94-2.06 2.06-.94-2.06-.94-.94-2.06-.94 2.06-2.06.94zm-11 1L8.5 8.5l.94-2.06 2.06-.94-2.06-.94L8.5 2.5l-.94 2.06-2.06.94zm10 10l.94 2.06.94-2.06 2.06-.94-2.06-.94-.94-2.06-.94 2.06-2.06.94z\"/><path d=\"M17.41 7.96l-1.37-1.37c-.4-.4-.92-.59-1.43-.59-.52 0-1.04.2-1.43.59L10.3 9.45l-7.72 7.72c-.78.78-.78 2.05 0 2.83L4 21.41c.39.39.9.59 1.41.59.51 0 1.02-.2 1.41-.59l7.78-7.78 2.81-2.81c.8-.78.8-2.07 0-2.86zM5.41 20L4 18.59l7.72-7.72 1.47 1.35L5.41 20z\"/>\n",
              "  </svg>\n",
              "      </button>\n",
              "\n",
              "\n",
              "\n",
              "    <div id=\"df-2ddec913-9266-4942-8612-48184ef77a38\">\n",
              "      <button class=\"colab-df-quickchart\" onclick=\"quickchart('df-2ddec913-9266-4942-8612-48184ef77a38')\"\n",
              "              title=\"Suggest charts.\"\n",
              "              style=\"display:none;\">\n",
              "\n",
              "<svg xmlns=\"http://www.w3.org/2000/svg\" height=\"24px\"viewBox=\"0 0 24 24\"\n",
              "     width=\"24px\">\n",
              "    <g>\n",
              "        <path d=\"M19 3H5c-1.1 0-2 .9-2 2v14c0 1.1.9 2 2 2h14c1.1 0 2-.9 2-2V5c0-1.1-.9-2-2-2zM9 17H7v-7h2v7zm4 0h-2V7h2v10zm4 0h-2v-4h2v4z\"/>\n",
              "    </g>\n",
              "</svg>\n",
              "      </button>\n",
              "    </div>\n",
              "\n",
              "<style>\n",
              "  .colab-df-quickchart {\n",
              "    background-color: #E8F0FE;\n",
              "    border: none;\n",
              "    border-radius: 50%;\n",
              "    cursor: pointer;\n",
              "    display: none;\n",
              "    fill: #1967D2;\n",
              "    height: 32px;\n",
              "    padding: 0 0 0 0;\n",
              "    width: 32px;\n",
              "  }\n",
              "\n",
              "  .colab-df-quickchart:hover {\n",
              "    background-color: #E2EBFA;\n",
              "    box-shadow: 0px 1px 2px rgba(60, 64, 67, 0.3), 0px 1px 3px 1px rgba(60, 64, 67, 0.15);\n",
              "    fill: #174EA6;\n",
              "  }\n",
              "\n",
              "  [theme=dark] .colab-df-quickchart {\n",
              "    background-color: #3B4455;\n",
              "    fill: #D2E3FC;\n",
              "  }\n",
              "\n",
              "  [theme=dark] .colab-df-quickchart:hover {\n",
              "    background-color: #434B5C;\n",
              "    box-shadow: 0px 1px 3px 1px rgba(0, 0, 0, 0.15);\n",
              "    filter: drop-shadow(0px 1px 2px rgba(0, 0, 0, 0.3));\n",
              "    fill: #FFFFFF;\n",
              "  }\n",
              "</style>\n",
              "\n",
              "    <script>\n",
              "      async function quickchart(key) {\n",
              "        const containerElement = document.querySelector('#' + key);\n",
              "        const charts = await google.colab.kernel.invokeFunction(\n",
              "            'suggestCharts', [key], {});\n",
              "      }\n",
              "    </script>\n",
              "\n",
              "      <script>\n",
              "\n",
              "function displayQuickchartButton(domScope) {\n",
              "  let quickchartButtonEl =\n",
              "    domScope.querySelector('#df-2ddec913-9266-4942-8612-48184ef77a38 button.colab-df-quickchart');\n",
              "  quickchartButtonEl.style.display =\n",
              "    google.colab.kernel.accessAllowed ? 'block' : 'none';\n",
              "}\n",
              "\n",
              "        displayQuickchartButton(document);\n",
              "      </script>\n",
              "      <style>\n",
              "    .colab-df-container {\n",
              "      display:flex;\n",
              "      flex-wrap:wrap;\n",
              "      gap: 12px;\n",
              "    }\n",
              "\n",
              "    .colab-df-convert {\n",
              "      background-color: #E8F0FE;\n",
              "      border: none;\n",
              "      border-radius: 50%;\n",
              "      cursor: pointer;\n",
              "      display: none;\n",
              "      fill: #1967D2;\n",
              "      height: 32px;\n",
              "      padding: 0 0 0 0;\n",
              "      width: 32px;\n",
              "    }\n",
              "\n",
              "    .colab-df-convert:hover {\n",
              "      background-color: #E2EBFA;\n",
              "      box-shadow: 0px 1px 2px rgba(60, 64, 67, 0.3), 0px 1px 3px 1px rgba(60, 64, 67, 0.15);\n",
              "      fill: #174EA6;\n",
              "    }\n",
              "\n",
              "    [theme=dark] .colab-df-convert {\n",
              "      background-color: #3B4455;\n",
              "      fill: #D2E3FC;\n",
              "    }\n",
              "\n",
              "    [theme=dark] .colab-df-convert:hover {\n",
              "      background-color: #434B5C;\n",
              "      box-shadow: 0px 1px 3px 1px rgba(0, 0, 0, 0.15);\n",
              "      filter: drop-shadow(0px 1px 2px rgba(0, 0, 0, 0.3));\n",
              "      fill: #FFFFFF;\n",
              "    }\n",
              "  </style>\n",
              "\n",
              "      <script>\n",
              "        const buttonEl =\n",
              "          document.querySelector('#df-d06f8618-b38f-4045-a17d-ab9d0e9e9443 button.colab-df-convert');\n",
              "        buttonEl.style.display =\n",
              "          google.colab.kernel.accessAllowed ? 'block' : 'none';\n",
              "\n",
              "        async function convertToInteractive(key) {\n",
              "          const element = document.querySelector('#df-d06f8618-b38f-4045-a17d-ab9d0e9e9443');\n",
              "          const dataTable =\n",
              "            await google.colab.kernel.invokeFunction('convertToInteractive',\n",
              "                                                     [key], {});\n",
              "          if (!dataTable) return;\n",
              "\n",
              "          const docLinkHtml = 'Like what you see? Visit the ' +\n",
              "            '<a target=\"_blank\" href=https://colab.research.google.com/notebooks/data_table.ipynb>data table notebook</a>'\n",
              "            + ' to learn more about interactive tables.';\n",
              "          element.innerHTML = '';\n",
              "          dataTable['output_type'] = 'display_data';\n",
              "          await google.colab.output.renderOutput(dataTable, element);\n",
              "          const docLink = document.createElement('div');\n",
              "          docLink.innerHTML = docLinkHtml;\n",
              "          element.appendChild(docLink);\n",
              "        }\n",
              "      </script>\n",
              "    </div>\n",
              "  </div>\n"
            ]
          },
          "metadata": {},
          "execution_count": 21
        }
      ],
      "source": [
        "data_a = data_a.groupby(by=['user_id','item_id']).sum()\n",
        "data_a.sample(2)"
      ]
    },
    {
      "cell_type": "markdown",
      "id": "7a72d574",
      "metadata": {
        "id": "7a72d574"
      },
      "source": [
        "Количество строк уменьшилось. Теперь можно произвести проверку наличия предварительных просмотров товаров перед каждой операцией клика на товаре или покупки товара. Для этого проанализируем частоту появления различных значений признака *viewing*."
      ]
    },
    {
      "cell_type": "code",
      "execution_count": 22,
      "id": "a0829e1b",
      "metadata": {
        "id": "a0829e1b",
        "outputId": "977d2034-f575-40fe-bb85-69fa502e457d",
        "colab": {
          "base_uri": "https://localhost:8080/"
        }
      },
      "outputs": [
        {
          "output_type": "execute_result",
          "data": {
            "text/plain": [
              "1    951130\n",
              "Name: viewing, dtype: int64"
            ]
          },
          "metadata": {},
          "execution_count": 22
        }
      ],
      "source": [
        "data_a['viewing'].value_counts()"
      ]
    },
    {
      "cell_type": "markdown",
      "id": "1693c51d",
      "metadata": {
        "id": "1693c51d"
      },
      "source": [
        "Видно, что значение признака *viewing* имеет единственное значение - 1 и количество этих значений совпадает с количеством строк в свернутом датасете. Из этого можно заключить, что у нас нет ситуаций, когда клик или покупка происходят без действия предварительного просмотра.\n",
        "\n",
        "Перед дальнейшим использованием полученного датасета, проведем визуальный анализ распределений исследуемых признаков."
      ]
    },
    {
      "cell_type": "code",
      "execution_count": 23,
      "id": "c92239af",
      "metadata": {
        "id": "c92239af",
        "outputId": "a2d4dec0-da00-4a54-c482-359383991478",
        "colab": {
          "base_uri": "https://localhost:8080/",
          "height": 521
        }
      },
      "outputs": [
        {
          "output_type": "execute_result",
          "data": {
            "text/plain": [
              "array([[<Axes: title={'center': 'viewing'}>,\n",
              "        <Axes: title={'center': 'click'}>],\n",
              "       [<Axes: title={'center': 'purchase'}>,\n",
              "        <Axes: title={'center': 'item_sum'}>]], dtype=object)"
            ]
          },
          "metadata": {},
          "execution_count": 23
        },
        {
          "output_type": "display_data",
          "data": {
            "text/plain": [
              "<Figure size 640x480 with 4 Axes>"
            ],
            "image/png": "[encoded data removed]"
          },
          "metadata": {}
        }
      ],
      "source": [
        "data_a.hist(bins=5)"
      ]
    },
    {
      "cell_type": "markdown",
      "id": "5dfced39",
      "metadata": {
        "id": "5dfced39"
      },
      "source": [
        "Из полученных результатов можно сделать следующие предварительные выводы по датасету *А-группы*.\n",
        "\n",
        "1. Как и было описано выше, каждой строке датасета соответствует предварительный просмотр товаров. Признак *viewing* имеет единственное значение равное *1* и частота его появления соответствует количеству записей в выборке.\n",
        "2. Значение признака *click* имеет два значения - \"1\" и \"0\" (категориальный признак) и распределено не равномерно. Количество выполненных кликов составляет примерно 1/5 всей выборки.\n",
        "3. Значение признака *purchase* также имеет два значения - \"1\" и \"0\" (категориальный признак) и также распределено не равномерно. Количество выполнных покупок имеет достаточно небольшое количество по отношению к общему количеству выборки.\n",
        "4. *item_sum* является количественным денежным признаком с значениями в диапазоне от 0 до 2000 и распределяется не по нормальному закону. Основная масса покупок имеет сумму близкую к нулевому значению.\n",
        "\n",
        "**Произведем расчет метрик**, определенных в задании к проекту для *А-группы*. Данные по метрикам для различных групп будем собирать в итоговый датафрейм для сравнения."
      ]
    },
    {
      "cell_type": "code",
      "execution_count": 24,
      "id": "885af21f",
      "metadata": {
        "id": "885af21f"
      },
      "outputs": [],
      "source": [
        "# ctr - А-группа\n",
        "ctr = data_a['click'].sum()/data_a['viewing'].sum()"
      ]
    },
    {
      "cell_type": "code",
      "execution_count": 25,
      "id": "5e4625f8",
      "metadata": {
        "id": "5e4625f8"
      },
      "outputs": [],
      "source": [
        "# purchase rate - А-группа\n",
        "purchase_rate = data_a['purchase'].sum()/data_a['viewing'].sum()"
      ]
    },
    {
      "cell_type": "code",
      "execution_count": 26,
      "id": "ee9c90d1",
      "metadata": {
        "id": "ee9c90d1"
      },
      "outputs": [],
      "source": [
        "# gmv - А-группа\n",
        "gvm = data_a['item_sum'].sum()"
      ]
    },
    {
      "cell_type": "code",
      "execution_count": 27,
      "id": "544a1ebe",
      "metadata": {
        "id": "544a1ebe",
        "outputId": "0f45e124-92ec-4634-d9dc-6d0c65a626b6",
        "colab": {
          "base_uri": "https://localhost:8080/",
          "height": 81
        }
      },
      "outputs": [
        {
          "output_type": "execute_result",
          "data": {
            "text/plain": [
              "  sample    size  ctr  purchase rate           gmv\n",
              "0      A  951130  0.2       0.049999  5.087209e+07"
            ],
            "text/html": [
              "\n",
              "\n",
              "  <div id=\"df-178ef8cc-5798-4557-9f28-5083b05c09f8\">\n",
              "    <div class=\"colab-df-container\">\n",
              "      <div>\n",
              "<style scoped>\n",
              "    .dataframe tbody tr th:only-of-type {\n",
              "        vertical-align: middle;\n",
              "    }\n",
              "\n",
              "    .dataframe tbody tr th {\n",
              "        vertical-align: top;\n",
              "    }\n",
              "\n",
              "    .dataframe thead th {\n",
              "        text-align: right;\n",
              "    }\n",
              "</style>\n",
              "<table border=\"1\" class=\"dataframe\">\n",
              "  <thead>\n",
              "    <tr style=\"text-align: right;\">\n",
              "      <th></th>\n",
              "      <th>sample</th>\n",
              "      <th>size</th>\n",
              "      <th>ctr</th>\n",
              "      <th>purchase rate</th>\n",
              "      <th>gmv</th>\n",
              "    </tr>\n",
              "  </thead>\n",
              "  <tbody>\n",
              "    <tr>\n",
              "      <th>0</th>\n",
              "      <td>A</td>\n",
              "      <td>951130</td>\n",
              "      <td>0.2</td>\n",
              "      <td>0.049999</td>\n",
              "      <td>5.087209e+07</td>\n",
              "    </tr>\n",
              "  </tbody>\n",
              "</table>\n",
              "</div>\n",
              "      <button class=\"colab-df-convert\" onclick=\"convertToInteractive('df-178ef8cc-5798-4557-9f28-5083b05c09f8')\"\n",
              "              title=\"Convert this dataframe to an interactive table.\"\n",
              "              style=\"display:none;\">\n",
              "\n",
              "  <svg xmlns=\"http://www.w3.org/2000/svg\" height=\"24px\"viewBox=\"0 0 24 24\"\n",
              "       width=\"24px\">\n",
              "    <path d=\"M0 0h24v24H0V0z\" fill=\"none\"/>\n",
              "    <path d=\"M18.56 5.44l.94 2.06.94-2.06 2.06-.94-2.06-.94-.94-2.06-.94 2.06-2.06.94zm-11 1L8.5 8.5l.94-2.06 2.06-.94-2.06-.94L8.5 2.5l-.94 2.06-2.06.94zm10 10l.94 2.06.94-2.06 2.06-.94-2.06-.94-.94-2.06-.94 2.06-2.06.94z\"/><path d=\"M17.41 7.96l-1.37-1.37c-.4-.4-.92-.59-1.43-.59-.52 0-1.04.2-1.43.59L10.3 9.45l-7.72 7.72c-.78.78-.78 2.05 0 2.83L4 21.41c.39.39.9.59 1.41.59.51 0 1.02-.2 1.41-.59l7.78-7.78 2.81-2.81c.8-.78.8-2.07 0-2.86zM5.41 20L4 18.59l7.72-7.72 1.47 1.35L5.41 20z\"/>\n",
              "  </svg>\n",
              "      </button>\n",
              "\n",
              "\n",
              "\n",
              "    <div id=\"df-f40942ca-b498-4b4b-847a-1db55b30c0dc\">\n",
              "      <button class=\"colab-df-quickchart\" onclick=\"quickchart('df-f40942ca-b498-4b4b-847a-1db55b30c0dc')\"\n",
              "              title=\"Suggest charts.\"\n",
              "              style=\"display:none;\">\n",
              "\n",
              "<svg xmlns=\"http://www.w3.org/2000/svg\" height=\"24px\"viewBox=\"0 0 24 24\"\n",
              "     width=\"24px\">\n",
              "    <g>\n",
              "        <path d=\"M19 3H5c-1.1 0-2 .9-2 2v14c0 1.1.9 2 2 2h14c1.1 0 2-.9 2-2V5c0-1.1-.9-2-2-2zM9 17H7v-7h2v7zm4 0h-2V7h2v10zm4 0h-2v-4h2v4z\"/>\n",
              "    </g>\n",
              "</svg>\n",
              "      </button>\n",
              "    </div>\n",
              "\n",
              "<style>\n",
              "  .colab-df-quickchart {\n",
              "    background-color: #E8F0FE;\n",
              "    border: none;\n",
              "    border-radius: 50%;\n",
              "    cursor: pointer;\n",
              "    display: none;\n",
              "    fill: #1967D2;\n",
              "    height: 32px;\n",
              "    padding: 0 0 0 0;\n",
              "    width: 32px;\n",
              "  }\n",
              "\n",
              "  .colab-df-quickchart:hover {\n",
              "    background-color: #E2EBFA;\n",
              "    box-shadow: 0px 1px 2px rgba(60, 64, 67, 0.3), 0px 1px 3px 1px rgba(60, 64, 67, 0.15);\n",
              "    fill: #174EA6;\n",
              "  }\n",
              "\n",
              "  [theme=dark] .colab-df-quickchart {\n",
              "    background-color: #3B4455;\n",
              "    fill: #D2E3FC;\n",
              "  }\n",
              "\n",
              "  [theme=dark] .colab-df-quickchart:hover {\n",
              "    background-color: #434B5C;\n",
              "    box-shadow: 0px 1px 3px 1px rgba(0, 0, 0, 0.15);\n",
              "    filter: drop-shadow(0px 1px 2px rgba(0, 0, 0, 0.3));\n",
              "    fill: #FFFFFF;\n",
              "  }\n",
              "</style>\n",
              "\n",
              "    <script>\n",
              "      async function quickchart(key) {\n",
              "        const containerElement = document.querySelector('#' + key);\n",
              "        const charts = await google.colab.kernel.invokeFunction(\n",
              "            'suggestCharts', [key], {});\n",
              "      }\n",
              "    </script>\n",
              "\n",
              "      <script>\n",
              "\n",
              "function displayQuickchartButton(domScope) {\n",
              "  let quickchartButtonEl =\n",
              "    domScope.querySelector('#df-f40942ca-b498-4b4b-847a-1db55b30c0dc button.colab-df-quickchart');\n",
              "  quickchartButtonEl.style.display =\n",
              "    google.colab.kernel.accessAllowed ? 'block' : 'none';\n",
              "}\n",
              "\n",
              "        displayQuickchartButton(document);\n",
              "      </script>\n",
              "      <style>\n",
              "    .colab-df-container {\n",
              "      display:flex;\n",
              "      flex-wrap:wrap;\n",
              "      gap: 12px;\n",
              "    }\n",
              "\n",
              "    .colab-df-convert {\n",
              "      background-color: #E8F0FE;\n",
              "      border: none;\n",
              "      border-radius: 50%;\n",
              "      cursor: pointer;\n",
              "      display: none;\n",
              "      fill: #1967D2;\n",
              "      height: 32px;\n",
              "      padding: 0 0 0 0;\n",
              "      width: 32px;\n",
              "    }\n",
              "\n",
              "    .colab-df-convert:hover {\n",
              "      background-color: #E2EBFA;\n",
              "      box-shadow: 0px 1px 2px rgba(60, 64, 67, 0.3), 0px 1px 3px 1px rgba(60, 64, 67, 0.15);\n",
              "      fill: #174EA6;\n",
              "    }\n",
              "\n",
              "    [theme=dark] .colab-df-convert {\n",
              "      background-color: #3B4455;\n",
              "      fill: #D2E3FC;\n",
              "    }\n",
              "\n",
              "    [theme=dark] .colab-df-convert:hover {\n",
              "      background-color: #434B5C;\n",
              "      box-shadow: 0px 1px 3px 1px rgba(0, 0, 0, 0.15);\n",
              "      filter: drop-shadow(0px 1px 2px rgba(0, 0, 0, 0.3));\n",
              "      fill: #FFFFFF;\n",
              "    }\n",
              "  </style>\n",
              "\n",
              "      <script>\n",
              "        const buttonEl =\n",
              "          document.querySelector('#df-178ef8cc-5798-4557-9f28-5083b05c09f8 button.colab-df-convert');\n",
              "        buttonEl.style.display =\n",
              "          google.colab.kernel.accessAllowed ? 'block' : 'none';\n",
              "\n",
              "        async function convertToInteractive(key) {\n",
              "          const element = document.querySelector('#df-178ef8cc-5798-4557-9f28-5083b05c09f8');\n",
              "          const dataTable =\n",
              "            await google.colab.kernel.invokeFunction('convertToInteractive',\n",
              "                                                     [key], {});\n",
              "          if (!dataTable) return;\n",
              "\n",
              "          const docLinkHtml = 'Like what you see? Visit the ' +\n",
              "            '<a target=\"_blank\" href=https://colab.research.google.com/notebooks/data_table.ipynb>data table notebook</a>'\n",
              "            + ' to learn more about interactive tables.';\n",
              "          element.innerHTML = '';\n",
              "          dataTable['output_type'] = 'display_data';\n",
              "          await google.colab.output.renderOutput(dataTable, element);\n",
              "          const docLink = document.createElement('div');\n",
              "          docLink.innerHTML = docLinkHtml;\n",
              "          element.appendChild(docLink);\n",
              "        }\n",
              "      </script>\n",
              "    </div>\n",
              "  </div>\n"
            ]
          },
          "metadata": {},
          "execution_count": 27
        }
      ],
      "source": [
        "row = {'sample':['A'],'size':[len(data_a)],'ctr':[ctr], 'purchase rate':[purchase_rate], 'gmv':[gvm]}\n",
        "df_result = pd.DataFrame.from_dict(row)\n",
        "df_result"
      ]
    },
    {
      "cell_type": "markdown",
      "id": "569907e2",
      "metadata": {
        "id": "569907e2"
      },
      "source": [
        "Полученные данные по выборке *А-группы* будут базовыми для сравнения с данными в других рассмотренных группах."
      ]
    },
    {
      "cell_type": "markdown",
      "id": "01de1811",
      "metadata": {
        "id": "01de1811"
      },
      "source": [
        "**1.3. Анализ и обработка датасета *simple_b***"
      ]
    },
    {
      "cell_type": "markdown",
      "id": "07733f14",
      "metadata": {
        "id": "07733f14"
      },
      "source": [
        "Обработаем датасет *simple_b* аналогично рассмотренному выше датасету *simple_a*."
      ]
    },
    {
      "cell_type": "code",
      "source": [
        "!unzip -q sample_b.zip"
      ],
      "metadata": {
        "id": "5Kxalzu1FTjC"
      },
      "id": "5Kxalzu1FTjC",
      "execution_count": 29,
      "outputs": []
    },
    {
      "cell_type": "code",
      "execution_count": 35,
      "id": "b77d858b",
      "metadata": {
        "id": "b77d858b",
        "outputId": "a9f59213-5e75-460f-8a47-eeea6aa5912b",
        "colab": {
          "base_uri": "https://localhost:8080/",
          "height": 112
        }
      },
      "outputs": [
        {
          "output_type": "execute_result",
          "data": {
            "text/plain": [
              "       user_id  item_id  action_id\n",
              "74830   172192      810          1\n",
              "43718   152515      355          1"
            ],
            "text/html": [
              "\n",
              "\n",
              "  <div id=\"df-744f7a03-5829-4268-9761-16911398ee6b\">\n",
              "    <div class=\"colab-df-container\">\n",
              "      <div>\n",
              "<style scoped>\n",
              "    .dataframe tbody tr th:only-of-type {\n",
              "        vertical-align: middle;\n",
              "    }\n",
              "\n",
              "    .dataframe tbody tr th {\n",
              "        vertical-align: top;\n",
              "    }\n",
              "\n",
              "    .dataframe thead th {\n",
              "        text-align: right;\n",
              "    }\n",
              "</style>\n",
              "<table border=\"1\" class=\"dataframe\">\n",
              "  <thead>\n",
              "    <tr style=\"text-align: right;\">\n",
              "      <th></th>\n",
              "      <th>user_id</th>\n",
              "      <th>item_id</th>\n",
              "      <th>action_id</th>\n",
              "    </tr>\n",
              "  </thead>\n",
              "  <tbody>\n",
              "    <tr>\n",
              "      <th>74830</th>\n",
              "      <td>172192</td>\n",
              "      <td>810</td>\n",
              "      <td>1</td>\n",
              "    </tr>\n",
              "    <tr>\n",
              "      <th>43718</th>\n",
              "      <td>152515</td>\n",
              "      <td>355</td>\n",
              "      <td>1</td>\n",
              "    </tr>\n",
              "  </tbody>\n",
              "</table>\n",
              "</div>\n",
              "      <button class=\"colab-df-convert\" onclick=\"convertToInteractive('df-744f7a03-5829-4268-9761-16911398ee6b')\"\n",
              "              title=\"Convert this dataframe to an interactive table.\"\n",
              "              style=\"display:none;\">\n",
              "\n",
              "  <svg xmlns=\"http://www.w3.org/2000/svg\" height=\"24px\"viewBox=\"0 0 24 24\"\n",
              "       width=\"24px\">\n",
              "    <path d=\"M0 0h24v24H0V0z\" fill=\"none\"/>\n",
              "    <path d=\"M18.56 5.44l.94 2.06.94-2.06 2.06-.94-2.06-.94-.94-2.06-.94 2.06-2.06.94zm-11 1L8.5 8.5l.94-2.06 2.06-.94-2.06-.94L8.5 2.5l-.94 2.06-2.06.94zm10 10l.94 2.06.94-2.06 2.06-.94-2.06-.94-.94-2.06-.94 2.06-2.06.94z\"/><path d=\"M17.41 7.96l-1.37-1.37c-.4-.4-.92-.59-1.43-.59-.52 0-1.04.2-1.43.59L10.3 9.45l-7.72 7.72c-.78.78-.78 2.05 0 2.83L4 21.41c.39.39.9.59 1.41.59.51 0 1.02-.2 1.41-.59l7.78-7.78 2.81-2.81c.8-.78.8-2.07 0-2.86zM5.41 20L4 18.59l7.72-7.72 1.47 1.35L5.41 20z\"/>\n",
              "  </svg>\n",
              "      </button>\n",
              "\n",
              "\n",
              "\n",
              "    <div id=\"df-4dfcb61b-d4ce-4bcd-aa20-bd8935dbf3ba\">\n",
              "      <button class=\"colab-df-quickchart\" onclick=\"quickchart('df-4dfcb61b-d4ce-4bcd-aa20-bd8935dbf3ba')\"\n",
              "              title=\"Suggest charts.\"\n",
              "              style=\"display:none;\">\n",
              "\n",
              "<svg xmlns=\"http://www.w3.org/2000/svg\" height=\"24px\"viewBox=\"0 0 24 24\"\n",
              "     width=\"24px\">\n",
              "    <g>\n",
              "        <path d=\"M19 3H5c-1.1 0-2 .9-2 2v14c0 1.1.9 2 2 2h14c1.1 0 2-.9 2-2V5c0-1.1-.9-2-2-2zM9 17H7v-7h2v7zm4 0h-2V7h2v10zm4 0h-2v-4h2v4z\"/>\n",
              "    </g>\n",
              "</svg>\n",
              "      </button>\n",
              "    </div>\n",
              "\n",
              "<style>\n",
              "  .colab-df-quickchart {\n",
              "    background-color: #E8F0FE;\n",
              "    border: none;\n",
              "    border-radius: 50%;\n",
              "    cursor: pointer;\n",
              "    display: none;\n",
              "    fill: #1967D2;\n",
              "    height: 32px;\n",
              "    padding: 0 0 0 0;\n",
              "    width: 32px;\n",
              "  }\n",
              "\n",
              "  .colab-df-quickchart:hover {\n",
              "    background-color: #E2EBFA;\n",
              "    box-shadow: 0px 1px 2px rgba(60, 64, 67, 0.3), 0px 1px 3px 1px rgba(60, 64, 67, 0.15);\n",
              "    fill: #174EA6;\n",
              "  }\n",
              "\n",
              "  [theme=dark] .colab-df-quickchart {\n",
              "    background-color: #3B4455;\n",
              "    fill: #D2E3FC;\n",
              "  }\n",
              "\n",
              "  [theme=dark] .colab-df-quickchart:hover {\n",
              "    background-color: #434B5C;\n",
              "    box-shadow: 0px 1px 3px 1px rgba(0, 0, 0, 0.15);\n",
              "    filter: drop-shadow(0px 1px 2px rgba(0, 0, 0, 0.3));\n",
              "    fill: #FFFFFF;\n",
              "  }\n",
              "</style>\n",
              "\n",
              "    <script>\n",
              "      async function quickchart(key) {\n",
              "        const containerElement = document.querySelector('#' + key);\n",
              "        const charts = await google.colab.kernel.invokeFunction(\n",
              "            'suggestCharts', [key], {});\n",
              "      }\n",
              "    </script>\n",
              "\n",
              "      <script>\n",
              "\n",
              "function displayQuickchartButton(domScope) {\n",
              "  let quickchartButtonEl =\n",
              "    domScope.querySelector('#df-4dfcb61b-d4ce-4bcd-aa20-bd8935dbf3ba button.colab-df-quickchart');\n",
              "  quickchartButtonEl.style.display =\n",
              "    google.colab.kernel.accessAllowed ? 'block' : 'none';\n",
              "}\n",
              "\n",
              "        displayQuickchartButton(document);\n",
              "      </script>\n",
              "      <style>\n",
              "    .colab-df-container {\n",
              "      display:flex;\n",
              "      flex-wrap:wrap;\n",
              "      gap: 12px;\n",
              "    }\n",
              "\n",
              "    .colab-df-convert {\n",
              "      background-color: #E8F0FE;\n",
              "      border: none;\n",
              "      border-radius: 50%;\n",
              "      cursor: pointer;\n",
              "      display: none;\n",
              "      fill: #1967D2;\n",
              "      height: 32px;\n",
              "      padding: 0 0 0 0;\n",
              "      width: 32px;\n",
              "    }\n",
              "\n",
              "    .colab-df-convert:hover {\n",
              "      background-color: #E2EBFA;\n",
              "      box-shadow: 0px 1px 2px rgba(60, 64, 67, 0.3), 0px 1px 3px 1px rgba(60, 64, 67, 0.15);\n",
              "      fill: #174EA6;\n",
              "    }\n",
              "\n",
              "    [theme=dark] .colab-df-convert {\n",
              "      background-color: #3B4455;\n",
              "      fill: #D2E3FC;\n",
              "    }\n",
              "\n",
              "    [theme=dark] .colab-df-convert:hover {\n",
              "      background-color: #434B5C;\n",
              "      box-shadow: 0px 1px 3px 1px rgba(0, 0, 0, 0.15);\n",
              "      filter: drop-shadow(0px 1px 2px rgba(0, 0, 0, 0.3));\n",
              "      fill: #FFFFFF;\n",
              "    }\n",
              "  </style>\n",
              "\n",
              "      <script>\n",
              "        const buttonEl =\n",
              "          document.querySelector('#df-744f7a03-5829-4268-9761-16911398ee6b button.colab-df-convert');\n",
              "        buttonEl.style.display =\n",
              "          google.colab.kernel.accessAllowed ? 'block' : 'none';\n",
              "\n",
              "        async function convertToInteractive(key) {\n",
              "          const element = document.querySelector('#df-744f7a03-5829-4268-9761-16911398ee6b');\n",
              "          const dataTable =\n",
              "            await google.colab.kernel.invokeFunction('convertToInteractive',\n",
              "                                                     [key], {});\n",
              "          if (!dataTable) return;\n",
              "\n",
              "          const docLinkHtml = 'Like what you see? Visit the ' +\n",
              "            '<a target=\"_blank\" href=https://colab.research.google.com/notebooks/data_table.ipynb>data table notebook</a>'\n",
              "            + ' to learn more about interactive tables.';\n",
              "          element.innerHTML = '';\n",
              "          dataTable['output_type'] = 'display_data';\n",
              "          await google.colab.output.renderOutput(dataTable, element);\n",
              "          const docLink = document.createElement('div');\n",
              "          docLink.innerHTML = docLinkHtml;\n",
              "          element.appendChild(docLink);\n",
              "        }\n",
              "      </script>\n",
              "    </div>\n",
              "  </div>\n"
            ]
          },
          "metadata": {},
          "execution_count": 35
        }
      ],
      "source": [
        "data_b = pd.read_csv(\"sample_b.csv\")\n",
        "data_b.sample(2)"
      ]
    },
    {
      "cell_type": "code",
      "execution_count": 31,
      "id": "93cd26c3",
      "metadata": {
        "id": "93cd26c3",
        "outputId": "2d2d275f-f1ed-44bd-e61b-35105dd9de3e",
        "colab": {
          "base_uri": "https://localhost:8080/"
        }
      },
      "outputs": [
        {
          "output_type": "stream",
          "name": "stdout",
          "text": [
            "<class 'pandas.core.frame.DataFrame'>\n",
            "RangeIndex: 1198438 entries, 0 to 1198437\n",
            "Data columns (total 3 columns):\n",
            " #   Column     Non-Null Count    Dtype\n",
            "---  ------     --------------    -----\n",
            " 0   user_id    1198438 non-null  int64\n",
            " 1   item_id    1198438 non-null  int64\n",
            " 2   action_id  1198438 non-null  int64\n",
            "dtypes: int64(3)\n",
            "memory usage: 27.4 MB\n"
          ]
        }
      ],
      "source": [
        "data_b.info()"
      ]
    },
    {
      "cell_type": "markdown",
      "id": "67621b37",
      "metadata": {
        "id": "67621b37"
      },
      "source": [
        "Видно, что структура данных у данного датасета точно такая же, что и у предыдущего."
      ]
    },
    {
      "cell_type": "code",
      "execution_count": 36,
      "id": "cc7ed0a7",
      "metadata": {
        "id": "cc7ed0a7",
        "outputId": "f359d820-4bf8-48d4-b7be-ffa38f86ab56",
        "colab": {
          "base_uri": "https://localhost:8080/"
        }
      },
      "outputs": [
        {
          "output_type": "execute_result",
          "data": {
            "text/plain": [
              "1198438"
            ]
          },
          "metadata": {},
          "execution_count": 36
        }
      ],
      "source": [
        "data_b.drop_duplicates(inplace=True)\n",
        "data_b.shape[0]"
      ]
    },
    {
      "cell_type": "markdown",
      "id": "c4a2bef9",
      "metadata": {
        "id": "c4a2bef9"
      },
      "source": [
        "Полных дубликатов данных - нет."
      ]
    },
    {
      "cell_type": "code",
      "execution_count": 37,
      "id": "8f3c6da7",
      "metadata": {
        "id": "8f3c6da7",
        "outputId": "061bd1ae-e8bb-4ece-8606-fa19b834f21b",
        "colab": {
          "base_uri": "https://localhost:8080/",
          "height": 143
        }
      },
      "outputs": [
        {
          "output_type": "execute_result",
          "data": {
            "text/plain": [
              "                 viewing  click  purchase  item_sum\n",
              "user_id item_id                                    \n",
              "164572  7961           1      0         0       0.0\n",
              "191854  5891           1      1         0       0.0"
            ],
            "text/html": [
              "\n",
              "\n",
              "  <div id=\"df-e7bf664c-d76d-4edc-bdb7-f32851e067a7\">\n",
              "    <div class=\"colab-df-container\">\n",
              "      <div>\n",
              "<style scoped>\n",
              "    .dataframe tbody tr th:only-of-type {\n",
              "        vertical-align: middle;\n",
              "    }\n",
              "\n",
              "    .dataframe tbody tr th {\n",
              "        vertical-align: top;\n",
              "    }\n",
              "\n",
              "    .dataframe thead th {\n",
              "        text-align: right;\n",
              "    }\n",
              "</style>\n",
              "<table border=\"1\" class=\"dataframe\">\n",
              "  <thead>\n",
              "    <tr style=\"text-align: right;\">\n",
              "      <th></th>\n",
              "      <th></th>\n",
              "      <th>viewing</th>\n",
              "      <th>click</th>\n",
              "      <th>purchase</th>\n",
              "      <th>item_sum</th>\n",
              "    </tr>\n",
              "    <tr>\n",
              "      <th>user_id</th>\n",
              "      <th>item_id</th>\n",
              "      <th></th>\n",
              "      <th></th>\n",
              "      <th></th>\n",
              "      <th></th>\n",
              "    </tr>\n",
              "  </thead>\n",
              "  <tbody>\n",
              "    <tr>\n",
              "      <th>164572</th>\n",
              "      <th>7961</th>\n",
              "      <td>1</td>\n",
              "      <td>0</td>\n",
              "      <td>0</td>\n",
              "      <td>0.0</td>\n",
              "    </tr>\n",
              "    <tr>\n",
              "      <th>191854</th>\n",
              "      <th>5891</th>\n",
              "      <td>1</td>\n",
              "      <td>1</td>\n",
              "      <td>0</td>\n",
              "      <td>0.0</td>\n",
              "    </tr>\n",
              "  </tbody>\n",
              "</table>\n",
              "</div>\n",
              "      <button class=\"colab-df-convert\" onclick=\"convertToInteractive('df-e7bf664c-d76d-4edc-bdb7-f32851e067a7')\"\n",
              "              title=\"Convert this dataframe to an interactive table.\"\n",
              "              style=\"display:none;\">\n",
              "\n",
              "  <svg xmlns=\"http://www.w3.org/2000/svg\" height=\"24px\"viewBox=\"0 0 24 24\"\n",
              "       width=\"24px\">\n",
              "    <path d=\"M0 0h24v24H0V0z\" fill=\"none\"/>\n",
              "    <path d=\"M18.56 5.44l.94 2.06.94-2.06 2.06-.94-2.06-.94-.94-2.06-.94 2.06-2.06.94zm-11 1L8.5 8.5l.94-2.06 2.06-.94-2.06-.94L8.5 2.5l-.94 2.06-2.06.94zm10 10l.94 2.06.94-2.06 2.06-.94-2.06-.94-.94-2.06-.94 2.06-2.06.94z\"/><path d=\"M17.41 7.96l-1.37-1.37c-.4-.4-.92-.59-1.43-.59-.52 0-1.04.2-1.43.59L10.3 9.45l-7.72 7.72c-.78.78-.78 2.05 0 2.83L4 21.41c.39.39.9.59 1.41.59.51 0 1.02-.2 1.41-.59l7.78-7.78 2.81-2.81c.8-.78.8-2.07 0-2.86zM5.41 20L4 18.59l7.72-7.72 1.47 1.35L5.41 20z\"/>\n",
              "  </svg>\n",
              "      </button>\n",
              "\n",
              "\n",
              "\n",
              "    <div id=\"df-f3473c71-fa24-4a76-8ca0-94c8e1997163\">\n",
              "      <button class=\"colab-df-quickchart\" onclick=\"quickchart('df-f3473c71-fa24-4a76-8ca0-94c8e1997163')\"\n",
              "              title=\"Suggest charts.\"\n",
              "              style=\"display:none;\">\n",
              "\n",
              "<svg xmlns=\"http://www.w3.org/2000/svg\" height=\"24px\"viewBox=\"0 0 24 24\"\n",
              "     width=\"24px\">\n",
              "    <g>\n",
              "        <path d=\"M19 3H5c-1.1 0-2 .9-2 2v14c0 1.1.9 2 2 2h14c1.1 0 2-.9 2-2V5c0-1.1-.9-2-2-2zM9 17H7v-7h2v7zm4 0h-2V7h2v10zm4 0h-2v-4h2v4z\"/>\n",
              "    </g>\n",
              "</svg>\n",
              "      </button>\n",
              "    </div>\n",
              "\n",
              "<style>\n",
              "  .colab-df-quickchart {\n",
              "    background-color: #E8F0FE;\n",
              "    border: none;\n",
              "    border-radius: 50%;\n",
              "    cursor: pointer;\n",
              "    display: none;\n",
              "    fill: #1967D2;\n",
              "    height: 32px;\n",
              "    padding: 0 0 0 0;\n",
              "    width: 32px;\n",
              "  }\n",
              "\n",
              "  .colab-df-quickchart:hover {\n",
              "    background-color: #E2EBFA;\n",
              "    box-shadow: 0px 1px 2px rgba(60, 64, 67, 0.3), 0px 1px 3px 1px rgba(60, 64, 67, 0.15);\n",
              "    fill: #174EA6;\n",
              "  }\n",
              "\n",
              "  [theme=dark] .colab-df-quickchart {\n",
              "    background-color: #3B4455;\n",
              "    fill: #D2E3FC;\n",
              "  }\n",
              "\n",
              "  [theme=dark] .colab-df-quickchart:hover {\n",
              "    background-color: #434B5C;\n",
              "    box-shadow: 0px 1px 3px 1px rgba(0, 0, 0, 0.15);\n",
              "    filter: drop-shadow(0px 1px 2px rgba(0, 0, 0, 0.3));\n",
              "    fill: #FFFFFF;\n",
              "  }\n",
              "</style>\n",
              "\n",
              "    <script>\n",
              "      async function quickchart(key) {\n",
              "        const containerElement = document.querySelector('#' + key);\n",
              "        const charts = await google.colab.kernel.invokeFunction(\n",
              "            'suggestCharts', [key], {});\n",
              "      }\n",
              "    </script>\n",
              "\n",
              "      <script>\n",
              "\n",
              "function displayQuickchartButton(domScope) {\n",
              "  let quickchartButtonEl =\n",
              "    domScope.querySelector('#df-f3473c71-fa24-4a76-8ca0-94c8e1997163 button.colab-df-quickchart');\n",
              "  quickchartButtonEl.style.display =\n",
              "    google.colab.kernel.accessAllowed ? 'block' : 'none';\n",
              "}\n",
              "\n",
              "        displayQuickchartButton(document);\n",
              "      </script>\n",
              "      <style>\n",
              "    .colab-df-container {\n",
              "      display:flex;\n",
              "      flex-wrap:wrap;\n",
              "      gap: 12px;\n",
              "    }\n",
              "\n",
              "    .colab-df-convert {\n",
              "      background-color: #E8F0FE;\n",
              "      border: none;\n",
              "      border-radius: 50%;\n",
              "      cursor: pointer;\n",
              "      display: none;\n",
              "      fill: #1967D2;\n",
              "      height: 32px;\n",
              "      padding: 0 0 0 0;\n",
              "      width: 32px;\n",
              "    }\n",
              "\n",
              "    .colab-df-convert:hover {\n",
              "      background-color: #E2EBFA;\n",
              "      box-shadow: 0px 1px 2px rgba(60, 64, 67, 0.3), 0px 1px 3px 1px rgba(60, 64, 67, 0.15);\n",
              "      fill: #174EA6;\n",
              "    }\n",
              "\n",
              "    [theme=dark] .colab-df-convert {\n",
              "      background-color: #3B4455;\n",
              "      fill: #D2E3FC;\n",
              "    }\n",
              "\n",
              "    [theme=dark] .colab-df-convert:hover {\n",
              "      background-color: #434B5C;\n",
              "      box-shadow: 0px 1px 3px 1px rgba(0, 0, 0, 0.15);\n",
              "      filter: drop-shadow(0px 1px 2px rgba(0, 0, 0, 0.3));\n",
              "      fill: #FFFFFF;\n",
              "    }\n",
              "  </style>\n",
              "\n",
              "      <script>\n",
              "        const buttonEl =\n",
              "          document.querySelector('#df-e7bf664c-d76d-4edc-bdb7-f32851e067a7 button.colab-df-convert');\n",
              "        buttonEl.style.display =\n",
              "          google.colab.kernel.accessAllowed ? 'block' : 'none';\n",
              "\n",
              "        async function convertToInteractive(key) {\n",
              "          const element = document.querySelector('#df-e7bf664c-d76d-4edc-bdb7-f32851e067a7');\n",
              "          const dataTable =\n",
              "            await google.colab.kernel.invokeFunction('convertToInteractive',\n",
              "                                                     [key], {});\n",
              "          if (!dataTable) return;\n",
              "\n",
              "          const docLinkHtml = 'Like what you see? Visit the ' +\n",
              "            '<a target=\"_blank\" href=https://colab.research.google.com/notebooks/data_table.ipynb>data table notebook</a>'\n",
              "            + ' to learn more about interactive tables.';\n",
              "          element.innerHTML = '';\n",
              "          dataTable['output_type'] = 'display_data';\n",
              "          await google.colab.output.renderOutput(dataTable, element);\n",
              "          const docLink = document.createElement('div');\n",
              "          docLink.innerHTML = docLinkHtml;\n",
              "          element.appendChild(docLink);\n",
              "        }\n",
              "      </script>\n",
              "    </div>\n",
              "  </div>\n"
            ]
          },
          "metadata": {},
          "execution_count": 37
        }
      ],
      "source": [
        "# Преобразуем типы действий в отдельные признаки\n",
        "data_b['viewing'] = data_b['action_id'].apply(lambda x: 1 if x==1 else 0)\n",
        "data_b['click'] = data_b['action_id'].apply(lambda x: 1 if x==0 else 0)\n",
        "data_b['purchase'] = data_b['action_id'].apply(lambda x: 1 if x==2 else 0)\n",
        "# Удалим старый признак с дествиями пользоватеелй\n",
        "data_b.drop(columns='action_id', axis=1, inplace=True)\n",
        "# Соединим данные датасета с данными справочника цен товаров\n",
        "data_b = data_b.join(data, on='item_id', how='left')\n",
        "# Расстичтаем итоговые суммы покупок\n",
        "data_b['item_sum'] = data_b['purchase'] * data_b['item_price']\n",
        "# Признак цены удаляем, т.к. далее будут использоваться суммы по товарам\n",
        "data_b.drop(columns='item_price', axis=1, inplace=True)\n",
        "# Свернем данные по пользователю и товару, суммируя остальные признаки\n",
        "data_b = data_b.groupby(by=['user_id','item_id']).sum()\n",
        "data_b.sample(2)"
      ]
    },
    {
      "cell_type": "markdown",
      "id": "07732612",
      "metadata": {
        "id": "07732612"
      },
      "source": [
        "Как и прошлый раз, количество строк уменьшилось. Проводим проверку наличия предварительных просмотров товаров перед каждой зафиксированной операцией:"
      ]
    },
    {
      "cell_type": "code",
      "execution_count": 38,
      "id": "ef25890c",
      "metadata": {
        "id": "ef25890c",
        "outputId": "f14fd8a5-2248-436b-dbba-44d6dfd8ce22",
        "colab": {
          "base_uri": "https://localhost:8080/"
        }
      },
      "outputs": [
        {
          "output_type": "execute_result",
          "data": {
            "text/plain": [
              "1    951141\n",
              "Name: viewing, dtype: int64"
            ]
          },
          "metadata": {},
          "execution_count": 38
        }
      ],
      "source": [
        "data_b['viewing'].value_counts()"
      ]
    },
    {
      "cell_type": "markdown",
      "id": "76577eaf",
      "metadata": {
        "id": "76577eaf"
      },
      "source": [
        "Число строк датасета совпало с количеством значений просмотров, т.е. все операции имеют перед собой операцию просмотра.\n",
        "\n",
        "Проведем визуальный анализ распределений исследуемых признаков в этом датасете."
      ]
    },
    {
      "cell_type": "code",
      "execution_count": 39,
      "id": "b6ce4de6",
      "metadata": {
        "id": "b6ce4de6",
        "outputId": "ee343e0e-abc4-4367-b46c-f00c28eac7b7",
        "colab": {
          "base_uri": "https://localhost:8080/",
          "height": 521
        }
      },
      "outputs": [
        {
          "output_type": "execute_result",
          "data": {
            "text/plain": [
              "array([[<Axes: title={'center': 'viewing'}>,\n",
              "        <Axes: title={'center': 'click'}>],\n",
              "       [<Axes: title={'center': 'purchase'}>,\n",
              "        <Axes: title={'center': 'item_sum'}>]], dtype=object)"
            ]
          },
          "metadata": {},
          "execution_count": 39
        },
        {
          "output_type": "display_data",
          "data": {
            "text/plain": [
              "<Figure size 640x480 with 4 Axes>"
            ],
            "image/png": "[encoded data removed]"
          },
          "metadata": {}
        }
      ],
      "source": [
        "data_b.hist(bins=5)"
      ]
    },
    {
      "cell_type": "markdown",
      "id": "d74e2421",
      "metadata": {
        "id": "d74e2421"
      },
      "source": [
        "Выводы, сделанные для датасета *simple_a* вполне применимы и для данного датасета, но также можно сделать ряд дополнительных выводов, основанных на сравнении соответствующих графиков обоих датасетов.\n",
        "\n",
        "1. Размеры выборок групп *А* и *В* примерно одинаковы.\n",
        "2. В признаке *click* наблюдается уменьшение количества значений равных *1*, что говорит о том, что пользователи в *В-группе* начали меньше кликать по товару.\n",
        "3. В признаке *purchase* произошло увеличение количества значений равных *1*, что говорит о большем количестве реальных продаж в данной выборке.\n",
        "4. Так же, по признаку *item_sum* видно увеличение сумм продаж, причем, возможно, лучше стали продаваться более дорогие товары."
      ]
    },
    {
      "cell_type": "markdown",
      "id": "f1af2000",
      "metadata": {
        "id": "f1af2000"
      },
      "source": [
        "**Произведем расчет метрик**, по рассматриваемому датасету и отправим их в итоговый датафрейм для сравнения."
      ]
    },
    {
      "cell_type": "code",
      "execution_count": 40,
      "id": "b6bb0e0e",
      "metadata": {
        "id": "b6bb0e0e"
      },
      "outputs": [],
      "source": [
        "# ctr - В-группа\n",
        "ctr = data_b['click'].sum()/data_b['viewing'].sum()"
      ]
    },
    {
      "cell_type": "code",
      "execution_count": 41,
      "id": "ed7ae610",
      "metadata": {
        "id": "ed7ae610"
      },
      "outputs": [],
      "source": [
        "# purchase rate - B-группа\n",
        "purchase_rate = data_b['purchase'].sum()/data_b['viewing'].sum()"
      ]
    },
    {
      "cell_type": "code",
      "execution_count": 42,
      "id": "046e816b",
      "metadata": {
        "id": "046e816b"
      },
      "outputs": [],
      "source": [
        "# gmv - B-группа\n",
        "gvm = data_b['item_sum'].sum()"
      ]
    },
    {
      "cell_type": "code",
      "execution_count": 43,
      "id": "afed8c27",
      "metadata": {
        "id": "afed8c27",
        "outputId": "266fc141-bedd-4ae0-d106-0a3f0da849fc",
        "colab": {
          "base_uri": "https://localhost:8080/",
          "height": 112
        }
      },
      "outputs": [
        {
          "output_type": "execute_result",
          "data": {
            "text/plain": [
              "  sample    size   ctr  purchase rate           gmv\n",
              "0      A  951130  0.20       0.049999  5.087209e+07\n",
              "1      B  951141  0.16       0.100000  1.016682e+08"
            ],
            "text/html": [
              "\n",
              "\n",
              "  <div id=\"df-ebbc40c2-cfdd-4845-939f-1e13efafea87\">\n",
              "    <div class=\"colab-df-container\">\n",
              "      <div>\n",
              "<style scoped>\n",
              "    .dataframe tbody tr th:only-of-type {\n",
              "        vertical-align: middle;\n",
              "    }\n",
              "\n",
              "    .dataframe tbody tr th {\n",
              "        vertical-align: top;\n",
              "    }\n",
              "\n",
              "    .dataframe thead th {\n",
              "        text-align: right;\n",
              "    }\n",
              "</style>\n",
              "<table border=\"1\" class=\"dataframe\">\n",
              "  <thead>\n",
              "    <tr style=\"text-align: right;\">\n",
              "      <th></th>\n",
              "      <th>sample</th>\n",
              "      <th>size</th>\n",
              "      <th>ctr</th>\n",
              "      <th>purchase rate</th>\n",
              "      <th>gmv</th>\n",
              "    </tr>\n",
              "  </thead>\n",
              "  <tbody>\n",
              "    <tr>\n",
              "      <th>0</th>\n",
              "      <td>A</td>\n",
              "      <td>951130</td>\n",
              "      <td>0.20</td>\n",
              "      <td>0.049999</td>\n",
              "      <td>5.087209e+07</td>\n",
              "    </tr>\n",
              "    <tr>\n",
              "      <th>1</th>\n",
              "      <td>B</td>\n",
              "      <td>951141</td>\n",
              "      <td>0.16</td>\n",
              "      <td>0.100000</td>\n",
              "      <td>1.016682e+08</td>\n",
              "    </tr>\n",
              "  </tbody>\n",
              "</table>\n",
              "</div>\n",
              "      <button class=\"colab-df-convert\" onclick=\"convertToInteractive('df-ebbc40c2-cfdd-4845-939f-1e13efafea87')\"\n",
              "              title=\"Convert this dataframe to an interactive table.\"\n",
              "              style=\"display:none;\">\n",
              "\n",
              "  <svg xmlns=\"http://www.w3.org/2000/svg\" height=\"24px\"viewBox=\"0 0 24 24\"\n",
              "       width=\"24px\">\n",
              "    <path d=\"M0 0h24v24H0V0z\" fill=\"none\"/>\n",
              "    <path d=\"M18.56 5.44l.94 2.06.94-2.06 2.06-.94-2.06-.94-.94-2.06-.94 2.06-2.06.94zm-11 1L8.5 8.5l.94-2.06 2.06-.94-2.06-.94L8.5 2.5l-.94 2.06-2.06.94zm10 10l.94 2.06.94-2.06 2.06-.94-2.06-.94-.94-2.06-.94 2.06-2.06.94z\"/><path d=\"M17.41 7.96l-1.37-1.37c-.4-.4-.92-.59-1.43-.59-.52 0-1.04.2-1.43.59L10.3 9.45l-7.72 7.72c-.78.78-.78 2.05 0 2.83L4 21.41c.39.39.9.59 1.41.59.51 0 1.02-.2 1.41-.59l7.78-7.78 2.81-2.81c.8-.78.8-2.07 0-2.86zM5.41 20L4 18.59l7.72-7.72 1.47 1.35L5.41 20z\"/>\n",
              "  </svg>\n",
              "      </button>\n",
              "\n",
              "\n",
              "\n",
              "    <div id=\"df-145ba2a3-5996-4a33-8a71-dfea3e937cf1\">\n",
              "      <button class=\"colab-df-quickchart\" onclick=\"quickchart('df-145ba2a3-5996-4a33-8a71-dfea3e937cf1')\"\n",
              "              title=\"Suggest charts.\"\n",
              "              style=\"display:none;\">\n",
              "\n",
              "<svg xmlns=\"http://www.w3.org/2000/svg\" height=\"24px\"viewBox=\"0 0 24 24\"\n",
              "     width=\"24px\">\n",
              "    <g>\n",
              "        <path d=\"M19 3H5c-1.1 0-2 .9-2 2v14c0 1.1.9 2 2 2h14c1.1 0 2-.9 2-2V5c0-1.1-.9-2-2-2zM9 17H7v-7h2v7zm4 0h-2V7h2v10zm4 0h-2v-4h2v4z\"/>\n",
              "    </g>\n",
              "</svg>\n",
              "      </button>\n",
              "    </div>\n",
              "\n",
              "<style>\n",
              "  .colab-df-quickchart {\n",
              "    background-color: #E8F0FE;\n",
              "    border: none;\n",
              "    border-radius: 50%;\n",
              "    cursor: pointer;\n",
              "    display: none;\n",
              "    fill: #1967D2;\n",
              "    height: 32px;\n",
              "    padding: 0 0 0 0;\n",
              "    width: 32px;\n",
              "  }\n",
              "\n",
              "  .colab-df-quickchart:hover {\n",
              "    background-color: #E2EBFA;\n",
              "    box-shadow: 0px 1px 2px rgba(60, 64, 67, 0.3), 0px 1px 3px 1px rgba(60, 64, 67, 0.15);\n",
              "    fill: #174EA6;\n",
              "  }\n",
              "\n",
              "  [theme=dark] .colab-df-quickchart {\n",
              "    background-color: #3B4455;\n",
              "    fill: #D2E3FC;\n",
              "  }\n",
              "\n",
              "  [theme=dark] .colab-df-quickchart:hover {\n",
              "    background-color: #434B5C;\n",
              "    box-shadow: 0px 1px 3px 1px rgba(0, 0, 0, 0.15);\n",
              "    filter: drop-shadow(0px 1px 2px rgba(0, 0, 0, 0.3));\n",
              "    fill: #FFFFFF;\n",
              "  }\n",
              "</style>\n",
              "\n",
              "    <script>\n",
              "      async function quickchart(key) {\n",
              "        const containerElement = document.querySelector('#' + key);\n",
              "        const charts = await google.colab.kernel.invokeFunction(\n",
              "            'suggestCharts', [key], {});\n",
              "      }\n",
              "    </script>\n",
              "\n",
              "      <script>\n",
              "\n",
              "function displayQuickchartButton(domScope) {\n",
              "  let quickchartButtonEl =\n",
              "    domScope.querySelector('#df-145ba2a3-5996-4a33-8a71-dfea3e937cf1 button.colab-df-quickchart');\n",
              "  quickchartButtonEl.style.display =\n",
              "    google.colab.kernel.accessAllowed ? 'block' : 'none';\n",
              "}\n",
              "\n",
              "        displayQuickchartButton(document);\n",
              "      </script>\n",
              "      <style>\n",
              "    .colab-df-container {\n",
              "      display:flex;\n",
              "      flex-wrap:wrap;\n",
              "      gap: 12px;\n",
              "    }\n",
              "\n",
              "    .colab-df-convert {\n",
              "      background-color: #E8F0FE;\n",
              "      border: none;\n",
              "      border-radius: 50%;\n",
              "      cursor: pointer;\n",
              "      display: none;\n",
              "      fill: #1967D2;\n",
              "      height: 32px;\n",
              "      padding: 0 0 0 0;\n",
              "      width: 32px;\n",
              "    }\n",
              "\n",
              "    .colab-df-convert:hover {\n",
              "      background-color: #E2EBFA;\n",
              "      box-shadow: 0px 1px 2px rgba(60, 64, 67, 0.3), 0px 1px 3px 1px rgba(60, 64, 67, 0.15);\n",
              "      fill: #174EA6;\n",
              "    }\n",
              "\n",
              "    [theme=dark] .colab-df-convert {\n",
              "      background-color: #3B4455;\n",
              "      fill: #D2E3FC;\n",
              "    }\n",
              "\n",
              "    [theme=dark] .colab-df-convert:hover {\n",
              "      background-color: #434B5C;\n",
              "      box-shadow: 0px 1px 3px 1px rgba(0, 0, 0, 0.15);\n",
              "      filter: drop-shadow(0px 1px 2px rgba(0, 0, 0, 0.3));\n",
              "      fill: #FFFFFF;\n",
              "    }\n",
              "  </style>\n",
              "\n",
              "      <script>\n",
              "        const buttonEl =\n",
              "          document.querySelector('#df-ebbc40c2-cfdd-4845-939f-1e13efafea87 button.colab-df-convert');\n",
              "        buttonEl.style.display =\n",
              "          google.colab.kernel.accessAllowed ? 'block' : 'none';\n",
              "\n",
              "        async function convertToInteractive(key) {\n",
              "          const element = document.querySelector('#df-ebbc40c2-cfdd-4845-939f-1e13efafea87');\n",
              "          const dataTable =\n",
              "            await google.colab.kernel.invokeFunction('convertToInteractive',\n",
              "                                                     [key], {});\n",
              "          if (!dataTable) return;\n",
              "\n",
              "          const docLinkHtml = 'Like what you see? Visit the ' +\n",
              "            '<a target=\"_blank\" href=https://colab.research.google.com/notebooks/data_table.ipynb>data table notebook</a>'\n",
              "            + ' to learn more about interactive tables.';\n",
              "          element.innerHTML = '';\n",
              "          dataTable['output_type'] = 'display_data';\n",
              "          await google.colab.output.renderOutput(dataTable, element);\n",
              "          const docLink = document.createElement('div');\n",
              "          docLink.innerHTML = docLinkHtml;\n",
              "          element.appendChild(docLink);\n",
              "        }\n",
              "      </script>\n",
              "    </div>\n",
              "  </div>\n"
            ]
          },
          "metadata": {},
          "execution_count": 43
        }
      ],
      "source": [
        "row = pd.DataFrame({'sample':['B'], 'size':[len(data_b)], 'ctr':[ctr], 'purchase rate':[purchase_rate], 'gmv':[gvm]})\n",
        "df_result = pd.concat([df_result, row], ignore_index=True)\n",
        "df_result"
      ]
    },
    {
      "cell_type": "markdown",
      "id": "3c345430",
      "metadata": {
        "id": "3c345430"
      },
      "source": [
        "Сравнительный анализ метрик дает те же выводы, что и рассмотренный ранее визуальный анализ:\n",
        "\n",
        "1. *ctr* - упал на 20%, пользователи стали меньше кликать по товару;\n",
        "2. *purchase rate* - вырос в 2 раза, не смотря на снижение кликов пользователей.\n",
        "3. *gmv* - вырос в 2 раза, что связано с увеличением числа продаж и, возможно, продажей более дорогих товаров."
      ]
    },
    {
      "cell_type": "markdown",
      "id": "0f1f9eb5",
      "metadata": {
        "id": "0f1f9eb5"
      },
      "source": [
        "**1.4. Анализ и обработка датасета *simple_c***"
      ]
    },
    {
      "cell_type": "markdown",
      "id": "aeb2f775",
      "metadata": {
        "id": "aeb2f775"
      },
      "source": [
        "Обработаем датасет *simple_c* аналогично рассмотренным выше датасетам *simple_a* и *simple_b*."
      ]
    },
    {
      "cell_type": "code",
      "source": [
        "!unzip -q sample_c.zip"
      ],
      "metadata": {
        "id": "lyiUoWuOGKRT"
      },
      "id": "lyiUoWuOGKRT",
      "execution_count": 44,
      "outputs": []
    },
    {
      "cell_type": "code",
      "execution_count": 49,
      "id": "e96741cf",
      "metadata": {
        "id": "e96741cf",
        "outputId": "d6c6a305-e028-4088-e9c5-f5529e089285",
        "colab": {
          "base_uri": "https://localhost:8080/",
          "height": 112
        }
      },
      "outputs": [
        {
          "output_type": "execute_result",
          "data": {
            "text/plain": [
              "        user_id  item_id  action_id\n",
              "921091   269174     6181          1\n",
              "491414   252195     7696          1"
            ],
            "text/html": [
              "\n",
              "\n",
              "  <div id=\"df-d13a1b4c-543a-453e-895e-b22e521f2388\">\n",
              "    <div class=\"colab-df-container\">\n",
              "      <div>\n",
              "<style scoped>\n",
              "    .dataframe tbody tr th:only-of-type {\n",
              "        vertical-align: middle;\n",
              "    }\n",
              "\n",
              "    .dataframe tbody tr th {\n",
              "        vertical-align: top;\n",
              "    }\n",
              "\n",
              "    .dataframe thead th {\n",
              "        text-align: right;\n",
              "    }\n",
              "</style>\n",
              "<table border=\"1\" class=\"dataframe\">\n",
              "  <thead>\n",
              "    <tr style=\"text-align: right;\">\n",
              "      <th></th>\n",
              "      <th>user_id</th>\n",
              "      <th>item_id</th>\n",
              "      <th>action_id</th>\n",
              "    </tr>\n",
              "  </thead>\n",
              "  <tbody>\n",
              "    <tr>\n",
              "      <th>921091</th>\n",
              "      <td>269174</td>\n",
              "      <td>6181</td>\n",
              "      <td>1</td>\n",
              "    </tr>\n",
              "    <tr>\n",
              "      <th>491414</th>\n",
              "      <td>252195</td>\n",
              "      <td>7696</td>\n",
              "      <td>1</td>\n",
              "    </tr>\n",
              "  </tbody>\n",
              "</table>\n",
              "</div>\n",
              "      <button class=\"colab-df-convert\" onclick=\"convertToInteractive('df-d13a1b4c-543a-453e-895e-b22e521f2388')\"\n",
              "              title=\"Convert this dataframe to an interactive table.\"\n",
              "              style=\"display:none;\">\n",
              "\n",
              "  <svg xmlns=\"http://www.w3.org/2000/svg\" height=\"24px\"viewBox=\"0 0 24 24\"\n",
              "       width=\"24px\">\n",
              "    <path d=\"M0 0h24v24H0V0z\" fill=\"none\"/>\n",
              "    <path d=\"M18.56 5.44l.94 2.06.94-2.06 2.06-.94-2.06-.94-.94-2.06-.94 2.06-2.06.94zm-11 1L8.5 8.5l.94-2.06 2.06-.94-2.06-.94L8.5 2.5l-.94 2.06-2.06.94zm10 10l.94 2.06.94-2.06 2.06-.94-2.06-.94-.94-2.06-.94 2.06-2.06.94z\"/><path d=\"M17.41 7.96l-1.37-1.37c-.4-.4-.92-.59-1.43-.59-.52 0-1.04.2-1.43.59L10.3 9.45l-7.72 7.72c-.78.78-.78 2.05 0 2.83L4 21.41c.39.39.9.59 1.41.59.51 0 1.02-.2 1.41-.59l7.78-7.78 2.81-2.81c.8-.78.8-2.07 0-2.86zM5.41 20L4 18.59l7.72-7.72 1.47 1.35L5.41 20z\"/>\n",
              "  </svg>\n",
              "      </button>\n",
              "\n",
              "\n",
              "\n",
              "    <div id=\"df-4f6feb64-f68b-4660-b264-47807812ccb5\">\n",
              "      <button class=\"colab-df-quickchart\" onclick=\"quickchart('df-4f6feb64-f68b-4660-b264-47807812ccb5')\"\n",
              "              title=\"Suggest charts.\"\n",
              "              style=\"display:none;\">\n",
              "\n",
              "<svg xmlns=\"http://www.w3.org/2000/svg\" height=\"24px\"viewBox=\"0 0 24 24\"\n",
              "     width=\"24px\">\n",
              "    <g>\n",
              "        <path d=\"M19 3H5c-1.1 0-2 .9-2 2v14c0 1.1.9 2 2 2h14c1.1 0 2-.9 2-2V5c0-1.1-.9-2-2-2zM9 17H7v-7h2v7zm4 0h-2V7h2v10zm4 0h-2v-4h2v4z\"/>\n",
              "    </g>\n",
              "</svg>\n",
              "      </button>\n",
              "    </div>\n",
              "\n",
              "<style>\n",
              "  .colab-df-quickchart {\n",
              "    background-color: #E8F0FE;\n",
              "    border: none;\n",
              "    border-radius: 50%;\n",
              "    cursor: pointer;\n",
              "    display: none;\n",
              "    fill: #1967D2;\n",
              "    height: 32px;\n",
              "    padding: 0 0 0 0;\n",
              "    width: 32px;\n",
              "  }\n",
              "\n",
              "  .colab-df-quickchart:hover {\n",
              "    background-color: #E2EBFA;\n",
              "    box-shadow: 0px 1px 2px rgba(60, 64, 67, 0.3), 0px 1px 3px 1px rgba(60, 64, 67, 0.15);\n",
              "    fill: #174EA6;\n",
              "  }\n",
              "\n",
              "  [theme=dark] .colab-df-quickchart {\n",
              "    background-color: #3B4455;\n",
              "    fill: #D2E3FC;\n",
              "  }\n",
              "\n",
              "  [theme=dark] .colab-df-quickchart:hover {\n",
              "    background-color: #434B5C;\n",
              "    box-shadow: 0px 1px 3px 1px rgba(0, 0, 0, 0.15);\n",
              "    filter: drop-shadow(0px 1px 2px rgba(0, 0, 0, 0.3));\n",
              "    fill: #FFFFFF;\n",
              "  }\n",
              "</style>\n",
              "\n",
              "    <script>\n",
              "      async function quickchart(key) {\n",
              "        const containerElement = document.querySelector('#' + key);\n",
              "        const charts = await google.colab.kernel.invokeFunction(\n",
              "            'suggestCharts', [key], {});\n",
              "      }\n",
              "    </script>\n",
              "\n",
              "      <script>\n",
              "\n",
              "function displayQuickchartButton(domScope) {\n",
              "  let quickchartButtonEl =\n",
              "    domScope.querySelector('#df-4f6feb64-f68b-4660-b264-47807812ccb5 button.colab-df-quickchart');\n",
              "  quickchartButtonEl.style.display =\n",
              "    google.colab.kernel.accessAllowed ? 'block' : 'none';\n",
              "}\n",
              "\n",
              "        displayQuickchartButton(document);\n",
              "      </script>\n",
              "      <style>\n",
              "    .colab-df-container {\n",
              "      display:flex;\n",
              "      flex-wrap:wrap;\n",
              "      gap: 12px;\n",
              "    }\n",
              "\n",
              "    .colab-df-convert {\n",
              "      background-color: #E8F0FE;\n",
              "      border: none;\n",
              "      border-radius: 50%;\n",
              "      cursor: pointer;\n",
              "      display: none;\n",
              "      fill: #1967D2;\n",
              "      height: 32px;\n",
              "      padding: 0 0 0 0;\n",
              "      width: 32px;\n",
              "    }\n",
              "\n",
              "    .colab-df-convert:hover {\n",
              "      background-color: #E2EBFA;\n",
              "      box-shadow: 0px 1px 2px rgba(60, 64, 67, 0.3), 0px 1px 3px 1px rgba(60, 64, 67, 0.15);\n",
              "      fill: #174EA6;\n",
              "    }\n",
              "\n",
              "    [theme=dark] .colab-df-convert {\n",
              "      background-color: #3B4455;\n",
              "      fill: #D2E3FC;\n",
              "    }\n",
              "\n",
              "    [theme=dark] .colab-df-convert:hover {\n",
              "      background-color: #434B5C;\n",
              "      box-shadow: 0px 1px 3px 1px rgba(0, 0, 0, 0.15);\n",
              "      filter: drop-shadow(0px 1px 2px rgba(0, 0, 0, 0.3));\n",
              "      fill: #FFFFFF;\n",
              "    }\n",
              "  </style>\n",
              "\n",
              "      <script>\n",
              "        const buttonEl =\n",
              "          document.querySelector('#df-d13a1b4c-543a-453e-895e-b22e521f2388 button.colab-df-convert');\n",
              "        buttonEl.style.display =\n",
              "          google.colab.kernel.accessAllowed ? 'block' : 'none';\n",
              "\n",
              "        async function convertToInteractive(key) {\n",
              "          const element = document.querySelector('#df-d13a1b4c-543a-453e-895e-b22e521f2388');\n",
              "          const dataTable =\n",
              "            await google.colab.kernel.invokeFunction('convertToInteractive',\n",
              "                                                     [key], {});\n",
              "          if (!dataTable) return;\n",
              "\n",
              "          const docLinkHtml = 'Like what you see? Visit the ' +\n",
              "            '<a target=\"_blank\" href=https://colab.research.google.com/notebooks/data_table.ipynb>data table notebook</a>'\n",
              "            + ' to learn more about interactive tables.';\n",
              "          element.innerHTML = '';\n",
              "          dataTable['output_type'] = 'display_data';\n",
              "          await google.colab.output.renderOutput(dataTable, element);\n",
              "          const docLink = document.createElement('div');\n",
              "          docLink.innerHTML = docLinkHtml;\n",
              "          element.appendChild(docLink);\n",
              "        }\n",
              "      </script>\n",
              "    </div>\n",
              "  </div>\n"
            ]
          },
          "metadata": {},
          "execution_count": 49
        }
      ],
      "source": [
        "data_c = pd.read_csv(\"sample_c.csv\")\n",
        "data_c.sample(2)"
      ]
    },
    {
      "cell_type": "code",
      "execution_count": 46,
      "id": "ec21edae",
      "metadata": {
        "id": "ec21edae",
        "outputId": "268b86b1-a72f-4393-ff7d-fedd7e7c9dc7",
        "colab": {
          "base_uri": "https://localhost:8080/"
        }
      },
      "outputs": [
        {
          "output_type": "stream",
          "name": "stdout",
          "text": [
            "<class 'pandas.core.frame.DataFrame'>\n",
            "RangeIndex: 1205510 entries, 0 to 1205509\n",
            "Data columns (total 3 columns):\n",
            " #   Column     Non-Null Count    Dtype\n",
            "---  ------     --------------    -----\n",
            " 0   user_id    1205510 non-null  int64\n",
            " 1   item_id    1205510 non-null  int64\n",
            " 2   action_id  1205510 non-null  int64\n",
            "dtypes: int64(3)\n",
            "memory usage: 27.6 MB\n"
          ]
        }
      ],
      "source": [
        "data_c.info()"
      ]
    },
    {
      "cell_type": "markdown",
      "id": "51b9d82a",
      "metadata": {
        "id": "51b9d82a"
      },
      "source": [
        "Структура данных у данного датасета аналогична двум предыдущим рассмотренным (*simple_a* и *simple_b*)."
      ]
    },
    {
      "cell_type": "code",
      "execution_count": 50,
      "id": "862baf9d",
      "metadata": {
        "id": "862baf9d",
        "outputId": "ed126184-5793-4b30-ca6a-0cc3565b6485",
        "colab": {
          "base_uri": "https://localhost:8080/"
        }
      },
      "outputs": [
        {
          "output_type": "execute_result",
          "data": {
            "text/plain": [
              "1205510"
            ]
          },
          "metadata": {},
          "execution_count": 50
        }
      ],
      "source": [
        "data_c.drop_duplicates(inplace=True)\n",
        "data_c.shape[0]"
      ]
    },
    {
      "cell_type": "markdown",
      "id": "e2236bbc",
      "metadata": {
        "id": "e2236bbc"
      },
      "source": [
        "После удаления дубликатов, количество строк не изменилось, что означает, что полных дубликатов строк в данных нет."
      ]
    },
    {
      "cell_type": "code",
      "execution_count": 51,
      "id": "ba5788d5",
      "metadata": {
        "id": "ba5788d5",
        "outputId": "32f91ab6-59ec-477a-81f7-939d8f86d6bc",
        "colab": {
          "base_uri": "https://localhost:8080/",
          "height": 143
        }
      },
      "outputs": [
        {
          "output_type": "execute_result",
          "data": {
            "text/plain": [
              "                 viewing  click  purchase  item_sum\n",
              "user_id item_id                                    \n",
              "205208  6494           1      0         0       0.0\n",
              "214522  1664           1      0         0       0.0"
            ],
            "text/html": [
              "\n",
              "\n",
              "  <div id=\"df-ffadd5fe-dbba-4b38-b5b2-fa196d9729bb\">\n",
              "    <div class=\"colab-df-container\">\n",
              "      <div>\n",
              "<style scoped>\n",
              "    .dataframe tbody tr th:only-of-type {\n",
              "        vertical-align: middle;\n",
              "    }\n",
              "\n",
              "    .dataframe tbody tr th {\n",
              "        vertical-align: top;\n",
              "    }\n",
              "\n",
              "    .dataframe thead th {\n",
              "        text-align: right;\n",
              "    }\n",
              "</style>\n",
              "<table border=\"1\" class=\"dataframe\">\n",
              "  <thead>\n",
              "    <tr style=\"text-align: right;\">\n",
              "      <th></th>\n",
              "      <th></th>\n",
              "      <th>viewing</th>\n",
              "      <th>click</th>\n",
              "      <th>purchase</th>\n",
              "      <th>item_sum</th>\n",
              "    </tr>\n",
              "    <tr>\n",
              "      <th>user_id</th>\n",
              "      <th>item_id</th>\n",
              "      <th></th>\n",
              "      <th></th>\n",
              "      <th></th>\n",
              "      <th></th>\n",
              "    </tr>\n",
              "  </thead>\n",
              "  <tbody>\n",
              "    <tr>\n",
              "      <th>205208</th>\n",
              "      <th>6494</th>\n",
              "      <td>1</td>\n",
              "      <td>0</td>\n",
              "      <td>0</td>\n",
              "      <td>0.0</td>\n",
              "    </tr>\n",
              "    <tr>\n",
              "      <th>214522</th>\n",
              "      <th>1664</th>\n",
              "      <td>1</td>\n",
              "      <td>0</td>\n",
              "      <td>0</td>\n",
              "      <td>0.0</td>\n",
              "    </tr>\n",
              "  </tbody>\n",
              "</table>\n",
              "</div>\n",
              "      <button class=\"colab-df-convert\" onclick=\"convertToInteractive('df-ffadd5fe-dbba-4b38-b5b2-fa196d9729bb')\"\n",
              "              title=\"Convert this dataframe to an interactive table.\"\n",
              "              style=\"display:none;\">\n",
              "\n",
              "  <svg xmlns=\"http://www.w3.org/2000/svg\" height=\"24px\"viewBox=\"0 0 24 24\"\n",
              "       width=\"24px\">\n",
              "    <path d=\"M0 0h24v24H0V0z\" fill=\"none\"/>\n",
              "    <path d=\"M18.56 5.44l.94 2.06.94-2.06 2.06-.94-2.06-.94-.94-2.06-.94 2.06-2.06.94zm-11 1L8.5 8.5l.94-2.06 2.06-.94-2.06-.94L8.5 2.5l-.94 2.06-2.06.94zm10 10l.94 2.06.94-2.06 2.06-.94-2.06-.94-.94-2.06-.94 2.06-2.06.94z\"/><path d=\"M17.41 7.96l-1.37-1.37c-.4-.4-.92-.59-1.43-.59-.52 0-1.04.2-1.43.59L10.3 9.45l-7.72 7.72c-.78.78-.78 2.05 0 2.83L4 21.41c.39.39.9.59 1.41.59.51 0 1.02-.2 1.41-.59l7.78-7.78 2.81-2.81c.8-.78.8-2.07 0-2.86zM5.41 20L4 18.59l7.72-7.72 1.47 1.35L5.41 20z\"/>\n",
              "  </svg>\n",
              "      </button>\n",
              "\n",
              "\n",
              "\n",
              "    <div id=\"df-36672045-1890-49c5-8449-01251029157d\">\n",
              "      <button class=\"colab-df-quickchart\" onclick=\"quickchart('df-36672045-1890-49c5-8449-01251029157d')\"\n",
              "              title=\"Suggest charts.\"\n",
              "              style=\"display:none;\">\n",
              "\n",
              "<svg xmlns=\"http://www.w3.org/2000/svg\" height=\"24px\"viewBox=\"0 0 24 24\"\n",
              "     width=\"24px\">\n",
              "    <g>\n",
              "        <path d=\"M19 3H5c-1.1 0-2 .9-2 2v14c0 1.1.9 2 2 2h14c1.1 0 2-.9 2-2V5c0-1.1-.9-2-2-2zM9 17H7v-7h2v7zm4 0h-2V7h2v10zm4 0h-2v-4h2v4z\"/>\n",
              "    </g>\n",
              "</svg>\n",
              "      </button>\n",
              "    </div>\n",
              "\n",
              "<style>\n",
              "  .colab-df-quickchart {\n",
              "    background-color: #E8F0FE;\n",
              "    border: none;\n",
              "    border-radius: 50%;\n",
              "    cursor: pointer;\n",
              "    display: none;\n",
              "    fill: #1967D2;\n",
              "    height: 32px;\n",
              "    padding: 0 0 0 0;\n",
              "    width: 32px;\n",
              "  }\n",
              "\n",
              "  .colab-df-quickchart:hover {\n",
              "    background-color: #E2EBFA;\n",
              "    box-shadow: 0px 1px 2px rgba(60, 64, 67, 0.3), 0px 1px 3px 1px rgba(60, 64, 67, 0.15);\n",
              "    fill: #174EA6;\n",
              "  }\n",
              "\n",
              "  [theme=dark] .colab-df-quickchart {\n",
              "    background-color: #3B4455;\n",
              "    fill: #D2E3FC;\n",
              "  }\n",
              "\n",
              "  [theme=dark] .colab-df-quickchart:hover {\n",
              "    background-color: #434B5C;\n",
              "    box-shadow: 0px 1px 3px 1px rgba(0, 0, 0, 0.15);\n",
              "    filter: drop-shadow(0px 1px 2px rgba(0, 0, 0, 0.3));\n",
              "    fill: #FFFFFF;\n",
              "  }\n",
              "</style>\n",
              "\n",
              "    <script>\n",
              "      async function quickchart(key) {\n",
              "        const containerElement = document.querySelector('#' + key);\n",
              "        const charts = await google.colab.kernel.invokeFunction(\n",
              "            'suggestCharts', [key], {});\n",
              "      }\n",
              "    </script>\n",
              "\n",
              "      <script>\n",
              "\n",
              "function displayQuickchartButton(domScope) {\n",
              "  let quickchartButtonEl =\n",
              "    domScope.querySelector('#df-36672045-1890-49c5-8449-01251029157d button.colab-df-quickchart');\n",
              "  quickchartButtonEl.style.display =\n",
              "    google.colab.kernel.accessAllowed ? 'block' : 'none';\n",
              "}\n",
              "\n",
              "        displayQuickchartButton(document);\n",
              "      </script>\n",
              "      <style>\n",
              "    .colab-df-container {\n",
              "      display:flex;\n",
              "      flex-wrap:wrap;\n",
              "      gap: 12px;\n",
              "    }\n",
              "\n",
              "    .colab-df-convert {\n",
              "      background-color: #E8F0FE;\n",
              "      border: none;\n",
              "      border-radius: 50%;\n",
              "      cursor: pointer;\n",
              "      display: none;\n",
              "      fill: #1967D2;\n",
              "      height: 32px;\n",
              "      padding: 0 0 0 0;\n",
              "      width: 32px;\n",
              "    }\n",
              "\n",
              "    .colab-df-convert:hover {\n",
              "      background-color: #E2EBFA;\n",
              "      box-shadow: 0px 1px 2px rgba(60, 64, 67, 0.3), 0px 1px 3px 1px rgba(60, 64, 67, 0.15);\n",
              "      fill: #174EA6;\n",
              "    }\n",
              "\n",
              "    [theme=dark] .colab-df-convert {\n",
              "      background-color: #3B4455;\n",
              "      fill: #D2E3FC;\n",
              "    }\n",
              "\n",
              "    [theme=dark] .colab-df-convert:hover {\n",
              "      background-color: #434B5C;\n",
              "      box-shadow: 0px 1px 3px 1px rgba(0, 0, 0, 0.15);\n",
              "      filter: drop-shadow(0px 1px 2px rgba(0, 0, 0, 0.3));\n",
              "      fill: #FFFFFF;\n",
              "    }\n",
              "  </style>\n",
              "\n",
              "      <script>\n",
              "        const buttonEl =\n",
              "          document.querySelector('#df-ffadd5fe-dbba-4b38-b5b2-fa196d9729bb button.colab-df-convert');\n",
              "        buttonEl.style.display =\n",
              "          google.colab.kernel.accessAllowed ? 'block' : 'none';\n",
              "\n",
              "        async function convertToInteractive(key) {\n",
              "          const element = document.querySelector('#df-ffadd5fe-dbba-4b38-b5b2-fa196d9729bb');\n",
              "          const dataTable =\n",
              "            await google.colab.kernel.invokeFunction('convertToInteractive',\n",
              "                                                     [key], {});\n",
              "          if (!dataTable) return;\n",
              "\n",
              "          const docLinkHtml = 'Like what you see? Visit the ' +\n",
              "            '<a target=\"_blank\" href=https://colab.research.google.com/notebooks/data_table.ipynb>data table notebook</a>'\n",
              "            + ' to learn more about interactive tables.';\n",
              "          element.innerHTML = '';\n",
              "          dataTable['output_type'] = 'display_data';\n",
              "          await google.colab.output.renderOutput(dataTable, element);\n",
              "          const docLink = document.createElement('div');\n",
              "          docLink.innerHTML = docLinkHtml;\n",
              "          element.appendChild(docLink);\n",
              "        }\n",
              "      </script>\n",
              "    </div>\n",
              "  </div>\n"
            ]
          },
          "metadata": {},
          "execution_count": 51
        }
      ],
      "source": [
        "# Преобразуем типы действий в отдельные признаки\n",
        "data_c['viewing'] = data_c['action_id'].apply(lambda x: 1 if x==1 else 0)\n",
        "data_c['click'] = data_c['action_id'].apply(lambda x: 1 if x==0 else 0)\n",
        "data_c['purchase'] = data_c['action_id'].apply(lambda x: 1 if x==2 else 0)\n",
        "# Удалим старый признак с дествиями пользоватеелй\n",
        "data_c.drop(columns='action_id', axis=1, inplace=True)\n",
        "# Соединим данные датасета с данными справочника цен товаров\n",
        "data_c = data_c.join(data, on='item_id', how='left')\n",
        "# Расстичтаем итоговые суммы покупок\n",
        "data_c['item_sum'] = data_c['purchase'] * data_c['item_price']\n",
        "# Признак цены удаляем, т.к. далее будут использоваться суммы по товарам\n",
        "data_c.drop(columns='item_price', axis=1, inplace=True)\n",
        "# Свернем данные по пользователю и товару, суммируя остальные признаки\n",
        "data_c = data_c.groupby(by=['user_id','item_id']).sum()\n",
        "data_c.sample(2)"
      ]
    },
    {
      "cell_type": "markdown",
      "id": "cfa4f84a",
      "metadata": {
        "id": "cfa4f84a"
      },
      "source": [
        "Количество строк уменьшилось, но осталось соизмеримым с размером выборок *А* и *В* групп. Проверим наличие предварительных просмотров товаров перед каждой зафиксированной операцией:"
      ]
    },
    {
      "cell_type": "code",
      "execution_count": 52,
      "id": "eb9b02a4",
      "metadata": {
        "id": "eb9b02a4",
        "outputId": "7cc7af89-06ff-4d90-e24f-4f9ba86dd6bb",
        "colab": {
          "base_uri": "https://localhost:8080/"
        }
      },
      "outputs": [
        {
          "output_type": "execute_result",
          "data": {
            "text/plain": [
              "1    949221\n",
              "Name: viewing, dtype: int64"
            ]
          },
          "metadata": {},
          "execution_count": 52
        }
      ],
      "source": [
        "data_c['viewing'].value_counts()"
      ]
    },
    {
      "cell_type": "markdown",
      "id": "8f785a23",
      "metadata": {
        "id": "8f785a23"
      },
      "source": [
        "Значение равное *1* присутствует во всех строках датасета, т.е. условие наличия предварительного просмотра товаров выполняется.\n",
        "\n",
        "Проведем визуальный анализ распределений исследуемых признаков в этом датасете."
      ]
    },
    {
      "cell_type": "code",
      "execution_count": 53,
      "id": "2435048b",
      "metadata": {
        "id": "2435048b",
        "outputId": "eb7edfc0-e853-4f15-ed14-17b2f5301d1a",
        "colab": {
          "base_uri": "https://localhost:8080/",
          "height": 521
        }
      },
      "outputs": [
        {
          "output_type": "execute_result",
          "data": {
            "text/plain": [
              "array([[<Axes: title={'center': 'viewing'}>,\n",
              "        <Axes: title={'center': 'click'}>],\n",
              "       [<Axes: title={'center': 'purchase'}>,\n",
              "        <Axes: title={'center': 'item_sum'}>]], dtype=object)"
            ]
          },
          "metadata": {},
          "execution_count": 53
        },
        {
          "output_type": "display_data",
          "data": {
            "text/plain": [
              "<Figure size 640x480 with 4 Axes>"
            ],
            "image/png": "[encoded data removed]"
          },
          "metadata": {}
        }
      ],
      "source": [
        "data_c.hist(bins=5)"
      ]
    },
    {
      "cell_type": "markdown",
      "id": "f2c80fee",
      "metadata": {
        "id": "f2c80fee"
      },
      "source": [
        "Т.к. эта выборка (*С-группа*) сразу же была заявлена, как альтернативная *А-группа*, ее результаты по всем признакам визуально близки к графикам *А-группы*, рассмотренной в п.1.2. Выводы для *А-группы* также верны и для *С-группы*."
      ]
    },
    {
      "cell_type": "markdown",
      "id": "83597d02",
      "metadata": {
        "id": "83597d02"
      },
      "source": [
        "**Произведем расчет метрик**, по рассматриваемому датасету и отправим их в итоговый датафрейм для сравнения."
      ]
    },
    {
      "cell_type": "code",
      "execution_count": 54,
      "id": "80b29850",
      "metadata": {
        "id": "80b29850"
      },
      "outputs": [],
      "source": [
        "# ctr - C-группа\n",
        "ctr = data_c['click'].sum()/data_c['viewing'].sum()"
      ]
    },
    {
      "cell_type": "code",
      "execution_count": 55,
      "id": "5e2f44f7",
      "metadata": {
        "id": "5e2f44f7"
      },
      "outputs": [],
      "source": [
        "# purchase rate - C-группа\n",
        "purchase_rate = data_c['purchase'].sum()/data_c['viewing'].sum()"
      ]
    },
    {
      "cell_type": "code",
      "execution_count": 56,
      "id": "bb1aae38",
      "metadata": {
        "id": "bb1aae38"
      },
      "outputs": [],
      "source": [
        "# gmv - C-группа\n",
        "gvm = data_c['item_sum'].sum()"
      ]
    },
    {
      "cell_type": "code",
      "execution_count": 57,
      "id": "12809e5a",
      "metadata": {
        "id": "12809e5a",
        "outputId": "84429dd6-3c2c-403b-a22c-4575036cea8b",
        "colab": {
          "base_uri": "https://localhost:8080/",
          "height": 143
        }
      },
      "outputs": [
        {
          "output_type": "execute_result",
          "data": {
            "text/plain": [
              "  sample    size   ctr  purchase rate           gmv\n",
              "0      A  951130  0.20       0.049999  5.087209e+07\n",
              "1      B  951141  0.16       0.100000  1.016682e+08\n",
              "2      C  949221  0.21       0.060000  6.087395e+07"
            ],
            "text/html": [
              "\n",
              "\n",
              "  <div id=\"df-3d3c9db2-2088-4a3a-aafd-246234ad7380\">\n",
              "    <div class=\"colab-df-container\">\n",
              "      <div>\n",
              "<style scoped>\n",
              "    .dataframe tbody tr th:only-of-type {\n",
              "        vertical-align: middle;\n",
              "    }\n",
              "\n",
              "    .dataframe tbody tr th {\n",
              "        vertical-align: top;\n",
              "    }\n",
              "\n",
              "    .dataframe thead th {\n",
              "        text-align: right;\n",
              "    }\n",
              "</style>\n",
              "<table border=\"1\" class=\"dataframe\">\n",
              "  <thead>\n",
              "    <tr style=\"text-align: right;\">\n",
              "      <th></th>\n",
              "      <th>sample</th>\n",
              "      <th>size</th>\n",
              "      <th>ctr</th>\n",
              "      <th>purchase rate</th>\n",
              "      <th>gmv</th>\n",
              "    </tr>\n",
              "  </thead>\n",
              "  <tbody>\n",
              "    <tr>\n",
              "      <th>0</th>\n",
              "      <td>A</td>\n",
              "      <td>951130</td>\n",
              "      <td>0.20</td>\n",
              "      <td>0.049999</td>\n",
              "      <td>5.087209e+07</td>\n",
              "    </tr>\n",
              "    <tr>\n",
              "      <th>1</th>\n",
              "      <td>B</td>\n",
              "      <td>951141</td>\n",
              "      <td>0.16</td>\n",
              "      <td>0.100000</td>\n",
              "      <td>1.016682e+08</td>\n",
              "    </tr>\n",
              "    <tr>\n",
              "      <th>2</th>\n",
              "      <td>C</td>\n",
              "      <td>949221</td>\n",
              "      <td>0.21</td>\n",
              "      <td>0.060000</td>\n",
              "      <td>6.087395e+07</td>\n",
              "    </tr>\n",
              "  </tbody>\n",
              "</table>\n",
              "</div>\n",
              "      <button class=\"colab-df-convert\" onclick=\"convertToInteractive('df-3d3c9db2-2088-4a3a-aafd-246234ad7380')\"\n",
              "              title=\"Convert this dataframe to an interactive table.\"\n",
              "              style=\"display:none;\">\n",
              "\n",
              "  <svg xmlns=\"http://www.w3.org/2000/svg\" height=\"24px\"viewBox=\"0 0 24 24\"\n",
              "       width=\"24px\">\n",
              "    <path d=\"M0 0h24v24H0V0z\" fill=\"none\"/>\n",
              "    <path d=\"M18.56 5.44l.94 2.06.94-2.06 2.06-.94-2.06-.94-.94-2.06-.94 2.06-2.06.94zm-11 1L8.5 8.5l.94-2.06 2.06-.94-2.06-.94L8.5 2.5l-.94 2.06-2.06.94zm10 10l.94 2.06.94-2.06 2.06-.94-2.06-.94-.94-2.06-.94 2.06-2.06.94z\"/><path d=\"M17.41 7.96l-1.37-1.37c-.4-.4-.92-.59-1.43-.59-.52 0-1.04.2-1.43.59L10.3 9.45l-7.72 7.72c-.78.78-.78 2.05 0 2.83L4 21.41c.39.39.9.59 1.41.59.51 0 1.02-.2 1.41-.59l7.78-7.78 2.81-2.81c.8-.78.8-2.07 0-2.86zM5.41 20L4 18.59l7.72-7.72 1.47 1.35L5.41 20z\"/>\n",
              "  </svg>\n",
              "      </button>\n",
              "\n",
              "\n",
              "\n",
              "    <div id=\"df-53b52522-1fc8-4de0-872e-76237ee0ee92\">\n",
              "      <button class=\"colab-df-quickchart\" onclick=\"quickchart('df-53b52522-1fc8-4de0-872e-76237ee0ee92')\"\n",
              "              title=\"Suggest charts.\"\n",
              "              style=\"display:none;\">\n",
              "\n",
              "<svg xmlns=\"http://www.w3.org/2000/svg\" height=\"24px\"viewBox=\"0 0 24 24\"\n",
              "     width=\"24px\">\n",
              "    <g>\n",
              "        <path d=\"M19 3H5c-1.1 0-2 .9-2 2v14c0 1.1.9 2 2 2h14c1.1 0 2-.9 2-2V5c0-1.1-.9-2-2-2zM9 17H7v-7h2v7zm4 0h-2V7h2v10zm4 0h-2v-4h2v4z\"/>\n",
              "    </g>\n",
              "</svg>\n",
              "      </button>\n",
              "    </div>\n",
              "\n",
              "<style>\n",
              "  .colab-df-quickchart {\n",
              "    background-color: #E8F0FE;\n",
              "    border: none;\n",
              "    border-radius: 50%;\n",
              "    cursor: pointer;\n",
              "    display: none;\n",
              "    fill: #1967D2;\n",
              "    height: 32px;\n",
              "    padding: 0 0 0 0;\n",
              "    width: 32px;\n",
              "  }\n",
              "\n",
              "  .colab-df-quickchart:hover {\n",
              "    background-color: #E2EBFA;\n",
              "    box-shadow: 0px 1px 2px rgba(60, 64, 67, 0.3), 0px 1px 3px 1px rgba(60, 64, 67, 0.15);\n",
              "    fill: #174EA6;\n",
              "  }\n",
              "\n",
              "  [theme=dark] .colab-df-quickchart {\n",
              "    background-color: #3B4455;\n",
              "    fill: #D2E3FC;\n",
              "  }\n",
              "\n",
              "  [theme=dark] .colab-df-quickchart:hover {\n",
              "    background-color: #434B5C;\n",
              "    box-shadow: 0px 1px 3px 1px rgba(0, 0, 0, 0.15);\n",
              "    filter: drop-shadow(0px 1px 2px rgba(0, 0, 0, 0.3));\n",
              "    fill: #FFFFFF;\n",
              "  }\n",
              "</style>\n",
              "\n",
              "    <script>\n",
              "      async function quickchart(key) {\n",
              "        const containerElement = document.querySelector('#' + key);\n",
              "        const charts = await google.colab.kernel.invokeFunction(\n",
              "            'suggestCharts', [key], {});\n",
              "      }\n",
              "    </script>\n",
              "\n",
              "      <script>\n",
              "\n",
              "function displayQuickchartButton(domScope) {\n",
              "  let quickchartButtonEl =\n",
              "    domScope.querySelector('#df-53b52522-1fc8-4de0-872e-76237ee0ee92 button.colab-df-quickchart');\n",
              "  quickchartButtonEl.style.display =\n",
              "    google.colab.kernel.accessAllowed ? 'block' : 'none';\n",
              "}\n",
              "\n",
              "        displayQuickchartButton(document);\n",
              "      </script>\n",
              "      <style>\n",
              "    .colab-df-container {\n",
              "      display:flex;\n",
              "      flex-wrap:wrap;\n",
              "      gap: 12px;\n",
              "    }\n",
              "\n",
              "    .colab-df-convert {\n",
              "      background-color: #E8F0FE;\n",
              "      border: none;\n",
              "      border-radius: 50%;\n",
              "      cursor: pointer;\n",
              "      display: none;\n",
              "      fill: #1967D2;\n",
              "      height: 32px;\n",
              "      padding: 0 0 0 0;\n",
              "      width: 32px;\n",
              "    }\n",
              "\n",
              "    .colab-df-convert:hover {\n",
              "      background-color: #E2EBFA;\n",
              "      box-shadow: 0px 1px 2px rgba(60, 64, 67, 0.3), 0px 1px 3px 1px rgba(60, 64, 67, 0.15);\n",
              "      fill: #174EA6;\n",
              "    }\n",
              "\n",
              "    [theme=dark] .colab-df-convert {\n",
              "      background-color: #3B4455;\n",
              "      fill: #D2E3FC;\n",
              "    }\n",
              "\n",
              "    [theme=dark] .colab-df-convert:hover {\n",
              "      background-color: #434B5C;\n",
              "      box-shadow: 0px 1px 3px 1px rgba(0, 0, 0, 0.15);\n",
              "      filter: drop-shadow(0px 1px 2px rgba(0, 0, 0, 0.3));\n",
              "      fill: #FFFFFF;\n",
              "    }\n",
              "  </style>\n",
              "\n",
              "      <script>\n",
              "        const buttonEl =\n",
              "          document.querySelector('#df-3d3c9db2-2088-4a3a-aafd-246234ad7380 button.colab-df-convert');\n",
              "        buttonEl.style.display =\n",
              "          google.colab.kernel.accessAllowed ? 'block' : 'none';\n",
              "\n",
              "        async function convertToInteractive(key) {\n",
              "          const element = document.querySelector('#df-3d3c9db2-2088-4a3a-aafd-246234ad7380');\n",
              "          const dataTable =\n",
              "            await google.colab.kernel.invokeFunction('convertToInteractive',\n",
              "                                                     [key], {});\n",
              "          if (!dataTable) return;\n",
              "\n",
              "          const docLinkHtml = 'Like what you see? Visit the ' +\n",
              "            '<a target=\"_blank\" href=https://colab.research.google.com/notebooks/data_table.ipynb>data table notebook</a>'\n",
              "            + ' to learn more about interactive tables.';\n",
              "          element.innerHTML = '';\n",
              "          dataTable['output_type'] = 'display_data';\n",
              "          await google.colab.output.renderOutput(dataTable, element);\n",
              "          const docLink = document.createElement('div');\n",
              "          docLink.innerHTML = docLinkHtml;\n",
              "          element.appendChild(docLink);\n",
              "        }\n",
              "      </script>\n",
              "    </div>\n",
              "  </div>\n"
            ]
          },
          "metadata": {},
          "execution_count": 57
        }
      ],
      "source": [
        "row = pd.DataFrame({'sample':['C'], 'size':[len(data_c)], 'ctr':[ctr], 'purchase rate':[purchase_rate], 'gmv':[gvm]})\n",
        "df_result = pd.concat([df_result, row], ignore_index=True)\n",
        "df_result"
      ]
    },
    {
      "cell_type": "markdown",
      "id": "c25e7330",
      "metadata": {
        "id": "c25e7330"
      },
      "source": [
        "Сравнивая результаты метрик *С-группы* с образцовой *А-группой* можно отметить следующее:\n",
        "\n",
        "1. Размер выборки *С-группы* незначительно меньше, чем размер *А-группы*.\n",
        "2. Как и в случае визуального анализа, подтверждается что по всем метрикам данная группа близка к *А-группе*.\n",
        "3. В данной выборке все метрики немного больше, чем в *А-группе*.\n",
        "4. При этом значения основных метрик в *С-группе* меньше значений метрик *В-группы*."
      ]
    },
    {
      "cell_type": "markdown",
      "id": "0b0b3f14",
      "metadata": {
        "id": "0b0b3f14"
      },
      "source": [
        "**2. Статистический анализ выборок по группам: А/А и А/В тесты**"
      ]
    },
    {
      "cell_type": "markdown",
      "id": "e86609fc",
      "metadata": {
        "id": "e86609fc"
      },
      "source": [
        "В дополнение к рассчитанным метрикам, для формирования заключения об улучшении работы маркетплейса при использовании алгоритма, задействованного при работе с *В-группой*, необходимо использовать методы статистической проверки гипотез."
      ]
    },
    {
      "cell_type": "markdown",
      "id": "c8d7183c",
      "metadata": {
        "id": "c8d7183c"
      },
      "source": [
        "**2.1. Общие положения**"
      ]
    },
    {
      "cell_type": "markdown",
      "id": "95d1b83d",
      "metadata": {
        "id": "95d1b83d"
      },
      "source": [
        "При выборе статистического критерия для тестирования гипотез необходимо опираться на характеристики данных, которые мы используем. Например, в источнике: [Проверка статистических гипотез](https://agricolamz.github.io/DS_for_DH/%D0%BF%D1%80%D0%BE%D0%B2%D0%B5%D1%80%D0%BA%D0%B0-%D1%81%D1%82%D0%B0%D1%82%D0%B8%D1%81%D1%82%D0%B8%D1%87%D0%B5%D1%81%D0%BA%D0%B8%D1%85-%D0%B3%D0%B8%D0%BF%D0%BE%D1%82%D0%B5%D0%B7.html) предложена следующая классификация тестов:\n",
        "\n",
        "![%D0%9A%D0%BB%D0%B0%D1%81%D1%81%D0%B8%D1%84%D0%B8%D0%BA%D0%B0%D1%86%D0%B8%D1%8F%20%D1%82%D0%B5%D1%81%D1%82%D0%BE%D0%B2.JPG](attachment:%D0%9A%D0%BB%D0%B0%D1%81%D1%81%D0%B8%D1%84%D0%B8%D0%BA%D0%B0%D1%86%D0%B8%D1%8F%20%D1%82%D0%B5%D1%81%D1%82%D0%BE%D0%B2.JPG)\n",
        "\n",
        "Исходя из этой классификации, можно сформулировать, какие параметры исследуемых данных нам следует определить.\n",
        "\n",
        "1. *Распределение в группах*: частично известны из визуализации данных в пп. 1.2 - 1.4. Требует более детального анализа.\n",
        "2. *Количество групп*: в нашем случае - это две группы.\n",
        "3. *Типы групп*: необходимо определить.\n",
        "\n",
        "Из предложенного списка у нас однозначно определено только **количество групп** - ***2 группы***. Остальные параметры требуют более детального рассмотрения.\n",
        "\n",
        "**Оценка распределений в группах.** Для каждой из предложенных по заданию групп необходимо провести статистические тесты по всем признакам датасетов, на которых основываются значащие метрики: *click*, *purchase* и *item_sum*. При визуализации этих признаков в пп. 1.2 - 1.4 было определено следующее:\n",
        "* Первые два признака (*click* и *purchase*) являются бинарными и представляют собой ***категориальные*** переменные с двумя значениями - \"0\" и \"1\".\n",
        "* Признак *item_sum* является количественным признаком с конечными значениями в определенном диапазоне, которые распределяются не по нормальному закону.\n",
        "\n",
        "Последнее утверждение требует проверки на нормальность распределения с использованием теста Шапиро-Уилка. Проведем этот тест для признака *item_sum* на всех трех сэмплах."
      ]
    },
    {
      "cell_type": "code",
      "execution_count": 58,
      "id": "b36521f6",
      "metadata": {
        "id": "b36521f6"
      },
      "outputs": [],
      "source": [
        "# Нулевая и альтернативная гипотезы\n",
        "H0 = 'Распределения item_sum в группе нормальное'\n",
        "H1 = 'Распределение item_sum в группе отлично от нормального'\n",
        "alpha = 0.01 # уровень значимости (по заданию)"
      ]
    },
    {
      "cell_type": "code",
      "execution_count": 59,
      "id": "cdb38a23",
      "metadata": {
        "id": "cdb38a23",
        "outputId": "c33a2dd5-f7f6-427c-a2a3-7ef58a1c5ad2",
        "colab": {
          "base_uri": "https://localhost:8080/"
        }
      },
      "outputs": [
        {
          "output_type": "stream",
          "name": "stdout",
          "text": [
            "Результат теста Шапиро-Уилка для выборки А:\n",
            "p-value группы 0.0\n",
            "Отвергаем нулевую гипотезу. Принимаем альтернативную гипотезу. H1: Распределение item_sum в группе отлично от нормального\n"
          ]
        }
      ],
      "source": [
        "# Вычисляем результат теста Шапиро-Уилка для выборки А\n",
        "shapiro_a = shapiro(data_a['item_sum'])\n",
        "print('Результат теста Шапиро-Уилка для выборки А:')\n",
        "print('p-value группы', round(shapiro_a.pvalue, 2))\n",
        "\n",
        "# Сравниваем полученное p-value с уровнем значимости\n",
        "if shapiro_a.pvalue < alpha:\n",
        "    print(\"Отвергаем нулевую гипотезу. Принимаем альтернативную гипотезу. H1: {}\".format(H1))\n",
        "else:\n",
        "    print(\"Принимаем нулевую гипотезу. {}\".format(H0))"
      ]
    },
    {
      "cell_type": "code",
      "execution_count": 60,
      "id": "2d06802a",
      "metadata": {
        "id": "2d06802a",
        "outputId": "79c6c5a1-5a86-4b6b-8c61-f59b7e09549f",
        "colab": {
          "base_uri": "https://localhost:8080/"
        }
      },
      "outputs": [
        {
          "output_type": "stream",
          "name": "stdout",
          "text": [
            "Результат теста Шапиро-Уилка для выборки B:\n",
            "p-value группы 0.0\n",
            "Отвергаем нулевую гипотезу. Принимаем альтернативную гипотезу. H1: Распределение item_sum в группе отлично от нормального\n"
          ]
        }
      ],
      "source": [
        "# Вычисляем результат теста Шапиро-Уилка для выборки B\n",
        "shapiro_b = shapiro(data_b['item_sum'])\n",
        "print('Результат теста Шапиро-Уилка для выборки B:')\n",
        "print('p-value группы', round(shapiro_a.pvalue, 2))\n",
        "\n",
        "# Сравниваем полученное p-value с уровнем значимости\n",
        "if shapiro_b.pvalue < alpha:\n",
        "    print(\"Отвергаем нулевую гипотезу. Принимаем альтернативную гипотезу. H1: {}\".format(H1))\n",
        "else:\n",
        "    print(\"Принимаем нулевую гипотезу. {}\".format(H0))"
      ]
    },
    {
      "cell_type": "code",
      "execution_count": 61,
      "id": "e9c3cf23",
      "metadata": {
        "id": "e9c3cf23",
        "outputId": "4d89a5c9-f576-45f4-91a8-fac551e30122",
        "colab": {
          "base_uri": "https://localhost:8080/"
        }
      },
      "outputs": [
        {
          "output_type": "stream",
          "name": "stdout",
          "text": [
            "Результат теста Шапиро-Уилка для выборки C:\n",
            "p-value группы 0.0\n",
            "Отвергаем нулевую гипотезу. Принимаем альтернативную гипотезу. H1: Распределение item_sum в группе отлично от нормального\n"
          ]
        }
      ],
      "source": [
        "# Вычисляем результат теста Шапиро-Уилка для выборки C\n",
        "shapiro_c = shapiro(data_c['item_sum'])\n",
        "print('Результат теста Шапиро-Уилка для выборки C:')\n",
        "print('p-value группы', round(shapiro_a.pvalue, 2))\n",
        "\n",
        "# Сравниваем полученное p-value с уровнем значимости\n",
        "if shapiro_c.pvalue < alpha:\n",
        "    print(\"Отвергаем нулевую гипотезу. Принимаем альтернативную гипотезу. H1: {}\".format(H1))\n",
        "else:\n",
        "    print(\"Принимаем нулевую гипотезу. {}\".format(H0))"
      ]
    },
    {
      "cell_type": "markdown",
      "id": "1d9ee585",
      "metadata": {
        "id": "1d9ee585"
      },
      "source": [
        "Тест Шапиро-Уилка подтвердил наше изначальное предположение, что во всех предложенных сэммплах распределение признака *item_sum* ***отлично от нормального***.\n",
        "\n",
        "**Оценка типов групп**. Из предложенных в классификации тестов типов групп сразу можно отбросить вариант \"с заданным значением\", т.к. в каждой группе отдельные записи  принадлежат разным пользователям. Но определение \"зависимые\" или \"нет\" эти группы, нам необходимо проверить. Убедимся, что в различных группах нет присутствия одних и тех же пользователей."
      ]
    },
    {
      "cell_type": "code",
      "execution_count": 62,
      "id": "6ba4a482",
      "metadata": {
        "id": "6ba4a482",
        "outputId": "9178d1f0-2de4-4fff-9175-9c8f0e56b817",
        "colab": {
          "base_uri": "https://localhost:8080/"
        }
      },
      "outputs": [
        {
          "output_type": "execute_result",
          "data": {
            "text/plain": [
              "0"
            ]
          },
          "metadata": {},
          "execution_count": 62
        }
      ],
      "source": [
        "# Тест пересечения А/В-групп\n",
        "group_a = set(data_a.index.get_level_values(0)) # user_id - A\n",
        "group_b = set(data_b.index.get_level_values(0)) # user_id - B\n",
        "user_intersection_ab = group_a.intersection(group_b)\n",
        "len(user_intersection_ab)"
      ]
    },
    {
      "cell_type": "markdown",
      "id": "9da61813",
      "metadata": {
        "id": "9da61813"
      },
      "source": [
        "Нулевое значение пересечения *А* и *В* групп, говорит о том, повторяющихся пользователей в указанных группах нет."
      ]
    },
    {
      "cell_type": "code",
      "execution_count": 63,
      "id": "c419a41e",
      "metadata": {
        "id": "c419a41e",
        "outputId": "2d869529-6736-4d48-8a35-79eb887efbf7",
        "colab": {
          "base_uri": "https://localhost:8080/"
        }
      },
      "outputs": [
        {
          "output_type": "execute_result",
          "data": {
            "text/plain": [
              "0"
            ]
          },
          "metadata": {},
          "execution_count": 63
        }
      ],
      "source": [
        "# Тест пересечения А/C-групп\n",
        "group_a = set(data_a.index.get_level_values(0)) # user_id - A\n",
        "group_c = set(data_c.index.get_level_values(0)) # user_id - C\n",
        "user_intersection_ac = group_a.intersection(group_c)\n",
        "len(user_intersection_ac)"
      ]
    },
    {
      "cell_type": "markdown",
      "id": "19c0c993",
      "metadata": {
        "id": "19c0c993"
      },
      "source": [
        "Как и в прошлой подобной проверке, не обнаружено пользователей одновременно присутствующих как в *А*, так и в *С* группах."
      ]
    },
    {
      "cell_type": "code",
      "execution_count": 64,
      "id": "b2c77c54",
      "metadata": {
        "id": "b2c77c54",
        "outputId": "2bc9c1fb-ceb7-4ada-b1ec-e75dd6ff7978",
        "colab": {
          "base_uri": "https://localhost:8080/"
        }
      },
      "outputs": [
        {
          "output_type": "execute_result",
          "data": {
            "text/plain": [
              "0"
            ]
          },
          "metadata": {},
          "execution_count": 64
        }
      ],
      "source": [
        "# Тест пересечения B/C-групп\n",
        "group_b = set(data_b.index.get_level_values(0)) # user_id - B\n",
        "group_c = set(data_c.index.get_level_values(0)) # user_id - C\n",
        "user_intersection_bc = group_b.intersection(group_c)\n",
        "len(user_intersection_bc)"
      ]
    },
    {
      "cell_type": "markdown",
      "id": "487607b2",
      "metadata": {
        "id": "487607b2"
      },
      "source": [
        "Опять пересечения по пользователям в датасетах не обнаружено. Т.е. все рассмотренные выборки можно считать ***независимыми***.\n",
        "\n",
        "**Итого**, для проверки статистических гипотез в каждой паре датасетов нам потребуется два вида тестов:\n",
        "\n",
        "* Тест для 2-х групп с категориальными независимыми признаками (*click* и *purchase*).\n",
        "* Непараметрический тест для 2-х групп с независимыми признаками (*item_sum*)."
      ]
    },
    {
      "cell_type": "markdown",
      "id": "87a1b6f8",
      "metadata": {
        "id": "87a1b6f8"
      },
      "source": [
        "**2.2. Тест равенства долей для A и C групп**"
      ]
    },
    {
      "cell_type": "markdown",
      "id": "bdef71b3",
      "metadata": {
        "id": "bdef71b3"
      },
      "source": [
        "Для проверки гипотезы равенства пропорций бинарных признаков мы можем воспользоваться *z-критерием* для пропорций. Этот критерий является наиболее популярным для задачи определения статистической значимости изменения конверсии. Его мы будем применять для признаков *click* и *purchase*, соответствующим ключевым метрикам *ctr* и *purchase rate*."
      ]
    },
    {
      "cell_type": "markdown",
      "id": "516fe0a8",
      "metadata": {
        "id": "516fe0a8"
      },
      "source": [
        "Из задания к проекту и из рассчитанных метрик, мы знаем, что *С-группа* представляет собой альтернативную *А-группу*, которая предназначена для проведения А/А-теста. Данный вид теста позволяет максимально корректно оценить необходимый объём выборки для проведения А/В-теста.\n",
        "\n",
        "Воспользуемся функциями из источника [A/B Testing with Binary Data: Two Sample Proportions z-test](https://towardsdatascience.com/a-b-testing-with-binary-data-two-sample-proportions-z-test-5c222d7772ad) для определения минимально необходимого размера выборки:"
      ]
    },
    {
      "cell_type": "code",
      "execution_count": 65,
      "id": "98fcfa5b",
      "metadata": {
        "id": "98fcfa5b"
      },
      "outputs": [],
      "source": [
        "# Функция расчета Z-критерия\n",
        "def z_calc(p1, p2, n1, n2):\n",
        "    p_star = (p1*n1 + p2*n2) / (n1 + n2)\n",
        "    return (p2 - p1) / math.sqrt(p_star*(1 - p_star)*((1.0 / n1) + (1.0 / n2)))\n",
        "\n",
        "# Функция для определения минимально необходимого размера выборки\n",
        "def sample_required(p1, p_diff, alpha):\n",
        "    if p_diff <= 0:  # p_diff = p2-p1\n",
        "        raise ValueError(\"p_diff must be > 0\")\n",
        "    n = 1\n",
        "    while True:\n",
        "        z = z_calc(p1, p1+p_diff, n1=n, n2=n)\n",
        "        p = 1 - stats.norm.cdf(z)\n",
        "        if p < alpha:\n",
        "            break\n",
        "        n += 1\n",
        "    return n"
      ]
    },
    {
      "cell_type": "code",
      "execution_count": 66,
      "id": "2fa122b8",
      "metadata": {
        "id": "2fa122b8",
        "outputId": "9761f880-1491-44a4-f25e-217652f24669",
        "colab": {
          "base_uri": "https://localhost:8080/"
        }
      },
      "outputs": [
        {
          "output_type": "stream",
          "name": "stdout",
          "text": [
            "Минимально необходимый размер выборки по признаку ctr: 8820\n"
          ]
        }
      ],
      "source": [
        "alpha = 0.05 # уровень значимости\n",
        "\n",
        "# Рассчитаем минимально необходимый размер выборки для А/С-теста по признаку 'ctr'\n",
        "p1 = df_result['ctr'][0]\n",
        "p_diff = df_result['ctr'][2] - df_result['ctr'][0]\n",
        "print('Минимально необходимый размер выборки по признаку ctr:', sample_required(p1, p_diff, alpha))"
      ]
    },
    {
      "cell_type": "code",
      "execution_count": 67,
      "id": "8269615c",
      "metadata": {
        "id": "8269615c",
        "outputId": "7486f3ae-c7d9-4039-c3e8-bce58c6a3f4d",
        "colab": {
          "base_uri": "https://localhost:8080/"
        }
      },
      "outputs": [
        {
          "output_type": "stream",
          "name": "stdout",
          "text": [
            "Минимально необходимый размер выборки по признаку purchase rate: 2813\n"
          ]
        }
      ],
      "source": [
        "# Рассчитаем минимально необходимый размер выборки для А/С-теста по признаку 'purchase rate'\n",
        "p1 = df_result['purchase rate'][0]\n",
        "p_diff = df_result['purchase rate'][2]-df_result['purchase rate'][0]\n",
        "print('Минимально необходимый размер выборки по признаку purchase rate:', sample_required(p1, p_diff, alpha))"
      ]
    },
    {
      "cell_type": "code",
      "execution_count": 68,
      "id": "283ac16f",
      "metadata": {
        "id": "283ac16f",
        "outputId": "5861e3c2-89e7-433f-8192-59ca51335ec1",
        "colab": {
          "base_uri": "https://localhost:8080/",
          "height": 143
        }
      },
      "outputs": [
        {
          "output_type": "execute_result",
          "data": {
            "text/plain": [
              "  sample    size   ctr  purchase rate           gmv\n",
              "0      A  951130  0.20       0.049999  5.087209e+07\n",
              "1      B  951141  0.16       0.100000  1.016682e+08\n",
              "2      C  949221  0.21       0.060000  6.087395e+07"
            ],
            "text/html": [
              "\n",
              "\n",
              "  <div id=\"df-d68b26ff-875c-4110-93e4-bcef13138378\">\n",
              "    <div class=\"colab-df-container\">\n",
              "      <div>\n",
              "<style scoped>\n",
              "    .dataframe tbody tr th:only-of-type {\n",
              "        vertical-align: middle;\n",
              "    }\n",
              "\n",
              "    .dataframe tbody tr th {\n",
              "        vertical-align: top;\n",
              "    }\n",
              "\n",
              "    .dataframe thead th {\n",
              "        text-align: right;\n",
              "    }\n",
              "</style>\n",
              "<table border=\"1\" class=\"dataframe\">\n",
              "  <thead>\n",
              "    <tr style=\"text-align: right;\">\n",
              "      <th></th>\n",
              "      <th>sample</th>\n",
              "      <th>size</th>\n",
              "      <th>ctr</th>\n",
              "      <th>purchase rate</th>\n",
              "      <th>gmv</th>\n",
              "    </tr>\n",
              "  </thead>\n",
              "  <tbody>\n",
              "    <tr>\n",
              "      <th>0</th>\n",
              "      <td>A</td>\n",
              "      <td>951130</td>\n",
              "      <td>0.20</td>\n",
              "      <td>0.049999</td>\n",
              "      <td>5.087209e+07</td>\n",
              "    </tr>\n",
              "    <tr>\n",
              "      <th>1</th>\n",
              "      <td>B</td>\n",
              "      <td>951141</td>\n",
              "      <td>0.16</td>\n",
              "      <td>0.100000</td>\n",
              "      <td>1.016682e+08</td>\n",
              "    </tr>\n",
              "    <tr>\n",
              "      <th>2</th>\n",
              "      <td>C</td>\n",
              "      <td>949221</td>\n",
              "      <td>0.21</td>\n",
              "      <td>0.060000</td>\n",
              "      <td>6.087395e+07</td>\n",
              "    </tr>\n",
              "  </tbody>\n",
              "</table>\n",
              "</div>\n",
              "      <button class=\"colab-df-convert\" onclick=\"convertToInteractive('df-d68b26ff-875c-4110-93e4-bcef13138378')\"\n",
              "              title=\"Convert this dataframe to an interactive table.\"\n",
              "              style=\"display:none;\">\n",
              "\n",
              "  <svg xmlns=\"http://www.w3.org/2000/svg\" height=\"24px\"viewBox=\"0 0 24 24\"\n",
              "       width=\"24px\">\n",
              "    <path d=\"M0 0h24v24H0V0z\" fill=\"none\"/>\n",
              "    <path d=\"M18.56 5.44l.94 2.06.94-2.06 2.06-.94-2.06-.94-.94-2.06-.94 2.06-2.06.94zm-11 1L8.5 8.5l.94-2.06 2.06-.94-2.06-.94L8.5 2.5l-.94 2.06-2.06.94zm10 10l.94 2.06.94-2.06 2.06-.94-2.06-.94-.94-2.06-.94 2.06-2.06.94z\"/><path d=\"M17.41 7.96l-1.37-1.37c-.4-.4-.92-.59-1.43-.59-.52 0-1.04.2-1.43.59L10.3 9.45l-7.72 7.72c-.78.78-.78 2.05 0 2.83L4 21.41c.39.39.9.59 1.41.59.51 0 1.02-.2 1.41-.59l7.78-7.78 2.81-2.81c.8-.78.8-2.07 0-2.86zM5.41 20L4 18.59l7.72-7.72 1.47 1.35L5.41 20z\"/>\n",
              "  </svg>\n",
              "      </button>\n",
              "\n",
              "\n",
              "\n",
              "    <div id=\"df-d4967162-2460-4b8d-888b-937a898722df\">\n",
              "      <button class=\"colab-df-quickchart\" onclick=\"quickchart('df-d4967162-2460-4b8d-888b-937a898722df')\"\n",
              "              title=\"Suggest charts.\"\n",
              "              style=\"display:none;\">\n",
              "\n",
              "<svg xmlns=\"http://www.w3.org/2000/svg\" height=\"24px\"viewBox=\"0 0 24 24\"\n",
              "     width=\"24px\">\n",
              "    <g>\n",
              "        <path d=\"M19 3H5c-1.1 0-2 .9-2 2v14c0 1.1.9 2 2 2h14c1.1 0 2-.9 2-2V5c0-1.1-.9-2-2-2zM9 17H7v-7h2v7zm4 0h-2V7h2v10zm4 0h-2v-4h2v4z\"/>\n",
              "    </g>\n",
              "</svg>\n",
              "      </button>\n",
              "    </div>\n",
              "\n",
              "<style>\n",
              "  .colab-df-quickchart {\n",
              "    background-color: #E8F0FE;\n",
              "    border: none;\n",
              "    border-radius: 50%;\n",
              "    cursor: pointer;\n",
              "    display: none;\n",
              "    fill: #1967D2;\n",
              "    height: 32px;\n",
              "    padding: 0 0 0 0;\n",
              "    width: 32px;\n",
              "  }\n",
              "\n",
              "  .colab-df-quickchart:hover {\n",
              "    background-color: #E2EBFA;\n",
              "    box-shadow: 0px 1px 2px rgba(60, 64, 67, 0.3), 0px 1px 3px 1px rgba(60, 64, 67, 0.15);\n",
              "    fill: #174EA6;\n",
              "  }\n",
              "\n",
              "  [theme=dark] .colab-df-quickchart {\n",
              "    background-color: #3B4455;\n",
              "    fill: #D2E3FC;\n",
              "  }\n",
              "\n",
              "  [theme=dark] .colab-df-quickchart:hover {\n",
              "    background-color: #434B5C;\n",
              "    box-shadow: 0px 1px 3px 1px rgba(0, 0, 0, 0.15);\n",
              "    filter: drop-shadow(0px 1px 2px rgba(0, 0, 0, 0.3));\n",
              "    fill: #FFFFFF;\n",
              "  }\n",
              "</style>\n",
              "\n",
              "    <script>\n",
              "      async function quickchart(key) {\n",
              "        const containerElement = document.querySelector('#' + key);\n",
              "        const charts = await google.colab.kernel.invokeFunction(\n",
              "            'suggestCharts', [key], {});\n",
              "      }\n",
              "    </script>\n",
              "\n",
              "      <script>\n",
              "\n",
              "function displayQuickchartButton(domScope) {\n",
              "  let quickchartButtonEl =\n",
              "    domScope.querySelector('#df-d4967162-2460-4b8d-888b-937a898722df button.colab-df-quickchart');\n",
              "  quickchartButtonEl.style.display =\n",
              "    google.colab.kernel.accessAllowed ? 'block' : 'none';\n",
              "}\n",
              "\n",
              "        displayQuickchartButton(document);\n",
              "      </script>\n",
              "      <style>\n",
              "    .colab-df-container {\n",
              "      display:flex;\n",
              "      flex-wrap:wrap;\n",
              "      gap: 12px;\n",
              "    }\n",
              "\n",
              "    .colab-df-convert {\n",
              "      background-color: #E8F0FE;\n",
              "      border: none;\n",
              "      border-radius: 50%;\n",
              "      cursor: pointer;\n",
              "      display: none;\n",
              "      fill: #1967D2;\n",
              "      height: 32px;\n",
              "      padding: 0 0 0 0;\n",
              "      width: 32px;\n",
              "    }\n",
              "\n",
              "    .colab-df-convert:hover {\n",
              "      background-color: #E2EBFA;\n",
              "      box-shadow: 0px 1px 2px rgba(60, 64, 67, 0.3), 0px 1px 3px 1px rgba(60, 64, 67, 0.15);\n",
              "      fill: #174EA6;\n",
              "    }\n",
              "\n",
              "    [theme=dark] .colab-df-convert {\n",
              "      background-color: #3B4455;\n",
              "      fill: #D2E3FC;\n",
              "    }\n",
              "\n",
              "    [theme=dark] .colab-df-convert:hover {\n",
              "      background-color: #434B5C;\n",
              "      box-shadow: 0px 1px 3px 1px rgba(0, 0, 0, 0.15);\n",
              "      filter: drop-shadow(0px 1px 2px rgba(0, 0, 0, 0.3));\n",
              "      fill: #FFFFFF;\n",
              "    }\n",
              "  </style>\n",
              "\n",
              "      <script>\n",
              "        const buttonEl =\n",
              "          document.querySelector('#df-d68b26ff-875c-4110-93e4-bcef13138378 button.colab-df-convert');\n",
              "        buttonEl.style.display =\n",
              "          google.colab.kernel.accessAllowed ? 'block' : 'none';\n",
              "\n",
              "        async function convertToInteractive(key) {\n",
              "          const element = document.querySelector('#df-d68b26ff-875c-4110-93e4-bcef13138378');\n",
              "          const dataTable =\n",
              "            await google.colab.kernel.invokeFunction('convertToInteractive',\n",
              "                                                     [key], {});\n",
              "          if (!dataTable) return;\n",
              "\n",
              "          const docLinkHtml = 'Like what you see? Visit the ' +\n",
              "            '<a target=\"_blank\" href=https://colab.research.google.com/notebooks/data_table.ipynb>data table notebook</a>'\n",
              "            + ' to learn more about interactive tables.';\n",
              "          element.innerHTML = '';\n",
              "          dataTable['output_type'] = 'display_data';\n",
              "          await google.colab.output.renderOutput(dataTable, element);\n",
              "          const docLink = document.createElement('div');\n",
              "          docLink.innerHTML = docLinkHtml;\n",
              "          element.appendChild(docLink);\n",
              "        }\n",
              "      </script>\n",
              "    </div>\n",
              "  </div>\n"
            ]
          },
          "metadata": {},
          "execution_count": 68
        }
      ],
      "source": [
        "# Для вывода вспомним результаты метрик по выборкам\n",
        "df_result"
      ]
    },
    {
      "cell_type": "markdown",
      "id": "f0128075",
      "metadata": {
        "id": "f0128075"
      },
      "source": [
        "Из полученных результатов видно, что минимально необходимый размер выборки для категориальных признаков значительно меньше, чем доступные нам выборки *А/С-теста*. Это хорошо, т.к. обычно, чем больше у вас размер выборки, тем ближе результаты будут к результатам генеральной совокупности и соответственно точнее полученные результаты. Т.е. в дальнейшем будем использовать полные выборки по *А* и *С* группам.\n",
        "\n",
        "Проведем z-тест для пропорций для каждого категориального признака используя библиотеку statsmodels.stats.proportion. Для этого и последующих тестов примем следующий уровень значимости:"
      ]
    },
    {
      "cell_type": "code",
      "execution_count": 69,
      "id": "19c40016",
      "metadata": {
        "id": "19c40016"
      },
      "outputs": [],
      "source": [
        "alpha = 0.05"
      ]
    },
    {
      "cell_type": "markdown",
      "id": "654203df",
      "metadata": {
        "id": "654203df"
      },
      "source": [
        "**2.2.1. Тест по метрике *ctr***\n",
        "\n",
        "Подготовим данные по выборкам для удобства использования в тесте по метрике *ctr*."
      ]
    },
    {
      "cell_type": "code",
      "execution_count": 70,
      "id": "74b43dca",
      "metadata": {
        "id": "74b43dca",
        "outputId": "583ea75e-927c-41df-d981-b5304054020b",
        "colab": {
          "base_uri": "https://localhost:8080/",
          "height": 112
        }
      },
      "outputs": [
        {
          "output_type": "execute_result",
          "data": {
            "text/plain": [
              "  group   click  viewing   ctr\n",
              "0     A  190226   951130  0.20\n",
              "1     C  199336   949221  0.21"
            ],
            "text/html": [
              "\n",
              "\n",
              "  <div id=\"df-da095e8c-5157-4f8f-bcdc-1d9249c4b376\">\n",
              "    <div class=\"colab-df-container\">\n",
              "      <div>\n",
              "<style scoped>\n",
              "    .dataframe tbody tr th:only-of-type {\n",
              "        vertical-align: middle;\n",
              "    }\n",
              "\n",
              "    .dataframe tbody tr th {\n",
              "        vertical-align: top;\n",
              "    }\n",
              "\n",
              "    .dataframe thead th {\n",
              "        text-align: right;\n",
              "    }\n",
              "</style>\n",
              "<table border=\"1\" class=\"dataframe\">\n",
              "  <thead>\n",
              "    <tr style=\"text-align: right;\">\n",
              "      <th></th>\n",
              "      <th>group</th>\n",
              "      <th>click</th>\n",
              "      <th>viewing</th>\n",
              "      <th>ctr</th>\n",
              "    </tr>\n",
              "  </thead>\n",
              "  <tbody>\n",
              "    <tr>\n",
              "      <th>0</th>\n",
              "      <td>A</td>\n",
              "      <td>190226</td>\n",
              "      <td>951130</td>\n",
              "      <td>0.20</td>\n",
              "    </tr>\n",
              "    <tr>\n",
              "      <th>1</th>\n",
              "      <td>C</td>\n",
              "      <td>199336</td>\n",
              "      <td>949221</td>\n",
              "      <td>0.21</td>\n",
              "    </tr>\n",
              "  </tbody>\n",
              "</table>\n",
              "</div>\n",
              "      <button class=\"colab-df-convert\" onclick=\"convertToInteractive('df-da095e8c-5157-4f8f-bcdc-1d9249c4b376')\"\n",
              "              title=\"Convert this dataframe to an interactive table.\"\n",
              "              style=\"display:none;\">\n",
              "\n",
              "  <svg xmlns=\"http://www.w3.org/2000/svg\" height=\"24px\"viewBox=\"0 0 24 24\"\n",
              "       width=\"24px\">\n",
              "    <path d=\"M0 0h24v24H0V0z\" fill=\"none\"/>\n",
              "    <path d=\"M18.56 5.44l.94 2.06.94-2.06 2.06-.94-2.06-.94-.94-2.06-.94 2.06-2.06.94zm-11 1L8.5 8.5l.94-2.06 2.06-.94-2.06-.94L8.5 2.5l-.94 2.06-2.06.94zm10 10l.94 2.06.94-2.06 2.06-.94-2.06-.94-.94-2.06-.94 2.06-2.06.94z\"/><path d=\"M17.41 7.96l-1.37-1.37c-.4-.4-.92-.59-1.43-.59-.52 0-1.04.2-1.43.59L10.3 9.45l-7.72 7.72c-.78.78-.78 2.05 0 2.83L4 21.41c.39.39.9.59 1.41.59.51 0 1.02-.2 1.41-.59l7.78-7.78 2.81-2.81c.8-.78.8-2.07 0-2.86zM5.41 20L4 18.59l7.72-7.72 1.47 1.35L5.41 20z\"/>\n",
              "  </svg>\n",
              "      </button>\n",
              "\n",
              "\n",
              "\n",
              "    <div id=\"df-ca2481fd-945e-4b36-ab8c-18082b6eac0c\">\n",
              "      <button class=\"colab-df-quickchart\" onclick=\"quickchart('df-ca2481fd-945e-4b36-ab8c-18082b6eac0c')\"\n",
              "              title=\"Suggest charts.\"\n",
              "              style=\"display:none;\">\n",
              "\n",
              "<svg xmlns=\"http://www.w3.org/2000/svg\" height=\"24px\"viewBox=\"0 0 24 24\"\n",
              "     width=\"24px\">\n",
              "    <g>\n",
              "        <path d=\"M19 3H5c-1.1 0-2 .9-2 2v14c0 1.1.9 2 2 2h14c1.1 0 2-.9 2-2V5c0-1.1-.9-2-2-2zM9 17H7v-7h2v7zm4 0h-2V7h2v10zm4 0h-2v-4h2v4z\"/>\n",
              "    </g>\n",
              "</svg>\n",
              "      </button>\n",
              "    </div>\n",
              "\n",
              "<style>\n",
              "  .colab-df-quickchart {\n",
              "    background-color: #E8F0FE;\n",
              "    border: none;\n",
              "    border-radius: 50%;\n",
              "    cursor: pointer;\n",
              "    display: none;\n",
              "    fill: #1967D2;\n",
              "    height: 32px;\n",
              "    padding: 0 0 0 0;\n",
              "    width: 32px;\n",
              "  }\n",
              "\n",
              "  .colab-df-quickchart:hover {\n",
              "    background-color: #E2EBFA;\n",
              "    box-shadow: 0px 1px 2px rgba(60, 64, 67, 0.3), 0px 1px 3px 1px rgba(60, 64, 67, 0.15);\n",
              "    fill: #174EA6;\n",
              "  }\n",
              "\n",
              "  [theme=dark] .colab-df-quickchart {\n",
              "    background-color: #3B4455;\n",
              "    fill: #D2E3FC;\n",
              "  }\n",
              "\n",
              "  [theme=dark] .colab-df-quickchart:hover {\n",
              "    background-color: #434B5C;\n",
              "    box-shadow: 0px 1px 3px 1px rgba(0, 0, 0, 0.15);\n",
              "    filter: drop-shadow(0px 1px 2px rgba(0, 0, 0, 0.3));\n",
              "    fill: #FFFFFF;\n",
              "  }\n",
              "</style>\n",
              "\n",
              "    <script>\n",
              "      async function quickchart(key) {\n",
              "        const containerElement = document.querySelector('#' + key);\n",
              "        const charts = await google.colab.kernel.invokeFunction(\n",
              "            'suggestCharts', [key], {});\n",
              "      }\n",
              "    </script>\n",
              "\n",
              "      <script>\n",
              "\n",
              "function displayQuickchartButton(domScope) {\n",
              "  let quickchartButtonEl =\n",
              "    domScope.querySelector('#df-ca2481fd-945e-4b36-ab8c-18082b6eac0c button.colab-df-quickchart');\n",
              "  quickchartButtonEl.style.display =\n",
              "    google.colab.kernel.accessAllowed ? 'block' : 'none';\n",
              "}\n",
              "\n",
              "        displayQuickchartButton(document);\n",
              "      </script>\n",
              "      <style>\n",
              "    .colab-df-container {\n",
              "      display:flex;\n",
              "      flex-wrap:wrap;\n",
              "      gap: 12px;\n",
              "    }\n",
              "\n",
              "    .colab-df-convert {\n",
              "      background-color: #E8F0FE;\n",
              "      border: none;\n",
              "      border-radius: 50%;\n",
              "      cursor: pointer;\n",
              "      display: none;\n",
              "      fill: #1967D2;\n",
              "      height: 32px;\n",
              "      padding: 0 0 0 0;\n",
              "      width: 32px;\n",
              "    }\n",
              "\n",
              "    .colab-df-convert:hover {\n",
              "      background-color: #E2EBFA;\n",
              "      box-shadow: 0px 1px 2px rgba(60, 64, 67, 0.3), 0px 1px 3px 1px rgba(60, 64, 67, 0.15);\n",
              "      fill: #174EA6;\n",
              "    }\n",
              "\n",
              "    [theme=dark] .colab-df-convert {\n",
              "      background-color: #3B4455;\n",
              "      fill: #D2E3FC;\n",
              "    }\n",
              "\n",
              "    [theme=dark] .colab-df-convert:hover {\n",
              "      background-color: #434B5C;\n",
              "      box-shadow: 0px 1px 3px 1px rgba(0, 0, 0, 0.15);\n",
              "      filter: drop-shadow(0px 1px 2px rgba(0, 0, 0, 0.3));\n",
              "      fill: #FFFFFF;\n",
              "    }\n",
              "  </style>\n",
              "\n",
              "      <script>\n",
              "        const buttonEl =\n",
              "          document.querySelector('#df-da095e8c-5157-4f8f-bcdc-1d9249c4b376 button.colab-df-convert');\n",
              "        buttonEl.style.display =\n",
              "          google.colab.kernel.accessAllowed ? 'block' : 'none';\n",
              "\n",
              "        async function convertToInteractive(key) {\n",
              "          const element = document.querySelector('#df-da095e8c-5157-4f8f-bcdc-1d9249c4b376');\n",
              "          const dataTable =\n",
              "            await google.colab.kernel.invokeFunction('convertToInteractive',\n",
              "                                                     [key], {});\n",
              "          if (!dataTable) return;\n",
              "\n",
              "          const docLinkHtml = 'Like what you see? Visit the ' +\n",
              "            '<a target=\"_blank\" href=https://colab.research.google.com/notebooks/data_table.ipynb>data table notebook</a>'\n",
              "            + ' to learn more about interactive tables.';\n",
              "          element.innerHTML = '';\n",
              "          dataTable['output_type'] = 'display_data';\n",
              "          await google.colab.output.renderOutput(dataTable, element);\n",
              "          const docLink = document.createElement('div');\n",
              "          docLink.innerHTML = docLinkHtml;\n",
              "          element.appendChild(docLink);\n",
              "        }\n",
              "      </script>\n",
              "    </div>\n",
              "  </div>\n"
            ]
          },
          "metadata": {},
          "execution_count": 70
        }
      ],
      "source": [
        "row1 = {'group':'A', 'click':[data_a['click'].sum()], 'viewing':[data_a['viewing'].sum()], 'ctr':[df_result['ctr'][0]]}\n",
        "df_ht = pd.DataFrame.from_dict(row1)\n",
        "row2 = pd.DataFrame({'group':'C','click':[data_c['click'].sum()], 'viewing':[data_c['viewing'].sum()], 'ctr':[df_result['ctr'][2]]})\n",
        "df_ht = pd.concat([df_ht, row2], ignore_index=True)\n",
        "df_ht"
      ]
    },
    {
      "cell_type": "markdown",
      "id": "09418b8b",
      "metadata": {
        "id": "09418b8b"
      },
      "source": [
        "Сформулируем нулевую и альтернативные гипотезы для метрики *ctr* и проведем сам тест."
      ]
    },
    {
      "cell_type": "code",
      "execution_count": 71,
      "id": "7457e374",
      "metadata": {
        "id": "7457e374"
      },
      "outputs": [],
      "source": [
        "H0 = 'ctr в группах А и С равны'\n",
        "H1 = 'ctr в группе А меньше, чем ctr в группе С'"
      ]
    },
    {
      "cell_type": "code",
      "execution_count": 72,
      "id": "85a04fc6",
      "metadata": {
        "id": "85a04fc6",
        "outputId": "e9ed914c-2008-4f04-fbb4-4b7e4b9c6587",
        "colab": {
          "base_uri": "https://localhost:8080/"
        }
      },
      "outputs": [
        {
          "output_type": "stream",
          "name": "stdout",
          "text": [
            "p-value:  1.1774710555765216e-65\n",
            "Отвергаем нулевую гипотезу. (ctr в группах А и С равны)\n",
            "Альтернативная гипотеза. H1: ctr в группе А меньше, чем ctr в группе С\n"
          ]
        }
      ],
      "source": [
        "# Вычисляем значение p-value для z-теста для пропорций\n",
        "_, p_value = proportions_ztest(\n",
        "    count=df_ht['click'], #число click'ов\n",
        "    nobs=df_ht['viewing'], #общее число наблюдений\n",
        "    alternative='smaller',\n",
        ")\n",
        "print('p-value: ', p_value)\n",
        "\n",
        "# Cравниваем полученное p-value с уровнем значимости\n",
        "if (p_value < alpha):\n",
        "    print(\"Отвергаем нулевую гипотезу. ({})\".format(H0))\n",
        "    print(\"Альтернативная гипотеза. H1: {}\".format(H1))\n",
        "else:\n",
        "    print(\"Принимаем нулевую гипотезу. {}\".format(H0))"
      ]
    },
    {
      "cell_type": "markdown",
      "id": "fe0ec716",
      "metadata": {
        "id": "fe0ec716"
      },
      "source": [
        "Подтвердили, что *ctr* в *А-группе* меньше чем в *С-группе* и эта разница имеет статистическую значимость.\n",
        "\n",
        "**2.2.2. Тест по метрике *purchase rate***\n",
        "\n",
        "Подготовим данные по выборкам для удобства использования в тесте по метрике *purchase rate*."
      ]
    },
    {
      "cell_type": "code",
      "execution_count": 73,
      "id": "9d367cd3",
      "metadata": {
        "id": "9d367cd3",
        "outputId": "a049129b-9731-4e22-f63b-889257685057",
        "colab": {
          "base_uri": "https://localhost:8080/",
          "height": 112
        }
      },
      "outputs": [
        {
          "output_type": "execute_result",
          "data": {
            "text/plain": [
              "  group  purchase  viewing  purchase rate\n",
              "0     A     47556   951130       0.049999\n",
              "1     C     56953   949221       0.060000"
            ],
            "text/html": [
              "\n",
              "\n",
              "  <div id=\"df-23f8997f-b296-441a-9016-1f568c0b276d\">\n",
              "    <div class=\"colab-df-container\">\n",
              "      <div>\n",
              "<style scoped>\n",
              "    .dataframe tbody tr th:only-of-type {\n",
              "        vertical-align: middle;\n",
              "    }\n",
              "\n",
              "    .dataframe tbody tr th {\n",
              "        vertical-align: top;\n",
              "    }\n",
              "\n",
              "    .dataframe thead th {\n",
              "        text-align: right;\n",
              "    }\n",
              "</style>\n",
              "<table border=\"1\" class=\"dataframe\">\n",
              "  <thead>\n",
              "    <tr style=\"text-align: right;\">\n",
              "      <th></th>\n",
              "      <th>group</th>\n",
              "      <th>purchase</th>\n",
              "      <th>viewing</th>\n",
              "      <th>purchase rate</th>\n",
              "    </tr>\n",
              "  </thead>\n",
              "  <tbody>\n",
              "    <tr>\n",
              "      <th>0</th>\n",
              "      <td>A</td>\n",
              "      <td>47556</td>\n",
              "      <td>951130</td>\n",
              "      <td>0.049999</td>\n",
              "    </tr>\n",
              "    <tr>\n",
              "      <th>1</th>\n",
              "      <td>C</td>\n",
              "      <td>56953</td>\n",
              "      <td>949221</td>\n",
              "      <td>0.060000</td>\n",
              "    </tr>\n",
              "  </tbody>\n",
              "</table>\n",
              "</div>\n",
              "      <button class=\"colab-df-convert\" onclick=\"convertToInteractive('df-23f8997f-b296-441a-9016-1f568c0b276d')\"\n",
              "              title=\"Convert this dataframe to an interactive table.\"\n",
              "              style=\"display:none;\">\n",
              "\n",
              "  <svg xmlns=\"http://www.w3.org/2000/svg\" height=\"24px\"viewBox=\"0 0 24 24\"\n",
              "       width=\"24px\">\n",
              "    <path d=\"M0 0h24v24H0V0z\" fill=\"none\"/>\n",
              "    <path d=\"M18.56 5.44l.94 2.06.94-2.06 2.06-.94-2.06-.94-.94-2.06-.94 2.06-2.06.94zm-11 1L8.5 8.5l.94-2.06 2.06-.94-2.06-.94L8.5 2.5l-.94 2.06-2.06.94zm10 10l.94 2.06.94-2.06 2.06-.94-2.06-.94-.94-2.06-.94 2.06-2.06.94z\"/><path d=\"M17.41 7.96l-1.37-1.37c-.4-.4-.92-.59-1.43-.59-.52 0-1.04.2-1.43.59L10.3 9.45l-7.72 7.72c-.78.78-.78 2.05 0 2.83L4 21.41c.39.39.9.59 1.41.59.51 0 1.02-.2 1.41-.59l7.78-7.78 2.81-2.81c.8-.78.8-2.07 0-2.86zM5.41 20L4 18.59l7.72-7.72 1.47 1.35L5.41 20z\"/>\n",
              "  </svg>\n",
              "      </button>\n",
              "\n",
              "\n",
              "\n",
              "    <div id=\"df-b2c90392-2a1e-4b29-8bf7-c85509fa7649\">\n",
              "      <button class=\"colab-df-quickchart\" onclick=\"quickchart('df-b2c90392-2a1e-4b29-8bf7-c85509fa7649')\"\n",
              "              title=\"Suggest charts.\"\n",
              "              style=\"display:none;\">\n",
              "\n",
              "<svg xmlns=\"http://www.w3.org/2000/svg\" height=\"24px\"viewBox=\"0 0 24 24\"\n",
              "     width=\"24px\">\n",
              "    <g>\n",
              "        <path d=\"M19 3H5c-1.1 0-2 .9-2 2v14c0 1.1.9 2 2 2h14c1.1 0 2-.9 2-2V5c0-1.1-.9-2-2-2zM9 17H7v-7h2v7zm4 0h-2V7h2v10zm4 0h-2v-4h2v4z\"/>\n",
              "    </g>\n",
              "</svg>\n",
              "      </button>\n",
              "    </div>\n",
              "\n",
              "<style>\n",
              "  .colab-df-quickchart {\n",
              "    background-color: #E8F0FE;\n",
              "    border: none;\n",
              "    border-radius: 50%;\n",
              "    cursor: pointer;\n",
              "    display: none;\n",
              "    fill: #1967D2;\n",
              "    height: 32px;\n",
              "    padding: 0 0 0 0;\n",
              "    width: 32px;\n",
              "  }\n",
              "\n",
              "  .colab-df-quickchart:hover {\n",
              "    background-color: #E2EBFA;\n",
              "    box-shadow: 0px 1px 2px rgba(60, 64, 67, 0.3), 0px 1px 3px 1px rgba(60, 64, 67, 0.15);\n",
              "    fill: #174EA6;\n",
              "  }\n",
              "\n",
              "  [theme=dark] .colab-df-quickchart {\n",
              "    background-color: #3B4455;\n",
              "    fill: #D2E3FC;\n",
              "  }\n",
              "\n",
              "  [theme=dark] .colab-df-quickchart:hover {\n",
              "    background-color: #434B5C;\n",
              "    box-shadow: 0px 1px 3px 1px rgba(0, 0, 0, 0.15);\n",
              "    filter: drop-shadow(0px 1px 2px rgba(0, 0, 0, 0.3));\n",
              "    fill: #FFFFFF;\n",
              "  }\n",
              "</style>\n",
              "\n",
              "    <script>\n",
              "      async function quickchart(key) {\n",
              "        const containerElement = document.querySelector('#' + key);\n",
              "        const charts = await google.colab.kernel.invokeFunction(\n",
              "            'suggestCharts', [key], {});\n",
              "      }\n",
              "    </script>\n",
              "\n",
              "      <script>\n",
              "\n",
              "function displayQuickchartButton(domScope) {\n",
              "  let quickchartButtonEl =\n",
              "    domScope.querySelector('#df-b2c90392-2a1e-4b29-8bf7-c85509fa7649 button.colab-df-quickchart');\n",
              "  quickchartButtonEl.style.display =\n",
              "    google.colab.kernel.accessAllowed ? 'block' : 'none';\n",
              "}\n",
              "\n",
              "        displayQuickchartButton(document);\n",
              "      </script>\n",
              "      <style>\n",
              "    .colab-df-container {\n",
              "      display:flex;\n",
              "      flex-wrap:wrap;\n",
              "      gap: 12px;\n",
              "    }\n",
              "\n",
              "    .colab-df-convert {\n",
              "      background-color: #E8F0FE;\n",
              "      border: none;\n",
              "      border-radius: 50%;\n",
              "      cursor: pointer;\n",
              "      display: none;\n",
              "      fill: #1967D2;\n",
              "      height: 32px;\n",
              "      padding: 0 0 0 0;\n",
              "      width: 32px;\n",
              "    }\n",
              "\n",
              "    .colab-df-convert:hover {\n",
              "      background-color: #E2EBFA;\n",
              "      box-shadow: 0px 1px 2px rgba(60, 64, 67, 0.3), 0px 1px 3px 1px rgba(60, 64, 67, 0.15);\n",
              "      fill: #174EA6;\n",
              "    }\n",
              "\n",
              "    [theme=dark] .colab-df-convert {\n",
              "      background-color: #3B4455;\n",
              "      fill: #D2E3FC;\n",
              "    }\n",
              "\n",
              "    [theme=dark] .colab-df-convert:hover {\n",
              "      background-color: #434B5C;\n",
              "      box-shadow: 0px 1px 3px 1px rgba(0, 0, 0, 0.15);\n",
              "      filter: drop-shadow(0px 1px 2px rgba(0, 0, 0, 0.3));\n",
              "      fill: #FFFFFF;\n",
              "    }\n",
              "  </style>\n",
              "\n",
              "      <script>\n",
              "        const buttonEl =\n",
              "          document.querySelector('#df-23f8997f-b296-441a-9016-1f568c0b276d button.colab-df-convert');\n",
              "        buttonEl.style.display =\n",
              "          google.colab.kernel.accessAllowed ? 'block' : 'none';\n",
              "\n",
              "        async function convertToInteractive(key) {\n",
              "          const element = document.querySelector('#df-23f8997f-b296-441a-9016-1f568c0b276d');\n",
              "          const dataTable =\n",
              "            await google.colab.kernel.invokeFunction('convertToInteractive',\n",
              "                                                     [key], {});\n",
              "          if (!dataTable) return;\n",
              "\n",
              "          const docLinkHtml = 'Like what you see? Visit the ' +\n",
              "            '<a target=\"_blank\" href=https://colab.research.google.com/notebooks/data_table.ipynb>data table notebook</a>'\n",
              "            + ' to learn more about interactive tables.';\n",
              "          element.innerHTML = '';\n",
              "          dataTable['output_type'] = 'display_data';\n",
              "          await google.colab.output.renderOutput(dataTable, element);\n",
              "          const docLink = document.createElement('div');\n",
              "          docLink.innerHTML = docLinkHtml;\n",
              "          element.appendChild(docLink);\n",
              "        }\n",
              "      </script>\n",
              "    </div>\n",
              "  </div>\n"
            ]
          },
          "metadata": {},
          "execution_count": 73
        }
      ],
      "source": [
        "row1 = {'group':'A', 'purchase':[data_a['purchase'].sum()], 'viewing':[data_a['viewing'].sum()], 'purchase rate':[df_result['purchase rate'][0]]}\n",
        "df_ht = pd.DataFrame.from_dict(row1)\n",
        "row2 = pd.DataFrame({'group':'C','purchase':[data_c['purchase'].sum()], 'viewing':[data_c['viewing'].sum()], 'purchase rate':[df_result['purchase rate'][2]]})\n",
        "df_ht = pd.concat([df_ht, row2], ignore_index=True)\n",
        "df_ht"
      ]
    },
    {
      "cell_type": "markdown",
      "id": "17d6e1fa",
      "metadata": {
        "id": "17d6e1fa"
      },
      "source": [
        "Сформулируем нулевую и альтернативные гипотезы для метрики *purchase rate* и проведем тест."
      ]
    },
    {
      "cell_type": "code",
      "execution_count": 74,
      "id": "14eaff67",
      "metadata": {
        "id": "14eaff67"
      },
      "outputs": [],
      "source": [
        "H0 = 'purchase rate в группах А и С равны'\n",
        "H1 = 'purchase rate в группе А меньше, чем purchase rate в группе С'"
      ]
    },
    {
      "cell_type": "code",
      "execution_count": 75,
      "id": "afe635e4",
      "metadata": {
        "id": "afe635e4",
        "outputId": "62c21855-925c-4372-b187-c191ec6dcd54",
        "colab": {
          "base_uri": "https://localhost:8080/"
        }
      },
      "outputs": [
        {
          "output_type": "stream",
          "name": "stdout",
          "text": [
            "p-value:  4.017576439527909e-201\n",
            "Отвергаем нулевую гипотезу. (purchase rate в группах А и С равны)\n",
            "Альтернативная гипотеза. H1: purchase rate в группе А меньше, чем purchase rate в группе С\n"
          ]
        }
      ],
      "source": [
        "# Вычисляем значение p-value для z-теста для пропорций\n",
        "_, p_value = proportions_ztest(\n",
        "    count=df_ht['purchase'], #число покупок\n",
        "    nobs=df_ht['viewing'], #общее число наблюдений\n",
        "    alternative='smaller',\n",
        ")\n",
        "print('p-value: ', p_value)\n",
        "\n",
        "# Cравниваем полученное p-value с уровнем значимости\n",
        "if (p_value < alpha):\n",
        "    print(\"Отвергаем нулевую гипотезу. ({})\".format(H0))\n",
        "    print(\"Альтернативная гипотеза. H1: {}\".format(H1))\n",
        "else:\n",
        "    print(\"Принимаем нулевую гипотезу. {}\".format(H0))"
      ]
    },
    {
      "cell_type": "markdown",
      "id": "ed6804b6",
      "metadata": {
        "id": "ed6804b6"
      },
      "source": [
        "Подтвердили, что *purchase rate* в *А-группе* меньше чем в *С-группе* и эта разница имеет статистическую значимость.\n",
        "\n",
        "**2.2.3. Тест по метрике *gmv***\n",
        "\n",
        "Как было выяснено ранее, для тестирования по метрике *gmv*, основанной на признаке *item_sum*, нам необходимо использование непараметрического теста для 2-х групп с независимыми признаками. По рекомендации классификации тестов приведенной в п.2.1, воспользуемся критерием Манна-Уитни или U-тестом.\n",
        "\n",
        "Сформулируем нулевую и альтернативные гипотезы для метрики *gmv* и проведем тест."
      ]
    },
    {
      "cell_type": "code",
      "execution_count": 76,
      "id": "7b13d527",
      "metadata": {
        "id": "7b13d527"
      },
      "outputs": [],
      "source": [
        "H0 = 'gmv в группах А и С равны'\n",
        "H1 = 'gmv в группе А меньше, чем gmv в группе С'"
      ]
    },
    {
      "cell_type": "code",
      "execution_count": 77,
      "id": "ee1c3bb7",
      "metadata": {
        "id": "ee1c3bb7",
        "outputId": "23dc0407-c72d-45eb-a6e4-727b6430bf99",
        "colab": {
          "base_uri": "https://localhost:8080/"
        }
      },
      "outputs": [
        {
          "output_type": "stream",
          "name": "stdout",
          "text": [
            "p-value:  4.017576439527909e-201\n",
            "Отвергаем нулевую гипотезу. (gmv в группах А и С равны)\n",
            "Альтернативная гипотеза. H1: gmv в группе А меньше, чем gmv в группе С\n"
          ]
        }
      ],
      "source": [
        "# Вычисляем значение p-value для U-теста\n",
        "_, p = mannwhitneyu(data_a['item_sum'],\n",
        "                    data_c['item_sum'],\n",
        "                    alternative='less')\n",
        "print('p-value: ', p_value)\n",
        "\n",
        "# Cравниваем полученное p-value с уровнем значимости\n",
        "if (p_value < alpha):\n",
        "    print(\"Отвергаем нулевую гипотезу. ({})\".format(H0))\n",
        "    print(\"Альтернативная гипотеза. H1: {}\".format(H1))\n",
        "else:\n",
        "    print(\"Принимаем нулевую гипотезу. {}\".format(H0))"
      ]
    },
    {
      "cell_type": "markdown",
      "id": "db0df36f",
      "metadata": {
        "id": "db0df36f"
      },
      "source": [
        "Подтвердили, что *gmv* в *А-группе* меншьше чем в *С-группе* и эта разница имеет статистическую значимость.\n",
        "\n",
        "**Выводы по А/С-тесту**. Проведенные статистические тесты равенства долей для *A* и *C* групп подтвердили результаты расчета численных значений метрик о том, что по всем показателям метрики *С-группы* лучше, чем в *А группе*. Несмотря на то, что и в *А* и в *С* группах не использовался улучшающий алгоритм, который проверялся на *В-группе*, увеличение значений параметров ключевых метрик в *С-группе* относительно не большое и может быть связанно с какими-либо неучтенными фактами по контингенту пользователей или их заинтересованностью в определенных товарах попавших в данную выборку. Возможно, необходимо произвести дополнительные исследования по данным направлениям. Необходим сбор дополнительных данных."
      ]
    },
    {
      "cell_type": "markdown",
      "id": "f54a692a",
      "metadata": {
        "id": "f54a692a"
      },
      "source": [
        "**2.3. Тест равенства долей для A и B групп**"
      ]
    },
    {
      "cell_type": "markdown",
      "id": "f872d043",
      "metadata": {
        "id": "f872d043"
      },
      "source": [
        "Проведем те же тесты, что были использованы в предыдущем разделе для *А* и *С* групп. В данном случае в качестве второй группы будет выступать *В-группа*, на которую оказали воздействие, применив улучшающий алгоритм. Ранее, вычисленные метрики для *В-группы* показали прирост на значительно более высокие значения, чем в группе *С*. Проверим эти результаты на статистическую значимость с помощью статистических тестов равенства долей для *A* и *В* групп.\n",
        "\n",
        "Вспомним результаты метрик по всем сэмплам:"
      ]
    },
    {
      "cell_type": "code",
      "execution_count": 78,
      "id": "cbe65aac",
      "metadata": {
        "id": "cbe65aac",
        "outputId": "bcb0892d-4b87-4b35-b27a-cf169a1727b8",
        "colab": {
          "base_uri": "https://localhost:8080/",
          "height": 143
        }
      },
      "outputs": [
        {
          "output_type": "execute_result",
          "data": {
            "text/plain": [
              "  sample    size   ctr  purchase rate           gmv\n",
              "0      A  951130  0.20       0.049999  5.087209e+07\n",
              "1      B  951141  0.16       0.100000  1.016682e+08\n",
              "2      C  949221  0.21       0.060000  6.087395e+07"
            ],
            "text/html": [
              "\n",
              "\n",
              "  <div id=\"df-a92b133d-438f-492a-9a78-66c2d425c205\">\n",
              "    <div class=\"colab-df-container\">\n",
              "      <div>\n",
              "<style scoped>\n",
              "    .dataframe tbody tr th:only-of-type {\n",
              "        vertical-align: middle;\n",
              "    }\n",
              "\n",
              "    .dataframe tbody tr th {\n",
              "        vertical-align: top;\n",
              "    }\n",
              "\n",
              "    .dataframe thead th {\n",
              "        text-align: right;\n",
              "    }\n",
              "</style>\n",
              "<table border=\"1\" class=\"dataframe\">\n",
              "  <thead>\n",
              "    <tr style=\"text-align: right;\">\n",
              "      <th></th>\n",
              "      <th>sample</th>\n",
              "      <th>size</th>\n",
              "      <th>ctr</th>\n",
              "      <th>purchase rate</th>\n",
              "      <th>gmv</th>\n",
              "    </tr>\n",
              "  </thead>\n",
              "  <tbody>\n",
              "    <tr>\n",
              "      <th>0</th>\n",
              "      <td>A</td>\n",
              "      <td>951130</td>\n",
              "      <td>0.20</td>\n",
              "      <td>0.049999</td>\n",
              "      <td>5.087209e+07</td>\n",
              "    </tr>\n",
              "    <tr>\n",
              "      <th>1</th>\n",
              "      <td>B</td>\n",
              "      <td>951141</td>\n",
              "      <td>0.16</td>\n",
              "      <td>0.100000</td>\n",
              "      <td>1.016682e+08</td>\n",
              "    </tr>\n",
              "    <tr>\n",
              "      <th>2</th>\n",
              "      <td>C</td>\n",
              "      <td>949221</td>\n",
              "      <td>0.21</td>\n",
              "      <td>0.060000</td>\n",
              "      <td>6.087395e+07</td>\n",
              "    </tr>\n",
              "  </tbody>\n",
              "</table>\n",
              "</div>\n",
              "      <button class=\"colab-df-convert\" onclick=\"convertToInteractive('df-a92b133d-438f-492a-9a78-66c2d425c205')\"\n",
              "              title=\"Convert this dataframe to an interactive table.\"\n",
              "              style=\"display:none;\">\n",
              "\n",
              "  <svg xmlns=\"http://www.w3.org/2000/svg\" height=\"24px\"viewBox=\"0 0 24 24\"\n",
              "       width=\"24px\">\n",
              "    <path d=\"M0 0h24v24H0V0z\" fill=\"none\"/>\n",
              "    <path d=\"M18.56 5.44l.94 2.06.94-2.06 2.06-.94-2.06-.94-.94-2.06-.94 2.06-2.06.94zm-11 1L8.5 8.5l.94-2.06 2.06-.94-2.06-.94L8.5 2.5l-.94 2.06-2.06.94zm10 10l.94 2.06.94-2.06 2.06-.94-2.06-.94-.94-2.06-.94 2.06-2.06.94z\"/><path d=\"M17.41 7.96l-1.37-1.37c-.4-.4-.92-.59-1.43-.59-.52 0-1.04.2-1.43.59L10.3 9.45l-7.72 7.72c-.78.78-.78 2.05 0 2.83L4 21.41c.39.39.9.59 1.41.59.51 0 1.02-.2 1.41-.59l7.78-7.78 2.81-2.81c.8-.78.8-2.07 0-2.86zM5.41 20L4 18.59l7.72-7.72 1.47 1.35L5.41 20z\"/>\n",
              "  </svg>\n",
              "      </button>\n",
              "\n",
              "\n",
              "\n",
              "    <div id=\"df-fc527ebb-0c28-4f15-a40d-bff6c36b02ae\">\n",
              "      <button class=\"colab-df-quickchart\" onclick=\"quickchart('df-fc527ebb-0c28-4f15-a40d-bff6c36b02ae')\"\n",
              "              title=\"Suggest charts.\"\n",
              "              style=\"display:none;\">\n",
              "\n",
              "<svg xmlns=\"http://www.w3.org/2000/svg\" height=\"24px\"viewBox=\"0 0 24 24\"\n",
              "     width=\"24px\">\n",
              "    <g>\n",
              "        <path d=\"M19 3H5c-1.1 0-2 .9-2 2v14c0 1.1.9 2 2 2h14c1.1 0 2-.9 2-2V5c0-1.1-.9-2-2-2zM9 17H7v-7h2v7zm4 0h-2V7h2v10zm4 0h-2v-4h2v4z\"/>\n",
              "    </g>\n",
              "</svg>\n",
              "      </button>\n",
              "    </div>\n",
              "\n",
              "<style>\n",
              "  .colab-df-quickchart {\n",
              "    background-color: #E8F0FE;\n",
              "    border: none;\n",
              "    border-radius: 50%;\n",
              "    cursor: pointer;\n",
              "    display: none;\n",
              "    fill: #1967D2;\n",
              "    height: 32px;\n",
              "    padding: 0 0 0 0;\n",
              "    width: 32px;\n",
              "  }\n",
              "\n",
              "  .colab-df-quickchart:hover {\n",
              "    background-color: #E2EBFA;\n",
              "    box-shadow: 0px 1px 2px rgba(60, 64, 67, 0.3), 0px 1px 3px 1px rgba(60, 64, 67, 0.15);\n",
              "    fill: #174EA6;\n",
              "  }\n",
              "\n",
              "  [theme=dark] .colab-df-quickchart {\n",
              "    background-color: #3B4455;\n",
              "    fill: #D2E3FC;\n",
              "  }\n",
              "\n",
              "  [theme=dark] .colab-df-quickchart:hover {\n",
              "    background-color: #434B5C;\n",
              "    box-shadow: 0px 1px 3px 1px rgba(0, 0, 0, 0.15);\n",
              "    filter: drop-shadow(0px 1px 2px rgba(0, 0, 0, 0.3));\n",
              "    fill: #FFFFFF;\n",
              "  }\n",
              "</style>\n",
              "\n",
              "    <script>\n",
              "      async function quickchart(key) {\n",
              "        const containerElement = document.querySelector('#' + key);\n",
              "        const charts = await google.colab.kernel.invokeFunction(\n",
              "            'suggestCharts', [key], {});\n",
              "      }\n",
              "    </script>\n",
              "\n",
              "      <script>\n",
              "\n",
              "function displayQuickchartButton(domScope) {\n",
              "  let quickchartButtonEl =\n",
              "    domScope.querySelector('#df-fc527ebb-0c28-4f15-a40d-bff6c36b02ae button.colab-df-quickchart');\n",
              "  quickchartButtonEl.style.display =\n",
              "    google.colab.kernel.accessAllowed ? 'block' : 'none';\n",
              "}\n",
              "\n",
              "        displayQuickchartButton(document);\n",
              "      </script>\n",
              "      <style>\n",
              "    .colab-df-container {\n",
              "      display:flex;\n",
              "      flex-wrap:wrap;\n",
              "      gap: 12px;\n",
              "    }\n",
              "\n",
              "    .colab-df-convert {\n",
              "      background-color: #E8F0FE;\n",
              "      border: none;\n",
              "      border-radius: 50%;\n",
              "      cursor: pointer;\n",
              "      display: none;\n",
              "      fill: #1967D2;\n",
              "      height: 32px;\n",
              "      padding: 0 0 0 0;\n",
              "      width: 32px;\n",
              "    }\n",
              "\n",
              "    .colab-df-convert:hover {\n",
              "      background-color: #E2EBFA;\n",
              "      box-shadow: 0px 1px 2px rgba(60, 64, 67, 0.3), 0px 1px 3px 1px rgba(60, 64, 67, 0.15);\n",
              "      fill: #174EA6;\n",
              "    }\n",
              "\n",
              "    [theme=dark] .colab-df-convert {\n",
              "      background-color: #3B4455;\n",
              "      fill: #D2E3FC;\n",
              "    }\n",
              "\n",
              "    [theme=dark] .colab-df-convert:hover {\n",
              "      background-color: #434B5C;\n",
              "      box-shadow: 0px 1px 3px 1px rgba(0, 0, 0, 0.15);\n",
              "      filter: drop-shadow(0px 1px 2px rgba(0, 0, 0, 0.3));\n",
              "      fill: #FFFFFF;\n",
              "    }\n",
              "  </style>\n",
              "\n",
              "      <script>\n",
              "        const buttonEl =\n",
              "          document.querySelector('#df-a92b133d-438f-492a-9a78-66c2d425c205 button.colab-df-convert');\n",
              "        buttonEl.style.display =\n",
              "          google.colab.kernel.accessAllowed ? 'block' : 'none';\n",
              "\n",
              "        async function convertToInteractive(key) {\n",
              "          const element = document.querySelector('#df-a92b133d-438f-492a-9a78-66c2d425c205');\n",
              "          const dataTable =\n",
              "            await google.colab.kernel.invokeFunction('convertToInteractive',\n",
              "                                                     [key], {});\n",
              "          if (!dataTable) return;\n",
              "\n",
              "          const docLinkHtml = 'Like what you see? Visit the ' +\n",
              "            '<a target=\"_blank\" href=https://colab.research.google.com/notebooks/data_table.ipynb>data table notebook</a>'\n",
              "            + ' to learn more about interactive tables.';\n",
              "          element.innerHTML = '';\n",
              "          dataTable['output_type'] = 'display_data';\n",
              "          await google.colab.output.renderOutput(dataTable, element);\n",
              "          const docLink = document.createElement('div');\n",
              "          docLink.innerHTML = docLinkHtml;\n",
              "          element.appendChild(docLink);\n",
              "        }\n",
              "      </script>\n",
              "    </div>\n",
              "  </div>\n"
            ]
          },
          "metadata": {},
          "execution_count": 78
        }
      ],
      "source": [
        "df_result"
      ]
    },
    {
      "cell_type": "markdown",
      "id": "a8f96d0b",
      "metadata": {
        "id": "a8f96d0b"
      },
      "source": [
        "Проверим выполнение условия минимально необходимого размера выборки для А/В-теста:"
      ]
    },
    {
      "cell_type": "code",
      "execution_count": 79,
      "id": "430f28ed",
      "metadata": {
        "id": "430f28ed",
        "outputId": "ed9b477a-2204-41ec-efed-1d9be5d86ba9",
        "colab": {
          "base_uri": "https://localhost:8080/"
        }
      },
      "outputs": [
        {
          "output_type": "stream",
          "name": "stdout",
          "text": [
            "Минимально необходимый размер выборки по признаку ctr: 581\n"
          ]
        }
      ],
      "source": [
        "alpha = 0.05 # уровень значимости\n",
        "\n",
        "# Рассчитаем минимально необходимый размер выборки для А/В-теста по признаку 'ctr'\n",
        "p1 = df_result['ctr'][0]\n",
        "p_diff = df_result['ctr'][0] - df_result['ctr'][1]\n",
        "print('Минимально необходимый размер выборки по признаку ctr:', sample_required(p1, p_diff, alpha))"
      ]
    },
    {
      "cell_type": "code",
      "execution_count": 80,
      "id": "417d4d3a",
      "metadata": {
        "id": "417d4d3a",
        "outputId": "c8f9c078-4001-41b6-f30e-759aa8297164",
        "colab": {
          "base_uri": "https://localhost:8080/"
        }
      },
      "outputs": [
        {
          "output_type": "stream",
          "name": "stdout",
          "text": [
            "Минимально необходимый размер выборки по признаку purchase rate: 151\n"
          ]
        }
      ],
      "source": [
        "# Рассчитаем минимально необходимый размер выборки для А/В-теста по признаку 'purchase rate'\n",
        "p1 = df_result['purchase rate'][0]\n",
        "p_diff = df_result['purchase rate'][1]-df_result['purchase rate'][0]\n",
        "print('Минимально необходимый размер выборки по признаку purchase rate:', sample_required(p1, p_diff, alpha))"
      ]
    },
    {
      "cell_type": "markdown",
      "id": "b5c0553f",
      "metadata": {
        "id": "b5c0553f"
      },
      "source": [
        "По результатам видно, что минимально необходимый размер выборки для категориальных признаков значительно меньше, чем доступные нам выборки А/В-теста. Знаем, что чем больше у вас размер выборки, тем ближе результаты будут к результатам генеральной совокупности и соответственно точнее полученные результаты. Т.е. в дальнейшем будем использовать полные выборки по А и В группам.\n",
        "\n",
        "Проведенм z-тест для пропорций для каждго категориального признака наших датасетов. Используемый уровень значимости:"
      ]
    },
    {
      "cell_type": "code",
      "execution_count": 81,
      "id": "3ac0e6f1",
      "metadata": {
        "id": "3ac0e6f1"
      },
      "outputs": [],
      "source": [
        "alpha = 0.05"
      ]
    },
    {
      "cell_type": "markdown",
      "id": "f87850c4",
      "metadata": {
        "id": "f87850c4"
      },
      "source": [
        "**2.3.1. Тест по метрике *ctr***\n",
        "\n",
        "Подготовим данные по выборкам для удобства использования в тесте по метрике *ctr*."
      ]
    },
    {
      "cell_type": "code",
      "execution_count": 82,
      "id": "a81c3a41",
      "metadata": {
        "id": "a81c3a41",
        "outputId": "7de17ba5-6c1b-462d-b58e-cc19a8287b0c",
        "colab": {
          "base_uri": "https://localhost:8080/",
          "height": 112
        }
      },
      "outputs": [
        {
          "output_type": "execute_result",
          "data": {
            "text/plain": [
              "  group   click  viewing   ctr\n",
              "0     A  190226   951130  0.20\n",
              "1     B  152183   951141  0.16"
            ],
            "text/html": [
              "\n",
              "\n",
              "  <div id=\"df-76e7b29f-c5a6-41bc-bb2f-dc60808289b2\">\n",
              "    <div class=\"colab-df-container\">\n",
              "      <div>\n",
              "<style scoped>\n",
              "    .dataframe tbody tr th:only-of-type {\n",
              "        vertical-align: middle;\n",
              "    }\n",
              "\n",
              "    .dataframe tbody tr th {\n",
              "        vertical-align: top;\n",
              "    }\n",
              "\n",
              "    .dataframe thead th {\n",
              "        text-align: right;\n",
              "    }\n",
              "</style>\n",
              "<table border=\"1\" class=\"dataframe\">\n",
              "  <thead>\n",
              "    <tr style=\"text-align: right;\">\n",
              "      <th></th>\n",
              "      <th>group</th>\n",
              "      <th>click</th>\n",
              "      <th>viewing</th>\n",
              "      <th>ctr</th>\n",
              "    </tr>\n",
              "  </thead>\n",
              "  <tbody>\n",
              "    <tr>\n",
              "      <th>0</th>\n",
              "      <td>A</td>\n",
              "      <td>190226</td>\n",
              "      <td>951130</td>\n",
              "      <td>0.20</td>\n",
              "    </tr>\n",
              "    <tr>\n",
              "      <th>1</th>\n",
              "      <td>B</td>\n",
              "      <td>152183</td>\n",
              "      <td>951141</td>\n",
              "      <td>0.16</td>\n",
              "    </tr>\n",
              "  </tbody>\n",
              "</table>\n",
              "</div>\n",
              "      <button class=\"colab-df-convert\" onclick=\"convertToInteractive('df-76e7b29f-c5a6-41bc-bb2f-dc60808289b2')\"\n",
              "              title=\"Convert this dataframe to an interactive table.\"\n",
              "              style=\"display:none;\">\n",
              "\n",
              "  <svg xmlns=\"http://www.w3.org/2000/svg\" height=\"24px\"viewBox=\"0 0 24 24\"\n",
              "       width=\"24px\">\n",
              "    <path d=\"M0 0h24v24H0V0z\" fill=\"none\"/>\n",
              "    <path d=\"M18.56 5.44l.94 2.06.94-2.06 2.06-.94-2.06-.94-.94-2.06-.94 2.06-2.06.94zm-11 1L8.5 8.5l.94-2.06 2.06-.94-2.06-.94L8.5 2.5l-.94 2.06-2.06.94zm10 10l.94 2.06.94-2.06 2.06-.94-2.06-.94-.94-2.06-.94 2.06-2.06.94z\"/><path d=\"M17.41 7.96l-1.37-1.37c-.4-.4-.92-.59-1.43-.59-.52 0-1.04.2-1.43.59L10.3 9.45l-7.72 7.72c-.78.78-.78 2.05 0 2.83L4 21.41c.39.39.9.59 1.41.59.51 0 1.02-.2 1.41-.59l7.78-7.78 2.81-2.81c.8-.78.8-2.07 0-2.86zM5.41 20L4 18.59l7.72-7.72 1.47 1.35L5.41 20z\"/>\n",
              "  </svg>\n",
              "      </button>\n",
              "\n",
              "\n",
              "\n",
              "    <div id=\"df-41e2ae86-c478-483e-88d1-5ea43cd37d45\">\n",
              "      <button class=\"colab-df-quickchart\" onclick=\"quickchart('df-41e2ae86-c478-483e-88d1-5ea43cd37d45')\"\n",
              "              title=\"Suggest charts.\"\n",
              "              style=\"display:none;\">\n",
              "\n",
              "<svg xmlns=\"http://www.w3.org/2000/svg\" height=\"24px\"viewBox=\"0 0 24 24\"\n",
              "     width=\"24px\">\n",
              "    <g>\n",
              "        <path d=\"M19 3H5c-1.1 0-2 .9-2 2v14c0 1.1.9 2 2 2h14c1.1 0 2-.9 2-2V5c0-1.1-.9-2-2-2zM9 17H7v-7h2v7zm4 0h-2V7h2v10zm4 0h-2v-4h2v4z\"/>\n",
              "    </g>\n",
              "</svg>\n",
              "      </button>\n",
              "    </div>\n",
              "\n",
              "<style>\n",
              "  .colab-df-quickchart {\n",
              "    background-color: #E8F0FE;\n",
              "    border: none;\n",
              "    border-radius: 50%;\n",
              "    cursor: pointer;\n",
              "    display: none;\n",
              "    fill: #1967D2;\n",
              "    height: 32px;\n",
              "    padding: 0 0 0 0;\n",
              "    width: 32px;\n",
              "  }\n",
              "\n",
              "  .colab-df-quickchart:hover {\n",
              "    background-color: #E2EBFA;\n",
              "    box-shadow: 0px 1px 2px rgba(60, 64, 67, 0.3), 0px 1px 3px 1px rgba(60, 64, 67, 0.15);\n",
              "    fill: #174EA6;\n",
              "  }\n",
              "\n",
              "  [theme=dark] .colab-df-quickchart {\n",
              "    background-color: #3B4455;\n",
              "    fill: #D2E3FC;\n",
              "  }\n",
              "\n",
              "  [theme=dark] .colab-df-quickchart:hover {\n",
              "    background-color: #434B5C;\n",
              "    box-shadow: 0px 1px 3px 1px rgba(0, 0, 0, 0.15);\n",
              "    filter: drop-shadow(0px 1px 2px rgba(0, 0, 0, 0.3));\n",
              "    fill: #FFFFFF;\n",
              "  }\n",
              "</style>\n",
              "\n",
              "    <script>\n",
              "      async function quickchart(key) {\n",
              "        const containerElement = document.querySelector('#' + key);\n",
              "        const charts = await google.colab.kernel.invokeFunction(\n",
              "            'suggestCharts', [key], {});\n",
              "      }\n",
              "    </script>\n",
              "\n",
              "      <script>\n",
              "\n",
              "function displayQuickchartButton(domScope) {\n",
              "  let quickchartButtonEl =\n",
              "    domScope.querySelector('#df-41e2ae86-c478-483e-88d1-5ea43cd37d45 button.colab-df-quickchart');\n",
              "  quickchartButtonEl.style.display =\n",
              "    google.colab.kernel.accessAllowed ? 'block' : 'none';\n",
              "}\n",
              "\n",
              "        displayQuickchartButton(document);\n",
              "      </script>\n",
              "      <style>\n",
              "    .colab-df-container {\n",
              "      display:flex;\n",
              "      flex-wrap:wrap;\n",
              "      gap: 12px;\n",
              "    }\n",
              "\n",
              "    .colab-df-convert {\n",
              "      background-color: #E8F0FE;\n",
              "      border: none;\n",
              "      border-radius: 50%;\n",
              "      cursor: pointer;\n",
              "      display: none;\n",
              "      fill: #1967D2;\n",
              "      height: 32px;\n",
              "      padding: 0 0 0 0;\n",
              "      width: 32px;\n",
              "    }\n",
              "\n",
              "    .colab-df-convert:hover {\n",
              "      background-color: #E2EBFA;\n",
              "      box-shadow: 0px 1px 2px rgba(60, 64, 67, 0.3), 0px 1px 3px 1px rgba(60, 64, 67, 0.15);\n",
              "      fill: #174EA6;\n",
              "    }\n",
              "\n",
              "    [theme=dark] .colab-df-convert {\n",
              "      background-color: #3B4455;\n",
              "      fill: #D2E3FC;\n",
              "    }\n",
              "\n",
              "    [theme=dark] .colab-df-convert:hover {\n",
              "      background-color: #434B5C;\n",
              "      box-shadow: 0px 1px 3px 1px rgba(0, 0, 0, 0.15);\n",
              "      filter: drop-shadow(0px 1px 2px rgba(0, 0, 0, 0.3));\n",
              "      fill: #FFFFFF;\n",
              "    }\n",
              "  </style>\n",
              "\n",
              "      <script>\n",
              "        const buttonEl =\n",
              "          document.querySelector('#df-76e7b29f-c5a6-41bc-bb2f-dc60808289b2 button.colab-df-convert');\n",
              "        buttonEl.style.display =\n",
              "          google.colab.kernel.accessAllowed ? 'block' : 'none';\n",
              "\n",
              "        async function convertToInteractive(key) {\n",
              "          const element = document.querySelector('#df-76e7b29f-c5a6-41bc-bb2f-dc60808289b2');\n",
              "          const dataTable =\n",
              "            await google.colab.kernel.invokeFunction('convertToInteractive',\n",
              "                                                     [key], {});\n",
              "          if (!dataTable) return;\n",
              "\n",
              "          const docLinkHtml = 'Like what you see? Visit the ' +\n",
              "            '<a target=\"_blank\" href=https://colab.research.google.com/notebooks/data_table.ipynb>data table notebook</a>'\n",
              "            + ' to learn more about interactive tables.';\n",
              "          element.innerHTML = '';\n",
              "          dataTable['output_type'] = 'display_data';\n",
              "          await google.colab.output.renderOutput(dataTable, element);\n",
              "          const docLink = document.createElement('div');\n",
              "          docLink.innerHTML = docLinkHtml;\n",
              "          element.appendChild(docLink);\n",
              "        }\n",
              "      </script>\n",
              "    </div>\n",
              "  </div>\n"
            ]
          },
          "metadata": {},
          "execution_count": 82
        }
      ],
      "source": [
        "row1 = {'group':'A', 'click':[data_a['click'].sum()], 'viewing':[data_a['viewing'].sum()], 'ctr':[df_result['ctr'][0]]}\n",
        "df_ht = pd.DataFrame.from_dict(row1)\n",
        "row2 = pd.DataFrame({'group':'B','click':[data_b['click'].sum()], 'viewing':[data_b['viewing'].sum()], 'ctr':[df_result['ctr'][1]]})\n",
        "df_ht = pd.concat([df_ht, row2], ignore_index=True)\n",
        "df_ht"
      ]
    },
    {
      "cell_type": "markdown",
      "id": "29939821",
      "metadata": {
        "id": "29939821"
      },
      "source": [
        "Сформулируем нулевую и альтернативные гипотезы для метрики ctr и проведем сам тест."
      ]
    },
    {
      "cell_type": "code",
      "execution_count": 83,
      "id": "bfa26c0f",
      "metadata": {
        "id": "bfa26c0f"
      },
      "outputs": [],
      "source": [
        "H0 = 'ctr в группах А и В равны'\n",
        "H1 = 'ctr в группе А больше, чем ctr в группе В'"
      ]
    },
    {
      "cell_type": "code",
      "execution_count": 84,
      "id": "9546848f",
      "metadata": {
        "id": "9546848f",
        "outputId": "3c688b64-63df-46a1-a1b4-b931d3548c8f",
        "colab": {
          "base_uri": "https://localhost:8080/"
        }
      },
      "outputs": [
        {
          "output_type": "stream",
          "name": "stdout",
          "text": [
            "p-value:  0.0\n",
            "Отвергаем нулевую гипотезу. (ctr в группах А и В равны)\n",
            "Альтернативная гипотеза. H1: ctr в группе А больше, чем ctr в группе В\n"
          ]
        }
      ],
      "source": [
        "# Вычисляем значение p-value для z-теста для пропорций\n",
        "_, p_value = proportions_ztest(\n",
        "    count=df_ht['click'], #число click'ов\n",
        "    nobs=df_ht['viewing'], #общее число наблюдений\n",
        "    alternative='larger',\n",
        ")\n",
        "print('p-value: ', p_value)\n",
        "\n",
        "# Cравниваем полученное p-value с уровнем значимости\n",
        "if (p_value < alpha):\n",
        "    print(\"Отвергаем нулевую гипотезу. ({})\".format(H0))\n",
        "    print(\"Альтернативная гипотеза. H1: {}\".format(H1))\n",
        "else:\n",
        "    print(\"Принимаем нулевую гипотезу. {}\".format(H0))"
      ]
    },
    {
      "cell_type": "markdown",
      "id": "92321a9c",
      "metadata": {
        "id": "92321a9c"
      },
      "source": [
        "Подтвердили, что *ctr* в *А-группе* больше чем в *В-группе* и эта разница имеет статистическую значимость.\n",
        "\n",
        "**2.3.2. Тест по метрике *purchase rate***\n",
        "\n",
        "Подготовим данные по выборкам для удобства использования в тесте по метрике *purchase rate*."
      ]
    },
    {
      "cell_type": "code",
      "execution_count": 85,
      "id": "2c312e88",
      "metadata": {
        "id": "2c312e88",
        "outputId": "deab8265-5db0-405c-b657-15eed3b81c0b",
        "colab": {
          "base_uri": "https://localhost:8080/",
          "height": 112
        }
      },
      "outputs": [
        {
          "output_type": "execute_result",
          "data": {
            "text/plain": [
              "  group  purchase  viewing  purchase rate\n",
              "0     A     47556   951130       0.049999\n",
              "1     B     95114   951141       0.100000"
            ],
            "text/html": [
              "\n",
              "\n",
              "  <div id=\"df-ba407860-b38f-491c-bc11-4d4e2467ed61\">\n",
              "    <div class=\"colab-df-container\">\n",
              "      <div>\n",
              "<style scoped>\n",
              "    .dataframe tbody tr th:only-of-type {\n",
              "        vertical-align: middle;\n",
              "    }\n",
              "\n",
              "    .dataframe tbody tr th {\n",
              "        vertical-align: top;\n",
              "    }\n",
              "\n",
              "    .dataframe thead th {\n",
              "        text-align: right;\n",
              "    }\n",
              "</style>\n",
              "<table border=\"1\" class=\"dataframe\">\n",
              "  <thead>\n",
              "    <tr style=\"text-align: right;\">\n",
              "      <th></th>\n",
              "      <th>group</th>\n",
              "      <th>purchase</th>\n",
              "      <th>viewing</th>\n",
              "      <th>purchase rate</th>\n",
              "    </tr>\n",
              "  </thead>\n",
              "  <tbody>\n",
              "    <tr>\n",
              "      <th>0</th>\n",
              "      <td>A</td>\n",
              "      <td>47556</td>\n",
              "      <td>951130</td>\n",
              "      <td>0.049999</td>\n",
              "    </tr>\n",
              "    <tr>\n",
              "      <th>1</th>\n",
              "      <td>B</td>\n",
              "      <td>95114</td>\n",
              "      <td>951141</td>\n",
              "      <td>0.100000</td>\n",
              "    </tr>\n",
              "  </tbody>\n",
              "</table>\n",
              "</div>\n",
              "      <button class=\"colab-df-convert\" onclick=\"convertToInteractive('df-ba407860-b38f-491c-bc11-4d4e2467ed61')\"\n",
              "              title=\"Convert this dataframe to an interactive table.\"\n",
              "              style=\"display:none;\">\n",
              "\n",
              "  <svg xmlns=\"http://www.w3.org/2000/svg\" height=\"24px\"viewBox=\"0 0 24 24\"\n",
              "       width=\"24px\">\n",
              "    <path d=\"M0 0h24v24H0V0z\" fill=\"none\"/>\n",
              "    <path d=\"M18.56 5.44l.94 2.06.94-2.06 2.06-.94-2.06-.94-.94-2.06-.94 2.06-2.06.94zm-11 1L8.5 8.5l.94-2.06 2.06-.94-2.06-.94L8.5 2.5l-.94 2.06-2.06.94zm10 10l.94 2.06.94-2.06 2.06-.94-2.06-.94-.94-2.06-.94 2.06-2.06.94z\"/><path d=\"M17.41 7.96l-1.37-1.37c-.4-.4-.92-.59-1.43-.59-.52 0-1.04.2-1.43.59L10.3 9.45l-7.72 7.72c-.78.78-.78 2.05 0 2.83L4 21.41c.39.39.9.59 1.41.59.51 0 1.02-.2 1.41-.59l7.78-7.78 2.81-2.81c.8-.78.8-2.07 0-2.86zM5.41 20L4 18.59l7.72-7.72 1.47 1.35L5.41 20z\"/>\n",
              "  </svg>\n",
              "      </button>\n",
              "\n",
              "\n",
              "\n",
              "    <div id=\"df-87674047-b156-4fcc-aedc-65974cd7374b\">\n",
              "      <button class=\"colab-df-quickchart\" onclick=\"quickchart('df-87674047-b156-4fcc-aedc-65974cd7374b')\"\n",
              "              title=\"Suggest charts.\"\n",
              "              style=\"display:none;\">\n",
              "\n",
              "<svg xmlns=\"http://www.w3.org/2000/svg\" height=\"24px\"viewBox=\"0 0 24 24\"\n",
              "     width=\"24px\">\n",
              "    <g>\n",
              "        <path d=\"M19 3H5c-1.1 0-2 .9-2 2v14c0 1.1.9 2 2 2h14c1.1 0 2-.9 2-2V5c0-1.1-.9-2-2-2zM9 17H7v-7h2v7zm4 0h-2V7h2v10zm4 0h-2v-4h2v4z\"/>\n",
              "    </g>\n",
              "</svg>\n",
              "      </button>\n",
              "    </div>\n",
              "\n",
              "<style>\n",
              "  .colab-df-quickchart {\n",
              "    background-color: #E8F0FE;\n",
              "    border: none;\n",
              "    border-radius: 50%;\n",
              "    cursor: pointer;\n",
              "    display: none;\n",
              "    fill: #1967D2;\n",
              "    height: 32px;\n",
              "    padding: 0 0 0 0;\n",
              "    width: 32px;\n",
              "  }\n",
              "\n",
              "  .colab-df-quickchart:hover {\n",
              "    background-color: #E2EBFA;\n",
              "    box-shadow: 0px 1px 2px rgba(60, 64, 67, 0.3), 0px 1px 3px 1px rgba(60, 64, 67, 0.15);\n",
              "    fill: #174EA6;\n",
              "  }\n",
              "\n",
              "  [theme=dark] .colab-df-quickchart {\n",
              "    background-color: #3B4455;\n",
              "    fill: #D2E3FC;\n",
              "  }\n",
              "\n",
              "  [theme=dark] .colab-df-quickchart:hover {\n",
              "    background-color: #434B5C;\n",
              "    box-shadow: 0px 1px 3px 1px rgba(0, 0, 0, 0.15);\n",
              "    filter: drop-shadow(0px 1px 2px rgba(0, 0, 0, 0.3));\n",
              "    fill: #FFFFFF;\n",
              "  }\n",
              "</style>\n",
              "\n",
              "    <script>\n",
              "      async function quickchart(key) {\n",
              "        const containerElement = document.querySelector('#' + key);\n",
              "        const charts = await google.colab.kernel.invokeFunction(\n",
              "            'suggestCharts', [key], {});\n",
              "      }\n",
              "    </script>\n",
              "\n",
              "      <script>\n",
              "\n",
              "function displayQuickchartButton(domScope) {\n",
              "  let quickchartButtonEl =\n",
              "    domScope.querySelector('#df-87674047-b156-4fcc-aedc-65974cd7374b button.colab-df-quickchart');\n",
              "  quickchartButtonEl.style.display =\n",
              "    google.colab.kernel.accessAllowed ? 'block' : 'none';\n",
              "}\n",
              "\n",
              "        displayQuickchartButton(document);\n",
              "      </script>\n",
              "      <style>\n",
              "    .colab-df-container {\n",
              "      display:flex;\n",
              "      flex-wrap:wrap;\n",
              "      gap: 12px;\n",
              "    }\n",
              "\n",
              "    .colab-df-convert {\n",
              "      background-color: #E8F0FE;\n",
              "      border: none;\n",
              "      border-radius: 50%;\n",
              "      cursor: pointer;\n",
              "      display: none;\n",
              "      fill: #1967D2;\n",
              "      height: 32px;\n",
              "      padding: 0 0 0 0;\n",
              "      width: 32px;\n",
              "    }\n",
              "\n",
              "    .colab-df-convert:hover {\n",
              "      background-color: #E2EBFA;\n",
              "      box-shadow: 0px 1px 2px rgba(60, 64, 67, 0.3), 0px 1px 3px 1px rgba(60, 64, 67, 0.15);\n",
              "      fill: #174EA6;\n",
              "    }\n",
              "\n",
              "    [theme=dark] .colab-df-convert {\n",
              "      background-color: #3B4455;\n",
              "      fill: #D2E3FC;\n",
              "    }\n",
              "\n",
              "    [theme=dark] .colab-df-convert:hover {\n",
              "      background-color: #434B5C;\n",
              "      box-shadow: 0px 1px 3px 1px rgba(0, 0, 0, 0.15);\n",
              "      filter: drop-shadow(0px 1px 2px rgba(0, 0, 0, 0.3));\n",
              "      fill: #FFFFFF;\n",
              "    }\n",
              "  </style>\n",
              "\n",
              "      <script>\n",
              "        const buttonEl =\n",
              "          document.querySelector('#df-ba407860-b38f-491c-bc11-4d4e2467ed61 button.colab-df-convert');\n",
              "        buttonEl.style.display =\n",
              "          google.colab.kernel.accessAllowed ? 'block' : 'none';\n",
              "\n",
              "        async function convertToInteractive(key) {\n",
              "          const element = document.querySelector('#df-ba407860-b38f-491c-bc11-4d4e2467ed61');\n",
              "          const dataTable =\n",
              "            await google.colab.kernel.invokeFunction('convertToInteractive',\n",
              "                                                     [key], {});\n",
              "          if (!dataTable) return;\n",
              "\n",
              "          const docLinkHtml = 'Like what you see? Visit the ' +\n",
              "            '<a target=\"_blank\" href=https://colab.research.google.com/notebooks/data_table.ipynb>data table notebook</a>'\n",
              "            + ' to learn more about interactive tables.';\n",
              "          element.innerHTML = '';\n",
              "          dataTable['output_type'] = 'display_data';\n",
              "          await google.colab.output.renderOutput(dataTable, element);\n",
              "          const docLink = document.createElement('div');\n",
              "          docLink.innerHTML = docLinkHtml;\n",
              "          element.appendChild(docLink);\n",
              "        }\n",
              "      </script>\n",
              "    </div>\n",
              "  </div>\n"
            ]
          },
          "metadata": {},
          "execution_count": 85
        }
      ],
      "source": [
        "row1 = {'group':'A', 'purchase':[data_a['purchase'].sum()], 'viewing':[data_a['viewing'].sum()], 'purchase rate':[df_result['purchase rate'][0]]}\n",
        "df_ht = pd.DataFrame.from_dict(row1)\n",
        "row2 = pd.DataFrame({'group':'B','purchase':[data_b['purchase'].sum()], 'viewing':[data_b['viewing'].sum()], 'purchase rate':[df_result['purchase rate'][1]]})\n",
        "df_ht = pd.concat([df_ht, row2], ignore_index=True)\n",
        "df_ht"
      ]
    },
    {
      "cell_type": "markdown",
      "id": "9490a971",
      "metadata": {
        "id": "9490a971"
      },
      "source": [
        "Сформулируем нулевую и альтернативные гипотезы для метрики purchase rate и проведем тест."
      ]
    },
    {
      "cell_type": "code",
      "execution_count": 86,
      "id": "06c4db4d",
      "metadata": {
        "id": "06c4db4d"
      },
      "outputs": [],
      "source": [
        "H0 = 'purchase rate в группах А и B равны'\n",
        "H1 = 'purchase rate в группе А меньше, чем purchase rate в группе B'"
      ]
    },
    {
      "cell_type": "code",
      "execution_count": 87,
      "id": "85c43cf9",
      "metadata": {
        "id": "85c43cf9",
        "outputId": "51316970-b5a7-4095-c32e-54a9aafb9765",
        "colab": {
          "base_uri": "https://localhost:8080/"
        }
      },
      "outputs": [
        {
          "output_type": "stream",
          "name": "stdout",
          "text": [
            "p-value:  0.0\n",
            "Отвергаем нулевую гипотезу. (purchase rate в группах А и B равны)\n",
            "Альтернативная гипотеза. H1: purchase rate в группе А меньше, чем purchase rate в группе B\n"
          ]
        }
      ],
      "source": [
        "# Вычисляем значение p-value для z-теста для пропорций\n",
        "_, p_value = proportions_ztest(\n",
        "    count=df_ht['purchase'], #число покупок\n",
        "    nobs=df_ht['viewing'], #общее число наблюдений\n",
        "    alternative='smaller',\n",
        ")\n",
        "print('p-value: ', p_value)\n",
        "\n",
        "# Cравниваем полученное p-value с уровнем значимости\n",
        "if (p_value < alpha):\n",
        "    print(\"Отвергаем нулевую гипотезу. ({})\".format(H0))\n",
        "    print(\"Альтернативная гипотеза. H1: {}\".format(H1))\n",
        "else:\n",
        "    print(\"Принимаем нулевую гипотезу. {}\".format(H0))"
      ]
    },
    {
      "cell_type": "markdown",
      "id": "ca4d1e37",
      "metadata": {
        "id": "ca4d1e37"
      },
      "source": [
        "Подтвердили, что *purchase rate* в *А-группе* меньше чем в *B-группе* и эта разница имеет статистическую значимость.\n",
        "\n",
        "**2.3.3. Тест по метрике *gmv***\n",
        "\n",
        "Для метрики *gmv*, основанной на признаке *item_sum*, так же как и ранее воспользуемся критерием Манна-Уитни или U-тестом.\n",
        "\n",
        "Сформулируем нулевую и альтернативные гипотезы для метрики *gmv* и проведем тест."
      ]
    },
    {
      "cell_type": "code",
      "execution_count": 88,
      "id": "ec2e7b66",
      "metadata": {
        "id": "ec2e7b66"
      },
      "outputs": [],
      "source": [
        "H0 = 'gmv в группах А и B равны'\n",
        "H1 = 'gmv в группе А меньше, чем gmv в группе B'"
      ]
    },
    {
      "cell_type": "code",
      "execution_count": 89,
      "id": "25c3d2a4",
      "metadata": {
        "id": "25c3d2a4",
        "outputId": "173191a6-168b-4bb6-e2ea-2f8e803135a4",
        "colab": {
          "base_uri": "https://localhost:8080/"
        }
      },
      "outputs": [
        {
          "output_type": "stream",
          "name": "stdout",
          "text": [
            "p-value:  0.0\n",
            "Отвергаем нулевую гипотезу. (gmv в группах А и B равны)\n",
            "Альтернативная гипотеза. H1: gmv в группе А меньше, чем gmv в группе B\n"
          ]
        }
      ],
      "source": [
        "# Вычисляем значение p-value для U-теста\n",
        "_, p = mannwhitneyu(data_a['item_sum'],\n",
        "                    data_b['item_sum'],\n",
        "                    alternative='less')\n",
        "print('p-value: ', p_value)\n",
        "\n",
        "# Cравниваем полученное p-value с уровнем значимости\n",
        "if (p_value < alpha):\n",
        "    print(\"Отвергаем нулевую гипотезу. ({})\".format(H0))\n",
        "    print(\"Альтернативная гипотеза. H1: {}\".format(H1))\n",
        "else:\n",
        "    print(\"Принимаем нулевую гипотезу. {}\".format(H0))"
      ]
    },
    {
      "cell_type": "markdown",
      "id": "c5b7d81b",
      "metadata": {
        "id": "c5b7d81b"
      },
      "source": [
        "Подтвердили, что *gmv* в *А-группе* меньше чем в *B-группе* и эта разница имеет статистическую значимость."
      ]
    },
    {
      "cell_type": "markdown",
      "id": "9fea2815",
      "metadata": {
        "id": "9fea2815"
      },
      "source": [
        "**Выводы по А/B-тесту.** Проведенные статистические тесты равенства долей для *A* и *B* групп подтвердили результаты расчета численных значений метрик о том, что по всем покупательным метрикам в *B-группе* значения выше, чем в *А* группе. Нам известно, что на *В-группе* проверялся улучшенный алгоритм, который должен был улучшить работу всего маркетплейса. Улучшение параметров ключевых метрик в *В-группе* подтверждается статистической значимостью проведенных тестов."
      ]
    },
    {
      "cell_type": "markdown",
      "id": "00c343fb",
      "metadata": {
        "id": "00c343fb"
      },
      "source": [
        "**3. Выводы по проекту**\n",
        "\n",
        "1. В результате анализа данных по *А/А(С)-тесту* выяснено, что условия проведения теста требуют дополнительных исследований и уточнений, т.к. обнаружена статистически значимая разница при сравнении результатов *А-группы* и *С-группы*, которые работали на одной и той же версии маркплейса без улучшений. Предположительно, необходимо изучить различия групп пользователей в этих выборках, какие товары они покупали, а также проверить другие факторы, которые могли повлиять на значимое различие в покупках этих групп.\n",
        "2. В результате анализа данных по *А/В-тесту* можно сделать заключение, что использование нового алгоритма в работе маркетплейса привело к значительному увеличению продаж (в 2 раза), а это, в свою очередь, означает, что нововведение привело к улучшению работы маркетплейса в целом. Данное заключение можно сделать, не смотря на первый вывод (необходима доработка алгоритма проведения теста), т.к. произошло серьезное улучшение продажных метрик, значительно перекрывающее отклонения, возникшие из-за недоработок условия проведения тестов.\n",
        "3. Так же, необходимо отметить, что при внедрении нового алгоритма в маркетплейсе конечные пользователи начали делать больше покупок (операция *purchase*) минуя операцию более детального просмотра информации по товару (операция *click*). Возможно, новый алгоритм улучшения связан с большей информационной насыщенностью по товару при просмотре товаров (операция *viewing*)."
      ]
    },
    {
      "cell_type": "code",
      "execution_count": null,
      "id": "192dac35",
      "metadata": {
        "id": "192dac35"
      },
      "outputs": [],
      "source": []
    }
  ],
  "metadata": {
    "kernelspec": {
      "display_name": "Python 3 (ipykernel)",
      "language": "python",
      "name": "python3"
    },
    "language_info": {
      "codemirror_mode": {
        "name": "ipython",
        "version": 3
      },
      "file_extension": ".py",
      "mimetype": "text/x-python",
      "name": "python",
      "nbconvert_exporter": "python",
      "pygments_lexer": "ipython3",
      "version": "3.9.7"
    },
    "colab": {
      "provenance": []
    }
  },
  "nbformat": 4,
  "nbformat_minor": 5
}